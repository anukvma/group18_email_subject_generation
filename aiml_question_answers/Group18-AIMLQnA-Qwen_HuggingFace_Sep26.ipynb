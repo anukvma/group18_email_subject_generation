{
  "nbformat": 4,
  "nbformat_minor": 0,
  "metadata": {
    "colab": {
      "provenance": [],
      "collapsed_sections": [
        "sFKWZ_YvADqW",
        "Z6PcXfcIqBRa",
        "E_udo6ttXUGv",
        "djZ4U5eg9HKT",
        "NJNqySXvZDHU",
        "OeyeXWbeZDHV",
        "W4Sp4Gm2l_mg",
        "vIHIavaLl_mh",
        "IICVGq3Z8mYk",
        "DgfiKvLWAxzS",
        "Ve-HlxI0-IzY",
        "R4dZbIRjb9iU",
        "9qVTrT2mw1W_",
        "0fwxrkOl9tft",
        "wG4owdcJqVbH",
        "qyK09mYKALFU"
      ],
      "gpuType": "A100"
    },
    "kernelspec": {
      "name": "python3",
      "display_name": "Python 3"
    },
    "language_info": {
      "name": "python"
    },
    "widgets": {
      "application/vnd.jupyter.widget-state+json": {
        "e7bc3438a6324fd3896f18fc9df7b160": {
          "model_module": "@jupyter-widgets/controls",
          "model_name": "HBoxModel",
          "model_module_version": "1.5.0",
          "state": {
            "_dom_classes": [],
            "_model_module": "@jupyter-widgets/controls",
            "_model_module_version": "1.5.0",
            "_model_name": "HBoxModel",
            "_view_count": null,
            "_view_module": "@jupyter-widgets/controls",
            "_view_module_version": "1.5.0",
            "_view_name": "HBoxView",
            "box_style": "",
            "children": [
              "IPY_MODEL_222e7118771f4694bb82166b9d882cff",
              "IPY_MODEL_2b74927520b64f6da3de4a47ac377575",
              "IPY_MODEL_0688045d1b1844d0b31ce2498f2af92b"
            ],
            "layout": "IPY_MODEL_4dc5fdd0b4b948c2a6e3024c02da4a75"
          }
        },
        "222e7118771f4694bb82166b9d882cff": {
          "model_module": "@jupyter-widgets/controls",
          "model_name": "HTMLModel",
          "model_module_version": "1.5.0",
          "state": {
            "_dom_classes": [],
            "_model_module": "@jupyter-widgets/controls",
            "_model_module_version": "1.5.0",
            "_model_name": "HTMLModel",
            "_view_count": null,
            "_view_module": "@jupyter-widgets/controls",
            "_view_module_version": "1.5.0",
            "_view_name": "HTMLView",
            "description": "",
            "description_tooltip": null,
            "layout": "IPY_MODEL_b4ae9c65241342e1a011bb754ac6abb5",
            "placeholder": "​",
            "style": "IPY_MODEL_dae15bd33a8b47e1b4f7a9e95b17a810",
            "value": "tokenizer_config.json: 100%"
          }
        },
        "2b74927520b64f6da3de4a47ac377575": {
          "model_module": "@jupyter-widgets/controls",
          "model_name": "FloatProgressModel",
          "model_module_version": "1.5.0",
          "state": {
            "_dom_classes": [],
            "_model_module": "@jupyter-widgets/controls",
            "_model_module_version": "1.5.0",
            "_model_name": "FloatProgressModel",
            "_view_count": null,
            "_view_module": "@jupyter-widgets/controls",
            "_view_module_version": "1.5.0",
            "_view_name": "ProgressView",
            "bar_style": "success",
            "description": "",
            "description_tooltip": null,
            "layout": "IPY_MODEL_b2fa80640c9741b2a03e5e322e07d10a",
            "max": 1289,
            "min": 0,
            "orientation": "horizontal",
            "style": "IPY_MODEL_590cd910f38c431faf316f571725557c",
            "value": 1289
          }
        },
        "0688045d1b1844d0b31ce2498f2af92b": {
          "model_module": "@jupyter-widgets/controls",
          "model_name": "HTMLModel",
          "model_module_version": "1.5.0",
          "state": {
            "_dom_classes": [],
            "_model_module": "@jupyter-widgets/controls",
            "_model_module_version": "1.5.0",
            "_model_name": "HTMLModel",
            "_view_count": null,
            "_view_module": "@jupyter-widgets/controls",
            "_view_module_version": "1.5.0",
            "_view_name": "HTMLView",
            "description": "",
            "description_tooltip": null,
            "layout": "IPY_MODEL_8ebd1f75d93d49f0b9bea6006196ece4",
            "placeholder": "​",
            "style": "IPY_MODEL_fdddbdf3ff4c49a597e560772272a2c4",
            "value": " 1.29k/1.29k [00:00&lt;00:00, 107kB/s]"
          }
        },
        "4dc5fdd0b4b948c2a6e3024c02da4a75": {
          "model_module": "@jupyter-widgets/base",
          "model_name": "LayoutModel",
          "model_module_version": "1.2.0",
          "state": {
            "_model_module": "@jupyter-widgets/base",
            "_model_module_version": "1.2.0",
            "_model_name": "LayoutModel",
            "_view_count": null,
            "_view_module": "@jupyter-widgets/base",
            "_view_module_version": "1.2.0",
            "_view_name": "LayoutView",
            "align_content": null,
            "align_items": null,
            "align_self": null,
            "border": null,
            "bottom": null,
            "display": null,
            "flex": null,
            "flex_flow": null,
            "grid_area": null,
            "grid_auto_columns": null,
            "grid_auto_flow": null,
            "grid_auto_rows": null,
            "grid_column": null,
            "grid_gap": null,
            "grid_row": null,
            "grid_template_areas": null,
            "grid_template_columns": null,
            "grid_template_rows": null,
            "height": null,
            "justify_content": null,
            "justify_items": null,
            "left": null,
            "margin": null,
            "max_height": null,
            "max_width": null,
            "min_height": null,
            "min_width": null,
            "object_fit": null,
            "object_position": null,
            "order": null,
            "overflow": null,
            "overflow_x": null,
            "overflow_y": null,
            "padding": null,
            "right": null,
            "top": null,
            "visibility": null,
            "width": null
          }
        },
        "b4ae9c65241342e1a011bb754ac6abb5": {
          "model_module": "@jupyter-widgets/base",
          "model_name": "LayoutModel",
          "model_module_version": "1.2.0",
          "state": {
            "_model_module": "@jupyter-widgets/base",
            "_model_module_version": "1.2.0",
            "_model_name": "LayoutModel",
            "_view_count": null,
            "_view_module": "@jupyter-widgets/base",
            "_view_module_version": "1.2.0",
            "_view_name": "LayoutView",
            "align_content": null,
            "align_items": null,
            "align_self": null,
            "border": null,
            "bottom": null,
            "display": null,
            "flex": null,
            "flex_flow": null,
            "grid_area": null,
            "grid_auto_columns": null,
            "grid_auto_flow": null,
            "grid_auto_rows": null,
            "grid_column": null,
            "grid_gap": null,
            "grid_row": null,
            "grid_template_areas": null,
            "grid_template_columns": null,
            "grid_template_rows": null,
            "height": null,
            "justify_content": null,
            "justify_items": null,
            "left": null,
            "margin": null,
            "max_height": null,
            "max_width": null,
            "min_height": null,
            "min_width": null,
            "object_fit": null,
            "object_position": null,
            "order": null,
            "overflow": null,
            "overflow_x": null,
            "overflow_y": null,
            "padding": null,
            "right": null,
            "top": null,
            "visibility": null,
            "width": null
          }
        },
        "dae15bd33a8b47e1b4f7a9e95b17a810": {
          "model_module": "@jupyter-widgets/controls",
          "model_name": "DescriptionStyleModel",
          "model_module_version": "1.5.0",
          "state": {
            "_model_module": "@jupyter-widgets/controls",
            "_model_module_version": "1.5.0",
            "_model_name": "DescriptionStyleModel",
            "_view_count": null,
            "_view_module": "@jupyter-widgets/base",
            "_view_module_version": "1.2.0",
            "_view_name": "StyleView",
            "description_width": ""
          }
        },
        "b2fa80640c9741b2a03e5e322e07d10a": {
          "model_module": "@jupyter-widgets/base",
          "model_name": "LayoutModel",
          "model_module_version": "1.2.0",
          "state": {
            "_model_module": "@jupyter-widgets/base",
            "_model_module_version": "1.2.0",
            "_model_name": "LayoutModel",
            "_view_count": null,
            "_view_module": "@jupyter-widgets/base",
            "_view_module_version": "1.2.0",
            "_view_name": "LayoutView",
            "align_content": null,
            "align_items": null,
            "align_self": null,
            "border": null,
            "bottom": null,
            "display": null,
            "flex": null,
            "flex_flow": null,
            "grid_area": null,
            "grid_auto_columns": null,
            "grid_auto_flow": null,
            "grid_auto_rows": null,
            "grid_column": null,
            "grid_gap": null,
            "grid_row": null,
            "grid_template_areas": null,
            "grid_template_columns": null,
            "grid_template_rows": null,
            "height": null,
            "justify_content": null,
            "justify_items": null,
            "left": null,
            "margin": null,
            "max_height": null,
            "max_width": null,
            "min_height": null,
            "min_width": null,
            "object_fit": null,
            "object_position": null,
            "order": null,
            "overflow": null,
            "overflow_x": null,
            "overflow_y": null,
            "padding": null,
            "right": null,
            "top": null,
            "visibility": null,
            "width": null
          }
        },
        "590cd910f38c431faf316f571725557c": {
          "model_module": "@jupyter-widgets/controls",
          "model_name": "ProgressStyleModel",
          "model_module_version": "1.5.0",
          "state": {
            "_model_module": "@jupyter-widgets/controls",
            "_model_module_version": "1.5.0",
            "_model_name": "ProgressStyleModel",
            "_view_count": null,
            "_view_module": "@jupyter-widgets/base",
            "_view_module_version": "1.2.0",
            "_view_name": "StyleView",
            "bar_color": null,
            "description_width": ""
          }
        },
        "8ebd1f75d93d49f0b9bea6006196ece4": {
          "model_module": "@jupyter-widgets/base",
          "model_name": "LayoutModel",
          "model_module_version": "1.2.0",
          "state": {
            "_model_module": "@jupyter-widgets/base",
            "_model_module_version": "1.2.0",
            "_model_name": "LayoutModel",
            "_view_count": null,
            "_view_module": "@jupyter-widgets/base",
            "_view_module_version": "1.2.0",
            "_view_name": "LayoutView",
            "align_content": null,
            "align_items": null,
            "align_self": null,
            "border": null,
            "bottom": null,
            "display": null,
            "flex": null,
            "flex_flow": null,
            "grid_area": null,
            "grid_auto_columns": null,
            "grid_auto_flow": null,
            "grid_auto_rows": null,
            "grid_column": null,
            "grid_gap": null,
            "grid_row": null,
            "grid_template_areas": null,
            "grid_template_columns": null,
            "grid_template_rows": null,
            "height": null,
            "justify_content": null,
            "justify_items": null,
            "left": null,
            "margin": null,
            "max_height": null,
            "max_width": null,
            "min_height": null,
            "min_width": null,
            "object_fit": null,
            "object_position": null,
            "order": null,
            "overflow": null,
            "overflow_x": null,
            "overflow_y": null,
            "padding": null,
            "right": null,
            "top": null,
            "visibility": null,
            "width": null
          }
        },
        "fdddbdf3ff4c49a597e560772272a2c4": {
          "model_module": "@jupyter-widgets/controls",
          "model_name": "DescriptionStyleModel",
          "model_module_version": "1.5.0",
          "state": {
            "_model_module": "@jupyter-widgets/controls",
            "_model_module_version": "1.5.0",
            "_model_name": "DescriptionStyleModel",
            "_view_count": null,
            "_view_module": "@jupyter-widgets/base",
            "_view_module_version": "1.2.0",
            "_view_name": "StyleView",
            "description_width": ""
          }
        },
        "16c346b531bb42b1b0b95cad32c1bb40": {
          "model_module": "@jupyter-widgets/controls",
          "model_name": "HBoxModel",
          "model_module_version": "1.5.0",
          "state": {
            "_dom_classes": [],
            "_model_module": "@jupyter-widgets/controls",
            "_model_module_version": "1.5.0",
            "_model_name": "HBoxModel",
            "_view_count": null,
            "_view_module": "@jupyter-widgets/controls",
            "_view_module_version": "1.5.0",
            "_view_name": "HBoxView",
            "box_style": "",
            "children": [
              "IPY_MODEL_c4b67caf50d0457889ac9e7a5f426cb4",
              "IPY_MODEL_658b91a531bd4c47b4df242f04564c2c",
              "IPY_MODEL_7cec374f5c4d4860b0306a95e2ccca2c"
            ],
            "layout": "IPY_MODEL_cf79a41fea7941049d6c4303929c953a"
          }
        },
        "c4b67caf50d0457889ac9e7a5f426cb4": {
          "model_module": "@jupyter-widgets/controls",
          "model_name": "HTMLModel",
          "model_module_version": "1.5.0",
          "state": {
            "_dom_classes": [],
            "_model_module": "@jupyter-widgets/controls",
            "_model_module_version": "1.5.0",
            "_model_name": "HTMLModel",
            "_view_count": null,
            "_view_module": "@jupyter-widgets/controls",
            "_view_module_version": "1.5.0",
            "_view_name": "HTMLView",
            "description": "",
            "description_tooltip": null,
            "layout": "IPY_MODEL_da0a04d5409044fcacb543916da555c3",
            "placeholder": "​",
            "style": "IPY_MODEL_98edcb57b1db458c89cc593f93033c67",
            "value": "vocab.json: 100%"
          }
        },
        "658b91a531bd4c47b4df242f04564c2c": {
          "model_module": "@jupyter-widgets/controls",
          "model_name": "FloatProgressModel",
          "model_module_version": "1.5.0",
          "state": {
            "_dom_classes": [],
            "_model_module": "@jupyter-widgets/controls",
            "_model_module_version": "1.5.0",
            "_model_name": "FloatProgressModel",
            "_view_count": null,
            "_view_module": "@jupyter-widgets/controls",
            "_view_module_version": "1.5.0",
            "_view_name": "ProgressView",
            "bar_style": "success",
            "description": "",
            "description_tooltip": null,
            "layout": "IPY_MODEL_11466f78965a4daf831024b0aea39333",
            "max": 2776833,
            "min": 0,
            "orientation": "horizontal",
            "style": "IPY_MODEL_9909e5e2cb6b491ebc696ce35da11f09",
            "value": 2776833
          }
        },
        "7cec374f5c4d4860b0306a95e2ccca2c": {
          "model_module": "@jupyter-widgets/controls",
          "model_name": "HTMLModel",
          "model_module_version": "1.5.0",
          "state": {
            "_dom_classes": [],
            "_model_module": "@jupyter-widgets/controls",
            "_model_module_version": "1.5.0",
            "_model_name": "HTMLModel",
            "_view_count": null,
            "_view_module": "@jupyter-widgets/controls",
            "_view_module_version": "1.5.0",
            "_view_name": "HTMLView",
            "description": "",
            "description_tooltip": null,
            "layout": "IPY_MODEL_ed4ca2171c36418a9b7cef484ae48eb0",
            "placeholder": "​",
            "style": "IPY_MODEL_5b4b4789bae34d4fba1ad1e9391abeb4",
            "value": " 2.78M/2.78M [00:00&lt;00:00, 5.50MB/s]"
          }
        },
        "cf79a41fea7941049d6c4303929c953a": {
          "model_module": "@jupyter-widgets/base",
          "model_name": "LayoutModel",
          "model_module_version": "1.2.0",
          "state": {
            "_model_module": "@jupyter-widgets/base",
            "_model_module_version": "1.2.0",
            "_model_name": "LayoutModel",
            "_view_count": null,
            "_view_module": "@jupyter-widgets/base",
            "_view_module_version": "1.2.0",
            "_view_name": "LayoutView",
            "align_content": null,
            "align_items": null,
            "align_self": null,
            "border": null,
            "bottom": null,
            "display": null,
            "flex": null,
            "flex_flow": null,
            "grid_area": null,
            "grid_auto_columns": null,
            "grid_auto_flow": null,
            "grid_auto_rows": null,
            "grid_column": null,
            "grid_gap": null,
            "grid_row": null,
            "grid_template_areas": null,
            "grid_template_columns": null,
            "grid_template_rows": null,
            "height": null,
            "justify_content": null,
            "justify_items": null,
            "left": null,
            "margin": null,
            "max_height": null,
            "max_width": null,
            "min_height": null,
            "min_width": null,
            "object_fit": null,
            "object_position": null,
            "order": null,
            "overflow": null,
            "overflow_x": null,
            "overflow_y": null,
            "padding": null,
            "right": null,
            "top": null,
            "visibility": null,
            "width": null
          }
        },
        "da0a04d5409044fcacb543916da555c3": {
          "model_module": "@jupyter-widgets/base",
          "model_name": "LayoutModel",
          "model_module_version": "1.2.0",
          "state": {
            "_model_module": "@jupyter-widgets/base",
            "_model_module_version": "1.2.0",
            "_model_name": "LayoutModel",
            "_view_count": null,
            "_view_module": "@jupyter-widgets/base",
            "_view_module_version": "1.2.0",
            "_view_name": "LayoutView",
            "align_content": null,
            "align_items": null,
            "align_self": null,
            "border": null,
            "bottom": null,
            "display": null,
            "flex": null,
            "flex_flow": null,
            "grid_area": null,
            "grid_auto_columns": null,
            "grid_auto_flow": null,
            "grid_auto_rows": null,
            "grid_column": null,
            "grid_gap": null,
            "grid_row": null,
            "grid_template_areas": null,
            "grid_template_columns": null,
            "grid_template_rows": null,
            "height": null,
            "justify_content": null,
            "justify_items": null,
            "left": null,
            "margin": null,
            "max_height": null,
            "max_width": null,
            "min_height": null,
            "min_width": null,
            "object_fit": null,
            "object_position": null,
            "order": null,
            "overflow": null,
            "overflow_x": null,
            "overflow_y": null,
            "padding": null,
            "right": null,
            "top": null,
            "visibility": null,
            "width": null
          }
        },
        "98edcb57b1db458c89cc593f93033c67": {
          "model_module": "@jupyter-widgets/controls",
          "model_name": "DescriptionStyleModel",
          "model_module_version": "1.5.0",
          "state": {
            "_model_module": "@jupyter-widgets/controls",
            "_model_module_version": "1.5.0",
            "_model_name": "DescriptionStyleModel",
            "_view_count": null,
            "_view_module": "@jupyter-widgets/base",
            "_view_module_version": "1.2.0",
            "_view_name": "StyleView",
            "description_width": ""
          }
        },
        "11466f78965a4daf831024b0aea39333": {
          "model_module": "@jupyter-widgets/base",
          "model_name": "LayoutModel",
          "model_module_version": "1.2.0",
          "state": {
            "_model_module": "@jupyter-widgets/base",
            "_model_module_version": "1.2.0",
            "_model_name": "LayoutModel",
            "_view_count": null,
            "_view_module": "@jupyter-widgets/base",
            "_view_module_version": "1.2.0",
            "_view_name": "LayoutView",
            "align_content": null,
            "align_items": null,
            "align_self": null,
            "border": null,
            "bottom": null,
            "display": null,
            "flex": null,
            "flex_flow": null,
            "grid_area": null,
            "grid_auto_columns": null,
            "grid_auto_flow": null,
            "grid_auto_rows": null,
            "grid_column": null,
            "grid_gap": null,
            "grid_row": null,
            "grid_template_areas": null,
            "grid_template_columns": null,
            "grid_template_rows": null,
            "height": null,
            "justify_content": null,
            "justify_items": null,
            "left": null,
            "margin": null,
            "max_height": null,
            "max_width": null,
            "min_height": null,
            "min_width": null,
            "object_fit": null,
            "object_position": null,
            "order": null,
            "overflow": null,
            "overflow_x": null,
            "overflow_y": null,
            "padding": null,
            "right": null,
            "top": null,
            "visibility": null,
            "width": null
          }
        },
        "9909e5e2cb6b491ebc696ce35da11f09": {
          "model_module": "@jupyter-widgets/controls",
          "model_name": "ProgressStyleModel",
          "model_module_version": "1.5.0",
          "state": {
            "_model_module": "@jupyter-widgets/controls",
            "_model_module_version": "1.5.0",
            "_model_name": "ProgressStyleModel",
            "_view_count": null,
            "_view_module": "@jupyter-widgets/base",
            "_view_module_version": "1.2.0",
            "_view_name": "StyleView",
            "bar_color": null,
            "description_width": ""
          }
        },
        "ed4ca2171c36418a9b7cef484ae48eb0": {
          "model_module": "@jupyter-widgets/base",
          "model_name": "LayoutModel",
          "model_module_version": "1.2.0",
          "state": {
            "_model_module": "@jupyter-widgets/base",
            "_model_module_version": "1.2.0",
            "_model_name": "LayoutModel",
            "_view_count": null,
            "_view_module": "@jupyter-widgets/base",
            "_view_module_version": "1.2.0",
            "_view_name": "LayoutView",
            "align_content": null,
            "align_items": null,
            "align_self": null,
            "border": null,
            "bottom": null,
            "display": null,
            "flex": null,
            "flex_flow": null,
            "grid_area": null,
            "grid_auto_columns": null,
            "grid_auto_flow": null,
            "grid_auto_rows": null,
            "grid_column": null,
            "grid_gap": null,
            "grid_row": null,
            "grid_template_areas": null,
            "grid_template_columns": null,
            "grid_template_rows": null,
            "height": null,
            "justify_content": null,
            "justify_items": null,
            "left": null,
            "margin": null,
            "max_height": null,
            "max_width": null,
            "min_height": null,
            "min_width": null,
            "object_fit": null,
            "object_position": null,
            "order": null,
            "overflow": null,
            "overflow_x": null,
            "overflow_y": null,
            "padding": null,
            "right": null,
            "top": null,
            "visibility": null,
            "width": null
          }
        },
        "5b4b4789bae34d4fba1ad1e9391abeb4": {
          "model_module": "@jupyter-widgets/controls",
          "model_name": "DescriptionStyleModel",
          "model_module_version": "1.5.0",
          "state": {
            "_model_module": "@jupyter-widgets/controls",
            "_model_module_version": "1.5.0",
            "_model_name": "DescriptionStyleModel",
            "_view_count": null,
            "_view_module": "@jupyter-widgets/base",
            "_view_module_version": "1.2.0",
            "_view_name": "StyleView",
            "description_width": ""
          }
        },
        "a1a3f8221fd14434acb6fc6313776af2": {
          "model_module": "@jupyter-widgets/controls",
          "model_name": "HBoxModel",
          "model_module_version": "1.5.0",
          "state": {
            "_dom_classes": [],
            "_model_module": "@jupyter-widgets/controls",
            "_model_module_version": "1.5.0",
            "_model_name": "HBoxModel",
            "_view_count": null,
            "_view_module": "@jupyter-widgets/controls",
            "_view_module_version": "1.5.0",
            "_view_name": "HBoxView",
            "box_style": "",
            "children": [
              "IPY_MODEL_466533d442d246eeb0aaed266c96e81c",
              "IPY_MODEL_1cd7a7e4083648489efceee9e1ed6804",
              "IPY_MODEL_512758f80be54dda929a8d50aa926948"
            ],
            "layout": "IPY_MODEL_3e064d9dc39844ca9b9596a2d5c29d12"
          }
        },
        "466533d442d246eeb0aaed266c96e81c": {
          "model_module": "@jupyter-widgets/controls",
          "model_name": "HTMLModel",
          "model_module_version": "1.5.0",
          "state": {
            "_dom_classes": [],
            "_model_module": "@jupyter-widgets/controls",
            "_model_module_version": "1.5.0",
            "_model_name": "HTMLModel",
            "_view_count": null,
            "_view_module": "@jupyter-widgets/controls",
            "_view_module_version": "1.5.0",
            "_view_name": "HTMLView",
            "description": "",
            "description_tooltip": null,
            "layout": "IPY_MODEL_ae9bbc6069144f00b7d5df7b7f8a6736",
            "placeholder": "​",
            "style": "IPY_MODEL_fd0bc9a79e7d49a7a4aa635a2bc0e941",
            "value": "merges.txt: 100%"
          }
        },
        "1cd7a7e4083648489efceee9e1ed6804": {
          "model_module": "@jupyter-widgets/controls",
          "model_name": "FloatProgressModel",
          "model_module_version": "1.5.0",
          "state": {
            "_dom_classes": [],
            "_model_module": "@jupyter-widgets/controls",
            "_model_module_version": "1.5.0",
            "_model_name": "FloatProgressModel",
            "_view_count": null,
            "_view_module": "@jupyter-widgets/controls",
            "_view_module_version": "1.5.0",
            "_view_name": "ProgressView",
            "bar_style": "success",
            "description": "",
            "description_tooltip": null,
            "layout": "IPY_MODEL_b4fd0926fd494e2abff1e4a6d479da06",
            "max": 1671839,
            "min": 0,
            "orientation": "horizontal",
            "style": "IPY_MODEL_aca6dc6d409a46638b456dc039050518",
            "value": 1671839
          }
        },
        "512758f80be54dda929a8d50aa926948": {
          "model_module": "@jupyter-widgets/controls",
          "model_name": "HTMLModel",
          "model_module_version": "1.5.0",
          "state": {
            "_dom_classes": [],
            "_model_module": "@jupyter-widgets/controls",
            "_model_module_version": "1.5.0",
            "_model_name": "HTMLModel",
            "_view_count": null,
            "_view_module": "@jupyter-widgets/controls",
            "_view_module_version": "1.5.0",
            "_view_name": "HTMLView",
            "description": "",
            "description_tooltip": null,
            "layout": "IPY_MODEL_21a59bccf1e74fac81445e12a9d4d70b",
            "placeholder": "​",
            "style": "IPY_MODEL_42ca01e3bab34b24b684724b1cbeb73d",
            "value": " 1.67M/1.67M [00:00&lt;00:00, 3.38MB/s]"
          }
        },
        "3e064d9dc39844ca9b9596a2d5c29d12": {
          "model_module": "@jupyter-widgets/base",
          "model_name": "LayoutModel",
          "model_module_version": "1.2.0",
          "state": {
            "_model_module": "@jupyter-widgets/base",
            "_model_module_version": "1.2.0",
            "_model_name": "LayoutModel",
            "_view_count": null,
            "_view_module": "@jupyter-widgets/base",
            "_view_module_version": "1.2.0",
            "_view_name": "LayoutView",
            "align_content": null,
            "align_items": null,
            "align_self": null,
            "border": null,
            "bottom": null,
            "display": null,
            "flex": null,
            "flex_flow": null,
            "grid_area": null,
            "grid_auto_columns": null,
            "grid_auto_flow": null,
            "grid_auto_rows": null,
            "grid_column": null,
            "grid_gap": null,
            "grid_row": null,
            "grid_template_areas": null,
            "grid_template_columns": null,
            "grid_template_rows": null,
            "height": null,
            "justify_content": null,
            "justify_items": null,
            "left": null,
            "margin": null,
            "max_height": null,
            "max_width": null,
            "min_height": null,
            "min_width": null,
            "object_fit": null,
            "object_position": null,
            "order": null,
            "overflow": null,
            "overflow_x": null,
            "overflow_y": null,
            "padding": null,
            "right": null,
            "top": null,
            "visibility": null,
            "width": null
          }
        },
        "ae9bbc6069144f00b7d5df7b7f8a6736": {
          "model_module": "@jupyter-widgets/base",
          "model_name": "LayoutModel",
          "model_module_version": "1.2.0",
          "state": {
            "_model_module": "@jupyter-widgets/base",
            "_model_module_version": "1.2.0",
            "_model_name": "LayoutModel",
            "_view_count": null,
            "_view_module": "@jupyter-widgets/base",
            "_view_module_version": "1.2.0",
            "_view_name": "LayoutView",
            "align_content": null,
            "align_items": null,
            "align_self": null,
            "border": null,
            "bottom": null,
            "display": null,
            "flex": null,
            "flex_flow": null,
            "grid_area": null,
            "grid_auto_columns": null,
            "grid_auto_flow": null,
            "grid_auto_rows": null,
            "grid_column": null,
            "grid_gap": null,
            "grid_row": null,
            "grid_template_areas": null,
            "grid_template_columns": null,
            "grid_template_rows": null,
            "height": null,
            "justify_content": null,
            "justify_items": null,
            "left": null,
            "margin": null,
            "max_height": null,
            "max_width": null,
            "min_height": null,
            "min_width": null,
            "object_fit": null,
            "object_position": null,
            "order": null,
            "overflow": null,
            "overflow_x": null,
            "overflow_y": null,
            "padding": null,
            "right": null,
            "top": null,
            "visibility": null,
            "width": null
          }
        },
        "fd0bc9a79e7d49a7a4aa635a2bc0e941": {
          "model_module": "@jupyter-widgets/controls",
          "model_name": "DescriptionStyleModel",
          "model_module_version": "1.5.0",
          "state": {
            "_model_module": "@jupyter-widgets/controls",
            "_model_module_version": "1.5.0",
            "_model_name": "DescriptionStyleModel",
            "_view_count": null,
            "_view_module": "@jupyter-widgets/base",
            "_view_module_version": "1.2.0",
            "_view_name": "StyleView",
            "description_width": ""
          }
        },
        "b4fd0926fd494e2abff1e4a6d479da06": {
          "model_module": "@jupyter-widgets/base",
          "model_name": "LayoutModel",
          "model_module_version": "1.2.0",
          "state": {
            "_model_module": "@jupyter-widgets/base",
            "_model_module_version": "1.2.0",
            "_model_name": "LayoutModel",
            "_view_count": null,
            "_view_module": "@jupyter-widgets/base",
            "_view_module_version": "1.2.0",
            "_view_name": "LayoutView",
            "align_content": null,
            "align_items": null,
            "align_self": null,
            "border": null,
            "bottom": null,
            "display": null,
            "flex": null,
            "flex_flow": null,
            "grid_area": null,
            "grid_auto_columns": null,
            "grid_auto_flow": null,
            "grid_auto_rows": null,
            "grid_column": null,
            "grid_gap": null,
            "grid_row": null,
            "grid_template_areas": null,
            "grid_template_columns": null,
            "grid_template_rows": null,
            "height": null,
            "justify_content": null,
            "justify_items": null,
            "left": null,
            "margin": null,
            "max_height": null,
            "max_width": null,
            "min_height": null,
            "min_width": null,
            "object_fit": null,
            "object_position": null,
            "order": null,
            "overflow": null,
            "overflow_x": null,
            "overflow_y": null,
            "padding": null,
            "right": null,
            "top": null,
            "visibility": null,
            "width": null
          }
        },
        "aca6dc6d409a46638b456dc039050518": {
          "model_module": "@jupyter-widgets/controls",
          "model_name": "ProgressStyleModel",
          "model_module_version": "1.5.0",
          "state": {
            "_model_module": "@jupyter-widgets/controls",
            "_model_module_version": "1.5.0",
            "_model_name": "ProgressStyleModel",
            "_view_count": null,
            "_view_module": "@jupyter-widgets/base",
            "_view_module_version": "1.2.0",
            "_view_name": "StyleView",
            "bar_color": null,
            "description_width": ""
          }
        },
        "21a59bccf1e74fac81445e12a9d4d70b": {
          "model_module": "@jupyter-widgets/base",
          "model_name": "LayoutModel",
          "model_module_version": "1.2.0",
          "state": {
            "_model_module": "@jupyter-widgets/base",
            "_model_module_version": "1.2.0",
            "_model_name": "LayoutModel",
            "_view_count": null,
            "_view_module": "@jupyter-widgets/base",
            "_view_module_version": "1.2.0",
            "_view_name": "LayoutView",
            "align_content": null,
            "align_items": null,
            "align_self": null,
            "border": null,
            "bottom": null,
            "display": null,
            "flex": null,
            "flex_flow": null,
            "grid_area": null,
            "grid_auto_columns": null,
            "grid_auto_flow": null,
            "grid_auto_rows": null,
            "grid_column": null,
            "grid_gap": null,
            "grid_row": null,
            "grid_template_areas": null,
            "grid_template_columns": null,
            "grid_template_rows": null,
            "height": null,
            "justify_content": null,
            "justify_items": null,
            "left": null,
            "margin": null,
            "max_height": null,
            "max_width": null,
            "min_height": null,
            "min_width": null,
            "object_fit": null,
            "object_position": null,
            "order": null,
            "overflow": null,
            "overflow_x": null,
            "overflow_y": null,
            "padding": null,
            "right": null,
            "top": null,
            "visibility": null,
            "width": null
          }
        },
        "42ca01e3bab34b24b684724b1cbeb73d": {
          "model_module": "@jupyter-widgets/controls",
          "model_name": "DescriptionStyleModel",
          "model_module_version": "1.5.0",
          "state": {
            "_model_module": "@jupyter-widgets/controls",
            "_model_module_version": "1.5.0",
            "_model_name": "DescriptionStyleModel",
            "_view_count": null,
            "_view_module": "@jupyter-widgets/base",
            "_view_module_version": "1.2.0",
            "_view_name": "StyleView",
            "description_width": ""
          }
        },
        "adacb5d2ff754a20bc29f700e5dc3582": {
          "model_module": "@jupyter-widgets/controls",
          "model_name": "HBoxModel",
          "model_module_version": "1.5.0",
          "state": {
            "_dom_classes": [],
            "_model_module": "@jupyter-widgets/controls",
            "_model_module_version": "1.5.0",
            "_model_name": "HBoxModel",
            "_view_count": null,
            "_view_module": "@jupyter-widgets/controls",
            "_view_module_version": "1.5.0",
            "_view_name": "HBoxView",
            "box_style": "",
            "children": [
              "IPY_MODEL_a6dbe6da1c304cb780a0caf577bd2843",
              "IPY_MODEL_f92995636d004991a8f10169cf5145cb",
              "IPY_MODEL_b460de581b124c61b7e277a1ef8e91d9"
            ],
            "layout": "IPY_MODEL_73ad8479b6d34dc29f46b7f636be26a0"
          }
        },
        "a6dbe6da1c304cb780a0caf577bd2843": {
          "model_module": "@jupyter-widgets/controls",
          "model_name": "HTMLModel",
          "model_module_version": "1.5.0",
          "state": {
            "_dom_classes": [],
            "_model_module": "@jupyter-widgets/controls",
            "_model_module_version": "1.5.0",
            "_model_name": "HTMLModel",
            "_view_count": null,
            "_view_module": "@jupyter-widgets/controls",
            "_view_module_version": "1.5.0",
            "_view_name": "HTMLView",
            "description": "",
            "description_tooltip": null,
            "layout": "IPY_MODEL_6f514a517056463b858e9a5678f62ce0",
            "placeholder": "​",
            "style": "IPY_MODEL_e116c932b968464d96e45589e88301dc",
            "value": "tokenizer.json: 100%"
          }
        },
        "f92995636d004991a8f10169cf5145cb": {
          "model_module": "@jupyter-widgets/controls",
          "model_name": "FloatProgressModel",
          "model_module_version": "1.5.0",
          "state": {
            "_dom_classes": [],
            "_model_module": "@jupyter-widgets/controls",
            "_model_module_version": "1.5.0",
            "_model_name": "FloatProgressModel",
            "_view_count": null,
            "_view_module": "@jupyter-widgets/controls",
            "_view_module_version": "1.5.0",
            "_view_name": "ProgressView",
            "bar_style": "success",
            "description": "",
            "description_tooltip": null,
            "layout": "IPY_MODEL_c7d453ed9f124f069e39787389be4b15",
            "max": 7028015,
            "min": 0,
            "orientation": "horizontal",
            "style": "IPY_MODEL_062cef9eb8d548c1b8b0d8a56d13c80c",
            "value": 7028015
          }
        },
        "b460de581b124c61b7e277a1ef8e91d9": {
          "model_module": "@jupyter-widgets/controls",
          "model_name": "HTMLModel",
          "model_module_version": "1.5.0",
          "state": {
            "_dom_classes": [],
            "_model_module": "@jupyter-widgets/controls",
            "_model_module_version": "1.5.0",
            "_model_name": "HTMLModel",
            "_view_count": null,
            "_view_module": "@jupyter-widgets/controls",
            "_view_module_version": "1.5.0",
            "_view_name": "HTMLView",
            "description": "",
            "description_tooltip": null,
            "layout": "IPY_MODEL_61fa9b2accd84cb68f47a38a2b038f4d",
            "placeholder": "​",
            "style": "IPY_MODEL_5de97acc2913439190c07c6528bdcf41",
            "value": " 7.03M/7.03M [00:03&lt;00:00, 2.04MB/s]"
          }
        },
        "73ad8479b6d34dc29f46b7f636be26a0": {
          "model_module": "@jupyter-widgets/base",
          "model_name": "LayoutModel",
          "model_module_version": "1.2.0",
          "state": {
            "_model_module": "@jupyter-widgets/base",
            "_model_module_version": "1.2.0",
            "_model_name": "LayoutModel",
            "_view_count": null,
            "_view_module": "@jupyter-widgets/base",
            "_view_module_version": "1.2.0",
            "_view_name": "LayoutView",
            "align_content": null,
            "align_items": null,
            "align_self": null,
            "border": null,
            "bottom": null,
            "display": null,
            "flex": null,
            "flex_flow": null,
            "grid_area": null,
            "grid_auto_columns": null,
            "grid_auto_flow": null,
            "grid_auto_rows": null,
            "grid_column": null,
            "grid_gap": null,
            "grid_row": null,
            "grid_template_areas": null,
            "grid_template_columns": null,
            "grid_template_rows": null,
            "height": null,
            "justify_content": null,
            "justify_items": null,
            "left": null,
            "margin": null,
            "max_height": null,
            "max_width": null,
            "min_height": null,
            "min_width": null,
            "object_fit": null,
            "object_position": null,
            "order": null,
            "overflow": null,
            "overflow_x": null,
            "overflow_y": null,
            "padding": null,
            "right": null,
            "top": null,
            "visibility": null,
            "width": null
          }
        },
        "6f514a517056463b858e9a5678f62ce0": {
          "model_module": "@jupyter-widgets/base",
          "model_name": "LayoutModel",
          "model_module_version": "1.2.0",
          "state": {
            "_model_module": "@jupyter-widgets/base",
            "_model_module_version": "1.2.0",
            "_model_name": "LayoutModel",
            "_view_count": null,
            "_view_module": "@jupyter-widgets/base",
            "_view_module_version": "1.2.0",
            "_view_name": "LayoutView",
            "align_content": null,
            "align_items": null,
            "align_self": null,
            "border": null,
            "bottom": null,
            "display": null,
            "flex": null,
            "flex_flow": null,
            "grid_area": null,
            "grid_auto_columns": null,
            "grid_auto_flow": null,
            "grid_auto_rows": null,
            "grid_column": null,
            "grid_gap": null,
            "grid_row": null,
            "grid_template_areas": null,
            "grid_template_columns": null,
            "grid_template_rows": null,
            "height": null,
            "justify_content": null,
            "justify_items": null,
            "left": null,
            "margin": null,
            "max_height": null,
            "max_width": null,
            "min_height": null,
            "min_width": null,
            "object_fit": null,
            "object_position": null,
            "order": null,
            "overflow": null,
            "overflow_x": null,
            "overflow_y": null,
            "padding": null,
            "right": null,
            "top": null,
            "visibility": null,
            "width": null
          }
        },
        "e116c932b968464d96e45589e88301dc": {
          "model_module": "@jupyter-widgets/controls",
          "model_name": "DescriptionStyleModel",
          "model_module_version": "1.5.0",
          "state": {
            "_model_module": "@jupyter-widgets/controls",
            "_model_module_version": "1.5.0",
            "_model_name": "DescriptionStyleModel",
            "_view_count": null,
            "_view_module": "@jupyter-widgets/base",
            "_view_module_version": "1.2.0",
            "_view_name": "StyleView",
            "description_width": ""
          }
        },
        "c7d453ed9f124f069e39787389be4b15": {
          "model_module": "@jupyter-widgets/base",
          "model_name": "LayoutModel",
          "model_module_version": "1.2.0",
          "state": {
            "_model_module": "@jupyter-widgets/base",
            "_model_module_version": "1.2.0",
            "_model_name": "LayoutModel",
            "_view_count": null,
            "_view_module": "@jupyter-widgets/base",
            "_view_module_version": "1.2.0",
            "_view_name": "LayoutView",
            "align_content": null,
            "align_items": null,
            "align_self": null,
            "border": null,
            "bottom": null,
            "display": null,
            "flex": null,
            "flex_flow": null,
            "grid_area": null,
            "grid_auto_columns": null,
            "grid_auto_flow": null,
            "grid_auto_rows": null,
            "grid_column": null,
            "grid_gap": null,
            "grid_row": null,
            "grid_template_areas": null,
            "grid_template_columns": null,
            "grid_template_rows": null,
            "height": null,
            "justify_content": null,
            "justify_items": null,
            "left": null,
            "margin": null,
            "max_height": null,
            "max_width": null,
            "min_height": null,
            "min_width": null,
            "object_fit": null,
            "object_position": null,
            "order": null,
            "overflow": null,
            "overflow_x": null,
            "overflow_y": null,
            "padding": null,
            "right": null,
            "top": null,
            "visibility": null,
            "width": null
          }
        },
        "062cef9eb8d548c1b8b0d8a56d13c80c": {
          "model_module": "@jupyter-widgets/controls",
          "model_name": "ProgressStyleModel",
          "model_module_version": "1.5.0",
          "state": {
            "_model_module": "@jupyter-widgets/controls",
            "_model_module_version": "1.5.0",
            "_model_name": "ProgressStyleModel",
            "_view_count": null,
            "_view_module": "@jupyter-widgets/base",
            "_view_module_version": "1.2.0",
            "_view_name": "StyleView",
            "bar_color": null,
            "description_width": ""
          }
        },
        "61fa9b2accd84cb68f47a38a2b038f4d": {
          "model_module": "@jupyter-widgets/base",
          "model_name": "LayoutModel",
          "model_module_version": "1.2.0",
          "state": {
            "_model_module": "@jupyter-widgets/base",
            "_model_module_version": "1.2.0",
            "_model_name": "LayoutModel",
            "_view_count": null,
            "_view_module": "@jupyter-widgets/base",
            "_view_module_version": "1.2.0",
            "_view_name": "LayoutView",
            "align_content": null,
            "align_items": null,
            "align_self": null,
            "border": null,
            "bottom": null,
            "display": null,
            "flex": null,
            "flex_flow": null,
            "grid_area": null,
            "grid_auto_columns": null,
            "grid_auto_flow": null,
            "grid_auto_rows": null,
            "grid_column": null,
            "grid_gap": null,
            "grid_row": null,
            "grid_template_areas": null,
            "grid_template_columns": null,
            "grid_template_rows": null,
            "height": null,
            "justify_content": null,
            "justify_items": null,
            "left": null,
            "margin": null,
            "max_height": null,
            "max_width": null,
            "min_height": null,
            "min_width": null,
            "object_fit": null,
            "object_position": null,
            "order": null,
            "overflow": null,
            "overflow_x": null,
            "overflow_y": null,
            "padding": null,
            "right": null,
            "top": null,
            "visibility": null,
            "width": null
          }
        },
        "5de97acc2913439190c07c6528bdcf41": {
          "model_module": "@jupyter-widgets/controls",
          "model_name": "DescriptionStyleModel",
          "model_module_version": "1.5.0",
          "state": {
            "_model_module": "@jupyter-widgets/controls",
            "_model_module_version": "1.5.0",
            "_model_name": "DescriptionStyleModel",
            "_view_count": null,
            "_view_module": "@jupyter-widgets/base",
            "_view_module_version": "1.2.0",
            "_view_name": "StyleView",
            "description_width": ""
          }
        },
        "ec2d3dcb4ed24d1ba1ba607ad674992a": {
          "model_module": "@jupyter-widgets/controls",
          "model_name": "HBoxModel",
          "model_module_version": "1.5.0",
          "state": {
            "_dom_classes": [],
            "_model_module": "@jupyter-widgets/controls",
            "_model_module_version": "1.5.0",
            "_model_name": "HBoxModel",
            "_view_count": null,
            "_view_module": "@jupyter-widgets/controls",
            "_view_module_version": "1.5.0",
            "_view_name": "HBoxView",
            "box_style": "",
            "children": [
              "IPY_MODEL_41a2ffd1467449efacabe2b9d95b7fc4",
              "IPY_MODEL_803a4e4ec4b440f0a3d24b8b0e90e421",
              "IPY_MODEL_07402b5d8a16406ebd6c5620bb292a11"
            ],
            "layout": "IPY_MODEL_3db0f87208f743fbaae8a368055cf437"
          }
        },
        "41a2ffd1467449efacabe2b9d95b7fc4": {
          "model_module": "@jupyter-widgets/controls",
          "model_name": "HTMLModel",
          "model_module_version": "1.5.0",
          "state": {
            "_dom_classes": [],
            "_model_module": "@jupyter-widgets/controls",
            "_model_module_version": "1.5.0",
            "_model_name": "HTMLModel",
            "_view_count": null,
            "_view_module": "@jupyter-widgets/controls",
            "_view_module_version": "1.5.0",
            "_view_name": "HTMLView",
            "description": "",
            "description_tooltip": null,
            "layout": "IPY_MODEL_6ba8861b04f548b99d25ddcfcd8a14f3",
            "placeholder": "​",
            "style": "IPY_MODEL_dd2f0b1bd07b4cfbb7ebc82b77ecbbf5",
            "value": "config.json: 100%"
          }
        },
        "803a4e4ec4b440f0a3d24b8b0e90e421": {
          "model_module": "@jupyter-widgets/controls",
          "model_name": "FloatProgressModel",
          "model_module_version": "1.5.0",
          "state": {
            "_dom_classes": [],
            "_model_module": "@jupyter-widgets/controls",
            "_model_module_version": "1.5.0",
            "_model_name": "FloatProgressModel",
            "_view_count": null,
            "_view_module": "@jupyter-widgets/controls",
            "_view_module_version": "1.5.0",
            "_view_name": "ProgressView",
            "bar_style": "success",
            "description": "",
            "description_tooltip": null,
            "layout": "IPY_MODEL_be4d0e7ec82d484cb20f037d709ceb14",
            "max": 661,
            "min": 0,
            "orientation": "horizontal",
            "style": "IPY_MODEL_33aa55c86f2641df9d1ed20d82e52a6a",
            "value": 661
          }
        },
        "07402b5d8a16406ebd6c5620bb292a11": {
          "model_module": "@jupyter-widgets/controls",
          "model_name": "HTMLModel",
          "model_module_version": "1.5.0",
          "state": {
            "_dom_classes": [],
            "_model_module": "@jupyter-widgets/controls",
            "_model_module_version": "1.5.0",
            "_model_name": "HTMLModel",
            "_view_count": null,
            "_view_module": "@jupyter-widgets/controls",
            "_view_module_version": "1.5.0",
            "_view_name": "HTMLView",
            "description": "",
            "description_tooltip": null,
            "layout": "IPY_MODEL_06f8e536330e4b1c99f940fde8a31b54",
            "placeholder": "​",
            "style": "IPY_MODEL_c43b430ba0634c60a93e2aac31952639",
            "value": " 661/661 [00:00&lt;00:00, 59.2kB/s]"
          }
        },
        "3db0f87208f743fbaae8a368055cf437": {
          "model_module": "@jupyter-widgets/base",
          "model_name": "LayoutModel",
          "model_module_version": "1.2.0",
          "state": {
            "_model_module": "@jupyter-widgets/base",
            "_model_module_version": "1.2.0",
            "_model_name": "LayoutModel",
            "_view_count": null,
            "_view_module": "@jupyter-widgets/base",
            "_view_module_version": "1.2.0",
            "_view_name": "LayoutView",
            "align_content": null,
            "align_items": null,
            "align_self": null,
            "border": null,
            "bottom": null,
            "display": null,
            "flex": null,
            "flex_flow": null,
            "grid_area": null,
            "grid_auto_columns": null,
            "grid_auto_flow": null,
            "grid_auto_rows": null,
            "grid_column": null,
            "grid_gap": null,
            "grid_row": null,
            "grid_template_areas": null,
            "grid_template_columns": null,
            "grid_template_rows": null,
            "height": null,
            "justify_content": null,
            "justify_items": null,
            "left": null,
            "margin": null,
            "max_height": null,
            "max_width": null,
            "min_height": null,
            "min_width": null,
            "object_fit": null,
            "object_position": null,
            "order": null,
            "overflow": null,
            "overflow_x": null,
            "overflow_y": null,
            "padding": null,
            "right": null,
            "top": null,
            "visibility": null,
            "width": null
          }
        },
        "6ba8861b04f548b99d25ddcfcd8a14f3": {
          "model_module": "@jupyter-widgets/base",
          "model_name": "LayoutModel",
          "model_module_version": "1.2.0",
          "state": {
            "_model_module": "@jupyter-widgets/base",
            "_model_module_version": "1.2.0",
            "_model_name": "LayoutModel",
            "_view_count": null,
            "_view_module": "@jupyter-widgets/base",
            "_view_module_version": "1.2.0",
            "_view_name": "LayoutView",
            "align_content": null,
            "align_items": null,
            "align_self": null,
            "border": null,
            "bottom": null,
            "display": null,
            "flex": null,
            "flex_flow": null,
            "grid_area": null,
            "grid_auto_columns": null,
            "grid_auto_flow": null,
            "grid_auto_rows": null,
            "grid_column": null,
            "grid_gap": null,
            "grid_row": null,
            "grid_template_areas": null,
            "grid_template_columns": null,
            "grid_template_rows": null,
            "height": null,
            "justify_content": null,
            "justify_items": null,
            "left": null,
            "margin": null,
            "max_height": null,
            "max_width": null,
            "min_height": null,
            "min_width": null,
            "object_fit": null,
            "object_position": null,
            "order": null,
            "overflow": null,
            "overflow_x": null,
            "overflow_y": null,
            "padding": null,
            "right": null,
            "top": null,
            "visibility": null,
            "width": null
          }
        },
        "dd2f0b1bd07b4cfbb7ebc82b77ecbbf5": {
          "model_module": "@jupyter-widgets/controls",
          "model_name": "DescriptionStyleModel",
          "model_module_version": "1.5.0",
          "state": {
            "_model_module": "@jupyter-widgets/controls",
            "_model_module_version": "1.5.0",
            "_model_name": "DescriptionStyleModel",
            "_view_count": null,
            "_view_module": "@jupyter-widgets/base",
            "_view_module_version": "1.2.0",
            "_view_name": "StyleView",
            "description_width": ""
          }
        },
        "be4d0e7ec82d484cb20f037d709ceb14": {
          "model_module": "@jupyter-widgets/base",
          "model_name": "LayoutModel",
          "model_module_version": "1.2.0",
          "state": {
            "_model_module": "@jupyter-widgets/base",
            "_model_module_version": "1.2.0",
            "_model_name": "LayoutModel",
            "_view_count": null,
            "_view_module": "@jupyter-widgets/base",
            "_view_module_version": "1.2.0",
            "_view_name": "LayoutView",
            "align_content": null,
            "align_items": null,
            "align_self": null,
            "border": null,
            "bottom": null,
            "display": null,
            "flex": null,
            "flex_flow": null,
            "grid_area": null,
            "grid_auto_columns": null,
            "grid_auto_flow": null,
            "grid_auto_rows": null,
            "grid_column": null,
            "grid_gap": null,
            "grid_row": null,
            "grid_template_areas": null,
            "grid_template_columns": null,
            "grid_template_rows": null,
            "height": null,
            "justify_content": null,
            "justify_items": null,
            "left": null,
            "margin": null,
            "max_height": null,
            "max_width": null,
            "min_height": null,
            "min_width": null,
            "object_fit": null,
            "object_position": null,
            "order": null,
            "overflow": null,
            "overflow_x": null,
            "overflow_y": null,
            "padding": null,
            "right": null,
            "top": null,
            "visibility": null,
            "width": null
          }
        },
        "33aa55c86f2641df9d1ed20d82e52a6a": {
          "model_module": "@jupyter-widgets/controls",
          "model_name": "ProgressStyleModel",
          "model_module_version": "1.5.0",
          "state": {
            "_model_module": "@jupyter-widgets/controls",
            "_model_module_version": "1.5.0",
            "_model_name": "ProgressStyleModel",
            "_view_count": null,
            "_view_module": "@jupyter-widgets/base",
            "_view_module_version": "1.2.0",
            "_view_name": "StyleView",
            "bar_color": null,
            "description_width": ""
          }
        },
        "06f8e536330e4b1c99f940fde8a31b54": {
          "model_module": "@jupyter-widgets/base",
          "model_name": "LayoutModel",
          "model_module_version": "1.2.0",
          "state": {
            "_model_module": "@jupyter-widgets/base",
            "_model_module_version": "1.2.0",
            "_model_name": "LayoutModel",
            "_view_count": null,
            "_view_module": "@jupyter-widgets/base",
            "_view_module_version": "1.2.0",
            "_view_name": "LayoutView",
            "align_content": null,
            "align_items": null,
            "align_self": null,
            "border": null,
            "bottom": null,
            "display": null,
            "flex": null,
            "flex_flow": null,
            "grid_area": null,
            "grid_auto_columns": null,
            "grid_auto_flow": null,
            "grid_auto_rows": null,
            "grid_column": null,
            "grid_gap": null,
            "grid_row": null,
            "grid_template_areas": null,
            "grid_template_columns": null,
            "grid_template_rows": null,
            "height": null,
            "justify_content": null,
            "justify_items": null,
            "left": null,
            "margin": null,
            "max_height": null,
            "max_width": null,
            "min_height": null,
            "min_width": null,
            "object_fit": null,
            "object_position": null,
            "order": null,
            "overflow": null,
            "overflow_x": null,
            "overflow_y": null,
            "padding": null,
            "right": null,
            "top": null,
            "visibility": null,
            "width": null
          }
        },
        "c43b430ba0634c60a93e2aac31952639": {
          "model_module": "@jupyter-widgets/controls",
          "model_name": "DescriptionStyleModel",
          "model_module_version": "1.5.0",
          "state": {
            "_model_module": "@jupyter-widgets/controls",
            "_model_module_version": "1.5.0",
            "_model_name": "DescriptionStyleModel",
            "_view_count": null,
            "_view_module": "@jupyter-widgets/base",
            "_view_module_version": "1.2.0",
            "_view_name": "StyleView",
            "description_width": ""
          }
        },
        "2fb9d9b196084d08b5ee2add454892b3": {
          "model_module": "@jupyter-widgets/controls",
          "model_name": "HBoxModel",
          "model_module_version": "1.5.0",
          "state": {
            "_dom_classes": [],
            "_model_module": "@jupyter-widgets/controls",
            "_model_module_version": "1.5.0",
            "_model_name": "HBoxModel",
            "_view_count": null,
            "_view_module": "@jupyter-widgets/controls",
            "_view_module_version": "1.5.0",
            "_view_name": "HBoxView",
            "box_style": "",
            "children": [
              "IPY_MODEL_b608062df8974feab753fee0557432d8",
              "IPY_MODEL_6f6470d081c7425496b0455164426a7e",
              "IPY_MODEL_fe33fc7ca0b84e649ce514d3f5bf2ddb"
            ],
            "layout": "IPY_MODEL_38fef248e68942ef9c774876f3e52ed5"
          }
        },
        "b608062df8974feab753fee0557432d8": {
          "model_module": "@jupyter-widgets/controls",
          "model_name": "HTMLModel",
          "model_module_version": "1.5.0",
          "state": {
            "_dom_classes": [],
            "_model_module": "@jupyter-widgets/controls",
            "_model_module_version": "1.5.0",
            "_model_name": "HTMLModel",
            "_view_count": null,
            "_view_module": "@jupyter-widgets/controls",
            "_view_module_version": "1.5.0",
            "_view_name": "HTMLView",
            "description": "",
            "description_tooltip": null,
            "layout": "IPY_MODEL_ed5e729bae3a4a408148703c9157c208",
            "placeholder": "​",
            "style": "IPY_MODEL_f77e3565ce494519bbec54c54840bde7",
            "value": "model.safetensors: 100%"
          }
        },
        "6f6470d081c7425496b0455164426a7e": {
          "model_module": "@jupyter-widgets/controls",
          "model_name": "FloatProgressModel",
          "model_module_version": "1.5.0",
          "state": {
            "_dom_classes": [],
            "_model_module": "@jupyter-widgets/controls",
            "_model_module_version": "1.5.0",
            "_model_name": "FloatProgressModel",
            "_view_count": null,
            "_view_module": "@jupyter-widgets/controls",
            "_view_module_version": "1.5.0",
            "_view_name": "ProgressView",
            "bar_style": "success",
            "description": "",
            "description_tooltip": null,
            "layout": "IPY_MODEL_1ad644ebae454212a7e290e64f462936",
            "max": 1239173352,
            "min": 0,
            "orientation": "horizontal",
            "style": "IPY_MODEL_eacd3dd99abb408f9eea000a89e50bd7",
            "value": 1239173352
          }
        },
        "fe33fc7ca0b84e649ce514d3f5bf2ddb": {
          "model_module": "@jupyter-widgets/controls",
          "model_name": "HTMLModel",
          "model_module_version": "1.5.0",
          "state": {
            "_dom_classes": [],
            "_model_module": "@jupyter-widgets/controls",
            "_model_module_version": "1.5.0",
            "_model_name": "HTMLModel",
            "_view_count": null,
            "_view_module": "@jupyter-widgets/controls",
            "_view_module_version": "1.5.0",
            "_view_name": "HTMLView",
            "description": "",
            "description_tooltip": null,
            "layout": "IPY_MODEL_d68a81422ebb47c3aadfc642ffcabbe2",
            "placeholder": "​",
            "style": "IPY_MODEL_0a885d17336041268e7d2f11c8351e2d",
            "value": " 1.24G/1.24G [00:04&lt;00:00, 298MB/s]"
          }
        },
        "38fef248e68942ef9c774876f3e52ed5": {
          "model_module": "@jupyter-widgets/base",
          "model_name": "LayoutModel",
          "model_module_version": "1.2.0",
          "state": {
            "_model_module": "@jupyter-widgets/base",
            "_model_module_version": "1.2.0",
            "_model_name": "LayoutModel",
            "_view_count": null,
            "_view_module": "@jupyter-widgets/base",
            "_view_module_version": "1.2.0",
            "_view_name": "LayoutView",
            "align_content": null,
            "align_items": null,
            "align_self": null,
            "border": null,
            "bottom": null,
            "display": null,
            "flex": null,
            "flex_flow": null,
            "grid_area": null,
            "grid_auto_columns": null,
            "grid_auto_flow": null,
            "grid_auto_rows": null,
            "grid_column": null,
            "grid_gap": null,
            "grid_row": null,
            "grid_template_areas": null,
            "grid_template_columns": null,
            "grid_template_rows": null,
            "height": null,
            "justify_content": null,
            "justify_items": null,
            "left": null,
            "margin": null,
            "max_height": null,
            "max_width": null,
            "min_height": null,
            "min_width": null,
            "object_fit": null,
            "object_position": null,
            "order": null,
            "overflow": null,
            "overflow_x": null,
            "overflow_y": null,
            "padding": null,
            "right": null,
            "top": null,
            "visibility": null,
            "width": null
          }
        },
        "ed5e729bae3a4a408148703c9157c208": {
          "model_module": "@jupyter-widgets/base",
          "model_name": "LayoutModel",
          "model_module_version": "1.2.0",
          "state": {
            "_model_module": "@jupyter-widgets/base",
            "_model_module_version": "1.2.0",
            "_model_name": "LayoutModel",
            "_view_count": null,
            "_view_module": "@jupyter-widgets/base",
            "_view_module_version": "1.2.0",
            "_view_name": "LayoutView",
            "align_content": null,
            "align_items": null,
            "align_self": null,
            "border": null,
            "bottom": null,
            "display": null,
            "flex": null,
            "flex_flow": null,
            "grid_area": null,
            "grid_auto_columns": null,
            "grid_auto_flow": null,
            "grid_auto_rows": null,
            "grid_column": null,
            "grid_gap": null,
            "grid_row": null,
            "grid_template_areas": null,
            "grid_template_columns": null,
            "grid_template_rows": null,
            "height": null,
            "justify_content": null,
            "justify_items": null,
            "left": null,
            "margin": null,
            "max_height": null,
            "max_width": null,
            "min_height": null,
            "min_width": null,
            "object_fit": null,
            "object_position": null,
            "order": null,
            "overflow": null,
            "overflow_x": null,
            "overflow_y": null,
            "padding": null,
            "right": null,
            "top": null,
            "visibility": null,
            "width": null
          }
        },
        "f77e3565ce494519bbec54c54840bde7": {
          "model_module": "@jupyter-widgets/controls",
          "model_name": "DescriptionStyleModel",
          "model_module_version": "1.5.0",
          "state": {
            "_model_module": "@jupyter-widgets/controls",
            "_model_module_version": "1.5.0",
            "_model_name": "DescriptionStyleModel",
            "_view_count": null,
            "_view_module": "@jupyter-widgets/base",
            "_view_module_version": "1.2.0",
            "_view_name": "StyleView",
            "description_width": ""
          }
        },
        "1ad644ebae454212a7e290e64f462936": {
          "model_module": "@jupyter-widgets/base",
          "model_name": "LayoutModel",
          "model_module_version": "1.2.0",
          "state": {
            "_model_module": "@jupyter-widgets/base",
            "_model_module_version": "1.2.0",
            "_model_name": "LayoutModel",
            "_view_count": null,
            "_view_module": "@jupyter-widgets/base",
            "_view_module_version": "1.2.0",
            "_view_name": "LayoutView",
            "align_content": null,
            "align_items": null,
            "align_self": null,
            "border": null,
            "bottom": null,
            "display": null,
            "flex": null,
            "flex_flow": null,
            "grid_area": null,
            "grid_auto_columns": null,
            "grid_auto_flow": null,
            "grid_auto_rows": null,
            "grid_column": null,
            "grid_gap": null,
            "grid_row": null,
            "grid_template_areas": null,
            "grid_template_columns": null,
            "grid_template_rows": null,
            "height": null,
            "justify_content": null,
            "justify_items": null,
            "left": null,
            "margin": null,
            "max_height": null,
            "max_width": null,
            "min_height": null,
            "min_width": null,
            "object_fit": null,
            "object_position": null,
            "order": null,
            "overflow": null,
            "overflow_x": null,
            "overflow_y": null,
            "padding": null,
            "right": null,
            "top": null,
            "visibility": null,
            "width": null
          }
        },
        "eacd3dd99abb408f9eea000a89e50bd7": {
          "model_module": "@jupyter-widgets/controls",
          "model_name": "ProgressStyleModel",
          "model_module_version": "1.5.0",
          "state": {
            "_model_module": "@jupyter-widgets/controls",
            "_model_module_version": "1.5.0",
            "_model_name": "ProgressStyleModel",
            "_view_count": null,
            "_view_module": "@jupyter-widgets/base",
            "_view_module_version": "1.2.0",
            "_view_name": "StyleView",
            "bar_color": null,
            "description_width": ""
          }
        },
        "d68a81422ebb47c3aadfc642ffcabbe2": {
          "model_module": "@jupyter-widgets/base",
          "model_name": "LayoutModel",
          "model_module_version": "1.2.0",
          "state": {
            "_model_module": "@jupyter-widgets/base",
            "_model_module_version": "1.2.0",
            "_model_name": "LayoutModel",
            "_view_count": null,
            "_view_module": "@jupyter-widgets/base",
            "_view_module_version": "1.2.0",
            "_view_name": "LayoutView",
            "align_content": null,
            "align_items": null,
            "align_self": null,
            "border": null,
            "bottom": null,
            "display": null,
            "flex": null,
            "flex_flow": null,
            "grid_area": null,
            "grid_auto_columns": null,
            "grid_auto_flow": null,
            "grid_auto_rows": null,
            "grid_column": null,
            "grid_gap": null,
            "grid_row": null,
            "grid_template_areas": null,
            "grid_template_columns": null,
            "grid_template_rows": null,
            "height": null,
            "justify_content": null,
            "justify_items": null,
            "left": null,
            "margin": null,
            "max_height": null,
            "max_width": null,
            "min_height": null,
            "min_width": null,
            "object_fit": null,
            "object_position": null,
            "order": null,
            "overflow": null,
            "overflow_x": null,
            "overflow_y": null,
            "padding": null,
            "right": null,
            "top": null,
            "visibility": null,
            "width": null
          }
        },
        "0a885d17336041268e7d2f11c8351e2d": {
          "model_module": "@jupyter-widgets/controls",
          "model_name": "DescriptionStyleModel",
          "model_module_version": "1.5.0",
          "state": {
            "_model_module": "@jupyter-widgets/controls",
            "_model_module_version": "1.5.0",
            "_model_name": "DescriptionStyleModel",
            "_view_count": null,
            "_view_module": "@jupyter-widgets/base",
            "_view_module_version": "1.2.0",
            "_view_name": "StyleView",
            "description_width": ""
          }
        },
        "798ac4cfa8f542b09260eb13a206ff5f": {
          "model_module": "@jupyter-widgets/controls",
          "model_name": "HBoxModel",
          "model_module_version": "1.5.0",
          "state": {
            "_dom_classes": [],
            "_model_module": "@jupyter-widgets/controls",
            "_model_module_version": "1.5.0",
            "_model_name": "HBoxModel",
            "_view_count": null,
            "_view_module": "@jupyter-widgets/controls",
            "_view_module_version": "1.5.0",
            "_view_name": "HBoxView",
            "box_style": "",
            "children": [
              "IPY_MODEL_8270eae5532e4cb4bed15bcf001d6945",
              "IPY_MODEL_65647ae27cb34ea490888bd170f48bb5",
              "IPY_MODEL_391d8510c02a4cf0b61abe0a4cf46e15"
            ],
            "layout": "IPY_MODEL_198aed6a04e342919fe23621f82707c1"
          }
        },
        "8270eae5532e4cb4bed15bcf001d6945": {
          "model_module": "@jupyter-widgets/controls",
          "model_name": "HTMLModel",
          "model_module_version": "1.5.0",
          "state": {
            "_dom_classes": [],
            "_model_module": "@jupyter-widgets/controls",
            "_model_module_version": "1.5.0",
            "_model_name": "HTMLModel",
            "_view_count": null,
            "_view_module": "@jupyter-widgets/controls",
            "_view_module_version": "1.5.0",
            "_view_name": "HTMLView",
            "description": "",
            "description_tooltip": null,
            "layout": "IPY_MODEL_a602c7e47352496980dd4321ee546909",
            "placeholder": "​",
            "style": "IPY_MODEL_b5ab72f717804017becac8dca7d87d26",
            "value": "generation_config.json: 100%"
          }
        },
        "65647ae27cb34ea490888bd170f48bb5": {
          "model_module": "@jupyter-widgets/controls",
          "model_name": "FloatProgressModel",
          "model_module_version": "1.5.0",
          "state": {
            "_dom_classes": [],
            "_model_module": "@jupyter-widgets/controls",
            "_model_module_version": "1.5.0",
            "_model_name": "FloatProgressModel",
            "_view_count": null,
            "_view_module": "@jupyter-widgets/controls",
            "_view_module_version": "1.5.0",
            "_view_name": "ProgressView",
            "bar_style": "success",
            "description": "",
            "description_tooltip": null,
            "layout": "IPY_MODEL_282d929675f54fd5869d636358f318a9",
            "max": 138,
            "min": 0,
            "orientation": "horizontal",
            "style": "IPY_MODEL_5e7df30d5e954da5bc4aed4d17285796",
            "value": 138
          }
        },
        "391d8510c02a4cf0b61abe0a4cf46e15": {
          "model_module": "@jupyter-widgets/controls",
          "model_name": "HTMLModel",
          "model_module_version": "1.5.0",
          "state": {
            "_dom_classes": [],
            "_model_module": "@jupyter-widgets/controls",
            "_model_module_version": "1.5.0",
            "_model_name": "HTMLModel",
            "_view_count": null,
            "_view_module": "@jupyter-widgets/controls",
            "_view_module_version": "1.5.0",
            "_view_name": "HTMLView",
            "description": "",
            "description_tooltip": null,
            "layout": "IPY_MODEL_56fc6dd06c0243e185caff9ba6a2e91f",
            "placeholder": "​",
            "style": "IPY_MODEL_40cad1d19ce64602938a9e4b837220a3",
            "value": " 138/138 [00:00&lt;00:00, 11.0kB/s]"
          }
        },
        "198aed6a04e342919fe23621f82707c1": {
          "model_module": "@jupyter-widgets/base",
          "model_name": "LayoutModel",
          "model_module_version": "1.2.0",
          "state": {
            "_model_module": "@jupyter-widgets/base",
            "_model_module_version": "1.2.0",
            "_model_name": "LayoutModel",
            "_view_count": null,
            "_view_module": "@jupyter-widgets/base",
            "_view_module_version": "1.2.0",
            "_view_name": "LayoutView",
            "align_content": null,
            "align_items": null,
            "align_self": null,
            "border": null,
            "bottom": null,
            "display": null,
            "flex": null,
            "flex_flow": null,
            "grid_area": null,
            "grid_auto_columns": null,
            "grid_auto_flow": null,
            "grid_auto_rows": null,
            "grid_column": null,
            "grid_gap": null,
            "grid_row": null,
            "grid_template_areas": null,
            "grid_template_columns": null,
            "grid_template_rows": null,
            "height": null,
            "justify_content": null,
            "justify_items": null,
            "left": null,
            "margin": null,
            "max_height": null,
            "max_width": null,
            "min_height": null,
            "min_width": null,
            "object_fit": null,
            "object_position": null,
            "order": null,
            "overflow": null,
            "overflow_x": null,
            "overflow_y": null,
            "padding": null,
            "right": null,
            "top": null,
            "visibility": null,
            "width": null
          }
        },
        "a602c7e47352496980dd4321ee546909": {
          "model_module": "@jupyter-widgets/base",
          "model_name": "LayoutModel",
          "model_module_version": "1.2.0",
          "state": {
            "_model_module": "@jupyter-widgets/base",
            "_model_module_version": "1.2.0",
            "_model_name": "LayoutModel",
            "_view_count": null,
            "_view_module": "@jupyter-widgets/base",
            "_view_module_version": "1.2.0",
            "_view_name": "LayoutView",
            "align_content": null,
            "align_items": null,
            "align_self": null,
            "border": null,
            "bottom": null,
            "display": null,
            "flex": null,
            "flex_flow": null,
            "grid_area": null,
            "grid_auto_columns": null,
            "grid_auto_flow": null,
            "grid_auto_rows": null,
            "grid_column": null,
            "grid_gap": null,
            "grid_row": null,
            "grid_template_areas": null,
            "grid_template_columns": null,
            "grid_template_rows": null,
            "height": null,
            "justify_content": null,
            "justify_items": null,
            "left": null,
            "margin": null,
            "max_height": null,
            "max_width": null,
            "min_height": null,
            "min_width": null,
            "object_fit": null,
            "object_position": null,
            "order": null,
            "overflow": null,
            "overflow_x": null,
            "overflow_y": null,
            "padding": null,
            "right": null,
            "top": null,
            "visibility": null,
            "width": null
          }
        },
        "b5ab72f717804017becac8dca7d87d26": {
          "model_module": "@jupyter-widgets/controls",
          "model_name": "DescriptionStyleModel",
          "model_module_version": "1.5.0",
          "state": {
            "_model_module": "@jupyter-widgets/controls",
            "_model_module_version": "1.5.0",
            "_model_name": "DescriptionStyleModel",
            "_view_count": null,
            "_view_module": "@jupyter-widgets/base",
            "_view_module_version": "1.2.0",
            "_view_name": "StyleView",
            "description_width": ""
          }
        },
        "282d929675f54fd5869d636358f318a9": {
          "model_module": "@jupyter-widgets/base",
          "model_name": "LayoutModel",
          "model_module_version": "1.2.0",
          "state": {
            "_model_module": "@jupyter-widgets/base",
            "_model_module_version": "1.2.0",
            "_model_name": "LayoutModel",
            "_view_count": null,
            "_view_module": "@jupyter-widgets/base",
            "_view_module_version": "1.2.0",
            "_view_name": "LayoutView",
            "align_content": null,
            "align_items": null,
            "align_self": null,
            "border": null,
            "bottom": null,
            "display": null,
            "flex": null,
            "flex_flow": null,
            "grid_area": null,
            "grid_auto_columns": null,
            "grid_auto_flow": null,
            "grid_auto_rows": null,
            "grid_column": null,
            "grid_gap": null,
            "grid_row": null,
            "grid_template_areas": null,
            "grid_template_columns": null,
            "grid_template_rows": null,
            "height": null,
            "justify_content": null,
            "justify_items": null,
            "left": null,
            "margin": null,
            "max_height": null,
            "max_width": null,
            "min_height": null,
            "min_width": null,
            "object_fit": null,
            "object_position": null,
            "order": null,
            "overflow": null,
            "overflow_x": null,
            "overflow_y": null,
            "padding": null,
            "right": null,
            "top": null,
            "visibility": null,
            "width": null
          }
        },
        "5e7df30d5e954da5bc4aed4d17285796": {
          "model_module": "@jupyter-widgets/controls",
          "model_name": "ProgressStyleModel",
          "model_module_version": "1.5.0",
          "state": {
            "_model_module": "@jupyter-widgets/controls",
            "_model_module_version": "1.5.0",
            "_model_name": "ProgressStyleModel",
            "_view_count": null,
            "_view_module": "@jupyter-widgets/base",
            "_view_module_version": "1.2.0",
            "_view_name": "StyleView",
            "bar_color": null,
            "description_width": ""
          }
        },
        "56fc6dd06c0243e185caff9ba6a2e91f": {
          "model_module": "@jupyter-widgets/base",
          "model_name": "LayoutModel",
          "model_module_version": "1.2.0",
          "state": {
            "_model_module": "@jupyter-widgets/base",
            "_model_module_version": "1.2.0",
            "_model_name": "LayoutModel",
            "_view_count": null,
            "_view_module": "@jupyter-widgets/base",
            "_view_module_version": "1.2.0",
            "_view_name": "LayoutView",
            "align_content": null,
            "align_items": null,
            "align_self": null,
            "border": null,
            "bottom": null,
            "display": null,
            "flex": null,
            "flex_flow": null,
            "grid_area": null,
            "grid_auto_columns": null,
            "grid_auto_flow": null,
            "grid_auto_rows": null,
            "grid_column": null,
            "grid_gap": null,
            "grid_row": null,
            "grid_template_areas": null,
            "grid_template_columns": null,
            "grid_template_rows": null,
            "height": null,
            "justify_content": null,
            "justify_items": null,
            "left": null,
            "margin": null,
            "max_height": null,
            "max_width": null,
            "min_height": null,
            "min_width": null,
            "object_fit": null,
            "object_position": null,
            "order": null,
            "overflow": null,
            "overflow_x": null,
            "overflow_y": null,
            "padding": null,
            "right": null,
            "top": null,
            "visibility": null,
            "width": null
          }
        },
        "40cad1d19ce64602938a9e4b837220a3": {
          "model_module": "@jupyter-widgets/controls",
          "model_name": "DescriptionStyleModel",
          "model_module_version": "1.5.0",
          "state": {
            "_model_module": "@jupyter-widgets/controls",
            "_model_module_version": "1.5.0",
            "_model_name": "DescriptionStyleModel",
            "_view_count": null,
            "_view_module": "@jupyter-widgets/base",
            "_view_module_version": "1.2.0",
            "_view_name": "StyleView",
            "description_width": ""
          }
        },
        "10b26d7235a04675bcc0c21f3cb4d06e": {
          "model_module": "@jupyter-widgets/controls",
          "model_name": "HBoxModel",
          "model_module_version": "1.5.0",
          "state": {
            "_dom_classes": [],
            "_model_module": "@jupyter-widgets/controls",
            "_model_module_version": "1.5.0",
            "_model_name": "HBoxModel",
            "_view_count": null,
            "_view_module": "@jupyter-widgets/controls",
            "_view_module_version": "1.5.0",
            "_view_name": "HBoxView",
            "box_style": "",
            "children": [
              "IPY_MODEL_8900cb7335e74f0f9f1c7319a2e9b862",
              "IPY_MODEL_169576e132294a8a9ba942d3de695d4e",
              "IPY_MODEL_293ace39bfa64410a114a1718fb3b2b0"
            ],
            "layout": "IPY_MODEL_e623445480bb4733823ba589e0a680c3"
          }
        },
        "8900cb7335e74f0f9f1c7319a2e9b862": {
          "model_module": "@jupyter-widgets/controls",
          "model_name": "HTMLModel",
          "model_module_version": "1.5.0",
          "state": {
            "_dom_classes": [],
            "_model_module": "@jupyter-widgets/controls",
            "_model_module_version": "1.5.0",
            "_model_name": "HTMLModel",
            "_view_count": null,
            "_view_module": "@jupyter-widgets/controls",
            "_view_module_version": "1.5.0",
            "_view_name": "HTMLView",
            "description": "",
            "description_tooltip": null,
            "layout": "IPY_MODEL_e431ca8750bb4ae2adfce4c617d09afc",
            "placeholder": "​",
            "style": "IPY_MODEL_873a871a1fb64afd9ac627d640f1ded4",
            "value": "Map: 100%"
          }
        },
        "169576e132294a8a9ba942d3de695d4e": {
          "model_module": "@jupyter-widgets/controls",
          "model_name": "FloatProgressModel",
          "model_module_version": "1.5.0",
          "state": {
            "_dom_classes": [],
            "_model_module": "@jupyter-widgets/controls",
            "_model_module_version": "1.5.0",
            "_model_name": "FloatProgressModel",
            "_view_count": null,
            "_view_module": "@jupyter-widgets/controls",
            "_view_module_version": "1.5.0",
            "_view_name": "ProgressView",
            "bar_style": "success",
            "description": "",
            "description_tooltip": null,
            "layout": "IPY_MODEL_ecd6f5363cc046f1964358b6f5c08937",
            "max": 800,
            "min": 0,
            "orientation": "horizontal",
            "style": "IPY_MODEL_904773b5194640e881ff964d720f7421",
            "value": 800
          }
        },
        "293ace39bfa64410a114a1718fb3b2b0": {
          "model_module": "@jupyter-widgets/controls",
          "model_name": "HTMLModel",
          "model_module_version": "1.5.0",
          "state": {
            "_dom_classes": [],
            "_model_module": "@jupyter-widgets/controls",
            "_model_module_version": "1.5.0",
            "_model_name": "HTMLModel",
            "_view_count": null,
            "_view_module": "@jupyter-widgets/controls",
            "_view_module_version": "1.5.0",
            "_view_name": "HTMLView",
            "description": "",
            "description_tooltip": null,
            "layout": "IPY_MODEL_d5ba8cc32f12489789f7d51908390dd2",
            "placeholder": "​",
            "style": "IPY_MODEL_23d7acced50c403e931530a95f1a1858",
            "value": " 800/800 [00:00&lt;00:00, 1685.12 examples/s]"
          }
        },
        "e623445480bb4733823ba589e0a680c3": {
          "model_module": "@jupyter-widgets/base",
          "model_name": "LayoutModel",
          "model_module_version": "1.2.0",
          "state": {
            "_model_module": "@jupyter-widgets/base",
            "_model_module_version": "1.2.0",
            "_model_name": "LayoutModel",
            "_view_count": null,
            "_view_module": "@jupyter-widgets/base",
            "_view_module_version": "1.2.0",
            "_view_name": "LayoutView",
            "align_content": null,
            "align_items": null,
            "align_self": null,
            "border": null,
            "bottom": null,
            "display": null,
            "flex": null,
            "flex_flow": null,
            "grid_area": null,
            "grid_auto_columns": null,
            "grid_auto_flow": null,
            "grid_auto_rows": null,
            "grid_column": null,
            "grid_gap": null,
            "grid_row": null,
            "grid_template_areas": null,
            "grid_template_columns": null,
            "grid_template_rows": null,
            "height": null,
            "justify_content": null,
            "justify_items": null,
            "left": null,
            "margin": null,
            "max_height": null,
            "max_width": null,
            "min_height": null,
            "min_width": null,
            "object_fit": null,
            "object_position": null,
            "order": null,
            "overflow": null,
            "overflow_x": null,
            "overflow_y": null,
            "padding": null,
            "right": null,
            "top": null,
            "visibility": null,
            "width": null
          }
        },
        "e431ca8750bb4ae2adfce4c617d09afc": {
          "model_module": "@jupyter-widgets/base",
          "model_name": "LayoutModel",
          "model_module_version": "1.2.0",
          "state": {
            "_model_module": "@jupyter-widgets/base",
            "_model_module_version": "1.2.0",
            "_model_name": "LayoutModel",
            "_view_count": null,
            "_view_module": "@jupyter-widgets/base",
            "_view_module_version": "1.2.0",
            "_view_name": "LayoutView",
            "align_content": null,
            "align_items": null,
            "align_self": null,
            "border": null,
            "bottom": null,
            "display": null,
            "flex": null,
            "flex_flow": null,
            "grid_area": null,
            "grid_auto_columns": null,
            "grid_auto_flow": null,
            "grid_auto_rows": null,
            "grid_column": null,
            "grid_gap": null,
            "grid_row": null,
            "grid_template_areas": null,
            "grid_template_columns": null,
            "grid_template_rows": null,
            "height": null,
            "justify_content": null,
            "justify_items": null,
            "left": null,
            "margin": null,
            "max_height": null,
            "max_width": null,
            "min_height": null,
            "min_width": null,
            "object_fit": null,
            "object_position": null,
            "order": null,
            "overflow": null,
            "overflow_x": null,
            "overflow_y": null,
            "padding": null,
            "right": null,
            "top": null,
            "visibility": null,
            "width": null
          }
        },
        "873a871a1fb64afd9ac627d640f1ded4": {
          "model_module": "@jupyter-widgets/controls",
          "model_name": "DescriptionStyleModel",
          "model_module_version": "1.5.0",
          "state": {
            "_model_module": "@jupyter-widgets/controls",
            "_model_module_version": "1.5.0",
            "_model_name": "DescriptionStyleModel",
            "_view_count": null,
            "_view_module": "@jupyter-widgets/base",
            "_view_module_version": "1.2.0",
            "_view_name": "StyleView",
            "description_width": ""
          }
        },
        "ecd6f5363cc046f1964358b6f5c08937": {
          "model_module": "@jupyter-widgets/base",
          "model_name": "LayoutModel",
          "model_module_version": "1.2.0",
          "state": {
            "_model_module": "@jupyter-widgets/base",
            "_model_module_version": "1.2.0",
            "_model_name": "LayoutModel",
            "_view_count": null,
            "_view_module": "@jupyter-widgets/base",
            "_view_module_version": "1.2.0",
            "_view_name": "LayoutView",
            "align_content": null,
            "align_items": null,
            "align_self": null,
            "border": null,
            "bottom": null,
            "display": null,
            "flex": null,
            "flex_flow": null,
            "grid_area": null,
            "grid_auto_columns": null,
            "grid_auto_flow": null,
            "grid_auto_rows": null,
            "grid_column": null,
            "grid_gap": null,
            "grid_row": null,
            "grid_template_areas": null,
            "grid_template_columns": null,
            "grid_template_rows": null,
            "height": null,
            "justify_content": null,
            "justify_items": null,
            "left": null,
            "margin": null,
            "max_height": null,
            "max_width": null,
            "min_height": null,
            "min_width": null,
            "object_fit": null,
            "object_position": null,
            "order": null,
            "overflow": null,
            "overflow_x": null,
            "overflow_y": null,
            "padding": null,
            "right": null,
            "top": null,
            "visibility": null,
            "width": null
          }
        },
        "904773b5194640e881ff964d720f7421": {
          "model_module": "@jupyter-widgets/controls",
          "model_name": "ProgressStyleModel",
          "model_module_version": "1.5.0",
          "state": {
            "_model_module": "@jupyter-widgets/controls",
            "_model_module_version": "1.5.0",
            "_model_name": "ProgressStyleModel",
            "_view_count": null,
            "_view_module": "@jupyter-widgets/base",
            "_view_module_version": "1.2.0",
            "_view_name": "StyleView",
            "bar_color": null,
            "description_width": ""
          }
        },
        "d5ba8cc32f12489789f7d51908390dd2": {
          "model_module": "@jupyter-widgets/base",
          "model_name": "LayoutModel",
          "model_module_version": "1.2.0",
          "state": {
            "_model_module": "@jupyter-widgets/base",
            "_model_module_version": "1.2.0",
            "_model_name": "LayoutModel",
            "_view_count": null,
            "_view_module": "@jupyter-widgets/base",
            "_view_module_version": "1.2.0",
            "_view_name": "LayoutView",
            "align_content": null,
            "align_items": null,
            "align_self": null,
            "border": null,
            "bottom": null,
            "display": null,
            "flex": null,
            "flex_flow": null,
            "grid_area": null,
            "grid_auto_columns": null,
            "grid_auto_flow": null,
            "grid_auto_rows": null,
            "grid_column": null,
            "grid_gap": null,
            "grid_row": null,
            "grid_template_areas": null,
            "grid_template_columns": null,
            "grid_template_rows": null,
            "height": null,
            "justify_content": null,
            "justify_items": null,
            "left": null,
            "margin": null,
            "max_height": null,
            "max_width": null,
            "min_height": null,
            "min_width": null,
            "object_fit": null,
            "object_position": null,
            "order": null,
            "overflow": null,
            "overflow_x": null,
            "overflow_y": null,
            "padding": null,
            "right": null,
            "top": null,
            "visibility": null,
            "width": null
          }
        },
        "23d7acced50c403e931530a95f1a1858": {
          "model_module": "@jupyter-widgets/controls",
          "model_name": "DescriptionStyleModel",
          "model_module_version": "1.5.0",
          "state": {
            "_model_module": "@jupyter-widgets/controls",
            "_model_module_version": "1.5.0",
            "_model_name": "DescriptionStyleModel",
            "_view_count": null,
            "_view_module": "@jupyter-widgets/base",
            "_view_module_version": "1.2.0",
            "_view_name": "StyleView",
            "description_width": ""
          }
        },
        "d7ebe99122014ebcb6a2e7cb775915a6": {
          "model_module": "@jupyter-widgets/controls",
          "model_name": "HBoxModel",
          "model_module_version": "1.5.0",
          "state": {
            "_dom_classes": [],
            "_model_module": "@jupyter-widgets/controls",
            "_model_module_version": "1.5.0",
            "_model_name": "HBoxModel",
            "_view_count": null,
            "_view_module": "@jupyter-widgets/controls",
            "_view_module_version": "1.5.0",
            "_view_name": "HBoxView",
            "box_style": "",
            "children": [
              "IPY_MODEL_7af99845902e45c984e144bb2f52bb49",
              "IPY_MODEL_28430dd8f97f48479428845d51abcca3",
              "IPY_MODEL_f4275618a787408093495036dd446f37"
            ],
            "layout": "IPY_MODEL_ce2c2c0852d340f4b1e07b31c933867a"
          }
        },
        "7af99845902e45c984e144bb2f52bb49": {
          "model_module": "@jupyter-widgets/controls",
          "model_name": "HTMLModel",
          "model_module_version": "1.5.0",
          "state": {
            "_dom_classes": [],
            "_model_module": "@jupyter-widgets/controls",
            "_model_module_version": "1.5.0",
            "_model_name": "HTMLModel",
            "_view_count": null,
            "_view_module": "@jupyter-widgets/controls",
            "_view_module_version": "1.5.0",
            "_view_name": "HTMLView",
            "description": "",
            "description_tooltip": null,
            "layout": "IPY_MODEL_7d1021434fea406797d2c45eced0af45",
            "placeholder": "​",
            "style": "IPY_MODEL_6e6af6641a89463f999194af0f66be3b",
            "value": "Map: 100%"
          }
        },
        "28430dd8f97f48479428845d51abcca3": {
          "model_module": "@jupyter-widgets/controls",
          "model_name": "FloatProgressModel",
          "model_module_version": "1.5.0",
          "state": {
            "_dom_classes": [],
            "_model_module": "@jupyter-widgets/controls",
            "_model_module_version": "1.5.0",
            "_model_name": "FloatProgressModel",
            "_view_count": null,
            "_view_module": "@jupyter-widgets/controls",
            "_view_module_version": "1.5.0",
            "_view_name": "ProgressView",
            "bar_style": "success",
            "description": "",
            "description_tooltip": null,
            "layout": "IPY_MODEL_18e5149a04044172b6991c1eefcf9e84",
            "max": 100,
            "min": 0,
            "orientation": "horizontal",
            "style": "IPY_MODEL_67846170570a46dea32a6945e0789e70",
            "value": 100
          }
        },
        "f4275618a787408093495036dd446f37": {
          "model_module": "@jupyter-widgets/controls",
          "model_name": "HTMLModel",
          "model_module_version": "1.5.0",
          "state": {
            "_dom_classes": [],
            "_model_module": "@jupyter-widgets/controls",
            "_model_module_version": "1.5.0",
            "_model_name": "HTMLModel",
            "_view_count": null,
            "_view_module": "@jupyter-widgets/controls",
            "_view_module_version": "1.5.0",
            "_view_name": "HTMLView",
            "description": "",
            "description_tooltip": null,
            "layout": "IPY_MODEL_0eb7810d8f5e4d0fa1dda0d071647414",
            "placeholder": "​",
            "style": "IPY_MODEL_1dd8cf80eb0246c6886d68ca429ecd04",
            "value": " 100/100 [00:00&lt;00:00, 967.54 examples/s]"
          }
        },
        "ce2c2c0852d340f4b1e07b31c933867a": {
          "model_module": "@jupyter-widgets/base",
          "model_name": "LayoutModel",
          "model_module_version": "1.2.0",
          "state": {
            "_model_module": "@jupyter-widgets/base",
            "_model_module_version": "1.2.0",
            "_model_name": "LayoutModel",
            "_view_count": null,
            "_view_module": "@jupyter-widgets/base",
            "_view_module_version": "1.2.0",
            "_view_name": "LayoutView",
            "align_content": null,
            "align_items": null,
            "align_self": null,
            "border": null,
            "bottom": null,
            "display": null,
            "flex": null,
            "flex_flow": null,
            "grid_area": null,
            "grid_auto_columns": null,
            "grid_auto_flow": null,
            "grid_auto_rows": null,
            "grid_column": null,
            "grid_gap": null,
            "grid_row": null,
            "grid_template_areas": null,
            "grid_template_columns": null,
            "grid_template_rows": null,
            "height": null,
            "justify_content": null,
            "justify_items": null,
            "left": null,
            "margin": null,
            "max_height": null,
            "max_width": null,
            "min_height": null,
            "min_width": null,
            "object_fit": null,
            "object_position": null,
            "order": null,
            "overflow": null,
            "overflow_x": null,
            "overflow_y": null,
            "padding": null,
            "right": null,
            "top": null,
            "visibility": null,
            "width": null
          }
        },
        "7d1021434fea406797d2c45eced0af45": {
          "model_module": "@jupyter-widgets/base",
          "model_name": "LayoutModel",
          "model_module_version": "1.2.0",
          "state": {
            "_model_module": "@jupyter-widgets/base",
            "_model_module_version": "1.2.0",
            "_model_name": "LayoutModel",
            "_view_count": null,
            "_view_module": "@jupyter-widgets/base",
            "_view_module_version": "1.2.0",
            "_view_name": "LayoutView",
            "align_content": null,
            "align_items": null,
            "align_self": null,
            "border": null,
            "bottom": null,
            "display": null,
            "flex": null,
            "flex_flow": null,
            "grid_area": null,
            "grid_auto_columns": null,
            "grid_auto_flow": null,
            "grid_auto_rows": null,
            "grid_column": null,
            "grid_gap": null,
            "grid_row": null,
            "grid_template_areas": null,
            "grid_template_columns": null,
            "grid_template_rows": null,
            "height": null,
            "justify_content": null,
            "justify_items": null,
            "left": null,
            "margin": null,
            "max_height": null,
            "max_width": null,
            "min_height": null,
            "min_width": null,
            "object_fit": null,
            "object_position": null,
            "order": null,
            "overflow": null,
            "overflow_x": null,
            "overflow_y": null,
            "padding": null,
            "right": null,
            "top": null,
            "visibility": null,
            "width": null
          }
        },
        "6e6af6641a89463f999194af0f66be3b": {
          "model_module": "@jupyter-widgets/controls",
          "model_name": "DescriptionStyleModel",
          "model_module_version": "1.5.0",
          "state": {
            "_model_module": "@jupyter-widgets/controls",
            "_model_module_version": "1.5.0",
            "_model_name": "DescriptionStyleModel",
            "_view_count": null,
            "_view_module": "@jupyter-widgets/base",
            "_view_module_version": "1.2.0",
            "_view_name": "StyleView",
            "description_width": ""
          }
        },
        "18e5149a04044172b6991c1eefcf9e84": {
          "model_module": "@jupyter-widgets/base",
          "model_name": "LayoutModel",
          "model_module_version": "1.2.0",
          "state": {
            "_model_module": "@jupyter-widgets/base",
            "_model_module_version": "1.2.0",
            "_model_name": "LayoutModel",
            "_view_count": null,
            "_view_module": "@jupyter-widgets/base",
            "_view_module_version": "1.2.0",
            "_view_name": "LayoutView",
            "align_content": null,
            "align_items": null,
            "align_self": null,
            "border": null,
            "bottom": null,
            "display": null,
            "flex": null,
            "flex_flow": null,
            "grid_area": null,
            "grid_auto_columns": null,
            "grid_auto_flow": null,
            "grid_auto_rows": null,
            "grid_column": null,
            "grid_gap": null,
            "grid_row": null,
            "grid_template_areas": null,
            "grid_template_columns": null,
            "grid_template_rows": null,
            "height": null,
            "justify_content": null,
            "justify_items": null,
            "left": null,
            "margin": null,
            "max_height": null,
            "max_width": null,
            "min_height": null,
            "min_width": null,
            "object_fit": null,
            "object_position": null,
            "order": null,
            "overflow": null,
            "overflow_x": null,
            "overflow_y": null,
            "padding": null,
            "right": null,
            "top": null,
            "visibility": null,
            "width": null
          }
        },
        "67846170570a46dea32a6945e0789e70": {
          "model_module": "@jupyter-widgets/controls",
          "model_name": "ProgressStyleModel",
          "model_module_version": "1.5.0",
          "state": {
            "_model_module": "@jupyter-widgets/controls",
            "_model_module_version": "1.5.0",
            "_model_name": "ProgressStyleModel",
            "_view_count": null,
            "_view_module": "@jupyter-widgets/base",
            "_view_module_version": "1.2.0",
            "_view_name": "StyleView",
            "bar_color": null,
            "description_width": ""
          }
        },
        "0eb7810d8f5e4d0fa1dda0d071647414": {
          "model_module": "@jupyter-widgets/base",
          "model_name": "LayoutModel",
          "model_module_version": "1.2.0",
          "state": {
            "_model_module": "@jupyter-widgets/base",
            "_model_module_version": "1.2.0",
            "_model_name": "LayoutModel",
            "_view_count": null,
            "_view_module": "@jupyter-widgets/base",
            "_view_module_version": "1.2.0",
            "_view_name": "LayoutView",
            "align_content": null,
            "align_items": null,
            "align_self": null,
            "border": null,
            "bottom": null,
            "display": null,
            "flex": null,
            "flex_flow": null,
            "grid_area": null,
            "grid_auto_columns": null,
            "grid_auto_flow": null,
            "grid_auto_rows": null,
            "grid_column": null,
            "grid_gap": null,
            "grid_row": null,
            "grid_template_areas": null,
            "grid_template_columns": null,
            "grid_template_rows": null,
            "height": null,
            "justify_content": null,
            "justify_items": null,
            "left": null,
            "margin": null,
            "max_height": null,
            "max_width": null,
            "min_height": null,
            "min_width": null,
            "object_fit": null,
            "object_position": null,
            "order": null,
            "overflow": null,
            "overflow_x": null,
            "overflow_y": null,
            "padding": null,
            "right": null,
            "top": null,
            "visibility": null,
            "width": null
          }
        },
        "1dd8cf80eb0246c6886d68ca429ecd04": {
          "model_module": "@jupyter-widgets/controls",
          "model_name": "DescriptionStyleModel",
          "model_module_version": "1.5.0",
          "state": {
            "_model_module": "@jupyter-widgets/controls",
            "_model_module_version": "1.5.0",
            "_model_name": "DescriptionStyleModel",
            "_view_count": null,
            "_view_module": "@jupyter-widgets/base",
            "_view_module_version": "1.2.0",
            "_view_name": "StyleView",
            "description_width": ""
          }
        },
        "219f40ac44154e0ba1f27dd8bddea709": {
          "model_module": "@jupyter-widgets/controls",
          "model_name": "HBoxModel",
          "model_module_version": "1.5.0",
          "state": {
            "_dom_classes": [],
            "_model_module": "@jupyter-widgets/controls",
            "_model_module_version": "1.5.0",
            "_model_name": "HBoxModel",
            "_view_count": null,
            "_view_module": "@jupyter-widgets/controls",
            "_view_module_version": "1.5.0",
            "_view_name": "HBoxView",
            "box_style": "",
            "children": [
              "IPY_MODEL_6dba5af14d854ec0b572db58b6d3796d",
              "IPY_MODEL_0fe04251bb6b4a00b6c24a0ea569e4ad",
              "IPY_MODEL_8007acf85be54ed5b84dd39d88b78ef4"
            ],
            "layout": "IPY_MODEL_643366d867664b07b2d0da907f810585"
          }
        },
        "6dba5af14d854ec0b572db58b6d3796d": {
          "model_module": "@jupyter-widgets/controls",
          "model_name": "HTMLModel",
          "model_module_version": "1.5.0",
          "state": {
            "_dom_classes": [],
            "_model_module": "@jupyter-widgets/controls",
            "_model_module_version": "1.5.0",
            "_model_name": "HTMLModel",
            "_view_count": null,
            "_view_module": "@jupyter-widgets/controls",
            "_view_module_version": "1.5.0",
            "_view_name": "HTMLView",
            "description": "",
            "description_tooltip": null,
            "layout": "IPY_MODEL_4291502456704e62a54dac6720b4b257",
            "placeholder": "​",
            "style": "IPY_MODEL_9f877580b3a346a6b171d0e5fdd0e447",
            "value": "Map: 100%"
          }
        },
        "0fe04251bb6b4a00b6c24a0ea569e4ad": {
          "model_module": "@jupyter-widgets/controls",
          "model_name": "FloatProgressModel",
          "model_module_version": "1.5.0",
          "state": {
            "_dom_classes": [],
            "_model_module": "@jupyter-widgets/controls",
            "_model_module_version": "1.5.0",
            "_model_name": "FloatProgressModel",
            "_view_count": null,
            "_view_module": "@jupyter-widgets/controls",
            "_view_module_version": "1.5.0",
            "_view_name": "ProgressView",
            "bar_style": "success",
            "description": "",
            "description_tooltip": null,
            "layout": "IPY_MODEL_818f7c540f024215857b6bf93e8ced88",
            "max": 127,
            "min": 0,
            "orientation": "horizontal",
            "style": "IPY_MODEL_9c3943a56e7c49ea97aa16713d12cd09",
            "value": 127
          }
        },
        "8007acf85be54ed5b84dd39d88b78ef4": {
          "model_module": "@jupyter-widgets/controls",
          "model_name": "HTMLModel",
          "model_module_version": "1.5.0",
          "state": {
            "_dom_classes": [],
            "_model_module": "@jupyter-widgets/controls",
            "_model_module_version": "1.5.0",
            "_model_name": "HTMLModel",
            "_view_count": null,
            "_view_module": "@jupyter-widgets/controls",
            "_view_module_version": "1.5.0",
            "_view_name": "HTMLView",
            "description": "",
            "description_tooltip": null,
            "layout": "IPY_MODEL_9a6be32c258f4db49e24e0b38822224a",
            "placeholder": "​",
            "style": "IPY_MODEL_4a345d83a55748a29d94ac1da1b3ff19",
            "value": " 127/127 [00:00&lt;00:00, 1123.65 examples/s]"
          }
        },
        "643366d867664b07b2d0da907f810585": {
          "model_module": "@jupyter-widgets/base",
          "model_name": "LayoutModel",
          "model_module_version": "1.2.0",
          "state": {
            "_model_module": "@jupyter-widgets/base",
            "_model_module_version": "1.2.0",
            "_model_name": "LayoutModel",
            "_view_count": null,
            "_view_module": "@jupyter-widgets/base",
            "_view_module_version": "1.2.0",
            "_view_name": "LayoutView",
            "align_content": null,
            "align_items": null,
            "align_self": null,
            "border": null,
            "bottom": null,
            "display": null,
            "flex": null,
            "flex_flow": null,
            "grid_area": null,
            "grid_auto_columns": null,
            "grid_auto_flow": null,
            "grid_auto_rows": null,
            "grid_column": null,
            "grid_gap": null,
            "grid_row": null,
            "grid_template_areas": null,
            "grid_template_columns": null,
            "grid_template_rows": null,
            "height": null,
            "justify_content": null,
            "justify_items": null,
            "left": null,
            "margin": null,
            "max_height": null,
            "max_width": null,
            "min_height": null,
            "min_width": null,
            "object_fit": null,
            "object_position": null,
            "order": null,
            "overflow": null,
            "overflow_x": null,
            "overflow_y": null,
            "padding": null,
            "right": null,
            "top": null,
            "visibility": null,
            "width": null
          }
        },
        "4291502456704e62a54dac6720b4b257": {
          "model_module": "@jupyter-widgets/base",
          "model_name": "LayoutModel",
          "model_module_version": "1.2.0",
          "state": {
            "_model_module": "@jupyter-widgets/base",
            "_model_module_version": "1.2.0",
            "_model_name": "LayoutModel",
            "_view_count": null,
            "_view_module": "@jupyter-widgets/base",
            "_view_module_version": "1.2.0",
            "_view_name": "LayoutView",
            "align_content": null,
            "align_items": null,
            "align_self": null,
            "border": null,
            "bottom": null,
            "display": null,
            "flex": null,
            "flex_flow": null,
            "grid_area": null,
            "grid_auto_columns": null,
            "grid_auto_flow": null,
            "grid_auto_rows": null,
            "grid_column": null,
            "grid_gap": null,
            "grid_row": null,
            "grid_template_areas": null,
            "grid_template_columns": null,
            "grid_template_rows": null,
            "height": null,
            "justify_content": null,
            "justify_items": null,
            "left": null,
            "margin": null,
            "max_height": null,
            "max_width": null,
            "min_height": null,
            "min_width": null,
            "object_fit": null,
            "object_position": null,
            "order": null,
            "overflow": null,
            "overflow_x": null,
            "overflow_y": null,
            "padding": null,
            "right": null,
            "top": null,
            "visibility": null,
            "width": null
          }
        },
        "9f877580b3a346a6b171d0e5fdd0e447": {
          "model_module": "@jupyter-widgets/controls",
          "model_name": "DescriptionStyleModel",
          "model_module_version": "1.5.0",
          "state": {
            "_model_module": "@jupyter-widgets/controls",
            "_model_module_version": "1.5.0",
            "_model_name": "DescriptionStyleModel",
            "_view_count": null,
            "_view_module": "@jupyter-widgets/base",
            "_view_module_version": "1.2.0",
            "_view_name": "StyleView",
            "description_width": ""
          }
        },
        "818f7c540f024215857b6bf93e8ced88": {
          "model_module": "@jupyter-widgets/base",
          "model_name": "LayoutModel",
          "model_module_version": "1.2.0",
          "state": {
            "_model_module": "@jupyter-widgets/base",
            "_model_module_version": "1.2.0",
            "_model_name": "LayoutModel",
            "_view_count": null,
            "_view_module": "@jupyter-widgets/base",
            "_view_module_version": "1.2.0",
            "_view_name": "LayoutView",
            "align_content": null,
            "align_items": null,
            "align_self": null,
            "border": null,
            "bottom": null,
            "display": null,
            "flex": null,
            "flex_flow": null,
            "grid_area": null,
            "grid_auto_columns": null,
            "grid_auto_flow": null,
            "grid_auto_rows": null,
            "grid_column": null,
            "grid_gap": null,
            "grid_row": null,
            "grid_template_areas": null,
            "grid_template_columns": null,
            "grid_template_rows": null,
            "height": null,
            "justify_content": null,
            "justify_items": null,
            "left": null,
            "margin": null,
            "max_height": null,
            "max_width": null,
            "min_height": null,
            "min_width": null,
            "object_fit": null,
            "object_position": null,
            "order": null,
            "overflow": null,
            "overflow_x": null,
            "overflow_y": null,
            "padding": null,
            "right": null,
            "top": null,
            "visibility": null,
            "width": null
          }
        },
        "9c3943a56e7c49ea97aa16713d12cd09": {
          "model_module": "@jupyter-widgets/controls",
          "model_name": "ProgressStyleModel",
          "model_module_version": "1.5.0",
          "state": {
            "_model_module": "@jupyter-widgets/controls",
            "_model_module_version": "1.5.0",
            "_model_name": "ProgressStyleModel",
            "_view_count": null,
            "_view_module": "@jupyter-widgets/base",
            "_view_module_version": "1.2.0",
            "_view_name": "StyleView",
            "bar_color": null,
            "description_width": ""
          }
        },
        "9a6be32c258f4db49e24e0b38822224a": {
          "model_module": "@jupyter-widgets/base",
          "model_name": "LayoutModel",
          "model_module_version": "1.2.0",
          "state": {
            "_model_module": "@jupyter-widgets/base",
            "_model_module_version": "1.2.0",
            "_model_name": "LayoutModel",
            "_view_count": null,
            "_view_module": "@jupyter-widgets/base",
            "_view_module_version": "1.2.0",
            "_view_name": "LayoutView",
            "align_content": null,
            "align_items": null,
            "align_self": null,
            "border": null,
            "bottom": null,
            "display": null,
            "flex": null,
            "flex_flow": null,
            "grid_area": null,
            "grid_auto_columns": null,
            "grid_auto_flow": null,
            "grid_auto_rows": null,
            "grid_column": null,
            "grid_gap": null,
            "grid_row": null,
            "grid_template_areas": null,
            "grid_template_columns": null,
            "grid_template_rows": null,
            "height": null,
            "justify_content": null,
            "justify_items": null,
            "left": null,
            "margin": null,
            "max_height": null,
            "max_width": null,
            "min_height": null,
            "min_width": null,
            "object_fit": null,
            "object_position": null,
            "order": null,
            "overflow": null,
            "overflow_x": null,
            "overflow_y": null,
            "padding": null,
            "right": null,
            "top": null,
            "visibility": null,
            "width": null
          }
        },
        "4a345d83a55748a29d94ac1da1b3ff19": {
          "model_module": "@jupyter-widgets/controls",
          "model_name": "DescriptionStyleModel",
          "model_module_version": "1.5.0",
          "state": {
            "_model_module": "@jupyter-widgets/controls",
            "_model_module_version": "1.5.0",
            "_model_name": "DescriptionStyleModel",
            "_view_count": null,
            "_view_module": "@jupyter-widgets/base",
            "_view_module_version": "1.2.0",
            "_view_name": "StyleView",
            "description_width": ""
          }
        },
        "9fe2648fc7964f67b45f2d9aebfdcb0c": {
          "model_module": "@jupyter-widgets/controls",
          "model_name": "VBoxModel",
          "model_module_version": "1.5.0",
          "state": {
            "_dom_classes": [],
            "_model_module": "@jupyter-widgets/controls",
            "_model_module_version": "1.5.0",
            "_model_name": "VBoxModel",
            "_view_count": null,
            "_view_module": "@jupyter-widgets/controls",
            "_view_module_version": "1.5.0",
            "_view_name": "VBoxView",
            "box_style": "",
            "children": [
              "IPY_MODEL_21adcb13aace46fb9c343886e91cb935",
              "IPY_MODEL_e45768bf1d0d4debb2cf8604e7619e9d",
              "IPY_MODEL_076e9903cbcf43798fdb776195dcb77b",
              "IPY_MODEL_5c80e50a162d48ac92ebfdebaacebc52"
            ],
            "layout": "IPY_MODEL_87f91936846a4da996793a8e6f93b301"
          }
        },
        "65f9180907c34f91b5c0a4277aff89f3": {
          "model_module": "@jupyter-widgets/controls",
          "model_name": "HTMLModel",
          "model_module_version": "1.5.0",
          "state": {
            "_dom_classes": [],
            "_model_module": "@jupyter-widgets/controls",
            "_model_module_version": "1.5.0",
            "_model_name": "HTMLModel",
            "_view_count": null,
            "_view_module": "@jupyter-widgets/controls",
            "_view_module_version": "1.5.0",
            "_view_name": "HTMLView",
            "description": "",
            "description_tooltip": null,
            "layout": "IPY_MODEL_e0aaa65e18b84567ac317db7827e7448",
            "placeholder": "​",
            "style": "IPY_MODEL_489cd8d78fed47fd81a308ac594b89b2",
            "value": "<center> <img\nsrc=https://huggingface.co/front/assets/huggingface_logo-noborder.svg\nalt='Hugging Face'> <br> Copy a token from <a\nhref=\"https://huggingface.co/settings/tokens\" target=\"_blank\">your Hugging Face\ntokens page</a> and paste it below. <br> Immediately click login after copying\nyour token or it might be stored in plain text in this notebook file. </center>"
          }
        },
        "adfba85e368b430d8cda6b14cd453112": {
          "model_module": "@jupyter-widgets/controls",
          "model_name": "PasswordModel",
          "model_module_version": "1.5.0",
          "state": {
            "_dom_classes": [],
            "_model_module": "@jupyter-widgets/controls",
            "_model_module_version": "1.5.0",
            "_model_name": "PasswordModel",
            "_view_count": null,
            "_view_module": "@jupyter-widgets/controls",
            "_view_module_version": "1.5.0",
            "_view_name": "PasswordView",
            "continuous_update": true,
            "description": "Token:",
            "description_tooltip": null,
            "disabled": false,
            "layout": "IPY_MODEL_3d0054fc6252450ea5806338fb5f0c2e",
            "placeholder": "​",
            "style": "IPY_MODEL_35291eb765164666b2b049947b3e867a",
            "value": ""
          }
        },
        "2edc33664d3d4d9eb03410d0b0fbb64b": {
          "model_module": "@jupyter-widgets/controls",
          "model_name": "CheckboxModel",
          "model_module_version": "1.5.0",
          "state": {
            "_dom_classes": [],
            "_model_module": "@jupyter-widgets/controls",
            "_model_module_version": "1.5.0",
            "_model_name": "CheckboxModel",
            "_view_count": null,
            "_view_module": "@jupyter-widgets/controls",
            "_view_module_version": "1.5.0",
            "_view_name": "CheckboxView",
            "description": "Add token as git credential?",
            "description_tooltip": null,
            "disabled": false,
            "indent": true,
            "layout": "IPY_MODEL_b7d97140b1724c28a9a9612dacae73f3",
            "style": "IPY_MODEL_1e301e4290534c48b7beee60b5eddb08",
            "value": true
          }
        },
        "6b0341a5363043479c3f23cea3055ff0": {
          "model_module": "@jupyter-widgets/controls",
          "model_name": "ButtonModel",
          "model_module_version": "1.5.0",
          "state": {
            "_dom_classes": [],
            "_model_module": "@jupyter-widgets/controls",
            "_model_module_version": "1.5.0",
            "_model_name": "ButtonModel",
            "_view_count": null,
            "_view_module": "@jupyter-widgets/controls",
            "_view_module_version": "1.5.0",
            "_view_name": "ButtonView",
            "button_style": "",
            "description": "Login",
            "disabled": false,
            "icon": "",
            "layout": "IPY_MODEL_97b0cb93d25c46e082aaefb4fcda5f93",
            "style": "IPY_MODEL_cd9c895e950d4ea6a6ff0ac889c60752",
            "tooltip": ""
          }
        },
        "996d9a6087b54a9f96a8925ca5c602d0": {
          "model_module": "@jupyter-widgets/controls",
          "model_name": "HTMLModel",
          "model_module_version": "1.5.0",
          "state": {
            "_dom_classes": [],
            "_model_module": "@jupyter-widgets/controls",
            "_model_module_version": "1.5.0",
            "_model_name": "HTMLModel",
            "_view_count": null,
            "_view_module": "@jupyter-widgets/controls",
            "_view_module_version": "1.5.0",
            "_view_name": "HTMLView",
            "description": "",
            "description_tooltip": null,
            "layout": "IPY_MODEL_9cd7afa59feb4dc5ab25461aed2f32da",
            "placeholder": "​",
            "style": "IPY_MODEL_0fa4923aed514d87807510d68407c353",
            "value": "\n<b>Pro Tip:</b> If you don't already have one, you can create a dedicated\n'notebooks' token with 'write' access, that you can then easily reuse for all\nnotebooks. </center>"
          }
        },
        "87f91936846a4da996793a8e6f93b301": {
          "model_module": "@jupyter-widgets/base",
          "model_name": "LayoutModel",
          "model_module_version": "1.2.0",
          "state": {
            "_model_module": "@jupyter-widgets/base",
            "_model_module_version": "1.2.0",
            "_model_name": "LayoutModel",
            "_view_count": null,
            "_view_module": "@jupyter-widgets/base",
            "_view_module_version": "1.2.0",
            "_view_name": "LayoutView",
            "align_content": null,
            "align_items": "center",
            "align_self": null,
            "border": null,
            "bottom": null,
            "display": "flex",
            "flex": null,
            "flex_flow": "column",
            "grid_area": null,
            "grid_auto_columns": null,
            "grid_auto_flow": null,
            "grid_auto_rows": null,
            "grid_column": null,
            "grid_gap": null,
            "grid_row": null,
            "grid_template_areas": null,
            "grid_template_columns": null,
            "grid_template_rows": null,
            "height": null,
            "justify_content": null,
            "justify_items": null,
            "left": null,
            "margin": null,
            "max_height": null,
            "max_width": null,
            "min_height": null,
            "min_width": null,
            "object_fit": null,
            "object_position": null,
            "order": null,
            "overflow": null,
            "overflow_x": null,
            "overflow_y": null,
            "padding": null,
            "right": null,
            "top": null,
            "visibility": null,
            "width": "50%"
          }
        },
        "e0aaa65e18b84567ac317db7827e7448": {
          "model_module": "@jupyter-widgets/base",
          "model_name": "LayoutModel",
          "model_module_version": "1.2.0",
          "state": {
            "_model_module": "@jupyter-widgets/base",
            "_model_module_version": "1.2.0",
            "_model_name": "LayoutModel",
            "_view_count": null,
            "_view_module": "@jupyter-widgets/base",
            "_view_module_version": "1.2.0",
            "_view_name": "LayoutView",
            "align_content": null,
            "align_items": null,
            "align_self": null,
            "border": null,
            "bottom": null,
            "display": null,
            "flex": null,
            "flex_flow": null,
            "grid_area": null,
            "grid_auto_columns": null,
            "grid_auto_flow": null,
            "grid_auto_rows": null,
            "grid_column": null,
            "grid_gap": null,
            "grid_row": null,
            "grid_template_areas": null,
            "grid_template_columns": null,
            "grid_template_rows": null,
            "height": null,
            "justify_content": null,
            "justify_items": null,
            "left": null,
            "margin": null,
            "max_height": null,
            "max_width": null,
            "min_height": null,
            "min_width": null,
            "object_fit": null,
            "object_position": null,
            "order": null,
            "overflow": null,
            "overflow_x": null,
            "overflow_y": null,
            "padding": null,
            "right": null,
            "top": null,
            "visibility": null,
            "width": null
          }
        },
        "489cd8d78fed47fd81a308ac594b89b2": {
          "model_module": "@jupyter-widgets/controls",
          "model_name": "DescriptionStyleModel",
          "model_module_version": "1.5.0",
          "state": {
            "_model_module": "@jupyter-widgets/controls",
            "_model_module_version": "1.5.0",
            "_model_name": "DescriptionStyleModel",
            "_view_count": null,
            "_view_module": "@jupyter-widgets/base",
            "_view_module_version": "1.2.0",
            "_view_name": "StyleView",
            "description_width": ""
          }
        },
        "3d0054fc6252450ea5806338fb5f0c2e": {
          "model_module": "@jupyter-widgets/base",
          "model_name": "LayoutModel",
          "model_module_version": "1.2.0",
          "state": {
            "_model_module": "@jupyter-widgets/base",
            "_model_module_version": "1.2.0",
            "_model_name": "LayoutModel",
            "_view_count": null,
            "_view_module": "@jupyter-widgets/base",
            "_view_module_version": "1.2.0",
            "_view_name": "LayoutView",
            "align_content": null,
            "align_items": null,
            "align_self": null,
            "border": null,
            "bottom": null,
            "display": null,
            "flex": null,
            "flex_flow": null,
            "grid_area": null,
            "grid_auto_columns": null,
            "grid_auto_flow": null,
            "grid_auto_rows": null,
            "grid_column": null,
            "grid_gap": null,
            "grid_row": null,
            "grid_template_areas": null,
            "grid_template_columns": null,
            "grid_template_rows": null,
            "height": null,
            "justify_content": null,
            "justify_items": null,
            "left": null,
            "margin": null,
            "max_height": null,
            "max_width": null,
            "min_height": null,
            "min_width": null,
            "object_fit": null,
            "object_position": null,
            "order": null,
            "overflow": null,
            "overflow_x": null,
            "overflow_y": null,
            "padding": null,
            "right": null,
            "top": null,
            "visibility": null,
            "width": null
          }
        },
        "35291eb765164666b2b049947b3e867a": {
          "model_module": "@jupyter-widgets/controls",
          "model_name": "DescriptionStyleModel",
          "model_module_version": "1.5.0",
          "state": {
            "_model_module": "@jupyter-widgets/controls",
            "_model_module_version": "1.5.0",
            "_model_name": "DescriptionStyleModel",
            "_view_count": null,
            "_view_module": "@jupyter-widgets/base",
            "_view_module_version": "1.2.0",
            "_view_name": "StyleView",
            "description_width": ""
          }
        },
        "b7d97140b1724c28a9a9612dacae73f3": {
          "model_module": "@jupyter-widgets/base",
          "model_name": "LayoutModel",
          "model_module_version": "1.2.0",
          "state": {
            "_model_module": "@jupyter-widgets/base",
            "_model_module_version": "1.2.0",
            "_model_name": "LayoutModel",
            "_view_count": null,
            "_view_module": "@jupyter-widgets/base",
            "_view_module_version": "1.2.0",
            "_view_name": "LayoutView",
            "align_content": null,
            "align_items": null,
            "align_self": null,
            "border": null,
            "bottom": null,
            "display": null,
            "flex": null,
            "flex_flow": null,
            "grid_area": null,
            "grid_auto_columns": null,
            "grid_auto_flow": null,
            "grid_auto_rows": null,
            "grid_column": null,
            "grid_gap": null,
            "grid_row": null,
            "grid_template_areas": null,
            "grid_template_columns": null,
            "grid_template_rows": null,
            "height": null,
            "justify_content": null,
            "justify_items": null,
            "left": null,
            "margin": null,
            "max_height": null,
            "max_width": null,
            "min_height": null,
            "min_width": null,
            "object_fit": null,
            "object_position": null,
            "order": null,
            "overflow": null,
            "overflow_x": null,
            "overflow_y": null,
            "padding": null,
            "right": null,
            "top": null,
            "visibility": null,
            "width": null
          }
        },
        "1e301e4290534c48b7beee60b5eddb08": {
          "model_module": "@jupyter-widgets/controls",
          "model_name": "DescriptionStyleModel",
          "model_module_version": "1.5.0",
          "state": {
            "_model_module": "@jupyter-widgets/controls",
            "_model_module_version": "1.5.0",
            "_model_name": "DescriptionStyleModel",
            "_view_count": null,
            "_view_module": "@jupyter-widgets/base",
            "_view_module_version": "1.2.0",
            "_view_name": "StyleView",
            "description_width": ""
          }
        },
        "97b0cb93d25c46e082aaefb4fcda5f93": {
          "model_module": "@jupyter-widgets/base",
          "model_name": "LayoutModel",
          "model_module_version": "1.2.0",
          "state": {
            "_model_module": "@jupyter-widgets/base",
            "_model_module_version": "1.2.0",
            "_model_name": "LayoutModel",
            "_view_count": null,
            "_view_module": "@jupyter-widgets/base",
            "_view_module_version": "1.2.0",
            "_view_name": "LayoutView",
            "align_content": null,
            "align_items": null,
            "align_self": null,
            "border": null,
            "bottom": null,
            "display": null,
            "flex": null,
            "flex_flow": null,
            "grid_area": null,
            "grid_auto_columns": null,
            "grid_auto_flow": null,
            "grid_auto_rows": null,
            "grid_column": null,
            "grid_gap": null,
            "grid_row": null,
            "grid_template_areas": null,
            "grid_template_columns": null,
            "grid_template_rows": null,
            "height": null,
            "justify_content": null,
            "justify_items": null,
            "left": null,
            "margin": null,
            "max_height": null,
            "max_width": null,
            "min_height": null,
            "min_width": null,
            "object_fit": null,
            "object_position": null,
            "order": null,
            "overflow": null,
            "overflow_x": null,
            "overflow_y": null,
            "padding": null,
            "right": null,
            "top": null,
            "visibility": null,
            "width": null
          }
        },
        "cd9c895e950d4ea6a6ff0ac889c60752": {
          "model_module": "@jupyter-widgets/controls",
          "model_name": "ButtonStyleModel",
          "model_module_version": "1.5.0",
          "state": {
            "_model_module": "@jupyter-widgets/controls",
            "_model_module_version": "1.5.0",
            "_model_name": "ButtonStyleModel",
            "_view_count": null,
            "_view_module": "@jupyter-widgets/base",
            "_view_module_version": "1.2.0",
            "_view_name": "StyleView",
            "button_color": null,
            "font_weight": ""
          }
        },
        "9cd7afa59feb4dc5ab25461aed2f32da": {
          "model_module": "@jupyter-widgets/base",
          "model_name": "LayoutModel",
          "model_module_version": "1.2.0",
          "state": {
            "_model_module": "@jupyter-widgets/base",
            "_model_module_version": "1.2.0",
            "_model_name": "LayoutModel",
            "_view_count": null,
            "_view_module": "@jupyter-widgets/base",
            "_view_module_version": "1.2.0",
            "_view_name": "LayoutView",
            "align_content": null,
            "align_items": null,
            "align_self": null,
            "border": null,
            "bottom": null,
            "display": null,
            "flex": null,
            "flex_flow": null,
            "grid_area": null,
            "grid_auto_columns": null,
            "grid_auto_flow": null,
            "grid_auto_rows": null,
            "grid_column": null,
            "grid_gap": null,
            "grid_row": null,
            "grid_template_areas": null,
            "grid_template_columns": null,
            "grid_template_rows": null,
            "height": null,
            "justify_content": null,
            "justify_items": null,
            "left": null,
            "margin": null,
            "max_height": null,
            "max_width": null,
            "min_height": null,
            "min_width": null,
            "object_fit": null,
            "object_position": null,
            "order": null,
            "overflow": null,
            "overflow_x": null,
            "overflow_y": null,
            "padding": null,
            "right": null,
            "top": null,
            "visibility": null,
            "width": null
          }
        },
        "0fa4923aed514d87807510d68407c353": {
          "model_module": "@jupyter-widgets/controls",
          "model_name": "DescriptionStyleModel",
          "model_module_version": "1.5.0",
          "state": {
            "_model_module": "@jupyter-widgets/controls",
            "_model_module_version": "1.5.0",
            "_model_name": "DescriptionStyleModel",
            "_view_count": null,
            "_view_module": "@jupyter-widgets/base",
            "_view_module_version": "1.2.0",
            "_view_name": "StyleView",
            "description_width": ""
          }
        },
        "814749e8251542f9a194a7f5c9a7d613": {
          "model_module": "@jupyter-widgets/controls",
          "model_name": "LabelModel",
          "model_module_version": "1.5.0",
          "state": {
            "_dom_classes": [],
            "_model_module": "@jupyter-widgets/controls",
            "_model_module_version": "1.5.0",
            "_model_name": "LabelModel",
            "_view_count": null,
            "_view_module": "@jupyter-widgets/controls",
            "_view_module_version": "1.5.0",
            "_view_name": "LabelView",
            "description": "",
            "description_tooltip": null,
            "layout": "IPY_MODEL_a584e77ee19a4f568ef4b6c5f35cfbed",
            "placeholder": "​",
            "style": "IPY_MODEL_37cfdce18b744f95b93b2d24e40c0e01",
            "value": "Connecting..."
          }
        },
        "a584e77ee19a4f568ef4b6c5f35cfbed": {
          "model_module": "@jupyter-widgets/base",
          "model_name": "LayoutModel",
          "model_module_version": "1.2.0",
          "state": {
            "_model_module": "@jupyter-widgets/base",
            "_model_module_version": "1.2.0",
            "_model_name": "LayoutModel",
            "_view_count": null,
            "_view_module": "@jupyter-widgets/base",
            "_view_module_version": "1.2.0",
            "_view_name": "LayoutView",
            "align_content": null,
            "align_items": null,
            "align_self": null,
            "border": null,
            "bottom": null,
            "display": null,
            "flex": null,
            "flex_flow": null,
            "grid_area": null,
            "grid_auto_columns": null,
            "grid_auto_flow": null,
            "grid_auto_rows": null,
            "grid_column": null,
            "grid_gap": null,
            "grid_row": null,
            "grid_template_areas": null,
            "grid_template_columns": null,
            "grid_template_rows": null,
            "height": null,
            "justify_content": null,
            "justify_items": null,
            "left": null,
            "margin": null,
            "max_height": null,
            "max_width": null,
            "min_height": null,
            "min_width": null,
            "object_fit": null,
            "object_position": null,
            "order": null,
            "overflow": null,
            "overflow_x": null,
            "overflow_y": null,
            "padding": null,
            "right": null,
            "top": null,
            "visibility": null,
            "width": null
          }
        },
        "37cfdce18b744f95b93b2d24e40c0e01": {
          "model_module": "@jupyter-widgets/controls",
          "model_name": "DescriptionStyleModel",
          "model_module_version": "1.5.0",
          "state": {
            "_model_module": "@jupyter-widgets/controls",
            "_model_module_version": "1.5.0",
            "_model_name": "DescriptionStyleModel",
            "_view_count": null,
            "_view_module": "@jupyter-widgets/base",
            "_view_module_version": "1.2.0",
            "_view_name": "StyleView",
            "description_width": ""
          }
        },
        "21adcb13aace46fb9c343886e91cb935": {
          "model_module": "@jupyter-widgets/controls",
          "model_name": "LabelModel",
          "model_module_version": "1.5.0",
          "state": {
            "_dom_classes": [],
            "_model_module": "@jupyter-widgets/controls",
            "_model_module_version": "1.5.0",
            "_model_name": "LabelModel",
            "_view_count": null,
            "_view_module": "@jupyter-widgets/controls",
            "_view_module_version": "1.5.0",
            "_view_name": "LabelView",
            "description": "",
            "description_tooltip": null,
            "layout": "IPY_MODEL_c32a4bd9879c4753bf4f598b79e9a51b",
            "placeholder": "​",
            "style": "IPY_MODEL_78382c57a3704c80a5acb398f369911b",
            "value": "Token is valid (permission: write)."
          }
        },
        "e45768bf1d0d4debb2cf8604e7619e9d": {
          "model_module": "@jupyter-widgets/controls",
          "model_name": "LabelModel",
          "model_module_version": "1.5.0",
          "state": {
            "_dom_classes": [],
            "_model_module": "@jupyter-widgets/controls",
            "_model_module_version": "1.5.0",
            "_model_name": "LabelModel",
            "_view_count": null,
            "_view_module": "@jupyter-widgets/controls",
            "_view_module_version": "1.5.0",
            "_view_name": "LabelView",
            "description": "",
            "description_tooltip": null,
            "layout": "IPY_MODEL_6e234937d42448f89aef94e94eb66ff7",
            "placeholder": "​",
            "style": "IPY_MODEL_aad1b3918a6e412d9fde8b2273858c8e",
            "value": "Your token has been saved in your configured git credential helpers (store)."
          }
        },
        "076e9903cbcf43798fdb776195dcb77b": {
          "model_module": "@jupyter-widgets/controls",
          "model_name": "LabelModel",
          "model_module_version": "1.5.0",
          "state": {
            "_dom_classes": [],
            "_model_module": "@jupyter-widgets/controls",
            "_model_module_version": "1.5.0",
            "_model_name": "LabelModel",
            "_view_count": null,
            "_view_module": "@jupyter-widgets/controls",
            "_view_module_version": "1.5.0",
            "_view_name": "LabelView",
            "description": "",
            "description_tooltip": null,
            "layout": "IPY_MODEL_c7fa788da53f42cf8e1302a5d8c7bf0f",
            "placeholder": "​",
            "style": "IPY_MODEL_1d3bfac1446d48e7ae7fab2f532757e7",
            "value": "Your token has been saved to /root/.cache/huggingface/token"
          }
        },
        "5c80e50a162d48ac92ebfdebaacebc52": {
          "model_module": "@jupyter-widgets/controls",
          "model_name": "LabelModel",
          "model_module_version": "1.5.0",
          "state": {
            "_dom_classes": [],
            "_model_module": "@jupyter-widgets/controls",
            "_model_module_version": "1.5.0",
            "_model_name": "LabelModel",
            "_view_count": null,
            "_view_module": "@jupyter-widgets/controls",
            "_view_module_version": "1.5.0",
            "_view_name": "LabelView",
            "description": "",
            "description_tooltip": null,
            "layout": "IPY_MODEL_647cb1b297044ba4b08a4d430be19c70",
            "placeholder": "​",
            "style": "IPY_MODEL_d7aba311cbc14c13b2a57212c1ae5ba5",
            "value": "Login successful"
          }
        },
        "c32a4bd9879c4753bf4f598b79e9a51b": {
          "model_module": "@jupyter-widgets/base",
          "model_name": "LayoutModel",
          "model_module_version": "1.2.0",
          "state": {
            "_model_module": "@jupyter-widgets/base",
            "_model_module_version": "1.2.0",
            "_model_name": "LayoutModel",
            "_view_count": null,
            "_view_module": "@jupyter-widgets/base",
            "_view_module_version": "1.2.0",
            "_view_name": "LayoutView",
            "align_content": null,
            "align_items": null,
            "align_self": null,
            "border": null,
            "bottom": null,
            "display": null,
            "flex": null,
            "flex_flow": null,
            "grid_area": null,
            "grid_auto_columns": null,
            "grid_auto_flow": null,
            "grid_auto_rows": null,
            "grid_column": null,
            "grid_gap": null,
            "grid_row": null,
            "grid_template_areas": null,
            "grid_template_columns": null,
            "grid_template_rows": null,
            "height": null,
            "justify_content": null,
            "justify_items": null,
            "left": null,
            "margin": null,
            "max_height": null,
            "max_width": null,
            "min_height": null,
            "min_width": null,
            "object_fit": null,
            "object_position": null,
            "order": null,
            "overflow": null,
            "overflow_x": null,
            "overflow_y": null,
            "padding": null,
            "right": null,
            "top": null,
            "visibility": null,
            "width": null
          }
        },
        "78382c57a3704c80a5acb398f369911b": {
          "model_module": "@jupyter-widgets/controls",
          "model_name": "DescriptionStyleModel",
          "model_module_version": "1.5.0",
          "state": {
            "_model_module": "@jupyter-widgets/controls",
            "_model_module_version": "1.5.0",
            "_model_name": "DescriptionStyleModel",
            "_view_count": null,
            "_view_module": "@jupyter-widgets/base",
            "_view_module_version": "1.2.0",
            "_view_name": "StyleView",
            "description_width": ""
          }
        },
        "6e234937d42448f89aef94e94eb66ff7": {
          "model_module": "@jupyter-widgets/base",
          "model_name": "LayoutModel",
          "model_module_version": "1.2.0",
          "state": {
            "_model_module": "@jupyter-widgets/base",
            "_model_module_version": "1.2.0",
            "_model_name": "LayoutModel",
            "_view_count": null,
            "_view_module": "@jupyter-widgets/base",
            "_view_module_version": "1.2.0",
            "_view_name": "LayoutView",
            "align_content": null,
            "align_items": null,
            "align_self": null,
            "border": null,
            "bottom": null,
            "display": null,
            "flex": null,
            "flex_flow": null,
            "grid_area": null,
            "grid_auto_columns": null,
            "grid_auto_flow": null,
            "grid_auto_rows": null,
            "grid_column": null,
            "grid_gap": null,
            "grid_row": null,
            "grid_template_areas": null,
            "grid_template_columns": null,
            "grid_template_rows": null,
            "height": null,
            "justify_content": null,
            "justify_items": null,
            "left": null,
            "margin": null,
            "max_height": null,
            "max_width": null,
            "min_height": null,
            "min_width": null,
            "object_fit": null,
            "object_position": null,
            "order": null,
            "overflow": null,
            "overflow_x": null,
            "overflow_y": null,
            "padding": null,
            "right": null,
            "top": null,
            "visibility": null,
            "width": null
          }
        },
        "aad1b3918a6e412d9fde8b2273858c8e": {
          "model_module": "@jupyter-widgets/controls",
          "model_name": "DescriptionStyleModel",
          "model_module_version": "1.5.0",
          "state": {
            "_model_module": "@jupyter-widgets/controls",
            "_model_module_version": "1.5.0",
            "_model_name": "DescriptionStyleModel",
            "_view_count": null,
            "_view_module": "@jupyter-widgets/base",
            "_view_module_version": "1.2.0",
            "_view_name": "StyleView",
            "description_width": ""
          }
        },
        "c7fa788da53f42cf8e1302a5d8c7bf0f": {
          "model_module": "@jupyter-widgets/base",
          "model_name": "LayoutModel",
          "model_module_version": "1.2.0",
          "state": {
            "_model_module": "@jupyter-widgets/base",
            "_model_module_version": "1.2.0",
            "_model_name": "LayoutModel",
            "_view_count": null,
            "_view_module": "@jupyter-widgets/base",
            "_view_module_version": "1.2.0",
            "_view_name": "LayoutView",
            "align_content": null,
            "align_items": null,
            "align_self": null,
            "border": null,
            "bottom": null,
            "display": null,
            "flex": null,
            "flex_flow": null,
            "grid_area": null,
            "grid_auto_columns": null,
            "grid_auto_flow": null,
            "grid_auto_rows": null,
            "grid_column": null,
            "grid_gap": null,
            "grid_row": null,
            "grid_template_areas": null,
            "grid_template_columns": null,
            "grid_template_rows": null,
            "height": null,
            "justify_content": null,
            "justify_items": null,
            "left": null,
            "margin": null,
            "max_height": null,
            "max_width": null,
            "min_height": null,
            "min_width": null,
            "object_fit": null,
            "object_position": null,
            "order": null,
            "overflow": null,
            "overflow_x": null,
            "overflow_y": null,
            "padding": null,
            "right": null,
            "top": null,
            "visibility": null,
            "width": null
          }
        },
        "1d3bfac1446d48e7ae7fab2f532757e7": {
          "model_module": "@jupyter-widgets/controls",
          "model_name": "DescriptionStyleModel",
          "model_module_version": "1.5.0",
          "state": {
            "_model_module": "@jupyter-widgets/controls",
            "_model_module_version": "1.5.0",
            "_model_name": "DescriptionStyleModel",
            "_view_count": null,
            "_view_module": "@jupyter-widgets/base",
            "_view_module_version": "1.2.0",
            "_view_name": "StyleView",
            "description_width": ""
          }
        },
        "647cb1b297044ba4b08a4d430be19c70": {
          "model_module": "@jupyter-widgets/base",
          "model_name": "LayoutModel",
          "model_module_version": "1.2.0",
          "state": {
            "_model_module": "@jupyter-widgets/base",
            "_model_module_version": "1.2.0",
            "_model_name": "LayoutModel",
            "_view_count": null,
            "_view_module": "@jupyter-widgets/base",
            "_view_module_version": "1.2.0",
            "_view_name": "LayoutView",
            "align_content": null,
            "align_items": null,
            "align_self": null,
            "border": null,
            "bottom": null,
            "display": null,
            "flex": null,
            "flex_flow": null,
            "grid_area": null,
            "grid_auto_columns": null,
            "grid_auto_flow": null,
            "grid_auto_rows": null,
            "grid_column": null,
            "grid_gap": null,
            "grid_row": null,
            "grid_template_areas": null,
            "grid_template_columns": null,
            "grid_template_rows": null,
            "height": null,
            "justify_content": null,
            "justify_items": null,
            "left": null,
            "margin": null,
            "max_height": null,
            "max_width": null,
            "min_height": null,
            "min_width": null,
            "object_fit": null,
            "object_position": null,
            "order": null,
            "overflow": null,
            "overflow_x": null,
            "overflow_y": null,
            "padding": null,
            "right": null,
            "top": null,
            "visibility": null,
            "width": null
          }
        },
        "d7aba311cbc14c13b2a57212c1ae5ba5": {
          "model_module": "@jupyter-widgets/controls",
          "model_name": "DescriptionStyleModel",
          "model_module_version": "1.5.0",
          "state": {
            "_model_module": "@jupyter-widgets/controls",
            "_model_module_version": "1.5.0",
            "_model_name": "DescriptionStyleModel",
            "_view_count": null,
            "_view_module": "@jupyter-widgets/base",
            "_view_module_version": "1.2.0",
            "_view_name": "StyleView",
            "description_width": ""
          }
        },
        "5fef2d81880c4c2986d46c500333d8d4": {
          "model_module": "@jupyter-widgets/controls",
          "model_name": "HBoxModel",
          "model_module_version": "1.5.0",
          "state": {
            "_dom_classes": [],
            "_model_module": "@jupyter-widgets/controls",
            "_model_module_version": "1.5.0",
            "_model_name": "HBoxModel",
            "_view_count": null,
            "_view_module": "@jupyter-widgets/controls",
            "_view_module_version": "1.5.0",
            "_view_name": "HBoxView",
            "box_style": "",
            "children": [
              "IPY_MODEL_6120aed35391436f946d6b583dc20a5f",
              "IPY_MODEL_49ea22bbc104491fb8be10057c6eb312",
              "IPY_MODEL_4b54106d05fd470497ae05b11a827c8c"
            ],
            "layout": "IPY_MODEL_d9ef7724cc834399b50b96e8949197fd"
          }
        },
        "6120aed35391436f946d6b583dc20a5f": {
          "model_module": "@jupyter-widgets/controls",
          "model_name": "HTMLModel",
          "model_module_version": "1.5.0",
          "state": {
            "_dom_classes": [],
            "_model_module": "@jupyter-widgets/controls",
            "_model_module_version": "1.5.0",
            "_model_name": "HTMLModel",
            "_view_count": null,
            "_view_module": "@jupyter-widgets/controls",
            "_view_module_version": "1.5.0",
            "_view_name": "HTMLView",
            "description": "",
            "description_tooltip": null,
            "layout": "IPY_MODEL_7599d4dd965d47ef9d7890d539b23ae2",
            "placeholder": "​",
            "style": "IPY_MODEL_d44d50b7852047f887f1702ccb17ada2",
            "value": "adapter_config.json: 100%"
          }
        },
        "49ea22bbc104491fb8be10057c6eb312": {
          "model_module": "@jupyter-widgets/controls",
          "model_name": "FloatProgressModel",
          "model_module_version": "1.5.0",
          "state": {
            "_dom_classes": [],
            "_model_module": "@jupyter-widgets/controls",
            "_model_module_version": "1.5.0",
            "_model_name": "FloatProgressModel",
            "_view_count": null,
            "_view_module": "@jupyter-widgets/controls",
            "_view_module_version": "1.5.0",
            "_view_name": "ProgressView",
            "bar_style": "success",
            "description": "",
            "description_tooltip": null,
            "layout": "IPY_MODEL_91b57ee5a1ef468d9b9984a3f7acbc96",
            "max": 641,
            "min": 0,
            "orientation": "horizontal",
            "style": "IPY_MODEL_f507527882694c6690157c92e2afd75a",
            "value": 641
          }
        },
        "4b54106d05fd470497ae05b11a827c8c": {
          "model_module": "@jupyter-widgets/controls",
          "model_name": "HTMLModel",
          "model_module_version": "1.5.0",
          "state": {
            "_dom_classes": [],
            "_model_module": "@jupyter-widgets/controls",
            "_model_module_version": "1.5.0",
            "_model_name": "HTMLModel",
            "_view_count": null,
            "_view_module": "@jupyter-widgets/controls",
            "_view_module_version": "1.5.0",
            "_view_name": "HTMLView",
            "description": "",
            "description_tooltip": null,
            "layout": "IPY_MODEL_79a27ec6b8954c6984a6a868d4cf6f6d",
            "placeholder": "​",
            "style": "IPY_MODEL_f8a64dcd70fe42e089e5d94639f2a39f",
            "value": " 641/641 [00:00&lt;00:00, 53.2kB/s]"
          }
        },
        "d9ef7724cc834399b50b96e8949197fd": {
          "model_module": "@jupyter-widgets/base",
          "model_name": "LayoutModel",
          "model_module_version": "1.2.0",
          "state": {
            "_model_module": "@jupyter-widgets/base",
            "_model_module_version": "1.2.0",
            "_model_name": "LayoutModel",
            "_view_count": null,
            "_view_module": "@jupyter-widgets/base",
            "_view_module_version": "1.2.0",
            "_view_name": "LayoutView",
            "align_content": null,
            "align_items": null,
            "align_self": null,
            "border": null,
            "bottom": null,
            "display": null,
            "flex": null,
            "flex_flow": null,
            "grid_area": null,
            "grid_auto_columns": null,
            "grid_auto_flow": null,
            "grid_auto_rows": null,
            "grid_column": null,
            "grid_gap": null,
            "grid_row": null,
            "grid_template_areas": null,
            "grid_template_columns": null,
            "grid_template_rows": null,
            "height": null,
            "justify_content": null,
            "justify_items": null,
            "left": null,
            "margin": null,
            "max_height": null,
            "max_width": null,
            "min_height": null,
            "min_width": null,
            "object_fit": null,
            "object_position": null,
            "order": null,
            "overflow": null,
            "overflow_x": null,
            "overflow_y": null,
            "padding": null,
            "right": null,
            "top": null,
            "visibility": null,
            "width": null
          }
        },
        "7599d4dd965d47ef9d7890d539b23ae2": {
          "model_module": "@jupyter-widgets/base",
          "model_name": "LayoutModel",
          "model_module_version": "1.2.0",
          "state": {
            "_model_module": "@jupyter-widgets/base",
            "_model_module_version": "1.2.0",
            "_model_name": "LayoutModel",
            "_view_count": null,
            "_view_module": "@jupyter-widgets/base",
            "_view_module_version": "1.2.0",
            "_view_name": "LayoutView",
            "align_content": null,
            "align_items": null,
            "align_self": null,
            "border": null,
            "bottom": null,
            "display": null,
            "flex": null,
            "flex_flow": null,
            "grid_area": null,
            "grid_auto_columns": null,
            "grid_auto_flow": null,
            "grid_auto_rows": null,
            "grid_column": null,
            "grid_gap": null,
            "grid_row": null,
            "grid_template_areas": null,
            "grid_template_columns": null,
            "grid_template_rows": null,
            "height": null,
            "justify_content": null,
            "justify_items": null,
            "left": null,
            "margin": null,
            "max_height": null,
            "max_width": null,
            "min_height": null,
            "min_width": null,
            "object_fit": null,
            "object_position": null,
            "order": null,
            "overflow": null,
            "overflow_x": null,
            "overflow_y": null,
            "padding": null,
            "right": null,
            "top": null,
            "visibility": null,
            "width": null
          }
        },
        "d44d50b7852047f887f1702ccb17ada2": {
          "model_module": "@jupyter-widgets/controls",
          "model_name": "DescriptionStyleModel",
          "model_module_version": "1.5.0",
          "state": {
            "_model_module": "@jupyter-widgets/controls",
            "_model_module_version": "1.5.0",
            "_model_name": "DescriptionStyleModel",
            "_view_count": null,
            "_view_module": "@jupyter-widgets/base",
            "_view_module_version": "1.2.0",
            "_view_name": "StyleView",
            "description_width": ""
          }
        },
        "91b57ee5a1ef468d9b9984a3f7acbc96": {
          "model_module": "@jupyter-widgets/base",
          "model_name": "LayoutModel",
          "model_module_version": "1.2.0",
          "state": {
            "_model_module": "@jupyter-widgets/base",
            "_model_module_version": "1.2.0",
            "_model_name": "LayoutModel",
            "_view_count": null,
            "_view_module": "@jupyter-widgets/base",
            "_view_module_version": "1.2.0",
            "_view_name": "LayoutView",
            "align_content": null,
            "align_items": null,
            "align_self": null,
            "border": null,
            "bottom": null,
            "display": null,
            "flex": null,
            "flex_flow": null,
            "grid_area": null,
            "grid_auto_columns": null,
            "grid_auto_flow": null,
            "grid_auto_rows": null,
            "grid_column": null,
            "grid_gap": null,
            "grid_row": null,
            "grid_template_areas": null,
            "grid_template_columns": null,
            "grid_template_rows": null,
            "height": null,
            "justify_content": null,
            "justify_items": null,
            "left": null,
            "margin": null,
            "max_height": null,
            "max_width": null,
            "min_height": null,
            "min_width": null,
            "object_fit": null,
            "object_position": null,
            "order": null,
            "overflow": null,
            "overflow_x": null,
            "overflow_y": null,
            "padding": null,
            "right": null,
            "top": null,
            "visibility": null,
            "width": null
          }
        },
        "f507527882694c6690157c92e2afd75a": {
          "model_module": "@jupyter-widgets/controls",
          "model_name": "ProgressStyleModel",
          "model_module_version": "1.5.0",
          "state": {
            "_model_module": "@jupyter-widgets/controls",
            "_model_module_version": "1.5.0",
            "_model_name": "ProgressStyleModel",
            "_view_count": null,
            "_view_module": "@jupyter-widgets/base",
            "_view_module_version": "1.2.0",
            "_view_name": "StyleView",
            "bar_color": null,
            "description_width": ""
          }
        },
        "79a27ec6b8954c6984a6a868d4cf6f6d": {
          "model_module": "@jupyter-widgets/base",
          "model_name": "LayoutModel",
          "model_module_version": "1.2.0",
          "state": {
            "_model_module": "@jupyter-widgets/base",
            "_model_module_version": "1.2.0",
            "_model_name": "LayoutModel",
            "_view_count": null,
            "_view_module": "@jupyter-widgets/base",
            "_view_module_version": "1.2.0",
            "_view_name": "LayoutView",
            "align_content": null,
            "align_items": null,
            "align_self": null,
            "border": null,
            "bottom": null,
            "display": null,
            "flex": null,
            "flex_flow": null,
            "grid_area": null,
            "grid_auto_columns": null,
            "grid_auto_flow": null,
            "grid_auto_rows": null,
            "grid_column": null,
            "grid_gap": null,
            "grid_row": null,
            "grid_template_areas": null,
            "grid_template_columns": null,
            "grid_template_rows": null,
            "height": null,
            "justify_content": null,
            "justify_items": null,
            "left": null,
            "margin": null,
            "max_height": null,
            "max_width": null,
            "min_height": null,
            "min_width": null,
            "object_fit": null,
            "object_position": null,
            "order": null,
            "overflow": null,
            "overflow_x": null,
            "overflow_y": null,
            "padding": null,
            "right": null,
            "top": null,
            "visibility": null,
            "width": null
          }
        },
        "f8a64dcd70fe42e089e5d94639f2a39f": {
          "model_module": "@jupyter-widgets/controls",
          "model_name": "DescriptionStyleModel",
          "model_module_version": "1.5.0",
          "state": {
            "_model_module": "@jupyter-widgets/controls",
            "_model_module_version": "1.5.0",
            "_model_name": "DescriptionStyleModel",
            "_view_count": null,
            "_view_module": "@jupyter-widgets/base",
            "_view_module_version": "1.2.0",
            "_view_name": "StyleView",
            "description_width": ""
          }
        },
        "5d05acef83e04ecca989cf2e532c09fc": {
          "model_module": "@jupyter-widgets/controls",
          "model_name": "HBoxModel",
          "model_module_version": "1.5.0",
          "state": {
            "_dom_classes": [],
            "_model_module": "@jupyter-widgets/controls",
            "_model_module_version": "1.5.0",
            "_model_name": "HBoxModel",
            "_view_count": null,
            "_view_module": "@jupyter-widgets/controls",
            "_view_module_version": "1.5.0",
            "_view_name": "HBoxView",
            "box_style": "",
            "children": [
              "IPY_MODEL_7a7e475f1102451baf9cc32ecca13e18",
              "IPY_MODEL_6432b341b2b54125a8e51f826dab2dc8",
              "IPY_MODEL_1b6a336db8444b0785ae217294d59c04"
            ],
            "layout": "IPY_MODEL_af89dcf7062f43869f7f17fcc4273e76"
          }
        },
        "7a7e475f1102451baf9cc32ecca13e18": {
          "model_module": "@jupyter-widgets/controls",
          "model_name": "HTMLModel",
          "model_module_version": "1.5.0",
          "state": {
            "_dom_classes": [],
            "_model_module": "@jupyter-widgets/controls",
            "_model_module_version": "1.5.0",
            "_model_name": "HTMLModel",
            "_view_count": null,
            "_view_module": "@jupyter-widgets/controls",
            "_view_module_version": "1.5.0",
            "_view_name": "HTMLView",
            "description": "",
            "description_tooltip": null,
            "layout": "IPY_MODEL_49d268999f9243fa98626f702db52f15",
            "placeholder": "​",
            "style": "IPY_MODEL_efa3184076d34533943dc426a302fe37",
            "value": "adapter_model.safetensors: 100%"
          }
        },
        "6432b341b2b54125a8e51f826dab2dc8": {
          "model_module": "@jupyter-widgets/controls",
          "model_name": "FloatProgressModel",
          "model_module_version": "1.5.0",
          "state": {
            "_dom_classes": [],
            "_model_module": "@jupyter-widgets/controls",
            "_model_module_version": "1.5.0",
            "_model_name": "FloatProgressModel",
            "_view_count": null,
            "_view_module": "@jupyter-widgets/controls",
            "_view_module_version": "1.5.0",
            "_view_name": "ProgressView",
            "bar_style": "success",
            "description": "",
            "description_tooltip": null,
            "layout": "IPY_MODEL_6f5e33a7658949a89593665dcd15af45",
            "max": 1585400,
            "min": 0,
            "orientation": "horizontal",
            "style": "IPY_MODEL_7ad5f308841c4b1691f40dad2d0b5abf",
            "value": 1585400
          }
        },
        "1b6a336db8444b0785ae217294d59c04": {
          "model_module": "@jupyter-widgets/controls",
          "model_name": "HTMLModel",
          "model_module_version": "1.5.0",
          "state": {
            "_dom_classes": [],
            "_model_module": "@jupyter-widgets/controls",
            "_model_module_version": "1.5.0",
            "_model_name": "HTMLModel",
            "_view_count": null,
            "_view_module": "@jupyter-widgets/controls",
            "_view_module_version": "1.5.0",
            "_view_name": "HTMLView",
            "description": "",
            "description_tooltip": null,
            "layout": "IPY_MODEL_665d64f76ec0494aabb9865b1deb3181",
            "placeholder": "​",
            "style": "IPY_MODEL_29093359383b46db894d92192c3bad94",
            "value": " 1.59M/1.59M [00:00&lt;00:00, 20.5MB/s]"
          }
        },
        "af89dcf7062f43869f7f17fcc4273e76": {
          "model_module": "@jupyter-widgets/base",
          "model_name": "LayoutModel",
          "model_module_version": "1.2.0",
          "state": {
            "_model_module": "@jupyter-widgets/base",
            "_model_module_version": "1.2.0",
            "_model_name": "LayoutModel",
            "_view_count": null,
            "_view_module": "@jupyter-widgets/base",
            "_view_module_version": "1.2.0",
            "_view_name": "LayoutView",
            "align_content": null,
            "align_items": null,
            "align_self": null,
            "border": null,
            "bottom": null,
            "display": null,
            "flex": null,
            "flex_flow": null,
            "grid_area": null,
            "grid_auto_columns": null,
            "grid_auto_flow": null,
            "grid_auto_rows": null,
            "grid_column": null,
            "grid_gap": null,
            "grid_row": null,
            "grid_template_areas": null,
            "grid_template_columns": null,
            "grid_template_rows": null,
            "height": null,
            "justify_content": null,
            "justify_items": null,
            "left": null,
            "margin": null,
            "max_height": null,
            "max_width": null,
            "min_height": null,
            "min_width": null,
            "object_fit": null,
            "object_position": null,
            "order": null,
            "overflow": null,
            "overflow_x": null,
            "overflow_y": null,
            "padding": null,
            "right": null,
            "top": null,
            "visibility": null,
            "width": null
          }
        },
        "49d268999f9243fa98626f702db52f15": {
          "model_module": "@jupyter-widgets/base",
          "model_name": "LayoutModel",
          "model_module_version": "1.2.0",
          "state": {
            "_model_module": "@jupyter-widgets/base",
            "_model_module_version": "1.2.0",
            "_model_name": "LayoutModel",
            "_view_count": null,
            "_view_module": "@jupyter-widgets/base",
            "_view_module_version": "1.2.0",
            "_view_name": "LayoutView",
            "align_content": null,
            "align_items": null,
            "align_self": null,
            "border": null,
            "bottom": null,
            "display": null,
            "flex": null,
            "flex_flow": null,
            "grid_area": null,
            "grid_auto_columns": null,
            "grid_auto_flow": null,
            "grid_auto_rows": null,
            "grid_column": null,
            "grid_gap": null,
            "grid_row": null,
            "grid_template_areas": null,
            "grid_template_columns": null,
            "grid_template_rows": null,
            "height": null,
            "justify_content": null,
            "justify_items": null,
            "left": null,
            "margin": null,
            "max_height": null,
            "max_width": null,
            "min_height": null,
            "min_width": null,
            "object_fit": null,
            "object_position": null,
            "order": null,
            "overflow": null,
            "overflow_x": null,
            "overflow_y": null,
            "padding": null,
            "right": null,
            "top": null,
            "visibility": null,
            "width": null
          }
        },
        "efa3184076d34533943dc426a302fe37": {
          "model_module": "@jupyter-widgets/controls",
          "model_name": "DescriptionStyleModel",
          "model_module_version": "1.5.0",
          "state": {
            "_model_module": "@jupyter-widgets/controls",
            "_model_module_version": "1.5.0",
            "_model_name": "DescriptionStyleModel",
            "_view_count": null,
            "_view_module": "@jupyter-widgets/base",
            "_view_module_version": "1.2.0",
            "_view_name": "StyleView",
            "description_width": ""
          }
        },
        "6f5e33a7658949a89593665dcd15af45": {
          "model_module": "@jupyter-widgets/base",
          "model_name": "LayoutModel",
          "model_module_version": "1.2.0",
          "state": {
            "_model_module": "@jupyter-widgets/base",
            "_model_module_version": "1.2.0",
            "_model_name": "LayoutModel",
            "_view_count": null,
            "_view_module": "@jupyter-widgets/base",
            "_view_module_version": "1.2.0",
            "_view_name": "LayoutView",
            "align_content": null,
            "align_items": null,
            "align_self": null,
            "border": null,
            "bottom": null,
            "display": null,
            "flex": null,
            "flex_flow": null,
            "grid_area": null,
            "grid_auto_columns": null,
            "grid_auto_flow": null,
            "grid_auto_rows": null,
            "grid_column": null,
            "grid_gap": null,
            "grid_row": null,
            "grid_template_areas": null,
            "grid_template_columns": null,
            "grid_template_rows": null,
            "height": null,
            "justify_content": null,
            "justify_items": null,
            "left": null,
            "margin": null,
            "max_height": null,
            "max_width": null,
            "min_height": null,
            "min_width": null,
            "object_fit": null,
            "object_position": null,
            "order": null,
            "overflow": null,
            "overflow_x": null,
            "overflow_y": null,
            "padding": null,
            "right": null,
            "top": null,
            "visibility": null,
            "width": null
          }
        },
        "7ad5f308841c4b1691f40dad2d0b5abf": {
          "model_module": "@jupyter-widgets/controls",
          "model_name": "ProgressStyleModel",
          "model_module_version": "1.5.0",
          "state": {
            "_model_module": "@jupyter-widgets/controls",
            "_model_module_version": "1.5.0",
            "_model_name": "ProgressStyleModel",
            "_view_count": null,
            "_view_module": "@jupyter-widgets/base",
            "_view_module_version": "1.2.0",
            "_view_name": "StyleView",
            "bar_color": null,
            "description_width": ""
          }
        },
        "665d64f76ec0494aabb9865b1deb3181": {
          "model_module": "@jupyter-widgets/base",
          "model_name": "LayoutModel",
          "model_module_version": "1.2.0",
          "state": {
            "_model_module": "@jupyter-widgets/base",
            "_model_module_version": "1.2.0",
            "_model_name": "LayoutModel",
            "_view_count": null,
            "_view_module": "@jupyter-widgets/base",
            "_view_module_version": "1.2.0",
            "_view_name": "LayoutView",
            "align_content": null,
            "align_items": null,
            "align_self": null,
            "border": null,
            "bottom": null,
            "display": null,
            "flex": null,
            "flex_flow": null,
            "grid_area": null,
            "grid_auto_columns": null,
            "grid_auto_flow": null,
            "grid_auto_rows": null,
            "grid_column": null,
            "grid_gap": null,
            "grid_row": null,
            "grid_template_areas": null,
            "grid_template_columns": null,
            "grid_template_rows": null,
            "height": null,
            "justify_content": null,
            "justify_items": null,
            "left": null,
            "margin": null,
            "max_height": null,
            "max_width": null,
            "min_height": null,
            "min_width": null,
            "object_fit": null,
            "object_position": null,
            "order": null,
            "overflow": null,
            "overflow_x": null,
            "overflow_y": null,
            "padding": null,
            "right": null,
            "top": null,
            "visibility": null,
            "width": null
          }
        },
        "29093359383b46db894d92192c3bad94": {
          "model_module": "@jupyter-widgets/controls",
          "model_name": "DescriptionStyleModel",
          "model_module_version": "1.5.0",
          "state": {
            "_model_module": "@jupyter-widgets/controls",
            "_model_module_version": "1.5.0",
            "_model_name": "DescriptionStyleModel",
            "_view_count": null,
            "_view_module": "@jupyter-widgets/base",
            "_view_module_version": "1.2.0",
            "_view_name": "StyleView",
            "description_width": ""
          }
        },
        "c5f3220e388f4e50be61c96d7cde034e": {
          "model_module": "@jupyter-widgets/controls",
          "model_name": "HBoxModel",
          "model_module_version": "1.5.0",
          "state": {
            "_dom_classes": [],
            "_model_module": "@jupyter-widgets/controls",
            "_model_module_version": "1.5.0",
            "_model_name": "HBoxModel",
            "_view_count": null,
            "_view_module": "@jupyter-widgets/controls",
            "_view_module_version": "1.5.0",
            "_view_name": "HBoxView",
            "box_style": "",
            "children": [
              "IPY_MODEL_84670b1bed8a4c9abe3967ef7055d128",
              "IPY_MODEL_6d68103e934440048136689b73a23ce5",
              "IPY_MODEL_dcb58a0a6aa6450fa3975e0923cb1549"
            ],
            "layout": "IPY_MODEL_bb9dbd6b825542d89c820064053a6316"
          }
        },
        "84670b1bed8a4c9abe3967ef7055d128": {
          "model_module": "@jupyter-widgets/controls",
          "model_name": "HTMLModel",
          "model_module_version": "1.5.0",
          "state": {
            "_dom_classes": [],
            "_model_module": "@jupyter-widgets/controls",
            "_model_module_version": "1.5.0",
            "_model_name": "HTMLModel",
            "_view_count": null,
            "_view_module": "@jupyter-widgets/controls",
            "_view_module_version": "1.5.0",
            "_view_name": "HTMLView",
            "description": "",
            "description_tooltip": null,
            "layout": "IPY_MODEL_d054b0bea18c41da99c537629d7dc698",
            "placeholder": "​",
            "style": "IPY_MODEL_8ae0e35ea5794b999813f9b4bd4537e9",
            "value": "tokenizer_config.json: 100%"
          }
        },
        "6d68103e934440048136689b73a23ce5": {
          "model_module": "@jupyter-widgets/controls",
          "model_name": "FloatProgressModel",
          "model_module_version": "1.5.0",
          "state": {
            "_dom_classes": [],
            "_model_module": "@jupyter-widgets/controls",
            "_model_module_version": "1.5.0",
            "_model_name": "FloatProgressModel",
            "_view_count": null,
            "_view_module": "@jupyter-widgets/controls",
            "_view_module_version": "1.5.0",
            "_view_name": "ProgressView",
            "bar_style": "success",
            "description": "",
            "description_tooltip": null,
            "layout": "IPY_MODEL_bc4822d9621f460e9665a2f8fe0ce0d6",
            "max": 1300,
            "min": 0,
            "orientation": "horizontal",
            "style": "IPY_MODEL_346bdf478241419f85d88faa9d3fc983",
            "value": 1300
          }
        },
        "dcb58a0a6aa6450fa3975e0923cb1549": {
          "model_module": "@jupyter-widgets/controls",
          "model_name": "HTMLModel",
          "model_module_version": "1.5.0",
          "state": {
            "_dom_classes": [],
            "_model_module": "@jupyter-widgets/controls",
            "_model_module_version": "1.5.0",
            "_model_name": "HTMLModel",
            "_view_count": null,
            "_view_module": "@jupyter-widgets/controls",
            "_view_module_version": "1.5.0",
            "_view_name": "HTMLView",
            "description": "",
            "description_tooltip": null,
            "layout": "IPY_MODEL_40c7928d8e074d6885959692f6633e9e",
            "placeholder": "​",
            "style": "IPY_MODEL_e0fb946228aa4dcda9bbc4e9b9a11a7a",
            "value": " 1.30k/1.30k [00:00&lt;00:00, 115kB/s]"
          }
        },
        "bb9dbd6b825542d89c820064053a6316": {
          "model_module": "@jupyter-widgets/base",
          "model_name": "LayoutModel",
          "model_module_version": "1.2.0",
          "state": {
            "_model_module": "@jupyter-widgets/base",
            "_model_module_version": "1.2.0",
            "_model_name": "LayoutModel",
            "_view_count": null,
            "_view_module": "@jupyter-widgets/base",
            "_view_module_version": "1.2.0",
            "_view_name": "LayoutView",
            "align_content": null,
            "align_items": null,
            "align_self": null,
            "border": null,
            "bottom": null,
            "display": null,
            "flex": null,
            "flex_flow": null,
            "grid_area": null,
            "grid_auto_columns": null,
            "grid_auto_flow": null,
            "grid_auto_rows": null,
            "grid_column": null,
            "grid_gap": null,
            "grid_row": null,
            "grid_template_areas": null,
            "grid_template_columns": null,
            "grid_template_rows": null,
            "height": null,
            "justify_content": null,
            "justify_items": null,
            "left": null,
            "margin": null,
            "max_height": null,
            "max_width": null,
            "min_height": null,
            "min_width": null,
            "object_fit": null,
            "object_position": null,
            "order": null,
            "overflow": null,
            "overflow_x": null,
            "overflow_y": null,
            "padding": null,
            "right": null,
            "top": null,
            "visibility": null,
            "width": null
          }
        },
        "d054b0bea18c41da99c537629d7dc698": {
          "model_module": "@jupyter-widgets/base",
          "model_name": "LayoutModel",
          "model_module_version": "1.2.0",
          "state": {
            "_model_module": "@jupyter-widgets/base",
            "_model_module_version": "1.2.0",
            "_model_name": "LayoutModel",
            "_view_count": null,
            "_view_module": "@jupyter-widgets/base",
            "_view_module_version": "1.2.0",
            "_view_name": "LayoutView",
            "align_content": null,
            "align_items": null,
            "align_self": null,
            "border": null,
            "bottom": null,
            "display": null,
            "flex": null,
            "flex_flow": null,
            "grid_area": null,
            "grid_auto_columns": null,
            "grid_auto_flow": null,
            "grid_auto_rows": null,
            "grid_column": null,
            "grid_gap": null,
            "grid_row": null,
            "grid_template_areas": null,
            "grid_template_columns": null,
            "grid_template_rows": null,
            "height": null,
            "justify_content": null,
            "justify_items": null,
            "left": null,
            "margin": null,
            "max_height": null,
            "max_width": null,
            "min_height": null,
            "min_width": null,
            "object_fit": null,
            "object_position": null,
            "order": null,
            "overflow": null,
            "overflow_x": null,
            "overflow_y": null,
            "padding": null,
            "right": null,
            "top": null,
            "visibility": null,
            "width": null
          }
        },
        "8ae0e35ea5794b999813f9b4bd4537e9": {
          "model_module": "@jupyter-widgets/controls",
          "model_name": "DescriptionStyleModel",
          "model_module_version": "1.5.0",
          "state": {
            "_model_module": "@jupyter-widgets/controls",
            "_model_module_version": "1.5.0",
            "_model_name": "DescriptionStyleModel",
            "_view_count": null,
            "_view_module": "@jupyter-widgets/base",
            "_view_module_version": "1.2.0",
            "_view_name": "StyleView",
            "description_width": ""
          }
        },
        "bc4822d9621f460e9665a2f8fe0ce0d6": {
          "model_module": "@jupyter-widgets/base",
          "model_name": "LayoutModel",
          "model_module_version": "1.2.0",
          "state": {
            "_model_module": "@jupyter-widgets/base",
            "_model_module_version": "1.2.0",
            "_model_name": "LayoutModel",
            "_view_count": null,
            "_view_module": "@jupyter-widgets/base",
            "_view_module_version": "1.2.0",
            "_view_name": "LayoutView",
            "align_content": null,
            "align_items": null,
            "align_self": null,
            "border": null,
            "bottom": null,
            "display": null,
            "flex": null,
            "flex_flow": null,
            "grid_area": null,
            "grid_auto_columns": null,
            "grid_auto_flow": null,
            "grid_auto_rows": null,
            "grid_column": null,
            "grid_gap": null,
            "grid_row": null,
            "grid_template_areas": null,
            "grid_template_columns": null,
            "grid_template_rows": null,
            "height": null,
            "justify_content": null,
            "justify_items": null,
            "left": null,
            "margin": null,
            "max_height": null,
            "max_width": null,
            "min_height": null,
            "min_width": null,
            "object_fit": null,
            "object_position": null,
            "order": null,
            "overflow": null,
            "overflow_x": null,
            "overflow_y": null,
            "padding": null,
            "right": null,
            "top": null,
            "visibility": null,
            "width": null
          }
        },
        "346bdf478241419f85d88faa9d3fc983": {
          "model_module": "@jupyter-widgets/controls",
          "model_name": "ProgressStyleModel",
          "model_module_version": "1.5.0",
          "state": {
            "_model_module": "@jupyter-widgets/controls",
            "_model_module_version": "1.5.0",
            "_model_name": "ProgressStyleModel",
            "_view_count": null,
            "_view_module": "@jupyter-widgets/base",
            "_view_module_version": "1.2.0",
            "_view_name": "StyleView",
            "bar_color": null,
            "description_width": ""
          }
        },
        "40c7928d8e074d6885959692f6633e9e": {
          "model_module": "@jupyter-widgets/base",
          "model_name": "LayoutModel",
          "model_module_version": "1.2.0",
          "state": {
            "_model_module": "@jupyter-widgets/base",
            "_model_module_version": "1.2.0",
            "_model_name": "LayoutModel",
            "_view_count": null,
            "_view_module": "@jupyter-widgets/base",
            "_view_module_version": "1.2.0",
            "_view_name": "LayoutView",
            "align_content": null,
            "align_items": null,
            "align_self": null,
            "border": null,
            "bottom": null,
            "display": null,
            "flex": null,
            "flex_flow": null,
            "grid_area": null,
            "grid_auto_columns": null,
            "grid_auto_flow": null,
            "grid_auto_rows": null,
            "grid_column": null,
            "grid_gap": null,
            "grid_row": null,
            "grid_template_areas": null,
            "grid_template_columns": null,
            "grid_template_rows": null,
            "height": null,
            "justify_content": null,
            "justify_items": null,
            "left": null,
            "margin": null,
            "max_height": null,
            "max_width": null,
            "min_height": null,
            "min_width": null,
            "object_fit": null,
            "object_position": null,
            "order": null,
            "overflow": null,
            "overflow_x": null,
            "overflow_y": null,
            "padding": null,
            "right": null,
            "top": null,
            "visibility": null,
            "width": null
          }
        },
        "e0fb946228aa4dcda9bbc4e9b9a11a7a": {
          "model_module": "@jupyter-widgets/controls",
          "model_name": "DescriptionStyleModel",
          "model_module_version": "1.5.0",
          "state": {
            "_model_module": "@jupyter-widgets/controls",
            "_model_module_version": "1.5.0",
            "_model_name": "DescriptionStyleModel",
            "_view_count": null,
            "_view_module": "@jupyter-widgets/base",
            "_view_module_version": "1.2.0",
            "_view_name": "StyleView",
            "description_width": ""
          }
        },
        "fb68472adde14b1885b5d16ea807dbf6": {
          "model_module": "@jupyter-widgets/controls",
          "model_name": "HBoxModel",
          "model_module_version": "1.5.0",
          "state": {
            "_dom_classes": [],
            "_model_module": "@jupyter-widgets/controls",
            "_model_module_version": "1.5.0",
            "_model_name": "HBoxModel",
            "_view_count": null,
            "_view_module": "@jupyter-widgets/controls",
            "_view_module_version": "1.5.0",
            "_view_name": "HBoxView",
            "box_style": "",
            "children": [
              "IPY_MODEL_f71c5a9e83774d2a8ae1e9baef2c5263",
              "IPY_MODEL_c37a081f15314e66804e5d3ba39f96ae",
              "IPY_MODEL_4279f1db496b4499b8001f4b957276ba"
            ],
            "layout": "IPY_MODEL_746a505f204f43909f00ecba475c0f08"
          }
        },
        "f71c5a9e83774d2a8ae1e9baef2c5263": {
          "model_module": "@jupyter-widgets/controls",
          "model_name": "HTMLModel",
          "model_module_version": "1.5.0",
          "state": {
            "_dom_classes": [],
            "_model_module": "@jupyter-widgets/controls",
            "_model_module_version": "1.5.0",
            "_model_name": "HTMLModel",
            "_view_count": null,
            "_view_module": "@jupyter-widgets/controls",
            "_view_module_version": "1.5.0",
            "_view_name": "HTMLView",
            "description": "",
            "description_tooltip": null,
            "layout": "IPY_MODEL_37d5cf1b433b498b90530573d2f765e9",
            "placeholder": "​",
            "style": "IPY_MODEL_834f478c32714a93b476f240d0dc81e1",
            "value": "vocab.json: 100%"
          }
        },
        "c37a081f15314e66804e5d3ba39f96ae": {
          "model_module": "@jupyter-widgets/controls",
          "model_name": "FloatProgressModel",
          "model_module_version": "1.5.0",
          "state": {
            "_dom_classes": [],
            "_model_module": "@jupyter-widgets/controls",
            "_model_module_version": "1.5.0",
            "_model_name": "FloatProgressModel",
            "_view_count": null,
            "_view_module": "@jupyter-widgets/controls",
            "_view_module_version": "1.5.0",
            "_view_name": "ProgressView",
            "bar_style": "success",
            "description": "",
            "description_tooltip": null,
            "layout": "IPY_MODEL_d3808fe09b2742628f2857b8c54fb13f",
            "max": 3383407,
            "min": 0,
            "orientation": "horizontal",
            "style": "IPY_MODEL_cd310c76be524921bde2b83798826ac3",
            "value": 3383407
          }
        },
        "4279f1db496b4499b8001f4b957276ba": {
          "model_module": "@jupyter-widgets/controls",
          "model_name": "HTMLModel",
          "model_module_version": "1.5.0",
          "state": {
            "_dom_classes": [],
            "_model_module": "@jupyter-widgets/controls",
            "_model_module_version": "1.5.0",
            "_model_name": "HTMLModel",
            "_view_count": null,
            "_view_module": "@jupyter-widgets/controls",
            "_view_module_version": "1.5.0",
            "_view_name": "HTMLView",
            "description": "",
            "description_tooltip": null,
            "layout": "IPY_MODEL_f387fdd14bf54f988b9993933b80090a",
            "placeholder": "​",
            "style": "IPY_MODEL_e2ae90124c4d49b1ad580dba89c27147",
            "value": " 3.38M/3.38M [00:01&lt;00:00, 3.14MB/s]"
          }
        },
        "746a505f204f43909f00ecba475c0f08": {
          "model_module": "@jupyter-widgets/base",
          "model_name": "LayoutModel",
          "model_module_version": "1.2.0",
          "state": {
            "_model_module": "@jupyter-widgets/base",
            "_model_module_version": "1.2.0",
            "_model_name": "LayoutModel",
            "_view_count": null,
            "_view_module": "@jupyter-widgets/base",
            "_view_module_version": "1.2.0",
            "_view_name": "LayoutView",
            "align_content": null,
            "align_items": null,
            "align_self": null,
            "border": null,
            "bottom": null,
            "display": null,
            "flex": null,
            "flex_flow": null,
            "grid_area": null,
            "grid_auto_columns": null,
            "grid_auto_flow": null,
            "grid_auto_rows": null,
            "grid_column": null,
            "grid_gap": null,
            "grid_row": null,
            "grid_template_areas": null,
            "grid_template_columns": null,
            "grid_template_rows": null,
            "height": null,
            "justify_content": null,
            "justify_items": null,
            "left": null,
            "margin": null,
            "max_height": null,
            "max_width": null,
            "min_height": null,
            "min_width": null,
            "object_fit": null,
            "object_position": null,
            "order": null,
            "overflow": null,
            "overflow_x": null,
            "overflow_y": null,
            "padding": null,
            "right": null,
            "top": null,
            "visibility": null,
            "width": null
          }
        },
        "37d5cf1b433b498b90530573d2f765e9": {
          "model_module": "@jupyter-widgets/base",
          "model_name": "LayoutModel",
          "model_module_version": "1.2.0",
          "state": {
            "_model_module": "@jupyter-widgets/base",
            "_model_module_version": "1.2.0",
            "_model_name": "LayoutModel",
            "_view_count": null,
            "_view_module": "@jupyter-widgets/base",
            "_view_module_version": "1.2.0",
            "_view_name": "LayoutView",
            "align_content": null,
            "align_items": null,
            "align_self": null,
            "border": null,
            "bottom": null,
            "display": null,
            "flex": null,
            "flex_flow": null,
            "grid_area": null,
            "grid_auto_columns": null,
            "grid_auto_flow": null,
            "grid_auto_rows": null,
            "grid_column": null,
            "grid_gap": null,
            "grid_row": null,
            "grid_template_areas": null,
            "grid_template_columns": null,
            "grid_template_rows": null,
            "height": null,
            "justify_content": null,
            "justify_items": null,
            "left": null,
            "margin": null,
            "max_height": null,
            "max_width": null,
            "min_height": null,
            "min_width": null,
            "object_fit": null,
            "object_position": null,
            "order": null,
            "overflow": null,
            "overflow_x": null,
            "overflow_y": null,
            "padding": null,
            "right": null,
            "top": null,
            "visibility": null,
            "width": null
          }
        },
        "834f478c32714a93b476f240d0dc81e1": {
          "model_module": "@jupyter-widgets/controls",
          "model_name": "DescriptionStyleModel",
          "model_module_version": "1.5.0",
          "state": {
            "_model_module": "@jupyter-widgets/controls",
            "_model_module_version": "1.5.0",
            "_model_name": "DescriptionStyleModel",
            "_view_count": null,
            "_view_module": "@jupyter-widgets/base",
            "_view_module_version": "1.2.0",
            "_view_name": "StyleView",
            "description_width": ""
          }
        },
        "d3808fe09b2742628f2857b8c54fb13f": {
          "model_module": "@jupyter-widgets/base",
          "model_name": "LayoutModel",
          "model_module_version": "1.2.0",
          "state": {
            "_model_module": "@jupyter-widgets/base",
            "_model_module_version": "1.2.0",
            "_model_name": "LayoutModel",
            "_view_count": null,
            "_view_module": "@jupyter-widgets/base",
            "_view_module_version": "1.2.0",
            "_view_name": "LayoutView",
            "align_content": null,
            "align_items": null,
            "align_self": null,
            "border": null,
            "bottom": null,
            "display": null,
            "flex": null,
            "flex_flow": null,
            "grid_area": null,
            "grid_auto_columns": null,
            "grid_auto_flow": null,
            "grid_auto_rows": null,
            "grid_column": null,
            "grid_gap": null,
            "grid_row": null,
            "grid_template_areas": null,
            "grid_template_columns": null,
            "grid_template_rows": null,
            "height": null,
            "justify_content": null,
            "justify_items": null,
            "left": null,
            "margin": null,
            "max_height": null,
            "max_width": null,
            "min_height": null,
            "min_width": null,
            "object_fit": null,
            "object_position": null,
            "order": null,
            "overflow": null,
            "overflow_x": null,
            "overflow_y": null,
            "padding": null,
            "right": null,
            "top": null,
            "visibility": null,
            "width": null
          }
        },
        "cd310c76be524921bde2b83798826ac3": {
          "model_module": "@jupyter-widgets/controls",
          "model_name": "ProgressStyleModel",
          "model_module_version": "1.5.0",
          "state": {
            "_model_module": "@jupyter-widgets/controls",
            "_model_module_version": "1.5.0",
            "_model_name": "ProgressStyleModel",
            "_view_count": null,
            "_view_module": "@jupyter-widgets/base",
            "_view_module_version": "1.2.0",
            "_view_name": "StyleView",
            "bar_color": null,
            "description_width": ""
          }
        },
        "f387fdd14bf54f988b9993933b80090a": {
          "model_module": "@jupyter-widgets/base",
          "model_name": "LayoutModel",
          "model_module_version": "1.2.0",
          "state": {
            "_model_module": "@jupyter-widgets/base",
            "_model_module_version": "1.2.0",
            "_model_name": "LayoutModel",
            "_view_count": null,
            "_view_module": "@jupyter-widgets/base",
            "_view_module_version": "1.2.0",
            "_view_name": "LayoutView",
            "align_content": null,
            "align_items": null,
            "align_self": null,
            "border": null,
            "bottom": null,
            "display": null,
            "flex": null,
            "flex_flow": null,
            "grid_area": null,
            "grid_auto_columns": null,
            "grid_auto_flow": null,
            "grid_auto_rows": null,
            "grid_column": null,
            "grid_gap": null,
            "grid_row": null,
            "grid_template_areas": null,
            "grid_template_columns": null,
            "grid_template_rows": null,
            "height": null,
            "justify_content": null,
            "justify_items": null,
            "left": null,
            "margin": null,
            "max_height": null,
            "max_width": null,
            "min_height": null,
            "min_width": null,
            "object_fit": null,
            "object_position": null,
            "order": null,
            "overflow": null,
            "overflow_x": null,
            "overflow_y": null,
            "padding": null,
            "right": null,
            "top": null,
            "visibility": null,
            "width": null
          }
        },
        "e2ae90124c4d49b1ad580dba89c27147": {
          "model_module": "@jupyter-widgets/controls",
          "model_name": "DescriptionStyleModel",
          "model_module_version": "1.5.0",
          "state": {
            "_model_module": "@jupyter-widgets/controls",
            "_model_module_version": "1.5.0",
            "_model_name": "DescriptionStyleModel",
            "_view_count": null,
            "_view_module": "@jupyter-widgets/base",
            "_view_module_version": "1.2.0",
            "_view_name": "StyleView",
            "description_width": ""
          }
        },
        "81b82212d083410faedb7f95572c0d6f": {
          "model_module": "@jupyter-widgets/controls",
          "model_name": "HBoxModel",
          "model_module_version": "1.5.0",
          "state": {
            "_dom_classes": [],
            "_model_module": "@jupyter-widgets/controls",
            "_model_module_version": "1.5.0",
            "_model_name": "HBoxModel",
            "_view_count": null,
            "_view_module": "@jupyter-widgets/controls",
            "_view_module_version": "1.5.0",
            "_view_name": "HBoxView",
            "box_style": "",
            "children": [
              "IPY_MODEL_333b570f8f3c41bfa950093534e7a7e8",
              "IPY_MODEL_1b58e458779e492fa9268535ee2edf22",
              "IPY_MODEL_5e15f02312a741ab95791fdd8f5aa65c"
            ],
            "layout": "IPY_MODEL_633fe4df68204a6e9068c8f2bb6cea60"
          }
        },
        "333b570f8f3c41bfa950093534e7a7e8": {
          "model_module": "@jupyter-widgets/controls",
          "model_name": "HTMLModel",
          "model_module_version": "1.5.0",
          "state": {
            "_dom_classes": [],
            "_model_module": "@jupyter-widgets/controls",
            "_model_module_version": "1.5.0",
            "_model_name": "HTMLModel",
            "_view_count": null,
            "_view_module": "@jupyter-widgets/controls",
            "_view_module_version": "1.5.0",
            "_view_name": "HTMLView",
            "description": "",
            "description_tooltip": null,
            "layout": "IPY_MODEL_70211fa98b704ccba13b57e9486a87ff",
            "placeholder": "​",
            "style": "IPY_MODEL_64ed03848d4f47e58a462b91171e2672",
            "value": "merges.txt: 100%"
          }
        },
        "1b58e458779e492fa9268535ee2edf22": {
          "model_module": "@jupyter-widgets/controls",
          "model_name": "FloatProgressModel",
          "model_module_version": "1.5.0",
          "state": {
            "_dom_classes": [],
            "_model_module": "@jupyter-widgets/controls",
            "_model_module_version": "1.5.0",
            "_model_name": "FloatProgressModel",
            "_view_count": null,
            "_view_module": "@jupyter-widgets/controls",
            "_view_module_version": "1.5.0",
            "_view_name": "ProgressView",
            "bar_style": "success",
            "description": "",
            "description_tooltip": null,
            "layout": "IPY_MODEL_bf8d8e9db68946808ac0979bcf3f7790",
            "max": 1671853,
            "min": 0,
            "orientation": "horizontal",
            "style": "IPY_MODEL_2291c453cc0b411a9bc7cfb553ec26e9",
            "value": 1671853
          }
        },
        "5e15f02312a741ab95791fdd8f5aa65c": {
          "model_module": "@jupyter-widgets/controls",
          "model_name": "HTMLModel",
          "model_module_version": "1.5.0",
          "state": {
            "_dom_classes": [],
            "_model_module": "@jupyter-widgets/controls",
            "_model_module_version": "1.5.0",
            "_model_name": "HTMLModel",
            "_view_count": null,
            "_view_module": "@jupyter-widgets/controls",
            "_view_module_version": "1.5.0",
            "_view_name": "HTMLView",
            "description": "",
            "description_tooltip": null,
            "layout": "IPY_MODEL_adb9a2c926ea4eda8df3719027abd48f",
            "placeholder": "​",
            "style": "IPY_MODEL_b9b9b09b00a74c1baf02bad5f3f6ac2d",
            "value": " 1.67M/1.67M [00:00&lt;00:00, 3.38MB/s]"
          }
        },
        "633fe4df68204a6e9068c8f2bb6cea60": {
          "model_module": "@jupyter-widgets/base",
          "model_name": "LayoutModel",
          "model_module_version": "1.2.0",
          "state": {
            "_model_module": "@jupyter-widgets/base",
            "_model_module_version": "1.2.0",
            "_model_name": "LayoutModel",
            "_view_count": null,
            "_view_module": "@jupyter-widgets/base",
            "_view_module_version": "1.2.0",
            "_view_name": "LayoutView",
            "align_content": null,
            "align_items": null,
            "align_self": null,
            "border": null,
            "bottom": null,
            "display": null,
            "flex": null,
            "flex_flow": null,
            "grid_area": null,
            "grid_auto_columns": null,
            "grid_auto_flow": null,
            "grid_auto_rows": null,
            "grid_column": null,
            "grid_gap": null,
            "grid_row": null,
            "grid_template_areas": null,
            "grid_template_columns": null,
            "grid_template_rows": null,
            "height": null,
            "justify_content": null,
            "justify_items": null,
            "left": null,
            "margin": null,
            "max_height": null,
            "max_width": null,
            "min_height": null,
            "min_width": null,
            "object_fit": null,
            "object_position": null,
            "order": null,
            "overflow": null,
            "overflow_x": null,
            "overflow_y": null,
            "padding": null,
            "right": null,
            "top": null,
            "visibility": null,
            "width": null
          }
        },
        "70211fa98b704ccba13b57e9486a87ff": {
          "model_module": "@jupyter-widgets/base",
          "model_name": "LayoutModel",
          "model_module_version": "1.2.0",
          "state": {
            "_model_module": "@jupyter-widgets/base",
            "_model_module_version": "1.2.0",
            "_model_name": "LayoutModel",
            "_view_count": null,
            "_view_module": "@jupyter-widgets/base",
            "_view_module_version": "1.2.0",
            "_view_name": "LayoutView",
            "align_content": null,
            "align_items": null,
            "align_self": null,
            "border": null,
            "bottom": null,
            "display": null,
            "flex": null,
            "flex_flow": null,
            "grid_area": null,
            "grid_auto_columns": null,
            "grid_auto_flow": null,
            "grid_auto_rows": null,
            "grid_column": null,
            "grid_gap": null,
            "grid_row": null,
            "grid_template_areas": null,
            "grid_template_columns": null,
            "grid_template_rows": null,
            "height": null,
            "justify_content": null,
            "justify_items": null,
            "left": null,
            "margin": null,
            "max_height": null,
            "max_width": null,
            "min_height": null,
            "min_width": null,
            "object_fit": null,
            "object_position": null,
            "order": null,
            "overflow": null,
            "overflow_x": null,
            "overflow_y": null,
            "padding": null,
            "right": null,
            "top": null,
            "visibility": null,
            "width": null
          }
        },
        "64ed03848d4f47e58a462b91171e2672": {
          "model_module": "@jupyter-widgets/controls",
          "model_name": "DescriptionStyleModel",
          "model_module_version": "1.5.0",
          "state": {
            "_model_module": "@jupyter-widgets/controls",
            "_model_module_version": "1.5.0",
            "_model_name": "DescriptionStyleModel",
            "_view_count": null,
            "_view_module": "@jupyter-widgets/base",
            "_view_module_version": "1.2.0",
            "_view_name": "StyleView",
            "description_width": ""
          }
        },
        "bf8d8e9db68946808ac0979bcf3f7790": {
          "model_module": "@jupyter-widgets/base",
          "model_name": "LayoutModel",
          "model_module_version": "1.2.0",
          "state": {
            "_model_module": "@jupyter-widgets/base",
            "_model_module_version": "1.2.0",
            "_model_name": "LayoutModel",
            "_view_count": null,
            "_view_module": "@jupyter-widgets/base",
            "_view_module_version": "1.2.0",
            "_view_name": "LayoutView",
            "align_content": null,
            "align_items": null,
            "align_self": null,
            "border": null,
            "bottom": null,
            "display": null,
            "flex": null,
            "flex_flow": null,
            "grid_area": null,
            "grid_auto_columns": null,
            "grid_auto_flow": null,
            "grid_auto_rows": null,
            "grid_column": null,
            "grid_gap": null,
            "grid_row": null,
            "grid_template_areas": null,
            "grid_template_columns": null,
            "grid_template_rows": null,
            "height": null,
            "justify_content": null,
            "justify_items": null,
            "left": null,
            "margin": null,
            "max_height": null,
            "max_width": null,
            "min_height": null,
            "min_width": null,
            "object_fit": null,
            "object_position": null,
            "order": null,
            "overflow": null,
            "overflow_x": null,
            "overflow_y": null,
            "padding": null,
            "right": null,
            "top": null,
            "visibility": null,
            "width": null
          }
        },
        "2291c453cc0b411a9bc7cfb553ec26e9": {
          "model_module": "@jupyter-widgets/controls",
          "model_name": "ProgressStyleModel",
          "model_module_version": "1.5.0",
          "state": {
            "_model_module": "@jupyter-widgets/controls",
            "_model_module_version": "1.5.0",
            "_model_name": "ProgressStyleModel",
            "_view_count": null,
            "_view_module": "@jupyter-widgets/base",
            "_view_module_version": "1.2.0",
            "_view_name": "StyleView",
            "bar_color": null,
            "description_width": ""
          }
        },
        "adb9a2c926ea4eda8df3719027abd48f": {
          "model_module": "@jupyter-widgets/base",
          "model_name": "LayoutModel",
          "model_module_version": "1.2.0",
          "state": {
            "_model_module": "@jupyter-widgets/base",
            "_model_module_version": "1.2.0",
            "_model_name": "LayoutModel",
            "_view_count": null,
            "_view_module": "@jupyter-widgets/base",
            "_view_module_version": "1.2.0",
            "_view_name": "LayoutView",
            "align_content": null,
            "align_items": null,
            "align_self": null,
            "border": null,
            "bottom": null,
            "display": null,
            "flex": null,
            "flex_flow": null,
            "grid_area": null,
            "grid_auto_columns": null,
            "grid_auto_flow": null,
            "grid_auto_rows": null,
            "grid_column": null,
            "grid_gap": null,
            "grid_row": null,
            "grid_template_areas": null,
            "grid_template_columns": null,
            "grid_template_rows": null,
            "height": null,
            "justify_content": null,
            "justify_items": null,
            "left": null,
            "margin": null,
            "max_height": null,
            "max_width": null,
            "min_height": null,
            "min_width": null,
            "object_fit": null,
            "object_position": null,
            "order": null,
            "overflow": null,
            "overflow_x": null,
            "overflow_y": null,
            "padding": null,
            "right": null,
            "top": null,
            "visibility": null,
            "width": null
          }
        },
        "b9b9b09b00a74c1baf02bad5f3f6ac2d": {
          "model_module": "@jupyter-widgets/controls",
          "model_name": "DescriptionStyleModel",
          "model_module_version": "1.5.0",
          "state": {
            "_model_module": "@jupyter-widgets/controls",
            "_model_module_version": "1.5.0",
            "_model_name": "DescriptionStyleModel",
            "_view_count": null,
            "_view_module": "@jupyter-widgets/base",
            "_view_module_version": "1.2.0",
            "_view_name": "StyleView",
            "description_width": ""
          }
        },
        "01f6f193f6904de7b84079427b3c53ab": {
          "model_module": "@jupyter-widgets/controls",
          "model_name": "HBoxModel",
          "model_module_version": "1.5.0",
          "state": {
            "_dom_classes": [],
            "_model_module": "@jupyter-widgets/controls",
            "_model_module_version": "1.5.0",
            "_model_name": "HBoxModel",
            "_view_count": null,
            "_view_module": "@jupyter-widgets/controls",
            "_view_module_version": "1.5.0",
            "_view_name": "HBoxView",
            "box_style": "",
            "children": [
              "IPY_MODEL_ca929b58ac9845aca295afd83158a048",
              "IPY_MODEL_ca729e6ed043448b8c56fca16fe4b32e",
              "IPY_MODEL_520f78f2973c4b0291d79849ffcca7aa"
            ],
            "layout": "IPY_MODEL_d9b789513e344dc2b1120ecf267f7432"
          }
        },
        "ca929b58ac9845aca295afd83158a048": {
          "model_module": "@jupyter-widgets/controls",
          "model_name": "HTMLModel",
          "model_module_version": "1.5.0",
          "state": {
            "_dom_classes": [],
            "_model_module": "@jupyter-widgets/controls",
            "_model_module_version": "1.5.0",
            "_model_name": "HTMLModel",
            "_view_count": null,
            "_view_module": "@jupyter-widgets/controls",
            "_view_module_version": "1.5.0",
            "_view_name": "HTMLView",
            "description": "",
            "description_tooltip": null,
            "layout": "IPY_MODEL_a190b1d0c3fa462fba0ca4fb9291eddb",
            "placeholder": "​",
            "style": "IPY_MODEL_96406b73865d4f08a9b9034ad9cf87db",
            "value": "added_tokens.json: 100%"
          }
        },
        "ca729e6ed043448b8c56fca16fe4b32e": {
          "model_module": "@jupyter-widgets/controls",
          "model_name": "FloatProgressModel",
          "model_module_version": "1.5.0",
          "state": {
            "_dom_classes": [],
            "_model_module": "@jupyter-widgets/controls",
            "_model_module_version": "1.5.0",
            "_model_name": "FloatProgressModel",
            "_view_count": null,
            "_view_module": "@jupyter-widgets/controls",
            "_view_module_version": "1.5.0",
            "_view_name": "ProgressView",
            "bar_style": "success",
            "description": "",
            "description_tooltip": null,
            "layout": "IPY_MODEL_0643e17b710f4032983bb70bd34d9a66",
            "max": 80,
            "min": 0,
            "orientation": "horizontal",
            "style": "IPY_MODEL_af18cedf436e4a8babef866907a76f33",
            "value": 80
          }
        },
        "520f78f2973c4b0291d79849ffcca7aa": {
          "model_module": "@jupyter-widgets/controls",
          "model_name": "HTMLModel",
          "model_module_version": "1.5.0",
          "state": {
            "_dom_classes": [],
            "_model_module": "@jupyter-widgets/controls",
            "_model_module_version": "1.5.0",
            "_model_name": "HTMLModel",
            "_view_count": null,
            "_view_module": "@jupyter-widgets/controls",
            "_view_module_version": "1.5.0",
            "_view_name": "HTMLView",
            "description": "",
            "description_tooltip": null,
            "layout": "IPY_MODEL_9b646e442e16488d9bb2ce839d05eee5",
            "placeholder": "​",
            "style": "IPY_MODEL_484121e63385449183dc77bad7bf51a4",
            "value": " 80.0/80.0 [00:00&lt;00:00, 7.01kB/s]"
          }
        },
        "d9b789513e344dc2b1120ecf267f7432": {
          "model_module": "@jupyter-widgets/base",
          "model_name": "LayoutModel",
          "model_module_version": "1.2.0",
          "state": {
            "_model_module": "@jupyter-widgets/base",
            "_model_module_version": "1.2.0",
            "_model_name": "LayoutModel",
            "_view_count": null,
            "_view_module": "@jupyter-widgets/base",
            "_view_module_version": "1.2.0",
            "_view_name": "LayoutView",
            "align_content": null,
            "align_items": null,
            "align_self": null,
            "border": null,
            "bottom": null,
            "display": null,
            "flex": null,
            "flex_flow": null,
            "grid_area": null,
            "grid_auto_columns": null,
            "grid_auto_flow": null,
            "grid_auto_rows": null,
            "grid_column": null,
            "grid_gap": null,
            "grid_row": null,
            "grid_template_areas": null,
            "grid_template_columns": null,
            "grid_template_rows": null,
            "height": null,
            "justify_content": null,
            "justify_items": null,
            "left": null,
            "margin": null,
            "max_height": null,
            "max_width": null,
            "min_height": null,
            "min_width": null,
            "object_fit": null,
            "object_position": null,
            "order": null,
            "overflow": null,
            "overflow_x": null,
            "overflow_y": null,
            "padding": null,
            "right": null,
            "top": null,
            "visibility": null,
            "width": null
          }
        },
        "a190b1d0c3fa462fba0ca4fb9291eddb": {
          "model_module": "@jupyter-widgets/base",
          "model_name": "LayoutModel",
          "model_module_version": "1.2.0",
          "state": {
            "_model_module": "@jupyter-widgets/base",
            "_model_module_version": "1.2.0",
            "_model_name": "LayoutModel",
            "_view_count": null,
            "_view_module": "@jupyter-widgets/base",
            "_view_module_version": "1.2.0",
            "_view_name": "LayoutView",
            "align_content": null,
            "align_items": null,
            "align_self": null,
            "border": null,
            "bottom": null,
            "display": null,
            "flex": null,
            "flex_flow": null,
            "grid_area": null,
            "grid_auto_columns": null,
            "grid_auto_flow": null,
            "grid_auto_rows": null,
            "grid_column": null,
            "grid_gap": null,
            "grid_row": null,
            "grid_template_areas": null,
            "grid_template_columns": null,
            "grid_template_rows": null,
            "height": null,
            "justify_content": null,
            "justify_items": null,
            "left": null,
            "margin": null,
            "max_height": null,
            "max_width": null,
            "min_height": null,
            "min_width": null,
            "object_fit": null,
            "object_position": null,
            "order": null,
            "overflow": null,
            "overflow_x": null,
            "overflow_y": null,
            "padding": null,
            "right": null,
            "top": null,
            "visibility": null,
            "width": null
          }
        },
        "96406b73865d4f08a9b9034ad9cf87db": {
          "model_module": "@jupyter-widgets/controls",
          "model_name": "DescriptionStyleModel",
          "model_module_version": "1.5.0",
          "state": {
            "_model_module": "@jupyter-widgets/controls",
            "_model_module_version": "1.5.0",
            "_model_name": "DescriptionStyleModel",
            "_view_count": null,
            "_view_module": "@jupyter-widgets/base",
            "_view_module_version": "1.2.0",
            "_view_name": "StyleView",
            "description_width": ""
          }
        },
        "0643e17b710f4032983bb70bd34d9a66": {
          "model_module": "@jupyter-widgets/base",
          "model_name": "LayoutModel",
          "model_module_version": "1.2.0",
          "state": {
            "_model_module": "@jupyter-widgets/base",
            "_model_module_version": "1.2.0",
            "_model_name": "LayoutModel",
            "_view_count": null,
            "_view_module": "@jupyter-widgets/base",
            "_view_module_version": "1.2.0",
            "_view_name": "LayoutView",
            "align_content": null,
            "align_items": null,
            "align_self": null,
            "border": null,
            "bottom": null,
            "display": null,
            "flex": null,
            "flex_flow": null,
            "grid_area": null,
            "grid_auto_columns": null,
            "grid_auto_flow": null,
            "grid_auto_rows": null,
            "grid_column": null,
            "grid_gap": null,
            "grid_row": null,
            "grid_template_areas": null,
            "grid_template_columns": null,
            "grid_template_rows": null,
            "height": null,
            "justify_content": null,
            "justify_items": null,
            "left": null,
            "margin": null,
            "max_height": null,
            "max_width": null,
            "min_height": null,
            "min_width": null,
            "object_fit": null,
            "object_position": null,
            "order": null,
            "overflow": null,
            "overflow_x": null,
            "overflow_y": null,
            "padding": null,
            "right": null,
            "top": null,
            "visibility": null,
            "width": null
          }
        },
        "af18cedf436e4a8babef866907a76f33": {
          "model_module": "@jupyter-widgets/controls",
          "model_name": "ProgressStyleModel",
          "model_module_version": "1.5.0",
          "state": {
            "_model_module": "@jupyter-widgets/controls",
            "_model_module_version": "1.5.0",
            "_model_name": "ProgressStyleModel",
            "_view_count": null,
            "_view_module": "@jupyter-widgets/base",
            "_view_module_version": "1.2.0",
            "_view_name": "StyleView",
            "bar_color": null,
            "description_width": ""
          }
        },
        "9b646e442e16488d9bb2ce839d05eee5": {
          "model_module": "@jupyter-widgets/base",
          "model_name": "LayoutModel",
          "model_module_version": "1.2.0",
          "state": {
            "_model_module": "@jupyter-widgets/base",
            "_model_module_version": "1.2.0",
            "_model_name": "LayoutModel",
            "_view_count": null,
            "_view_module": "@jupyter-widgets/base",
            "_view_module_version": "1.2.0",
            "_view_name": "LayoutView",
            "align_content": null,
            "align_items": null,
            "align_self": null,
            "border": null,
            "bottom": null,
            "display": null,
            "flex": null,
            "flex_flow": null,
            "grid_area": null,
            "grid_auto_columns": null,
            "grid_auto_flow": null,
            "grid_auto_rows": null,
            "grid_column": null,
            "grid_gap": null,
            "grid_row": null,
            "grid_template_areas": null,
            "grid_template_columns": null,
            "grid_template_rows": null,
            "height": null,
            "justify_content": null,
            "justify_items": null,
            "left": null,
            "margin": null,
            "max_height": null,
            "max_width": null,
            "min_height": null,
            "min_width": null,
            "object_fit": null,
            "object_position": null,
            "order": null,
            "overflow": null,
            "overflow_x": null,
            "overflow_y": null,
            "padding": null,
            "right": null,
            "top": null,
            "visibility": null,
            "width": null
          }
        },
        "484121e63385449183dc77bad7bf51a4": {
          "model_module": "@jupyter-widgets/controls",
          "model_name": "DescriptionStyleModel",
          "model_module_version": "1.5.0",
          "state": {
            "_model_module": "@jupyter-widgets/controls",
            "_model_module_version": "1.5.0",
            "_model_name": "DescriptionStyleModel",
            "_view_count": null,
            "_view_module": "@jupyter-widgets/base",
            "_view_module_version": "1.2.0",
            "_view_name": "StyleView",
            "description_width": ""
          }
        },
        "628b370b6b324751b421221ff854bef8": {
          "model_module": "@jupyter-widgets/controls",
          "model_name": "HBoxModel",
          "model_module_version": "1.5.0",
          "state": {
            "_dom_classes": [],
            "_model_module": "@jupyter-widgets/controls",
            "_model_module_version": "1.5.0",
            "_model_name": "HBoxModel",
            "_view_count": null,
            "_view_module": "@jupyter-widgets/controls",
            "_view_module_version": "1.5.0",
            "_view_name": "HBoxView",
            "box_style": "",
            "children": [
              "IPY_MODEL_dd94fd1567e240c6aaac10a52de0fbc4",
              "IPY_MODEL_83921f4bb74e4606a05d043f1bd90776",
              "IPY_MODEL_d370187a1f51419799c4eaa66db90da7"
            ],
            "layout": "IPY_MODEL_e816662710d44cb9a52d5fe39487e575"
          }
        },
        "dd94fd1567e240c6aaac10a52de0fbc4": {
          "model_module": "@jupyter-widgets/controls",
          "model_name": "HTMLModel",
          "model_module_version": "1.5.0",
          "state": {
            "_dom_classes": [],
            "_model_module": "@jupyter-widgets/controls",
            "_model_module_version": "1.5.0",
            "_model_name": "HTMLModel",
            "_view_count": null,
            "_view_module": "@jupyter-widgets/controls",
            "_view_module_version": "1.5.0",
            "_view_name": "HTMLView",
            "description": "",
            "description_tooltip": null,
            "layout": "IPY_MODEL_9e8b40f9617e4eb88c87b01a1b4e7da7",
            "placeholder": "​",
            "style": "IPY_MODEL_2a0a6e977ad64b9ea6eff499b6091107",
            "value": "special_tokens_map.json: 100%"
          }
        },
        "83921f4bb74e4606a05d043f1bd90776": {
          "model_module": "@jupyter-widgets/controls",
          "model_name": "FloatProgressModel",
          "model_module_version": "1.5.0",
          "state": {
            "_dom_classes": [],
            "_model_module": "@jupyter-widgets/controls",
            "_model_module_version": "1.5.0",
            "_model_name": "FloatProgressModel",
            "_view_count": null,
            "_view_module": "@jupyter-widgets/controls",
            "_view_module_version": "1.5.0",
            "_view_name": "ProgressView",
            "bar_style": "success",
            "description": "",
            "description_tooltip": null,
            "layout": "IPY_MODEL_71e41b1457b543e2bea3add9db66022d",
            "max": 256,
            "min": 0,
            "orientation": "horizontal",
            "style": "IPY_MODEL_6159ebd725f24c62a789360274539d82",
            "value": 256
          }
        },
        "d370187a1f51419799c4eaa66db90da7": {
          "model_module": "@jupyter-widgets/controls",
          "model_name": "HTMLModel",
          "model_module_version": "1.5.0",
          "state": {
            "_dom_classes": [],
            "_model_module": "@jupyter-widgets/controls",
            "_model_module_version": "1.5.0",
            "_model_name": "HTMLModel",
            "_view_count": null,
            "_view_module": "@jupyter-widgets/controls",
            "_view_module_version": "1.5.0",
            "_view_name": "HTMLView",
            "description": "",
            "description_tooltip": null,
            "layout": "IPY_MODEL_4da66bb5f69d48ce89ce7c215190029c",
            "placeholder": "​",
            "style": "IPY_MODEL_306cd8acd8f74dcc9a9d439a28c37d1c",
            "value": " 256/256 [00:00&lt;00:00, 23.2kB/s]"
          }
        },
        "e816662710d44cb9a52d5fe39487e575": {
          "model_module": "@jupyter-widgets/base",
          "model_name": "LayoutModel",
          "model_module_version": "1.2.0",
          "state": {
            "_model_module": "@jupyter-widgets/base",
            "_model_module_version": "1.2.0",
            "_model_name": "LayoutModel",
            "_view_count": null,
            "_view_module": "@jupyter-widgets/base",
            "_view_module_version": "1.2.0",
            "_view_name": "LayoutView",
            "align_content": null,
            "align_items": null,
            "align_self": null,
            "border": null,
            "bottom": null,
            "display": null,
            "flex": null,
            "flex_flow": null,
            "grid_area": null,
            "grid_auto_columns": null,
            "grid_auto_flow": null,
            "grid_auto_rows": null,
            "grid_column": null,
            "grid_gap": null,
            "grid_row": null,
            "grid_template_areas": null,
            "grid_template_columns": null,
            "grid_template_rows": null,
            "height": null,
            "justify_content": null,
            "justify_items": null,
            "left": null,
            "margin": null,
            "max_height": null,
            "max_width": null,
            "min_height": null,
            "min_width": null,
            "object_fit": null,
            "object_position": null,
            "order": null,
            "overflow": null,
            "overflow_x": null,
            "overflow_y": null,
            "padding": null,
            "right": null,
            "top": null,
            "visibility": null,
            "width": null
          }
        },
        "9e8b40f9617e4eb88c87b01a1b4e7da7": {
          "model_module": "@jupyter-widgets/base",
          "model_name": "LayoutModel",
          "model_module_version": "1.2.0",
          "state": {
            "_model_module": "@jupyter-widgets/base",
            "_model_module_version": "1.2.0",
            "_model_name": "LayoutModel",
            "_view_count": null,
            "_view_module": "@jupyter-widgets/base",
            "_view_module_version": "1.2.0",
            "_view_name": "LayoutView",
            "align_content": null,
            "align_items": null,
            "align_self": null,
            "border": null,
            "bottom": null,
            "display": null,
            "flex": null,
            "flex_flow": null,
            "grid_area": null,
            "grid_auto_columns": null,
            "grid_auto_flow": null,
            "grid_auto_rows": null,
            "grid_column": null,
            "grid_gap": null,
            "grid_row": null,
            "grid_template_areas": null,
            "grid_template_columns": null,
            "grid_template_rows": null,
            "height": null,
            "justify_content": null,
            "justify_items": null,
            "left": null,
            "margin": null,
            "max_height": null,
            "max_width": null,
            "min_height": null,
            "min_width": null,
            "object_fit": null,
            "object_position": null,
            "order": null,
            "overflow": null,
            "overflow_x": null,
            "overflow_y": null,
            "padding": null,
            "right": null,
            "top": null,
            "visibility": null,
            "width": null
          }
        },
        "2a0a6e977ad64b9ea6eff499b6091107": {
          "model_module": "@jupyter-widgets/controls",
          "model_name": "DescriptionStyleModel",
          "model_module_version": "1.5.0",
          "state": {
            "_model_module": "@jupyter-widgets/controls",
            "_model_module_version": "1.5.0",
            "_model_name": "DescriptionStyleModel",
            "_view_count": null,
            "_view_module": "@jupyter-widgets/base",
            "_view_module_version": "1.2.0",
            "_view_name": "StyleView",
            "description_width": ""
          }
        },
        "71e41b1457b543e2bea3add9db66022d": {
          "model_module": "@jupyter-widgets/base",
          "model_name": "LayoutModel",
          "model_module_version": "1.2.0",
          "state": {
            "_model_module": "@jupyter-widgets/base",
            "_model_module_version": "1.2.0",
            "_model_name": "LayoutModel",
            "_view_count": null,
            "_view_module": "@jupyter-widgets/base",
            "_view_module_version": "1.2.0",
            "_view_name": "LayoutView",
            "align_content": null,
            "align_items": null,
            "align_self": null,
            "border": null,
            "bottom": null,
            "display": null,
            "flex": null,
            "flex_flow": null,
            "grid_area": null,
            "grid_auto_columns": null,
            "grid_auto_flow": null,
            "grid_auto_rows": null,
            "grid_column": null,
            "grid_gap": null,
            "grid_row": null,
            "grid_template_areas": null,
            "grid_template_columns": null,
            "grid_template_rows": null,
            "height": null,
            "justify_content": null,
            "justify_items": null,
            "left": null,
            "margin": null,
            "max_height": null,
            "max_width": null,
            "min_height": null,
            "min_width": null,
            "object_fit": null,
            "object_position": null,
            "order": null,
            "overflow": null,
            "overflow_x": null,
            "overflow_y": null,
            "padding": null,
            "right": null,
            "top": null,
            "visibility": null,
            "width": null
          }
        },
        "6159ebd725f24c62a789360274539d82": {
          "model_module": "@jupyter-widgets/controls",
          "model_name": "ProgressStyleModel",
          "model_module_version": "1.5.0",
          "state": {
            "_model_module": "@jupyter-widgets/controls",
            "_model_module_version": "1.5.0",
            "_model_name": "ProgressStyleModel",
            "_view_count": null,
            "_view_module": "@jupyter-widgets/base",
            "_view_module_version": "1.2.0",
            "_view_name": "StyleView",
            "bar_color": null,
            "description_width": ""
          }
        },
        "4da66bb5f69d48ce89ce7c215190029c": {
          "model_module": "@jupyter-widgets/base",
          "model_name": "LayoutModel",
          "model_module_version": "1.2.0",
          "state": {
            "_model_module": "@jupyter-widgets/base",
            "_model_module_version": "1.2.0",
            "_model_name": "LayoutModel",
            "_view_count": null,
            "_view_module": "@jupyter-widgets/base",
            "_view_module_version": "1.2.0",
            "_view_name": "LayoutView",
            "align_content": null,
            "align_items": null,
            "align_self": null,
            "border": null,
            "bottom": null,
            "display": null,
            "flex": null,
            "flex_flow": null,
            "grid_area": null,
            "grid_auto_columns": null,
            "grid_auto_flow": null,
            "grid_auto_rows": null,
            "grid_column": null,
            "grid_gap": null,
            "grid_row": null,
            "grid_template_areas": null,
            "grid_template_columns": null,
            "grid_template_rows": null,
            "height": null,
            "justify_content": null,
            "justify_items": null,
            "left": null,
            "margin": null,
            "max_height": null,
            "max_width": null,
            "min_height": null,
            "min_width": null,
            "object_fit": null,
            "object_position": null,
            "order": null,
            "overflow": null,
            "overflow_x": null,
            "overflow_y": null,
            "padding": null,
            "right": null,
            "top": null,
            "visibility": null,
            "width": null
          }
        },
        "306cd8acd8f74dcc9a9d439a28c37d1c": {
          "model_module": "@jupyter-widgets/controls",
          "model_name": "DescriptionStyleModel",
          "model_module_version": "1.5.0",
          "state": {
            "_model_module": "@jupyter-widgets/controls",
            "_model_module_version": "1.5.0",
            "_model_name": "DescriptionStyleModel",
            "_view_count": null,
            "_view_module": "@jupyter-widgets/base",
            "_view_module_version": "1.2.0",
            "_view_name": "StyleView",
            "description_width": ""
          }
        },
        "3cc65eb29eca47a096f37e4ff2725370": {
          "model_module": "@jupyter-widgets/controls",
          "model_name": "HBoxModel",
          "model_module_version": "1.5.0",
          "state": {
            "_dom_classes": [],
            "_model_module": "@jupyter-widgets/controls",
            "_model_module_version": "1.5.0",
            "_model_name": "HBoxModel",
            "_view_count": null,
            "_view_module": "@jupyter-widgets/controls",
            "_view_module_version": "1.5.0",
            "_view_name": "HBoxView",
            "box_style": "",
            "children": [
              "IPY_MODEL_366e214a41e345c39468ad6e6b8b2b0a",
              "IPY_MODEL_97f7cc75255e4cddb3ad0f27dc129c91",
              "IPY_MODEL_c47388fcc9484daeb4371bf63e29ff88"
            ],
            "layout": "IPY_MODEL_b6a29955063e4936b65201d976be8432"
          }
        },
        "366e214a41e345c39468ad6e6b8b2b0a": {
          "model_module": "@jupyter-widgets/controls",
          "model_name": "HTMLModel",
          "model_module_version": "1.5.0",
          "state": {
            "_dom_classes": [],
            "_model_module": "@jupyter-widgets/controls",
            "_model_module_version": "1.5.0",
            "_model_name": "HTMLModel",
            "_view_count": null,
            "_view_module": "@jupyter-widgets/controls",
            "_view_module_version": "1.5.0",
            "_view_name": "HTMLView",
            "description": "",
            "description_tooltip": null,
            "layout": "IPY_MODEL_acc91623212445d89dde08c3c2f21a2d",
            "placeholder": "​",
            "style": "IPY_MODEL_1ab2048d0e904a2ba3351f7096e91c4c",
            "value": "Map: 100%"
          }
        },
        "97f7cc75255e4cddb3ad0f27dc129c91": {
          "model_module": "@jupyter-widgets/controls",
          "model_name": "FloatProgressModel",
          "model_module_version": "1.5.0",
          "state": {
            "_dom_classes": [],
            "_model_module": "@jupyter-widgets/controls",
            "_model_module_version": "1.5.0",
            "_model_name": "FloatProgressModel",
            "_view_count": null,
            "_view_module": "@jupyter-widgets/controls",
            "_view_module_version": "1.5.0",
            "_view_name": "ProgressView",
            "bar_style": "success",
            "description": "",
            "description_tooltip": null,
            "layout": "IPY_MODEL_619ba9acd99c40f4807c8188fe7bbd0f",
            "max": 800,
            "min": 0,
            "orientation": "horizontal",
            "style": "IPY_MODEL_abaf60249e4347f7b4ac306249852a4b",
            "value": 800
          }
        },
        "c47388fcc9484daeb4371bf63e29ff88": {
          "model_module": "@jupyter-widgets/controls",
          "model_name": "HTMLModel",
          "model_module_version": "1.5.0",
          "state": {
            "_dom_classes": [],
            "_model_module": "@jupyter-widgets/controls",
            "_model_module_version": "1.5.0",
            "_model_name": "HTMLModel",
            "_view_count": null,
            "_view_module": "@jupyter-widgets/controls",
            "_view_module_version": "1.5.0",
            "_view_name": "HTMLView",
            "description": "",
            "description_tooltip": null,
            "layout": "IPY_MODEL_fefe997b9cbf4097a8adb774096368ee",
            "placeholder": "​",
            "style": "IPY_MODEL_fd16156d4e484b4e819a2553c1609e3e",
            "value": " 800/800 [00:00&lt;00:00, 1560.71 examples/s]"
          }
        },
        "b6a29955063e4936b65201d976be8432": {
          "model_module": "@jupyter-widgets/base",
          "model_name": "LayoutModel",
          "model_module_version": "1.2.0",
          "state": {
            "_model_module": "@jupyter-widgets/base",
            "_model_module_version": "1.2.0",
            "_model_name": "LayoutModel",
            "_view_count": null,
            "_view_module": "@jupyter-widgets/base",
            "_view_module_version": "1.2.0",
            "_view_name": "LayoutView",
            "align_content": null,
            "align_items": null,
            "align_self": null,
            "border": null,
            "bottom": null,
            "display": null,
            "flex": null,
            "flex_flow": null,
            "grid_area": null,
            "grid_auto_columns": null,
            "grid_auto_flow": null,
            "grid_auto_rows": null,
            "grid_column": null,
            "grid_gap": null,
            "grid_row": null,
            "grid_template_areas": null,
            "grid_template_columns": null,
            "grid_template_rows": null,
            "height": null,
            "justify_content": null,
            "justify_items": null,
            "left": null,
            "margin": null,
            "max_height": null,
            "max_width": null,
            "min_height": null,
            "min_width": null,
            "object_fit": null,
            "object_position": null,
            "order": null,
            "overflow": null,
            "overflow_x": null,
            "overflow_y": null,
            "padding": null,
            "right": null,
            "top": null,
            "visibility": null,
            "width": null
          }
        },
        "acc91623212445d89dde08c3c2f21a2d": {
          "model_module": "@jupyter-widgets/base",
          "model_name": "LayoutModel",
          "model_module_version": "1.2.0",
          "state": {
            "_model_module": "@jupyter-widgets/base",
            "_model_module_version": "1.2.0",
            "_model_name": "LayoutModel",
            "_view_count": null,
            "_view_module": "@jupyter-widgets/base",
            "_view_module_version": "1.2.0",
            "_view_name": "LayoutView",
            "align_content": null,
            "align_items": null,
            "align_self": null,
            "border": null,
            "bottom": null,
            "display": null,
            "flex": null,
            "flex_flow": null,
            "grid_area": null,
            "grid_auto_columns": null,
            "grid_auto_flow": null,
            "grid_auto_rows": null,
            "grid_column": null,
            "grid_gap": null,
            "grid_row": null,
            "grid_template_areas": null,
            "grid_template_columns": null,
            "grid_template_rows": null,
            "height": null,
            "justify_content": null,
            "justify_items": null,
            "left": null,
            "margin": null,
            "max_height": null,
            "max_width": null,
            "min_height": null,
            "min_width": null,
            "object_fit": null,
            "object_position": null,
            "order": null,
            "overflow": null,
            "overflow_x": null,
            "overflow_y": null,
            "padding": null,
            "right": null,
            "top": null,
            "visibility": null,
            "width": null
          }
        },
        "1ab2048d0e904a2ba3351f7096e91c4c": {
          "model_module": "@jupyter-widgets/controls",
          "model_name": "DescriptionStyleModel",
          "model_module_version": "1.5.0",
          "state": {
            "_model_module": "@jupyter-widgets/controls",
            "_model_module_version": "1.5.0",
            "_model_name": "DescriptionStyleModel",
            "_view_count": null,
            "_view_module": "@jupyter-widgets/base",
            "_view_module_version": "1.2.0",
            "_view_name": "StyleView",
            "description_width": ""
          }
        },
        "619ba9acd99c40f4807c8188fe7bbd0f": {
          "model_module": "@jupyter-widgets/base",
          "model_name": "LayoutModel",
          "model_module_version": "1.2.0",
          "state": {
            "_model_module": "@jupyter-widgets/base",
            "_model_module_version": "1.2.0",
            "_model_name": "LayoutModel",
            "_view_count": null,
            "_view_module": "@jupyter-widgets/base",
            "_view_module_version": "1.2.0",
            "_view_name": "LayoutView",
            "align_content": null,
            "align_items": null,
            "align_self": null,
            "border": null,
            "bottom": null,
            "display": null,
            "flex": null,
            "flex_flow": null,
            "grid_area": null,
            "grid_auto_columns": null,
            "grid_auto_flow": null,
            "grid_auto_rows": null,
            "grid_column": null,
            "grid_gap": null,
            "grid_row": null,
            "grid_template_areas": null,
            "grid_template_columns": null,
            "grid_template_rows": null,
            "height": null,
            "justify_content": null,
            "justify_items": null,
            "left": null,
            "margin": null,
            "max_height": null,
            "max_width": null,
            "min_height": null,
            "min_width": null,
            "object_fit": null,
            "object_position": null,
            "order": null,
            "overflow": null,
            "overflow_x": null,
            "overflow_y": null,
            "padding": null,
            "right": null,
            "top": null,
            "visibility": null,
            "width": null
          }
        },
        "abaf60249e4347f7b4ac306249852a4b": {
          "model_module": "@jupyter-widgets/controls",
          "model_name": "ProgressStyleModel",
          "model_module_version": "1.5.0",
          "state": {
            "_model_module": "@jupyter-widgets/controls",
            "_model_module_version": "1.5.0",
            "_model_name": "ProgressStyleModel",
            "_view_count": null,
            "_view_module": "@jupyter-widgets/base",
            "_view_module_version": "1.2.0",
            "_view_name": "StyleView",
            "bar_color": null,
            "description_width": ""
          }
        },
        "fefe997b9cbf4097a8adb774096368ee": {
          "model_module": "@jupyter-widgets/base",
          "model_name": "LayoutModel",
          "model_module_version": "1.2.0",
          "state": {
            "_model_module": "@jupyter-widgets/base",
            "_model_module_version": "1.2.0",
            "_model_name": "LayoutModel",
            "_view_count": null,
            "_view_module": "@jupyter-widgets/base",
            "_view_module_version": "1.2.0",
            "_view_name": "LayoutView",
            "align_content": null,
            "align_items": null,
            "align_self": null,
            "border": null,
            "bottom": null,
            "display": null,
            "flex": null,
            "flex_flow": null,
            "grid_area": null,
            "grid_auto_columns": null,
            "grid_auto_flow": null,
            "grid_auto_rows": null,
            "grid_column": null,
            "grid_gap": null,
            "grid_row": null,
            "grid_template_areas": null,
            "grid_template_columns": null,
            "grid_template_rows": null,
            "height": null,
            "justify_content": null,
            "justify_items": null,
            "left": null,
            "margin": null,
            "max_height": null,
            "max_width": null,
            "min_height": null,
            "min_width": null,
            "object_fit": null,
            "object_position": null,
            "order": null,
            "overflow": null,
            "overflow_x": null,
            "overflow_y": null,
            "padding": null,
            "right": null,
            "top": null,
            "visibility": null,
            "width": null
          }
        },
        "fd16156d4e484b4e819a2553c1609e3e": {
          "model_module": "@jupyter-widgets/controls",
          "model_name": "DescriptionStyleModel",
          "model_module_version": "1.5.0",
          "state": {
            "_model_module": "@jupyter-widgets/controls",
            "_model_module_version": "1.5.0",
            "_model_name": "DescriptionStyleModel",
            "_view_count": null,
            "_view_module": "@jupyter-widgets/base",
            "_view_module_version": "1.2.0",
            "_view_name": "StyleView",
            "description_width": ""
          }
        },
        "bf4870ba56bb4dcfac49b560f8aada1e": {
          "model_module": "@jupyter-widgets/controls",
          "model_name": "HBoxModel",
          "model_module_version": "1.5.0",
          "state": {
            "_dom_classes": [],
            "_model_module": "@jupyter-widgets/controls",
            "_model_module_version": "1.5.0",
            "_model_name": "HBoxModel",
            "_view_count": null,
            "_view_module": "@jupyter-widgets/controls",
            "_view_module_version": "1.5.0",
            "_view_name": "HBoxView",
            "box_style": "",
            "children": [
              "IPY_MODEL_6771f97ae0bd41aeab035b8681f02286",
              "IPY_MODEL_d2f51fe1c6a44d45b5ab847b8a1408b5",
              "IPY_MODEL_8630bbe52d2b497eaf686888b3c26480"
            ],
            "layout": "IPY_MODEL_3838ef73ec4743b59ff76ba07fca39bc"
          }
        },
        "6771f97ae0bd41aeab035b8681f02286": {
          "model_module": "@jupyter-widgets/controls",
          "model_name": "HTMLModel",
          "model_module_version": "1.5.0",
          "state": {
            "_dom_classes": [],
            "_model_module": "@jupyter-widgets/controls",
            "_model_module_version": "1.5.0",
            "_model_name": "HTMLModel",
            "_view_count": null,
            "_view_module": "@jupyter-widgets/controls",
            "_view_module_version": "1.5.0",
            "_view_name": "HTMLView",
            "description": "",
            "description_tooltip": null,
            "layout": "IPY_MODEL_7cf2eaf062f3486dafa8efaa715ac834",
            "placeholder": "​",
            "style": "IPY_MODEL_31a441947ea54b859b2bac0003e531e8",
            "value": "Map: 100%"
          }
        },
        "d2f51fe1c6a44d45b5ab847b8a1408b5": {
          "model_module": "@jupyter-widgets/controls",
          "model_name": "FloatProgressModel",
          "model_module_version": "1.5.0",
          "state": {
            "_dom_classes": [],
            "_model_module": "@jupyter-widgets/controls",
            "_model_module_version": "1.5.0",
            "_model_name": "FloatProgressModel",
            "_view_count": null,
            "_view_module": "@jupyter-widgets/controls",
            "_view_module_version": "1.5.0",
            "_view_name": "ProgressView",
            "bar_style": "success",
            "description": "",
            "description_tooltip": null,
            "layout": "IPY_MODEL_24d80b7297734415a9a42b3971c31cb0",
            "max": 100,
            "min": 0,
            "orientation": "horizontal",
            "style": "IPY_MODEL_d12d9bd80db24c9e863428f7e7d4cdeb",
            "value": 100
          }
        },
        "8630bbe52d2b497eaf686888b3c26480": {
          "model_module": "@jupyter-widgets/controls",
          "model_name": "HTMLModel",
          "model_module_version": "1.5.0",
          "state": {
            "_dom_classes": [],
            "_model_module": "@jupyter-widgets/controls",
            "_model_module_version": "1.5.0",
            "_model_name": "HTMLModel",
            "_view_count": null,
            "_view_module": "@jupyter-widgets/controls",
            "_view_module_version": "1.5.0",
            "_view_name": "HTMLView",
            "description": "",
            "description_tooltip": null,
            "layout": "IPY_MODEL_7a82701961304c9d85c6b3fc294ee6ed",
            "placeholder": "​",
            "style": "IPY_MODEL_ac8275348b6148feb84f449a4552aef9",
            "value": " 100/100 [00:00&lt;00:00, 974.78 examples/s]"
          }
        },
        "3838ef73ec4743b59ff76ba07fca39bc": {
          "model_module": "@jupyter-widgets/base",
          "model_name": "LayoutModel",
          "model_module_version": "1.2.0",
          "state": {
            "_model_module": "@jupyter-widgets/base",
            "_model_module_version": "1.2.0",
            "_model_name": "LayoutModel",
            "_view_count": null,
            "_view_module": "@jupyter-widgets/base",
            "_view_module_version": "1.2.0",
            "_view_name": "LayoutView",
            "align_content": null,
            "align_items": null,
            "align_self": null,
            "border": null,
            "bottom": null,
            "display": null,
            "flex": null,
            "flex_flow": null,
            "grid_area": null,
            "grid_auto_columns": null,
            "grid_auto_flow": null,
            "grid_auto_rows": null,
            "grid_column": null,
            "grid_gap": null,
            "grid_row": null,
            "grid_template_areas": null,
            "grid_template_columns": null,
            "grid_template_rows": null,
            "height": null,
            "justify_content": null,
            "justify_items": null,
            "left": null,
            "margin": null,
            "max_height": null,
            "max_width": null,
            "min_height": null,
            "min_width": null,
            "object_fit": null,
            "object_position": null,
            "order": null,
            "overflow": null,
            "overflow_x": null,
            "overflow_y": null,
            "padding": null,
            "right": null,
            "top": null,
            "visibility": null,
            "width": null
          }
        },
        "7cf2eaf062f3486dafa8efaa715ac834": {
          "model_module": "@jupyter-widgets/base",
          "model_name": "LayoutModel",
          "model_module_version": "1.2.0",
          "state": {
            "_model_module": "@jupyter-widgets/base",
            "_model_module_version": "1.2.0",
            "_model_name": "LayoutModel",
            "_view_count": null,
            "_view_module": "@jupyter-widgets/base",
            "_view_module_version": "1.2.0",
            "_view_name": "LayoutView",
            "align_content": null,
            "align_items": null,
            "align_self": null,
            "border": null,
            "bottom": null,
            "display": null,
            "flex": null,
            "flex_flow": null,
            "grid_area": null,
            "grid_auto_columns": null,
            "grid_auto_flow": null,
            "grid_auto_rows": null,
            "grid_column": null,
            "grid_gap": null,
            "grid_row": null,
            "grid_template_areas": null,
            "grid_template_columns": null,
            "grid_template_rows": null,
            "height": null,
            "justify_content": null,
            "justify_items": null,
            "left": null,
            "margin": null,
            "max_height": null,
            "max_width": null,
            "min_height": null,
            "min_width": null,
            "object_fit": null,
            "object_position": null,
            "order": null,
            "overflow": null,
            "overflow_x": null,
            "overflow_y": null,
            "padding": null,
            "right": null,
            "top": null,
            "visibility": null,
            "width": null
          }
        },
        "31a441947ea54b859b2bac0003e531e8": {
          "model_module": "@jupyter-widgets/controls",
          "model_name": "DescriptionStyleModel",
          "model_module_version": "1.5.0",
          "state": {
            "_model_module": "@jupyter-widgets/controls",
            "_model_module_version": "1.5.0",
            "_model_name": "DescriptionStyleModel",
            "_view_count": null,
            "_view_module": "@jupyter-widgets/base",
            "_view_module_version": "1.2.0",
            "_view_name": "StyleView",
            "description_width": ""
          }
        },
        "24d80b7297734415a9a42b3971c31cb0": {
          "model_module": "@jupyter-widgets/base",
          "model_name": "LayoutModel",
          "model_module_version": "1.2.0",
          "state": {
            "_model_module": "@jupyter-widgets/base",
            "_model_module_version": "1.2.0",
            "_model_name": "LayoutModel",
            "_view_count": null,
            "_view_module": "@jupyter-widgets/base",
            "_view_module_version": "1.2.0",
            "_view_name": "LayoutView",
            "align_content": null,
            "align_items": null,
            "align_self": null,
            "border": null,
            "bottom": null,
            "display": null,
            "flex": null,
            "flex_flow": null,
            "grid_area": null,
            "grid_auto_columns": null,
            "grid_auto_flow": null,
            "grid_auto_rows": null,
            "grid_column": null,
            "grid_gap": null,
            "grid_row": null,
            "grid_template_areas": null,
            "grid_template_columns": null,
            "grid_template_rows": null,
            "height": null,
            "justify_content": null,
            "justify_items": null,
            "left": null,
            "margin": null,
            "max_height": null,
            "max_width": null,
            "min_height": null,
            "min_width": null,
            "object_fit": null,
            "object_position": null,
            "order": null,
            "overflow": null,
            "overflow_x": null,
            "overflow_y": null,
            "padding": null,
            "right": null,
            "top": null,
            "visibility": null,
            "width": null
          }
        },
        "d12d9bd80db24c9e863428f7e7d4cdeb": {
          "model_module": "@jupyter-widgets/controls",
          "model_name": "ProgressStyleModel",
          "model_module_version": "1.5.0",
          "state": {
            "_model_module": "@jupyter-widgets/controls",
            "_model_module_version": "1.5.0",
            "_model_name": "ProgressStyleModel",
            "_view_count": null,
            "_view_module": "@jupyter-widgets/base",
            "_view_module_version": "1.2.0",
            "_view_name": "StyleView",
            "bar_color": null,
            "description_width": ""
          }
        },
        "7a82701961304c9d85c6b3fc294ee6ed": {
          "model_module": "@jupyter-widgets/base",
          "model_name": "LayoutModel",
          "model_module_version": "1.2.0",
          "state": {
            "_model_module": "@jupyter-widgets/base",
            "_model_module_version": "1.2.0",
            "_model_name": "LayoutModel",
            "_view_count": null,
            "_view_module": "@jupyter-widgets/base",
            "_view_module_version": "1.2.0",
            "_view_name": "LayoutView",
            "align_content": null,
            "align_items": null,
            "align_self": null,
            "border": null,
            "bottom": null,
            "display": null,
            "flex": null,
            "flex_flow": null,
            "grid_area": null,
            "grid_auto_columns": null,
            "grid_auto_flow": null,
            "grid_auto_rows": null,
            "grid_column": null,
            "grid_gap": null,
            "grid_row": null,
            "grid_template_areas": null,
            "grid_template_columns": null,
            "grid_template_rows": null,
            "height": null,
            "justify_content": null,
            "justify_items": null,
            "left": null,
            "margin": null,
            "max_height": null,
            "max_width": null,
            "min_height": null,
            "min_width": null,
            "object_fit": null,
            "object_position": null,
            "order": null,
            "overflow": null,
            "overflow_x": null,
            "overflow_y": null,
            "padding": null,
            "right": null,
            "top": null,
            "visibility": null,
            "width": null
          }
        },
        "ac8275348b6148feb84f449a4552aef9": {
          "model_module": "@jupyter-widgets/controls",
          "model_name": "DescriptionStyleModel",
          "model_module_version": "1.5.0",
          "state": {
            "_model_module": "@jupyter-widgets/controls",
            "_model_module_version": "1.5.0",
            "_model_name": "DescriptionStyleModel",
            "_view_count": null,
            "_view_module": "@jupyter-widgets/base",
            "_view_module_version": "1.2.0",
            "_view_name": "StyleView",
            "description_width": ""
          }
        },
        "a7ec49b34f354dbf96987a7dff2cd4bb": {
          "model_module": "@jupyter-widgets/controls",
          "model_name": "HBoxModel",
          "model_module_version": "1.5.0",
          "state": {
            "_dom_classes": [],
            "_model_module": "@jupyter-widgets/controls",
            "_model_module_version": "1.5.0",
            "_model_name": "HBoxModel",
            "_view_count": null,
            "_view_module": "@jupyter-widgets/controls",
            "_view_module_version": "1.5.0",
            "_view_name": "HBoxView",
            "box_style": "",
            "children": [
              "IPY_MODEL_d3b642aa5be542939467b2878111f88b",
              "IPY_MODEL_c049d9deb32349f78129e8ecd8ec1fd3",
              "IPY_MODEL_7dc876535b75433f8ace12d25a14506e"
            ],
            "layout": "IPY_MODEL_842ed0d3c2314432885cc3ea0990d21b"
          }
        },
        "d3b642aa5be542939467b2878111f88b": {
          "model_module": "@jupyter-widgets/controls",
          "model_name": "HTMLModel",
          "model_module_version": "1.5.0",
          "state": {
            "_dom_classes": [],
            "_model_module": "@jupyter-widgets/controls",
            "_model_module_version": "1.5.0",
            "_model_name": "HTMLModel",
            "_view_count": null,
            "_view_module": "@jupyter-widgets/controls",
            "_view_module_version": "1.5.0",
            "_view_name": "HTMLView",
            "description": "",
            "description_tooltip": null,
            "layout": "IPY_MODEL_eb7174598c8942ba910d2521aa03ea7d",
            "placeholder": "​",
            "style": "IPY_MODEL_ec6cddf57dbd46268c1ec98da22b26bf",
            "value": "Map: 100%"
          }
        },
        "c049d9deb32349f78129e8ecd8ec1fd3": {
          "model_module": "@jupyter-widgets/controls",
          "model_name": "FloatProgressModel",
          "model_module_version": "1.5.0",
          "state": {
            "_dom_classes": [],
            "_model_module": "@jupyter-widgets/controls",
            "_model_module_version": "1.5.0",
            "_model_name": "FloatProgressModel",
            "_view_count": null,
            "_view_module": "@jupyter-widgets/controls",
            "_view_module_version": "1.5.0",
            "_view_name": "ProgressView",
            "bar_style": "success",
            "description": "",
            "description_tooltip": null,
            "layout": "IPY_MODEL_7328c7b7ccb04417ae8e7b1797087d21",
            "max": 127,
            "min": 0,
            "orientation": "horizontal",
            "style": "IPY_MODEL_9a1d1cfc39a74dde9d0187c888fcae9f",
            "value": 127
          }
        },
        "7dc876535b75433f8ace12d25a14506e": {
          "model_module": "@jupyter-widgets/controls",
          "model_name": "HTMLModel",
          "model_module_version": "1.5.0",
          "state": {
            "_dom_classes": [],
            "_model_module": "@jupyter-widgets/controls",
            "_model_module_version": "1.5.0",
            "_model_name": "HTMLModel",
            "_view_count": null,
            "_view_module": "@jupyter-widgets/controls",
            "_view_module_version": "1.5.0",
            "_view_name": "HTMLView",
            "description": "",
            "description_tooltip": null,
            "layout": "IPY_MODEL_7478ed83fade43e790e7cc6165a7636e",
            "placeholder": "​",
            "style": "IPY_MODEL_dd90aa99f98f444a92a9c5ac38c40dc3",
            "value": " 127/127 [00:00&lt;00:00, 1107.67 examples/s]"
          }
        },
        "842ed0d3c2314432885cc3ea0990d21b": {
          "model_module": "@jupyter-widgets/base",
          "model_name": "LayoutModel",
          "model_module_version": "1.2.0",
          "state": {
            "_model_module": "@jupyter-widgets/base",
            "_model_module_version": "1.2.0",
            "_model_name": "LayoutModel",
            "_view_count": null,
            "_view_module": "@jupyter-widgets/base",
            "_view_module_version": "1.2.0",
            "_view_name": "LayoutView",
            "align_content": null,
            "align_items": null,
            "align_self": null,
            "border": null,
            "bottom": null,
            "display": null,
            "flex": null,
            "flex_flow": null,
            "grid_area": null,
            "grid_auto_columns": null,
            "grid_auto_flow": null,
            "grid_auto_rows": null,
            "grid_column": null,
            "grid_gap": null,
            "grid_row": null,
            "grid_template_areas": null,
            "grid_template_columns": null,
            "grid_template_rows": null,
            "height": null,
            "justify_content": null,
            "justify_items": null,
            "left": null,
            "margin": null,
            "max_height": null,
            "max_width": null,
            "min_height": null,
            "min_width": null,
            "object_fit": null,
            "object_position": null,
            "order": null,
            "overflow": null,
            "overflow_x": null,
            "overflow_y": null,
            "padding": null,
            "right": null,
            "top": null,
            "visibility": null,
            "width": null
          }
        },
        "eb7174598c8942ba910d2521aa03ea7d": {
          "model_module": "@jupyter-widgets/base",
          "model_name": "LayoutModel",
          "model_module_version": "1.2.0",
          "state": {
            "_model_module": "@jupyter-widgets/base",
            "_model_module_version": "1.2.0",
            "_model_name": "LayoutModel",
            "_view_count": null,
            "_view_module": "@jupyter-widgets/base",
            "_view_module_version": "1.2.0",
            "_view_name": "LayoutView",
            "align_content": null,
            "align_items": null,
            "align_self": null,
            "border": null,
            "bottom": null,
            "display": null,
            "flex": null,
            "flex_flow": null,
            "grid_area": null,
            "grid_auto_columns": null,
            "grid_auto_flow": null,
            "grid_auto_rows": null,
            "grid_column": null,
            "grid_gap": null,
            "grid_row": null,
            "grid_template_areas": null,
            "grid_template_columns": null,
            "grid_template_rows": null,
            "height": null,
            "justify_content": null,
            "justify_items": null,
            "left": null,
            "margin": null,
            "max_height": null,
            "max_width": null,
            "min_height": null,
            "min_width": null,
            "object_fit": null,
            "object_position": null,
            "order": null,
            "overflow": null,
            "overflow_x": null,
            "overflow_y": null,
            "padding": null,
            "right": null,
            "top": null,
            "visibility": null,
            "width": null
          }
        },
        "ec6cddf57dbd46268c1ec98da22b26bf": {
          "model_module": "@jupyter-widgets/controls",
          "model_name": "DescriptionStyleModel",
          "model_module_version": "1.5.0",
          "state": {
            "_model_module": "@jupyter-widgets/controls",
            "_model_module_version": "1.5.0",
            "_model_name": "DescriptionStyleModel",
            "_view_count": null,
            "_view_module": "@jupyter-widgets/base",
            "_view_module_version": "1.2.0",
            "_view_name": "StyleView",
            "description_width": ""
          }
        },
        "7328c7b7ccb04417ae8e7b1797087d21": {
          "model_module": "@jupyter-widgets/base",
          "model_name": "LayoutModel",
          "model_module_version": "1.2.0",
          "state": {
            "_model_module": "@jupyter-widgets/base",
            "_model_module_version": "1.2.0",
            "_model_name": "LayoutModel",
            "_view_count": null,
            "_view_module": "@jupyter-widgets/base",
            "_view_module_version": "1.2.0",
            "_view_name": "LayoutView",
            "align_content": null,
            "align_items": null,
            "align_self": null,
            "border": null,
            "bottom": null,
            "display": null,
            "flex": null,
            "flex_flow": null,
            "grid_area": null,
            "grid_auto_columns": null,
            "grid_auto_flow": null,
            "grid_auto_rows": null,
            "grid_column": null,
            "grid_gap": null,
            "grid_row": null,
            "grid_template_areas": null,
            "grid_template_columns": null,
            "grid_template_rows": null,
            "height": null,
            "justify_content": null,
            "justify_items": null,
            "left": null,
            "margin": null,
            "max_height": null,
            "max_width": null,
            "min_height": null,
            "min_width": null,
            "object_fit": null,
            "object_position": null,
            "order": null,
            "overflow": null,
            "overflow_x": null,
            "overflow_y": null,
            "padding": null,
            "right": null,
            "top": null,
            "visibility": null,
            "width": null
          }
        },
        "9a1d1cfc39a74dde9d0187c888fcae9f": {
          "model_module": "@jupyter-widgets/controls",
          "model_name": "ProgressStyleModel",
          "model_module_version": "1.5.0",
          "state": {
            "_model_module": "@jupyter-widgets/controls",
            "_model_module_version": "1.5.0",
            "_model_name": "ProgressStyleModel",
            "_view_count": null,
            "_view_module": "@jupyter-widgets/base",
            "_view_module_version": "1.2.0",
            "_view_name": "StyleView",
            "bar_color": null,
            "description_width": ""
          }
        },
        "7478ed83fade43e790e7cc6165a7636e": {
          "model_module": "@jupyter-widgets/base",
          "model_name": "LayoutModel",
          "model_module_version": "1.2.0",
          "state": {
            "_model_module": "@jupyter-widgets/base",
            "_model_module_version": "1.2.0",
            "_model_name": "LayoutModel",
            "_view_count": null,
            "_view_module": "@jupyter-widgets/base",
            "_view_module_version": "1.2.0",
            "_view_name": "LayoutView",
            "align_content": null,
            "align_items": null,
            "align_self": null,
            "border": null,
            "bottom": null,
            "display": null,
            "flex": null,
            "flex_flow": null,
            "grid_area": null,
            "grid_auto_columns": null,
            "grid_auto_flow": null,
            "grid_auto_rows": null,
            "grid_column": null,
            "grid_gap": null,
            "grid_row": null,
            "grid_template_areas": null,
            "grid_template_columns": null,
            "grid_template_rows": null,
            "height": null,
            "justify_content": null,
            "justify_items": null,
            "left": null,
            "margin": null,
            "max_height": null,
            "max_width": null,
            "min_height": null,
            "min_width": null,
            "object_fit": null,
            "object_position": null,
            "order": null,
            "overflow": null,
            "overflow_x": null,
            "overflow_y": null,
            "padding": null,
            "right": null,
            "top": null,
            "visibility": null,
            "width": null
          }
        },
        "dd90aa99f98f444a92a9c5ac38c40dc3": {
          "model_module": "@jupyter-widgets/controls",
          "model_name": "DescriptionStyleModel",
          "model_module_version": "1.5.0",
          "state": {
            "_model_module": "@jupyter-widgets/controls",
            "_model_module_version": "1.5.0",
            "_model_name": "DescriptionStyleModel",
            "_view_count": null,
            "_view_module": "@jupyter-widgets/base",
            "_view_module_version": "1.2.0",
            "_view_name": "StyleView",
            "description_width": ""
          }
        },
        "8247875f6c584242a7041035692a405a": {
          "model_module": "@jupyter-widgets/controls",
          "model_name": "HBoxModel",
          "model_module_version": "1.5.0",
          "state": {
            "_dom_classes": [],
            "_model_module": "@jupyter-widgets/controls",
            "_model_module_version": "1.5.0",
            "_model_name": "HBoxModel",
            "_view_count": null,
            "_view_module": "@jupyter-widgets/controls",
            "_view_module_version": "1.5.0",
            "_view_name": "HBoxView",
            "box_style": "",
            "children": [
              "IPY_MODEL_e4eb3b8d38cb488e9475ec7975ec2482",
              "IPY_MODEL_bbe8f8292fec4ae88b9a4c2001a11aab",
              "IPY_MODEL_796afc3f7138494d8774b1064dce030d"
            ],
            "layout": "IPY_MODEL_cc7e80732efd44cf868b5e2cad88abfa"
          }
        },
        "e4eb3b8d38cb488e9475ec7975ec2482": {
          "model_module": "@jupyter-widgets/controls",
          "model_name": "HTMLModel",
          "model_module_version": "1.5.0",
          "state": {
            "_dom_classes": [],
            "_model_module": "@jupyter-widgets/controls",
            "_model_module_version": "1.5.0",
            "_model_name": "HTMLModel",
            "_view_count": null,
            "_view_module": "@jupyter-widgets/controls",
            "_view_module_version": "1.5.0",
            "_view_name": "HTMLView",
            "description": "",
            "description_tooltip": null,
            "layout": "IPY_MODEL_f85bc2a802e14501a904f3952868fa6d",
            "placeholder": "​",
            "style": "IPY_MODEL_aeb4ff076b8c40beb4394b555b76c257",
            "value": "Downloading builder script: "
          }
        },
        "bbe8f8292fec4ae88b9a4c2001a11aab": {
          "model_module": "@jupyter-widgets/controls",
          "model_name": "FloatProgressModel",
          "model_module_version": "1.5.0",
          "state": {
            "_dom_classes": [],
            "_model_module": "@jupyter-widgets/controls",
            "_model_module_version": "1.5.0",
            "_model_name": "FloatProgressModel",
            "_view_count": null,
            "_view_module": "@jupyter-widgets/controls",
            "_view_module_version": "1.5.0",
            "_view_name": "ProgressView",
            "bar_style": "success",
            "description": "",
            "description_tooltip": null,
            "layout": "IPY_MODEL_f156de24a16a43b9bd92f5383b7ae358",
            "max": 2169,
            "min": 0,
            "orientation": "horizontal",
            "style": "IPY_MODEL_efa59eaaacc146e5a5091570738f46fc",
            "value": 2169
          }
        },
        "796afc3f7138494d8774b1064dce030d": {
          "model_module": "@jupyter-widgets/controls",
          "model_name": "HTMLModel",
          "model_module_version": "1.5.0",
          "state": {
            "_dom_classes": [],
            "_model_module": "@jupyter-widgets/controls",
            "_model_module_version": "1.5.0",
            "_model_name": "HTMLModel",
            "_view_count": null,
            "_view_module": "@jupyter-widgets/controls",
            "_view_module_version": "1.5.0",
            "_view_name": "HTMLView",
            "description": "",
            "description_tooltip": null,
            "layout": "IPY_MODEL_853702c037b04c5986c456044f33181c",
            "placeholder": "​",
            "style": "IPY_MODEL_9a03deaf8ea94527b377a85a30f3320a",
            "value": " 5.65k/? [00:00&lt;00:00, 451kB/s]"
          }
        },
        "cc7e80732efd44cf868b5e2cad88abfa": {
          "model_module": "@jupyter-widgets/base",
          "model_name": "LayoutModel",
          "model_module_version": "1.2.0",
          "state": {
            "_model_module": "@jupyter-widgets/base",
            "_model_module_version": "1.2.0",
            "_model_name": "LayoutModel",
            "_view_count": null,
            "_view_module": "@jupyter-widgets/base",
            "_view_module_version": "1.2.0",
            "_view_name": "LayoutView",
            "align_content": null,
            "align_items": null,
            "align_self": null,
            "border": null,
            "bottom": null,
            "display": null,
            "flex": null,
            "flex_flow": null,
            "grid_area": null,
            "grid_auto_columns": null,
            "grid_auto_flow": null,
            "grid_auto_rows": null,
            "grid_column": null,
            "grid_gap": null,
            "grid_row": null,
            "grid_template_areas": null,
            "grid_template_columns": null,
            "grid_template_rows": null,
            "height": null,
            "justify_content": null,
            "justify_items": null,
            "left": null,
            "margin": null,
            "max_height": null,
            "max_width": null,
            "min_height": null,
            "min_width": null,
            "object_fit": null,
            "object_position": null,
            "order": null,
            "overflow": null,
            "overflow_x": null,
            "overflow_y": null,
            "padding": null,
            "right": null,
            "top": null,
            "visibility": null,
            "width": null
          }
        },
        "f85bc2a802e14501a904f3952868fa6d": {
          "model_module": "@jupyter-widgets/base",
          "model_name": "LayoutModel",
          "model_module_version": "1.2.0",
          "state": {
            "_model_module": "@jupyter-widgets/base",
            "_model_module_version": "1.2.0",
            "_model_name": "LayoutModel",
            "_view_count": null,
            "_view_module": "@jupyter-widgets/base",
            "_view_module_version": "1.2.0",
            "_view_name": "LayoutView",
            "align_content": null,
            "align_items": null,
            "align_self": null,
            "border": null,
            "bottom": null,
            "display": null,
            "flex": null,
            "flex_flow": null,
            "grid_area": null,
            "grid_auto_columns": null,
            "grid_auto_flow": null,
            "grid_auto_rows": null,
            "grid_column": null,
            "grid_gap": null,
            "grid_row": null,
            "grid_template_areas": null,
            "grid_template_columns": null,
            "grid_template_rows": null,
            "height": null,
            "justify_content": null,
            "justify_items": null,
            "left": null,
            "margin": null,
            "max_height": null,
            "max_width": null,
            "min_height": null,
            "min_width": null,
            "object_fit": null,
            "object_position": null,
            "order": null,
            "overflow": null,
            "overflow_x": null,
            "overflow_y": null,
            "padding": null,
            "right": null,
            "top": null,
            "visibility": null,
            "width": null
          }
        },
        "aeb4ff076b8c40beb4394b555b76c257": {
          "model_module": "@jupyter-widgets/controls",
          "model_name": "DescriptionStyleModel",
          "model_module_version": "1.5.0",
          "state": {
            "_model_module": "@jupyter-widgets/controls",
            "_model_module_version": "1.5.0",
            "_model_name": "DescriptionStyleModel",
            "_view_count": null,
            "_view_module": "@jupyter-widgets/base",
            "_view_module_version": "1.2.0",
            "_view_name": "StyleView",
            "description_width": ""
          }
        },
        "f156de24a16a43b9bd92f5383b7ae358": {
          "model_module": "@jupyter-widgets/base",
          "model_name": "LayoutModel",
          "model_module_version": "1.2.0",
          "state": {
            "_model_module": "@jupyter-widgets/base",
            "_model_module_version": "1.2.0",
            "_model_name": "LayoutModel",
            "_view_count": null,
            "_view_module": "@jupyter-widgets/base",
            "_view_module_version": "1.2.0",
            "_view_name": "LayoutView",
            "align_content": null,
            "align_items": null,
            "align_self": null,
            "border": null,
            "bottom": null,
            "display": null,
            "flex": null,
            "flex_flow": null,
            "grid_area": null,
            "grid_auto_columns": null,
            "grid_auto_flow": null,
            "grid_auto_rows": null,
            "grid_column": null,
            "grid_gap": null,
            "grid_row": null,
            "grid_template_areas": null,
            "grid_template_columns": null,
            "grid_template_rows": null,
            "height": null,
            "justify_content": null,
            "justify_items": null,
            "left": null,
            "margin": null,
            "max_height": null,
            "max_width": null,
            "min_height": null,
            "min_width": null,
            "object_fit": null,
            "object_position": null,
            "order": null,
            "overflow": null,
            "overflow_x": null,
            "overflow_y": null,
            "padding": null,
            "right": null,
            "top": null,
            "visibility": null,
            "width": null
          }
        },
        "efa59eaaacc146e5a5091570738f46fc": {
          "model_module": "@jupyter-widgets/controls",
          "model_name": "ProgressStyleModel",
          "model_module_version": "1.5.0",
          "state": {
            "_model_module": "@jupyter-widgets/controls",
            "_model_module_version": "1.5.0",
            "_model_name": "ProgressStyleModel",
            "_view_count": null,
            "_view_module": "@jupyter-widgets/base",
            "_view_module_version": "1.2.0",
            "_view_name": "StyleView",
            "bar_color": null,
            "description_width": ""
          }
        },
        "853702c037b04c5986c456044f33181c": {
          "model_module": "@jupyter-widgets/base",
          "model_name": "LayoutModel",
          "model_module_version": "1.2.0",
          "state": {
            "_model_module": "@jupyter-widgets/base",
            "_model_module_version": "1.2.0",
            "_model_name": "LayoutModel",
            "_view_count": null,
            "_view_module": "@jupyter-widgets/base",
            "_view_module_version": "1.2.0",
            "_view_name": "LayoutView",
            "align_content": null,
            "align_items": null,
            "align_self": null,
            "border": null,
            "bottom": null,
            "display": null,
            "flex": null,
            "flex_flow": null,
            "grid_area": null,
            "grid_auto_columns": null,
            "grid_auto_flow": null,
            "grid_auto_rows": null,
            "grid_column": null,
            "grid_gap": null,
            "grid_row": null,
            "grid_template_areas": null,
            "grid_template_columns": null,
            "grid_template_rows": null,
            "height": null,
            "justify_content": null,
            "justify_items": null,
            "left": null,
            "margin": null,
            "max_height": null,
            "max_width": null,
            "min_height": null,
            "min_width": null,
            "object_fit": null,
            "object_position": null,
            "order": null,
            "overflow": null,
            "overflow_x": null,
            "overflow_y": null,
            "padding": null,
            "right": null,
            "top": null,
            "visibility": null,
            "width": null
          }
        },
        "9a03deaf8ea94527b377a85a30f3320a": {
          "model_module": "@jupyter-widgets/controls",
          "model_name": "DescriptionStyleModel",
          "model_module_version": "1.5.0",
          "state": {
            "_model_module": "@jupyter-widgets/controls",
            "_model_module_version": "1.5.0",
            "_model_name": "DescriptionStyleModel",
            "_view_count": null,
            "_view_module": "@jupyter-widgets/base",
            "_view_module_version": "1.2.0",
            "_view_name": "StyleView",
            "description_width": ""
          }
        }
      }
    },
    "accelerator": "GPU"
  },
  "cells": [
    {
      "cell_type": "markdown",
      "source": [
        "## **Qwen 1.5-0.5B**"
      ],
      "metadata": {
        "id": "YWnWdWhmp2-d"
      }
    },
    {
      "cell_type": "markdown",
      "source": [
        "####**Import Libraries**"
      ],
      "metadata": {
        "id": "sFKWZ_YvADqW"
      }
    },
    {
      "cell_type": "code",
      "source": [
        "%%capture\n",
        "!pip install datasets==2.21.0 transformers peft torch rouge-score nltk"
      ],
      "metadata": {
        "id": "mEJXRbrGx_Dz"
      },
      "execution_count": null,
      "outputs": []
    },
    {
      "cell_type": "code",
      "source": [
        "%%capture\n",
        "!pip install accelerate -U"
      ],
      "metadata": {
        "id": "U86w4o2Xx_SV"
      },
      "execution_count": null,
      "outputs": []
    },
    {
      "cell_type": "code",
      "execution_count": null,
      "metadata": {
        "id": "fRnKRtdMqbNW"
      },
      "outputs": [],
      "source": [
        "%%capture\n",
        "#Loads transformers, torch and huggingface_hub\n",
        "!pip install transformers torch huggingface_hub\n",
        "\n",
        "#AutoModelForCausalLM - Creates models for causal language modeling tasks\n",
        "#AutoTokenizer - To tokenize text data for the model\n",
        "from transformers import Qwen2ForCausalLM, Qwen2Tokenizer, AutoModelForCausalLM, AutoTokenizer\n",
        "\n",
        "#Transformers_stream_generator - text generation method which returns a generator,\n",
        "# #streaming out each token in real-time during inference, based on\n",
        "# Huggingface/Transformers Einops (Einstein Operations) - library for tensor manipulations\n",
        "!pip install transformers_stream_generator einops\n",
        "\n",
        "#BPE tokeniser for use with OpenAI's models (Byte Pair Encoding - is a compression technique). It splits text into tokens.\n",
        "!pip install tiktoken\n"
      ]
    },
    {
      "cell_type": "code",
      "source": [
        "import transformers\n",
        "from datasets import load_dataset, load_metric, Dataset,DatasetDict"
      ],
      "metadata": {
        "id": "fNxKimQayMaZ"
      },
      "execution_count": null,
      "outputs": []
    },
    {
      "cell_type": "markdown",
      "source": [
        "### **Define Model**"
      ],
      "metadata": {
        "id": "Z6PcXfcIqBRa"
      }
    },
    {
      "cell_type": "code",
      "source": [
        "##Qwen2.0 model with - 0.5 billion parameters; Hosted on - Hugging Face model hub\n",
        "#sModelName = \"Qwen/Qwen2-0.5B\"  ## \"Qwen1.5-7B-Chat\" & \"Qwen/Qwen2-75B\"\n",
        "\n",
        "model_name =\"Qwen/Qwen1.5-0.5B\""
      ],
      "metadata": {
        "id": "LMLD4_N5TwjD"
      },
      "execution_count": null,
      "outputs": []
    },
    {
      "cell_type": "code",
      "source": [
        "#Initialize Tokenizer & Model\n",
        "\n",
        "#trust_remote_code - Allows execution of code from the tokenizer files\n",
        "bTrust_remote_code = True\n",
        "\n",
        "#Load the tokenizer\n",
        "tokenizer = Qwen2Tokenizer.from_pretrained(model_name, trust_remote_code=bTrust_remote_code, model_max_length=8192) #model_max_length = 8192   #, use_fast=False    #Qwen\n",
        "#Load the model\n",
        "model = Qwen2ForCausalLM.from_pretrained(model_name)\n",
        "\n",
        "tokenizer.pad_token = tokenizer.eos_token #End of sentence"
      ],
      "metadata": {
        "colab": {
          "base_uri": "https://localhost:8080/",
          "height": 356,
          "referenced_widgets": [
            "e7bc3438a6324fd3896f18fc9df7b160",
            "222e7118771f4694bb82166b9d882cff",
            "2b74927520b64f6da3de4a47ac377575",
            "0688045d1b1844d0b31ce2498f2af92b",
            "4dc5fdd0b4b948c2a6e3024c02da4a75",
            "b4ae9c65241342e1a011bb754ac6abb5",
            "dae15bd33a8b47e1b4f7a9e95b17a810",
            "b2fa80640c9741b2a03e5e322e07d10a",
            "590cd910f38c431faf316f571725557c",
            "8ebd1f75d93d49f0b9bea6006196ece4",
            "fdddbdf3ff4c49a597e560772272a2c4",
            "16c346b531bb42b1b0b95cad32c1bb40",
            "c4b67caf50d0457889ac9e7a5f426cb4",
            "658b91a531bd4c47b4df242f04564c2c",
            "7cec374f5c4d4860b0306a95e2ccca2c",
            "cf79a41fea7941049d6c4303929c953a",
            "da0a04d5409044fcacb543916da555c3",
            "98edcb57b1db458c89cc593f93033c67",
            "11466f78965a4daf831024b0aea39333",
            "9909e5e2cb6b491ebc696ce35da11f09",
            "ed4ca2171c36418a9b7cef484ae48eb0",
            "5b4b4789bae34d4fba1ad1e9391abeb4",
            "a1a3f8221fd14434acb6fc6313776af2",
            "466533d442d246eeb0aaed266c96e81c",
            "1cd7a7e4083648489efceee9e1ed6804",
            "512758f80be54dda929a8d50aa926948",
            "3e064d9dc39844ca9b9596a2d5c29d12",
            "ae9bbc6069144f00b7d5df7b7f8a6736",
            "fd0bc9a79e7d49a7a4aa635a2bc0e941",
            "b4fd0926fd494e2abff1e4a6d479da06",
            "aca6dc6d409a46638b456dc039050518",
            "21a59bccf1e74fac81445e12a9d4d70b",
            "42ca01e3bab34b24b684724b1cbeb73d",
            "adacb5d2ff754a20bc29f700e5dc3582",
            "a6dbe6da1c304cb780a0caf577bd2843",
            "f92995636d004991a8f10169cf5145cb",
            "b460de581b124c61b7e277a1ef8e91d9",
            "73ad8479b6d34dc29f46b7f636be26a0",
            "6f514a517056463b858e9a5678f62ce0",
            "e116c932b968464d96e45589e88301dc",
            "c7d453ed9f124f069e39787389be4b15",
            "062cef9eb8d548c1b8b0d8a56d13c80c",
            "61fa9b2accd84cb68f47a38a2b038f4d",
            "5de97acc2913439190c07c6528bdcf41",
            "ec2d3dcb4ed24d1ba1ba607ad674992a",
            "41a2ffd1467449efacabe2b9d95b7fc4",
            "803a4e4ec4b440f0a3d24b8b0e90e421",
            "07402b5d8a16406ebd6c5620bb292a11",
            "3db0f87208f743fbaae8a368055cf437",
            "6ba8861b04f548b99d25ddcfcd8a14f3",
            "dd2f0b1bd07b4cfbb7ebc82b77ecbbf5",
            "be4d0e7ec82d484cb20f037d709ceb14",
            "33aa55c86f2641df9d1ed20d82e52a6a",
            "06f8e536330e4b1c99f940fde8a31b54",
            "c43b430ba0634c60a93e2aac31952639",
            "2fb9d9b196084d08b5ee2add454892b3",
            "b608062df8974feab753fee0557432d8",
            "6f6470d081c7425496b0455164426a7e",
            "fe33fc7ca0b84e649ce514d3f5bf2ddb",
            "38fef248e68942ef9c774876f3e52ed5",
            "ed5e729bae3a4a408148703c9157c208",
            "f77e3565ce494519bbec54c54840bde7",
            "1ad644ebae454212a7e290e64f462936",
            "eacd3dd99abb408f9eea000a89e50bd7",
            "d68a81422ebb47c3aadfc642ffcabbe2",
            "0a885d17336041268e7d2f11c8351e2d",
            "798ac4cfa8f542b09260eb13a206ff5f",
            "8270eae5532e4cb4bed15bcf001d6945",
            "65647ae27cb34ea490888bd170f48bb5",
            "391d8510c02a4cf0b61abe0a4cf46e15",
            "198aed6a04e342919fe23621f82707c1",
            "a602c7e47352496980dd4321ee546909",
            "b5ab72f717804017becac8dca7d87d26",
            "282d929675f54fd5869d636358f318a9",
            "5e7df30d5e954da5bc4aed4d17285796",
            "56fc6dd06c0243e185caff9ba6a2e91f",
            "40cad1d19ce64602938a9e4b837220a3"
          ]
        },
        "id": "rN5w_e3VfaXM",
        "outputId": "396cd0b3-7c11-4092-a518-65090327b415"
      },
      "execution_count": null,
      "outputs": [
        {
          "output_type": "stream",
          "name": "stderr",
          "text": [
            "/usr/local/lib/python3.10/dist-packages/huggingface_hub/utils/_token.py:89: UserWarning: \n",
            "The secret `HF_TOKEN` does not exist in your Colab secrets.\n",
            "To authenticate with the Hugging Face Hub, create a token in your settings tab (https://huggingface.co/settings/tokens), set it as secret in your Google Colab and restart your session.\n",
            "You will be able to reuse this secret in all of your notebooks.\n",
            "Please note that authentication is recommended but still optional to access public models or datasets.\n",
            "  warnings.warn(\n"
          ]
        },
        {
          "output_type": "display_data",
          "data": {
            "text/plain": [
              "tokenizer_config.json:   0%|          | 0.00/1.29k [00:00<?, ?B/s]"
            ],
            "application/vnd.jupyter.widget-view+json": {
              "version_major": 2,
              "version_minor": 0,
              "model_id": "e7bc3438a6324fd3896f18fc9df7b160"
            }
          },
          "metadata": {}
        },
        {
          "output_type": "display_data",
          "data": {
            "text/plain": [
              "vocab.json:   0%|          | 0.00/2.78M [00:00<?, ?B/s]"
            ],
            "application/vnd.jupyter.widget-view+json": {
              "version_major": 2,
              "version_minor": 0,
              "model_id": "16c346b531bb42b1b0b95cad32c1bb40"
            }
          },
          "metadata": {}
        },
        {
          "output_type": "display_data",
          "data": {
            "text/plain": [
              "merges.txt:   0%|          | 0.00/1.67M [00:00<?, ?B/s]"
            ],
            "application/vnd.jupyter.widget-view+json": {
              "version_major": 2,
              "version_minor": 0,
              "model_id": "a1a3f8221fd14434acb6fc6313776af2"
            }
          },
          "metadata": {}
        },
        {
          "output_type": "display_data",
          "data": {
            "text/plain": [
              "tokenizer.json:   0%|          | 0.00/7.03M [00:00<?, ?B/s]"
            ],
            "application/vnd.jupyter.widget-view+json": {
              "version_major": 2,
              "version_minor": 0,
              "model_id": "adacb5d2ff754a20bc29f700e5dc3582"
            }
          },
          "metadata": {}
        },
        {
          "output_type": "display_data",
          "data": {
            "text/plain": [
              "config.json:   0%|          | 0.00/661 [00:00<?, ?B/s]"
            ],
            "application/vnd.jupyter.widget-view+json": {
              "version_major": 2,
              "version_minor": 0,
              "model_id": "ec2d3dcb4ed24d1ba1ba607ad674992a"
            }
          },
          "metadata": {}
        },
        {
          "output_type": "display_data",
          "data": {
            "text/plain": [
              "model.safetensors:   0%|          | 0.00/1.24G [00:00<?, ?B/s]"
            ],
            "application/vnd.jupyter.widget-view+json": {
              "version_major": 2,
              "version_minor": 0,
              "model_id": "2fb9d9b196084d08b5ee2add454892b3"
            }
          },
          "metadata": {}
        },
        {
          "output_type": "display_data",
          "data": {
            "text/plain": [
              "generation_config.json:   0%|          | 0.00/138 [00:00<?, ?B/s]"
            ],
            "application/vnd.jupyter.widget-view+json": {
              "version_major": 2,
              "version_minor": 0,
              "model_id": "798ac4cfa8f542b09260eb13a206ff5f"
            }
          },
          "metadata": {}
        }
      ]
    },
    {
      "cell_type": "markdown",
      "source": [
        "### **Using AIML Q&A Content - Custom Data source**\n",
        "\n",
        "\n"
      ],
      "metadata": {
        "id": "E_udo6ttXUGv"
      }
    },
    {
      "cell_type": "code",
      "source": [
        " %%capture\n",
        "!pip install accelerate -U"
      ],
      "metadata": {
        "id": "8UKzMLyRyhT7"
      },
      "execution_count": null,
      "outputs": []
    },
    {
      "cell_type": "code",
      "source": [
        "#Delete existing downloads/folders if any\n",
        "import os, shutil\n",
        "folder = \"/content/group18_final_project\"\n",
        "\n",
        "if os.path.isfile(folder) and os.access(folder, os.R_OK):\n",
        "    print(\"File exists and is readable\")\n",
        "\n",
        "    if folder.exists():\n",
        "        print(\"Path exists\")  # path exists\n",
        "\n",
        "    if folder.is_file():\n",
        "        print(\"file exists\") # file exists\n",
        "\n",
        "    if folder.is_dir():\n",
        "        print(\"directory exists\")  # directory exists\n",
        "\n",
        "    for filename in os.listdir(folder):\n",
        "            file_path = os.path.join(folder, filename)\n",
        "            try:\n",
        "                if os.path.isfile(file_path) or os.path.islink(file_path):\n",
        "                    os.unlink(file_path)\n",
        "                elif os.path.isdir(file_path):\n",
        "                    shutil.rmtree(file_path)\n",
        "            except Exception as e:\n",
        "                print('Failed to delete %s. Reason: %s' % (file_path, e))\n",
        "\n",
        "else:\n",
        "    print(\"Either the file is missing or not readable\")\n",
        "\n",
        "\n"
      ],
      "metadata": {
        "id": "1uSzxbCDSqMO",
        "colab": {
          "base_uri": "https://localhost:8080/"
        },
        "outputId": "e9aa11dc-3a91-490c-f19f-15d0afa81167"
      },
      "execution_count": null,
      "outputs": [
        {
          "output_type": "stream",
          "name": "stdout",
          "text": [
            "Either the file is missing or not readable\n"
          ]
        }
      ]
    },
    {
      "cell_type": "code",
      "source": [
        "#Fetch QnA data from Github\n",
        "!git clone https://github.com/anukvma/group18_final_project.git\n",
        "\n",
        "import os\n",
        "import json\n",
        "import pandas as pd\n",
        "Path = \"/content/group18_final_project/\"\n",
        "\n",
        "# Define the folder containing the text files\n",
        "folder_path = Path + 'aiml_question_answers/AIML_QnA_Content/Group18_AIML_QA.csv'\n",
        "dfQnAData = pd.read_csv(Path +\"aiml_question_answers/AIML_QnA_Content/Group18_AIML_QA.csv\", names=['id','question','answer','unit'],encoding='unicode_escape',header=0)\n",
        "dfQnADataPart2 = pd.read_csv(Path +\"aiml_question_answers/sampled_qa_data.csv\", names=['id','question','answer','unit'],encoding='unicode_escape',header=0)\n",
        "\n",
        "dfQnAData = pd.concat([dfQnAData, dfQnADataPart2])\n"
      ],
      "metadata": {
        "colab": {
          "base_uri": "https://localhost:8080/"
        },
        "outputId": "509ed8da-31d0-4c8b-de23-821d6fa7de35",
        "id": "8b8chgj0XUGw"
      },
      "execution_count": null,
      "outputs": [
        {
          "output_type": "stream",
          "name": "stdout",
          "text": [
            "Cloning into 'group18_final_project'...\n",
            "remote: Enumerating objects: 350, done.\u001b[K\n",
            "remote: Counting objects: 100% (180/180), done.\u001b[K\n",
            "remote: Compressing objects: 100% (166/166), done.\u001b[K\n",
            "remote: Total 350 (delta 114), reused 28 (delta 14), pack-reused 170 (from 1)\u001b[K\n",
            "Receiving objects: 100% (350/350), 7.44 MiB | 16.67 MiB/s, done.\n",
            "Resolving deltas: 100% (199/199), done.\n"
          ]
        }
      ]
    },
    {
      "cell_type": "code",
      "source": [
        "dfQnAData.head()"
      ],
      "metadata": {
        "colab": {
          "base_uri": "https://localhost:8080/",
          "height": 206
        },
        "outputId": "bb40f28c-e74c-4d3f-b12c-901a08893ee1",
        "id": "K9myAOtvXUGx"
      },
      "execution_count": null,
      "outputs": [
        {
          "output_type": "execute_result",
          "data": {
            "text/plain": [
              "    id                                           question  \\\n",
              "0  1.0                       What is a linear classifier?   \n",
              "1  2.0     How does a linear classifier make predictions?   \n",
              "2  3.0  What is the objective function in a linear cla...   \n",
              "3  4.0                          What is gradient descent?   \n",
              "4  5.0    How does learning rate affect gradient descent?   \n",
              "\n",
              "                                              answer  unit  \n",
              "0  A linear classifier is a model that makes pred...   1.0  \n",
              "1  A linear classifier predicts by calculating th...   1.0  \n",
              "2  The objective function often used is the loss ...   1.0  \n",
              "3  Gradient descent is an optimization algorithm ...   1.0  \n",
              "4  The learning rate controls the step size in gr...   1.0  "
            ],
            "text/html": [
              "\n",
              "  <div id=\"df-30710705-8535-4762-a9e1-22f7115ef80e\" class=\"colab-df-container\">\n",
              "    <div>\n",
              "<style scoped>\n",
              "    .dataframe tbody tr th:only-of-type {\n",
              "        vertical-align: middle;\n",
              "    }\n",
              "\n",
              "    .dataframe tbody tr th {\n",
              "        vertical-align: top;\n",
              "    }\n",
              "\n",
              "    .dataframe thead th {\n",
              "        text-align: right;\n",
              "    }\n",
              "</style>\n",
              "<table border=\"1\" class=\"dataframe\">\n",
              "  <thead>\n",
              "    <tr style=\"text-align: right;\">\n",
              "      <th></th>\n",
              "      <th>id</th>\n",
              "      <th>question</th>\n",
              "      <th>answer</th>\n",
              "      <th>unit</th>\n",
              "    </tr>\n",
              "  </thead>\n",
              "  <tbody>\n",
              "    <tr>\n",
              "      <th>0</th>\n",
              "      <td>1.0</td>\n",
              "      <td>What is a linear classifier?</td>\n",
              "      <td>A linear classifier is a model that makes pred...</td>\n",
              "      <td>1.0</td>\n",
              "    </tr>\n",
              "    <tr>\n",
              "      <th>1</th>\n",
              "      <td>2.0</td>\n",
              "      <td>How does a linear classifier make predictions?</td>\n",
              "      <td>A linear classifier predicts by calculating th...</td>\n",
              "      <td>1.0</td>\n",
              "    </tr>\n",
              "    <tr>\n",
              "      <th>2</th>\n",
              "      <td>3.0</td>\n",
              "      <td>What is the objective function in a linear cla...</td>\n",
              "      <td>The objective function often used is the loss ...</td>\n",
              "      <td>1.0</td>\n",
              "    </tr>\n",
              "    <tr>\n",
              "      <th>3</th>\n",
              "      <td>4.0</td>\n",
              "      <td>What is gradient descent?</td>\n",
              "      <td>Gradient descent is an optimization algorithm ...</td>\n",
              "      <td>1.0</td>\n",
              "    </tr>\n",
              "    <tr>\n",
              "      <th>4</th>\n",
              "      <td>5.0</td>\n",
              "      <td>How does learning rate affect gradient descent?</td>\n",
              "      <td>The learning rate controls the step size in gr...</td>\n",
              "      <td>1.0</td>\n",
              "    </tr>\n",
              "  </tbody>\n",
              "</table>\n",
              "</div>\n",
              "    <div class=\"colab-df-buttons\">\n",
              "\n",
              "  <div class=\"colab-df-container\">\n",
              "    <button class=\"colab-df-convert\" onclick=\"convertToInteractive('df-30710705-8535-4762-a9e1-22f7115ef80e')\"\n",
              "            title=\"Convert this dataframe to an interactive table.\"\n",
              "            style=\"display:none;\">\n",
              "\n",
              "  <svg xmlns=\"http://www.w3.org/2000/svg\" height=\"24px\" viewBox=\"0 -960 960 960\">\n",
              "    <path d=\"M120-120v-720h720v720H120Zm60-500h600v-160H180v160Zm220 220h160v-160H400v160Zm0 220h160v-160H400v160ZM180-400h160v-160H180v160Zm440 0h160v-160H620v160ZM180-180h160v-160H180v160Zm440 0h160v-160H620v160Z\"/>\n",
              "  </svg>\n",
              "    </button>\n",
              "\n",
              "  <style>\n",
              "    .colab-df-container {\n",
              "      display:flex;\n",
              "      gap: 12px;\n",
              "    }\n",
              "\n",
              "    .colab-df-convert {\n",
              "      background-color: #E8F0FE;\n",
              "      border: none;\n",
              "      border-radius: 50%;\n",
              "      cursor: pointer;\n",
              "      display: none;\n",
              "      fill: #1967D2;\n",
              "      height: 32px;\n",
              "      padding: 0 0 0 0;\n",
              "      width: 32px;\n",
              "    }\n",
              "\n",
              "    .colab-df-convert:hover {\n",
              "      background-color: #E2EBFA;\n",
              "      box-shadow: 0px 1px 2px rgba(60, 64, 67, 0.3), 0px 1px 3px 1px rgba(60, 64, 67, 0.15);\n",
              "      fill: #174EA6;\n",
              "    }\n",
              "\n",
              "    .colab-df-buttons div {\n",
              "      margin-bottom: 4px;\n",
              "    }\n",
              "\n",
              "    [theme=dark] .colab-df-convert {\n",
              "      background-color: #3B4455;\n",
              "      fill: #D2E3FC;\n",
              "    }\n",
              "\n",
              "    [theme=dark] .colab-df-convert:hover {\n",
              "      background-color: #434B5C;\n",
              "      box-shadow: 0px 1px 3px 1px rgba(0, 0, 0, 0.15);\n",
              "      filter: drop-shadow(0px 1px 2px rgba(0, 0, 0, 0.3));\n",
              "      fill: #FFFFFF;\n",
              "    }\n",
              "  </style>\n",
              "\n",
              "    <script>\n",
              "      const buttonEl =\n",
              "        document.querySelector('#df-30710705-8535-4762-a9e1-22f7115ef80e button.colab-df-convert');\n",
              "      buttonEl.style.display =\n",
              "        google.colab.kernel.accessAllowed ? 'block' : 'none';\n",
              "\n",
              "      async function convertToInteractive(key) {\n",
              "        const element = document.querySelector('#df-30710705-8535-4762-a9e1-22f7115ef80e');\n",
              "        const dataTable =\n",
              "          await google.colab.kernel.invokeFunction('convertToInteractive',\n",
              "                                                    [key], {});\n",
              "        if (!dataTable) return;\n",
              "\n",
              "        const docLinkHtml = 'Like what you see? Visit the ' +\n",
              "          '<a target=\"_blank\" href=https://colab.research.google.com/notebooks/data_table.ipynb>data table notebook</a>'\n",
              "          + ' to learn more about interactive tables.';\n",
              "        element.innerHTML = '';\n",
              "        dataTable['output_type'] = 'display_data';\n",
              "        await google.colab.output.renderOutput(dataTable, element);\n",
              "        const docLink = document.createElement('div');\n",
              "        docLink.innerHTML = docLinkHtml;\n",
              "        element.appendChild(docLink);\n",
              "      }\n",
              "    </script>\n",
              "  </div>\n",
              "\n",
              "\n",
              "<div id=\"df-8489ba14-3148-42bd-a34a-a73771159506\">\n",
              "  <button class=\"colab-df-quickchart\" onclick=\"quickchart('df-8489ba14-3148-42bd-a34a-a73771159506')\"\n",
              "            title=\"Suggest charts\"\n",
              "            style=\"display:none;\">\n",
              "\n",
              "<svg xmlns=\"http://www.w3.org/2000/svg\" height=\"24px\"viewBox=\"0 0 24 24\"\n",
              "     width=\"24px\">\n",
              "    <g>\n",
              "        <path d=\"M19 3H5c-1.1 0-2 .9-2 2v14c0 1.1.9 2 2 2h14c1.1 0 2-.9 2-2V5c0-1.1-.9-2-2-2zM9 17H7v-7h2v7zm4 0h-2V7h2v10zm4 0h-2v-4h2v4z\"/>\n",
              "    </g>\n",
              "</svg>\n",
              "  </button>\n",
              "\n",
              "<style>\n",
              "  .colab-df-quickchart {\n",
              "      --bg-color: #E8F0FE;\n",
              "      --fill-color: #1967D2;\n",
              "      --hover-bg-color: #E2EBFA;\n",
              "      --hover-fill-color: #174EA6;\n",
              "      --disabled-fill-color: #AAA;\n",
              "      --disabled-bg-color: #DDD;\n",
              "  }\n",
              "\n",
              "  [theme=dark] .colab-df-quickchart {\n",
              "      --bg-color: #3B4455;\n",
              "      --fill-color: #D2E3FC;\n",
              "      --hover-bg-color: #434B5C;\n",
              "      --hover-fill-color: #FFFFFF;\n",
              "      --disabled-bg-color: #3B4455;\n",
              "      --disabled-fill-color: #666;\n",
              "  }\n",
              "\n",
              "  .colab-df-quickchart {\n",
              "    background-color: var(--bg-color);\n",
              "    border: none;\n",
              "    border-radius: 50%;\n",
              "    cursor: pointer;\n",
              "    display: none;\n",
              "    fill: var(--fill-color);\n",
              "    height: 32px;\n",
              "    padding: 0;\n",
              "    width: 32px;\n",
              "  }\n",
              "\n",
              "  .colab-df-quickchart:hover {\n",
              "    background-color: var(--hover-bg-color);\n",
              "    box-shadow: 0 1px 2px rgba(60, 64, 67, 0.3), 0 1px 3px 1px rgba(60, 64, 67, 0.15);\n",
              "    fill: var(--button-hover-fill-color);\n",
              "  }\n",
              "\n",
              "  .colab-df-quickchart-complete:disabled,\n",
              "  .colab-df-quickchart-complete:disabled:hover {\n",
              "    background-color: var(--disabled-bg-color);\n",
              "    fill: var(--disabled-fill-color);\n",
              "    box-shadow: none;\n",
              "  }\n",
              "\n",
              "  .colab-df-spinner {\n",
              "    border: 2px solid var(--fill-color);\n",
              "    border-color: transparent;\n",
              "    border-bottom-color: var(--fill-color);\n",
              "    animation:\n",
              "      spin 1s steps(1) infinite;\n",
              "  }\n",
              "\n",
              "  @keyframes spin {\n",
              "    0% {\n",
              "      border-color: transparent;\n",
              "      border-bottom-color: var(--fill-color);\n",
              "      border-left-color: var(--fill-color);\n",
              "    }\n",
              "    20% {\n",
              "      border-color: transparent;\n",
              "      border-left-color: var(--fill-color);\n",
              "      border-top-color: var(--fill-color);\n",
              "    }\n",
              "    30% {\n",
              "      border-color: transparent;\n",
              "      border-left-color: var(--fill-color);\n",
              "      border-top-color: var(--fill-color);\n",
              "      border-right-color: var(--fill-color);\n",
              "    }\n",
              "    40% {\n",
              "      border-color: transparent;\n",
              "      border-right-color: var(--fill-color);\n",
              "      border-top-color: var(--fill-color);\n",
              "    }\n",
              "    60% {\n",
              "      border-color: transparent;\n",
              "      border-right-color: var(--fill-color);\n",
              "    }\n",
              "    80% {\n",
              "      border-color: transparent;\n",
              "      border-right-color: var(--fill-color);\n",
              "      border-bottom-color: var(--fill-color);\n",
              "    }\n",
              "    90% {\n",
              "      border-color: transparent;\n",
              "      border-bottom-color: var(--fill-color);\n",
              "    }\n",
              "  }\n",
              "</style>\n",
              "\n",
              "  <script>\n",
              "    async function quickchart(key) {\n",
              "      const quickchartButtonEl =\n",
              "        document.querySelector('#' + key + ' button');\n",
              "      quickchartButtonEl.disabled = true;  // To prevent multiple clicks.\n",
              "      quickchartButtonEl.classList.add('colab-df-spinner');\n",
              "      try {\n",
              "        const charts = await google.colab.kernel.invokeFunction(\n",
              "            'suggestCharts', [key], {});\n",
              "      } catch (error) {\n",
              "        console.error('Error during call to suggestCharts:', error);\n",
              "      }\n",
              "      quickchartButtonEl.classList.remove('colab-df-spinner');\n",
              "      quickchartButtonEl.classList.add('colab-df-quickchart-complete');\n",
              "    }\n",
              "    (() => {\n",
              "      let quickchartButtonEl =\n",
              "        document.querySelector('#df-8489ba14-3148-42bd-a34a-a73771159506 button');\n",
              "      quickchartButtonEl.style.display =\n",
              "        google.colab.kernel.accessAllowed ? 'block' : 'none';\n",
              "    })();\n",
              "  </script>\n",
              "</div>\n",
              "\n",
              "    </div>\n",
              "  </div>\n"
            ],
            "application/vnd.google.colaboratory.intrinsic+json": {
              "type": "dataframe",
              "variable_name": "dfQnAData",
              "summary": "{\n  \"name\": \"dfQnAData\",\n  \"rows\": 1037,\n  \"fields\": [\n    {\n      \"column\": \"id\",\n      \"properties\": {\n        \"dtype\": \"number\",\n        \"std\": 181.45535844768202,\n        \"min\": 0.0,\n        \"max\": 665.0,\n        \"num_unique_values\": 666,\n        \"samples\": [\n          613.0,\n          159.0,\n          633.0\n        ],\n        \"semantic_type\": \"\",\n        \"description\": \"\"\n      }\n    },\n    {\n      \"column\": \"question\",\n      \"properties\": {\n        \"dtype\": \"string\",\n        \"num_unique_values\": 1021,\n        \"samples\": [\n          \"How does SVM handle non-linearly separable data?\",\n          \"Explain the skip-gram model in word2vec. \",\n          \"What are some key features involved in human perception? \"\n        ],\n        \"semantic_type\": \"\",\n        \"description\": \"\"\n      }\n    },\n    {\n      \"column\": \"answer\",\n      \"properties\": {\n        \"dtype\": \"string\",\n        \"num_unique_values\": 1022,\n        \"samples\": [\n          \"The basic components include the encoder and decoder, each consisting of multiple layers of self-attention mechanisms and feedforward neural networks.\",\n          \"Kernel trick allows us to operate in the original feature space without computing the coordinates of the data.\",\n          \"The main goal of the paper is to propose a behavioral decision tree (BehavDT) learning approach to build user-centric context-aware predictive models for smartphone data.\"\n        ],\n        \"semantic_type\": \"\",\n        \"description\": \"\"\n      }\n    },\n    {\n      \"column\": \"unit\",\n      \"properties\": {\n        \"dtype\": \"number\",\n        \"std\": 1.1092908896353908,\n        \"min\": 1.0,\n        \"max\": 4.0,\n        \"num_unique_values\": 4,\n        \"samples\": [\n          2.0,\n          4.0,\n          1.0\n        ],\n        \"semantic_type\": \"\",\n        \"description\": \"\"\n      }\n    }\n  ]\n}"
            }
          },
          "metadata": {},
          "execution_count": 10
        }
      ]
    },
    {
      "cell_type": "code",
      "source": [
        "#Data - Cleanup\n",
        "dfQnAData.dropna(axis=0, inplace=True)\n",
        "dfQnAData.isna().sum()\n",
        "dfQnAData = dfQnAData.sample(frac=1).reset_index(drop=True)\n",
        "\n",
        "dfQnAData.head()"
      ],
      "metadata": {
        "colab": {
          "base_uri": "https://localhost:8080/",
          "height": 206
        },
        "outputId": "ac65125e-0a50-4e2d-c104-e811db334027",
        "id": "_3VPGq3nXUGy"
      },
      "execution_count": null,
      "outputs": [
        {
          "output_type": "execute_result",
          "data": {
            "text/plain": [
              "      id                                           question  \\\n",
              "0  234.0  How does an MLP differ from a single-layer per...   \n",
              "1   58.0  Which ensemble technique is used by Random for...   \n",
              "2  614.0  Provide an example of a real-world application...   \n",
              "3  570.0      How would you handle file uploads in FastAPI?   \n",
              "4  285.0  What is the significance of the statement \"Sel...   \n",
              "\n",
              "                                              answer  unit  \n",
              "0  An MLP has multiple layers, allowing it to lea...   2.0  \n",
              "1  Bagging is the technique used by Random Forest...   1.0  \n",
              "2  Computer vision is used in medical imaging for...   4.0  \n",
              "3  FastAPI provides a simple way to handle file u...   4.0  \n",
              "4  This statement highlights that SSL creates sup...   4.0  "
            ],
            "text/html": [
              "\n",
              "  <div id=\"df-b5d18073-7a3e-4930-8c25-8775d09404a7\" class=\"colab-df-container\">\n",
              "    <div>\n",
              "<style scoped>\n",
              "    .dataframe tbody tr th:only-of-type {\n",
              "        vertical-align: middle;\n",
              "    }\n",
              "\n",
              "    .dataframe tbody tr th {\n",
              "        vertical-align: top;\n",
              "    }\n",
              "\n",
              "    .dataframe thead th {\n",
              "        text-align: right;\n",
              "    }\n",
              "</style>\n",
              "<table border=\"1\" class=\"dataframe\">\n",
              "  <thead>\n",
              "    <tr style=\"text-align: right;\">\n",
              "      <th></th>\n",
              "      <th>id</th>\n",
              "      <th>question</th>\n",
              "      <th>answer</th>\n",
              "      <th>unit</th>\n",
              "    </tr>\n",
              "  </thead>\n",
              "  <tbody>\n",
              "    <tr>\n",
              "      <th>0</th>\n",
              "      <td>234.0</td>\n",
              "      <td>How does an MLP differ from a single-layer per...</td>\n",
              "      <td>An MLP has multiple layers, allowing it to lea...</td>\n",
              "      <td>2.0</td>\n",
              "    </tr>\n",
              "    <tr>\n",
              "      <th>1</th>\n",
              "      <td>58.0</td>\n",
              "      <td>Which ensemble technique is used by Random for...</td>\n",
              "      <td>Bagging is the technique used by Random Forest...</td>\n",
              "      <td>1.0</td>\n",
              "    </tr>\n",
              "    <tr>\n",
              "      <th>2</th>\n",
              "      <td>614.0</td>\n",
              "      <td>Provide an example of a real-world application...</td>\n",
              "      <td>Computer vision is used in medical imaging for...</td>\n",
              "      <td>4.0</td>\n",
              "    </tr>\n",
              "    <tr>\n",
              "      <th>3</th>\n",
              "      <td>570.0</td>\n",
              "      <td>How would you handle file uploads in FastAPI?</td>\n",
              "      <td>FastAPI provides a simple way to handle file u...</td>\n",
              "      <td>4.0</td>\n",
              "    </tr>\n",
              "    <tr>\n",
              "      <th>4</th>\n",
              "      <td>285.0</td>\n",
              "      <td>What is the significance of the statement \"Sel...</td>\n",
              "      <td>This statement highlights that SSL creates sup...</td>\n",
              "      <td>4.0</td>\n",
              "    </tr>\n",
              "  </tbody>\n",
              "</table>\n",
              "</div>\n",
              "    <div class=\"colab-df-buttons\">\n",
              "\n",
              "  <div class=\"colab-df-container\">\n",
              "    <button class=\"colab-df-convert\" onclick=\"convertToInteractive('df-b5d18073-7a3e-4930-8c25-8775d09404a7')\"\n",
              "            title=\"Convert this dataframe to an interactive table.\"\n",
              "            style=\"display:none;\">\n",
              "\n",
              "  <svg xmlns=\"http://www.w3.org/2000/svg\" height=\"24px\" viewBox=\"0 -960 960 960\">\n",
              "    <path d=\"M120-120v-720h720v720H120Zm60-500h600v-160H180v160Zm220 220h160v-160H400v160Zm0 220h160v-160H400v160ZM180-400h160v-160H180v160Zm440 0h160v-160H620v160ZM180-180h160v-160H180v160Zm440 0h160v-160H620v160Z\"/>\n",
              "  </svg>\n",
              "    </button>\n",
              "\n",
              "  <style>\n",
              "    .colab-df-container {\n",
              "      display:flex;\n",
              "      gap: 12px;\n",
              "    }\n",
              "\n",
              "    .colab-df-convert {\n",
              "      background-color: #E8F0FE;\n",
              "      border: none;\n",
              "      border-radius: 50%;\n",
              "      cursor: pointer;\n",
              "      display: none;\n",
              "      fill: #1967D2;\n",
              "      height: 32px;\n",
              "      padding: 0 0 0 0;\n",
              "      width: 32px;\n",
              "    }\n",
              "\n",
              "    .colab-df-convert:hover {\n",
              "      background-color: #E2EBFA;\n",
              "      box-shadow: 0px 1px 2px rgba(60, 64, 67, 0.3), 0px 1px 3px 1px rgba(60, 64, 67, 0.15);\n",
              "      fill: #174EA6;\n",
              "    }\n",
              "\n",
              "    .colab-df-buttons div {\n",
              "      margin-bottom: 4px;\n",
              "    }\n",
              "\n",
              "    [theme=dark] .colab-df-convert {\n",
              "      background-color: #3B4455;\n",
              "      fill: #D2E3FC;\n",
              "    }\n",
              "\n",
              "    [theme=dark] .colab-df-convert:hover {\n",
              "      background-color: #434B5C;\n",
              "      box-shadow: 0px 1px 3px 1px rgba(0, 0, 0, 0.15);\n",
              "      filter: drop-shadow(0px 1px 2px rgba(0, 0, 0, 0.3));\n",
              "      fill: #FFFFFF;\n",
              "    }\n",
              "  </style>\n",
              "\n",
              "    <script>\n",
              "      const buttonEl =\n",
              "        document.querySelector('#df-b5d18073-7a3e-4930-8c25-8775d09404a7 button.colab-df-convert');\n",
              "      buttonEl.style.display =\n",
              "        google.colab.kernel.accessAllowed ? 'block' : 'none';\n",
              "\n",
              "      async function convertToInteractive(key) {\n",
              "        const element = document.querySelector('#df-b5d18073-7a3e-4930-8c25-8775d09404a7');\n",
              "        const dataTable =\n",
              "          await google.colab.kernel.invokeFunction('convertToInteractive',\n",
              "                                                    [key], {});\n",
              "        if (!dataTable) return;\n",
              "\n",
              "        const docLinkHtml = 'Like what you see? Visit the ' +\n",
              "          '<a target=\"_blank\" href=https://colab.research.google.com/notebooks/data_table.ipynb>data table notebook</a>'\n",
              "          + ' to learn more about interactive tables.';\n",
              "        element.innerHTML = '';\n",
              "        dataTable['output_type'] = 'display_data';\n",
              "        await google.colab.output.renderOutput(dataTable, element);\n",
              "        const docLink = document.createElement('div');\n",
              "        docLink.innerHTML = docLinkHtml;\n",
              "        element.appendChild(docLink);\n",
              "      }\n",
              "    </script>\n",
              "  </div>\n",
              "\n",
              "\n",
              "<div id=\"df-ce111136-b3ba-4709-9842-7b06dd71c427\">\n",
              "  <button class=\"colab-df-quickchart\" onclick=\"quickchart('df-ce111136-b3ba-4709-9842-7b06dd71c427')\"\n",
              "            title=\"Suggest charts\"\n",
              "            style=\"display:none;\">\n",
              "\n",
              "<svg xmlns=\"http://www.w3.org/2000/svg\" height=\"24px\"viewBox=\"0 0 24 24\"\n",
              "     width=\"24px\">\n",
              "    <g>\n",
              "        <path d=\"M19 3H5c-1.1 0-2 .9-2 2v14c0 1.1.9 2 2 2h14c1.1 0 2-.9 2-2V5c0-1.1-.9-2-2-2zM9 17H7v-7h2v7zm4 0h-2V7h2v10zm4 0h-2v-4h2v4z\"/>\n",
              "    </g>\n",
              "</svg>\n",
              "  </button>\n",
              "\n",
              "<style>\n",
              "  .colab-df-quickchart {\n",
              "      --bg-color: #E8F0FE;\n",
              "      --fill-color: #1967D2;\n",
              "      --hover-bg-color: #E2EBFA;\n",
              "      --hover-fill-color: #174EA6;\n",
              "      --disabled-fill-color: #AAA;\n",
              "      --disabled-bg-color: #DDD;\n",
              "  }\n",
              "\n",
              "  [theme=dark] .colab-df-quickchart {\n",
              "      --bg-color: #3B4455;\n",
              "      --fill-color: #D2E3FC;\n",
              "      --hover-bg-color: #434B5C;\n",
              "      --hover-fill-color: #FFFFFF;\n",
              "      --disabled-bg-color: #3B4455;\n",
              "      --disabled-fill-color: #666;\n",
              "  }\n",
              "\n",
              "  .colab-df-quickchart {\n",
              "    background-color: var(--bg-color);\n",
              "    border: none;\n",
              "    border-radius: 50%;\n",
              "    cursor: pointer;\n",
              "    display: none;\n",
              "    fill: var(--fill-color);\n",
              "    height: 32px;\n",
              "    padding: 0;\n",
              "    width: 32px;\n",
              "  }\n",
              "\n",
              "  .colab-df-quickchart:hover {\n",
              "    background-color: var(--hover-bg-color);\n",
              "    box-shadow: 0 1px 2px rgba(60, 64, 67, 0.3), 0 1px 3px 1px rgba(60, 64, 67, 0.15);\n",
              "    fill: var(--button-hover-fill-color);\n",
              "  }\n",
              "\n",
              "  .colab-df-quickchart-complete:disabled,\n",
              "  .colab-df-quickchart-complete:disabled:hover {\n",
              "    background-color: var(--disabled-bg-color);\n",
              "    fill: var(--disabled-fill-color);\n",
              "    box-shadow: none;\n",
              "  }\n",
              "\n",
              "  .colab-df-spinner {\n",
              "    border: 2px solid var(--fill-color);\n",
              "    border-color: transparent;\n",
              "    border-bottom-color: var(--fill-color);\n",
              "    animation:\n",
              "      spin 1s steps(1) infinite;\n",
              "  }\n",
              "\n",
              "  @keyframes spin {\n",
              "    0% {\n",
              "      border-color: transparent;\n",
              "      border-bottom-color: var(--fill-color);\n",
              "      border-left-color: var(--fill-color);\n",
              "    }\n",
              "    20% {\n",
              "      border-color: transparent;\n",
              "      border-left-color: var(--fill-color);\n",
              "      border-top-color: var(--fill-color);\n",
              "    }\n",
              "    30% {\n",
              "      border-color: transparent;\n",
              "      border-left-color: var(--fill-color);\n",
              "      border-top-color: var(--fill-color);\n",
              "      border-right-color: var(--fill-color);\n",
              "    }\n",
              "    40% {\n",
              "      border-color: transparent;\n",
              "      border-right-color: var(--fill-color);\n",
              "      border-top-color: var(--fill-color);\n",
              "    }\n",
              "    60% {\n",
              "      border-color: transparent;\n",
              "      border-right-color: var(--fill-color);\n",
              "    }\n",
              "    80% {\n",
              "      border-color: transparent;\n",
              "      border-right-color: var(--fill-color);\n",
              "      border-bottom-color: var(--fill-color);\n",
              "    }\n",
              "    90% {\n",
              "      border-color: transparent;\n",
              "      border-bottom-color: var(--fill-color);\n",
              "    }\n",
              "  }\n",
              "</style>\n",
              "\n",
              "  <script>\n",
              "    async function quickchart(key) {\n",
              "      const quickchartButtonEl =\n",
              "        document.querySelector('#' + key + ' button');\n",
              "      quickchartButtonEl.disabled = true;  // To prevent multiple clicks.\n",
              "      quickchartButtonEl.classList.add('colab-df-spinner');\n",
              "      try {\n",
              "        const charts = await google.colab.kernel.invokeFunction(\n",
              "            'suggestCharts', [key], {});\n",
              "      } catch (error) {\n",
              "        console.error('Error during call to suggestCharts:', error);\n",
              "      }\n",
              "      quickchartButtonEl.classList.remove('colab-df-spinner');\n",
              "      quickchartButtonEl.classList.add('colab-df-quickchart-complete');\n",
              "    }\n",
              "    (() => {\n",
              "      let quickchartButtonEl =\n",
              "        document.querySelector('#df-ce111136-b3ba-4709-9842-7b06dd71c427 button');\n",
              "      quickchartButtonEl.style.display =\n",
              "        google.colab.kernel.accessAllowed ? 'block' : 'none';\n",
              "    })();\n",
              "  </script>\n",
              "</div>\n",
              "\n",
              "    </div>\n",
              "  </div>\n"
            ],
            "application/vnd.google.colaboratory.intrinsic+json": {
              "type": "dataframe",
              "variable_name": "dfQnAData",
              "summary": "{\n  \"name\": \"dfQnAData\",\n  \"rows\": 1027,\n  \"fields\": [\n    {\n      \"column\": \"id\",\n      \"properties\": {\n        \"dtype\": \"number\",\n        \"std\": 181.58630131095433,\n        \"min\": 0.0,\n        \"max\": 665.0,\n        \"num_unique_values\": 664,\n        \"samples\": [\n          365.0,\n          75.0,\n          204.0\n        ],\n        \"semantic_type\": \"\",\n        \"description\": \"\"\n      }\n    },\n    {\n      \"column\": \"question\",\n      \"properties\": {\n        \"dtype\": \"string\",\n        \"num_unique_values\": 1015,\n        \"samples\": [\n          \"Can Ensemble Methods be applied to any machine learning algorithm?\",\n          \"What is Locally Linear Embedding (LLE)?\",\n          \"How does the training time of DL models compare to other machine learning methods?\"\n        ],\n        \"semantic_type\": \"\",\n        \"description\": \"\"\n      }\n    },\n    {\n      \"column\": \"answer\",\n      \"properties\": {\n        \"dtype\": \"string\",\n        \"num_unique_values\": 1020,\n        \"samples\": [\n          \"Overfitting can be reduced using regularization techniques (like L1 or L2), which penalize large weights, or by using techniques like cross-validation, early stopping, or adding more training data.\",\n          \"Cross-validation is a technique which is used to increase the performance of a machine learning algorithm where the machine is fed sampled data out of the same data for a few times.\",\n          \"The BoW model disregards the semantic relationship between words in the sentences.\"\n        ],\n        \"semantic_type\": \"\",\n        \"description\": \"\"\n      }\n    },\n    {\n      \"column\": \"unit\",\n      \"properties\": {\n        \"dtype\": \"number\",\n        \"std\": 1.1092908896353908,\n        \"min\": 1.0,\n        \"max\": 4.0,\n        \"num_unique_values\": 4,\n        \"samples\": [\n          1.0,\n          3.0,\n          2.0\n        ],\n        \"semantic_type\": \"\",\n        \"description\": \"\"\n      }\n    }\n  ]\n}"
            }
          },
          "metadata": {},
          "execution_count": 11
        }
      ]
    },
    {
      "cell_type": "code",
      "source": [
        "medium_datasets = DatasetDict()\n",
        "medium_datasets\n",
        "\n",
        "df = dfQnAData.copy()\n",
        "\n",
        "train_dataset: Dataset = Dataset.from_pandas(df[:800])\n",
        "validation_dataset: Dataset = Dataset.from_pandas(df[800:900])\n",
        "test_dataset: Dataset = Dataset.from_pandas(df[900:])\n",
        "\n",
        "train_dataset"
      ],
      "metadata": {
        "colab": {
          "base_uri": "https://localhost:8080/"
        },
        "outputId": "d818dd98-2635-48ef-8622-f2b0b5cd70d4",
        "id": "4pr6-tNBXUG0"
      },
      "execution_count": null,
      "outputs": [
        {
          "output_type": "execute_result",
          "data": {
            "text/plain": [
              "Dataset({\n",
              "    features: ['id', 'question', 'answer', 'unit'],\n",
              "    num_rows: 800\n",
              "})"
            ]
          },
          "metadata": {},
          "execution_count": 12
        }
      ]
    },
    {
      "cell_type": "code",
      "source": [
        "#Collate split datasets into DatasetDict\n",
        "medium_datasets[\"train\"] = train_dataset\n",
        "medium_datasets[\"validation\"] = validation_dataset\n",
        "medium_datasets[\"test\"] = test_dataset\n",
        "\n",
        "print(\"\\n\")\n",
        "medium_datasets"
      ],
      "metadata": {
        "id": "Lpq3o8IIXUG1",
        "colab": {
          "base_uri": "https://localhost:8080/"
        },
        "outputId": "27c81aa3-1d59-4125-c32a-fb87f57324e4"
      },
      "execution_count": null,
      "outputs": [
        {
          "output_type": "stream",
          "name": "stdout",
          "text": [
            "\n",
            "\n"
          ]
        },
        {
          "output_type": "execute_result",
          "data": {
            "text/plain": [
              "DatasetDict({\n",
              "    train: Dataset({\n",
              "        features: ['id', 'question', 'answer', 'unit'],\n",
              "        num_rows: 800\n",
              "    })\n",
              "    validation: Dataset({\n",
              "        features: ['id', 'question', 'answer', 'unit'],\n",
              "        num_rows: 100\n",
              "    })\n",
              "    test: Dataset({\n",
              "        features: ['id', 'question', 'answer', 'unit'],\n",
              "        num_rows: 127\n",
              "    })\n",
              "})"
            ]
          },
          "metadata": {},
          "execution_count": 13
        }
      ]
    },
    {
      "cell_type": "code",
      "source": [
        "##To display summary\n",
        "!pip install torchinfo\n",
        "\n",
        "from torchinfo import summary\n",
        "summary(model)"
      ],
      "metadata": {
        "id": "K6S8Z8Pidygw",
        "colab": {
          "base_uri": "https://localhost:8080/"
        },
        "outputId": "1b305730-40c9-4384-f555-32e7068d26b2"
      },
      "execution_count": null,
      "outputs": [
        {
          "output_type": "stream",
          "name": "stdout",
          "text": [
            "Collecting torchinfo\n",
            "  Downloading torchinfo-1.8.0-py3-none-any.whl.metadata (21 kB)\n",
            "Downloading torchinfo-1.8.0-py3-none-any.whl (23 kB)\n",
            "Installing collected packages: torchinfo\n",
            "Successfully installed torchinfo-1.8.0\n"
          ]
        },
        {
          "output_type": "execute_result",
          "data": {
            "text/plain": [
              "================================================================================\n",
              "Layer (type:depth-idx)                                  Param #\n",
              "================================================================================\n",
              "Qwen2ForCausalLM                                        --\n",
              "├─Qwen2Model: 1-1                                       --\n",
              "│    └─Embedding: 2-1                                   155,582,464\n",
              "│    └─ModuleList: 2-2                                  --\n",
              "│    │    └─Qwen2DecoderLayer: 3-1                      12,850,176\n",
              "│    │    └─Qwen2DecoderLayer: 3-2                      12,850,176\n",
              "│    │    └─Qwen2DecoderLayer: 3-3                      12,850,176\n",
              "│    │    └─Qwen2DecoderLayer: 3-4                      12,850,176\n",
              "│    │    └─Qwen2DecoderLayer: 3-5                      12,850,176\n",
              "│    │    └─Qwen2DecoderLayer: 3-6                      12,850,176\n",
              "│    │    └─Qwen2DecoderLayer: 3-7                      12,850,176\n",
              "│    │    └─Qwen2DecoderLayer: 3-8                      12,850,176\n",
              "│    │    └─Qwen2DecoderLayer: 3-9                      12,850,176\n",
              "│    │    └─Qwen2DecoderLayer: 3-10                     12,850,176\n",
              "│    │    └─Qwen2DecoderLayer: 3-11                     12,850,176\n",
              "│    │    └─Qwen2DecoderLayer: 3-12                     12,850,176\n",
              "│    │    └─Qwen2DecoderLayer: 3-13                     12,850,176\n",
              "│    │    └─Qwen2DecoderLayer: 3-14                     12,850,176\n",
              "│    │    └─Qwen2DecoderLayer: 3-15                     12,850,176\n",
              "│    │    └─Qwen2DecoderLayer: 3-16                     12,850,176\n",
              "│    │    └─Qwen2DecoderLayer: 3-17                     12,850,176\n",
              "│    │    └─Qwen2DecoderLayer: 3-18                     12,850,176\n",
              "│    │    └─Qwen2DecoderLayer: 3-19                     12,850,176\n",
              "│    │    └─Qwen2DecoderLayer: 3-20                     12,850,176\n",
              "│    │    └─Qwen2DecoderLayer: 3-21                     12,850,176\n",
              "│    │    └─Qwen2DecoderLayer: 3-22                     12,850,176\n",
              "│    │    └─Qwen2DecoderLayer: 3-23                     12,850,176\n",
              "│    │    └─Qwen2DecoderLayer: 3-24                     12,850,176\n",
              "│    └─Qwen2RMSNorm: 2-3                                1,024\n",
              "├─Linear: 1-2                                           155,582,464\n",
              "================================================================================\n",
              "Total params: 619,570,176\n",
              "Trainable params: 619,570,176\n",
              "Non-trainable params: 0\n",
              "================================================================================"
            ]
          },
          "metadata": {},
          "execution_count": 14
        }
      ]
    },
    {
      "cell_type": "markdown",
      "source": [
        "###**Tokenizer**"
      ],
      "metadata": {
        "id": "djZ4U5eg9HKT"
      }
    },
    {
      "cell_type": "code",
      "source": [
        "##Format data before mapping into tokenised dataset\n",
        "#DefaultPrefix = \"Please answer the AIML question: \"\n",
        "\n",
        "max_input_length = 128\n",
        "max_target_length = 128\n",
        "tokenizer.pad_token= tokenizer.eos_token\n",
        "\n",
        "def format_data(examples):\n",
        "    inputs = [q + \"\\n\" + a for q, a in zip(examples['question'], examples['answer'])]\n",
        "    model_inputs = tokenizer(inputs, max_length=max_input_length, truncation=True, padding=\"max_length\")\n",
        "    labels = model_inputs['input_ids'].copy()\n",
        "    model_inputs['labels'] = labels\n",
        "    return model_inputs\n",
        "\n",
        "tokenized_datasets = medium_datasets.map(format_data, batched=True)\n",
        "tokenized_datasets"
      ],
      "metadata": {
        "id": "Un1KBZWjSLG5",
        "colab": {
          "base_uri": "https://localhost:8080/",
          "height": 381,
          "referenced_widgets": [
            "10b26d7235a04675bcc0c21f3cb4d06e",
            "8900cb7335e74f0f9f1c7319a2e9b862",
            "169576e132294a8a9ba942d3de695d4e",
            "293ace39bfa64410a114a1718fb3b2b0",
            "e623445480bb4733823ba589e0a680c3",
            "e431ca8750bb4ae2adfce4c617d09afc",
            "873a871a1fb64afd9ac627d640f1ded4",
            "ecd6f5363cc046f1964358b6f5c08937",
            "904773b5194640e881ff964d720f7421",
            "d5ba8cc32f12489789f7d51908390dd2",
            "23d7acced50c403e931530a95f1a1858",
            "d7ebe99122014ebcb6a2e7cb775915a6",
            "7af99845902e45c984e144bb2f52bb49",
            "28430dd8f97f48479428845d51abcca3",
            "f4275618a787408093495036dd446f37",
            "ce2c2c0852d340f4b1e07b31c933867a",
            "7d1021434fea406797d2c45eced0af45",
            "6e6af6641a89463f999194af0f66be3b",
            "18e5149a04044172b6991c1eefcf9e84",
            "67846170570a46dea32a6945e0789e70",
            "0eb7810d8f5e4d0fa1dda0d071647414",
            "1dd8cf80eb0246c6886d68ca429ecd04",
            "219f40ac44154e0ba1f27dd8bddea709",
            "6dba5af14d854ec0b572db58b6d3796d",
            "0fe04251bb6b4a00b6c24a0ea569e4ad",
            "8007acf85be54ed5b84dd39d88b78ef4",
            "643366d867664b07b2d0da907f810585",
            "4291502456704e62a54dac6720b4b257",
            "9f877580b3a346a6b171d0e5fdd0e447",
            "818f7c540f024215857b6bf93e8ced88",
            "9c3943a56e7c49ea97aa16713d12cd09",
            "9a6be32c258f4db49e24e0b38822224a",
            "4a345d83a55748a29d94ac1da1b3ff19"
          ]
        },
        "outputId": "067c9751-3e29-4ed3-9dee-d3a7fe5159c4"
      },
      "execution_count": null,
      "outputs": [
        {
          "output_type": "display_data",
          "data": {
            "text/plain": [
              "Map:   0%|          | 0/800 [00:00<?, ? examples/s]"
            ],
            "application/vnd.jupyter.widget-view+json": {
              "version_major": 2,
              "version_minor": 0,
              "model_id": "10b26d7235a04675bcc0c21f3cb4d06e"
            }
          },
          "metadata": {}
        },
        {
          "output_type": "display_data",
          "data": {
            "text/plain": [
              "Map:   0%|          | 0/100 [00:00<?, ? examples/s]"
            ],
            "application/vnd.jupyter.widget-view+json": {
              "version_major": 2,
              "version_minor": 0,
              "model_id": "d7ebe99122014ebcb6a2e7cb775915a6"
            }
          },
          "metadata": {}
        },
        {
          "output_type": "display_data",
          "data": {
            "text/plain": [
              "Map:   0%|          | 0/127 [00:00<?, ? examples/s]"
            ],
            "application/vnd.jupyter.widget-view+json": {
              "version_major": 2,
              "version_minor": 0,
              "model_id": "219f40ac44154e0ba1f27dd8bddea709"
            }
          },
          "metadata": {}
        },
        {
          "output_type": "execute_result",
          "data": {
            "text/plain": [
              "DatasetDict({\n",
              "    train: Dataset({\n",
              "        features: ['id', 'question', 'answer', 'unit', 'input_ids', 'attention_mask', 'labels'],\n",
              "        num_rows: 800\n",
              "    })\n",
              "    validation: Dataset({\n",
              "        features: ['id', 'question', 'answer', 'unit', 'input_ids', 'attention_mask', 'labels'],\n",
              "        num_rows: 100\n",
              "    })\n",
              "    test: Dataset({\n",
              "        features: ['id', 'question', 'answer', 'unit', 'input_ids', 'attention_mask', 'labels'],\n",
              "        num_rows: 127\n",
              "    })\n",
              "})"
            ]
          },
          "metadata": {},
          "execution_count": 15
        }
      ]
    },
    {
      "cell_type": "markdown",
      "source": [
        "###**LoRa**"
      ],
      "metadata": {
        "id": "NJNqySXvZDHU"
      }
    },
    {
      "cell_type": "code",
      "source": [
        "%%capture\n",
        "!pip install peft\n",
        "from peft import LoraConfig, get_peft_model"
      ],
      "metadata": {
        "id": "bsSdLj_GkOmw"
      },
      "execution_count": null,
      "outputs": []
    },
    {
      "cell_type": "code",
      "source": [
        "##Config LoRa\n",
        "from peft import TaskType\n",
        "lora_config = LoraConfig(\n",
        "    r=4,  # Rank of the low-rank adaptation matrix\n",
        "    lora_alpha=16,  # Scaling factor for the low-rank adaptation\n",
        "    lora_dropout=0.1,  # Dropout for regularization\n",
        "    #target_modules=\n",
        "    bias=\"none\",  # No bias adjustment\n",
        "    task_type=\"CAUSAL_LM\" #TaskType.CAUSAL_LM, #\"CAUSAL_LM\"  #Task type, QUESTION_ANS or CAUSAL_LM\n",
        ")\n",
        "lora_config"
      ],
      "metadata": {
        "id": "aCKWM8SJZDHV",
        "colab": {
          "base_uri": "https://localhost:8080/"
        },
        "outputId": "212bdd8b-ab21-45f4-c688-b012a0b3263d"
      },
      "execution_count": null,
      "outputs": [
        {
          "output_type": "execute_result",
          "data": {
            "text/plain": [
              "LoraConfig(peft_type=<PeftType.LORA: 'LORA'>, auto_mapping=None, base_model_name_or_path=None, revision=None, task_type='CAUSAL_LM', inference_mode=False, r=4, target_modules=None, lora_alpha=16, lora_dropout=0.1, fan_in_fan_out=False, bias='none', use_rslora=False, modules_to_save=None, init_lora_weights=True, layers_to_transform=None, layers_pattern=None, rank_pattern={}, alpha_pattern={}, megatron_config=None, megatron_core='megatron.core', loftq_config={}, use_dora=False, layer_replication=None, runtime_config=LoraRuntimeConfig(ephemeral_gpu_offload=False))"
            ]
          },
          "metadata": {},
          "execution_count": 18
        }
      ]
    },
    {
      "cell_type": "code",
      "source": [
        "# Apply LoRA to the model\n",
        "model = get_peft_model(model, lora_config)\n",
        "model.print_trainable_parameters() #Qwen's"
      ],
      "metadata": {
        "id": "6ze__Nf3AhRG",
        "colab": {
          "base_uri": "https://localhost:8080/"
        },
        "outputId": "4434b6ba-6084-4f33-c1a3-68e1070ce79a"
      },
      "execution_count": null,
      "outputs": [
        {
          "output_type": "stream",
          "name": "stdout",
          "text": [
            "trainable params: 393,216 || all params: 464,380,928 || trainable%: 0.0847\n"
          ]
        }
      ]
    },
    {
      "cell_type": "code",
      "source": [
        "######## NOT TO EXECUTE ##########\n",
        "###LoRA for Qwen 7B Chat\n",
        "# from peft import TaskType\n",
        "# config = LoraConfig(\n",
        "#     task_type=TaskType.CAUSAL_LM,\n",
        "#     target_modules=[\"c_attn\", \"c_proj\", \"w1\", \"w2\"],\n",
        "#     inference_mode=False, #Training mode\n",
        "#     r=8, # Lora rank\n",
        "#     lora_alpha=32, # Lora alaph，Specifically - Lora principle\n",
        "#     lora_dropout=0.1# Dropout proportion\n",
        "# )\n",
        "\n",
        "# config  #Config not yet applied to model"
      ],
      "metadata": {
        "id": "vkGPHltZ9Npt"
      },
      "execution_count": null,
      "outputs": []
    },
    {
      "cell_type": "code",
      "source": [
        "sModelName = model_name\n",
        "sModelName\n",
        "model_name"
      ],
      "metadata": {
        "id": "iz5kozgvashL",
        "colab": {
          "base_uri": "https://localhost:8080/",
          "height": 37
        },
        "outputId": "68861ca9-516a-4f79-8628-b6aa63c31696"
      },
      "execution_count": null,
      "outputs": [
        {
          "output_type": "execute_result",
          "data": {
            "text/plain": [
              "'Qwen/Qwen1.5-0.5B'"
            ],
            "application/vnd.google.colaboratory.intrinsic+json": {
              "type": "string"
            }
          },
          "metadata": {},
          "execution_count": 20
        }
      ]
    },
    {
      "cell_type": "markdown",
      "source": [
        "###**Training Arguments**"
      ],
      "metadata": {
        "id": "OeyeXWbeZDHV"
      }
    },
    {
      "cell_type": "code",
      "source": [
        "#Remove folder if exists\n",
        "#!rm -r {model_dir}"
      ],
      "metadata": {
        "id": "bH5ZAcWLiDPd"
      },
      "execution_count": null,
      "outputs": []
    },
    {
      "cell_type": "code",
      "source": [
        "#Fine-tune the model\n",
        "from transformers import TrainingArguments\n",
        "\n",
        "sModelOutputDir =\"./Qwen1B-ForQnA\"\n",
        "\n",
        "training_args = TrainingArguments(\n",
        "    output_dir=sModelOutputDir,\n",
        "    push_to_hub=False,\n",
        "    overwrite_output_dir=True,\n",
        "    #remove_unused_columns=False,\n",
        "    ##Evaluation\n",
        "    #evaluation_strategy=\"steps\",\n",
        "    eval_strategy = \"steps\",\n",
        "    eval_steps=100, #100\n",
        "    ##Logging\n",
        "    logging_strategy=\"steps\",\n",
        "    logging_steps=100, #100 or 50\n",
        "    num_train_epochs=10,   #4,    ##Epochs\n",
        "    #Have used low batch sizes\n",
        "    per_device_train_batch_size=6,     #1 or #2\n",
        "    per_device_eval_batch_size=2,    #2\n",
        "    gradient_accumulation_steps=2,     #4  #Low based on GPU\n",
        "    save_steps=500, #500\n",
        "    save_total_limit=2,\n",
        "    gradient_checkpointing=True, ##\n",
        "    #save_on_each_node=True,  ##\n",
        "    #learning_rate=4e-4       #1e-4, #2e-4   ##R\n",
        "    fp16=True,  # Mixed precision training for efficiency\n",
        "    report_to=\"none\",\n",
        "    dataloader_pin_memory=True\n",
        "    #use_cache = False   #R\n",
        ")\n",
        "\n",
        "if training_args.gradient_checkpointing==True:\n",
        "          model.enable_input_require_grads()\n",
        "\n",
        "training_args.eval_batch_size\n"
      ],
      "metadata": {
        "id": "C4EvJnTRZDHX",
        "colab": {
          "base_uri": "https://localhost:8080/"
        },
        "outputId": "b96c1ab8-5e68-43b1-a778-ef2f9f530aaf"
      },
      "execution_count": null,
      "outputs": [
        {
          "output_type": "execute_result",
          "data": {
            "text/plain": [
              "2"
            ]
          },
          "metadata": {},
          "execution_count": 30
        }
      ]
    },
    {
      "cell_type": "code",
      "source": [
        "training_args.device"
      ],
      "metadata": {
        "id": "3CQ4FDqtm9Fb",
        "colab": {
          "base_uri": "https://localhost:8080/"
        },
        "outputId": "d2d346d1-7ac4-48c9-9191-18baf54dced4"
      },
      "execution_count": null,
      "outputs": [
        {
          "output_type": "execute_result",
          "data": {
            "text/plain": [
              "device(type='cuda', index=0)"
            ]
          },
          "metadata": {},
          "execution_count": 31
        }
      ]
    },
    {
      "cell_type": "markdown",
      "source": [
        "### **Rouge**"
      ],
      "metadata": {
        "id": "W4Sp4Gm2l_mg"
      }
    },
    {
      "cell_type": "code",
      "source": [
        "##ROUGE metric  -- (For Qwen)\n",
        "\n",
        "import numpy as np\n",
        "\n",
        "rouge = load_metric(\"rouge\")  ##evaluate.load\n",
        "#rouge = evaluate_load(\"rouge\")   #load_metric(\"./rouge.py\")\n",
        "\n",
        "def compute_metrics(eval_pred):\n",
        "    qPredictions, qReferences = eval_pred\n",
        "    qPredictions = np.argmax(qPredictions, axis=-1)  # Get the index of the highest logit (token ID)\n",
        "\n",
        "    decoded_preds = []  #list of predictions to score. Each prediction should be a string with tokens separated by spaces.\n",
        "    decoded_ref = []    #list of reference for each prediction or a list of several references per prediction. Each reference should be a string with tokens separated by spaces.\n",
        "\n",
        "    for pred, label in zip(qPredictions, qReferences):\n",
        "        # Decode the token IDs (skip special tokens)\n",
        "        decoded_preds.append(tokenizer.decode(pred, skip_special_tokens=True))\n",
        "        decoded_ref.append(tokenizer.decode(label, skip_special_tokens=True))\n",
        "\n",
        "    #Use_aggregator - If True, returns aggregates. Defaults to True.\n",
        "    bUseAggregator = True\n",
        "    #Use_stemmer - If True, uses Porter stemmer to strip word suffixes. Defaults to False.\n",
        "    bUseStemmer = True\n",
        "\n",
        "    # Compute ROUGE\n",
        "    rouge_scores = rouge.compute(predictions=decoded_preds, references=decoded_ref, use_stemmer=bUseStemmer) #, bUseAggregator)\n",
        "    #rouge_scores = rouge.compute(predictions=decoded_preds, references=decoded_ref, tokenizer=lambda x: x.split())\n",
        "\n",
        "    rouge1 = rouge_scores['rouge1'].mid.fmeasure   #unigram (1-gram) based scoring\n",
        "    rouge2 = rouge_scores['rouge2'].mid.fmeasure  #unigram (1-gram) based scoring\n",
        "    rougeL = rouge_scores['rougeL'].mid.fmeasure  #Longest common subsequence based scoring\n",
        "    rougeLsum = rouge_scores['rougeLsum'].mid.fmeasure  #splits text using \"\\n\"\n",
        "\n",
        "    print(rouge_scores)\n",
        "    #print(\"rougeLsum : \" + rouge1+ \",  rouge2 :\" + rouge2+ \",  rouge3 :\" + rougeL + \",  rougeLsum :\" + str(rougeLsum))\n",
        "\n",
        "    return { \"rouge1\": rouge1, \"rouge2\": rouge2, \"rougeL\": rougeL, \"rougeLsum\": rougeLsum  }"
      ],
      "metadata": {
        "id": "cKOUaaOVngRl"
      },
      "execution_count": null,
      "outputs": []
    },
    {
      "cell_type": "markdown",
      "source": [
        "###**Trainer**"
      ],
      "metadata": {
        "id": "vIHIavaLl_mh"
      }
    },
    {
      "cell_type": "code",
      "source": [
        "model.name_or_path"
      ],
      "metadata": {
        "colab": {
          "base_uri": "https://localhost:8080/",
          "height": 37
        },
        "id": "x9E2k90evgLV",
        "outputId": "16873df6-b29e-4c37-8ef9-0b2cb4f443ec"
      },
      "execution_count": null,
      "outputs": [
        {
          "output_type": "execute_result",
          "data": {
            "text/plain": [
              "'Qwen/Qwen1.5-0.5B'"
            ],
            "application/vnd.google.colaboratory.intrinsic+json": {
              "type": "string"
            }
          },
          "metadata": {},
          "execution_count": 33
        }
      ]
    },
    {
      "cell_type": "code",
      "source": [
        "from transformers import Trainer\n",
        "\n",
        "trainer = Trainer(\n",
        "    model,\n",
        "    args=training_args,\n",
        "    #model_max_length= 8192, #Qwen\n",
        "    train_dataset=tokenized_datasets[\"train\"],\n",
        "    eval_dataset=tokenized_datasets[\"validation\"],\n",
        "    #data_collator=data_collator, #For chat - DataCollatorForSeq2Seq(tokenizer=tokenizer, padding=True),\n",
        "    tokenizer=tokenizer,\n",
        "    compute_metrics=compute_metrics,\n",
        "    preprocess_logits_for_metrics=None,\n",
        ")"
      ],
      "metadata": {
        "id": "9y3ToenZ29ax",
        "colab": {
          "base_uri": "https://localhost:8080/"
        },
        "outputId": "a6d10ae8-fb2e-470d-f1cd-9f5f419f40a1"
      },
      "execution_count": null,
      "outputs": [
        {
          "output_type": "stream",
          "name": "stderr",
          "text": [
            "/usr/local/lib/python3.10/dist-packages/accelerate/accelerator.py:494: FutureWarning: `torch.cuda.amp.GradScaler(args...)` is deprecated. Please use `torch.amp.GradScaler('cuda', args...)` instead.\n",
            "  self.scaler = torch.cuda.amp.GradScaler(**kwargs)\n"
          ]
        }
      ]
    },
    {
      "cell_type": "code",
      "source": [
        "import torch\n",
        "torch.cuda.empty_cache()\n",
        "import os\n",
        "os.environ[\"PYTORCH_CUDA_ALLOC_CONF\"] = \"expandable_segments:True\""
      ],
      "metadata": {
        "id": "OOyua_2q7QJ-"
      },
      "execution_count": null,
      "outputs": []
    },
    {
      "cell_type": "markdown",
      "source": [
        "###**Train Model**"
      ],
      "metadata": {
        "id": "IICVGq3Z8mYk"
      }
    },
    {
      "cell_type": "code",
      "source": [
        "trainer.model.name_or_path"
      ],
      "metadata": {
        "id": "-fAxzB3A5AYR",
        "colab": {
          "base_uri": "https://localhost:8080/",
          "height": 37
        },
        "outputId": "bf93a518-4a49-4628-bd9f-14b7eaaae819"
      },
      "execution_count": null,
      "outputs": [
        {
          "output_type": "execute_result",
          "data": {
            "text/plain": [
              "'Qwen/Qwen1.5-0.5B'"
            ],
            "application/vnd.google.colaboratory.intrinsic+json": {
              "type": "string"
            }
          },
          "metadata": {},
          "execution_count": 36
        }
      ]
    },
    {
      "cell_type": "code",
      "source": [
        "#Train the model\n",
        "trainer.train() ##For 5 epocs"
      ],
      "metadata": {
        "colab": {
          "base_uri": "https://localhost:8080/",
          "height": 589
        },
        "id": "gjv2SrKg8sCj",
        "outputId": "f120d5b8-18bb-4422-b5ec-7f72d39a63a5"
      },
      "execution_count": null,
      "outputs": [
        {
          "output_type": "stream",
          "name": "stderr",
          "text": [
            "/usr/local/lib/python3.10/dist-packages/torch/_dynamo/eval_frame.py:600: UserWarning: torch.utils.checkpoint: the use_reentrant parameter should be passed explicitly. In version 2.4 we will raise an exception if use_reentrant is not passed. use_reentrant=False is recommended, but if you need to preserve the current default behavior, you can pass use_reentrant=True. Refer to docs for more details on the differences between the two variants.\n",
            "  return fn(*args, **kwargs)\n",
            "/usr/local/lib/python3.10/dist-packages/torch/utils/checkpoint.py:295: FutureWarning: `torch.cpu.amp.autocast(args...)` is deprecated. Please use `torch.amp.autocast('cpu', args...)` instead.\n",
            "  with torch.enable_grad(), device_autocast_ctx, torch.cpu.amp.autocast(**ctx.cpu_autocast_kwargs):  # type: ignore[attr-defined]\n"
          ]
        },
        {
          "output_type": "display_data",
          "data": {
            "text/plain": [
              "<IPython.core.display.HTML object>"
            ],
            "text/html": [
              "\n",
              "    <div>\n",
              "      \n",
              "      <progress value='670' max='670' style='width:300px; height:20px; vertical-align: middle;'></progress>\n",
              "      [670/670 05:08, Epoch 10/10]\n",
              "    </div>\n",
              "    <table border=\"1\" class=\"dataframe\">\n",
              "  <thead>\n",
              " <tr style=\"text-align: left;\">\n",
              "      <th>Step</th>\n",
              "      <th>Training Loss</th>\n",
              "      <th>Validation Loss</th>\n",
              "      <th>Rouge1</th>\n",
              "      <th>Rouge2</th>\n",
              "      <th>Rougel</th>\n",
              "      <th>Rougelsum</th>\n",
              "    </tr>\n",
              "  </thead>\n",
              "  <tbody>\n",
              "    <tr>\n",
              "      <td>100</td>\n",
              "      <td>0.853500</td>\n",
              "      <td>0.856242</td>\n",
              "      <td>0.588604</td>\n",
              "      <td>0.298625</td>\n",
              "      <td>0.530647</td>\n",
              "      <td>0.551215</td>\n",
              "    </tr>\n",
              "    <tr>\n",
              "      <td>200</td>\n",
              "      <td>0.836000</td>\n",
              "      <td>0.849685</td>\n",
              "      <td>0.591516</td>\n",
              "      <td>0.303898</td>\n",
              "      <td>0.533612</td>\n",
              "      <td>0.554064</td>\n",
              "    </tr>\n",
              "    <tr>\n",
              "      <td>300</td>\n",
              "      <td>0.812200</td>\n",
              "      <td>0.846748</td>\n",
              "      <td>0.594063</td>\n",
              "      <td>0.306460</td>\n",
              "      <td>0.535916</td>\n",
              "      <td>0.556141</td>\n",
              "    </tr>\n",
              "    <tr>\n",
              "      <td>400</td>\n",
              "      <td>0.811300</td>\n",
              "      <td>0.845485</td>\n",
              "      <td>0.595267</td>\n",
              "      <td>0.306098</td>\n",
              "      <td>0.536664</td>\n",
              "      <td>0.559129</td>\n",
              "    </tr>\n",
              "    <tr>\n",
              "      <td>500</td>\n",
              "      <td>0.803400</td>\n",
              "      <td>0.844539</td>\n",
              "      <td>0.594298</td>\n",
              "      <td>0.308212</td>\n",
              "      <td>0.537103</td>\n",
              "      <td>0.558430</td>\n",
              "    </tr>\n",
              "    <tr>\n",
              "      <td>600</td>\n",
              "      <td>0.788200</td>\n",
              "      <td>0.844864</td>\n",
              "      <td>0.595372</td>\n",
              "      <td>0.306843</td>\n",
              "      <td>0.537679</td>\n",
              "      <td>0.560439</td>\n",
              "    </tr>\n",
              "  </tbody>\n",
              "</table><p>"
            ]
          },
          "metadata": {}
        },
        {
          "output_type": "stream",
          "name": "stdout",
          "text": [
            "{'rouge1': AggregateScore(low=Score(precision=0.5834135704652542, recall=0.5522146961982569, fmeasure=0.5665560775211506), mid=Score(precision=0.6049608818804875, recall=0.5740639010966064, fmeasure=0.5886039634913193), high=Score(precision=0.6261550190245534, recall=0.5962600983277679, fmeasure=0.6100733364906887)), 'rouge2': AggregateScore(low=Score(precision=0.28218591172712376, recall=0.26831808870419754, fmeasure=0.274988070912339), mid=Score(precision=0.3067717692586388, recall=0.2910222358012472, fmeasure=0.298625080556474), high=Score(precision=0.33138578357571535, recall=0.31482045975450706, fmeasure=0.32249653527404337)), 'rougeL': AggregateScore(low=Score(precision=0.5246816623758226, recall=0.49674353428869045, fmeasure=0.509773222623714), mid=Score(precision=0.545699178136861, recall=0.5174580055034675, fmeasure=0.5306471041773566), high=Score(precision=0.5653382809684987, recall=0.5373983513478109, fmeasure=0.5502383044795307)), 'rougeLsum': AggregateScore(low=Score(precision=0.5449771156935735, recall=0.5151593345141416, fmeasure=0.5294222028405302), mid=Score(precision=0.5665119276983674, recall=0.5372429192509036, fmeasure=0.5512151801331397), high=Score(precision=0.5857969822945694, recall=0.5573052061765024, fmeasure=0.5702292654578536))}\n",
            "{'rouge1': AggregateScore(low=Score(precision=0.5864592030807976, recall=0.5557836335976113, fmeasure=0.5707136751500967), mid=Score(precision=0.6073298223168997, recall=0.5768786141353692, fmeasure=0.5915161989166506), high=Score(precision=0.6280432293120406, recall=0.5975500280672932, fmeasure=0.6123277767529167)), 'rouge2': AggregateScore(low=Score(precision=0.2881123125780299, recall=0.27337215255280994, fmeasure=0.2804227919786739), mid=Score(precision=0.31217978349982506, recall=0.29635761839044916, fmeasure=0.3038981292569647), high=Score(precision=0.33566919854364935, recall=0.3190718952395192, fmeasure=0.327142074856035)), 'rougeL': AggregateScore(low=Score(precision=0.5287949375210026, recall=0.4998370227244914, fmeasure=0.5138630968712193), mid=Score(precision=0.5482660914431878, recall=0.5203961932833461, fmeasure=0.533612252731156), high=Score(precision=0.5684434609176928, recall=0.5409029127976192, fmeasure=0.5539240350830614)), 'rougeLsum': AggregateScore(low=Score(precision=0.548210706205684, recall=0.5186492537732977, fmeasure=0.5329623858617341), mid=Score(precision=0.5691544755401277, recall=0.5405505767621772, fmeasure=0.5540642023717557), high=Score(precision=0.5873087559766371, recall=0.5599985896244354, fmeasure=0.5726893815433564))}\n",
            "{'rouge1': AggregateScore(low=Score(precision=0.5895656458740604, recall=0.5586890401046606, fmeasure=0.573569601753293), mid=Score(precision=0.6097602176487225, recall=0.5799494558360487, fmeasure=0.5940629815933318), high=Score(precision=0.6298083209091666, recall=0.6008668418870134, fmeasure=0.6148512331185094)), 'rouge2': AggregateScore(low=Score(precision=0.29053178619789716, recall=0.2758879038847338, fmeasure=0.2829519664213895), mid=Score(precision=0.314310154190765, recall=0.29901311585081136, fmeasure=0.30645973259319875), high=Score(precision=0.33955895967922795, recall=0.32334364305435154, fmeasure=0.3310752215441649)), 'rougeL': AggregateScore(low=Score(precision=0.5304754797662996, recall=0.5030625456857333, fmeasure=0.5163299450586984), mid=Score(precision=0.5497449745866, recall=0.5230242281967379, fmeasure=0.5359158105155847), high=Score(precision=0.5694641404323619, recall=0.5425576657258406, fmeasure=0.5555489012863732)), 'rougeLsum': AggregateScore(low=Score(precision=0.5502230709289098, recall=0.5217236897021353, fmeasure=0.5356317195292417), mid=Score(precision=0.5707538887591121, recall=0.5429237936144666, fmeasure=0.5561408580715314), high=Score(precision=0.5881413244919382, recall=0.5610991988396155, fmeasure=0.5739299736728485))}\n",
            "{'rouge1': AggregateScore(low=Score(precision=0.5904308086839276, recall=0.5604392923641918, fmeasure=0.5750983752922417), mid=Score(precision=0.6106794103426206, recall=0.5812712158107846, fmeasure=0.5952673151647025), high=Score(precision=0.6299737494147314, recall=0.6019699109231866, fmeasure=0.6151896982108386)), 'rouge2': AggregateScore(low=Score(precision=0.2897116573809372, recall=0.2753652305375424, fmeasure=0.282006780927542), mid=Score(precision=0.3138383739065823, recall=0.29889798278124946, fmeasure=0.3060975391812477), high=Score(precision=0.33993772119792226, recall=0.323696884029767, fmeasure=0.33186946870642575)), 'rougeL': AggregateScore(low=Score(precision=0.5313793599195842, recall=0.504027885428715, fmeasure=0.5170693897436323), mid=Score(precision=0.5506001752440476, recall=0.5239797893571929, fmeasure=0.5366644469497417), high=Score(precision=0.5702240299990639, recall=0.5434504228055328, fmeasure=0.5560562361127965)), 'rougeLsum': AggregateScore(low=Score(precision=0.5534093531498147, recall=0.525307538027863, fmeasure=0.5385619200518197), mid=Score(precision=0.5736300733048418, recall=0.5460822343960975, fmeasure=0.5591288550430117), high=Score(precision=0.5918786412053534, recall=0.5643906436850166, fmeasure=0.5771526670083453))}\n",
            "{'rouge1': AggregateScore(low=Score(precision=0.5892393257729099, recall=0.5591934675692906, fmeasure=0.5736396057179135), mid=Score(precision=0.609836926532793, recall=0.5804427770501956, fmeasure=0.5942980157262656), high=Score(precision=0.6298222018232612, recall=0.6014847351270186, fmeasure=0.6150195673514699)), 'rouge2': AggregateScore(low=Score(precision=0.2916725705164433, recall=0.27778619204746335, fmeasure=0.28451682603045514), mid=Score(precision=0.3161534661000587, recall=0.3010574181277026, fmeasure=0.30821184392467416), high=Score(precision=0.3412259065059001, recall=0.3256573111719739, fmeasure=0.3328938301802675)), 'rougeL': AggregateScore(low=Score(precision=0.531047625979147, recall=0.5039853856538314, fmeasure=0.5171252943340795), mid=Score(precision=0.5510253745473144, recall=0.5244628969906692, fmeasure=0.5371034829143233), high=Score(precision=0.5709487786093185, recall=0.5441581744648002, fmeasure=0.557174733775543)), 'rougeLsum': AggregateScore(low=Score(precision=0.5526832466931478, recall=0.524253083771189, fmeasure=0.5379038669437401), mid=Score(precision=0.5729484719230377, recall=0.5451400390627479, fmeasure=0.5584303089832531), high=Score(precision=0.5905342289721207, recall=0.5642851128205594, fmeasure=0.5763906672662826))}\n"
          ]
        },
        {
          "output_type": "stream",
          "name": "stderr",
          "text": [
            "/usr/local/lib/python3.10/dist-packages/torch/_dynamo/eval_frame.py:600: UserWarning: torch.utils.checkpoint: the use_reentrant parameter should be passed explicitly. In version 2.4 we will raise an exception if use_reentrant is not passed. use_reentrant=False is recommended, but if you need to preserve the current default behavior, you can pass use_reentrant=True. Refer to docs for more details on the differences between the two variants.\n",
            "  return fn(*args, **kwargs)\n",
            "/usr/local/lib/python3.10/dist-packages/torch/utils/checkpoint.py:295: FutureWarning: `torch.cpu.amp.autocast(args...)` is deprecated. Please use `torch.amp.autocast('cpu', args...)` instead.\n",
            "  with torch.enable_grad(), device_autocast_ctx, torch.cpu.amp.autocast(**ctx.cpu_autocast_kwargs):  # type: ignore[attr-defined]\n"
          ]
        },
        {
          "output_type": "stream",
          "name": "stdout",
          "text": [
            "{'rouge1': AggregateScore(low=Score(precision=0.590695614162403, recall=0.5604854547131196, fmeasure=0.5750421828882675), mid=Score(precision=0.6112010296196619, recall=0.5811961904217653, fmeasure=0.5953723132667701), high=Score(precision=0.63143348845058, recall=0.6015888794317531, fmeasure=0.615263341990522)), 'rouge2': AggregateScore(low=Score(precision=0.29154927943699516, recall=0.27597049272028407, fmeasure=0.2833565780426637), mid=Score(precision=0.31473245190284427, recall=0.29945986779916767, fmeasure=0.30684329075928535), high=Score(precision=0.33951903987081417, recall=0.32362303232595957, fmeasure=0.33131180364557744)), 'rougeL': AggregateScore(low=Score(precision=0.5323096898928839, recall=0.5043141012493967, fmeasure=0.5171149314073031), mid=Score(precision=0.5521822605640639, recall=0.5248057748864505, fmeasure=0.5376785804308744), high=Score(precision=0.5716565217215255, recall=0.5441500722487262, fmeasure=0.5574191489177229)), 'rougeLsum': AggregateScore(low=Score(precision=0.5552765176731524, recall=0.5263709965142996, fmeasure=0.540215950310403), mid=Score(precision=0.5756351827398953, recall=0.5468444192752224, fmeasure=0.5604387390245398), high=Score(precision=0.5931710004333131, recall=0.565191709783974, fmeasure=0.5776054458246984))}\n"
          ]
        },
        {
          "output_type": "execute_result",
          "data": {
            "text/plain": [
              "TrainOutput(global_step=670, training_loss=0.8142517886944671, metrics={'train_runtime': 309.2349, 'train_samples_per_second': 25.87, 'train_steps_per_second': 2.167, 'total_flos': 1897257762816000.0, 'train_loss': 0.8142517886944671, 'epoch': 10.0})"
            ]
          },
          "metadata": {},
          "execution_count": 37
        }
      ]
    },
    {
      "cell_type": "code",
      "source": [
        "#To push the trained model to Hugging face hub\n",
        "#trainer.push_to_hub()"
      ],
      "metadata": {
        "id": "gOD3MCGmqpIC"
      },
      "execution_count": null,
      "outputs": []
    },
    {
      "cell_type": "code",
      "source": [
        "#Train the model\n",
        "trainer.train() ##For 5 epocs  ##Sep28 5:25am"
      ],
      "metadata": {
        "colab": {
          "base_uri": "https://localhost:8080/",
          "height": 791
        },
        "id": "TuPkvxYY8A0u",
        "outputId": "b4cf6551-3203-4732-a9d5-411bfa42eb04"
      },
      "execution_count": null,
      "outputs": [
        {
          "output_type": "stream",
          "name": "stderr",
          "text": [
            "/usr/local/lib/python3.10/dist-packages/torch/_dynamo/eval_frame.py:600: UserWarning: torch.utils.checkpoint: the use_reentrant parameter should be passed explicitly. In version 2.4 we will raise an exception if use_reentrant is not passed. use_reentrant=False is recommended, but if you need to preserve the current default behavior, you can pass use_reentrant=True. Refer to docs for more details on the differences between the two variants.\n",
            "  return fn(*args, **kwargs)\n",
            "/usr/local/lib/python3.10/dist-packages/torch/utils/checkpoint.py:295: FutureWarning: `torch.cpu.amp.autocast(args...)` is deprecated. Please use `torch.amp.autocast('cpu', args...)` instead.\n",
            "  with torch.enable_grad(), device_autocast_ctx, torch.cpu.amp.autocast(**ctx.cpu_autocast_kwargs):  # type: ignore[attr-defined]\n"
          ]
        },
        {
          "output_type": "display_data",
          "data": {
            "text/plain": [
              "<IPython.core.display.HTML object>"
            ],
            "text/html": [
              "\n",
              "    <div>\n",
              "      \n",
              "      <progress value='1000' max='1000' style='width:300px; height:20px; vertical-align: middle;'></progress>\n",
              "      [1000/1000 07:36, Epoch 5/5]\n",
              "    </div>\n",
              "    <table border=\"1\" class=\"dataframe\">\n",
              "  <thead>\n",
              " <tr style=\"text-align: left;\">\n",
              "      <th>Step</th>\n",
              "      <th>Training Loss</th>\n",
              "      <th>Validation Loss</th>\n",
              "      <th>Rouge1</th>\n",
              "      <th>Rouge2</th>\n",
              "      <th>Rougel</th>\n",
              "      <th>Rougelsum</th>\n",
              "    </tr>\n",
              "  </thead>\n",
              "  <tbody>\n",
              "    <tr>\n",
              "      <td>100</td>\n",
              "      <td>0.708000</td>\n",
              "      <td>0.863881</td>\n",
              "      <td>0.602253</td>\n",
              "      <td>0.307293</td>\n",
              "      <td>0.534382</td>\n",
              "      <td>0.564577</td>\n",
              "    </tr>\n",
              "    <tr>\n",
              "      <td>200</td>\n",
              "      <td>0.721400</td>\n",
              "      <td>0.862781</td>\n",
              "      <td>0.600049</td>\n",
              "      <td>0.311143</td>\n",
              "      <td>0.533812</td>\n",
              "      <td>0.561926</td>\n",
              "    </tr>\n",
              "    <tr>\n",
              "      <td>300</td>\n",
              "      <td>0.707400</td>\n",
              "      <td>0.869557</td>\n",
              "      <td>0.598342</td>\n",
              "      <td>0.308048</td>\n",
              "      <td>0.531841</td>\n",
              "      <td>0.560502</td>\n",
              "    </tr>\n",
              "    <tr>\n",
              "      <td>400</td>\n",
              "      <td>0.693800</td>\n",
              "      <td>0.866352</td>\n",
              "      <td>0.601667</td>\n",
              "      <td>0.310996</td>\n",
              "      <td>0.533239</td>\n",
              "      <td>0.562395</td>\n",
              "    </tr>\n",
              "    <tr>\n",
              "      <td>500</td>\n",
              "      <td>0.653400</td>\n",
              "      <td>0.875211</td>\n",
              "      <td>0.599222</td>\n",
              "      <td>0.307012</td>\n",
              "      <td>0.530736</td>\n",
              "      <td>0.559162</td>\n",
              "    </tr>\n",
              "    <tr>\n",
              "      <td>600</td>\n",
              "      <td>0.719600</td>\n",
              "      <td>0.873917</td>\n",
              "      <td>0.596902</td>\n",
              "      <td>0.305793</td>\n",
              "      <td>0.529628</td>\n",
              "      <td>0.560079</td>\n",
              "    </tr>\n",
              "    <tr>\n",
              "      <td>700</td>\n",
              "      <td>0.633300</td>\n",
              "      <td>0.876502</td>\n",
              "      <td>0.598694</td>\n",
              "      <td>0.308711</td>\n",
              "      <td>0.531838</td>\n",
              "      <td>0.560741</td>\n",
              "    </tr>\n",
              "    <tr>\n",
              "      <td>800</td>\n",
              "      <td>0.720900</td>\n",
              "      <td>0.876204</td>\n",
              "      <td>0.597094</td>\n",
              "      <td>0.306065</td>\n",
              "      <td>0.529287</td>\n",
              "      <td>0.558699</td>\n",
              "    </tr>\n",
              "    <tr>\n",
              "      <td>900</td>\n",
              "      <td>0.675700</td>\n",
              "      <td>0.881272</td>\n",
              "      <td>0.597192</td>\n",
              "      <td>0.306104</td>\n",
              "      <td>0.528775</td>\n",
              "      <td>0.557760</td>\n",
              "    </tr>\n",
              "    <tr>\n",
              "      <td>1000</td>\n",
              "      <td>0.653000</td>\n",
              "      <td>0.879501</td>\n",
              "      <td>0.597496</td>\n",
              "      <td>0.306764</td>\n",
              "      <td>0.529993</td>\n",
              "      <td>0.558699</td>\n",
              "    </tr>\n",
              "  </tbody>\n",
              "</table><p>"
            ]
          },
          "metadata": {}
        },
        {
          "output_type": "stream",
          "name": "stdout",
          "text": [
            "{'rouge1': AggregateScore(low=Score(precision=0.5970198033092926, recall=0.5685820172182978, fmeasure=0.5815878412382303), mid=Score(precision=0.6175900422059868, recall=0.5882922302553123, fmeasure=0.6022528667774415), high=Score(precision=0.6387033458208056, recall=0.6079331323737658, fmeasure=0.6229911262966029)), 'rouge2': AggregateScore(low=Score(precision=0.28725396212443655, recall=0.2733741327242373, fmeasure=0.28002810038371856), mid=Score(precision=0.3155375008882939, recall=0.3001278528436341, fmeasure=0.3072933720359509), high=Score(precision=0.340412245099557, recall=0.3228129918217979, fmeasure=0.33085446881517294)), 'rougeL': AggregateScore(low=Score(precision=0.5230512431449031, recall=0.4986715084423543, fmeasure=0.510414025327513), mid=Score(precision=0.5481035778928824, recall=0.5219161027867126, fmeasure=0.5343816572142503), high=Score(precision=0.5701191689595989, recall=0.5431079306611967, fmeasure=0.5559684511269876)), 'rougeLsum': AggregateScore(low=Score(precision=0.5563225963144611, recall=0.5293631160673757, fmeasure=0.5426987318379044), mid=Score(precision=0.5787294145752846, recall=0.5514572974741265, fmeasure=0.5645767900109084), high=Score(precision=0.6033150426112301, recall=0.5743069730199087, fmeasure=0.588447792659197))}\n",
            "{'rouge1': AggregateScore(low=Score(precision=0.5941061405115086, recall=0.5676156013845894, fmeasure=0.5807286519691792), mid=Score(precision=0.6146194512375589, recall=0.5870238855977779, fmeasure=0.6000492752983335), high=Score(precision=0.6350366162555491, recall=0.6070298967098194, fmeasure=0.6207158033030165)), 'rouge2': AggregateScore(low=Score(precision=0.29182996959175755, recall=0.27791706495431184, fmeasure=0.284732250061144), mid=Score(precision=0.31874956287109546, recall=0.3041456660816312, fmeasure=0.3111431909671587), high=Score(precision=0.3425598642606063, recall=0.32623749212386843, fmeasure=0.3337591774168646)), 'rougeL': AggregateScore(low=Score(precision=0.5221469064040954, recall=0.4989882708617971, fmeasure=0.5103618729753114), mid=Score(precision=0.5464298858702274, recall=0.5221137912403465, fmeasure=0.5338121964599527), high=Score(precision=0.5675464240148302, recall=0.5423201962388334, fmeasure=0.5545362213190401)), 'rougeLsum': AggregateScore(low=Score(precision=0.5529976893335122, recall=0.5284025051052295, fmeasure=0.5405274557884078), mid=Score(precision=0.5751137253366014, recall=0.5498327534660337, fmeasure=0.5619257790022629), high=Score(precision=0.5996000378878003, recall=0.5723287972447637, fmeasure=0.5854038865418163))}\n",
            "{'rouge1': AggregateScore(low=Score(precision=0.5919418389484103, recall=0.565597586530849, fmeasure=0.5785554354889123), mid=Score(precision=0.6126573459233033, recall=0.5851251412084564, fmeasure=0.5983421684524843), high=Score(precision=0.6333922718356827, recall=0.6058423804043787, fmeasure=0.6190403239340788)), 'rouge2': AggregateScore(low=Score(precision=0.2878444641320968, recall=0.274065222226571, fmeasure=0.2806658413601736), mid=Score(precision=0.31574352144658374, recall=0.301101876484799, fmeasure=0.308047500955272), high=Score(precision=0.34020205340313076, recall=0.32404636496667183, fmeasure=0.33155536824835075)), 'rougeL': AggregateScore(low=Score(precision=0.5195425780239, recall=0.4967904838405796, fmeasure=0.5084236336107453), mid=Score(precision=0.5442973637283852, recall=0.5202173243348875, fmeasure=0.5318405279683889), high=Score(precision=0.5650766063444528, recall=0.5399112284668395, fmeasure=0.5519124452120472)), 'rougeLsum': AggregateScore(low=Score(precision=0.5516636824942196, recall=0.5271009116920112, fmeasure=0.5389893896041035), mid=Score(precision=0.5736774557368041, recall=0.548406857178188, fmeasure=0.560502164892978), high=Score(precision=0.5989833717318881, recall=0.5716566523166728, fmeasure=0.5843292434872667))}\n",
            "{'rouge1': AggregateScore(low=Score(precision=0.5950712367156203, recall=0.5693079232184367, fmeasure=0.582216896535232), mid=Score(precision=0.6158661695393536, recall=0.588984861496509, fmeasure=0.6016670155624462), high=Score(precision=0.6363121233666575, recall=0.6096143592779695, fmeasure=0.6225369423349236)), 'rouge2': AggregateScore(low=Score(precision=0.29103505218670966, recall=0.2773778096592353, fmeasure=0.2839305745451576), mid=Score(precision=0.3184322801913647, recall=0.30424306447902993, fmeasure=0.31099630150701296), high=Score(precision=0.3423064694323453, recall=0.3268899017168124, fmeasure=0.3341231256140863)), 'rougeL': AggregateScore(low=Score(precision=0.5211821288723242, recall=0.49934911229764956, fmeasure=0.5108601898034729), mid=Score(precision=0.5452379764986186, recall=0.5221060695305328, fmeasure=0.5332387364198286), high=Score(precision=0.567199921633466, recall=0.5427947806543906, fmeasure=0.554335159818368)), 'rougeLsum': AggregateScore(low=Score(precision=0.5533816422126464, recall=0.5296807795990783, fmeasure=0.5415016838061816), mid=Score(precision=0.5754468988195487, recall=0.5505630766622025, fmeasure=0.5623947805117885), high=Score(precision=0.5993005979742647, recall=0.5735542379560713, fmeasure=0.5855742359562799))}\n",
            "{'rouge1': AggregateScore(low=Score(precision=0.5920666965081373, recall=0.5674922917681209, fmeasure=0.5797048273909609), mid=Score(precision=0.6131262204097615, recall=0.5866975605146716, fmeasure=0.5992217263220998), high=Score(precision=0.6333712775198115, recall=0.6069267483240232, fmeasure=0.6194737851876073)), 'rouge2': AggregateScore(low=Score(precision=0.2866705389668518, recall=0.27434614790995804, fmeasure=0.28006843704946827), mid=Score(precision=0.31407204432288854, recall=0.3004068235570281, fmeasure=0.3070120927986268), high=Score(precision=0.3385694269082451, recall=0.32448055065199843, fmeasure=0.3317245460986768)), 'rougeL': AggregateScore(low=Score(precision=0.5183398992546132, recall=0.49715772295191873, fmeasure=0.5072289255017854), mid=Score(precision=0.5425533040434329, recall=0.5196769482372136, fmeasure=0.5307358000792031), high=Score(precision=0.5637759662318489, recall=0.5397115595856032, fmeasure=0.551421191253786)), 'rougeLsum': AggregateScore(low=Score(precision=0.5504634098605543, recall=0.5270933831750161, fmeasure=0.5380774693961261), mid=Score(precision=0.5718179622274084, recall=0.5478111920262092, fmeasure=0.5591618610388216), high=Score(precision=0.5957727173575256, recall=0.5702407190914756, fmeasure=0.5818377572894902))}\n"
          ]
        },
        {
          "output_type": "stream",
          "name": "stderr",
          "text": [
            "/usr/local/lib/python3.10/dist-packages/torch/_dynamo/eval_frame.py:600: UserWarning: torch.utils.checkpoint: the use_reentrant parameter should be passed explicitly. In version 2.4 we will raise an exception if use_reentrant is not passed. use_reentrant=False is recommended, but if you need to preserve the current default behavior, you can pass use_reentrant=True. Refer to docs for more details on the differences between the two variants.\n",
            "  return fn(*args, **kwargs)\n",
            "/usr/local/lib/python3.10/dist-packages/torch/utils/checkpoint.py:295: FutureWarning: `torch.cpu.amp.autocast(args...)` is deprecated. Please use `torch.amp.autocast('cpu', args...)` instead.\n",
            "  with torch.enable_grad(), device_autocast_ctx, torch.cpu.amp.autocast(**ctx.cpu_autocast_kwargs):  # type: ignore[attr-defined]\n"
          ]
        },
        {
          "output_type": "stream",
          "name": "stdout",
          "text": [
            "{'rouge1': AggregateScore(low=Score(precision=0.5910814446868053, recall=0.5630851756875305, fmeasure=0.5769684971911874), mid=Score(precision=0.6116869783412777, recall=0.5833577018883535, fmeasure=0.5969021570502295), high=Score(precision=0.6337912526891217, recall=0.6053396955980294, fmeasure=0.6188170828908947)), 'rouge2': AggregateScore(low=Score(precision=0.2865274658640128, recall=0.2722907769914736, fmeasure=0.27875456100158547), mid=Score(precision=0.3136100189322021, recall=0.2984962927264391, fmeasure=0.30579316808766127), high=Score(precision=0.33759399591733563, recall=0.3209087720055459, fmeasure=0.3288899930284616)), 'rougeL': AggregateScore(low=Score(precision=0.5184316033671619, recall=0.4947626980962313, fmeasure=0.5063097074740687), mid=Score(precision=0.5427384120374403, recall=0.5174851998783354, fmeasure=0.5296278832534296), high=Score(precision=0.5652351134289412, recall=0.5390053418346705, fmeasure=0.5514875533432769)), 'rougeLsum': AggregateScore(low=Score(precision=0.5518457268796387, recall=0.5259417059659585, fmeasure=0.5384064408150437), mid=Score(precision=0.5739224692931115, recall=0.5472139867086705, fmeasure=0.5600786687885828), high=Score(precision=0.597433754567913, recall=0.5695064391862139, fmeasure=0.583128276728345))}\n",
            "{'rouge1': AggregateScore(low=Score(precision=0.5923326575863621, recall=0.5665059623150618, fmeasure=0.5790235345959168), mid=Score(precision=0.6130763876177077, recall=0.5854955270133886, fmeasure=0.5986935960949755), high=Score(precision=0.6343238465806397, recall=0.6066225779732355, fmeasure=0.619883945733417)), 'rouge2': AggregateScore(low=Score(precision=0.28870583933243854, recall=0.2752453772865586, fmeasure=0.28199464642023564), mid=Score(precision=0.3162056932266686, recall=0.3018096263846106, fmeasure=0.3087107249231515), high=Score(precision=0.33919080574039656, recall=0.32411637131965193, fmeasure=0.3314731052233692)), 'rougeL': AggregateScore(low=Score(precision=0.5197921072714365, recall=0.49764520362790027, fmeasure=0.5085420850367538), mid=Score(precision=0.5443484424737847, recall=0.5201544906162585, fmeasure=0.5318379196304805), high=Score(precision=0.5660808699335026, recall=0.5412130157523135, fmeasure=0.5531895354194428)), 'rougeLsum': AggregateScore(low=Score(precision=0.5514520386679943, recall=0.5267597047938132, fmeasure=0.5386379368509314), mid=Score(precision=0.5739541356488087, recall=0.5484776488566562, fmeasure=0.5607411750453177), high=Score(precision=0.5973313574991153, recall=0.5709095002963099, fmeasure=0.5833153328319307))}\n",
            "{'rouge1': AggregateScore(low=Score(precision=0.5900426961678635, recall=0.5652546465329624, fmeasure=0.5773045294568364), mid=Score(precision=0.6109870545057963, recall=0.5843887283194988, fmeasure=0.5970937326216573), high=Score(precision=0.6323822911278919, recall=0.6052283284511694, fmeasure=0.6177798017124296)), 'rouge2': AggregateScore(low=Score(precision=0.28533730854064304, recall=0.2723902350335282, fmeasure=0.27850079256527605), mid=Score(precision=0.3134476142149881, recall=0.29934928992742627, fmeasure=0.30606502364466626), high=Score(precision=0.3374624544637593, recall=0.32188385660978064, fmeasure=0.3296142570258502)), 'rougeL': AggregateScore(low=Score(precision=0.5169325979218761, recall=0.4947604828153226, fmeasure=0.5058436156711432), mid=Score(precision=0.5417708505080214, recall=0.5179357105002209, fmeasure=0.529286928358121), high=Score(precision=0.5630288074907258, recall=0.5385687028418614, fmeasure=0.5499057554080777)), 'rougeLsum': AggregateScore(low=Score(precision=0.5498663834023614, recall=0.5257279397744469, fmeasure=0.5369558461536685), mid=Score(precision=0.5717014957427424, recall=0.5469128997352002, fmeasure=0.5586986549445054), high=Score(precision=0.5948665473833687, recall=0.5685851712170393, fmeasure=0.5807773853385302))}\n",
            "{'rouge1': AggregateScore(low=Score(precision=0.590238595875258, recall=0.5648057334488272, fmeasure=0.5772423194424526), mid=Score(precision=0.6112766224468915, recall=0.5842058612739044, fmeasure=0.5971918271614292), high=Score(precision=0.6323683088691929, recall=0.6051143849069517, fmeasure=0.617711094811762)), 'rouge2': AggregateScore(low=Score(precision=0.28566835259355783, recall=0.27268721160127984, fmeasure=0.2787780924541252), mid=Score(precision=0.3135216134846507, recall=0.29923202122058645, fmeasure=0.30610387243544157), high=Score(precision=0.33771073350837755, recall=0.3216120416128065, fmeasure=0.3291285546884723)), 'rougeL': AggregateScore(low=Score(precision=0.5163396475467038, recall=0.49512189962016073, fmeasure=0.5056010585297219), mid=Score(precision=0.5411254575425815, recall=0.5172161138348544, fmeasure=0.5287745199465816), high=Score(precision=0.5621081455984887, recall=0.53739606057928, fmeasure=0.5493182731317647)), 'rougeLsum': AggregateScore(low=Score(precision=0.5491439851630765, recall=0.5250922483991531, fmeasure=0.5364691227614253), mid=Score(precision=0.5712808451326332, recall=0.5460134318781318, fmeasure=0.5577604360335531), high=Score(precision=0.5946726770529532, recall=0.5677005977273958, fmeasure=0.5807012818519834))}\n",
            "{'rouge1': AggregateScore(low=Score(precision=0.5911899346783774, recall=0.5648694428906319, fmeasure=0.5781541621318277), mid=Score(precision=0.6116783921685018, recall=0.5844525249423034, fmeasure=0.5974961173462122), high=Score(precision=0.6326793249399969, recall=0.6046610194853625, fmeasure=0.6176050452337842)), 'rouge2': AggregateScore(low=Score(precision=0.28654655000169305, recall=0.27372850318159814, fmeasure=0.2797203108907585), mid=Score(precision=0.3147031170343422, recall=0.29974282448921946, fmeasure=0.3067639961613069), high=Score(precision=0.3382191525284444, recall=0.3223064278923301, fmeasure=0.3298927239734007)), 'rougeL': AggregateScore(low=Score(precision=0.5182401388613569, recall=0.4961392478597974, fmeasure=0.5068280951906065), mid=Score(precision=0.5424544355254348, recall=0.5181979413718671, fmeasure=0.5299932941763617), high=Score(precision=0.5632775456236766, recall=0.5382553085740398, fmeasure=0.5501352950612918)), 'rougeLsum': AggregateScore(low=Score(precision=0.5502396552215475, recall=0.5257074979408728, fmeasure=0.5378879412415607), mid=Score(precision=0.5721741027449821, recall=0.5464423800451974, fmeasure=0.558699353073848), high=Score(precision=0.5950637881631243, recall=0.5683657943822451, fmeasure=0.5808531704797709))}\n"
          ]
        },
        {
          "output_type": "execute_result",
          "data": {
            "text/plain": [
              "TrainOutput(global_step=1000, training_loss=0.689949914932251, metrics={'train_runtime': 456.4551, 'train_samples_per_second': 8.763, 'train_steps_per_second': 2.191, 'total_flos': 948628881408000.0, 'train_loss': 0.689949914932251, 'epoch': 5.0})"
            ]
          },
          "metadata": {},
          "execution_count": 66
        }
      ]
    },
    {
      "cell_type": "markdown",
      "source": [
        "###**Eval model**"
      ],
      "metadata": {
        "id": "DgfiKvLWAxzS"
      }
    },
    {
      "cell_type": "code",
      "source": [
        "import torch\n",
        "device = torch.device('cuda' if torch.cuda.is_available() else 'cpu')\n",
        "print(device.type)"
      ],
      "metadata": {
        "colab": {
          "base_uri": "https://localhost:8080/"
        },
        "outputId": "19b62372-483e-45e2-d8b3-edca8061ffce",
        "id": "OK2ZnOWxldLN"
      },
      "execution_count": null,
      "outputs": [
        {
          "output_type": "stream",
          "name": "stdout",
          "text": [
            "cuda\n"
          ]
        }
      ]
    },
    {
      "cell_type": "code",
      "source": [
        "##Using trained model\n",
        "print(model.name_or_path)"
      ],
      "metadata": {
        "colab": {
          "base_uri": "https://localhost:8080/"
        },
        "id": "CqoXI7S-myZ9",
        "outputId": "a42755d6-517d-43ab-98d8-1e089e15d21b"
      },
      "execution_count": null,
      "outputs": [
        {
          "output_type": "stream",
          "name": "stdout",
          "text": [
            "Qwen/Qwen1.5-0.5B\n"
          ]
        }
      ]
    },
    {
      "cell_type": "code",
      "source": [
        "trainer.save_model() #Save to HF"
      ],
      "metadata": {
        "id": "6ZIstSueYeB8"
      },
      "execution_count": null,
      "outputs": []
    },
    {
      "cell_type": "code",
      "source": [
        "def ask_question(question):\n",
        "    inputs = tokenizer.encode('Q: ' + question + ' A:', return_tensors='pt').to(device)\n",
        "    attention_mask = torch.ones(inputs.shape, device=device)\n",
        "    outputs = model.generate(inputs, attention_mask = attention_mask, max_new_tokens=500, num_return_sequences=1)\n",
        "    gen_text = tokenizer.decode(outputs[0], skip_special_tokens=True)\n",
        "    question, answer = gen_text.split(' A:')\n",
        "\n",
        "    return question, answer"
      ],
      "metadata": {
        "id": "0xevAZ7KlTIP"
      },
      "execution_count": null,
      "outputs": []
    },
    {
      "cell_type": "code",
      "source": [
        "sQuestion, sAnswer = ask_question(\"What is K-means clustering?\") #Using trained model\n",
        "sQuestion, \"Answer: \" + sAnswer"
      ],
      "metadata": {
        "colab": {
          "base_uri": "https://localhost:8080/"
        },
        "outputId": "80e7c7ea-fe97-4ff0-f709-e391f316e027",
        "id": "zlIX-yW9lTIQ"
      },
      "execution_count": null,
      "outputs": [
        {
          "output_type": "execute_result",
          "data": {
            "text/plain": [
              "('Q: What is K-means clustering?',\n",
              " 'Answer:  K-means clustering is a technique used to group similar data points together. It involves assigning each data point to the nearest centroid, which is the point closest to the centroid. The number of clusters is determined by the number of centroids.')"
            ]
          },
          "metadata": {},
          "execution_count": 45
        }
      ]
    },
    {
      "cell_type": "code",
      "source": [
        "#Eval model  #Sep 27  2:50pm\n",
        "trainer.evaluate()\n",
        "\n",
        "#Training Results: 600\t0.788200\t0.844864\t0.595372\t0.306843\t0.537679\t0.560439"
      ],
      "metadata": {
        "colab": {
          "base_uri": "https://localhost:8080/",
          "height": 248
        },
        "id": "Jv6Kj5nz9Pxl",
        "outputId": "32c83555-0ae7-4965-e79a-daa155a743ae"
      },
      "execution_count": null,
      "outputs": [
        {
          "output_type": "display_data",
          "data": {
            "text/plain": [
              "<IPython.core.display.HTML object>"
            ],
            "text/html": [
              "\n",
              "    <div>\n",
              "      \n",
              "      <progress value='50' max='50' style='width:300px; height:20px; vertical-align: middle;'></progress>\n",
              "      [50/50 00:02]\n",
              "    </div>\n",
              "    "
            ]
          },
          "metadata": {}
        },
        {
          "output_type": "stream",
          "name": "stdout",
          "text": [
            "{'rouge1': AggregateScore(low=Score(precision=0.5905352999033762, recall=0.5606865208324169, fmeasure=0.5755123262358359), mid=Score(precision=0.6110572473896332, recall=0.5816635407888854, fmeasure=0.5957114227113449), high=Score(precision=0.6317314106888839, recall=0.6025011022918098, fmeasure=0.6157108466401028)), 'rouge2': AggregateScore(low=Score(precision=0.2921795676293773, recall=0.2773055804875994, fmeasure=0.2845873012109488), mid=Score(precision=0.3153171294811688, recall=0.3003389838055476, fmeasure=0.30747195541384775), high=Score(precision=0.34074768582183795, recall=0.32479724864273585, fmeasure=0.33233487650436216)), 'rougeL': AggregateScore(low=Score(precision=0.531858441641031, recall=0.5047183929910679, fmeasure=0.5171989165212297), mid=Score(precision=0.5518685740816995, recall=0.5252039709258727, fmeasure=0.5379576568774984), high=Score(precision=0.5718391598583887, recall=0.5448421841285375, fmeasure=0.5579565794071045)), 'rougeLsum': AggregateScore(low=Score(precision=0.554428156898255, recall=0.5258217119906636, fmeasure=0.5391481703823242), mid=Score(precision=0.5747260392541413, recall=0.5467733873796045, fmeasure=0.5601060847110381), high=Score(precision=0.59192992706871, recall=0.5652398498653977, fmeasure=0.5777320807731351))}\n"
          ]
        },
        {
          "output_type": "execute_result",
          "data": {
            "text/plain": [
              "{'eval_loss': 0.8447777628898621,\n",
              " 'eval_rouge1': 0.5957114227113449,\n",
              " 'eval_rouge2': 0.30747195541384775,\n",
              " 'eval_rougeL': 0.5379576568774984,\n",
              " 'eval_rougeLsum': 0.5601060847110381,\n",
              " 'eval_runtime': 9.8292,\n",
              " 'eval_samples_per_second': 10.174,\n",
              " 'eval_steps_per_second': 5.087,\n",
              " 'epoch': 10.0}"
            ]
          },
          "metadata": {},
          "execution_count": 43
        }
      ]
    },
    {
      "cell_type": "code",
      "source": [
        "#Eval model  #Sep 27  7:30am\n",
        "#trainer.evaluate()\n",
        "\n",
        "#Train/Val results: \t0.792900\t0.798846\t0.596820\t0.297634\t0.526688\t0.555140\n",
        "#Train/Test results:  0.728400\t0.878322\t0.587335\t0.288649\t0.517021\t0.543373"
      ],
      "metadata": {
        "id": "AIfhtej5YtcE"
      },
      "execution_count": null,
      "outputs": []
    },
    {
      "cell_type": "code",
      "source": [
        "#Eval model    #Sep 27  6:00am\n",
        "#trainer.evaluate()\n",
        "\n",
        "#Training Results: \t0.653000\t0.879501\t0.597496\t0.306764\t0.529993\t0.558699"
      ],
      "metadata": {
        "colab": {
          "base_uri": "https://localhost:8080/",
          "height": 248
        },
        "id": "IaL6lsBw_6ST",
        "outputId": "d6870819-7432-494a-e497-cfc7dfbb2729"
      },
      "execution_count": null,
      "outputs": [
        {
          "output_type": "display_data",
          "data": {
            "text/plain": [
              "<IPython.core.display.HTML object>"
            ],
            "text/html": [
              "\n",
              "    <div>\n",
              "      \n",
              "      <progress value='50' max='50' style='width:300px; height:20px; vertical-align: middle;'></progress>\n",
              "      [50/50 00:02]\n",
              "    </div>\n",
              "    "
            ]
          },
          "metadata": {}
        },
        {
          "output_type": "stream",
          "name": "stdout",
          "text": [
            "{'rouge1': AggregateScore(low=Score(precision=0.5911899346783774, recall=0.5648694428906319, fmeasure=0.5781541621318277), mid=Score(precision=0.6116783921685018, recall=0.5844525249423034, fmeasure=0.5974961173462122), high=Score(precision=0.6326793249399969, recall=0.6046610194853625, fmeasure=0.6176050452337842)), 'rouge2': AggregateScore(low=Score(precision=0.28654655000169305, recall=0.27372850318159814, fmeasure=0.2797203108907585), mid=Score(precision=0.3147031170343422, recall=0.29974282448921946, fmeasure=0.3067639961613069), high=Score(precision=0.3382191525284444, recall=0.3223064278923301, fmeasure=0.3298927239734007)), 'rougeL': AggregateScore(low=Score(precision=0.5182401388613569, recall=0.4961392478597974, fmeasure=0.5068280951906065), mid=Score(precision=0.5424544355254348, recall=0.5181979413718671, fmeasure=0.5299932941763617), high=Score(precision=0.5632775456236766, recall=0.5382553085740398, fmeasure=0.5501352950612918)), 'rougeLsum': AggregateScore(low=Score(precision=0.5502396552215475, recall=0.5257074979408728, fmeasure=0.5378879412415607), mid=Score(precision=0.5721741027449821, recall=0.5464423800451974, fmeasure=0.558699353073848), high=Score(precision=0.5950637881631243, recall=0.5683657943822451, fmeasure=0.5808531704797709))}\n"
          ]
        },
        {
          "output_type": "execute_result",
          "data": {
            "text/plain": [
              "{'eval_loss': 0.8795011639595032,\n",
              " 'eval_rouge1': 0.5974961173462122,\n",
              " 'eval_rouge2': 0.3067639961613069,\n",
              " 'eval_rougeL': 0.5299932941763617,\n",
              " 'eval_rougeLsum': 0.558699353073848,\n",
              " 'eval_runtime': 9.6966,\n",
              " 'eval_samples_per_second': 10.313,\n",
              " 'eval_steps_per_second': 5.156,\n",
              " 'epoch': 5.0}"
            ]
          },
          "metadata": {},
          "execution_count": 75
        }
      ]
    },
    {
      "cell_type": "code",
      "source": [
        "#Eval model\n",
        "sQuestion, sAnswer = ask_question(\"What is K-means clustering?\") #Using trained model\n",
        "sQuestion, \"Answer: \" + sAnswer"
      ],
      "metadata": {
        "colab": {
          "base_uri": "https://localhost:8080/"
        },
        "id": "oJsW1YDuAieo",
        "outputId": "90caebeb-521b-4332-d952-dabb848fae5b"
      },
      "execution_count": null,
      "outputs": [
        {
          "output_type": "execute_result",
          "data": {
            "text/plain": [
              "('Q: What is K-means clustering?',\n",
              " 'Answer:  K-means clustering is a machine learning technique used for clustering data points into groups based on their similarity. The algorithm starts with a set of initial centroids, and iteratively assigns each data point to the nearest centroid, until the centroids no longer change. The algorithm is based on the idea of minimizing the distance between each data point and the centroids, and then assigning each data point to the closest centroid.')"
            ]
          },
          "metadata": {},
          "execution_count": 39
        }
      ]
    },
    {
      "cell_type": "code",
      "source": [
        "##trainer.train() ##For 5 epocs"
      ],
      "metadata": {
        "colab": {
          "base_uri": "https://localhost:8080/",
          "height": 810
        },
        "collapsed": true,
        "id": "gbYUPDLtMsF9",
        "outputId": "b1abdd29-1c69-4aff-c427-d2ded237f140"
      },
      "execution_count": null,
      "outputs": [
        {
          "output_type": "stream",
          "name": "stderr",
          "text": [
            "/usr/local/lib/python3.10/dist-packages/torch/_dynamo/eval_frame.py:600: UserWarning: torch.utils.checkpoint: the use_reentrant parameter should be passed explicitly. In version 2.4 we will raise an exception if use_reentrant is not passed. use_reentrant=False is recommended, but if you need to preserve the current default behavior, you can pass use_reentrant=True. Refer to docs for more details on the differences between the two variants.\n",
            "  return fn(*args, **kwargs)\n",
            "/usr/local/lib/python3.10/dist-packages/torch/utils/checkpoint.py:295: FutureWarning: `torch.cpu.amp.autocast(args...)` is deprecated. Please use `torch.amp.autocast('cpu', args...)` instead.\n",
            "  with torch.enable_grad(), device_autocast_ctx, torch.cpu.amp.autocast(**ctx.cpu_autocast_kwargs):  # type: ignore[attr-defined]\n"
          ]
        },
        {
          "output_type": "display_data",
          "data": {
            "text/plain": [
              "<IPython.core.display.HTML object>"
            ],
            "text/html": [
              "\n",
              "    <div>\n",
              "      \n",
              "      <progress value='1000' max='1000' style='width:300px; height:20px; vertical-align: middle;'></progress>\n",
              "      [1000/1000 07:59, Epoch 10/10]\n",
              "    </div>\n",
              "    <table border=\"1\" class=\"dataframe\">\n",
              "  <thead>\n",
              " <tr style=\"text-align: left;\">\n",
              "      <th>Step</th>\n",
              "      <th>Training Loss</th>\n",
              "      <th>Validation Loss</th>\n",
              "      <th>Rouge1</th>\n",
              "      <th>Rouge2</th>\n",
              "      <th>Rougel</th>\n",
              "      <th>Rougelsum</th>\n",
              "    </tr>\n",
              "  </thead>\n",
              "  <tbody>\n",
              "    <tr>\n",
              "      <td>100</td>\n",
              "      <td>0.793400</td>\n",
              "      <td>0.873704</td>\n",
              "      <td>0.584048</td>\n",
              "      <td>0.285601</td>\n",
              "      <td>0.516486</td>\n",
              "      <td>0.541018</td>\n",
              "    </tr>\n",
              "    <tr>\n",
              "      <td>200</td>\n",
              "      <td>0.779800</td>\n",
              "      <td>0.874439</td>\n",
              "      <td>0.587033</td>\n",
              "      <td>0.287834</td>\n",
              "      <td>0.518480</td>\n",
              "      <td>0.544442</td>\n",
              "    </tr>\n",
              "    <tr>\n",
              "      <td>300</td>\n",
              "      <td>0.769200</td>\n",
              "      <td>0.872907</td>\n",
              "      <td>0.586866</td>\n",
              "      <td>0.287882</td>\n",
              "      <td>0.519988</td>\n",
              "      <td>0.544692</td>\n",
              "    </tr>\n",
              "    <tr>\n",
              "      <td>400</td>\n",
              "      <td>0.759700</td>\n",
              "      <td>0.873148</td>\n",
              "      <td>0.587425</td>\n",
              "      <td>0.287368</td>\n",
              "      <td>0.519473</td>\n",
              "      <td>0.545094</td>\n",
              "    </tr>\n",
              "    <tr>\n",
              "      <td>500</td>\n",
              "      <td>0.751400</td>\n",
              "      <td>0.874370</td>\n",
              "      <td>0.589560</td>\n",
              "      <td>0.290069</td>\n",
              "      <td>0.518689</td>\n",
              "      <td>0.545763</td>\n",
              "    </tr>\n",
              "    <tr>\n",
              "      <td>600</td>\n",
              "      <td>0.744500</td>\n",
              "      <td>0.876049</td>\n",
              "      <td>0.587810</td>\n",
              "      <td>0.289243</td>\n",
              "      <td>0.517884</td>\n",
              "      <td>0.544235</td>\n",
              "    </tr>\n",
              "    <tr>\n",
              "      <td>700</td>\n",
              "      <td>0.738700</td>\n",
              "      <td>0.875455</td>\n",
              "      <td>0.588918</td>\n",
              "      <td>0.289950</td>\n",
              "      <td>0.518125</td>\n",
              "      <td>0.545156</td>\n",
              "    </tr>\n",
              "    <tr>\n",
              "      <td>800</td>\n",
              "      <td>0.734200</td>\n",
              "      <td>0.876567</td>\n",
              "      <td>0.588663</td>\n",
              "      <td>0.289695</td>\n",
              "      <td>0.518613</td>\n",
              "      <td>0.544418</td>\n",
              "    </tr>\n",
              "    <tr>\n",
              "      <td>900</td>\n",
              "      <td>0.730900</td>\n",
              "      <td>0.877826</td>\n",
              "      <td>0.588097</td>\n",
              "      <td>0.289553</td>\n",
              "      <td>0.517969</td>\n",
              "      <td>0.544433</td>\n",
              "    </tr>\n",
              "    <tr>\n",
              "      <td>1000</td>\n",
              "      <td>0.728400</td>\n",
              "      <td>0.878322</td>\n",
              "      <td>0.587335</td>\n",
              "      <td>0.288649</td>\n",
              "      <td>0.517021</td>\n",
              "      <td>0.543373</td>\n",
              "    </tr>\n",
              "  </tbody>\n",
              "</table><p>"
            ]
          },
          "metadata": {}
        },
        {
          "output_type": "stream",
          "name": "stdout",
          "text": [
            "{'rouge1': AggregateScore(low=Score(precision=0.5827476097963842, recall=0.5489876652074918, fmeasure=0.564662996729826), mid=Score(precision=0.6017306889865738, recall=0.5680907146681832, fmeasure=0.5840475268281512), high=Score(precision=0.6191558039710585, recall=0.5851371838002469, fmeasure=0.601019984068282)), 'rouge2': AggregateScore(low=Score(precision=0.2730174058261809, recall=0.25685957510747176, fmeasure=0.2645974869327944), mid=Score(precision=0.2943239416443571, recall=0.27760551731428085, fmeasure=0.2856012169085689), high=Score(precision=0.3166118900873646, recall=0.2998672548163816, fmeasure=0.3075029264885035)), 'rougeL': AggregateScore(low=Score(precision=0.5114275044499575, recall=0.4816475651984322, fmeasure=0.4958078082010148), mid=Score(precision=0.5322460277892028, recall=0.5022930796719931, fmeasure=0.5164855095553372), high=Score(precision=0.5523881011791505, recall=0.5216785049489137, fmeasure=0.5361952868123911)), 'rougeLsum': AggregateScore(low=Score(precision=0.5373480216222654, recall=0.5055520115833366, fmeasure=0.520727625919683), mid=Score(precision=0.5575813939803267, recall=0.5259600667943359, fmeasure=0.5410180869746597), high=Score(precision=0.5792855119446776, recall=0.5464699293674573, fmeasure=0.5622408118068343))}\n",
            "{'rouge1': AggregateScore(low=Score(precision=0.585163986706062, recall=0.5535001730356299, fmeasure=0.5685126079280309), mid=Score(precision=0.6038214961630193, recall=0.5718046433005455, fmeasure=0.5870329083406707), high=Score(precision=0.6215696072534904, recall=0.5895225462055541, fmeasure=0.6046494841927811)), 'rouge2': AggregateScore(low=Score(precision=0.2745902437760174, recall=0.26021891036583095, fmeasure=0.2665887863541473), mid=Score(precision=0.29603253188446355, recall=0.2802780627984199, fmeasure=0.28783418820431295), high=Score(precision=0.31877705220009966, recall=0.30344749869625376, fmeasure=0.31039390487723145)), 'rougeL': AggregateScore(low=Score(precision=0.511612625792936, recall=0.48366091758768726, fmeasure=0.4971829397167725), mid=Score(precision=0.5332310842350093, recall=0.5050244583097524, fmeasure=0.518480013174664), high=Score(precision=0.5537596529097897, recall=0.5247373829795148, fmeasure=0.5384530596282984)), 'rougeLsum': AggregateScore(low=Score(precision=0.5395043738124965, recall=0.5101080283100127, fmeasure=0.5240046505124195), mid=Score(precision=0.5599036687923378, recall=0.530328178021697, fmeasure=0.5444423922312429), high=Score(precision=0.5812643250753574, recall=0.5506581517297704, fmeasure=0.5654952019741615))}\n",
            "{'rouge1': AggregateScore(low=Score(precision=0.5855656732698887, recall=0.5530061728973542, fmeasure=0.5685982179558505), mid=Score(precision=0.6039585920359921, recall=0.5714436268712282, fmeasure=0.5868660451164128), high=Score(precision=0.621668110186057, recall=0.5884746946046692, fmeasure=0.6042711253753087)), 'rouge2': AggregateScore(low=Score(precision=0.2750101662395515, recall=0.2593996966679282, fmeasure=0.26686835686609006), mid=Score(precision=0.2966114468814645, recall=0.2801232379104927, fmeasure=0.28788150127519363), high=Score(precision=0.3199401538635687, recall=0.3031681427407418, fmeasure=0.3112800051178796)), 'rougeL': AggregateScore(low=Score(precision=0.5136614373538801, recall=0.4848374833159148, fmeasure=0.498751750627449), mid=Score(precision=0.5353531852052849, recall=0.5060690971124688, fmeasure=0.5199883022260012), high=Score(precision=0.5552351107057544, recall=0.5259076514103741, fmeasure=0.5400697682655125)), 'rougeLsum': AggregateScore(low=Score(precision=0.5397483498678124, recall=0.5099090367527419, fmeasure=0.5244945971642028), mid=Score(precision=0.5604057732187774, recall=0.5302023219950731, fmeasure=0.5446919110418229), high=Score(precision=0.5818006701247633, recall=0.5503754637523324, fmeasure=0.5651868215930527))}\n",
            "{'rouge1': AggregateScore(low=Score(precision=0.5867805986556872, recall=0.5529326710255977, fmeasure=0.5690171626995492), mid=Score(precision=0.6048833519812824, recall=0.5713556157732271, fmeasure=0.5874252113611316), high=Score(precision=0.6221557229208388, recall=0.5888148668957592, fmeasure=0.6047817759357217)), 'rouge2': AggregateScore(low=Score(precision=0.2750183591510928, recall=0.2596362075007341, fmeasure=0.26701828133428335), mid=Score(precision=0.29617337045559755, recall=0.2793709578677384, fmeasure=0.28736802295799124), high=Score(precision=0.31883997393680147, recall=0.30209129183899774, fmeasure=0.30987754274355067)), 'rougeL': AggregateScore(low=Score(precision=0.513063345846416, recall=0.48342548197596835, fmeasure=0.4974768515046306), mid=Score(precision=0.5350257908203834, recall=0.5051656157817674, fmeasure=0.5194731800283984), high=Score(precision=0.5549453685744585, recall=0.5246234880053342, fmeasure=0.5385708916829449)), 'rougeLsum': AggregateScore(low=Score(precision=0.5414285385868868, recall=0.5097917507423037, fmeasure=0.5252204162963148), mid=Score(precision=0.5613960496784637, recall=0.5300417014829553, fmeasure=0.5450938084648956), high=Score(precision=0.5826645577556973, recall=0.5501487483655085, fmeasure=0.5657671801287611))}\n",
            "{'rouge1': AggregateScore(low=Score(precision=0.5875033152568084, recall=0.5560222869374396, fmeasure=0.5712251219048567), mid=Score(precision=0.6063022223752663, recall=0.5743955294494103, fmeasure=0.5895599031608462), high=Score(precision=0.6239904342549522, recall=0.5920215179301318, fmeasure=0.6073237469278558)), 'rouge2': AggregateScore(low=Score(precision=0.27642465905352065, recall=0.2620230210946034, fmeasure=0.2688145643861908), mid=Score(precision=0.2981771918429068, recall=0.2823967579612612, fmeasure=0.29006871331776163), high=Score(precision=0.32060857046957525, recall=0.3044406603023272, fmeasure=0.31206656606050565)), 'rougeL': AggregateScore(low=Score(precision=0.5117105032422241, recall=0.48397253269492735, fmeasure=0.49720539069815106), mid=Score(precision=0.5332897384308632, recall=0.5053536618619656, fmeasure=0.5186891011343748), high=Score(precision=0.5528819254441089, recall=0.5248285290124806, fmeasure=0.5383199734812162)), 'rougeLsum': AggregateScore(low=Score(precision=0.5405884093080392, recall=0.511756830337598, fmeasure=0.5257225165542619), mid=Score(precision=0.5611020461801008, recall=0.5317803532975642, fmeasure=0.5457626542586796), high=Score(precision=0.5814521475238419, recall=0.5518048136087141, fmeasure=0.5659457648521942))}\n"
          ]
        },
        {
          "output_type": "stream",
          "name": "stderr",
          "text": [
            "/usr/local/lib/python3.10/dist-packages/torch/_dynamo/eval_frame.py:600: UserWarning: torch.utils.checkpoint: the use_reentrant parameter should be passed explicitly. In version 2.4 we will raise an exception if use_reentrant is not passed. use_reentrant=False is recommended, but if you need to preserve the current default behavior, you can pass use_reentrant=True. Refer to docs for more details on the differences between the two variants.\n",
            "  return fn(*args, **kwargs)\n",
            "/usr/local/lib/python3.10/dist-packages/torch/utils/checkpoint.py:295: FutureWarning: `torch.cpu.amp.autocast(args...)` is deprecated. Please use `torch.amp.autocast('cpu', args...)` instead.\n",
            "  with torch.enable_grad(), device_autocast_ctx, torch.cpu.amp.autocast(**ctx.cpu_autocast_kwargs):  # type: ignore[attr-defined]\n"
          ]
        },
        {
          "output_type": "stream",
          "name": "stdout",
          "text": [
            "{'rouge1': AggregateScore(low=Score(precision=0.5857729320335537, recall=0.5546127587924959, fmeasure=0.5693500911593733), mid=Score(precision=0.6042462990413178, recall=0.5726057016702832, fmeasure=0.5878095290981722), high=Score(precision=0.6214051982955758, recall=0.5887784741661889, fmeasure=0.6042573478604493)), 'rouge2': AggregateScore(low=Score(precision=0.27672904833173556, recall=0.2616492180350674, fmeasure=0.268945682186648), mid=Score(precision=0.2975484393694696, recall=0.2816097845186477, fmeasure=0.2892434454144593), high=Score(precision=0.31989630584500145, recall=0.30349517400626685, fmeasure=0.31116593553476246)), 'rougeL': AggregateScore(low=Score(precision=0.5114627349561129, recall=0.483391166391784, fmeasure=0.49689571902369567), mid=Score(precision=0.5325826456359202, recall=0.5043204636117391, fmeasure=0.5178844663069191), high=Score(precision=0.5528261887304399, recall=0.5240728849516922, fmeasure=0.5377884716791566)), 'rougeLsum': AggregateScore(low=Score(precision=0.5391396488857032, recall=0.510441279498978, fmeasure=0.5243947929623918), mid=Score(precision=0.5595772727936055, recall=0.5301514077642688, fmeasure=0.5442347507461522), high=Score(precision=0.5797994777941752, recall=0.5494815277486649, fmeasure=0.5637942588210654))}\n",
            "{'rouge1': AggregateScore(low=Score(precision=0.5884684014136182, recall=0.5560500749408445, fmeasure=0.5716859255069892), mid=Score(precision=0.6063417279860595, recall=0.573216085867452, fmeasure=0.5889184488591976), high=Score(precision=0.6238399766463145, recall=0.589930983987027, fmeasure=0.6060863526098703)), 'rouge2': AggregateScore(low=Score(precision=0.27700558548972126, recall=0.2615334426252394, fmeasure=0.26923062830900335), mid=Score(precision=0.2986907956186209, recall=0.2818684047190019, fmeasure=0.2899501765128314), high=Score(precision=0.32038648970251377, recall=0.3034555440574626, fmeasure=0.3115817294556404)), 'rougeL': AggregateScore(low=Score(precision=0.5112295785669166, recall=0.48296642687666597, fmeasure=0.49639274905755165), mid=Score(precision=0.5331175494817018, recall=0.5040965234510049, fmeasure=0.5181253188106179), high=Score(precision=0.5524729342373346, recall=0.5226750151695909, fmeasure=0.5371223991335206)), 'rougeLsum': AggregateScore(low=Score(precision=0.5408508874596354, recall=0.510501361973582, fmeasure=0.5250707601560012), mid=Score(precision=0.5610253858445313, recall=0.5303736343340199, fmeasure=0.5451556851953814), high=Score(precision=0.5810580815158349, recall=0.5492870159355687, fmeasure=0.5644533555797052))}\n",
            "{'rouge1': AggregateScore(low=Score(precision=0.5873786301651636, recall=0.5557314321360669, fmeasure=0.5708783902420778), mid=Score(precision=0.6055937641199144, recall=0.5730453196755665, fmeasure=0.5886628027920819), high=Score(precision=0.6225931601587535, recall=0.5895715507322524, fmeasure=0.6054378265349574)), 'rouge2': AggregateScore(low=Score(precision=0.27678184495310276, recall=0.2615459194823575, fmeasure=0.2689094799858516), mid=Score(precision=0.2982433180378903, recall=0.282091420443936, fmeasure=0.28969501141684595), high=Score(precision=0.3200895926625123, recall=0.3028344485161959, fmeasure=0.31117911390954583)), 'rougeL': AggregateScore(low=Score(precision=0.5113644094708781, recall=0.4833433888174806, fmeasure=0.49723847823206035), mid=Score(precision=0.5335036669867356, recall=0.5046932210145081, fmeasure=0.518612653366361), high=Score(precision=0.5531556680824876, recall=0.5229088025193521, fmeasure=0.5373621434697577)), 'rougeLsum': AggregateScore(low=Score(precision=0.5403561989808077, recall=0.5105619873365839, fmeasure=0.5251279873106977), mid=Score(precision=0.5602897499829989, recall=0.5299650365173313, fmeasure=0.5444181508103179), high=Score(precision=0.5803871477032196, recall=0.5495317078162981, fmeasure=0.564252234511661))}\n",
            "{'rouge1': AggregateScore(low=Score(precision=0.5876373963076786, recall=0.5556483122611011, fmeasure=0.5707876700304151), mid=Score(precision=0.6051140120376934, recall=0.5725248228976084, fmeasure=0.5880967892563278), high=Score(precision=0.621910147662271, recall=0.5891995021546418, fmeasure=0.6049611654007474)), 'rouge2': AggregateScore(low=Score(precision=0.27659609739654484, recall=0.2615190108442766, fmeasure=0.26888423265291), mid=Score(precision=0.2981406477766608, recall=0.28175440670148366, fmeasure=0.28955295179581064), high=Score(precision=0.3204055148643432, recall=0.3030824266036903, fmeasure=0.3113533451312154)), 'rougeL': AggregateScore(low=Score(precision=0.5117751655908922, recall=0.4831244738114917, fmeasure=0.49675634145411895), mid=Score(precision=0.5328981141198805, recall=0.5040856510988463, fmeasure=0.5179686783453892), high=Score(precision=0.5516316355806664, recall=0.5224722051383884, fmeasure=0.5366067872867251)), 'rougeLsum': AggregateScore(low=Score(precision=0.5404693021794328, recall=0.5108502747119564, fmeasure=0.5251958053758938), mid=Score(precision=0.5602253440823284, recall=0.5298115085537088, fmeasure=0.5444333884844794), high=Score(precision=0.5793175328108503, recall=0.5489490328685149, fmeasure=0.5631970569202769))}\n",
            "{'rouge1': AggregateScore(low=Score(precision=0.5866939448415992, recall=0.5550509930425499, fmeasure=0.5702477964508825), mid=Score(precision=0.6039732527106998, recall=0.5719368154374441, fmeasure=0.5873354390722347), high=Score(precision=0.6213511700119582, recall=0.588471508150662, fmeasure=0.6043743103642178)), 'rouge2': AggregateScore(low=Score(precision=0.27516005332962507, recall=0.2603489487842725, fmeasure=0.2674547244947684), mid=Score(precision=0.2972391472572572, recall=0.2809659033630709, fmeasure=0.2886490082214134), high=Score(precision=0.31941393597748796, recall=0.30210014372582067, fmeasure=0.3104077425220658)), 'rougeL': AggregateScore(low=Score(precision=0.5105823167820936, recall=0.4823476773404223, fmeasure=0.4959085296946145), mid=Score(precision=0.531810399107514, recall=0.5033569395462433, fmeasure=0.5170214077516637), high=Score(precision=0.5506991743112366, recall=0.5218292751094411, fmeasure=0.535707017224386)), 'rougeLsum': AggregateScore(low=Score(precision=0.5390792754178168, recall=0.5095431887561238, fmeasure=0.5239745214114554), mid=Score(precision=0.5590486913253949, recall=0.5290168267646871, fmeasure=0.5433727219097128), high=Score(precision=0.578473933736513, recall=0.5478766656162705, fmeasure=0.5626636356862952))}\n"
          ]
        },
        {
          "output_type": "execute_result",
          "data": {
            "text/plain": [
              "TrainOutput(global_step=1000, training_loss=0.7530256576538086, metrics={'train_runtime': 479.5686, 'train_samples_per_second': 16.682, 'train_steps_per_second': 2.085, 'total_flos': 1897257762816000.0, 'train_loss': 0.7530256576538086, 'epoch': 10.0})"
            ]
          },
          "metadata": {},
          "execution_count": 41
        }
      ]
    },
    {
      "cell_type": "code",
      "source": [
        "trainer.evaluate()"
      ],
      "metadata": {
        "colab": {
          "base_uri": "https://localhost:8080/",
          "height": 248
        },
        "collapsed": true,
        "id": "yp3gZMnaMF6E",
        "outputId": "5ebf31c2-c236-4e2a-df85-04153b3f9b5b"
      },
      "execution_count": null,
      "outputs": [
        {
          "output_type": "display_data",
          "data": {
            "text/plain": [
              "<IPython.core.display.HTML object>"
            ],
            "text/html": [
              "\n",
              "    <div>\n",
              "      \n",
              "      <progress value='32' max='32' style='width:300px; height:20px; vertical-align: middle;'></progress>\n",
              "      [32/32 00:01]\n",
              "    </div>\n",
              "    "
            ]
          },
          "metadata": {}
        },
        {
          "output_type": "stream",
          "name": "stdout",
          "text": [
            "{'rouge1': AggregateScore(low=Score(precision=0.5866939448415992, recall=0.5550509930425499, fmeasure=0.5702477964508825), mid=Score(precision=0.6039732527106998, recall=0.5719368154374441, fmeasure=0.5873354390722347), high=Score(precision=0.6213511700119582, recall=0.588471508150662, fmeasure=0.6043743103642178)), 'rouge2': AggregateScore(low=Score(precision=0.27516005332962507, recall=0.2603489487842725, fmeasure=0.2674547244947684), mid=Score(precision=0.2972391472572572, recall=0.2809659033630709, fmeasure=0.2886490082214134), high=Score(precision=0.31941393597748796, recall=0.30210014372582067, fmeasure=0.3104077425220658)), 'rougeL': AggregateScore(low=Score(precision=0.5105823167820936, recall=0.4823476773404223, fmeasure=0.4959085296946145), mid=Score(precision=0.531810399107514, recall=0.5033569395462433, fmeasure=0.5170214077516637), high=Score(precision=0.5506991743112366, recall=0.5218292751094411, fmeasure=0.535707017224386)), 'rougeLsum': AggregateScore(low=Score(precision=0.5390792754178168, recall=0.5095431887561238, fmeasure=0.5239745214114554), mid=Score(precision=0.5590486913253949, recall=0.5290168267646871, fmeasure=0.5433727219097128), high=Score(precision=0.578473933736513, recall=0.5478766656162705, fmeasure=0.5626636356862952))}\n"
          ]
        },
        {
          "output_type": "execute_result",
          "data": {
            "text/plain": [
              "{'eval_loss': 0.878322422504425,\n",
              " 'eval_rouge1': 0.5873354390722347,\n",
              " 'eval_rouge2': 0.2886490082214134,\n",
              " 'eval_rougeL': 0.5170214077516637,\n",
              " 'eval_rougeLsum': 0.5433727219097128,\n",
              " 'eval_runtime': 10.7628,\n",
              " 'eval_samples_per_second': 11.8,\n",
              " 'eval_steps_per_second': 2.973,\n",
              " 'epoch': 10.0}"
            ]
          },
          "metadata": {},
          "execution_count": 42
        }
      ]
    },
    {
      "cell_type": "code",
      "source": [
        "sQuestion, sAnswer = ask_question(\"What is the difference between CNN and RNN?\") #Using trained model\n",
        "sQuestion, \"Answer: \" + sAnswer"
      ],
      "metadata": {
        "colab": {
          "base_uri": "https://localhost:8080/"
        },
        "outputId": "39e17d23-50fd-4102-a958-0bc34838e0c2",
        "id": "QYvTVHljl2xB"
      },
      "execution_count": null,
      "outputs": [
        {
          "output_type": "execute_result",
          "data": {
            "text/plain": [
              "('Q: What is the difference between CNN and RNN?',\n",
              " 'Answer:  CNN (Convolutional Neural Network) and RNN (Recurrent Neural Network) are two types of neural networks used for sequence processing. CNNs are used for image and sequence processing, while RNNs are used for sequential data processing.')"
            ]
          },
          "metadata": {},
          "execution_count": 46
        }
      ]
    },
    {
      "cell_type": "code",
      "source": [
        "sQuestion, sAnswer = ask_question(\"What is Backpropagation?\") #Using trained model\n",
        "sQuestion, \"Answer: \" + sAnswer"
      ],
      "metadata": {
        "colab": {
          "base_uri": "https://localhost:8080/"
        },
        "outputId": "ff51f402-0969-49a9-ef25-1f920d1b0ac2",
        "id": "aOUivu37l2xE"
      },
      "execution_count": null,
      "outputs": [
        {
          "output_type": "execute_result",
          "data": {
            "text/plain": [
              "('Q: What is Backpropagation?',\n",
              " 'Answer:  Backpropagation is a technique used to train neural networks by adjusting the weights of the network based on the gradients of the loss function. It is a key component of deep learning.')"
            ]
          },
          "metadata": {},
          "execution_count": 47
        }
      ]
    },
    {
      "cell_type": "markdown",
      "source": [
        "###**Save Trained Model in Hugging face hub**"
      ],
      "metadata": {
        "id": "Ve-HlxI0-IzY"
      }
    },
    {
      "cell_type": "code",
      "source": [
        "trainer.model.name_or_path"
      ],
      "metadata": {
        "colab": {
          "base_uri": "https://localhost:8080/",
          "height": 37
        },
        "id": "3Kn20EKMhZm0",
        "outputId": "74308fe5-38c3-4bf3-ed29-3efa839f4b7b"
      },
      "execution_count": null,
      "outputs": [
        {
          "output_type": "execute_result",
          "data": {
            "text/plain": [
              "'Qwen/Qwen1.5-0.5B'"
            ],
            "application/vnd.google.colaboratory.intrinsic+json": {
              "type": "string"
            }
          },
          "metadata": {},
          "execution_count": 48
        }
      ]
    },
    {
      "cell_type": "code",
      "source": [
        "#Copy the model and tokenizer before pushing it to HF\n",
        "ModelBeforeTraining = model\n",
        "TokenizerBeforeTraining = tokenizer\n",
        "print(ModelBeforeTraining.name_or_path)\n",
        "print(TokenizerBeforeTraining.name_or_path)\n",
        "\n",
        "#Copy the model and tokenizer before pushing it to HF\n",
        "ModelBeforeHF = model #trainer.model\n",
        "TokenizerBeforeHF = trainer.tokenizer\n",
        "\n",
        "print(ModelBeforeHF.name_or_path)\n",
        "print(TokenizerBeforeHF.name_or_path)\n",
        "\n",
        "print(type(model))\n",
        "print(type(ModelBeforeHF))\n",
        "print(type(TokenizerBeforeHF))"
      ],
      "metadata": {
        "colab": {
          "base_uri": "https://localhost:8080/"
        },
        "id": "Tj2VILNC5sUv",
        "outputId": "4741828e-1853-4473-a52c-66fbef2bc631"
      },
      "execution_count": null,
      "outputs": [
        {
          "output_type": "stream",
          "name": "stdout",
          "text": [
            "Qwen/Qwen1.5-0.5B\n",
            "Qwen/Qwen1.5-0.5B\n",
            "Qwen/Qwen1.5-0.5B\n",
            "Qwen/Qwen1.5-0.5B\n",
            "<class 'peft.peft_model.PeftModelForCausalLM'>\n",
            "<class 'peft.peft_model.PeftModelForCausalLM'>\n",
            "<class 'transformers.models.qwen2.tokenization_qwen2.Qwen2Tokenizer'>\n"
          ]
        }
      ]
    },
    {
      "cell_type": "markdown",
      "source": [
        "#####**HF - Login to Hugging Face hub**"
      ],
      "metadata": {
        "id": "qq9vp92aiA_Y"
      }
    },
    {
      "cell_type": "code",
      "source": [
        "from huggingface_hub import notebook_login\n",
        "notebook_login()"
      ],
      "metadata": {
        "colab": {
          "base_uri": "https://localhost:8080/",
          "height": 145,
          "referenced_widgets": [
            "9fe2648fc7964f67b45f2d9aebfdcb0c",
            "65f9180907c34f91b5c0a4277aff89f3",
            "adfba85e368b430d8cda6b14cd453112",
            "2edc33664d3d4d9eb03410d0b0fbb64b",
            "6b0341a5363043479c3f23cea3055ff0",
            "996d9a6087b54a9f96a8925ca5c602d0",
            "87f91936846a4da996793a8e6f93b301",
            "e0aaa65e18b84567ac317db7827e7448",
            "489cd8d78fed47fd81a308ac594b89b2",
            "3d0054fc6252450ea5806338fb5f0c2e",
            "35291eb765164666b2b049947b3e867a",
            "b7d97140b1724c28a9a9612dacae73f3",
            "1e301e4290534c48b7beee60b5eddb08",
            "97b0cb93d25c46e082aaefb4fcda5f93",
            "cd9c895e950d4ea6a6ff0ac889c60752",
            "9cd7afa59feb4dc5ab25461aed2f32da",
            "0fa4923aed514d87807510d68407c353",
            "814749e8251542f9a194a7f5c9a7d613",
            "a584e77ee19a4f568ef4b6c5f35cfbed",
            "37cfdce18b744f95b93b2d24e40c0e01",
            "21adcb13aace46fb9c343886e91cb935",
            "e45768bf1d0d4debb2cf8604e7619e9d",
            "076e9903cbcf43798fdb776195dcb77b",
            "5c80e50a162d48ac92ebfdebaacebc52",
            "c32a4bd9879c4753bf4f598b79e9a51b",
            "78382c57a3704c80a5acb398f369911b",
            "6e234937d42448f89aef94e94eb66ff7",
            "aad1b3918a6e412d9fde8b2273858c8e",
            "c7fa788da53f42cf8e1302a5d8c7bf0f",
            "1d3bfac1446d48e7ae7fab2f532757e7",
            "647cb1b297044ba4b08a4d430be19c70",
            "d7aba311cbc14c13b2a57212c1ae5ba5"
          ]
        },
        "id": "Uz6gQCGmGROH",
        "outputId": "6df2fde5-18f7-4ab2-ba3a-72d47d03bc09"
      },
      "execution_count": null,
      "outputs": [
        {
          "output_type": "display_data",
          "data": {
            "text/plain": [
              "VBox(children=(HTML(value='<center> <img\\nsrc=https://huggingface.co/front/assets/huggingface_logo-noborder.sv…"
            ],
            "application/vnd.jupyter.widget-view+json": {
              "version_major": 2,
              "version_minor": 0,
              "model_id": "9fe2648fc7964f67b45f2d9aebfdcb0c"
            }
          },
          "metadata": {}
        }
      ]
    },
    {
      "cell_type": "code",
      "source": [
        "'''\n",
        "sHuggingFacePath = \"RohiniPS/Qwen1B\" #+ model_save_name\n",
        "HFModelName = \"Qwen1B\"\n",
        "\n",
        "##Check\n",
        "#Specify from_tf=True to convert a checkpoint from TensorFlow to PyTorch:\n",
        "#HFQwenModel = model.from_pretrained(sHuggingFacePath)\n",
        "\n",
        "#pt_model = DistilBertForSequenceClassification.from_pretrained(\"path/to/awesome-name-you-picked\", from_tf=True)\n",
        "#HFQwenModel.save_pretrained(sHuggingFacePath)\n",
        "'''\n",
        "notebook_login.cache_dir = \"/content/cache\""
      ],
      "metadata": {
        "id": "uXf1gnkGpwRO"
      },
      "execution_count": null,
      "outputs": []
    },
    {
      "cell_type": "markdown",
      "source": [
        "#####**HF - Upload the model to the Hub**"
      ],
      "metadata": {
        "id": "xAWyB7MbdOBH"
      }
    },
    {
      "cell_type": "code",
      "source": [
        "from google.colab import userdata\n",
        "HF_Token_ALL = userdata.get('HF_RW_TOKEN')\n",
        "\n",
        "!huggingface-cli login --token $HF_Token_ALL               #export HF_TOKEN=Actualtoken && python3 download-model.py RohiniPS/Qwen1B\n",
        "\n",
        "sHuggingFacePath = \"RohiniPS/Qwen1B-QnA-3-5\" #Qwen1.5B_Cust1\" #+ model_save_name\n",
        "#HFModelName = \"Qwen1B\""
      ],
      "metadata": {
        "id": "inRoRkt9b-_M",
        "colab": {
          "base_uri": "https://localhost:8080/"
        },
        "outputId": "1af4ac1b-054b-4621-bfe3-2cb48608c904"
      },
      "execution_count": null,
      "outputs": [
        {
          "output_type": "stream",
          "name": "stdout",
          "text": [
            "The token has not been saved to the git credentials helper. Pass `add_to_git_credential=True` in this function directly or `--add-to-git-credential` if using via `huggingface-cli` if you want to set the git credential as well.\n",
            "Token is valid (permission: write).\n",
            "Your token has been saved to /root/.cache/huggingface/token\n",
            "Login successful\n"
          ]
        }
      ]
    },
    {
      "cell_type": "code",
      "source": [
        "#upload the model to the Hub. It creates a repository with the model name\n",
        "#trainer.push_to_hub()\n",
        "print(sHuggingFacePath)\n",
        "ModelBeforeHF.push_to_hub(repo_id=sHuggingFacePath, token=HF_Token_ALL)\n",
        "TokenizerBeforeHF.push_to_hub(repo_id=sHuggingFacePath, token=HF_Token_ALL) #To push the tokenizer\n",
        "# model.push_to_hub(repo_id=sHuggingFacePath, token=HF_Token_ALL)\n",
        "# tokenizer.push_to_hub(repo_id=sHuggingFacePath, token=HF_Token_ALL) #To push the tokenizer"
      ],
      "metadata": {
        "colab": {
          "base_uri": "https://localhost:8080/",
          "height": 113
        },
        "id": "7p3tWdPAsLSg",
        "outputId": "10c6f831-ca49-475e-858f-01763e0080b5"
      },
      "execution_count": null,
      "outputs": [
        {
          "output_type": "stream",
          "name": "stdout",
          "text": [
            "RohiniPS/Qwen1B-QnA-3-5\n"
          ]
        },
        {
          "output_type": "stream",
          "name": "stderr",
          "text": [
            "WARNING:huggingface_hub.hf_api:No files have been modified since last commit. Skipping to prevent empty commit.\n",
            "WARNING:huggingface_hub.hf_api:No files have been modified since last commit. Skipping to prevent empty commit.\n"
          ]
        },
        {
          "output_type": "execute_result",
          "data": {
            "text/plain": [
              "CommitInfo(commit_url='https://huggingface.co/RohiniPS/Qwen1B-QnA-3-5/commit/d90a902343ac88e6297955da960e0c54e4dc0b82', commit_message='Upload tokenizer', commit_description='', oid='d90a902343ac88e6297955da960e0c54e4dc0b82', pr_url=None, pr_revision=None, pr_num=None)"
            ],
            "application/vnd.google.colaboratory.intrinsic+json": {
              "type": "string"
            }
          },
          "metadata": {},
          "execution_count": 61
        }
      ]
    },
    {
      "cell_type": "markdown",
      "source": [
        "###**HF - Fetch the pre-trained model from hub**"
      ],
      "metadata": {
        "id": "R4dZbIRjb9iU"
      }
    },
    {
      "cell_type": "code",
      "source": [
        "#Fetch the model as pre-trained from HF\n",
        "#from transformers import AutoModelCasualLM\n",
        "modelHF = Qwen2ForCausalLM.from_pretrained(sHuggingFacePath)    #(\"your_username/my-awesome-model\")\n",
        "tokenizerHF = Qwen2Tokenizer.from_pretrained(sHuggingFacePath)\n",
        "#trainerHF = Trainer.from_pretrained(sHuggingFacePath)"
      ],
      "metadata": {
        "colab": {
          "base_uri": "https://localhost:8080/",
          "height": 241,
          "referenced_widgets": [
            "5fef2d81880c4c2986d46c500333d8d4",
            "6120aed35391436f946d6b583dc20a5f",
            "49ea22bbc104491fb8be10057c6eb312",
            "4b54106d05fd470497ae05b11a827c8c",
            "d9ef7724cc834399b50b96e8949197fd",
            "7599d4dd965d47ef9d7890d539b23ae2",
            "d44d50b7852047f887f1702ccb17ada2",
            "91b57ee5a1ef468d9b9984a3f7acbc96",
            "f507527882694c6690157c92e2afd75a",
            "79a27ec6b8954c6984a6a868d4cf6f6d",
            "f8a64dcd70fe42e089e5d94639f2a39f",
            "5d05acef83e04ecca989cf2e532c09fc",
            "7a7e475f1102451baf9cc32ecca13e18",
            "6432b341b2b54125a8e51f826dab2dc8",
            "1b6a336db8444b0785ae217294d59c04",
            "af89dcf7062f43869f7f17fcc4273e76",
            "49d268999f9243fa98626f702db52f15",
            "efa3184076d34533943dc426a302fe37",
            "6f5e33a7658949a89593665dcd15af45",
            "7ad5f308841c4b1691f40dad2d0b5abf",
            "665d64f76ec0494aabb9865b1deb3181",
            "29093359383b46db894d92192c3bad94",
            "c5f3220e388f4e50be61c96d7cde034e",
            "84670b1bed8a4c9abe3967ef7055d128",
            "6d68103e934440048136689b73a23ce5",
            "dcb58a0a6aa6450fa3975e0923cb1549",
            "bb9dbd6b825542d89c820064053a6316",
            "d054b0bea18c41da99c537629d7dc698",
            "8ae0e35ea5794b999813f9b4bd4537e9",
            "bc4822d9621f460e9665a2f8fe0ce0d6",
            "346bdf478241419f85d88faa9d3fc983",
            "40c7928d8e074d6885959692f6633e9e",
            "e0fb946228aa4dcda9bbc4e9b9a11a7a",
            "fb68472adde14b1885b5d16ea807dbf6",
            "f71c5a9e83774d2a8ae1e9baef2c5263",
            "c37a081f15314e66804e5d3ba39f96ae",
            "4279f1db496b4499b8001f4b957276ba",
            "746a505f204f43909f00ecba475c0f08",
            "37d5cf1b433b498b90530573d2f765e9",
            "834f478c32714a93b476f240d0dc81e1",
            "d3808fe09b2742628f2857b8c54fb13f",
            "cd310c76be524921bde2b83798826ac3",
            "f387fdd14bf54f988b9993933b80090a",
            "e2ae90124c4d49b1ad580dba89c27147",
            "81b82212d083410faedb7f95572c0d6f",
            "333b570f8f3c41bfa950093534e7a7e8",
            "1b58e458779e492fa9268535ee2edf22",
            "5e15f02312a741ab95791fdd8f5aa65c",
            "633fe4df68204a6e9068c8f2bb6cea60",
            "70211fa98b704ccba13b57e9486a87ff",
            "64ed03848d4f47e58a462b91171e2672",
            "bf8d8e9db68946808ac0979bcf3f7790",
            "2291c453cc0b411a9bc7cfb553ec26e9",
            "adb9a2c926ea4eda8df3719027abd48f",
            "b9b9b09b00a74c1baf02bad5f3f6ac2d",
            "01f6f193f6904de7b84079427b3c53ab",
            "ca929b58ac9845aca295afd83158a048",
            "ca729e6ed043448b8c56fca16fe4b32e",
            "520f78f2973c4b0291d79849ffcca7aa",
            "d9b789513e344dc2b1120ecf267f7432",
            "a190b1d0c3fa462fba0ca4fb9291eddb",
            "96406b73865d4f08a9b9034ad9cf87db",
            "0643e17b710f4032983bb70bd34d9a66",
            "af18cedf436e4a8babef866907a76f33",
            "9b646e442e16488d9bb2ce839d05eee5",
            "484121e63385449183dc77bad7bf51a4",
            "628b370b6b324751b421221ff854bef8",
            "dd94fd1567e240c6aaac10a52de0fbc4",
            "83921f4bb74e4606a05d043f1bd90776",
            "d370187a1f51419799c4eaa66db90da7",
            "e816662710d44cb9a52d5fe39487e575",
            "9e8b40f9617e4eb88c87b01a1b4e7da7",
            "2a0a6e977ad64b9ea6eff499b6091107",
            "71e41b1457b543e2bea3add9db66022d",
            "6159ebd725f24c62a789360274539d82",
            "4da66bb5f69d48ce89ce7c215190029c",
            "306cd8acd8f74dcc9a9d439a28c37d1c"
          ]
        },
        "id": "IdD7heNbuxE4",
        "outputId": "4c8132a2-acb4-486a-a614-2383ebdce529"
      },
      "execution_count": null,
      "outputs": [
        {
          "output_type": "display_data",
          "data": {
            "text/plain": [
              "adapter_config.json:   0%|          | 0.00/641 [00:00<?, ?B/s]"
            ],
            "application/vnd.jupyter.widget-view+json": {
              "version_major": 2,
              "version_minor": 0,
              "model_id": "5fef2d81880c4c2986d46c500333d8d4"
            }
          },
          "metadata": {}
        },
        {
          "output_type": "display_data",
          "data": {
            "text/plain": [
              "adapter_model.safetensors:   0%|          | 0.00/1.59M [00:00<?, ?B/s]"
            ],
            "application/vnd.jupyter.widget-view+json": {
              "version_major": 2,
              "version_minor": 0,
              "model_id": "5d05acef83e04ecca989cf2e532c09fc"
            }
          },
          "metadata": {}
        },
        {
          "output_type": "display_data",
          "data": {
            "text/plain": [
              "tokenizer_config.json:   0%|          | 0.00/1.30k [00:00<?, ?B/s]"
            ],
            "application/vnd.jupyter.widget-view+json": {
              "version_major": 2,
              "version_minor": 0,
              "model_id": "c5f3220e388f4e50be61c96d7cde034e"
            }
          },
          "metadata": {}
        },
        {
          "output_type": "display_data",
          "data": {
            "text/plain": [
              "vocab.json:   0%|          | 0.00/3.38M [00:00<?, ?B/s]"
            ],
            "application/vnd.jupyter.widget-view+json": {
              "version_major": 2,
              "version_minor": 0,
              "model_id": "fb68472adde14b1885b5d16ea807dbf6"
            }
          },
          "metadata": {}
        },
        {
          "output_type": "display_data",
          "data": {
            "text/plain": [
              "merges.txt:   0%|          | 0.00/1.67M [00:00<?, ?B/s]"
            ],
            "application/vnd.jupyter.widget-view+json": {
              "version_major": 2,
              "version_minor": 0,
              "model_id": "81b82212d083410faedb7f95572c0d6f"
            }
          },
          "metadata": {}
        },
        {
          "output_type": "display_data",
          "data": {
            "text/plain": [
              "added_tokens.json:   0%|          | 0.00/80.0 [00:00<?, ?B/s]"
            ],
            "application/vnd.jupyter.widget-view+json": {
              "version_major": 2,
              "version_minor": 0,
              "model_id": "01f6f193f6904de7b84079427b3c53ab"
            }
          },
          "metadata": {}
        },
        {
          "output_type": "display_data",
          "data": {
            "text/plain": [
              "special_tokens_map.json:   0%|          | 0.00/256 [00:00<?, ?B/s]"
            ],
            "application/vnd.jupyter.widget-view+json": {
              "version_major": 2,
              "version_minor": 0,
              "model_id": "628b370b6b324751b421221ff854bef8"
            }
          },
          "metadata": {}
        }
      ]
    },
    {
      "cell_type": "code",
      "source": [
        "print(modelHF.name_or_path)\n",
        "print(tokenizerHF.name_or_path)"
      ],
      "metadata": {
        "colab": {
          "base_uri": "https://localhost:8080/"
        },
        "id": "RDVGySAVuaNE",
        "outputId": "91f53ac3-fbed-4043-ba4f-a28d9f4e8738"
      },
      "execution_count": null,
      "outputs": [
        {
          "output_type": "stream",
          "name": "stdout",
          "text": [
            "Qwen/Qwen1.5-0.5B\n",
            "RohiniPS/Qwen1B-QnA-3-2\n",
            "Qwen/Qwen1.5-0.5B\n"
          ]
        }
      ]
    },
    {
      "cell_type": "code",
      "source": [
        "import torch\n",
        "device = torch.device('cuda' if torch.cuda.is_available() else 'cpu')\n",
        "device\n",
        "\n",
        "modelHF = modelHF.to(device)"
      ],
      "metadata": {
        "id": "jWITFfb9vd7I"
      },
      "execution_count": null,
      "outputs": []
    },
    {
      "cell_type": "code",
      "source": [
        "def ask_question_HFModel1(question):\n",
        "    inputs = tokenizerHF.encode('Q: ' + question + ' A:', return_tensors='pt').to(device)\n",
        "    attention_mask = torch.ones(inputs.shape, device=device)\n",
        "    outputs = modelHF.generate(inputs, attention_mask = attention_mask, max_new_tokens=100, num_return_sequences=1, )\n",
        "    gen_text = tokenizerHF.decode(outputs[0], skip_special_tokens=True)\n",
        "    '''print(inputs)\n",
        "    print(attention_mask)\n",
        "    print(outputs)\n",
        "    print(gen_text)\n",
        "    exit'''\n",
        "    question, answer = gen_text.split(' A:')\n",
        "    return question, answer\n"
      ],
      "metadata": {
        "id": "Bj4UWPQtoMG7"
      },
      "execution_count": null,
      "outputs": []
    },
    {
      "cell_type": "code",
      "source": [
        "modelHF.name_or_path"
      ],
      "metadata": {
        "colab": {
          "base_uri": "https://localhost:8080/",
          "height": 37
        },
        "id": "h7am8MbhGtS5",
        "outputId": "496e1d6f-5d06-428c-a728-5d6b4497fd13"
      },
      "execution_count": null,
      "outputs": [
        {
          "output_type": "execute_result",
          "data": {
            "text/plain": [
              "'Qwen/Qwen1.5-0.5B'"
            ],
            "application/vnd.google.colaboratory.intrinsic+json": {
              "type": "string"
            }
          },
          "metadata": {},
          "execution_count": 68
        }
      ]
    },
    {
      "cell_type": "code",
      "source": [
        "#Using classes from HF\n",
        "sQuestion, sAnswer = ask_question_HFModel1(\"What is K-means clustering?\")\n",
        "sQuestion, \"Answer: \" + sAnswer"
      ],
      "metadata": {
        "colab": {
          "base_uri": "https://localhost:8080/"
        },
        "id": "D_tdHTUSoU2g",
        "outputId": "2ded83a4-cd2a-4af9-e025-5c82556e8367"
      },
      "execution_count": null,
      "outputs": [
        {
          "output_type": "execute_result",
          "data": {
            "text/plain": [
              "('Q: What is K-means clustering?',\n",
              " 'Answer:  K-means clustering is a technique used to group similar data points together. It involves assigning each data point to the nearest centroid, which is the point closest to the centroid. The number of clusters is determined by the number of centroids.')"
            ]
          },
          "metadata": {},
          "execution_count": 67
        }
      ]
    },
    {
      "cell_type": "code",
      "source": [
        "def ask_question(question):\n",
        "    inputs = tokenizer.encode('Q: ' + question + ' A:', return_tensors='pt').to(device)\n",
        "    attention_mask = torch.ones(inputs.shape, device=device)\n",
        "    outputs = model.generate(inputs, attention_mask = attention_mask, max_new_tokens=100, num_return_sequences=1, )\n",
        "    gen_text = tokenizer.decode(outputs[0], skip_special_tokens=True)\n",
        "    '''print(inputs)\n",
        "    print(attention_mask)\n",
        "    print(outputs)\n",
        "    print(gen_text)\n",
        "    exit'''\n",
        "    question, answer = gen_text.split(' A:')\n",
        "    return question, answer"
      ],
      "metadata": {
        "id": "SweoJItSvd7K"
      },
      "execution_count": null,
      "outputs": []
    },
    {
      "cell_type": "code",
      "source": [
        "#\n",
        "sQuestion, sAnswer = ask_question(\"What is K-means clustering?\")\n",
        "sQuestion, \"Answer: \" + sAnswer"
      ],
      "metadata": {
        "colab": {
          "base_uri": "https://localhost:8080/"
        },
        "id": "RaEn_EH6yRr-",
        "outputId": "3ef8950d-6428-4ae9-e25b-ffae78d37cad"
      },
      "execution_count": null,
      "outputs": [
        {
          "output_type": "execute_result",
          "data": {
            "text/plain": [
              "('Q: What is K-means clustering?',\n",
              " 'Answer:  K-means clustering is a technique used to group similar data points together. It involves assigning each data point to the nearest centroid, which is the point closest to the centroid. The number of clusters is determined by the number of centroids.')"
            ]
          },
          "metadata": {},
          "execution_count": 70
        }
      ]
    },
    {
      "cell_type": "markdown",
      "source": [
        "##### **HF - Rouge**"
      ],
      "metadata": {
        "id": "9qVTrT2mw1W_"
      }
    },
    {
      "cell_type": "code",
      "source": [
        "modelHF.name_or_path\n",
        "tokenizerHF.name_or_path"
      ],
      "metadata": {
        "colab": {
          "base_uri": "https://localhost:8080/",
          "height": 37
        },
        "id": "emmw72S-fBFr",
        "outputId": "e5cd13b6-278e-4ca6-965f-73f08c09c302"
      },
      "execution_count": null,
      "outputs": [
        {
          "output_type": "execute_result",
          "data": {
            "text/plain": [
              "'RohiniPS/Qwen1B-QnA-3-5'"
            ],
            "application/vnd.google.colaboratory.intrinsic+json": {
              "type": "string"
            }
          },
          "metadata": {},
          "execution_count": 71
        }
      ]
    },
    {
      "cell_type": "code",
      "source": [
        "##Format data before mapping into tokenised dataset\n",
        "max_input_length = 128\n",
        "max_target_length = 128\n",
        "tokenizerHF.pad_token= tokenizerHF.eos_token\n",
        "\n",
        "def format_data(examples):\n",
        "    inputs = [q + \"\\n\" + a for q, a in zip(examples['question'], examples['answer'])]\n",
        "    model_inputs = tokenizerHF(inputs, max_length=max_input_length, truncation=True, padding=\"max_length\")\n",
        "    labels = model_inputs['input_ids'].copy()\n",
        "    model_inputs['labels'] = labels\n",
        "    return model_inputs\n",
        "\n",
        "tokenized_datasets = medium_datasets.map(format_data, batched=True)\n",
        "tokenized_datasets"
      ],
      "metadata": {
        "id": "BMXvbiXr4ZoZ",
        "colab": {
          "base_uri": "https://localhost:8080/",
          "height": 381,
          "referenced_widgets": [
            "3cc65eb29eca47a096f37e4ff2725370",
            "366e214a41e345c39468ad6e6b8b2b0a",
            "97f7cc75255e4cddb3ad0f27dc129c91",
            "c47388fcc9484daeb4371bf63e29ff88",
            "b6a29955063e4936b65201d976be8432",
            "acc91623212445d89dde08c3c2f21a2d",
            "1ab2048d0e904a2ba3351f7096e91c4c",
            "619ba9acd99c40f4807c8188fe7bbd0f",
            "abaf60249e4347f7b4ac306249852a4b",
            "fefe997b9cbf4097a8adb774096368ee",
            "fd16156d4e484b4e819a2553c1609e3e",
            "bf4870ba56bb4dcfac49b560f8aada1e",
            "6771f97ae0bd41aeab035b8681f02286",
            "d2f51fe1c6a44d45b5ab847b8a1408b5",
            "8630bbe52d2b497eaf686888b3c26480",
            "3838ef73ec4743b59ff76ba07fca39bc",
            "7cf2eaf062f3486dafa8efaa715ac834",
            "31a441947ea54b859b2bac0003e531e8",
            "24d80b7297734415a9a42b3971c31cb0",
            "d12d9bd80db24c9e863428f7e7d4cdeb",
            "7a82701961304c9d85c6b3fc294ee6ed",
            "ac8275348b6148feb84f449a4552aef9",
            "a7ec49b34f354dbf96987a7dff2cd4bb",
            "d3b642aa5be542939467b2878111f88b",
            "c049d9deb32349f78129e8ecd8ec1fd3",
            "7dc876535b75433f8ace12d25a14506e",
            "842ed0d3c2314432885cc3ea0990d21b",
            "eb7174598c8942ba910d2521aa03ea7d",
            "ec6cddf57dbd46268c1ec98da22b26bf",
            "7328c7b7ccb04417ae8e7b1797087d21",
            "9a1d1cfc39a74dde9d0187c888fcae9f",
            "7478ed83fade43e790e7cc6165a7636e",
            "dd90aa99f98f444a92a9c5ac38c40dc3"
          ]
        },
        "outputId": "0e8901e1-fd6b-438c-d9f7-53bb3a4ea4f9"
      },
      "execution_count": null,
      "outputs": [
        {
          "output_type": "display_data",
          "data": {
            "text/plain": [
              "Map:   0%|          | 0/800 [00:00<?, ? examples/s]"
            ],
            "application/vnd.jupyter.widget-view+json": {
              "version_major": 2,
              "version_minor": 0,
              "model_id": "3cc65eb29eca47a096f37e4ff2725370"
            }
          },
          "metadata": {}
        },
        {
          "output_type": "display_data",
          "data": {
            "text/plain": [
              "Map:   0%|          | 0/100 [00:00<?, ? examples/s]"
            ],
            "application/vnd.jupyter.widget-view+json": {
              "version_major": 2,
              "version_minor": 0,
              "model_id": "bf4870ba56bb4dcfac49b560f8aada1e"
            }
          },
          "metadata": {}
        },
        {
          "output_type": "display_data",
          "data": {
            "text/plain": [
              "Map:   0%|          | 0/127 [00:00<?, ? examples/s]"
            ],
            "application/vnd.jupyter.widget-view+json": {
              "version_major": 2,
              "version_minor": 0,
              "model_id": "a7ec49b34f354dbf96987a7dff2cd4bb"
            }
          },
          "metadata": {}
        },
        {
          "output_type": "execute_result",
          "data": {
            "text/plain": [
              "DatasetDict({\n",
              "    train: Dataset({\n",
              "        features: ['id', 'question', 'answer', 'unit', 'input_ids', 'attention_mask', 'labels'],\n",
              "        num_rows: 800\n",
              "    })\n",
              "    validation: Dataset({\n",
              "        features: ['id', 'question', 'answer', 'unit', 'input_ids', 'attention_mask', 'labels'],\n",
              "        num_rows: 100\n",
              "    })\n",
              "    test: Dataset({\n",
              "        features: ['id', 'question', 'answer', 'unit', 'input_ids', 'attention_mask', 'labels'],\n",
              "        num_rows: 127\n",
              "    })\n",
              "})"
            ]
          },
          "metadata": {},
          "execution_count": 25
        }
      ]
    },
    {
      "cell_type": "code",
      "source": [
        "##ROUGE metric  -- (For Qwen)\n",
        "\n",
        "#!pip install datasets==2.21.0 transformers peft torch rouge-score nltk\n",
        "import numpy as np\n",
        "rouge = load_metric(\"rouge\")  ##evaluate.load\n",
        "\n",
        "def compute_metrics_HFModel(eval_pred):\n",
        "    qPredictions, qReferences = eval_pred\n",
        "    qPredictions = np.argmax(qPredictions, axis=-1)  # Get the index of the highest logit (token ID)\n",
        "\n",
        "    decoded_preds = []  #list of predictions to score. Each prediction should be a string with tokens separated by spaces.\n",
        "    decoded_ref = []    #list of reference for each prediction or a list of several references per prediction. Each reference should be a string with tokens separated by spaces.\n",
        "\n",
        "    for pred, label in zip(qPredictions, qReferences):\n",
        "        # Decode the token IDs (skip special tokens)\n",
        "        decoded_preds.append(tokenizerHF.decode(pred, skip_special_tokens=True))\n",
        "        decoded_ref.append(tokenizerHF.decode(label, skip_special_tokens=True))\n",
        "\n",
        "    bUseAggregator = True  #Use_aggregator - If True, returns aggregates. Defaults to True.\n",
        "    bUseStemmer = True  #Use_stemmer - If True, uses Porter stemmer to strip word suffixes. Defaults to False.\n",
        "\n",
        "    # Compute ROUGE\n",
        "    rouge_scores = rouge.compute(predictions=decoded_preds, references=decoded_ref, use_stemmer=bUseStemmer) #, bUseAggregator)   # ,tokenizer=lambda x: x.split())\n",
        "\n",
        "    rouge1 = rouge_scores['rouge1'].mid.fmeasure   #unigram (1-gram) based scoring\n",
        "    rouge2 = rouge_scores['rouge2'].mid.fmeasure  #unigram (1-gram) based scoring\n",
        "    rougeL = rouge_scores['rougeL'].mid.fmeasure  #Longest common subsequence based scoring\n",
        "    rougeLsum = rouge_scores['rougeLsum'].mid.fmeasure  #splits text using \"\\n\"\n",
        "\n",
        "    print(rouge_scores)\n",
        "    #print(\"rougeLsum : \" + rouge1+ \",  rouge2 :\" + rouge2+ \",  rouge3 :\" + rougeL + \",  rougeLsum :\" + str(rougeLsum))\n",
        "\n",
        "    return { \"rouge1\": rouge1, \"rouge2\": rouge2, \"rougeL\": rougeL, \"rougeLsum\": rougeLsum }"
      ],
      "metadata": {
        "id": "6ukl3Dk1w1XA",
        "colab": {
          "base_uri": "https://localhost:8080/",
          "height": 184,
          "referenced_widgets": [
            "8247875f6c584242a7041035692a405a",
            "e4eb3b8d38cb488e9475ec7975ec2482",
            "bbe8f8292fec4ae88b9a4c2001a11aab",
            "796afc3f7138494d8774b1064dce030d",
            "cc7e80732efd44cf868b5e2cad88abfa",
            "f85bc2a802e14501a904f3952868fa6d",
            "aeb4ff076b8c40beb4394b555b76c257",
            "f156de24a16a43b9bd92f5383b7ae358",
            "efa59eaaacc146e5a5091570738f46fc",
            "853702c037b04c5986c456044f33181c",
            "9a03deaf8ea94527b377a85a30f3320a"
          ]
        },
        "outputId": "3de14109-e39d-4cb7-da98-acb155630ffa"
      },
      "execution_count": null,
      "outputs": [
        {
          "output_type": "stream",
          "name": "stderr",
          "text": [
            "<ipython-input-24-532391186020>:5: FutureWarning: load_metric is deprecated and will be removed in the next major version of datasets. Use 'evaluate.load' instead, from the new library 🤗 Evaluate: https://huggingface.co/docs/evaluate\n",
            "  rouge = load_metric(\"rouge\")  ##evaluate.load\n"
          ]
        },
        {
          "output_type": "display_data",
          "data": {
            "text/plain": [
              "Downloading builder script:   0%|          | 0.00/2.17k [00:00<?, ?B/s]"
            ],
            "application/vnd.jupyter.widget-view+json": {
              "version_major": 2,
              "version_minor": 0,
              "model_id": "8247875f6c584242a7041035692a405a"
            }
          },
          "metadata": {}
        },
        {
          "name": "stdout",
          "output_type": "stream",
          "text": [
            "The repository for rouge contains custom code which must be executed to correctly load the dataset. You can inspect the repository content at https://hf.co/datasets/rouge.\n",
            "You can avoid this prompt in future by passing the argument `trust_remote_code=True`.\n",
            "\n",
            "Do you wish to run the custom code? [y/N] y\n"
          ]
        }
      ]
    },
    {
      "cell_type": "code",
      "source": [
        "#Eval using Test dataset\n",
        "from transformers import Trainer\n",
        "\n",
        "# Update training_args to disable mixed precision\n",
        "#training_args.bf16 = False\n",
        "\n",
        "trainerHF = Trainer(\n",
        "    modelHF,\n",
        "    args=training_args,\n",
        "    #model_max_length= 8192, #Qwen\n",
        "    train_dataset=tokenized_datasets[\"validation\"],\n",
        "    eval_dataset=tokenized_datasets[\"test\"],\n",
        "    #test_dataset=tokenized_datasets[\"test\"],\n",
        "    #data_collator=data_collator,\n",
        "    tokenizer=tokenizerHF,\n",
        "    compute_metrics=compute_metrics_HFModel,\n",
        "    preprocess_logits_for_metrics=None,\n",
        ")\n"
      ],
      "metadata": {
        "colab": {
          "base_uri": "https://localhost:8080/"
        },
        "outputId": "88b89065-41d0-4f39-deed-a3c396586da2",
        "id": "uP4EDO9WnszG"
      },
      "execution_count": null,
      "outputs": [
        {
          "output_type": "stream",
          "name": "stderr",
          "text": [
            "/usr/local/lib/python3.10/dist-packages/accelerate/accelerator.py:494: FutureWarning: `torch.cuda.amp.GradScaler(args...)` is deprecated. Please use `torch.amp.GradScaler('cuda', args...)` instead.\n",
            "  self.scaler = torch.cuda.amp.GradScaler(**kwargs)\n"
          ]
        }
      ]
    },
    {
      "cell_type": "code",
      "source": [
        "trainerHF.train_dataset.shape"
      ],
      "metadata": {
        "colab": {
          "base_uri": "https://localhost:8080/"
        },
        "id": "GxksnhgdzwzC",
        "outputId": "5fae5d3f-d7e3-416d-e129-9f51e05d7063"
      },
      "execution_count": null,
      "outputs": [
        {
          "output_type": "execute_result",
          "data": {
            "text/plain": [
              "(100, 7)"
            ]
          },
          "metadata": {},
          "execution_count": 30
        }
      ]
    },
    {
      "cell_type": "code",
      "source": [
        "device=\"cuda\"\n",
        "trainerHF.train()"
      ],
      "metadata": {
        "colab": {
          "base_uri": "https://localhost:8080/",
          "height": 425
        },
        "collapsed": true,
        "outputId": "792e2486-6e44-453b-f300-f88b6bf619a2",
        "id": "FsliHrYtnszK"
      },
      "execution_count": null,
      "outputs": [
        {
          "output_type": "stream",
          "name": "stderr",
          "text": [
            "/usr/local/lib/python3.10/dist-packages/torch/_dynamo/eval_frame.py:600: UserWarning: torch.utils.checkpoint: the use_reentrant parameter should be passed explicitly. In version 2.4 we will raise an exception if use_reentrant is not passed. use_reentrant=False is recommended, but if you need to preserve the current default behavior, you can pass use_reentrant=True. Refer to docs for more details on the differences between the two variants.\n",
            "  return fn(*args, **kwargs)\n",
            "/usr/local/lib/python3.10/dist-packages/torch/utils/checkpoint.py:295: FutureWarning: `torch.cpu.amp.autocast(args...)` is deprecated. Please use `torch.amp.autocast('cpu', args...)` instead.\n",
            "  with torch.enable_grad(), device_autocast_ctx, torch.cpu.amp.autocast(**ctx.cpu_autocast_kwargs):  # type: ignore[attr-defined]\n"
          ]
        },
        {
          "output_type": "error",
          "ename": "AssertionError",
          "evalue": "No inf checks were recorded for this optimizer.",
          "traceback": [
            "\u001b[0;31m---------------------------------------------------------------------------\u001b[0m",
            "\u001b[0;31mAssertionError\u001b[0m                            Traceback (most recent call last)",
            "\u001b[0;32m<ipython-input-31-de3f5c2c7989>\u001b[0m in \u001b[0;36m<cell line: 2>\u001b[0;34m()\u001b[0m\n\u001b[1;32m      1\u001b[0m \u001b[0mdevice\u001b[0m\u001b[0;34m=\u001b[0m\u001b[0;34m\"cuda\"\u001b[0m\u001b[0;34m\u001b[0m\u001b[0;34m\u001b[0m\u001b[0m\n\u001b[0;32m----> 2\u001b[0;31m \u001b[0mtrainerHF\u001b[0m\u001b[0;34m.\u001b[0m\u001b[0mtrain\u001b[0m\u001b[0;34m(\u001b[0m\u001b[0;34m)\u001b[0m\u001b[0;34m\u001b[0m\u001b[0;34m\u001b[0m\u001b[0m\n\u001b[0m",
            "\u001b[0;32m/usr/local/lib/python3.10/dist-packages/transformers/trainer.py\u001b[0m in \u001b[0;36mtrain\u001b[0;34m(self, resume_from_checkpoint, trial, ignore_keys_for_eval, **kwargs)\u001b[0m\n\u001b[1;32m   1936\u001b[0m                 \u001b[0mhf_hub_utils\u001b[0m\u001b[0;34m.\u001b[0m\u001b[0menable_progress_bars\u001b[0m\u001b[0;34m(\u001b[0m\u001b[0;34m)\u001b[0m\u001b[0;34m\u001b[0m\u001b[0;34m\u001b[0m\u001b[0m\n\u001b[1;32m   1937\u001b[0m         \u001b[0;32melse\u001b[0m\u001b[0;34m:\u001b[0m\u001b[0;34m\u001b[0m\u001b[0;34m\u001b[0m\u001b[0m\n\u001b[0;32m-> 1938\u001b[0;31m             return inner_training_loop(\n\u001b[0m\u001b[1;32m   1939\u001b[0m                 \u001b[0margs\u001b[0m\u001b[0;34m=\u001b[0m\u001b[0margs\u001b[0m\u001b[0;34m,\u001b[0m\u001b[0;34m\u001b[0m\u001b[0;34m\u001b[0m\u001b[0m\n\u001b[1;32m   1940\u001b[0m                 \u001b[0mresume_from_checkpoint\u001b[0m\u001b[0;34m=\u001b[0m\u001b[0mresume_from_checkpoint\u001b[0m\u001b[0;34m,\u001b[0m\u001b[0;34m\u001b[0m\u001b[0;34m\u001b[0m\u001b[0m\n",
            "\u001b[0;32m/usr/local/lib/python3.10/dist-packages/transformers/trainer.py\u001b[0m in \u001b[0;36m_inner_training_loop\u001b[0;34m(self, batch_size, args, resume_from_checkpoint, trial, ignore_keys_for_eval)\u001b[0m\n\u001b[1;32m   2339\u001b[0m                             \u001b[0mgrad_norm\u001b[0m \u001b[0;34m=\u001b[0m \u001b[0m_grad_norm\u001b[0m\u001b[0;34m\u001b[0m\u001b[0;34m\u001b[0m\u001b[0m\n\u001b[1;32m   2340\u001b[0m \u001b[0;34m\u001b[0m\u001b[0m\n\u001b[0;32m-> 2341\u001b[0;31m                     \u001b[0mself\u001b[0m\u001b[0;34m.\u001b[0m\u001b[0moptimizer\u001b[0m\u001b[0;34m.\u001b[0m\u001b[0mstep\u001b[0m\u001b[0;34m(\u001b[0m\u001b[0;34m)\u001b[0m\u001b[0;34m\u001b[0m\u001b[0;34m\u001b[0m\u001b[0m\n\u001b[0m\u001b[1;32m   2342\u001b[0m \u001b[0;34m\u001b[0m\u001b[0m\n\u001b[1;32m   2343\u001b[0m                     \u001b[0mself\u001b[0m\u001b[0;34m.\u001b[0m\u001b[0mcontrol\u001b[0m \u001b[0;34m=\u001b[0m \u001b[0mself\u001b[0m\u001b[0;34m.\u001b[0m\u001b[0mcallback_handler\u001b[0m\u001b[0;34m.\u001b[0m\u001b[0mon_optimizer_step\u001b[0m\u001b[0;34m(\u001b[0m\u001b[0margs\u001b[0m\u001b[0;34m,\u001b[0m \u001b[0mself\u001b[0m\u001b[0;34m.\u001b[0m\u001b[0mstate\u001b[0m\u001b[0;34m,\u001b[0m \u001b[0mself\u001b[0m\u001b[0;34m.\u001b[0m\u001b[0mcontrol\u001b[0m\u001b[0;34m)\u001b[0m\u001b[0;34m\u001b[0m\u001b[0;34m\u001b[0m\u001b[0m\n",
            "\u001b[0;32m/usr/local/lib/python3.10/dist-packages/accelerate/optimizer.py\u001b[0m in \u001b[0;36mstep\u001b[0;34m(self, closure)\u001b[0m\n\u001b[1;32m    157\u001b[0m                 \u001b[0mself\u001b[0m\u001b[0;34m.\u001b[0m\u001b[0moptimizer\u001b[0m\u001b[0;34m.\u001b[0m\u001b[0mstep\u001b[0m \u001b[0;34m=\u001b[0m \u001b[0mself\u001b[0m\u001b[0;34m.\u001b[0m\u001b[0m_optimizer_patched_step_method\u001b[0m\u001b[0;34m\u001b[0m\u001b[0;34m\u001b[0m\u001b[0m\n\u001b[1;32m    158\u001b[0m \u001b[0;34m\u001b[0m\u001b[0m\n\u001b[0;32m--> 159\u001b[0;31m                 \u001b[0mself\u001b[0m\u001b[0;34m.\u001b[0m\u001b[0mscaler\u001b[0m\u001b[0;34m.\u001b[0m\u001b[0mstep\u001b[0m\u001b[0;34m(\u001b[0m\u001b[0mself\u001b[0m\u001b[0;34m.\u001b[0m\u001b[0moptimizer\u001b[0m\u001b[0;34m,\u001b[0m \u001b[0mclosure\u001b[0m\u001b[0;34m)\u001b[0m\u001b[0;34m\u001b[0m\u001b[0;34m\u001b[0m\u001b[0m\n\u001b[0m\u001b[1;32m    160\u001b[0m                 \u001b[0mself\u001b[0m\u001b[0;34m.\u001b[0m\u001b[0mscaler\u001b[0m\u001b[0;34m.\u001b[0m\u001b[0mupdate\u001b[0m\u001b[0;34m(\u001b[0m\u001b[0;34m)\u001b[0m\u001b[0;34m\u001b[0m\u001b[0;34m\u001b[0m\u001b[0m\n\u001b[1;32m    161\u001b[0m \u001b[0;34m\u001b[0m\u001b[0m\n",
            "\u001b[0;32m/usr/local/lib/python3.10/dist-packages/torch/amp/grad_scaler.py\u001b[0m in \u001b[0;36mstep\u001b[0;34m(self, optimizer, *args, **kwargs)\u001b[0m\n\u001b[1;32m    449\u001b[0m \u001b[0;34m\u001b[0m\u001b[0m\n\u001b[1;32m    450\u001b[0m         assert (\n\u001b[0;32m--> 451\u001b[0;31m             \u001b[0mlen\u001b[0m\u001b[0;34m(\u001b[0m\u001b[0moptimizer_state\u001b[0m\u001b[0;34m[\u001b[0m\u001b[0;34m\"found_inf_per_device\"\u001b[0m\u001b[0;34m]\u001b[0m\u001b[0;34m)\u001b[0m \u001b[0;34m>\u001b[0m \u001b[0;36m0\u001b[0m\u001b[0;34m\u001b[0m\u001b[0;34m\u001b[0m\u001b[0m\n\u001b[0m\u001b[1;32m    452\u001b[0m         ), \"No inf checks were recorded for this optimizer.\"\n\u001b[1;32m    453\u001b[0m \u001b[0;34m\u001b[0m\u001b[0m\n",
            "\u001b[0;31mAssertionError\u001b[0m: No inf checks were recorded for this optimizer."
          ]
        }
      ]
    },
    {
      "cell_type": "code",
      "source": [
        "#Evaluate the deployed model from Hugging face hub\n",
        "trainerHF.evaluate()"
      ],
      "metadata": {
        "collapsed": true,
        "id": "jovhvKRlnszL",
        "colab": {
          "base_uri": "https://localhost:8080/",
          "height": 310
        },
        "outputId": "99680c75-dd9e-4304-d01d-edcb895fa00f"
      },
      "execution_count": null,
      "outputs": [
        {
          "output_type": "error",
          "ename": "AttributeError",
          "evalue": "'NotebookTrainingTracker' object has no attribute 'value'",
          "traceback": [
            "\u001b[0;31m---------------------------------------------------------------------------\u001b[0m",
            "\u001b[0;31mAttributeError\u001b[0m                            Traceback (most recent call last)",
            "\u001b[0;32m<ipython-input-32-b0d5f73362d5>\u001b[0m in \u001b[0;36m<cell line: 1>\u001b[0;34m()\u001b[0m\n\u001b[0;32m----> 1\u001b[0;31m \u001b[0mtrainerHF\u001b[0m\u001b[0;34m.\u001b[0m\u001b[0mevaluate\u001b[0m\u001b[0;34m(\u001b[0m\u001b[0;34m)\u001b[0m\u001b[0;34m\u001b[0m\u001b[0;34m\u001b[0m\u001b[0m\n\u001b[0m",
            "\u001b[0;32m/usr/local/lib/python3.10/dist-packages/transformers/trainer.py\u001b[0m in \u001b[0;36mevaluate\u001b[0;34m(self, eval_dataset, ignore_keys, metric_key_prefix)\u001b[0m\n\u001b[1;32m   3664\u001b[0m \u001b[0;34m\u001b[0m\u001b[0m\n\u001b[1;32m   3665\u001b[0m         \u001b[0meval_loop\u001b[0m \u001b[0;34m=\u001b[0m \u001b[0mself\u001b[0m\u001b[0;34m.\u001b[0m\u001b[0mprediction_loop\u001b[0m \u001b[0;32mif\u001b[0m \u001b[0mself\u001b[0m\u001b[0;34m.\u001b[0m\u001b[0margs\u001b[0m\u001b[0;34m.\u001b[0m\u001b[0muse_legacy_prediction_loop\u001b[0m \u001b[0;32melse\u001b[0m \u001b[0mself\u001b[0m\u001b[0;34m.\u001b[0m\u001b[0mevaluation_loop\u001b[0m\u001b[0;34m\u001b[0m\u001b[0;34m\u001b[0m\u001b[0m\n\u001b[0;32m-> 3666\u001b[0;31m         output = eval_loop(\n\u001b[0m\u001b[1;32m   3667\u001b[0m             \u001b[0meval_dataloader\u001b[0m\u001b[0;34m,\u001b[0m\u001b[0;34m\u001b[0m\u001b[0;34m\u001b[0m\u001b[0m\n\u001b[1;32m   3668\u001b[0m             \u001b[0mdescription\u001b[0m\u001b[0;34m=\u001b[0m\u001b[0;34m\"Evaluation\"\u001b[0m\u001b[0;34m,\u001b[0m\u001b[0;34m\u001b[0m\u001b[0;34m\u001b[0m\u001b[0m\n",
            "\u001b[0;32m/usr/local/lib/python3.10/dist-packages/transformers/trainer.py\u001b[0m in \u001b[0;36mevaluation_loop\u001b[0;34m(self, dataloader, description, prediction_loss_only, ignore_keys, metric_key_prefix)\u001b[0m\n\u001b[1;32m   3886\u001b[0m                     \u001b[0mall_labels\u001b[0m\u001b[0;34m.\u001b[0m\u001b[0madd\u001b[0m\u001b[0;34m(\u001b[0m\u001b[0mlabels\u001b[0m\u001b[0;34m)\u001b[0m\u001b[0;34m\u001b[0m\u001b[0;34m\u001b[0m\u001b[0m\n\u001b[1;32m   3887\u001b[0m \u001b[0;34m\u001b[0m\u001b[0m\n\u001b[0;32m-> 3888\u001b[0;31m             \u001b[0mself\u001b[0m\u001b[0;34m.\u001b[0m\u001b[0mcontrol\u001b[0m \u001b[0;34m=\u001b[0m \u001b[0mself\u001b[0m\u001b[0;34m.\u001b[0m\u001b[0mcallback_handler\u001b[0m\u001b[0;34m.\u001b[0m\u001b[0mon_prediction_step\u001b[0m\u001b[0;34m(\u001b[0m\u001b[0margs\u001b[0m\u001b[0;34m,\u001b[0m \u001b[0mself\u001b[0m\u001b[0;34m.\u001b[0m\u001b[0mstate\u001b[0m\u001b[0;34m,\u001b[0m \u001b[0mself\u001b[0m\u001b[0;34m.\u001b[0m\u001b[0mcontrol\u001b[0m\u001b[0;34m)\u001b[0m\u001b[0;34m\u001b[0m\u001b[0;34m\u001b[0m\u001b[0m\n\u001b[0m\u001b[1;32m   3889\u001b[0m \u001b[0;34m\u001b[0m\u001b[0m\n\u001b[1;32m   3890\u001b[0m             \u001b[0;32mif\u001b[0m \u001b[0mself\u001b[0m\u001b[0;34m.\u001b[0m\u001b[0margs\u001b[0m\u001b[0;34m.\u001b[0m\u001b[0mbatch_eval_metrics\u001b[0m\u001b[0;34m:\u001b[0m\u001b[0;34m\u001b[0m\u001b[0;34m\u001b[0m\u001b[0m\n",
            "\u001b[0;32m/usr/local/lib/python3.10/dist-packages/transformers/trainer_callback.py\u001b[0m in \u001b[0;36mon_prediction_step\u001b[0;34m(self, args, state, control)\u001b[0m\n\u001b[1;32m    501\u001b[0m \u001b[0;34m\u001b[0m\u001b[0m\n\u001b[1;32m    502\u001b[0m     \u001b[0;32mdef\u001b[0m \u001b[0mon_prediction_step\u001b[0m\u001b[0;34m(\u001b[0m\u001b[0mself\u001b[0m\u001b[0;34m,\u001b[0m \u001b[0margs\u001b[0m\u001b[0;34m:\u001b[0m \u001b[0mTrainingArguments\u001b[0m\u001b[0;34m,\u001b[0m \u001b[0mstate\u001b[0m\u001b[0;34m:\u001b[0m \u001b[0mTrainerState\u001b[0m\u001b[0;34m,\u001b[0m \u001b[0mcontrol\u001b[0m\u001b[0;34m:\u001b[0m \u001b[0mTrainerControl\u001b[0m\u001b[0;34m)\u001b[0m\u001b[0;34m:\u001b[0m\u001b[0;34m\u001b[0m\u001b[0;34m\u001b[0m\u001b[0m\n\u001b[0;32m--> 503\u001b[0;31m         \u001b[0;32mreturn\u001b[0m \u001b[0mself\u001b[0m\u001b[0;34m.\u001b[0m\u001b[0mcall_event\u001b[0m\u001b[0;34m(\u001b[0m\u001b[0;34m\"on_prediction_step\"\u001b[0m\u001b[0;34m,\u001b[0m \u001b[0margs\u001b[0m\u001b[0;34m,\u001b[0m \u001b[0mstate\u001b[0m\u001b[0;34m,\u001b[0m \u001b[0mcontrol\u001b[0m\u001b[0;34m)\u001b[0m\u001b[0;34m\u001b[0m\u001b[0;34m\u001b[0m\u001b[0m\n\u001b[0m\u001b[1;32m    504\u001b[0m \u001b[0;34m\u001b[0m\u001b[0m\n\u001b[1;32m    505\u001b[0m     \u001b[0;32mdef\u001b[0m \u001b[0mcall_event\u001b[0m\u001b[0;34m(\u001b[0m\u001b[0mself\u001b[0m\u001b[0;34m,\u001b[0m \u001b[0mevent\u001b[0m\u001b[0;34m,\u001b[0m \u001b[0margs\u001b[0m\u001b[0;34m,\u001b[0m \u001b[0mstate\u001b[0m\u001b[0;34m,\u001b[0m \u001b[0mcontrol\u001b[0m\u001b[0;34m,\u001b[0m \u001b[0;34m**\u001b[0m\u001b[0mkwargs\u001b[0m\u001b[0;34m)\u001b[0m\u001b[0;34m:\u001b[0m\u001b[0;34m\u001b[0m\u001b[0;34m\u001b[0m\u001b[0m\n",
            "\u001b[0;32m/usr/local/lib/python3.10/dist-packages/transformers/trainer_callback.py\u001b[0m in \u001b[0;36mcall_event\u001b[0;34m(self, event, args, state, control, **kwargs)\u001b[0m\n\u001b[1;32m    505\u001b[0m     \u001b[0;32mdef\u001b[0m \u001b[0mcall_event\u001b[0m\u001b[0;34m(\u001b[0m\u001b[0mself\u001b[0m\u001b[0;34m,\u001b[0m \u001b[0mevent\u001b[0m\u001b[0;34m,\u001b[0m \u001b[0margs\u001b[0m\u001b[0;34m,\u001b[0m \u001b[0mstate\u001b[0m\u001b[0;34m,\u001b[0m \u001b[0mcontrol\u001b[0m\u001b[0;34m,\u001b[0m \u001b[0;34m**\u001b[0m\u001b[0mkwargs\u001b[0m\u001b[0;34m)\u001b[0m\u001b[0;34m:\u001b[0m\u001b[0;34m\u001b[0m\u001b[0;34m\u001b[0m\u001b[0m\n\u001b[1;32m    506\u001b[0m         \u001b[0;32mfor\u001b[0m \u001b[0mcallback\u001b[0m \u001b[0;32min\u001b[0m \u001b[0mself\u001b[0m\u001b[0;34m.\u001b[0m\u001b[0mcallbacks\u001b[0m\u001b[0;34m:\u001b[0m\u001b[0;34m\u001b[0m\u001b[0;34m\u001b[0m\u001b[0m\n\u001b[0;32m--> 507\u001b[0;31m             result = getattr(callback, event)(\n\u001b[0m\u001b[1;32m    508\u001b[0m                 \u001b[0margs\u001b[0m\u001b[0;34m,\u001b[0m\u001b[0;34m\u001b[0m\u001b[0;34m\u001b[0m\u001b[0m\n\u001b[1;32m    509\u001b[0m                 \u001b[0mstate\u001b[0m\u001b[0;34m,\u001b[0m\u001b[0;34m\u001b[0m\u001b[0;34m\u001b[0m\u001b[0m\n",
            "\u001b[0;32m/usr/local/lib/python3.10/dist-packages/transformers/utils/notebook.py\u001b[0m in \u001b[0;36mon_prediction_step\u001b[0;34m(self, args, state, control, eval_dataloader, **kwargs)\u001b[0m\n\u001b[1;32m    318\u001b[0m             \u001b[0;32melse\u001b[0m\u001b[0;34m:\u001b[0m\u001b[0;34m\u001b[0m\u001b[0;34m\u001b[0m\u001b[0m\n\u001b[1;32m    319\u001b[0m                 \u001b[0mself\u001b[0m\u001b[0;34m.\u001b[0m\u001b[0mprediction_bar\u001b[0m \u001b[0;34m=\u001b[0m \u001b[0mNotebookProgressBar\u001b[0m\u001b[0;34m(\u001b[0m\u001b[0mlen\u001b[0m\u001b[0;34m(\u001b[0m\u001b[0meval_dataloader\u001b[0m\u001b[0;34m)\u001b[0m\u001b[0;34m)\u001b[0m\u001b[0;34m\u001b[0m\u001b[0;34m\u001b[0m\u001b[0m\n\u001b[0;32m--> 320\u001b[0;31m             \u001b[0mself\u001b[0m\u001b[0;34m.\u001b[0m\u001b[0mprediction_bar\u001b[0m\u001b[0;34m.\u001b[0m\u001b[0mupdate\u001b[0m\u001b[0;34m(\u001b[0m\u001b[0;36m1\u001b[0m\u001b[0;34m)\u001b[0m\u001b[0;34m\u001b[0m\u001b[0;34m\u001b[0m\u001b[0m\n\u001b[0m\u001b[1;32m    321\u001b[0m         \u001b[0;32melse\u001b[0m\u001b[0;34m:\u001b[0m\u001b[0;34m\u001b[0m\u001b[0;34m\u001b[0m\u001b[0m\n\u001b[1;32m    322\u001b[0m             \u001b[0mself\u001b[0m\u001b[0;34m.\u001b[0m\u001b[0mprediction_bar\u001b[0m\u001b[0;34m.\u001b[0m\u001b[0mupdate\u001b[0m\u001b[0;34m(\u001b[0m\u001b[0mself\u001b[0m\u001b[0;34m.\u001b[0m\u001b[0mprediction_bar\u001b[0m\u001b[0;34m.\u001b[0m\u001b[0mvalue\u001b[0m \u001b[0;34m+\u001b[0m \u001b[0;36m1\u001b[0m\u001b[0;34m)\u001b[0m\u001b[0;34m\u001b[0m\u001b[0;34m\u001b[0m\u001b[0m\n",
            "\u001b[0;32m/usr/local/lib/python3.10/dist-packages/transformers/utils/notebook.py\u001b[0m in \u001b[0;36mupdate\u001b[0;34m(self, value, force_update, comment)\u001b[0m\n\u001b[1;32m    139\u001b[0m             \u001b[0mself\u001b[0m\u001b[0;34m.\u001b[0m\u001b[0mfirst_calls\u001b[0m \u001b[0;34m=\u001b[0m \u001b[0mself\u001b[0m\u001b[0;34m.\u001b[0m\u001b[0mwarmup\u001b[0m\u001b[0;34m\u001b[0m\u001b[0;34m\u001b[0m\u001b[0m\n\u001b[1;32m    140\u001b[0m             \u001b[0mself\u001b[0m\u001b[0;34m.\u001b[0m\u001b[0mwait_for\u001b[0m \u001b[0;34m=\u001b[0m \u001b[0;36m1\u001b[0m\u001b[0;34m\u001b[0m\u001b[0;34m\u001b[0m\u001b[0m\n\u001b[0;32m--> 141\u001b[0;31m             \u001b[0mself\u001b[0m\u001b[0;34m.\u001b[0m\u001b[0mupdate_bar\u001b[0m\u001b[0;34m(\u001b[0m\u001b[0mvalue\u001b[0m\u001b[0;34m)\u001b[0m\u001b[0;34m\u001b[0m\u001b[0;34m\u001b[0m\u001b[0m\n\u001b[0m\u001b[1;32m    142\u001b[0m         \u001b[0;32melif\u001b[0m \u001b[0mvalue\u001b[0m \u001b[0;34m<=\u001b[0m \u001b[0mself\u001b[0m\u001b[0;34m.\u001b[0m\u001b[0mlast_value\u001b[0m \u001b[0;32mand\u001b[0m \u001b[0;32mnot\u001b[0m \u001b[0mforce_update\u001b[0m\u001b[0;34m:\u001b[0m\u001b[0;34m\u001b[0m\u001b[0;34m\u001b[0m\u001b[0m\n\u001b[1;32m    143\u001b[0m             \u001b[0;32mreturn\u001b[0m\u001b[0;34m\u001b[0m\u001b[0;34m\u001b[0m\u001b[0m\n",
            "\u001b[0;32m/usr/local/lib/python3.10/dist-packages/transformers/utils/notebook.py\u001b[0m in \u001b[0;36mupdate_bar\u001b[0;34m(self, value, comment)\u001b[0m\n\u001b[1;32m    184\u001b[0m \u001b[0;34m\u001b[0m\u001b[0m\n\u001b[1;32m    185\u001b[0m         \u001b[0mself\u001b[0m\u001b[0;34m.\u001b[0m\u001b[0mlabel\u001b[0m \u001b[0;34m+=\u001b[0m \u001b[0;34m\"]\"\u001b[0m \u001b[0;32mif\u001b[0m \u001b[0mself\u001b[0m\u001b[0;34m.\u001b[0m\u001b[0mcomment\u001b[0m \u001b[0;32mis\u001b[0m \u001b[0;32mNone\u001b[0m \u001b[0;32mor\u001b[0m \u001b[0mlen\u001b[0m\u001b[0;34m(\u001b[0m\u001b[0mself\u001b[0m\u001b[0;34m.\u001b[0m\u001b[0mcomment\u001b[0m\u001b[0;34m)\u001b[0m \u001b[0;34m==\u001b[0m \u001b[0;36m0\u001b[0m \u001b[0;32melse\u001b[0m \u001b[0;34mf\", {self.comment}]\"\u001b[0m\u001b[0;34m\u001b[0m\u001b[0;34m\u001b[0m\u001b[0m\n\u001b[0;32m--> 186\u001b[0;31m         \u001b[0mself\u001b[0m\u001b[0;34m.\u001b[0m\u001b[0mdisplay\u001b[0m\u001b[0;34m(\u001b[0m\u001b[0;34m)\u001b[0m\u001b[0;34m\u001b[0m\u001b[0;34m\u001b[0m\u001b[0m\n\u001b[0m\u001b[1;32m    187\u001b[0m \u001b[0;34m\u001b[0m\u001b[0m\n\u001b[1;32m    188\u001b[0m     \u001b[0;32mdef\u001b[0m \u001b[0mdisplay\u001b[0m\u001b[0;34m(\u001b[0m\u001b[0mself\u001b[0m\u001b[0;34m)\u001b[0m\u001b[0;34m:\u001b[0m\u001b[0;34m\u001b[0m\u001b[0;34m\u001b[0m\u001b[0m\n",
            "\u001b[0;32m/usr/local/lib/python3.10/dist-packages/transformers/utils/notebook.py\u001b[0m in \u001b[0;36mdisplay\u001b[0;34m(self)\u001b[0m\n\u001b[1;32m    190\u001b[0m         \u001b[0;32mif\u001b[0m \u001b[0mself\u001b[0m\u001b[0;34m.\u001b[0m\u001b[0mparent\u001b[0m \u001b[0;32mis\u001b[0m \u001b[0;32mnot\u001b[0m \u001b[0;32mNone\u001b[0m\u001b[0;34m:\u001b[0m\u001b[0;34m\u001b[0m\u001b[0;34m\u001b[0m\u001b[0m\n\u001b[1;32m    191\u001b[0m             \u001b[0;31m# If this is a child bar, the parent will take care of the display.\u001b[0m\u001b[0;34m\u001b[0m\u001b[0;34m\u001b[0m\u001b[0m\n\u001b[0;32m--> 192\u001b[0;31m             \u001b[0mself\u001b[0m\u001b[0;34m.\u001b[0m\u001b[0mparent\u001b[0m\u001b[0;34m.\u001b[0m\u001b[0mdisplay\u001b[0m\u001b[0;34m(\u001b[0m\u001b[0;34m)\u001b[0m\u001b[0;34m\u001b[0m\u001b[0;34m\u001b[0m\u001b[0m\n\u001b[0m\u001b[1;32m    193\u001b[0m             \u001b[0;32mreturn\u001b[0m\u001b[0;34m\u001b[0m\u001b[0;34m\u001b[0m\u001b[0m\n\u001b[1;32m    194\u001b[0m         \u001b[0;32mif\u001b[0m \u001b[0mself\u001b[0m\u001b[0;34m.\u001b[0m\u001b[0moutput\u001b[0m \u001b[0;32mis\u001b[0m \u001b[0;32mNone\u001b[0m\u001b[0;34m:\u001b[0m\u001b[0;34m\u001b[0m\u001b[0;34m\u001b[0m\u001b[0m\n",
            "\u001b[0;32m/usr/local/lib/python3.10/dist-packages/transformers/utils/notebook.py\u001b[0m in \u001b[0;36mdisplay\u001b[0;34m(self)\u001b[0m\n\u001b[1;32m    219\u001b[0m \u001b[0;34m\u001b[0m\u001b[0m\n\u001b[1;32m    220\u001b[0m     \u001b[0;32mdef\u001b[0m \u001b[0mdisplay\u001b[0m\u001b[0;34m(\u001b[0m\u001b[0mself\u001b[0m\u001b[0;34m)\u001b[0m\u001b[0;34m:\u001b[0m\u001b[0;34m\u001b[0m\u001b[0;34m\u001b[0m\u001b[0m\n\u001b[0;32m--> 221\u001b[0;31m         \u001b[0mself\u001b[0m\u001b[0;34m.\u001b[0m\u001b[0mhtml_code\u001b[0m \u001b[0;34m=\u001b[0m \u001b[0mhtml_progress_bar\u001b[0m\u001b[0;34m(\u001b[0m\u001b[0mself\u001b[0m\u001b[0;34m.\u001b[0m\u001b[0mvalue\u001b[0m\u001b[0;34m,\u001b[0m \u001b[0mself\u001b[0m\u001b[0;34m.\u001b[0m\u001b[0mtotal\u001b[0m\u001b[0;34m,\u001b[0m \u001b[0mself\u001b[0m\u001b[0;34m.\u001b[0m\u001b[0mprefix\u001b[0m\u001b[0;34m,\u001b[0m \u001b[0mself\u001b[0m\u001b[0;34m.\u001b[0m\u001b[0mlabel\u001b[0m\u001b[0;34m,\u001b[0m \u001b[0mself\u001b[0m\u001b[0;34m.\u001b[0m\u001b[0mwidth\u001b[0m\u001b[0;34m)\u001b[0m\u001b[0;34m\u001b[0m\u001b[0;34m\u001b[0m\u001b[0m\n\u001b[0m\u001b[1;32m    222\u001b[0m         \u001b[0;32mif\u001b[0m \u001b[0mself\u001b[0m\u001b[0;34m.\u001b[0m\u001b[0minner_table\u001b[0m \u001b[0;32mis\u001b[0m \u001b[0;32mnot\u001b[0m \u001b[0;32mNone\u001b[0m\u001b[0;34m:\u001b[0m\u001b[0;34m\u001b[0m\u001b[0;34m\u001b[0m\u001b[0m\n\u001b[1;32m    223\u001b[0m             \u001b[0mself\u001b[0m\u001b[0;34m.\u001b[0m\u001b[0mhtml_code\u001b[0m \u001b[0;34m+=\u001b[0m \u001b[0mtext_to_html_table\u001b[0m\u001b[0;34m(\u001b[0m\u001b[0mself\u001b[0m\u001b[0;34m.\u001b[0m\u001b[0minner_table\u001b[0m\u001b[0;34m)\u001b[0m\u001b[0;34m\u001b[0m\u001b[0;34m\u001b[0m\u001b[0m\n",
            "\u001b[0;31mAttributeError\u001b[0m: 'NotebookTrainingTracker' object has no attribute 'value'"
          ]
        }
      ]
    },
    {
      "cell_type": "markdown",
      "source": [
        "#####**HF - Eval model**"
      ],
      "metadata": {
        "id": "9e3pmatPcOe2"
      }
    },
    {
      "cell_type": "code",
      "source": [
        "sQuestion, sAnswer = ask_question_HFModel1(\"What is Backpropagation?\") #Using the same trained model, downloaded from Hugging face\n",
        "sQuestion, \"Answer: \" + sAnswer"
      ],
      "metadata": {
        "colab": {
          "base_uri": "https://localhost:8080/"
        },
        "id": "zzH6NRrbAore",
        "outputId": "d176341a-e534-451b-b78c-a562925b9eb3"
      },
      "execution_count": null,
      "outputs": [
        {
          "output_type": "execute_result",
          "data": {
            "text/plain": [
              "('Q: What is Backpropagation?',\n",
              " 'Answer:  Backpropagation is a technique used to train neural networks by adjusting the weights of the network based on the gradients of the loss function.')"
            ]
          },
          "metadata": {},
          "execution_count": 74
        }
      ]
    },
    {
      "cell_type": "code",
      "source": [
        "sQuestion, sAnswer = ask_question_HFModel1(\"What is  the difference between CNN and RNN?\") #Using the same trained model, downloaded from Hugging face\n",
        "sQuestion, \"Answer: \" + sAnswer"
      ],
      "metadata": {
        "colab": {
          "base_uri": "https://localhost:8080/"
        },
        "id": "uHodraUyHV5V",
        "outputId": "ba0ebff4-b517-4d9f-a43d-7df0674a3139"
      },
      "execution_count": null,
      "outputs": [
        {
          "output_type": "execute_result",
          "data": {
            "text/plain": [
              "('Q: What is  the difference between CNN and RNN?',\n",
              " 'Answer:  CNN (Convolutional Neural Network) and RNN (Recurrent Neural Network) are two types of neural networks used for sequence processing. CNNs are used for image and sequence processing, while RNNs are used for sequential data processing.')"
            ]
          },
          "metadata": {},
          "execution_count": 75
        }
      ]
    },
    {
      "cell_type": "markdown",
      "source": [
        "-------------------------"
      ],
      "metadata": {
        "id": "koKCIWeJIUtz"
      }
    },
    {
      "cell_type": "markdown",
      "source": [
        "### **Training Results  ------- DO NOT EXECUTE --------**"
      ],
      "metadata": {
        "id": "0fwxrkOl9tft"
      }
    },
    {
      "cell_type": "code",
      "source": [
        "#Train the model\n",
        "#trainer.train() ##For 4 epocs  ##Sep28 4:55am\n",
        "'''\n",
        "    training_args = TrainingArguments\n",
        "    (\n",
        "    output_dir=\"./Qwen-QAResults\",\n",
        "    overwrite_output_dir=True,\n",
        "    ##Evaluation\n",
        "    #evaluation_strategy=\"steps\",\n",
        "    eval_strategy = \"steps\",\n",
        "    eval_steps=100, #100\n",
        "    ##Logging\n",
        "    logging_strategy=\"steps\",\n",
        "    logging_steps=50, #100\n",
        "    num_train_epochs=4,    ##Epochs\n",
        "    #Have used low batch sizes\n",
        "    per_device_train_batch_size=1, #2\n",
        "    per_device_eval_batch_size=1,\n",
        "    gradient_accumulation_steps=2,  #4  #Have set it low based on GPU\n",
        "    save_steps=500, #500\n",
        "    save_total_limit=2,\n",
        "    gradient_checkpointing=True, ##Ro\n",
        "    #save_on_each_node=True,  ##Ro\n",
        "    #learning_rate=1e-4, #2e-4   ##Ro\n",
        "    fp16=True,  # Mixed precision training for efficiency\n",
        "    report_to=\"none\",\n",
        "    dataloader_pin_memory=True\n",
        "    #use_cache = False   #Ro\n",
        "    )\n",
        "'''"
      ],
      "metadata": {
        "id": "qblkJjrNZc8T",
        "colab": {
          "base_uri": "https://localhost:8080/",
          "height": 1000
        },
        "outputId": "27ed3754-5ce7-4b6c-8ec9-705aa1fc6d87"
      },
      "execution_count": null,
      "outputs": [
        {
          "output_type": "stream",
          "name": "stderr",
          "text": [
            "/usr/local/lib/python3.10/dist-packages/torch/_dynamo/eval_frame.py:600: UserWarning: torch.utils.checkpoint: the use_reentrant parameter should be passed explicitly. In version 2.4 we will raise an exception if use_reentrant is not passed. use_reentrant=False is recommended, but if you need to preserve the current default behavior, you can pass use_reentrant=True. Refer to docs for more details on the differences between the two variants.\n",
            "  return fn(*args, **kwargs)\n",
            "/usr/local/lib/python3.10/dist-packages/torch/utils/checkpoint.py:295: FutureWarning: `torch.cpu.amp.autocast(args...)` is deprecated. Please use `torch.amp.autocast('cpu', args...)` instead.\n",
            "  with torch.enable_grad(), device_autocast_ctx, torch.cpu.amp.autocast(**ctx.cpu_autocast_kwargs):  # type: ignore[attr-defined]\n"
          ]
        },
        {
          "output_type": "display_data",
          "data": {
            "text/plain": [
              "<IPython.core.display.HTML object>"
            ],
            "text/html": [
              "\n",
              "    <div>\n",
              "      \n",
              "      <progress value='1600' max='1600' style='width:300px; height:20px; vertical-align: middle;'></progress>\n",
              "      [1600/1600 12:53, Epoch 4/4]\n",
              "    </div>\n",
              "    <table border=\"1\" class=\"dataframe\">\n",
              "  <thead>\n",
              " <tr style=\"text-align: left;\">\n",
              "      <th>Step</th>\n",
              "      <th>Training Loss</th>\n",
              "      <th>Validation Loss</th>\n",
              "      <th>Rouge1</th>\n",
              "      <th>Rouge2</th>\n",
              "      <th>Rougel</th>\n",
              "      <th>Rougelsum</th>\n",
              "    </tr>\n",
              "  </thead>\n",
              "  <tbody>\n",
              "    <tr>\n",
              "      <td>100</td>\n",
              "      <td>0.743500</td>\n",
              "      <td>0.852117</td>\n",
              "      <td>0.600668</td>\n",
              "      <td>0.301249</td>\n",
              "      <td>0.533078</td>\n",
              "      <td>0.564075</td>\n",
              "    </tr>\n",
              "    <tr>\n",
              "      <td>200</td>\n",
              "      <td>0.738000</td>\n",
              "      <td>0.851631</td>\n",
              "      <td>0.604002</td>\n",
              "      <td>0.306673</td>\n",
              "      <td>0.534574</td>\n",
              "      <td>0.565199</td>\n",
              "    </tr>\n",
              "    <tr>\n",
              "      <td>300</td>\n",
              "      <td>0.747200</td>\n",
              "      <td>0.850926</td>\n",
              "      <td>0.602859</td>\n",
              "      <td>0.308834</td>\n",
              "      <td>0.535021</td>\n",
              "      <td>0.564693</td>\n",
              "    </tr>\n",
              "    <tr>\n",
              "      <td>400</td>\n",
              "      <td>0.778800</td>\n",
              "      <td>0.850080</td>\n",
              "      <td>0.598436</td>\n",
              "      <td>0.305995</td>\n",
              "      <td>0.533114</td>\n",
              "      <td>0.560798</td>\n",
              "    </tr>\n",
              "    <tr>\n",
              "      <td>500</td>\n",
              "      <td>0.636500</td>\n",
              "      <td>0.852796</td>\n",
              "      <td>0.599327</td>\n",
              "      <td>0.305510</td>\n",
              "      <td>0.533812</td>\n",
              "      <td>0.561211</td>\n",
              "    </tr>\n",
              "    <tr>\n",
              "      <td>600</td>\n",
              "      <td>0.702000</td>\n",
              "      <td>0.855427</td>\n",
              "      <td>0.601459</td>\n",
              "      <td>0.312695</td>\n",
              "      <td>0.535630</td>\n",
              "      <td>0.563105</td>\n",
              "    </tr>\n",
              "    <tr>\n",
              "      <td>700</td>\n",
              "      <td>0.834300</td>\n",
              "      <td>0.854258</td>\n",
              "      <td>0.602925</td>\n",
              "      <td>0.311166</td>\n",
              "      <td>0.535197</td>\n",
              "      <td>0.565799</td>\n",
              "    </tr>\n",
              "    <tr>\n",
              "      <td>800</td>\n",
              "      <td>0.765200</td>\n",
              "      <td>0.853197</td>\n",
              "      <td>0.601556</td>\n",
              "      <td>0.309067</td>\n",
              "      <td>0.535563</td>\n",
              "      <td>0.564200</td>\n",
              "    </tr>\n",
              "    <tr>\n",
              "      <td>900</td>\n",
              "      <td>0.717000</td>\n",
              "      <td>0.856829</td>\n",
              "      <td>0.602202</td>\n",
              "      <td>0.307353</td>\n",
              "      <td>0.534836</td>\n",
              "      <td>0.564915</td>\n",
              "    </tr>\n",
              "    <tr>\n",
              "      <td>1000</td>\n",
              "      <td>0.675600</td>\n",
              "      <td>0.858447</td>\n",
              "      <td>0.600181</td>\n",
              "      <td>0.307408</td>\n",
              "      <td>0.533473</td>\n",
              "      <td>0.562005</td>\n",
              "    </tr>\n",
              "    <tr>\n",
              "      <td>1100</td>\n",
              "      <td>0.737300</td>\n",
              "      <td>0.857239</td>\n",
              "      <td>0.600929</td>\n",
              "      <td>0.306028</td>\n",
              "      <td>0.532013</td>\n",
              "      <td>0.561564</td>\n",
              "    </tr>\n",
              "    <tr>\n",
              "      <td>1200</td>\n",
              "      <td>0.787800</td>\n",
              "      <td>0.857938</td>\n",
              "      <td>0.601243</td>\n",
              "      <td>0.308157</td>\n",
              "      <td>0.533746</td>\n",
              "      <td>0.563378</td>\n",
              "    </tr>\n",
              "    <tr>\n",
              "      <td>1300</td>\n",
              "      <td>0.658100</td>\n",
              "      <td>0.861090</td>\n",
              "      <td>0.599928</td>\n",
              "      <td>0.308185</td>\n",
              "      <td>0.533207</td>\n",
              "      <td>0.562219</td>\n",
              "    </tr>\n",
              "    <tr>\n",
              "      <td>1400</td>\n",
              "      <td>0.684400</td>\n",
              "      <td>0.859929</td>\n",
              "      <td>0.600965</td>\n",
              "      <td>0.309771</td>\n",
              "      <td>0.534484</td>\n",
              "      <td>0.563854</td>\n",
              "    </tr>\n",
              "    <tr>\n",
              "      <td>1500</td>\n",
              "      <td>0.705700</td>\n",
              "      <td>0.860249</td>\n",
              "      <td>0.599830</td>\n",
              "      <td>0.307116</td>\n",
              "      <td>0.532635</td>\n",
              "      <td>0.561950</td>\n",
              "    </tr>\n",
              "    <tr>\n",
              "      <td>1600</td>\n",
              "      <td>0.771800</td>\n",
              "      <td>0.860164</td>\n",
              "      <td>0.601195</td>\n",
              "      <td>0.307601</td>\n",
              "      <td>0.533796</td>\n",
              "      <td>0.563163</td>\n",
              "    </tr>\n",
              "  </tbody>\n",
              "</table><p>"
            ]
          },
          "metadata": {}
        },
        {
          "output_type": "stream",
          "name": "stdout",
          "text": [
            "{'rouge1': AggregateScore(low=Score(precision=0.59628253839226, recall=0.5665516926758946, fmeasure=0.5807675275163035), mid=Score(precision=0.6169687198595599, recall=0.5856324141709275, fmeasure=0.6006680050964381), high=Score(precision=0.6378557534007631, recall=0.60608765897682, fmeasure=0.6209259489540753)), 'rouge2': AggregateScore(low=Score(precision=0.28126818215914695, recall=0.26639156857262336, fmeasure=0.2734761058984941), mid=Score(precision=0.30913147653894824, recall=0.2938167002493211, fmeasure=0.30124883366472444), high=Score(precision=0.33661585303594177, recall=0.31874304752305865, fmeasure=0.3272609738464818)), 'rougeL': AggregateScore(low=Score(precision=0.5235200992154334, recall=0.4969106496849591, fmeasure=0.5095058567860928), mid=Score(precision=0.5475559589317673, recall=0.5197691898904475, fmeasure=0.5330779805794139), high=Score(precision=0.5684923204170277, recall=0.5403248086479103, fmeasure=0.5543622282602853)), 'rougeLsum': AggregateScore(low=Score(precision=0.5568558721831025, recall=0.5284244317091731, fmeasure=0.542230412757094), mid=Score(precision=0.5790796141942511, recall=0.5502509151964882, fmeasure=0.5640747738694676), high=Score(precision=0.6027047835340084, recall=0.5723652050228121, fmeasure=0.5868592838500498))}\n",
            "{'rouge1': AggregateScore(low=Score(precision=0.5989852690787919, recall=0.5686751590737864, fmeasure=0.5832845145957428), mid=Score(precision=0.6200106892640842, recall=0.5891957846811863, fmeasure=0.604001582217066), high=Score(precision=0.641064810770615, recall=0.6096761361426811, fmeasure=0.6242386057072297)), 'rouge2': AggregateScore(low=Score(precision=0.28718651426780883, recall=0.2725102647967085, fmeasure=0.27986703626691367), mid=Score(precision=0.3149159524896866, recall=0.2990125281007121, fmeasure=0.3066727012441235), high=Score(precision=0.3402206959926673, recall=0.32297161099379373, fmeasure=0.33098044377713465)), 'rougeL': AggregateScore(low=Score(precision=0.5222857838392758, recall=0.4967596972274843, fmeasure=0.5082054704496095), mid=Score(precision=0.548757999268213, recall=0.5213638183916522, fmeasure=0.5345744571367914), high=Score(precision=0.5708174031219787, recall=0.5424424294783441, fmeasure=0.5560333080954687)), 'rougeLsum': AggregateScore(low=Score(precision=0.5572472997200167, recall=0.5288417155469178, fmeasure=0.5424438124464164), mid=Score(precision=0.5800831513233553, recall=0.551328400946342, fmeasure=0.5651989275489572), high=Score(precision=0.604430205296436, recall=0.5749419200921521, fmeasure=0.5891531397962971))}\n",
            "{'rouge1': AggregateScore(low=Score(precision=0.5981242845740726, recall=0.5690838152704177, fmeasure=0.5829218643103745), mid=Score(precision=0.6185439147649093, recall=0.5886373158961298, fmeasure=0.602859180329556), high=Score(precision=0.6389060058291038, recall=0.6089931460789644, fmeasure=0.6233904287241507)), 'rouge2': AggregateScore(low=Score(precision=0.29093680556800033, recall=0.27594577742363535, fmeasure=0.2833387312072291), mid=Score(precision=0.3169553662517527, recall=0.30120419853064073, fmeasure=0.30883373404788017), high=Score(precision=0.3412869688971492, recall=0.3243962738157657, fmeasure=0.3325156801115019)), 'rougeL': AggregateScore(low=Score(precision=0.524707884830945, recall=0.4997626063452563, fmeasure=0.5118238783935105), mid=Score(precision=0.5490844352770712, recall=0.5223417137353987, fmeasure=0.5350213706700764), high=Score(precision=0.5707593547314227, recall=0.5428113911529873, fmeasure=0.5560137884574815)), 'rougeLsum': AggregateScore(low=Score(precision=0.5566499867943786, recall=0.529602084984216, fmeasure=0.542534128942744), mid=Score(precision=0.5792539314555569, recall=0.5517049999305937, fmeasure=0.5646930911462036), high=Score(precision=0.6029489830572542, recall=0.5744286031142689, fmeasure=0.5878237801351567))}\n",
            "{'rouge1': AggregateScore(low=Score(precision=0.5918300164507003, recall=0.5645049035120697, fmeasure=0.5775652552487818), mid=Score(precision=0.6128387986680413, recall=0.584955539437108, fmeasure=0.5984357847287949), high=Score(precision=0.6332645681243148, recall=0.6060124843529685, fmeasure=0.6192651196381681)), 'rouge2': AggregateScore(low=Score(precision=0.2859989108444113, recall=0.2721099992400357, fmeasure=0.2789466643674454), mid=Score(precision=0.313553214610386, recall=0.2990703921921085, fmeasure=0.3059946091857647), high=Score(precision=0.33708058157552184, recall=0.32234161170644793, fmeasure=0.3296732164136999)), 'rougeL': AggregateScore(low=Score(precision=0.521676286674477, recall=0.4984405853339201, fmeasure=0.5094408775039057), mid=Score(precision=0.5460090299130729, recall=0.5213181267824877, fmeasure=0.533113578510803), high=Score(precision=0.5675858416462298, recall=0.5415084968362835, fmeasure=0.5541040369502609)), 'rougeLsum': AggregateScore(low=Score(precision=0.551954115241817, recall=0.5272400804755707, fmeasure=0.5389035261831835), mid=Score(precision=0.5743494498210755, recall=0.5483030293786686, fmeasure=0.560798488543887), high=Score(precision=0.5978064396068627, recall=0.5705496751677459, fmeasure=0.5836706291038343))}\n",
            "{'rouge1': AggregateScore(low=Score(precision=0.5942666045330264, recall=0.5657297739421614, fmeasure=0.579403881422898), mid=Score(precision=0.614312085457293, recall=0.5857070977228215, fmeasure=0.5993272667423422), high=Score(precision=0.6350704549251557, recall=0.6057405635071514, fmeasure=0.6192824371883258)), 'rouge2': AggregateScore(low=Score(precision=0.2851544620700789, recall=0.27138902405228044, fmeasure=0.2776750940781483), mid=Score(precision=0.3131748965632287, recall=0.2983482771694663, fmeasure=0.3055099766650426), high=Score(precision=0.33802457404801806, recall=0.321647882296368, fmeasure=0.329203871501965)), 'rougeL': AggregateScore(low=Score(precision=0.5219442286358758, recall=0.49846660644957563, fmeasure=0.5098020696287189), mid=Score(precision=0.5472191222742422, recall=0.521504864845467, fmeasure=0.5338122376577298), high=Score(precision=0.5690929736783176, recall=0.5422976466933228, fmeasure=0.5546472439877566)), 'rougeLsum': AggregateScore(low=Score(precision=0.5519703748863548, recall=0.5264997408699745, fmeasure=0.5387257221974786), mid=Score(precision=0.5751404667389446, recall=0.5483658028471436, fmeasure=0.5612114779959456), high=Score(precision=0.598911232668195, recall=0.5711467371040687, fmeasure=0.5843789707155501))}\n"
          ]
        },
        {
          "output_type": "stream",
          "name": "stderr",
          "text": [
            "/usr/local/lib/python3.10/dist-packages/torch/_dynamo/eval_frame.py:600: UserWarning: torch.utils.checkpoint: the use_reentrant parameter should be passed explicitly. In version 2.4 we will raise an exception if use_reentrant is not passed. use_reentrant=False is recommended, but if you need to preserve the current default behavior, you can pass use_reentrant=True. Refer to docs for more details on the differences between the two variants.\n",
            "  return fn(*args, **kwargs)\n",
            "/usr/local/lib/python3.10/dist-packages/torch/utils/checkpoint.py:295: FutureWarning: `torch.cpu.amp.autocast(args...)` is deprecated. Please use `torch.amp.autocast('cpu', args...)` instead.\n",
            "  with torch.enable_grad(), device_autocast_ctx, torch.cpu.amp.autocast(**ctx.cpu_autocast_kwargs):  # type: ignore[attr-defined]\n"
          ]
        },
        {
          "output_type": "stream",
          "name": "stdout",
          "text": [
            "{'rouge1': AggregateScore(low=Score(precision=0.5953486483167912, recall=0.5677992679479638, fmeasure=0.5811877681807165), mid=Score(precision=0.6159801383130421, recall=0.5880318690101067, fmeasure=0.6014594305753311), high=Score(precision=0.636398986946767, recall=0.6083787127397337, fmeasure=0.6214112686450431)), 'rouge2': AggregateScore(low=Score(precision=0.2921499638186495, recall=0.27880914104256, fmeasure=0.2850621983621091), mid=Score(precision=0.32038719130991655, recall=0.3055260774000335, fmeasure=0.31269547275978554), high=Score(precision=0.34498115592304424, recall=0.3292965040993928, fmeasure=0.33688264714101634)), 'rougeL': AggregateScore(low=Score(precision=0.5237550312767029, recall=0.5009993195127297, fmeasure=0.5120759682903226), mid=Score(precision=0.5484413279504424, recall=0.5236056639051905, fmeasure=0.5356303400923808), high=Score(precision=0.5696043746695231, recall=0.543075398640063, fmeasure=0.5556922692901098)), 'rougeLsum': AggregateScore(low=Score(precision=0.5551376845556619, recall=0.5298210606069473, fmeasure=0.5420377316081689), mid=Score(precision=0.5768286162115628, recall=0.5505558673667352, fmeasure=0.5631054425330919), high=Score(precision=0.6001367287380327, recall=0.5728089863995021, fmeasure=0.5859250599592521))}\n",
            "{'rouge1': AggregateScore(low=Score(precision=0.5988039024380705, recall=0.5688403699003693, fmeasure=0.5835458326736376), mid=Score(precision=0.6192205931811394, recall=0.5881399155713822, fmeasure=0.6029254873664662), high=Score(precision=0.6390523566151964, recall=0.6089686394288064, fmeasure=0.623299659474374)), 'rouge2': AggregateScore(low=Score(precision=0.29307687435903257, recall=0.27761368981225604, fmeasure=0.2850142237029054), mid=Score(precision=0.3198444824396385, recall=0.30322502243019644, fmeasure=0.31116646801493614), high=Score(precision=0.3439937619359217, recall=0.3264353309827925, fmeasure=0.33488123219631777)), 'rougeL': AggregateScore(low=Score(precision=0.5256516593384755, recall=0.4997129968505772, fmeasure=0.5123105709951634), mid=Score(precision=0.5495933377098445, recall=0.5222571404764105, fmeasure=0.5351971972291785), high=Score(precision=0.5709836920793312, recall=0.5425722616212991, fmeasure=0.5560020962681559)), 'rougeLsum': AggregateScore(low=Score(precision=0.5589001255973786, recall=0.5303648232829113, fmeasure=0.5442112613655322), mid=Score(precision=0.5809356855589712, recall=0.5520170239883395, fmeasure=0.5657988634237292), high=Score(precision=0.6034864691943983, recall=0.5735791863078047, fmeasure=0.5882033763888356))}\n",
            "{'rouge1': AggregateScore(low=Score(precision=0.596495563824683, recall=0.5685034464733412, fmeasure=0.5813999595229309), mid=Score(precision=0.6162795032266686, recall=0.5879888427835687, fmeasure=0.6015564924999559), high=Score(precision=0.6363307101543528, recall=0.6085688736576156, fmeasure=0.6220327118697759)), 'rouge2': AggregateScore(low=Score(precision=0.2883441241984239, recall=0.27443132335363934, fmeasure=0.2808130191084926), mid=Score(precision=0.316756169895288, recall=0.30203778676483956, fmeasure=0.3090673644482602), high=Score(precision=0.341409239157511, recall=0.32520581296614254, fmeasure=0.3328836085421354)), 'rougeL': AggregateScore(low=Score(precision=0.5240324524205638, recall=0.5000419519331969, fmeasure=0.5118062518747365), mid=Score(precision=0.5484359182756346, recall=0.523383886230403, fmeasure=0.5355633956060981), high=Score(precision=0.5702417003119218, recall=0.5437801777503799, fmeasure=0.5560608002977279)), 'rougeLsum': AggregateScore(low=Score(precision=0.5558302772345042, recall=0.5303455874875569, fmeasure=0.5427383031301549), mid=Score(precision=0.577952827999765, recall=0.5516012772186156, fmeasure=0.5642000303686121), high=Score(precision=0.6013816918266782, recall=0.573432993196327, fmeasure=0.5868309504667111))}\n",
            "{'rouge1': AggregateScore(low=Score(precision=0.59664967482866, recall=0.5673790280311959, fmeasure=0.5816396637269861), mid=Score(precision=0.6177264946710768, recall=0.5879935463473644, fmeasure=0.6022017741249239), high=Score(precision=0.638403738397147, recall=0.6075721742724424, fmeasure=0.6220122579806653)), 'rouge2': AggregateScore(low=Score(precision=0.2873633522651059, recall=0.2725179039593621, fmeasure=0.27984535738522015), mid=Score(precision=0.315545739005009, recall=0.3000414578127254, fmeasure=0.30735340124977995), high=Score(precision=0.3408220624562324, recall=0.3245503651839608, fmeasure=0.33252384937975654)), 'rougeL': AggregateScore(low=Score(precision=0.5235426491818507, recall=0.5002843309445612, fmeasure=0.5113228645500693), mid=Score(precision=0.548738830865108, recall=0.5222287613550725, fmeasure=0.5348363941818269), high=Score(precision=0.5706500941160302, recall=0.5426106763057226, fmeasure=0.5553741295730253)), 'rougeLsum': AggregateScore(low=Score(precision=0.5572249995379297, recall=0.530052184549109, fmeasure=0.5431504659256846), mid=Score(precision=0.5792430090389241, recall=0.5516169280071394, fmeasure=0.5649147303031499), high=Score(precision=0.6038498788640334, recall=0.5731654211853714, fmeasure=0.5875363504203022))}\n",
            "{'rouge1': AggregateScore(low=Score(precision=0.5952834962008857, recall=0.5662715394710508, fmeasure=0.5805334867538043), mid=Score(precision=0.6157580458064894, recall=0.5857298235780848, fmeasure=0.6001810009601534), high=Score(precision=0.6363218938550961, recall=0.6063253281031434, fmeasure=0.620539900380202)), 'rouge2': AggregateScore(low=Score(precision=0.2876200231029605, recall=0.273329344741184, fmeasure=0.280322352298964), mid=Score(precision=0.3156257179507884, recall=0.29986708424101616, fmeasure=0.30740804877841477), high=Score(precision=0.3402674150778553, recall=0.3231632588133424, fmeasure=0.33142754442601324)), 'rougeL': AggregateScore(low=Score(precision=0.5223158402491871, recall=0.49830695010686277, fmeasure=0.5096697934011685), mid=Score(precision=0.5470506022322246, recall=0.5208176120504642, fmeasure=0.5334725736048048), high=Score(precision=0.5685679379727294, recall=0.5414092530059307, fmeasure=0.5544924013181255)), 'rougeLsum': AggregateScore(low=Score(precision=0.5537922943662943, recall=0.5271598986147324, fmeasure=0.5401088325717346), mid=Score(precision=0.5764034948781896, recall=0.5489520145654337, fmeasure=0.562005465445079), high=Score(precision=0.600287474817948, recall=0.5707756859150053, fmeasure=0.5854071415311416))}\n"
          ]
        },
        {
          "output_type": "stream",
          "name": "stderr",
          "text": [
            "/usr/local/lib/python3.10/dist-packages/torch/_dynamo/eval_frame.py:600: UserWarning: torch.utils.checkpoint: the use_reentrant parameter should be passed explicitly. In version 2.4 we will raise an exception if use_reentrant is not passed. use_reentrant=False is recommended, but if you need to preserve the current default behavior, you can pass use_reentrant=True. Refer to docs for more details on the differences between the two variants.\n",
            "  return fn(*args, **kwargs)\n",
            "/usr/local/lib/python3.10/dist-packages/torch/utils/checkpoint.py:295: FutureWarning: `torch.cpu.amp.autocast(args...)` is deprecated. Please use `torch.amp.autocast('cpu', args...)` instead.\n",
            "  with torch.enable_grad(), device_autocast_ctx, torch.cpu.amp.autocast(**ctx.cpu_autocast_kwargs):  # type: ignore[attr-defined]\n"
          ]
        },
        {
          "output_type": "stream",
          "name": "stdout",
          "text": [
            "{'rouge1': AggregateScore(low=Score(precision=0.5968034020819208, recall=0.5672505431506304, fmeasure=0.5817504540345182), mid=Score(precision=0.6166038223258516, recall=0.5866151439878775, fmeasure=0.6009294746237371), high=Score(precision=0.6365158651143024, recall=0.6065696446397966, fmeasure=0.620649171871199)), 'rouge2': AggregateScore(low=Score(precision=0.2862445875060808, recall=0.2717933275368643, fmeasure=0.27885147245257913), mid=Score(precision=0.31389639516016477, recall=0.2985000576321415, fmeasure=0.3060276074581105), high=Score(precision=0.33763551383146484, recall=0.3205487889431957, fmeasure=0.32875605724812307)), 'rougeL': AggregateScore(low=Score(precision=0.5215508318499326, recall=0.4963291605862968, fmeasure=0.5085579276657807), mid=Score(precision=0.5457099628401785, recall=0.5192352148483926, fmeasure=0.5320132950567731), high=Score(precision=0.5668254354478739, recall=0.539891393012556, fmeasure=0.5522739416245455)), 'rougeLsum': AggregateScore(low=Score(precision=0.5543045837560502, recall=0.5273742593447417, fmeasure=0.5404110966836859), mid=Score(precision=0.5760138489205531, recall=0.5481127065992896, fmeasure=0.5615641125869302), high=Score(precision=0.5988252361002773, recall=0.5693948269394654, fmeasure=0.58370286767866))}\n",
            "{'rouge1': AggregateScore(low=Score(precision=0.5975729252389879, recall=0.5667893044213275, fmeasure=0.5815816078206673), mid=Score(precision=0.6172195698786899, recall=0.586710898180498, fmeasure=0.6012434131536746), high=Score(precision=0.6376432274463885, recall=0.6068601189362016, fmeasure=0.6213717033322014)), 'rouge2': AggregateScore(low=Score(precision=0.2888776707455356, recall=0.2740210589244827, fmeasure=0.28131024802175847), mid=Score(precision=0.316606360448754, recall=0.30039150128253916, fmeasure=0.30815728021879474), high=Score(precision=0.3406113067840906, recall=0.32276469869402724, fmeasure=0.33058678785655043)), 'rougeL': AggregateScore(low=Score(precision=0.5234563032170108, recall=0.4970783587814182, fmeasure=0.5098077748933554), mid=Score(precision=0.5477473511047859, recall=0.5209768303331603, fmeasure=0.5337457012888858), high=Score(precision=0.5688471791504659, recall=0.541392638192884, fmeasure=0.5542571499190175)), 'rougeLsum': AggregateScore(low=Score(precision=0.5562086577013844, recall=0.5284449945669425, fmeasure=0.5419039135260276), mid=Score(precision=0.5781623190176528, recall=0.5498371664856141, fmeasure=0.5633784013038903), high=Score(precision=0.6018099054599328, recall=0.571849360818757, fmeasure=0.5863594413607283))}\n",
            "{'rouge1': AggregateScore(low=Score(precision=0.5947105316213442, recall=0.5659409381014425, fmeasure=0.5800638115874824), mid=Score(precision=0.6149869282371745, recall=0.5859403609854893, fmeasure=0.5999284805390439), high=Score(precision=0.6353584288779512, recall=0.6066804453344444, fmeasure=0.6202592116576042)), 'rouge2': AggregateScore(low=Score(precision=0.28878923991777006, recall=0.27353337971445646, fmeasure=0.2809361830814524), mid=Score(precision=0.31615600673872374, recall=0.3009395206702255, fmeasure=0.30818459376429774), high=Score(precision=0.33958766927177114, recall=0.3233007052433695, fmeasure=0.3307376071958631)), 'rougeL': AggregateScore(low=Score(precision=0.5224208943542076, recall=0.49821793618906046, fmeasure=0.5102843148350044), mid=Score(precision=0.54658772639855, recall=0.5208350231619983, fmeasure=0.5332068057032028), high=Score(precision=0.5677899746358627, recall=0.5414237360268744, fmeasure=0.5538169761310965)), 'rougeLsum': AggregateScore(low=Score(precision=0.5541871462620689, recall=0.5279393308007037, fmeasure=0.5405795547599485), mid=Score(precision=0.5762701153101794, recall=0.5493442209302468, fmeasure=0.5622190901693733), high=Score(precision=0.6004098605296317, recall=0.5717461511617595, fmeasure=0.585059581237434))}\n",
            "{'rouge1': AggregateScore(low=Score(precision=0.596460375712149, recall=0.5677435126974235, fmeasure=0.5813371234226842), mid=Score(precision=0.6165680020024296, recall=0.5870380975988861, fmeasure=0.6009651557943483), high=Score(precision=0.6370115349779663, recall=0.6078666644739326, fmeasure=0.6219152992103046)), 'rouge2': AggregateScore(low=Score(precision=0.2897222703179875, recall=0.2758038219447439, fmeasure=0.2821716874616806), mid=Score(precision=0.3175905164949424, recall=0.3021092804691801, fmeasure=0.30977081106893), high=Score(precision=0.34173216384470995, recall=0.32505340743950795, fmeasure=0.33273010710622386)), 'rougeL': AggregateScore(low=Score(precision=0.5238153699323713, recall=0.4991325942527214, fmeasure=0.5114027950106345), mid=Score(precision=0.5480385684945238, recall=0.5220983513947005, fmeasure=0.5344840182360154), high=Score(precision=0.5697632585563992, recall=0.5428620350959601, fmeasure=0.5553984831064546)), 'rougeLsum': AggregateScore(low=Score(precision=0.5555943379509191, recall=0.5290861781815231, fmeasure=0.541850463023682), mid=Score(precision=0.5780294517133431, recall=0.550352561692736, fmeasure=0.5638540649783936), high=Score(precision=0.601884140504585, recall=0.5727995001697986, fmeasure=0.5867008761111533))}\n",
            "{'rouge1': AggregateScore(low=Score(precision=0.5951611126548313, recall=0.565587172344309, fmeasure=0.5799358959212438), mid=Score(precision=0.6156641956686708, recall=0.585446381824409, fmeasure=0.5998298801385827), high=Score(precision=0.6357624358672813, recall=0.6060438588736428, fmeasure=0.6203273534991315)), 'rouge2': AggregateScore(low=Score(precision=0.2879846673942961, recall=0.272858559827812, fmeasure=0.2800233031544706), mid=Score(precision=0.315359543797812, recall=0.29958716344622915, fmeasure=0.30711607163197086), high=Score(precision=0.3387354931227306, recall=0.3216639150609761, fmeasure=0.32946507751238735)), 'rougeL': AggregateScore(low=Score(precision=0.5220692471218077, recall=0.49678345553505315, fmeasure=0.5091964838910176), mid=Score(precision=0.5464606542585653, recall=0.5197252515017707, fmeasure=0.5326352199418133), high=Score(precision=0.5678923558984726, recall=0.5399764400483906, fmeasure=0.5530121729233841)), 'rougeLsum': AggregateScore(low=Score(precision=0.5542942256520635, recall=0.5267659639193404, fmeasure=0.5400184994886713), mid=Score(precision=0.576396822807419, recall=0.5485055232867914, fmeasure=0.5619503493409559), high=Score(precision=0.6004512930038043, recall=0.570401917003172, fmeasure=0.5847527769923209))}\n"
          ]
        },
        {
          "output_type": "stream",
          "name": "stderr",
          "text": [
            "/usr/local/lib/python3.10/dist-packages/torch/_dynamo/eval_frame.py:600: UserWarning: torch.utils.checkpoint: the use_reentrant parameter should be passed explicitly. In version 2.4 we will raise an exception if use_reentrant is not passed. use_reentrant=False is recommended, but if you need to preserve the current default behavior, you can pass use_reentrant=True. Refer to docs for more details on the differences between the two variants.\n",
            "  return fn(*args, **kwargs)\n",
            "/usr/local/lib/python3.10/dist-packages/torch/utils/checkpoint.py:295: FutureWarning: `torch.cpu.amp.autocast(args...)` is deprecated. Please use `torch.amp.autocast('cpu', args...)` instead.\n",
            "  with torch.enable_grad(), device_autocast_ctx, torch.cpu.amp.autocast(**ctx.cpu_autocast_kwargs):  # type: ignore[attr-defined]\n"
          ]
        },
        {
          "output_type": "stream",
          "name": "stdout",
          "text": [
            "{'rouge1': AggregateScore(low=Score(precision=0.5966482550075581, recall=0.5671361084277724, fmeasure=0.5817388762031439), mid=Score(precision=0.6170123413059045, recall=0.5868398356298182, fmeasure=0.6011945611704279), high=Score(precision=0.6371367505995852, recall=0.6069287156090426, fmeasure=0.621476274396253)), 'rouge2': AggregateScore(low=Score(precision=0.28822383448168776, recall=0.2735272591945644, fmeasure=0.28057924662834427), mid=Score(precision=0.31597402227024374, recall=0.30005056935850416, fmeasure=0.30760071136950407), high=Score(precision=0.33987174051579155, recall=0.3225715853945821, fmeasure=0.3303483837534119)), 'rougeL': AggregateScore(low=Score(precision=0.5226121793779717, recall=0.49793262599176336, fmeasure=0.5100666278361666), mid=Score(precision=0.5475561255325472, recall=0.520879681105743, fmeasure=0.5337957484031598), high=Score(precision=0.5686216907573057, recall=0.5409334065439236, fmeasure=0.5541093068187142)), 'rougeLsum': AggregateScore(low=Score(precision=0.5555374380389017, recall=0.5288018418830902, fmeasure=0.5415514377282976), mid=Score(precision=0.5777846383164482, recall=0.5497625152249894, fmeasure=0.5631633556852313), high=Score(precision=0.6012287319194674, recall=0.5712861322566612, fmeasure=0.5856138290940203))}\n"
          ]
        },
        {
          "output_type": "execute_result",
          "data": {
            "text/plain": [
              "'\\n    training_args = TrainingArguments\\n    (\\n    output_dir=\"./Qwen-QAResults\",\\n    overwrite_output_dir=True,\\n    ##Evaluation\\n    #evaluation_strategy=\"steps\",\\n    eval_strategy = \"steps\",\\n    eval_steps=100, #100\\n    ##Logging\\n    logging_strategy=\"steps\",\\n    logging_steps=50, #100\\n    num_train_epochs=4,    ##Epochs\\n    #Have used low batch sizes\\n    per_device_train_batch_size=1, #2\\n    per_device_eval_batch_size=1,\\n    gradient_accumulation_steps=2,  #4  #Have set it low based on GPU\\n    save_steps=500, #500\\n    save_total_limit=2,\\n    gradient_checkpointing=True, ##Ro\\n    #save_on_each_node=True,  ##Ro\\n    #learning_rate=1e-4, #2e-4   ##Ro\\n    fp16=True,  # Mixed precision training for efficiency\\n    report_to=\"none\",\\n    dataloader_pin_memory=True\\n    #use_cache = False   #Ro\\n    )\\n'"
            ],
            "application/vnd.google.colaboratory.intrinsic+json": {
              "type": "string"
            }
          },
          "metadata": {},
          "execution_count": 57
        }
      ]
    },
    {
      "cell_type": "code",
      "source": [
        "#Train the model\n",
        "#trainer.train() ##For 10 epocs         #Sep28 4:44am\n",
        "'''\n",
        "    training_args = TrainingArguments\n",
        "    (\n",
        "    output_dir=\"./Qwen-QAResults\",\n",
        "    overwrite_output_dir=True,\n",
        "    eval_strategy = \"steps\",\n",
        "    eval_steps=100, #100\n",
        "    logging_strategy=\"steps\",\n",
        "    logging_steps=100, #100 or 50\n",
        "    num_train_epochs=10,   #4,    ##Epochs\n",
        "    per_device_train_batch_size=8, #1 or  #2\n",
        "    per_device_eval_batch_size=1, #2\n",
        "    gradient_accumulation_steps=2,  #4\n",
        "    save_steps=500, #500\n",
        "    save_total_limit=2,\n",
        "    gradient_checkpointing=True, ##\n",
        "    #save_on_each_node=True,  ##\n",
        "    #learning_rate=1e-4, #2e-4   ##\n",
        "    fp16=True,  # Mixed precision training for efficiency\n",
        "    report_to=\"none\",\n",
        "    dataloader_pin_memory=True\n",
        "    #use_cache = False   ##\n",
        ")\n",
        "'''"
      ],
      "metadata": {
        "colab": {
          "base_uri": "https://localhost:8080/",
          "height": 559
        },
        "id": "fqZrbS0TwdIx",
        "outputId": "b61d4414-0ab2-4c68-b370-41d896f8156d"
      },
      "execution_count": null,
      "outputs": [
        {
          "output_type": "stream",
          "name": "stderr",
          "text": [
            "/usr/local/lib/python3.10/dist-packages/torch/_dynamo/eval_frame.py:600: UserWarning: torch.utils.checkpoint: the use_reentrant parameter should be passed explicitly. In version 2.4 we will raise an exception if use_reentrant is not passed. use_reentrant=False is recommended, but if you need to preserve the current default behavior, you can pass use_reentrant=True. Refer to docs for more details on the differences between the two variants.\n",
            "  return fn(*args, **kwargs)\n",
            "/usr/local/lib/python3.10/dist-packages/torch/utils/checkpoint.py:295: FutureWarning: `torch.cpu.amp.autocast(args...)` is deprecated. Please use `torch.amp.autocast('cpu', args...)` instead.\n",
            "  with torch.enable_grad(), device_autocast_ctx, torch.cpu.amp.autocast(**ctx.cpu_autocast_kwargs):  # type: ignore[attr-defined]\n"
          ]
        },
        {
          "output_type": "display_data",
          "data": {
            "text/plain": [
              "<IPython.core.display.HTML object>"
            ],
            "text/html": [
              "\n",
              "    <div>\n",
              "      \n",
              "      <progress value='500' max='500' style='width:300px; height:20px; vertical-align: middle;'></progress>\n",
              "      [500/500 04:14, Epoch 10/10]\n",
              "    </div>\n",
              "    <table border=\"1\" class=\"dataframe\">\n",
              "  <thead>\n",
              " <tr style=\"text-align: left;\">\n",
              "      <th>Step</th>\n",
              "      <th>Training Loss</th>\n",
              "      <th>Validation Loss</th>\n",
              "      <th>Rouge1</th>\n",
              "      <th>Rouge2</th>\n",
              "      <th>Rougel</th>\n",
              "      <th>Rougelsum</th>\n",
              "    </tr>\n",
              "  </thead>\n",
              "  <tbody>\n",
              "    <tr>\n",
              "      <td>100</td>\n",
              "      <td>0.802100</td>\n",
              "      <td>0.847836</td>\n",
              "      <td>0.600826</td>\n",
              "      <td>0.308572</td>\n",
              "      <td>0.534912</td>\n",
              "      <td>0.564914</td>\n",
              "    </tr>\n",
              "    <tr>\n",
              "      <td>200</td>\n",
              "      <td>0.784100</td>\n",
              "      <td>0.846778</td>\n",
              "      <td>0.602390</td>\n",
              "      <td>0.307675</td>\n",
              "      <td>0.535387</td>\n",
              "      <td>0.563435</td>\n",
              "    </tr>\n",
              "    <tr>\n",
              "      <td>300</td>\n",
              "      <td>0.770700</td>\n",
              "      <td>0.847435</td>\n",
              "      <td>0.600836</td>\n",
              "      <td>0.304232</td>\n",
              "      <td>0.532297</td>\n",
              "      <td>0.562307</td>\n",
              "    </tr>\n",
              "    <tr>\n",
              "      <td>400</td>\n",
              "      <td>0.761400</td>\n",
              "      <td>0.848155</td>\n",
              "      <td>0.600552</td>\n",
              "      <td>0.305847</td>\n",
              "      <td>0.534040</td>\n",
              "      <td>0.564156</td>\n",
              "    </tr>\n",
              "    <tr>\n",
              "      <td>500</td>\n",
              "      <td>0.755800</td>\n",
              "      <td>0.848448</td>\n",
              "      <td>0.599870</td>\n",
              "      <td>0.306638</td>\n",
              "      <td>0.533764</td>\n",
              "      <td>0.563821</td>\n",
              "    </tr>\n",
              "  </tbody>\n",
              "</table><p>"
            ]
          },
          "metadata": {}
        },
        {
          "output_type": "stream",
          "name": "stdout",
          "text": [
            "{'rouge1': AggregateScore(low=Score(precision=0.5954254409752455, recall=0.5666868099025867, fmeasure=0.5804358222590388), mid=Score(precision=0.6161919376766871, recall=0.5866756680789484, fmeasure=0.6008259662871676), high=Score(precision=0.63710387672489, recall=0.6066090739428327, fmeasure=0.6213184200515793)), 'rouge2': AggregateScore(low=Score(precision=0.2888542374522638, recall=0.2739358473849305, fmeasure=0.2811343107559829), mid=Score(precision=0.3166547028757125, recall=0.3010484332500928, fmeasure=0.3085718479315669), high=Score(precision=0.34316950269980356, recall=0.32650637478720385, fmeasure=0.334067371999637)), 'rougeL': AggregateScore(low=Score(precision=0.5228968993983352, recall=0.49689614827005757, fmeasure=0.5095573503283367), mid=Score(precision=0.5487709320686245, recall=0.5220094530949988, fmeasure=0.5349124013911771), high=Score(precision=0.5702055181350326, recall=0.5426018244035223, fmeasure=0.5557722298966502)), 'rougeLsum': AggregateScore(low=Score(precision=0.5569804053633697, recall=0.5298187916839755, fmeasure=0.5428966048972393), mid=Score(precision=0.5794340602097872, recall=0.5515182102866774, fmeasure=0.5649139348484692), high=Score(precision=0.6026002277855623, recall=0.5736544487338298, fmeasure=0.5877797724523706))}\n",
            "{'rouge1': AggregateScore(low=Score(precision=0.5957563223417017, recall=0.5682604583430526, fmeasure=0.5818037539654908), mid=Score(precision=0.6174385903774303, recall=0.5883843534984972, fmeasure=0.6023900709622154), high=Score(precision=0.6388459165405548, recall=0.6089040217980967, fmeasure=0.6228829704394361)), 'rouge2': AggregateScore(low=Score(precision=0.28744073969315714, recall=0.27314192625743067, fmeasure=0.2798163471571833), mid=Score(precision=0.3153745589272373, recall=0.3005885976383833, fmeasure=0.3076748394090457), high=Score(precision=0.34257105237237767, recall=0.3264569082457071, fmeasure=0.334187863029792)), 'rougeL': AggregateScore(low=Score(precision=0.5229153627050046, recall=0.4973397371751529, fmeasure=0.5098807369292656), mid=Score(precision=0.548640164850986, recall=0.522984314597491, fmeasure=0.5353865596645709), high=Score(precision=0.5706883100940418, recall=0.5443788894458826, fmeasure=0.556706190851176)), 'rougeLsum': AggregateScore(low=Score(precision=0.5540923817417268, recall=0.5284308867745772, fmeasure=0.5410848088170955), mid=Score(precision=0.57748600282451, recall=0.5507277560171489, fmeasure=0.5634350454915511), high=Score(precision=0.6020007611438324, recall=0.5740922875095172, fmeasure=0.5875376417879097))}\n",
            "{'rouge1': AggregateScore(low=Score(precision=0.5961800237196664, recall=0.567525981436687, fmeasure=0.5814396687338155), mid=Score(precision=0.6159244507628332, recall=0.586821143101434, fmeasure=0.6008362810908714), high=Score(precision=0.6367544653408854, recall=0.6077045019305274, fmeasure=0.6209711076099209)), 'rouge2': AggregateScore(low=Score(precision=0.28437652972922844, recall=0.2709050849678702, fmeasure=0.27732937509202144), mid=Score(precision=0.3120069832928092, recall=0.2970894671639369, fmeasure=0.30423213772923674), high=Score(precision=0.33723185657582716, recall=0.3224642589023493, fmeasure=0.32929730889996855)), 'rougeL': AggregateScore(low=Score(precision=0.5203377922393126, recall=0.4961916252713558, fmeasure=0.5080057439865515), mid=Score(precision=0.5456622807522867, recall=0.5198961982946879, fmeasure=0.5322974845838382), high=Score(precision=0.5673241515012928, recall=0.5401349276017099, fmeasure=0.5533693167904353)), 'rougeLsum': AggregateScore(low=Score(precision=0.554103761122455, recall=0.5275512498030445, fmeasure=0.5404603830798199), mid=Score(precision=0.576716213768824, recall=0.5496320023938909, fmeasure=0.5623072751018796), high=Score(precision=0.5994418971765396, recall=0.5719857482256929, fmeasure=0.5852822578848687))}\n",
            "{'rouge1': AggregateScore(low=Score(precision=0.5954031363461079, recall=0.5669486445093872, fmeasure=0.5811333881191287), mid=Score(precision=0.6155298072104927, recall=0.586670610958699, fmeasure=0.6005522376394803), high=Score(precision=0.6358172030479985, recall=0.6070173899127855, fmeasure=0.620649889756111)), 'rouge2': AggregateScore(low=Score(precision=0.2861864635328835, recall=0.27195077009509117, fmeasure=0.2788022723427691), mid=Score(precision=0.31343633261998616, recall=0.2988153374133623, fmeasure=0.3058473077398589), high=Score(precision=0.3400767845225775, recall=0.32385101213005263, fmeasure=0.33128035125407396)), 'rougeL': AggregateScore(low=Score(precision=0.5218606332893757, recall=0.4977645034767862, fmeasure=0.5089170846297417), mid=Score(precision=0.5473295852746346, recall=0.5216398512700955, fmeasure=0.5340404957114833), high=Score(precision=0.5684615999636695, recall=0.5422598830614347, fmeasure=0.5546999850166061)), 'rougeLsum': AggregateScore(low=Score(precision=0.5562223009502435, recall=0.5298334567899808, fmeasure=0.5427938562002801), mid=Score(precision=0.5783268387780075, recall=0.5512246288452818, fmeasure=0.5641561303301755), high=Score(precision=0.600960229089663, recall=0.5737024409068027, fmeasure=0.5863124169196178))}\n",
            "{'rouge1': AggregateScore(low=Score(precision=0.5946747964956551, recall=0.5667782883488643, fmeasure=0.5805985834470949), mid=Score(precision=0.6146856655711095, recall=0.5858997859090558, fmeasure=0.5998695382484829), high=Score(precision=0.6350070509549673, recall=0.6066878508287651, fmeasure=0.619774477282355)), 'rouge2': AggregateScore(low=Score(precision=0.28698238998115616, recall=0.27196622400011816, fmeasure=0.27934767289412904), mid=Score(precision=0.3143775370204572, recall=0.2994432049838698, fmeasure=0.30663848478105), high=Score(precision=0.34113949771783125, recall=0.3244573453226063, fmeasure=0.33255803442475335)), 'rougeL': AggregateScore(low=Score(precision=0.5220275689216208, recall=0.4976039914413399, fmeasure=0.5091726983685646), mid=Score(precision=0.5469215226455943, recall=0.521400288477621, fmeasure=0.5337635203924989), high=Score(precision=0.5688321144174961, recall=0.5412155368873965, fmeasure=0.554372930120306)), 'rougeLsum': AggregateScore(low=Score(precision=0.5554920471340025, recall=0.5289945988536545, fmeasure=0.5418418717101099), mid=Score(precision=0.5777002663870288, recall=0.550781121348437, fmeasure=0.5638208936378508), high=Score(precision=0.6002286156984309, recall=0.5725685429344073, fmeasure=0.5857644992545973))}\n"
          ]
        },
        {
          "output_type": "execute_result",
          "data": {
            "text/plain": [
              "'\\n    training_args = TrainingArguments\\n    (\\n    output_dir=\"./Qwen-QAResults\",\\n    overwrite_output_dir=True,\\n    eval_strategy = \"steps\",\\n    eval_steps=100, #100\\n    logging_strategy=\"steps\",\\n    logging_steps=100, #100 or 50\\n    num_train_epochs=10,   #4,    ##Epochs\\n    per_device_train_batch_size=8, #1 or  #2\\n    per_device_eval_batch_size=1, #2\\n    gradient_accumulation_steps=2,  #4\\n    save_steps=500, #500\\n    save_total_limit=2,\\n    gradient_checkpointing=True, ##\\n    #save_on_each_node=True,  ##\\n    #learning_rate=1e-4, #2e-4   ##\\n    fp16=True,  # Mixed precision training for efficiency\\n    report_to=\"none\",\\n    dataloader_pin_memory=True\\n    #use_cache = False   ##\\n)\\n'"
            ],
            "application/vnd.google.colaboratory.intrinsic+json": {
              "type": "string"
            }
          },
          "metadata": {},
          "execution_count": 49
        }
      ]
    },
    {
      "cell_type": "code",
      "source": [
        "#Train the model\n",
        "#trainer.train() ##For 10 epocs         #Sep28 4:30am\n",
        "'''\n",
        "training_args = TrainingArguments(\n",
        "    output_dir=sModelOutputDir,\n",
        "    push_to_hub=False,\n",
        "    overwrite_output_dir=True,\n",
        "    eval_strategy = \"steps\",\n",
        "    eval_steps=100, #100\n",
        "    logging_strategy=\"steps\",\n",
        "    logging_steps=50, #100 or 50\n",
        "    num_train_epochs=5,   #4,    ##Epochs\n",
        "    per_device_train_batch_size=2, #1 or  #2\n",
        "    per_device_eval_batch_size=2, #2\n",
        "    gradient_accumulation_steps=2,  #4\n",
        "    save_steps=500, #500\n",
        "    save_total_limit=2,\n",
        "    gradient_checkpointing=True, ##Rohini\n",
        "    fp16=True,  # Mixed precision training for efficiency\n",
        "    report_to=\"none\",\n",
        "    dataloader_pin_memory=True\n",
        ")\n",
        "'''"
      ],
      "metadata": {
        "colab": {
          "base_uri": "https://localhost:8080/",
          "height": 810
        },
        "id": "ivTpU22zwAoV",
        "outputId": "867dec29-3344-49c2-f7ea-19e230e2c86c"
      },
      "execution_count": null,
      "outputs": [
        {
          "output_type": "stream",
          "name": "stderr",
          "text": [
            "/usr/local/lib/python3.10/dist-packages/torch/_dynamo/eval_frame.py:600: UserWarning: torch.utils.checkpoint: the use_reentrant parameter should be passed explicitly. In version 2.4 we will raise an exception if use_reentrant is not passed. use_reentrant=False is recommended, but if you need to preserve the current default behavior, you can pass use_reentrant=True. Refer to docs for more details on the differences between the two variants.\n",
            "  return fn(*args, **kwargs)\n",
            "/usr/local/lib/python3.10/dist-packages/torch/utils/checkpoint.py:295: FutureWarning: `torch.cpu.amp.autocast(args...)` is deprecated. Please use `torch.amp.autocast('cpu', args...)` instead.\n",
            "  with torch.enable_grad(), device_autocast_ctx, torch.cpu.amp.autocast(**ctx.cpu_autocast_kwargs):  # type: ignore[attr-defined]\n"
          ]
        },
        {
          "output_type": "display_data",
          "data": {
            "text/plain": [
              "<IPython.core.display.HTML object>"
            ],
            "text/html": [
              "\n",
              "    <div>\n",
              "      \n",
              "      <progress value='1000' max='1000' style='width:300px; height:20px; vertical-align: middle;'></progress>\n",
              "      [1000/1000 07:37, Epoch 5/5]\n",
              "    </div>\n",
              "    <table border=\"1\" class=\"dataframe\">\n",
              "  <thead>\n",
              " <tr style=\"text-align: left;\">\n",
              "      <th>Step</th>\n",
              "      <th>Training Loss</th>\n",
              "      <th>Validation Loss</th>\n",
              "      <th>Rouge1</th>\n",
              "      <th>Rouge2</th>\n",
              "      <th>Rougel</th>\n",
              "      <th>Rougelsum</th>\n",
              "    </tr>\n",
              "  </thead>\n",
              "  <tbody>\n",
              "    <tr>\n",
              "      <td>100</td>\n",
              "      <td>1.003100</td>\n",
              "      <td>0.935810</td>\n",
              "      <td>0.573312</td>\n",
              "      <td>0.278592</td>\n",
              "      <td>0.503750</td>\n",
              "      <td>0.531765</td>\n",
              "    </tr>\n",
              "    <tr>\n",
              "      <td>200</td>\n",
              "      <td>0.884600</td>\n",
              "      <td>0.888291</td>\n",
              "      <td>0.586650</td>\n",
              "      <td>0.290779</td>\n",
              "      <td>0.517716</td>\n",
              "      <td>0.546485</td>\n",
              "    </tr>\n",
              "    <tr>\n",
              "      <td>300</td>\n",
              "      <td>0.858500</td>\n",
              "      <td>0.870564</td>\n",
              "      <td>0.593224</td>\n",
              "      <td>0.301681</td>\n",
              "      <td>0.524517</td>\n",
              "      <td>0.554727</td>\n",
              "    </tr>\n",
              "    <tr>\n",
              "      <td>400</td>\n",
              "      <td>0.834700</td>\n",
              "      <td>0.862145</td>\n",
              "      <td>0.590932</td>\n",
              "      <td>0.299008</td>\n",
              "      <td>0.522982</td>\n",
              "      <td>0.552383</td>\n",
              "    </tr>\n",
              "    <tr>\n",
              "      <td>500</td>\n",
              "      <td>0.793300</td>\n",
              "      <td>0.857731</td>\n",
              "      <td>0.594358</td>\n",
              "      <td>0.303551</td>\n",
              "      <td>0.528186</td>\n",
              "      <td>0.557283</td>\n",
              "    </tr>\n",
              "    <tr>\n",
              "      <td>600</td>\n",
              "      <td>0.856400</td>\n",
              "      <td>0.855959</td>\n",
              "      <td>0.591872</td>\n",
              "      <td>0.301938</td>\n",
              "      <td>0.526458</td>\n",
              "      <td>0.554236</td>\n",
              "    </tr>\n",
              "    <tr>\n",
              "      <td>700</td>\n",
              "      <td>0.770500</td>\n",
              "      <td>0.854403</td>\n",
              "      <td>0.595525</td>\n",
              "      <td>0.304587</td>\n",
              "      <td>0.530269</td>\n",
              "      <td>0.557970</td>\n",
              "    </tr>\n",
              "    <tr>\n",
              "      <td>800</td>\n",
              "      <td>0.854300</td>\n",
              "      <td>0.852587</td>\n",
              "      <td>0.594635</td>\n",
              "      <td>0.304070</td>\n",
              "      <td>0.529410</td>\n",
              "      <td>0.556847</td>\n",
              "    </tr>\n",
              "    <tr>\n",
              "      <td>900</td>\n",
              "      <td>0.821400</td>\n",
              "      <td>0.852328</td>\n",
              "      <td>0.596999</td>\n",
              "      <td>0.306349</td>\n",
              "      <td>0.531885</td>\n",
              "      <td>0.558881</td>\n",
              "    </tr>\n",
              "    <tr>\n",
              "      <td>1000</td>\n",
              "      <td>0.789900</td>\n",
              "      <td>0.851951</td>\n",
              "      <td>0.595587</td>\n",
              "      <td>0.304366</td>\n",
              "      <td>0.530734</td>\n",
              "      <td>0.557899</td>\n",
              "    </tr>\n",
              "  </tbody>\n",
              "</table><p>"
            ]
          },
          "metadata": {}
        },
        {
          "output_type": "stream",
          "name": "stdout",
          "text": [
            "{'rouge1': AggregateScore(low=Score(precision=0.5684759929669569, recall=0.5359259391559668, fmeasure=0.5511933735380962), mid=Score(precision=0.5904178859426261, recall=0.5576760554586873, fmeasure=0.5733120602644868), high=Score(precision=0.6121693727349705, recall=0.5794273875676037, fmeasure=0.5946813220640196)), 'rouge2': AggregateScore(low=Score(precision=0.26138985458547115, recall=0.24605889046195062, fmeasure=0.2531052009553013), mid=Score(precision=0.2869450253657375, recall=0.27107881374835086, fmeasure=0.27859203050499115), high=Score(precision=0.3138322669007037, recall=0.29601948705975323, fmeasure=0.30466459210754027)), 'rougeL': AggregateScore(low=Score(precision=0.49559544956473994, recall=0.46738372306866527, fmeasure=0.4810465633749066), mid=Score(precision=0.5187987470117597, recall=0.4900228626656873, fmeasure=0.5037500349752094), high=Score(precision=0.5402669465626425, recall=0.5113528890561739, fmeasure=0.5249312728708162)), 'rougeLsum': AggregateScore(low=Score(precision=0.5262991797220029, recall=0.4952655085787985, fmeasure=0.5099702213256627), mid=Score(precision=0.5477610495163854, recall=0.517212054849107, fmeasure=0.5317653648384055), high=Score(precision=0.5698532789844829, recall=0.538974615858004, fmeasure=0.553502477963335))}\n",
            "{'rouge1': AggregateScore(low=Score(precision=0.581212566905367, recall=0.551506671490669, fmeasure=0.5659325608261564), mid=Score(precision=0.6020938367610666, recall=0.5724678374564734, fmeasure=0.586649991941857), high=Score(precision=0.6213616937878012, recall=0.592296125750354, fmeasure=0.6058458689774637)), 'rouge2': AggregateScore(low=Score(precision=0.2736042083866592, recall=0.26075904042422743, fmeasure=0.2666386330850679), mid=Score(precision=0.2985501465911944, recall=0.2838988691720584, fmeasure=0.2907787135298032), high=Score(precision=0.323301024744373, recall=0.3068248499135551, fmeasure=0.31461161689969824)), 'rougeL': AggregateScore(low=Score(precision=0.5091744920728744, recall=0.4833396730323851, fmeasure=0.4956543389146765), mid=Score(precision=0.5314873985664086, recall=0.5049195676658316, fmeasure=0.517715796690382), high=Score(precision=0.5526827811743198, recall=0.5258306402088231, fmeasure=0.5384366880987614)), 'rougeLsum': AggregateScore(low=Score(precision=0.5386315134326762, recall=0.5122085670366642, fmeasure=0.5248155897056364), mid=Score(precision=0.5609195624130378, recall=0.5330024518624894, fmeasure=0.54648544915272), high=Score(precision=0.5824638628128714, recall=0.5540903594713308, fmeasure=0.5676724419450103))}\n",
            "{'rouge1': AggregateScore(low=Score(precision=0.5882290467617305, recall=0.5569070425209734, fmeasure=0.5722513498205879), mid=Score(precision=0.6096301369723534, recall=0.5782982962950889, fmeasure=0.5932237351657508), high=Score(precision=0.6288598543914857, recall=0.5982182328493841, fmeasure=0.6126706087423598)), 'rouge2': AggregateScore(low=Score(precision=0.28464155515349115, recall=0.26922712301509216, fmeasure=0.2763042462306124), mid=Score(precision=0.3102141678392236, recall=0.2943502717708497, fmeasure=0.3016813719891591), high=Score(precision=0.336390521373637, recall=0.31926507510412455, fmeasure=0.3277429672006944)), 'rougeL': AggregateScore(low=Score(precision=0.5157514195616241, recall=0.4889873824435622, fmeasure=0.502149961926869), mid=Score(precision=0.5391087983158698, recall=0.5114119195702581, fmeasure=0.5245174347799374), high=Score(precision=0.5616702983534236, recall=0.5321923034560965, fmeasure=0.5463951320116677)), 'rougeLsum': AggregateScore(low=Score(precision=0.5462539152685671, recall=0.5181850297249981, fmeasure=0.5317488653449463), mid=Score(precision=0.5698336867523541, recall=0.5407396728756109, fmeasure=0.5547273809758507), high=Score(precision=0.5926502965869355, recall=0.562337540151621, fmeasure=0.5764615238369916))}\n",
            "{'rouge1': AggregateScore(low=Score(precision=0.5868121265699414, recall=0.5557060737443683, fmeasure=0.5707030366119931), mid=Score(precision=0.6069775675211511, recall=0.57627331685218, fmeasure=0.5909315522875108), high=Score(precision=0.6275902930110027, recall=0.5966856714108617, fmeasure=0.6110949837532632)), 'rouge2': AggregateScore(low=Score(precision=0.28254375979221963, recall=0.2675697668808332, fmeasure=0.27532141518251857), mid=Score(precision=0.3071284612919091, recall=0.29175822400664875, fmeasure=0.29900761981840224), high=Score(precision=0.3324646719256476, recall=0.3156981876308662, fmeasure=0.3236028875928822)), 'rougeL': AggregateScore(low=Score(precision=0.5132805339816903, recall=0.48786585099900415, fmeasure=0.49996854001657237), mid=Score(precision=0.537162419665894, recall=0.5101809901233014, fmeasure=0.5229815393576596), high=Score(precision=0.5590857925793115, recall=0.5301767022068763, fmeasure=0.5435632300907622)), 'rougeLsum': AggregateScore(low=Score(precision=0.5442666380893417, recall=0.5167429945314697, fmeasure=0.5303148104775726), mid=Score(precision=0.567219726032383, recall=0.5388677830116813, fmeasure=0.5523830676644689), high=Score(precision=0.5896129693288101, recall=0.5604674523524961, fmeasure=0.5741208861292151))}\n",
            "{'rouge1': AggregateScore(low=Score(precision=0.5904008986178624, recall=0.5594912333020132, fmeasure=0.5745213114639072), mid=Score(precision=0.6110170748485102, recall=0.5790435965100302, fmeasure=0.5943577347678275), high=Score(precision=0.6310545750366685, recall=0.5996498357077357, fmeasure=0.6141760925440521)), 'rouge2': AggregateScore(low=Score(precision=0.2863980116050069, recall=0.27114048298026117, fmeasure=0.2784212323940606), mid=Score(precision=0.3119387834287667, recall=0.2958414844983269, fmeasure=0.30355084492337137), high=Score(precision=0.3364502276611196, recall=0.3190888192504649, fmeasure=0.327452671395943)), 'rougeL': AggregateScore(low=Score(precision=0.5190320543518071, recall=0.49146683010357195, fmeasure=0.5049529807530336), mid=Score(precision=0.5429638834768182, recall=0.5145723866663207, fmeasure=0.5281861049355345), high=Score(precision=0.5642050545936479, recall=0.5351218086194152, fmeasure=0.5491909830407795)), 'rougeLsum': AggregateScore(low=Score(precision=0.5500568641504422, recall=0.5208392215402406, fmeasure=0.5353590639558201), mid=Score(precision=0.5726620106250359, recall=0.543325951989478, fmeasure=0.5572830771183226), high=Score(precision=0.5951239510878245, recall=0.5643902640469672, fmeasure=0.5789485158172911))}\n"
          ]
        },
        {
          "output_type": "stream",
          "name": "stderr",
          "text": [
            "/usr/local/lib/python3.10/dist-packages/torch/_dynamo/eval_frame.py:600: UserWarning: torch.utils.checkpoint: the use_reentrant parameter should be passed explicitly. In version 2.4 we will raise an exception if use_reentrant is not passed. use_reentrant=False is recommended, but if you need to preserve the current default behavior, you can pass use_reentrant=True. Refer to docs for more details on the differences between the two variants.\n",
            "  return fn(*args, **kwargs)\n",
            "/usr/local/lib/python3.10/dist-packages/torch/utils/checkpoint.py:295: FutureWarning: `torch.cpu.amp.autocast(args...)` is deprecated. Please use `torch.amp.autocast('cpu', args...)` instead.\n",
            "  with torch.enable_grad(), device_autocast_ctx, torch.cpu.amp.autocast(**ctx.cpu_autocast_kwargs):  # type: ignore[attr-defined]\n"
          ]
        },
        {
          "output_type": "stream",
          "name": "stdout",
          "text": [
            "{'rouge1': AggregateScore(low=Score(precision=0.5882404744840077, recall=0.5561606600257681, fmeasure=0.5714524469057585), mid=Score(precision=0.6083664363572419, recall=0.5765895358974247, fmeasure=0.5918716520341205), high=Score(precision=0.6289523765088535, recall=0.5971373449079104, fmeasure=0.6124404975534192)), 'rouge2': AggregateScore(low=Score(precision=0.2856325393582143, recall=0.27017952365685066, fmeasure=0.2778777863704712), mid=Score(precision=0.31062090083836735, recall=0.2940891017985835, fmeasure=0.301937613861761), high=Score(precision=0.33496776402178957, recall=0.3174775110850449, fmeasure=0.32562074478756975)), 'rougeL': AggregateScore(low=Score(precision=0.5173069917309935, recall=0.4900316918549638, fmeasure=0.5030863215497096), mid=Score(precision=0.5412012484481827, recall=0.5128305879929234, fmeasure=0.5264578128879687), high=Score(precision=0.5630917078098155, recall=0.5331807963135042, fmeasure=0.5474757929140578)), 'rougeLsum': AggregateScore(low=Score(precision=0.5471389657865995, recall=0.5179350859004415, fmeasure=0.5317867608156632), mid=Score(precision=0.5697002846681678, recall=0.5400867086511777, fmeasure=0.5542358601123073), high=Score(precision=0.5926868710832166, recall=0.5619532582770141, fmeasure=0.5767469357058603))}\n",
            "{'rouge1': AggregateScore(low=Score(precision=0.5908987820297056, recall=0.560127536898286, fmeasure=0.5751573149468306), mid=Score(precision=0.6116152317375856, recall=0.5801757632443906, fmeasure=0.5955249371832083), high=Score(precision=0.6318156608073079, recall=0.6004762836021721, fmeasure=0.6153251617277623)), 'rouge2': AggregateScore(low=Score(precision=0.2871179740384675, recall=0.2728631232421348, fmeasure=0.27967058676046863), mid=Score(precision=0.3129905740200857, recall=0.29670214179971477, fmeasure=0.30458749744745817), high=Score(precision=0.3387991166680285, recall=0.3206793799737304, fmeasure=0.32973750576015237)), 'rougeL': AggregateScore(low=Score(precision=0.5210814779575195, recall=0.49423023190671084, fmeasure=0.5067596745792281), mid=Score(precision=0.5450842715039045, recall=0.5167138205958134, fmeasure=0.530269286555777), high=Score(precision=0.5664314081513575, recall=0.5376759394747357, fmeasure=0.5510261771483199)), 'rougeLsum': AggregateScore(low=Score(precision=0.5501025160519443, recall=0.5217930315002233, fmeasure=0.5350190179293668), mid=Score(precision=0.5733675771203215, recall=0.5438804157527382, fmeasure=0.5579699371738339), high=Score(precision=0.5962761381298659, recall=0.5661593362283075, fmeasure=0.5808358015354902))}\n",
            "{'rouge1': AggregateScore(low=Score(precision=0.5900771028694685, recall=0.5604765826021227, fmeasure=0.5750468444876856), mid=Score(precision=0.6107373317712638, recall=0.5800826387114687, fmeasure=0.5946346530805884), high=Score(precision=0.6324240833517103, recall=0.6004427960876089, fmeasure=0.6153741930383934)), 'rouge2': AggregateScore(low=Score(precision=0.2874439440883675, recall=0.27230332091326037, fmeasure=0.27947850511547634), mid=Score(precision=0.31241448881216377, recall=0.29638862942232735, fmeasure=0.30407049948949544), high=Score(precision=0.33833636551757273, recall=0.32049874017336905, fmeasure=0.3290655668678009)), 'rougeL': AggregateScore(low=Score(precision=0.5201093736070311, recall=0.4932778736935692, fmeasure=0.5060317594176342), mid=Score(precision=0.543610863089363, recall=0.5160347543423294, fmeasure=0.5294104254198391), high=Score(precision=0.565614856011205, recall=0.5361344908875584, fmeasure=0.550685265216381)), 'rougeLsum': AggregateScore(low=Score(precision=0.5485798543512745, recall=0.5210436848060577, fmeasure=0.5340953756222131), mid=Score(precision=0.5718795959037075, recall=0.5428524961751436, fmeasure=0.5568466898107379), high=Score(precision=0.5950550931031849, recall=0.5652673763762159, fmeasure=0.5798067968207685))}\n",
            "{'rouge1': AggregateScore(low=Score(precision=0.592505278669549, recall=0.5622552901226344, fmeasure=0.5774705078977055), mid=Score(precision=0.6130330535815691, recall=0.5821061012179449, fmeasure=0.5969987992845045), high=Score(precision=0.6343668706910827, recall=0.6021986913067374, fmeasure=0.6170472859259019)), 'rouge2': AggregateScore(low=Score(precision=0.28890246795971275, recall=0.27402616328072127, fmeasure=0.2810688697567085), mid=Score(precision=0.31466489874775694, recall=0.29855058493830716, fmeasure=0.30634853150198305), high=Score(precision=0.3414960242710019, recall=0.32358823071143167, fmeasure=0.3323684120962006)), 'rougeL': AggregateScore(low=Score(precision=0.5217963223225685, recall=0.4950590522957677, fmeasure=0.5079329740656197), mid=Score(precision=0.5461554251357836, recall=0.5183638039709273, fmeasure=0.5318848687040802), high=Score(precision=0.5675690578811375, recall=0.5385691699918032, fmeasure=0.55236727651249)), 'rougeLsum': AggregateScore(low=Score(precision=0.5508424222934258, recall=0.5236756964716062, fmeasure=0.5371019210616), mid=Score(precision=0.5741973872538013, recall=0.5449916332874267, fmeasure=0.5588809333390634), high=Score(precision=0.5965686894981076, recall=0.5672886129745129, fmeasure=0.5814842607879845))}\n",
            "{'rouge1': AggregateScore(low=Score(precision=0.5909873063126032, recall=0.5614798273436578, fmeasure=0.5762858082916618), mid=Score(precision=0.611422897957721, recall=0.5806290661266138, fmeasure=0.595587459645561), high=Score(precision=0.6325371967401533, recall=0.6013209778381534, fmeasure=0.6158069643326539)), 'rouge2': AggregateScore(low=Score(precision=0.28672485767926664, recall=0.2720964930660352, fmeasure=0.2791765066030674), mid=Score(precision=0.31285240670083975, recall=0.29678120685672804, fmeasure=0.3043657097944811), high=Score(precision=0.3386383132562349, recall=0.32089176867838975, fmeasure=0.32988590764421966)), 'rougeL': AggregateScore(low=Score(precision=0.52134120495257, recall=0.49450951770665114, fmeasure=0.5073731443457592), mid=Score(precision=0.5449681744123838, recall=0.517520410826906, fmeasure=0.5307336849636328), high=Score(precision=0.5667497967466402, recall=0.5379707763045696, fmeasure=0.5514657670307586)), 'rougeLsum': AggregateScore(low=Score(precision=0.5496821721079718, recall=0.5228429678576044, fmeasure=0.5359035774954023), mid=Score(precision=0.572792190877078, recall=0.544053647298574, fmeasure=0.5578988159946952), high=Score(precision=0.5956184499756147, recall=0.5665975958211377, fmeasure=0.5805705449391023))}\n"
          ]
        },
        {
          "output_type": "execute_result",
          "data": {
            "text/plain": [
              "TrainOutput(global_step=1000, training_loss=1.1782330932617187, metrics={'train_runtime': 459.2187, 'train_samples_per_second': 8.71, 'train_steps_per_second': 2.178, 'total_flos': 948628881408000.0, 'train_loss': 1.1782330932617187, 'epoch': 5.0})"
            ]
          },
          "metadata": {},
          "execution_count": 42
        }
      ]
    },
    {
      "cell_type": "code",
      "source": [
        "#Train the model\n",
        "#trainer.train() ##For 10 epocs          #Sep27 10:32am\n",
        "\n",
        "'''\n",
        "training_args = TrainingArguments(\n",
        "    output_dir=\"./Qwen-QAResults\",\n",
        "    overwrite_output_dir=True,\n",
        "    eval_strategy = \"steps\",\n",
        "    eval_steps=100, #100\n",
        "    logging_strategy=\"steps\",\n",
        "    logging_steps=50, #100 or 50\n",
        "    num_train_epochs=5,   #4,    ##Epochs\n",
        "    per_device_train_batch_size=2, #1 or  #2\n",
        "    per_device_eval_batch_size=2, #2\n",
        "    gradient_accumulation_steps=2,  #4\n",
        "    save_steps=500, #500\n",
        "    save_total_limit=2,\n",
        "    gradient_checkpointing=True, ##Rohini\n",
        "    #save_on_each_node=True,  ##Rohini\n",
        "    #learning_rate=4e-4   #1e-4, #2e-4   ##Rohini\n",
        "    fp16=True,  # Mixed precision training for efficiency\n",
        "    report_to=\"none\",\n",
        "    dataloader_pin_memory=True\n",
        "    #use_cache = False   #Rohini\n",
        ")\n",
        "'''"
      ],
      "metadata": {
        "colab": {
          "base_uri": "https://localhost:8080/",
          "height": 868
        },
        "outputId": "3d9941d9-5b3b-4471-906a-c0c5d1a57947",
        "id": "QArt0bwUc1Mg"
      },
      "execution_count": null,
      "outputs": [
        {
          "output_type": "stream",
          "name": "stderr",
          "text": [
            "/usr/local/lib/python3.10/dist-packages/torch/_dynamo/eval_frame.py:600: UserWarning: torch.utils.checkpoint: the use_reentrant parameter should be passed explicitly. In version 2.4 we will raise an exception if use_reentrant is not passed. use_reentrant=False is recommended, but if you need to preserve the current default behavior, you can pass use_reentrant=True. Refer to docs for more details on the differences between the two variants.\n",
            "  return fn(*args, **kwargs)\n",
            "/usr/local/lib/python3.10/dist-packages/torch/utils/checkpoint.py:295: FutureWarning: `torch.cpu.amp.autocast(args...)` is deprecated. Please use `torch.amp.autocast('cpu', args...)` instead.\n",
            "  with torch.enable_grad(), device_autocast_ctx, torch.cpu.amp.autocast(**ctx.cpu_autocast_kwargs):  # type: ignore[attr-defined]\n"
          ]
        },
        {
          "output_type": "display_data",
          "data": {
            "text/plain": [
              "<IPython.core.display.HTML object>"
            ],
            "text/html": [
              "\n",
              "    <div>\n",
              "      \n",
              "      <progress value='1000' max='1000' style='width:300px; height:20px; vertical-align: middle;'></progress>\n",
              "      [1000/1000 07:41, Epoch 5/5]\n",
              "    </div>\n",
              "    <table border=\"1\" class=\"dataframe\">\n",
              "  <thead>\n",
              " <tr style=\"text-align: left;\">\n",
              "      <th>Step</th>\n",
              "      <th>Training Loss</th>\n",
              "      <th>Validation Loss</th>\n",
              "      <th>Rouge1</th>\n",
              "      <th>Rouge2</th>\n",
              "      <th>Rougel</th>\n",
              "      <th>Rougelsum</th>\n",
              "    </tr>\n",
              "  </thead>\n",
              "  <tbody>\n",
              "    <tr>\n",
              "      <td>100</td>\n",
              "      <td>0.752900</td>\n",
              "      <td>0.723774</td>\n",
              "      <td>0.597270</td>\n",
              "      <td>0.295241</td>\n",
              "      <td>0.533662</td>\n",
              "      <td>0.565040</td>\n",
              "    </tr>\n",
              "    <tr>\n",
              "      <td>200</td>\n",
              "      <td>0.673400</td>\n",
              "      <td>0.718842</td>\n",
              "      <td>0.598198</td>\n",
              "      <td>0.299721</td>\n",
              "      <td>0.537843</td>\n",
              "      <td>0.567262</td>\n",
              "    </tr>\n",
              "    <tr>\n",
              "      <td>300</td>\n",
              "      <td>0.677500</td>\n",
              "      <td>0.725224</td>\n",
              "      <td>0.596207</td>\n",
              "      <td>0.295652</td>\n",
              "      <td>0.532546</td>\n",
              "      <td>0.563488</td>\n",
              "    </tr>\n",
              "    <tr>\n",
              "      <td>400</td>\n",
              "      <td>0.757100</td>\n",
              "      <td>0.726009</td>\n",
              "      <td>0.596975</td>\n",
              "      <td>0.296829</td>\n",
              "      <td>0.535627</td>\n",
              "      <td>0.565468</td>\n",
              "    </tr>\n",
              "    <tr>\n",
              "      <td>500</td>\n",
              "      <td>0.697000</td>\n",
              "      <td>0.730761</td>\n",
              "      <td>0.595657</td>\n",
              "      <td>0.297729</td>\n",
              "      <td>0.535527</td>\n",
              "      <td>0.563571</td>\n",
              "    </tr>\n",
              "    <tr>\n",
              "      <td>600</td>\n",
              "      <td>0.686700</td>\n",
              "      <td>0.729054</td>\n",
              "      <td>0.592742</td>\n",
              "      <td>0.293274</td>\n",
              "      <td>0.530961</td>\n",
              "      <td>0.560883</td>\n",
              "    </tr>\n",
              "    <tr>\n",
              "      <td>700</td>\n",
              "      <td>0.668000</td>\n",
              "      <td>0.735885</td>\n",
              "      <td>0.594456</td>\n",
              "      <td>0.295492</td>\n",
              "      <td>0.533721</td>\n",
              "      <td>0.564162</td>\n",
              "    </tr>\n",
              "    <tr>\n",
              "      <td>800</td>\n",
              "      <td>0.667200</td>\n",
              "      <td>0.735056</td>\n",
              "      <td>0.591964</td>\n",
              "      <td>0.293835</td>\n",
              "      <td>0.531394</td>\n",
              "      <td>0.560581</td>\n",
              "    </tr>\n",
              "    <tr>\n",
              "      <td>900</td>\n",
              "      <td>0.657400</td>\n",
              "      <td>0.737522</td>\n",
              "      <td>0.591220</td>\n",
              "      <td>0.291926</td>\n",
              "      <td>0.530017</td>\n",
              "      <td>0.559929</td>\n",
              "    </tr>\n",
              "    <tr>\n",
              "      <td>1000</td>\n",
              "      <td>0.659700</td>\n",
              "      <td>0.736795</td>\n",
              "      <td>0.592799</td>\n",
              "      <td>0.293025</td>\n",
              "      <td>0.531223</td>\n",
              "      <td>0.561664</td>\n",
              "    </tr>\n",
              "  </tbody>\n",
              "</table><p>"
            ]
          },
          "metadata": {}
        },
        {
          "output_type": "stream",
          "name": "stdout",
          "text": [
            "{'rouge1': AggregateScore(low=Score(precision=0.5968189509219234, recall=0.5603806932899886, fmeasure=0.5779468427410331), mid=Score(precision=0.6162186909156525, recall=0.5800126401013439, fmeasure=0.5972700242649251), high=Score(precision=0.6351621017749448, recall=0.6001940617275044, fmeasure=0.6164721492508954)), 'rouge2': AggregateScore(low=Score(precision=0.28183764949737916, recall=0.26443409270735047, fmeasure=0.2726540055627123), mid=Score(precision=0.3044854427504926, recall=0.28666753354351104, fmeasure=0.2952411682290217), high=Score(precision=0.3282046989065307, recall=0.30939561354730427, fmeasure=0.31850681607397924)), 'rougeL': AggregateScore(low=Score(precision=0.5285830539949796, recall=0.4963667548356805, fmeasure=0.5112808502870361), mid=Score(precision=0.5505347036884598, recall=0.5183271869890247, fmeasure=0.5336622394180157), high=Score(precision=0.5702032358316002, recall=0.5376078555079122, fmeasure=0.5525823000456578)), 'rougeLsum': AggregateScore(low=Score(precision=0.5627293101215035, recall=0.5290972192577857, fmeasure=0.5446908214291132), mid=Score(precision=0.5828225143457271, recall=0.5488230198845385, fmeasure=0.5650404031107839), high=Score(precision=0.6032948450743837, recall=0.5678134335182724, fmeasure=0.5845720251130928))}\n",
            "{'rouge1': AggregateScore(low=Score(precision=0.5945941176704698, recall=0.5623809738135614, fmeasure=0.5782080669074031), mid=Score(precision=0.6154525245645248, recall=0.5825252992716425, fmeasure=0.5981975361862719), high=Score(precision=0.635278617244229, recall=0.6023799274398854, fmeasure=0.6178895367031585)), 'rouge2': AggregateScore(low=Score(precision=0.283603068597033, recall=0.268444443140817, fmeasure=0.27540935078884443), mid=Score(precision=0.30834213665054977, recall=0.29167066217388515, fmeasure=0.2997211273873673), high=Score(precision=0.3342066600333491, recall=0.3163333033975613, fmeasure=0.3246529004356093)), 'rougeL': AggregateScore(low=Score(precision=0.5316443748403922, recall=0.5017498637267744, fmeasure=0.516221046372006), mid=Score(precision=0.5534739292898452, recall=0.5235391587914918, fmeasure=0.5378430613580969), high=Score(precision=0.5742852898544927, recall=0.5443100996532894, fmeasure=0.5587712744633265)), 'rougeLsum': AggregateScore(low=Score(precision=0.5620064462307048, recall=0.5316675187164235, fmeasure=0.5462848741131552), mid=Score(precision=0.5836071294401097, recall=0.5522497577777867, fmeasure=0.5672617554692364), high=Score(precision=0.6034568634221095, recall=0.5714657753332062, fmeasure=0.5869735325800083))}\n",
            "{'rouge1': AggregateScore(low=Score(precision=0.5951416734232978, recall=0.5614417019195669, fmeasure=0.5779848434611619), mid=Score(precision=0.6139982501752228, recall=0.5797832200931223, fmeasure=0.5962074146904212), high=Score(precision=0.6327939711611644, recall=0.5984206535606552, fmeasure=0.6149483584605853)), 'rouge2': AggregateScore(low=Score(precision=0.2808530492115227, recall=0.2646813481675996, fmeasure=0.2727563491197363), mid=Score(precision=0.3047471679121676, recall=0.28777029635413764, fmeasure=0.29565223507099436), high=Score(precision=0.3288321141456677, recall=0.3110046950606482, fmeasure=0.31941583312731053)), 'rougeL': AggregateScore(low=Score(precision=0.5262726291949363, recall=0.4951704870946755, fmeasure=0.5101546734823607), mid=Score(precision=0.548870042301778, recall=0.5178774793927123, fmeasure=0.5325463475040716), high=Score(precision=0.5683548037843009, recall=0.5373676330626171, fmeasure=0.5521850436019269)), 'rougeLsum': AggregateScore(low=Score(precision=0.5594395238090452, recall=0.527953406645316, fmeasure=0.5429559936393142), mid=Score(precision=0.5803599286723157, recall=0.5479317651837563, fmeasure=0.5634875080989783), high=Score(precision=0.6007085215655524, recall=0.5665083805800574, fmeasure=0.5826900118230182))}\n",
            "{'rouge1': AggregateScore(low=Score(precision=0.5947547126311293, recall=0.561498762466767, fmeasure=0.5775520252382905), mid=Score(precision=0.6145983169429505, recall=0.5808358093848136, fmeasure=0.5969746193254757), high=Score(precision=0.6322543875310581, recall=0.5992107776792804, fmeasure=0.6148806708474487)), 'rouge2': AggregateScore(low=Score(precision=0.2827926544986222, recall=0.26679695799870284, fmeasure=0.2746220896722038), mid=Score(precision=0.3054430330490311, recall=0.28860133999516635, fmeasure=0.2968292638730602), high=Score(precision=0.329989483884626, recall=0.31224904149661986, fmeasure=0.32066666653128895)), 'rougeL': AggregateScore(low=Score(precision=0.529417764762811, recall=0.5003312837724544, fmeasure=0.5143321742429025), mid=Score(precision=0.5512303076187295, recall=0.5213079966786183, fmeasure=0.5356265361719901), high=Score(precision=0.57030984213478, recall=0.5401143485360158, fmeasure=0.5541350604421114)), 'rougeLsum': AggregateScore(low=Score(precision=0.56236426075854, recall=0.531202121224307, fmeasure=0.5457147626915504), mid=Score(precision=0.582213669051479, recall=0.5505179207968613, fmeasure=0.5654684673218561), high=Score(precision=0.6019787185537209, recall=0.5694953650750814, fmeasure=0.5847761962313222))}\n",
            "{'rouge1': AggregateScore(low=Score(precision=0.5943322099977356, recall=0.5601357358931731, fmeasure=0.5763468836930854), mid=Score(precision=0.6136230674036417, recall=0.5793599765528514, fmeasure=0.5956571054619129), high=Score(precision=0.6325829924208598, recall=0.5979594649638963, fmeasure=0.6148491530677205)), 'rouge2': AggregateScore(low=Score(precision=0.2826311456602469, recall=0.26637867400461124, fmeasure=0.2739150750188006), mid=Score(precision=0.3065941541635483, recall=0.2897874048560429, fmeasure=0.29772861453998134), high=Score(precision=0.3306304554799065, recall=0.3125967335429258, fmeasure=0.32118151010283347)), 'rougeL': AggregateScore(low=Score(precision=0.5303603068024033, recall=0.49988334303871884, fmeasure=0.5148776601127207), mid=Score(precision=0.5514476576993834, recall=0.5211614106818396, fmeasure=0.5355274615569539), high=Score(precision=0.570451813680563, recall=0.5399883427081508, fmeasure=0.5545795926234104)), 'rougeLsum': AggregateScore(low=Score(precision=0.5607255584813787, recall=0.5287223124708661, fmeasure=0.5439528407817233), mid=Score(precision=0.5804259901473297, recall=0.5486256558235196, fmeasure=0.563571007069146), high=Score(precision=0.5992379025289643, recall=0.5673352963051519, fmeasure=0.5823840948124844))}\n"
          ]
        },
        {
          "output_type": "stream",
          "name": "stderr",
          "text": [
            "/usr/local/lib/python3.10/dist-packages/torch/_dynamo/eval_frame.py:600: UserWarning: torch.utils.checkpoint: the use_reentrant parameter should be passed explicitly. In version 2.4 we will raise an exception if use_reentrant is not passed. use_reentrant=False is recommended, but if you need to preserve the current default behavior, you can pass use_reentrant=True. Refer to docs for more details on the differences between the two variants.\n",
            "  return fn(*args, **kwargs)\n",
            "/usr/local/lib/python3.10/dist-packages/torch/utils/checkpoint.py:295: FutureWarning: `torch.cpu.amp.autocast(args...)` is deprecated. Please use `torch.amp.autocast('cpu', args...)` instead.\n",
            "  with torch.enable_grad(), device_autocast_ctx, torch.cpu.amp.autocast(**ctx.cpu_autocast_kwargs):  # type: ignore[attr-defined]\n"
          ]
        },
        {
          "output_type": "stream",
          "name": "stdout",
          "text": [
            "{'rouge1': AggregateScore(low=Score(precision=0.5902671214351951, recall=0.5591514631858931, fmeasure=0.573804102458194), mid=Score(precision=0.6097926703729795, recall=0.5775623910540059, fmeasure=0.5927423001538079), high=Score(precision=0.6287128156395286, recall=0.5967268263038397, fmeasure=0.6118819461280646)), 'rouge2': AggregateScore(low=Score(precision=0.2789532958932706, recall=0.26379713165598645, fmeasure=0.271024827732941), mid=Score(precision=0.3016973582734154, recall=0.28557145365904957, fmeasure=0.29327410066900733), high=Score(precision=0.3239655059618862, recall=0.30692463680169924, fmeasure=0.314976663070731)), 'rougeL': AggregateScore(low=Score(precision=0.525471504114849, recall=0.49668731779485265, fmeasure=0.5107534741562807), mid=Score(precision=0.5462229486460528, recall=0.5173731849887913, fmeasure=0.5309611441629742), high=Score(precision=0.5654730856662241, recall=0.536396064970665, fmeasure=0.5503871470317693)), 'rougeLsum': AggregateScore(low=Score(precision=0.5565939736052644, recall=0.5272576952297469, fmeasure=0.5412828264694461), mid=Score(precision=0.5768482752267028, recall=0.546455343337015, fmeasure=0.5608834914787886), high=Score(precision=0.5963407003930319, recall=0.5649532967577773, fmeasure=0.5795996954333699))}\n",
            "{'rouge1': AggregateScore(low=Score(precision=0.5912915754756884, recall=0.5597660403588364, fmeasure=0.5755059118969502), mid=Score(precision=0.6110526519482621, recall=0.5793917054463557, fmeasure=0.5944555889969465), high=Score(precision=0.6295334081229957, recall=0.5992922928737996, fmeasure=0.6137465314302176)), 'rouge2': AggregateScore(low=Score(precision=0.27898401998469213, recall=0.26441463438546137, fmeasure=0.2713071591046088), mid=Score(precision=0.3035229660550429, recall=0.2881281095328887, fmeasure=0.29549247049699545), high=Score(precision=0.32698022094048557, recall=0.3104909574211481, fmeasure=0.3182430131789987)), 'rougeL': AggregateScore(low=Score(precision=0.5283668664315897, recall=0.49909015225659453, fmeasure=0.5132371959252214), mid=Score(precision=0.5486974004121536, recall=0.5203617442278126, fmeasure=0.5337214442715964), high=Score(precision=0.5682519553026775, recall=0.5395667606598498, fmeasure=0.5534600383407343)), 'rougeLsum': AggregateScore(low=Score(precision=0.5602777751637069, recall=0.5297446832532403, fmeasure=0.544471523125704), mid=Score(precision=0.5798945349118627, recall=0.5497341729448866, fmeasure=0.5641616045649547), high=Score(precision=0.5995268425978261, recall=0.569210259638438, fmeasure=0.5834209805043797))}\n",
            "{'rouge1': AggregateScore(low=Score(precision=0.5893537198588727, recall=0.5574416153494499, fmeasure=0.5727306148165445), mid=Score(precision=0.6085485793220462, recall=0.5766623147122054, fmeasure=0.5919639893412817), high=Score(precision=0.6277200209505055, recall=0.5962627128695224, fmeasure=0.6115984861222477)), 'rouge2': AggregateScore(low=Score(precision=0.278329059447787, recall=0.262933390042793, fmeasure=0.2704223642161003), mid=Score(precision=0.30209889974701015, recall=0.28624035170876216, fmeasure=0.29383493050963516), high=Score(precision=0.3255656597624492, recall=0.30882997006334023, fmeasure=0.31685425948060447)), 'rougeL': AggregateScore(low=Score(precision=0.5248882845914966, recall=0.4959245540668799, fmeasure=0.5098593626769564), mid=Score(precision=0.5464773649506472, recall=0.5179437513223752, fmeasure=0.5313939926818225), high=Score(precision=0.5667944527346972, recall=0.5378118654805217, fmeasure=0.5519607683549913)), 'rougeLsum': AggregateScore(low=Score(precision=0.5558982733917779, recall=0.5259836173515356, fmeasure=0.5409589104712599), mid=Score(precision=0.5765650094985704, recall=0.5459393487194131, fmeasure=0.5605811714979685), high=Score(precision=0.5957961053677897, recall=0.565237121066592, fmeasure=0.5799301226660958))}\n",
            "{'rouge1': AggregateScore(low=Score(precision=0.5883179819761571, recall=0.5559512146491786, fmeasure=0.5718714742844576), mid=Score(precision=0.6086083875609942, recall=0.5754612738923347, fmeasure=0.5912204211570602), high=Score(precision=0.6277406515364049, recall=0.5949816183382921, fmeasure=0.6108390325769891)), 'rouge2': AggregateScore(low=Score(precision=0.27673276087794973, recall=0.2610484889432347, fmeasure=0.2685725105155427), mid=Score(precision=0.3005130816851139, recall=0.2840894129369752, fmeasure=0.29192586481373584), high=Score(precision=0.3240284944496249, recall=0.30706351043992747, fmeasure=0.3151954633096202)), 'rougeL': AggregateScore(low=Score(precision=0.5237486626126321, recall=0.4942112686509691, fmeasure=0.5089796581937994), mid=Score(precision=0.5454066938162168, recall=0.5159546013011338, fmeasure=0.5300171929989335), high=Score(precision=0.5648621830760711, recall=0.5355177913980462, fmeasure=0.549598847495384)), 'rougeLsum': AggregateScore(low=Score(precision=0.5560192364846592, recall=0.5257396184030951, fmeasure=0.5396108828684932), mid=Score(precision=0.5764184935930601, recall=0.5451355743548936, fmeasure=0.5599288633216639), high=Score(precision=0.5961449353099796, recall=0.5640876427808426, fmeasure=0.5793901532272213))}\n",
            "{'rouge1': AggregateScore(low=Score(precision=0.5905900450032264, recall=0.557841630891008, fmeasure=0.5733826459576409), mid=Score(precision=0.610130865072962, recall=0.576843805684397, fmeasure=0.5927987839141118), high=Score(precision=0.6289341614627557, recall=0.5958385497825466, fmeasure=0.6118752019015377)), 'rouge2': AggregateScore(low=Score(precision=0.27765692924034985, recall=0.2621102703556425, fmeasure=0.26953977768477516), mid=Score(precision=0.3015987342950436, recall=0.28514920122611664, fmeasure=0.2930245897682078), high=Score(precision=0.32514048538823553, recall=0.30789779397774325, fmeasure=0.31603248607522016)), 'rougeL': AggregateScore(low=Score(precision=0.525690822632856, recall=0.49586643375650874, fmeasure=0.5095303606913308), mid=Score(precision=0.5470506918661548, recall=0.517021828733824, fmeasure=0.5312232496993785), high=Score(precision=0.566418273681701, recall=0.5362163517863587, fmeasure=0.5504467369569337)), 'rougeLsum': AggregateScore(low=Score(precision=0.5583953336632518, recall=0.5272984039806698, fmeasure=0.5417794508674861), mid=Score(precision=0.578216402243506, recall=0.5466991586360551, fmeasure=0.561663625859137), high=Score(precision=0.597327240720566, recall=0.565163748081453, fmeasure=0.5807570623277375))}\n"
          ]
        },
        {
          "output_type": "execute_result",
          "data": {
            "text/plain": [
              "'\\ntraining_args = TrainingArguments(\\n    output_dir=\"./Qwen-QAResults\",\\n    overwrite_output_dir=True,\\n    ##Evaluation\\n    #evaluation_strategy=\"steps\",\\n    eval_strategy = \"steps\",\\n    eval_steps=100, #100\\n    ##Logging\\n    logging_strategy=\"steps\",\\n    logging_steps=50, #100 or 50\\n\\n    num_train_epochs=5,   #4,    ##Epochs\\n\\n    #Have used low batch sizes\\n    per_device_train_batch_size=2, #1 or  #2\\n    per_device_eval_batch_size=2, #2\\n\\n    gradient_accumulation_steps=2,  #4  #Have set it low based on GPU\\n    save_steps=500, #500\\n    save_total_limit=2,\\n\\n    gradient_checkpointing=True, ##Rohini\\n\\n    #save_on_each_node=True,  ##Rohini\\n    #learning_rate=4e-4   #1e-4, #2e-4   ##Rohini\\n\\n    fp16=True,  # Mixed precision training for efficiency\\n    report_to=\"none\",\\n    dataloader_pin_memory=True\\n\\n    #use_cache = False   #Ro \\n)\\n'"
            ],
            "application/vnd.google.colaboratory.intrinsic+json": {
              "type": "string"
            }
          },
          "metadata": {},
          "execution_count": 63
        }
      ]
    },
    {
      "cell_type": "code",
      "source": [
        "#Train the model\n",
        "#trainer.train() ##For 10 epocs          #Sep27 10:20am\n",
        "'''\n",
        "training_args = TrainingArguments(\n",
        "    output_dir=\"./Qwen-QAResults\",\n",
        "    overwrite_output_dir=True,\n",
        "    eval_strategy = \"steps\",\n",
        "    eval_steps=100, #100\n",
        "    logging_strategy=\"steps\",\n",
        "    logging_steps=100, #100 or 50\n",
        "    num_train_epochs=10,   #4,    ##Epochs\n",
        "    per_device_train_batch_size=4, #1 or  #2\n",
        "    per_device_eval_batch_size=2, #2\n",
        "    gradient_accumulation_steps=2,  #4  #Low based on GPU\n",
        "    save_steps=500, #500\n",
        "    save_total_limit=2,\n",
        "    gradient_checkpointing=True, ##Ro\n",
        "    fp16=True,  # Mixed precision training for efficiency\n",
        "    report_to=\"none\",\n",
        "    dataloader_pin_memory=True\n",
        ")\n",
        "'''"
      ],
      "metadata": {
        "colab": {
          "base_uri": "https://localhost:8080/",
          "height": 868
        },
        "outputId": "1290db79-6be0-4bbb-b013-626dbc2871fb",
        "id": "QXBS1LkLc1Mh"
      },
      "execution_count": null,
      "outputs": [
        {
          "output_type": "stream",
          "name": "stderr",
          "text": [
            "/usr/local/lib/python3.10/dist-packages/torch/_dynamo/eval_frame.py:600: UserWarning: torch.utils.checkpoint: the use_reentrant parameter should be passed explicitly. In version 2.4 we will raise an exception if use_reentrant is not passed. use_reentrant=False is recommended, but if you need to preserve the current default behavior, you can pass use_reentrant=True. Refer to docs for more details on the differences between the two variants.\n",
            "  return fn(*args, **kwargs)\n",
            "/usr/local/lib/python3.10/dist-packages/torch/utils/checkpoint.py:295: FutureWarning: `torch.cpu.amp.autocast(args...)` is deprecated. Please use `torch.amp.autocast('cpu', args...)` instead.\n",
            "  with torch.enable_grad(), device_autocast_ctx, torch.cpu.amp.autocast(**ctx.cpu_autocast_kwargs):  # type: ignore[attr-defined]\n"
          ]
        },
        {
          "output_type": "display_data",
          "data": {
            "text/plain": [
              "<IPython.core.display.HTML object>"
            ],
            "text/html": [
              "\n",
              "    <div>\n",
              "      \n",
              "      <progress value='1000' max='1000' style='width:300px; height:20px; vertical-align: middle;'></progress>\n",
              "      [1000/1000 07:54, Epoch 10/10]\n",
              "    </div>\n",
              "    <table border=\"1\" class=\"dataframe\">\n",
              "  <thead>\n",
              " <tr style=\"text-align: left;\">\n",
              "      <th>Step</th>\n",
              "      <th>Training Loss</th>\n",
              "      <th>Validation Loss</th>\n",
              "      <th>Rouge1</th>\n",
              "      <th>Rouge2</th>\n",
              "      <th>Rougel</th>\n",
              "      <th>Rougelsum</th>\n",
              "    </tr>\n",
              "  </thead>\n",
              "  <tbody>\n",
              "    <tr>\n",
              "      <td>100</td>\n",
              "      <td>0.761200</td>\n",
              "      <td>0.707408</td>\n",
              "      <td>0.602970</td>\n",
              "      <td>0.304937</td>\n",
              "      <td>0.541457</td>\n",
              "      <td>0.571795</td>\n",
              "    </tr>\n",
              "    <tr>\n",
              "      <td>200</td>\n",
              "      <td>0.748100</td>\n",
              "      <td>0.708890</td>\n",
              "      <td>0.604628</td>\n",
              "      <td>0.304409</td>\n",
              "      <td>0.542529</td>\n",
              "      <td>0.572989</td>\n",
              "    </tr>\n",
              "    <tr>\n",
              "      <td>300</td>\n",
              "      <td>0.738200</td>\n",
              "      <td>0.709490</td>\n",
              "      <td>0.602966</td>\n",
              "      <td>0.300435</td>\n",
              "      <td>0.541619</td>\n",
              "      <td>0.570537</td>\n",
              "    </tr>\n",
              "    <tr>\n",
              "      <td>400</td>\n",
              "      <td>0.728800</td>\n",
              "      <td>0.713337</td>\n",
              "      <td>0.599603</td>\n",
              "      <td>0.299086</td>\n",
              "      <td>0.538595</td>\n",
              "      <td>0.568061</td>\n",
              "    </tr>\n",
              "    <tr>\n",
              "      <td>500</td>\n",
              "      <td>0.720700</td>\n",
              "      <td>0.715421</td>\n",
              "      <td>0.598787</td>\n",
              "      <td>0.296575</td>\n",
              "      <td>0.539396</td>\n",
              "      <td>0.568261</td>\n",
              "    </tr>\n",
              "    <tr>\n",
              "      <td>600</td>\n",
              "      <td>0.713100</td>\n",
              "      <td>0.716680</td>\n",
              "      <td>0.598105</td>\n",
              "      <td>0.296014</td>\n",
              "      <td>0.537388</td>\n",
              "      <td>0.566039</td>\n",
              "    </tr>\n",
              "    <tr>\n",
              "      <td>700</td>\n",
              "      <td>0.707300</td>\n",
              "      <td>0.716374</td>\n",
              "      <td>0.597781</td>\n",
              "      <td>0.297048</td>\n",
              "      <td>0.538160</td>\n",
              "      <td>0.567436</td>\n",
              "    </tr>\n",
              "    <tr>\n",
              "      <td>800</td>\n",
              "      <td>0.702100</td>\n",
              "      <td>0.720267</td>\n",
              "      <td>0.597938</td>\n",
              "      <td>0.299684</td>\n",
              "      <td>0.537981</td>\n",
              "      <td>0.567534</td>\n",
              "    </tr>\n",
              "    <tr>\n",
              "      <td>900</td>\n",
              "      <td>0.698200</td>\n",
              "      <td>0.720944</td>\n",
              "      <td>0.598359</td>\n",
              "      <td>0.298324</td>\n",
              "      <td>0.537765</td>\n",
              "      <td>0.566328</td>\n",
              "    </tr>\n",
              "    <tr>\n",
              "      <td>1000</td>\n",
              "      <td>0.695800</td>\n",
              "      <td>0.721137</td>\n",
              "      <td>0.598015</td>\n",
              "      <td>0.298823</td>\n",
              "      <td>0.537335</td>\n",
              "      <td>0.566808</td>\n",
              "    </tr>\n",
              "  </tbody>\n",
              "</table><p>"
            ]
          },
          "metadata": {}
        },
        {
          "output_type": "stream",
          "name": "stdout",
          "text": [
            "{'rouge1': AggregateScore(low=Score(precision=0.6011098378555999, recall=0.5670676994688658, fmeasure=0.5842633877901191), mid=Score(precision=0.6203127316209556, recall=0.5867954995105708, fmeasure=0.6029696930960031), high=Score(precision=0.6396022974984452, recall=0.6053669565295415, fmeasure=0.6219363487796032)), 'rouge2': AggregateScore(low=Score(precision=0.2894962140292839, recall=0.27367096339547875, fmeasure=0.28137467790263737), mid=Score(precision=0.3135531731546167, recall=0.2969122195480643, fmeasure=0.30493685135103943), high=Score(precision=0.3388415225694116, recall=0.32123594545086304, fmeasure=0.3297368334287543)), 'rougeL': AggregateScore(low=Score(precision=0.5350439008170257, recall=0.5056603728456919, fmeasure=0.5194607414036523), mid=Score(precision=0.5570670729761493, recall=0.5271115990574831, fmeasure=0.5414565937019518), high=Score(precision=0.5761813634265979, recall=0.5465298355803467, fmeasure=0.5607034372936613)), 'rougeLsum': AggregateScore(low=Score(precision=0.5676743300538942, recall=0.5367905275054156, fmeasure=0.5513131187523339), mid=Score(precision=0.5883616806208258, recall=0.5565091923394834, fmeasure=0.571795013744618), high=Score(precision=0.6086332393219693, recall=0.5771938287114454, fmeasure=0.5921171212215445))}\n",
            "{'rouge1': AggregateScore(low=Score(precision=0.6031472140778715, recall=0.5694705438380618, fmeasure=0.5855768181685034), mid=Score(precision=0.6223237596855374, recall=0.5882290990361292, fmeasure=0.6046283759485729), high=Score(precision=0.6413363878396188, recall=0.6069644508531655, fmeasure=0.6233824630873537)), 'rouge2': AggregateScore(low=Score(precision=0.2875997824846411, recall=0.2717637365744948, fmeasure=0.2794295449197109), mid=Score(precision=0.31301334281033766, recall=0.29647394542371214, fmeasure=0.304409228968229), high=Score(precision=0.33860869753750716, recall=0.32159585385206074, fmeasure=0.3297135156731689)), 'rougeL': AggregateScore(low=Score(precision=0.5362890716254416, recall=0.5058371222250232, fmeasure=0.5203265111099675), mid=Score(precision=0.5582118045920385, recall=0.5282463677180953, fmeasure=0.5425291062639964), high=Score(precision=0.5779715357166939, recall=0.5472885690434701, fmeasure=0.5614777020361171)), 'rougeLsum': AggregateScore(low=Score(precision=0.5684074895523737, recall=0.537528260685116, fmeasure=0.5521731720794145), mid=Score(precision=0.5897655017638788, recall=0.5578042915816911, fmeasure=0.57298929586914), high=Score(precision=0.6104143706993932, recall=0.5776226359033991, fmeasure=0.5936740341340165))}\n",
            "{'rouge1': AggregateScore(low=Score(precision=0.6019588323085361, recall=0.568121321509553, fmeasure=0.5843914362814357), mid=Score(precision=0.6202383522949912, recall=0.5873957422140996, fmeasure=0.6029664259986677), high=Score(precision=0.6389331627832894, recall=0.6062290315675235, fmeasure=0.622412144191754)), 'rouge2': AggregateScore(low=Score(precision=0.28508716184443605, recall=0.2693372299594391, fmeasure=0.2771221239086832), mid=Score(precision=0.30890111578823864, recall=0.2924383125842336, fmeasure=0.3004349314309097), high=Score(precision=0.3334889140269121, recall=0.3162566956837251, fmeasure=0.3246975165024432)), 'rougeL': AggregateScore(low=Score(precision=0.534396922898365, recall=0.5049420063380543, fmeasure=0.5190127924034791), mid=Score(precision=0.5565886592313687, recall=0.5277385437685931, fmeasure=0.541618642653357), high=Score(precision=0.5757593872097947, recall=0.5465662570336457, fmeasure=0.5602061170280886)), 'rougeLsum': AggregateScore(low=Score(precision=0.5646130793461808, recall=0.5350550425146001, fmeasure=0.5492062981413323), mid=Score(precision=0.5863681987168741, recall=0.5557512414274648, fmeasure=0.5705365329093861), high=Score(precision=0.6072083883765913, recall=0.5755625602931833, fmeasure=0.5906432728115981))}\n",
            "{'rouge1': AggregateScore(low=Score(precision=0.5974488100417417, recall=0.5640830549602444, fmeasure=0.5804349479812747), mid=Score(precision=0.6169702812647282, recall=0.5840359891463276, fmeasure=0.599603212119483), high=Score(precision=0.6357667162661345, recall=0.6033919339212395, fmeasure=0.6183270862426961)), 'rouge2': AggregateScore(low=Score(precision=0.2836208966805146, recall=0.26840950252807316, fmeasure=0.2752213228348587), mid=Score(precision=0.3074992879026218, recall=0.29139819966811437, fmeasure=0.2990860651335733), high=Score(precision=0.3319636998106986, recall=0.3150306686947327, fmeasure=0.3229553329358352)), 'rougeL': AggregateScore(low=Score(precision=0.5318670198580363, recall=0.5025288617627293, fmeasure=0.5163097270388166), mid=Score(precision=0.5536399992437862, recall=0.5247543684852971, fmeasure=0.5385954127768642), high=Score(precision=0.5734988522657106, recall=0.5441655107327625, fmeasure=0.5581929650542925)), 'rougeLsum': AggregateScore(low=Score(precision=0.5632409400643817, recall=0.5326529936766657, fmeasure=0.5473841090606167), mid=Score(precision=0.5843671303216007, recall=0.5532163618524467, fmeasure=0.568060919160933), high=Score(precision=0.6046950288281586, recall=0.5725775238694049, fmeasure=0.5883478160178516))}\n",
            "{'rouge1': AggregateScore(low=Score(precision=0.5959863489052434, recall=0.5627437999275946, fmeasure=0.5786672205815583), mid=Score(precision=0.6161139773416645, recall=0.5832197670441133, fmeasure=0.5987870507149455), high=Score(precision=0.6349513736766096, recall=0.6029011090253256, fmeasure=0.6181906964803632)), 'rouge2': AggregateScore(low=Score(precision=0.280363377302448, recall=0.26496532922719856, fmeasure=0.27242874888334495), mid=Score(precision=0.3050540209519812, recall=0.2886246980744629, fmeasure=0.29657530449949543), high=Score(precision=0.33000170191540223, recall=0.312505452179675, fmeasure=0.3209805732910731)), 'rougeL': AggregateScore(low=Score(precision=0.5322877132001289, recall=0.5025635757694074, fmeasure=0.516966552736325), mid=Score(precision=0.5547006551673384, recall=0.5252190782032652, fmeasure=0.5393963523846431), high=Score(precision=0.5752608185747792, recall=0.5446715924504748, fmeasure=0.5591599110240185)), 'rougeLsum': AggregateScore(low=Score(precision=0.5630433103901745, recall=0.5319906930900637, fmeasure=0.5471548478742518), mid=Score(precision=0.5844368809455454, recall=0.5531378721528613, fmeasure=0.5682606632224789), high=Score(precision=0.6060562779250235, recall=0.5736392376102546, fmeasure=0.5891637678348205))}\n"
          ]
        },
        {
          "output_type": "stream",
          "name": "stderr",
          "text": [
            "/usr/local/lib/python3.10/dist-packages/torch/_dynamo/eval_frame.py:600: UserWarning: torch.utils.checkpoint: the use_reentrant parameter should be passed explicitly. In version 2.4 we will raise an exception if use_reentrant is not passed. use_reentrant=False is recommended, but if you need to preserve the current default behavior, you can pass use_reentrant=True. Refer to docs for more details on the differences between the two variants.\n",
            "  return fn(*args, **kwargs)\n",
            "/usr/local/lib/python3.10/dist-packages/torch/utils/checkpoint.py:295: FutureWarning: `torch.cpu.amp.autocast(args...)` is deprecated. Please use `torch.amp.autocast('cpu', args...)` instead.\n",
            "  with torch.enable_grad(), device_autocast_ctx, torch.cpu.amp.autocast(**ctx.cpu_autocast_kwargs):  # type: ignore[attr-defined]\n"
          ]
        },
        {
          "output_type": "stream",
          "name": "stdout",
          "text": [
            "{'rouge1': AggregateScore(low=Score(precision=0.5961899169496034, recall=0.5617469525820781, fmeasure=0.5785534405649795), mid=Score(precision=0.6158119316758512, recall=0.5816629077410662, fmeasure=0.5981049182467659), high=Score(precision=0.6343845061552671, recall=0.6011694930097113, fmeasure=0.6169746791215748)), 'rouge2': AggregateScore(low=Score(precision=0.2809758083922575, recall=0.2646219817647682, fmeasure=0.27245989123799563), mid=Score(precision=0.3047162326295241, recall=0.28792426323716747, fmeasure=0.2960138468961749), high=Score(precision=0.3289276084117305, recall=0.31190928274366264, fmeasure=0.32012353581423264)), 'rougeL': AggregateScore(low=Score(precision=0.5318676550970698, recall=0.5003851175127925, fmeasure=0.5156216268881022), mid=Score(precision=0.5534108974933241, recall=0.5228840570559581, fmeasure=0.5373882017980123), high=Score(precision=0.5729631291884838, recall=0.5420379810229716, fmeasure=0.5569768151402018)), 'rougeLsum': AggregateScore(low=Score(precision=0.5625930871840235, recall=0.5312182248072, fmeasure=0.5464230804373669), mid=Score(precision=0.5830820549673243, recall=0.550627885610264, fmeasure=0.5660392789838753), high=Score(precision=0.6026351823743374, recall=0.5696986304255908, fmeasure=0.5852279697470605))}\n",
            "{'rouge1': AggregateScore(low=Score(precision=0.5960752354168491, recall=0.561868454347692, fmeasure=0.5784154483492518), mid=Score(precision=0.6151586508121378, recall=0.5818096293662056, fmeasure=0.5977814574106096), high=Score(precision=0.6334847533593508, recall=0.6012084181043259, fmeasure=0.6173835238641879)), 'rouge2': AggregateScore(low=Score(precision=0.28231800054894, recall=0.2662060304190332, fmeasure=0.27366054138200974), mid=Score(precision=0.30564123025020834, recall=0.2892065261881144, fmeasure=0.2970477852193263), high=Score(precision=0.33037860587093304, recall=0.31368884171098393, fmeasure=0.3216485066072244)), 'rougeL': AggregateScore(low=Score(precision=0.5316739158301371, recall=0.501908766752656, fmeasure=0.5163577334954499), mid=Score(precision=0.5537677538281115, recall=0.5240784848599762, fmeasure=0.5381602939823589), high=Score(precision=0.5729180925455961, recall=0.5431146088548847, fmeasure=0.557297760529767)), 'rougeLsum': AggregateScore(low=Score(precision=0.5634650795327908, recall=0.5324146025503566, fmeasure=0.547842086707522), mid=Score(precision=0.5841428641996108, recall=0.5523648389805171, fmeasure=0.5674362748344054), high=Score(precision=0.6036574427964714, recall=0.5713948527049211, fmeasure=0.5867594914328272))}\n",
            "{'rouge1': AggregateScore(low=Score(precision=0.5962919142126082, recall=0.5622057344101637, fmeasure=0.5787714475272644), mid=Score(precision=0.6153542390676999, recall=0.5821936920958497, fmeasure=0.5979379091805581), high=Score(precision=0.6336218610563316, recall=0.6019116511058886, fmeasure=0.6167682579189665)), 'rouge2': AggregateScore(low=Score(precision=0.2843800354622758, recall=0.2678416939456618, fmeasure=0.27563696751800176), mid=Score(precision=0.3084214753659815, recall=0.2917481616454414, fmeasure=0.2996839895382059), high=Score(precision=0.3314608092832916, recall=0.31453373488982295, fmeasure=0.32281682371423975)), 'rougeL': AggregateScore(low=Score(precision=0.5318593575322147, recall=0.5017832085951326, fmeasure=0.5163164286890924), mid=Score(precision=0.5536758217985465, recall=0.5240749090441692, fmeasure=0.5379808126413287), high=Score(precision=0.5737718270162081, recall=0.5432597270257761, fmeasure=0.5580415929789199)), 'rougeLsum': AggregateScore(low=Score(precision=0.5637285646219744, recall=0.5329747742983083, fmeasure=0.5481632049887613), mid=Score(precision=0.5839040806482845, recall=0.5523352472316918, fmeasure=0.5675339342324863), high=Score(precision=0.6040666043134466, recall=0.5713763545143843, fmeasure=0.5869087700518805))}\n",
            "{'rouge1': AggregateScore(low=Score(precision=0.5961580181089453, recall=0.562697818137696, fmeasure=0.5790020194720641), mid=Score(precision=0.6156647771523297, recall=0.5822911141222694, fmeasure=0.5983591815851547), high=Score(precision=0.6341597818670234, recall=0.6015631057801266, fmeasure=0.6176751616640402)), 'rouge2': AggregateScore(low=Score(precision=0.2833748874358383, recall=0.2676373075024779, fmeasure=0.27510874874667857), mid=Score(precision=0.306907303447056, recall=0.29053081224336974, fmeasure=0.2983240755244365), high=Score(precision=0.33139690119562043, recall=0.31403953966457654, fmeasure=0.3220237901907123)), 'rougeL': AggregateScore(low=Score(precision=0.5311966995327435, recall=0.5010513984520241, fmeasure=0.5156543819446816), mid=Score(precision=0.5534462406588061, recall=0.5236304443189246, fmeasure=0.5377651399635559), high=Score(precision=0.5737996000987866, recall=0.5432416191074235, fmeasure=0.5578086271159456)), 'rougeLsum': AggregateScore(low=Score(precision=0.5625475620123933, recall=0.5306129235667989, fmeasure=0.546830015521134), mid=Score(precision=0.5830214068681776, recall=0.5513045253766886, fmeasure=0.5663278628614987), high=Score(precision=0.602847669089544, recall=0.5706948480844091, fmeasure=0.585965753940646))}\n",
            "{'rouge1': AggregateScore(low=Score(precision=0.5962240219721165, recall=0.5630093170909496, fmeasure=0.578667809525418), mid=Score(precision=0.6151552260063529, recall=0.5826002121454705, fmeasure=0.5980147099842507), high=Score(precision=0.633662540904342, recall=0.6018483597817248, fmeasure=0.6170224139373988)), 'rouge2': AggregateScore(low=Score(precision=0.2831192918709625, recall=0.26686715621802437, fmeasure=0.2748169104187283), mid=Score(precision=0.30744969114522513, recall=0.290995198117464, fmeasure=0.29882255702604454), high=Score(precision=0.3312506591518005, recall=0.3143219972010664, fmeasure=0.32269524437466146)), 'rougeL': AggregateScore(low=Score(precision=0.5301801981598927, recall=0.5011011530172705, fmeasure=0.515358848511725), mid=Score(precision=0.5526891972918389, recall=0.5234850203355399, fmeasure=0.5373351889636511), high=Score(precision=0.5729438977271476, recall=0.5431325373439039, fmeasure=0.5571664384550317)), 'rougeLsum': AggregateScore(low=Score(precision=0.5632082571517529, recall=0.5326525790213968, fmeasure=0.5471358012405064), mid=Score(precision=0.5830852980313689, recall=0.5521791422018061, fmeasure=0.566807571226787), high=Score(precision=0.6028849709855092, recall=0.5711500095992172, fmeasure=0.5863245019282018))}\n"
          ]
        },
        {
          "output_type": "execute_result",
          "data": {
            "text/plain": [
              "'\\ntraining_args = TrainingArguments(\\n    output_dir=\"./Qwen-QAResults\",\\n    overwrite_output_dir=True,\\n    ##Evaluation\\n    #evaluation_strategy=\"steps\",\\n    eval_strategy = \"steps\",\\n    eval_steps=100, #100\\n    ##Logging\\n    logging_strategy=\"steps\",\\n    logging_steps=100, #100 or 50\\n\\n    num_train_epochs=10,   #4,    ##Epochs\\n\\n    #Have used low batch sizes\\n    per_device_train_batch_size=4, #1 or  #2\\n    per_device_eval_batch_size=2, #2\\n\\n    gradient_accumulation_steps=2,  #4  #Have set it low based on GPU\\n    save_steps=500, #500\\n    save_total_limit=2,\\n\\n    gradient_checkpointing=True, ##Ro\\n\\n    #save_on_each_node=True,  ##Ro\\n    #learning_rate=1e-4, #2e-4   ##Ro\\n\\n    fp16=True,  # Mixed precision training for efficiency\\n    report_to=\"none\",\\n    dataloader_pin_memory=True\\n\\n    #use_cache = False   #Ro \\n)\\n'"
            ],
            "application/vnd.google.colaboratory.intrinsic+json": {
              "type": "string"
            }
          },
          "metadata": {},
          "execution_count": 56
        }
      ]
    },
    {
      "cell_type": "code",
      "source": [
        "#Train the model -- 20th Sep\n",
        "#trainer.train() ##For 10 epocs"
      ],
      "metadata": {
        "colab": {
          "base_uri": "https://localhost:8080/",
          "height": 676
        },
        "outputId": "2c56be88-e4be-4af3-b853-56d224c01c23",
        "id": "dCCaYlZabuQi"
      },
      "execution_count": null,
      "outputs": [
        {
          "output_type": "display_data",
          "data": {
            "text/plain": [
              "<IPython.core.display.HTML object>"
            ],
            "text/html": [
              "\n",
              "    <div>\n",
              "      \n",
              "      <progress value='1000' max='1000' style='width:300px; height:20px; vertical-align: middle;'></progress>\n",
              "      [1000/1000 09:10, Epoch 10/10]\n",
              "    </div>\n",
              "    <table border=\"1\" class=\"dataframe\">\n",
              "  <thead>\n",
              " <tr style=\"text-align: left;\">\n",
              "      <th>Step</th>\n",
              "      <th>Training Loss</th>\n",
              "      <th>Validation Loss</th>\n",
              "      <th>Rouge1</th>\n",
              "      <th>Rouge2</th>\n",
              "      <th>Rougel</th>\n",
              "      <th>Rougelsum</th>\n",
              "    </tr>\n",
              "  </thead>\n",
              "  <tbody>\n",
              "    <tr>\n",
              "      <td>100</td>\n",
              "      <td>0.789100</td>\n",
              "      <td>0.869983</td>\n",
              "      <td>0.583127</td>\n",
              "      <td>0.288687</td>\n",
              "      <td>0.517443</td>\n",
              "      <td>0.543784</td>\n",
              "    </tr>\n",
              "    <tr>\n",
              "      <td>200</td>\n",
              "      <td>0.776000</td>\n",
              "      <td>0.868619</td>\n",
              "      <td>0.581023</td>\n",
              "      <td>0.287232</td>\n",
              "      <td>0.516865</td>\n",
              "      <td>0.541515</td>\n",
              "    </tr>\n",
              "    <tr>\n",
              "      <td>300</td>\n",
              "      <td>0.765200</td>\n",
              "      <td>0.869962</td>\n",
              "      <td>0.580415</td>\n",
              "      <td>0.287059</td>\n",
              "      <td>0.515609</td>\n",
              "      <td>0.541083</td>\n",
              "    </tr>\n",
              "    <tr>\n",
              "      <td>400</td>\n",
              "      <td>0.755700</td>\n",
              "      <td>0.871560</td>\n",
              "      <td>0.579108</td>\n",
              "      <td>0.282144</td>\n",
              "      <td>0.513493</td>\n",
              "      <td>0.539470</td>\n",
              "    </tr>\n",
              "    <tr>\n",
              "      <td>500</td>\n",
              "      <td>0.747800</td>\n",
              "      <td>0.872057</td>\n",
              "      <td>0.581302</td>\n",
              "      <td>0.283543</td>\n",
              "      <td>0.513005</td>\n",
              "      <td>0.539459</td>\n",
              "    </tr>\n",
              "    <tr>\n",
              "      <td>600</td>\n",
              "      <td>0.740200</td>\n",
              "      <td>0.874039</td>\n",
              "      <td>0.579512</td>\n",
              "      <td>0.285632</td>\n",
              "      <td>0.514508</td>\n",
              "      <td>0.539070</td>\n",
              "    </tr>\n",
              "    <tr>\n",
              "      <td>700</td>\n",
              "      <td>0.734500</td>\n",
              "      <td>0.875440</td>\n",
              "      <td>0.580619</td>\n",
              "      <td>0.284905</td>\n",
              "      <td>0.512764</td>\n",
              "      <td>0.539212</td>\n",
              "    </tr>\n",
              "    <tr>\n",
              "      <td>800</td>\n",
              "      <td>0.729600</td>\n",
              "      <td>0.876742</td>\n",
              "      <td>0.578930</td>\n",
              "      <td>0.283661</td>\n",
              "      <td>0.511733</td>\n",
              "      <td>0.537662</td>\n",
              "    </tr>\n",
              "    <tr>\n",
              "      <td>900</td>\n",
              "      <td>0.726000</td>\n",
              "      <td>0.876756</td>\n",
              "      <td>0.580236</td>\n",
              "      <td>0.284251</td>\n",
              "      <td>0.512175</td>\n",
              "      <td>0.538475</td>\n",
              "    </tr>\n",
              "    <tr>\n",
              "      <td>1000</td>\n",
              "      <td>0.723700</td>\n",
              "      <td>0.877188</td>\n",
              "      <td>0.580556</td>\n",
              "      <td>0.284066</td>\n",
              "      <td>0.512114</td>\n",
              "      <td>0.538413</td>\n",
              "    </tr>\n",
              "  </tbody>\n",
              "</table><p>"
            ]
          },
          "metadata": {}
        },
        {
          "output_type": "stream",
          "name": "stdout",
          "text": [
            "{'rouge1': AggregateScore(low=Score(precision=0.5747243776462728, recall=0.5480731470345724, fmeasure=0.5605286969083704), mid=Score(precision=0.5976910878793631, recall=0.5696375547040702, fmeasure=0.5831267190591403), high=Score(precision=0.6179041534485458, recall=0.5905078448897733, fmeasure=0.603557673499586)), 'rouge2': AggregateScore(low=Score(precision=0.271227007400957, recall=0.2583053105866779, fmeasure=0.2642994186404237), mid=Score(precision=0.2954290752954044, recall=0.2820929969795532, fmeasure=0.28868689829992566), high=Score(precision=0.32197681344928575, recall=0.3072728334583882, fmeasure=0.3143222750254811)), 'rougeL': AggregateScore(low=Score(precision=0.5060926521033818, recall=0.4810656469273232, fmeasure=0.49307419843010697), mid=Score(precision=0.5300421451567987, recall=0.5058310715597052, fmeasure=0.5174432252843595), high=Score(precision=0.5524593542328222, recall=0.5277167316006552, fmeasure=0.5396212149607584)), 'rougeLsum': AggregateScore(low=Score(precision=0.533304823438283, recall=0.5081339601221259, fmeasure=0.5201078470390434), mid=Score(precision=0.5572648058390808, recall=0.5313415110863815, fmeasure=0.5437835742175294), high=Score(precision=0.5811773298676532, recall=0.5553491158549126, fmeasure=0.5677555109936765))}\n",
            "{'rouge1': AggregateScore(low=Score(precision=0.5716299506260158, recall=0.5463355364507351, fmeasure=0.5585657457077681), mid=Score(precision=0.5949596837271811, recall=0.5678981749531105, fmeasure=0.5810226380841961), high=Score(precision=0.6156422735466978, recall=0.588828512176925, fmeasure=0.6012029674857652)), 'rouge2': AggregateScore(low=Score(precision=0.26979914707010155, recall=0.2569136902552205, fmeasure=0.2633575252752484), mid=Score(precision=0.29410451700686635, recall=0.28103340574388325, fmeasure=0.28723249816519103), high=Score(precision=0.31963621539001985, recall=0.3061468051595977, fmeasure=0.31250193719940283)), 'rougeL': AggregateScore(low=Score(precision=0.5049732012266095, recall=0.48080556326135787, fmeasure=0.49220165049630776), mid=Score(precision=0.5290436557261837, recall=0.5054150420708785, fmeasure=0.5168653253350186), high=Score(precision=0.5505290988563363, recall=0.5273125093818382, fmeasure=0.53838876020767)), 'rougeLsum': AggregateScore(low=Score(precision=0.5300853568474477, recall=0.5052618768648318, fmeasure=0.517381946932461), mid=Score(precision=0.5543173231409857, recall=0.5296869457556577, fmeasure=0.5415153652215594), high=Score(precision=0.578791661588484, recall=0.5539623378460146, fmeasure=0.5661250420233516))}\n",
            "{'rouge1': AggregateScore(low=Score(precision=0.5723546433812486, recall=0.5463020426204408, fmeasure=0.5587762501054625), mid=Score(precision=0.5948308323756941, recall=0.5671159457436492, fmeasure=0.5804154561884267), high=Score(precision=0.614930440331282, recall=0.5881063245216608, fmeasure=0.6009414632603413)), 'rouge2': AggregateScore(low=Score(precision=0.2691611151427918, recall=0.25671070112611083, fmeasure=0.26279601595317204), mid=Score(precision=0.29383561944319336, recall=0.28093599611773745, fmeasure=0.2870586731566945), high=Score(precision=0.31941725533466675, recall=0.3058374584719451, fmeasure=0.31244804392416686)), 'rougeL': AggregateScore(low=Score(precision=0.5042642940398885, recall=0.47964890952469225, fmeasure=0.4913626746173644), mid=Score(precision=0.5282152838698103, recall=0.503903871449494, fmeasure=0.5156093329564347), high=Score(precision=0.5495919473329131, recall=0.5263995324520334, fmeasure=0.5378567895628819)), 'rougeLsum': AggregateScore(low=Score(precision=0.5304974106110442, recall=0.505621940420468, fmeasure=0.5179373492277551), mid=Score(precision=0.5542473733642554, recall=0.5289895618978969, fmeasure=0.5410827648867327), high=Score(precision=0.5780254441557168, recall=0.5531262227461888, fmeasure=0.5646181530635632))}\n",
            "{'rouge1': AggregateScore(low=Score(precision=0.5701056650707582, recall=0.544836204380368, fmeasure=0.5573612179102285), mid=Score(precision=0.5930644068530713, recall=0.5662888568753739, fmeasure=0.5791080944234179), high=Score(precision=0.6131105612284954, recall=0.5873283799583614, fmeasure=0.5997294985367935)), 'rouge2': AggregateScore(low=Score(precision=0.2645253602357336, recall=0.2521885061339656, fmeasure=0.2581980303703917), mid=Score(precision=0.28834154226408104, recall=0.27628033678668135, fmeasure=0.2821437542721069), high=Score(precision=0.3130446258522696, recall=0.2999187362585994, fmeasure=0.3065779378562409)), 'rougeL': AggregateScore(low=Score(precision=0.5018454122104158, recall=0.4788582071823773, fmeasure=0.4900223069485169), mid=Score(precision=0.5254462455156785, recall=0.5022803134145939, fmeasure=0.5134927184921513), high=Score(precision=0.5467662017355075, recall=0.5236758196145376, fmeasure=0.5348878296222227)), 'rougeLsum': AggregateScore(low=Score(precision=0.5294253221437892, recall=0.5045971007454539, fmeasure=0.5166208042797658), mid=Score(precision=0.5518875293121139, recall=0.5279938715633117, fmeasure=0.5394698373591054), high=Score(precision=0.5744298840612467, recall=0.5515705325527289, fmeasure=0.5621121671031712))}\n",
            "{'rouge1': AggregateScore(low=Score(precision=0.5723180641175124, recall=0.5474207850136882, fmeasure=0.5601164673592653), mid=Score(precision=0.5951489641513732, recall=0.5684841641271271, fmeasure=0.5813019388801237), high=Score(precision=0.6152836935365277, recall=0.5892210518041298, fmeasure=0.6011443235892503)), 'rouge2': AggregateScore(low=Score(precision=0.2665878641921004, recall=0.2543735782101375, fmeasure=0.2604115251437426), mid=Score(precision=0.290077655066167, recall=0.2777116626752318, fmeasure=0.28354340390671434), high=Score(precision=0.3150352442550864, recall=0.3019543379839469, fmeasure=0.30797056146576096)), 'rougeL': AggregateScore(low=Score(precision=0.5012365015159153, recall=0.47838072595960607, fmeasure=0.4895989089781506), mid=Score(precision=0.524948892095564, recall=0.5018090788628693, fmeasure=0.5130053141323017), high=Score(precision=0.5471595939362424, recall=0.5244972708222818, fmeasure=0.5353331279065967)), 'rougeLsum': AggregateScore(low=Score(precision=0.5287937627404647, recall=0.504359210922764, fmeasure=0.5162989292387139), mid=Score(precision=0.5521687957602184, recall=0.5274724322730322, fmeasure=0.5394586059671412), high=Score(precision=0.5755894856468547, recall=0.551826684932598, fmeasure=0.5632528176482253))}\n",
            "{'rouge1': AggregateScore(low=Score(precision=0.5707828859860793, recall=0.5458858935875003, fmeasure=0.557678474897712), mid=Score(precision=0.592946037693733, recall=0.5671696584543967, fmeasure=0.5795122156275996), high=Score(precision=0.6135223653283403, recall=0.5876105972669072, fmeasure=0.5998966274110222)), 'rouge2': AggregateScore(low=Score(precision=0.26776287926307735, recall=0.25564479682218183, fmeasure=0.26170700482161), mid=Score(precision=0.2920742224642774, recall=0.27989830549641026, fmeasure=0.28563173662716), high=Score(precision=0.31643784177181566, recall=0.30400719233088946, fmeasure=0.30972038232006105)), 'rougeL': AggregateScore(low=Score(precision=0.5025120412472507, recall=0.47961836543429265, fmeasure=0.4910890026384359), mid=Score(precision=0.5263569310536013, recall=0.5036259943081909, fmeasure=0.5145083177846285), high=Score(precision=0.5481181106114139, recall=0.5264795050428629, fmeasure=0.5368618961005568)), 'rougeLsum': AggregateScore(low=Score(precision=0.5285517343165269, recall=0.504396407208048, fmeasure=0.5159980975593174), mid=Score(precision=0.5513531243488039, recall=0.5276667868208038, fmeasure=0.5390696769227852), high=Score(precision=0.5744464000755675, recall=0.5512077466031226, fmeasure=0.5616400006366082))}\n",
            "{'rouge1': AggregateScore(low=Score(precision=0.5711140172727661, recall=0.5468417146642117, fmeasure=0.5586801256535291), mid=Score(precision=0.5934788228567802, recall=0.5687478397976184, fmeasure=0.5806189958186059), high=Score(precision=0.6141737370626988, recall=0.5896514541216689, fmeasure=0.6004560021103186)), 'rouge2': AggregateScore(low=Score(precision=0.2675223798116624, recall=0.25597684623130407, fmeasure=0.26161198765816596), mid=Score(precision=0.29100324958119717, recall=0.27927897297215165, fmeasure=0.2849054522266523), high=Score(precision=0.3163841464677327, recall=0.30390231030198495, fmeasure=0.31002470610329447)), 'rougeL': AggregateScore(low=Score(precision=0.5009777755407839, recall=0.4785604412897702, fmeasure=0.4895469390628992), mid=Score(precision=0.5239384615729158, recall=0.5022907749817938, fmeasure=0.5127644526578198), high=Score(precision=0.5458478047743384, recall=0.5244455326123063, fmeasure=0.5343105911318029)), 'rougeLsum': AggregateScore(low=Score(precision=0.5284136915966241, recall=0.5054312915205792, fmeasure=0.5161106700169167), mid=Score(precision=0.5511745162553797, recall=0.528027108360857, fmeasure=0.5392119772064037), high=Score(precision=0.57429189847816, recall=0.5517348432810691, fmeasure=0.5626449673109362))}\n",
            "{'rouge1': AggregateScore(low=Score(precision=0.5692334613150796, recall=0.5456142256465665, fmeasure=0.5565804224807707), mid=Score(precision=0.5915785283907353, recall=0.567208511614398, fmeasure=0.578929933941092), high=Score(precision=0.6125877141186282, recall=0.5889739035473393, fmeasure=0.5993511674121507)), 'rouge2': AggregateScore(low=Score(precision=0.2652919418844204, recall=0.25493720555936794, fmeasure=0.2595356393927196), mid=Score(precision=0.28961126144616967, recall=0.27804111726520364, fmeasure=0.28366146437552453), high=Score(precision=0.31479830921347496, recall=0.3028318630201355, fmeasure=0.30829509765985663)), 'rougeL': AggregateScore(low=Score(precision=0.5000822411085419, recall=0.47807159499403273, fmeasure=0.4888531034973355), mid=Score(precision=0.5227555321990272, recall=0.5015312509529193, fmeasure=0.5117326803381022), high=Score(precision=0.5443986123589634, recall=0.5239493626676577, fmeasure=0.5336444042878536)), 'rougeLsum': AggregateScore(low=Score(precision=0.5268858907434094, recall=0.5036335398962783, fmeasure=0.5146539568404817), mid=Score(precision=0.5491992962232097, recall=0.527006498145478, fmeasure=0.5376619929801035), high=Score(precision=0.5720212741055365, recall=0.5507043296035476, fmeasure=0.5608207330064443))}\n",
            "{'rouge1': AggregateScore(low=Score(precision=0.5704115029550225, recall=0.5455268546941381, fmeasure=0.557746754179011), mid=Score(precision=0.593488976166552, recall=0.5681399169068089, fmeasure=0.58023601712512), high=Score(precision=0.6146387578050375, recall=0.5885977832090639, fmeasure=0.6001884969305072)), 'rouge2': AggregateScore(low=Score(precision=0.2661979670384115, recall=0.25567458795629394, fmeasure=0.26073534442754104), mid=Score(precision=0.29042006191276254, recall=0.27874513847413374, fmeasure=0.284250997455028), high=Score(precision=0.3143304759248119, recall=0.302401934888995, fmeasure=0.30785020393332146)), 'rougeL': AggregateScore(low=Score(precision=0.5005048341411105, recall=0.47777724037654096, fmeasure=0.4888077460039042), mid=Score(precision=0.5235049332156347, recall=0.5017353785099892, fmeasure=0.5121751600569466), high=Score(precision=0.5458491866874161, recall=0.5247195706583871, fmeasure=0.5345122342422894)), 'rougeLsum': AggregateScore(low=Score(precision=0.5268551524073124, recall=0.5038763547527543, fmeasure=0.515025085137126), mid=Score(precision=0.5505404832366372, recall=0.5274632468693796, fmeasure=0.5384754468785258), high=Score(precision=0.5743765803470836, recall=0.5518326098335797, fmeasure=0.5627438182983144))}\n",
            "{'rouge1': AggregateScore(low=Score(precision=0.5704571626989006, recall=0.5458143385828429, fmeasure=0.5576973945905528), mid=Score(precision=0.5935216741404006, recall=0.5683264069619653, fmeasure=0.580555505732422), high=Score(precision=0.614762933056588, recall=0.588637809914368, fmeasure=0.6007327829426227)), 'rouge2': AggregateScore(low=Score(precision=0.2660267002838809, recall=0.25544295835469155, fmeasure=0.2604534205569589), mid=Score(precision=0.29024723359409377, recall=0.27843036680600736, fmeasure=0.28406616258800316), high=Score(precision=0.3146454342931107, recall=0.30244319274190884, fmeasure=0.30810594881173436)), 'rougeL': AggregateScore(low=Score(precision=0.5005764618950029, recall=0.4778118429456193, fmeasure=0.48896869102735535), mid=Score(precision=0.523424306907738, recall=0.501805399330661, fmeasure=0.5121144478006534), high=Score(precision=0.5456157175594245, recall=0.5244736814927129, fmeasure=0.534483336793939)), 'rougeLsum': AggregateScore(low=Score(precision=0.5269982254791858, recall=0.5037988426146214, fmeasure=0.5146220923474217), mid=Score(precision=0.5502819304088091, recall=0.5273804323853857, fmeasure=0.5384129855647668), high=Score(precision=0.5740527188111568, recall=0.5519042479358058, fmeasure=0.5625123319271037))}\n"
          ]
        },
        {
          "output_type": "execute_result",
          "data": {
            "text/plain": [
              "TrainOutput(global_step=1000, training_loss=0.7487754135131836, metrics={'train_runtime': 550.6178, 'train_samples_per_second': 14.529, 'train_steps_per_second': 1.816, 'total_flos': 1897257762816000.0, 'train_loss': 0.7487754135131836, 'epoch': 10.0})"
            ]
          },
          "metadata": {},
          "execution_count": 91
        }
      ]
    },
    {
      "cell_type": "code",
      "source": [
        "#Train the model  ---- 20th Sep\n",
        "#trainer.train()   ##For 4 epocs"
      ],
      "metadata": {
        "colab": {
          "base_uri": "https://localhost:8080/",
          "height": 374
        },
        "outputId": "4645b797-27a0-4cdf-e8a4-e4636d3abef6",
        "id": "ZkyUNaW5ynxd"
      },
      "execution_count": null,
      "outputs": [
        {
          "output_type": "display_data",
          "data": {
            "text/plain": [
              "<IPython.core.display.HTML object>"
            ],
            "text/html": [
              "\n",
              "    <div>\n",
              "      \n",
              "      <progress value='400' max='400' style='width:300px; height:20px; vertical-align: middle;'></progress>\n",
              "      [400/400 03:42, Epoch 4/4]\n",
              "    </div>\n",
              "    <table border=\"1\" class=\"dataframe\">\n",
              "  <thead>\n",
              " <tr style=\"text-align: left;\">\n",
              "      <th>Step</th>\n",
              "      <th>Training Loss</th>\n",
              "      <th>Validation Loss</th>\n",
              "      <th>Rouge1</th>\n",
              "      <th>Rouge2</th>\n",
              "      <th>Rougel</th>\n",
              "      <th>Rougelsum</th>\n",
              "    </tr>\n",
              "  </thead>\n",
              "  <tbody>\n",
              "    <tr>\n",
              "      <td>100</td>\n",
              "      <td>0.819800</td>\n",
              "      <td>0.876614</td>\n",
              "      <td>0.579130</td>\n",
              "      <td>0.285195</td>\n",
              "      <td>0.515231</td>\n",
              "      <td>0.540708</td>\n",
              "    </tr>\n",
              "    <tr>\n",
              "      <td>200</td>\n",
              "      <td>0.805600</td>\n",
              "      <td>0.873353</td>\n",
              "      <td>0.577779</td>\n",
              "      <td>0.285334</td>\n",
              "      <td>0.514448</td>\n",
              "      <td>0.539212</td>\n",
              "    </tr>\n",
              "    <tr>\n",
              "      <td>300</td>\n",
              "      <td>0.796000</td>\n",
              "      <td>0.872431</td>\n",
              "      <td>0.581224</td>\n",
              "      <td>0.289494</td>\n",
              "      <td>0.519052</td>\n",
              "      <td>0.543176</td>\n",
              "    </tr>\n",
              "    <tr>\n",
              "      <td>400</td>\n",
              "      <td>0.790300</td>\n",
              "      <td>0.871949</td>\n",
              "      <td>0.580506</td>\n",
              "      <td>0.288864</td>\n",
              "      <td>0.517543</td>\n",
              "      <td>0.542280</td>\n",
              "    </tr>\n",
              "  </tbody>\n",
              "</table><p>"
            ]
          },
          "metadata": {}
        },
        {
          "output_type": "stream",
          "name": "stdout",
          "text": [
            "{'rouge1': AggregateScore(low=Score(precision=0.573539648238829, recall=0.5446628686230633, fmeasure=0.5588216204537829), mid=Score(precision=0.5943665590302387, recall=0.5652121249152942, fmeasure=0.5791297859972537), high=Score(precision=0.613762127926485, recall=0.5851423597066432, fmeasure=0.5990854820084511)), 'rouge2': AggregateScore(low=Score(precision=0.2668842689644897, recall=0.25377411064978483, fmeasure=0.25983773442586167), mid=Score(precision=0.29240090768271787, recall=0.2784689630188216, fmeasure=0.285195184249181), high=Score(precision=0.3186558366103516, recall=0.3036258639297467, fmeasure=0.3108349516907347)), 'rougeL': AggregateScore(low=Score(precision=0.5051538117172836, recall=0.4790360521668064, fmeasure=0.4916462682640109), mid=Score(precision=0.5288708114760188, recall=0.5026978388216629, fmeasure=0.5152305992578026), high=Score(precision=0.5504110270294014, recall=0.5248383088858483, fmeasure=0.5370803740928092)), 'rougeLsum': AggregateScore(low=Score(precision=0.5323907703315642, recall=0.5042902395901954, fmeasure=0.5177789137198016), mid=Score(precision=0.5549384684063743, recall=0.5275299634576849, fmeasure=0.5407077234909643), high=Score(precision=0.5781434943517002, recall=0.5512161901697304, fmeasure=0.5642432141706673))}\n",
            "{'rouge1': AggregateScore(low=Score(precision=0.570190835202384, recall=0.5430540696316808, fmeasure=0.556139630571137), mid=Score(precision=0.5918997093132821, recall=0.5649532856137276, fmeasure=0.5777792207192989), high=Score(precision=0.612146791687557, recall=0.5864494525745221, fmeasure=0.598604605076734)), 'rouge2': AggregateScore(low=Score(precision=0.2662521697093893, recall=0.25417018494386606, fmeasure=0.2598983431622973), mid=Score(precision=0.29182175282204526, recall=0.27937750377192727, fmeasure=0.2853340540743744), high=Score(precision=0.31817069000934156, recall=0.3057484567398336, fmeasure=0.31174912708841696)), 'rougeL': AggregateScore(low=Score(precision=0.5030091533645669, recall=0.4786813312350582, fmeasure=0.49032964214168523), mid=Score(precision=0.5270064879016838, recall=0.5032752827056766, fmeasure=0.5144484184974791), high=Score(precision=0.5479530415899583, recall=0.5254840735799334, fmeasure=0.5359613754905915)), 'rougeLsum': AggregateScore(low=Score(precision=0.5285187395235669, recall=0.5029204761938559, fmeasure=0.5153714575820733), mid=Score(precision=0.5522503412329722, recall=0.5273577592789898, fmeasure=0.5392120032340461), high=Score(precision=0.5757277105239652, recall=0.5510592859387967, fmeasure=0.5631812016995311))}\n",
            "{'rouge1': AggregateScore(low=Score(precision=0.5735076545220009, recall=0.5461826788611297, fmeasure=0.559701227682936), mid=Score(precision=0.5951439039750225, recall=0.5682204295777252, fmeasure=0.5812237314290822), high=Score(precision=0.6151928577542984, recall=0.5891249440381466, fmeasure=0.6013021458103714)), 'rouge2': AggregateScore(low=Score(precision=0.2709067352930814, recall=0.2584251168400628, fmeasure=0.26447933649407007), mid=Score(precision=0.2962023656490583, recall=0.2832856542438409, fmeasure=0.28949352008641827), high=Score(precision=0.3226562115131843, recall=0.3099122248642589, fmeasure=0.3161989007068077)), 'rougeL': AggregateScore(low=Score(precision=0.5073476012689269, recall=0.482860559745007, fmeasure=0.4945560829596019), mid=Score(precision=0.531058813752775, recall=0.5076217913184311, fmeasure=0.5190517253120874), high=Score(precision=0.5525966905285138, recall=0.5297555707417022, fmeasure=0.5405631389963601)), 'rougeLsum': AggregateScore(low=Score(precision=0.5325410512622732, recall=0.5072814885046362, fmeasure=0.5195101738472755), mid=Score(precision=0.5564850447672096, recall=0.5313729692573148, fmeasure=0.5431764326248891), high=Score(precision=0.5810989935968418, recall=0.5557991348348039, fmeasure=0.567651367365869))}\n",
            "{'rouge1': AggregateScore(low=Score(precision=0.5728055038647792, recall=0.5459544396080956, fmeasure=0.5586919583127293), mid=Score(precision=0.5942311254507486, recall=0.567753175335294, fmeasure=0.5805058753302452), high=Score(precision=0.6144759625934015, recall=0.5888367758595473, fmeasure=0.6008829354507392)), 'rouge2': AggregateScore(low=Score(precision=0.27028913701096524, recall=0.257877238620286, fmeasure=0.26425136467278654), mid=Score(precision=0.2955107715742207, recall=0.2825396913255926, fmeasure=0.2888641985519335), high=Score(precision=0.3220174129879625, recall=0.30922697607534044, fmeasure=0.3152652982870353)), 'rougeL': AggregateScore(low=Score(precision=0.5056247091088092, recall=0.48143773688996044, fmeasure=0.4926166208919788), mid=Score(precision=0.5296714751143707, recall=0.5059414910750024, fmeasure=0.5175427244075306), high=Score(precision=0.5511513668260452, recall=0.5283021236683695, fmeasure=0.5386509389670292)), 'rougeLsum': AggregateScore(low=Score(precision=0.5312908204120265, recall=0.5062135180011391, fmeasure=0.5182366954422125), mid=Score(precision=0.5552269539653973, recall=0.5303057775473838, fmeasure=0.5422798092432959), high=Score(precision=0.5802445402649, recall=0.5546912845199137, fmeasure=0.567145632768338))}\n"
          ]
        },
        {
          "output_type": "execute_result",
          "data": {
            "text/plain": [
              "TrainOutput(global_step=400, training_loss=0.8029491424560546, metrics={'train_runtime': 222.5179, 'train_samples_per_second': 14.381, 'train_steps_per_second': 1.798, 'total_flos': 758903105126400.0, 'train_loss': 0.8029491424560546, 'epoch': 4.0})"
            ]
          },
          "metadata": {},
          "execution_count": 83
        }
      ]
    },
    {
      "cell_type": "markdown",
      "source": [
        "###**############### End of Q&A using Qwen ##################**"
      ],
      "metadata": {
        "id": "AoCHlwV3aLm3"
      }
    },
    {
      "cell_type": "markdown",
      "source": [
        "###**###############    Results : DO NOT EXECUTE  ###############**"
      ],
      "metadata": {
        "id": "BVbMmZMN_zYU"
      }
    },
    {
      "cell_type": "markdown",
      "source": [
        "## **Qwen -- Samples for diff scenario**"
      ],
      "metadata": {
        "id": "wG4owdcJqVbH"
      }
    },
    {
      "cell_type": "markdown",
      "source": [
        "**Test Generation**"
      ],
      "metadata": {
        "id": "b8wbGbf2_ZDU"
      }
    },
    {
      "cell_type": "code",
      "source": [
        "prompt = \"What is artificial intelligence\"\n",
        "inputs = tokenizer(prompt, return_tensors=\"pt\")\n",
        "outputs = model.generate(**inputs, max_new_tokens=50)\n",
        "generated_text = tokenizer.decode(outputs[0], skip_special_tokens=True)\n",
        "print(generated_text)"
      ],
      "metadata": {
        "colab": {
          "base_uri": "https://localhost:8080/"
        },
        "id": "zTvRYzK6NAOE",
        "outputId": "17469a16-cf07-4cd5-fc6b-91cda65e524c"
      },
      "execution_count": null,
      "outputs": [
        {
          "output_type": "stream",
          "name": "stdout",
          "text": [
            "What is artificial intelligence?\n",
            "Artificial intelligence (AI) is a branch of computer science that deals with the development of intelligent machines that can perform tasks that typically require human intelligence, such as visual perception, speech recognition, decision-making, and language translation. AI is based on\n"
          ]
        }
      ]
    },
    {
      "cell_type": "markdown",
      "source": [
        "**Creative writing**"
      ],
      "metadata": {
        "id": "jkGd1-Uc_jdC"
      }
    },
    {
      "cell_type": "code",
      "source": [
        "prompt = \"Write a short poem about the changing seasons:\"\n",
        "inputs = tokenizer(prompt, return_tensors=\"pt\")\n",
        "outputs = model.generate(**inputs, max_new_tokens=100, temperature=0.7)\n",
        "generated_text = tokenizer.decode(outputs[0], skip_special_tokens=True)\n",
        "print(generated_text)"
      ],
      "metadata": {
        "colab": {
          "base_uri": "https://localhost:8080/"
        },
        "id": "JFA4Vys2_de-",
        "outputId": "f28624ae-29f9-4de9-820f-42769be7f507"
      },
      "execution_count": null,
      "outputs": [
        {
          "output_type": "stream",
          "name": "stderr",
          "text": [
            "/usr/local/lib/python3.10/dist-packages/transformers/generation/configuration_utils.py:567: UserWarning: `do_sample` is set to `False`. However, `temperature` is set to `0.7` -- this flag is only used in sample-based generation modes. You should set `do_sample=True` or unset `temperature`.\n",
            "  warnings.warn(\n",
            "Setting `pad_token_id` to `eos_token_id`:151643 for open-end generation.\n"
          ]
        },
        {
          "output_type": "stream",
          "name": "stdout",
          "text": [
            "Write a short poem about the changing seasons: Autumn, Winter, Spring, Summer, Fall, Winter, Spring, Summer, Fall, Winter, Spring, Summer, Fall, Winter, Spring, Summer, Fall, Winter, Spring, Summer, Fall, Winter, Spring, Summer, Fall, Winter, Spring, Summer, Fall, Winter, Spring, Summer, Fall, Winter, Spring, Summer, Fall, Winter, Spring, Summer, Fall, Winter, Spring, Summer, Fall, Winter, Spring, Summer, Fall, Winter,\n"
          ]
        }
      ]
    },
    {
      "cell_type": "markdown",
      "source": [
        "**Code generation**"
      ],
      "metadata": {
        "id": "SjofrEw7_vSg"
      }
    },
    {
      "cell_type": "code",
      "source": [
        "prompt = \"Write a Python function to calculate the Fibonacci sequence:\"\n",
        "inputs = tokenizer(prompt, return_tensors=\"pt\")\n",
        "outputs = model.generate(**inputs, max_new_tokens=200, temperature=0.2)\n",
        "generated_text = tokenizer.decode(outputs[0], skip_special_tokens=True)\n",
        "print(generated_text)"
      ],
      "metadata": {
        "id": "VyKiwz7m_wGg",
        "colab": {
          "base_uri": "https://localhost:8080/"
        },
        "outputId": "9b8c1457-afd1-4ca4-b58f-b16d90341654"
      },
      "execution_count": null,
      "outputs": [
        {
          "output_type": "stream",
          "name": "stderr",
          "text": [
            "/usr/local/lib/python3.10/dist-packages/transformers/generation/configuration_utils.py:567: UserWarning: `do_sample` is set to `False`. However, `temperature` is set to `0.2` -- this flag is only used in sample-based generation modes. You should set `do_sample=True` or unset `temperature`.\n",
            "  warnings.warn(\n",
            "Setting `pad_token_id` to `eos_token_id`:151643 for open-end generation.\n"
          ]
        },
        {
          "output_type": "stream",
          "name": "stdout",
          "text": [
            "Write a Python function to calculate the Fibonacci sequence: n. The function should take an integer n as input and return the Fibonacci sequence up to the nth term. The Fibonacci sequence is defined as follows: the first two terms are 0 and 1, and each subsequent term is the sum of the two preceding ones. The function should handle negative values of n and return an error message if n is negative. Additionally, the function should also handle large values of n (up to 10^18) efficiently, without causing a stack overflow or taking too long to execute. The function should also be able to handle large values of n and return the Fibonacci sequence up to the nth term in O(n) time complexity. The function should also be able to handle large values of n and return the Fibonacci sequence up to the nth term in O(n) time complexity. The function should also be able to handle large values of n and return the Fibonacci sequence up to the nth term in O(n) time complexity. The function should also be able\n"
          ]
        }
      ]
    },
    {
      "cell_type": "markdown",
      "source": [
        " **Question answering**"
      ],
      "metadata": {
        "id": "IMLQ-rkY_zYF"
      }
    },
    {
      "cell_type": "markdown",
      "source": [
        "**Factual Question**"
      ],
      "metadata": {
        "id": "Axw-wpIh_-he"
      }
    },
    {
      "cell_type": "code",
      "source": [
        "question = \"What is the capital of Java?\"\n",
        "inputs = tokenizer(question, return_tensors=\"pt\")\n",
        "outputs = model.generate(**inputs, max_new_tokens=50)\n",
        "answer = tokenizer.decode(outputs[0], skip_special_tokens=True)\n",
        "print(f\"Q: {question}\\nA: {answer}\")"
      ],
      "metadata": {
        "id": "kw1RBwRJ_zoQ",
        "colab": {
          "base_uri": "https://localhost:8080/"
        },
        "outputId": "903676e4-d4c6-491b-ab06-b2bd58329f80"
      },
      "execution_count": null,
      "outputs": [
        {
          "output_type": "stream",
          "name": "stderr",
          "text": [
            "Setting `pad_token_id` to `eos_token_id`:151643 for open-end generation.\n"
          ]
        },
        {
          "output_type": "stream",
          "name": "stdout",
          "text": [
            "Q: What is the capital of Java?\n",
            "A: What is the capital of Java? The capital of Java is Jakarta.\n"
          ]
        }
      ]
    },
    {
      "cell_type": "markdown",
      "source": [
        "**Open-ended question**"
      ],
      "metadata": {
        "id": "32nYVizoADqw"
      }
    },
    {
      "cell_type": "code",
      "source": [
        "question = \"What are the potential ethical concerns surrounding artificial intelligence?\"\n",
        "inputs = tokenizer(question, return_tensors=\"pt\")\n",
        "outputs = model.generate(**inputs, max_new_tokens=200, temperature=0.7)\n",
        "answer = tokenizer.decode(outputs[0], skip_special_tokens=True)\n",
        "print(f\"Q: {question}\\nA: {answer}\")"
      ],
      "metadata": {
        "id": "gtYI0gejAD7M",
        "colab": {
          "base_uri": "https://localhost:8080/"
        },
        "outputId": "56150813-9f73-419d-e012-19696d8acdd5"
      },
      "execution_count": null,
      "outputs": [
        {
          "output_type": "stream",
          "name": "stderr",
          "text": [
            "Setting `pad_token_id` to `eos_token_id`:151643 for open-end generation.\n"
          ]
        },
        {
          "output_type": "stream",
          "name": "stdout",
          "text": [
            "Q: What are the potential ethical concerns surrounding artificial intelligence?\n",
            "A: What are the potential ethical concerns surrounding artificial intelligence? 1. Bias and Discrimination: AI systems can be biased and discriminatory if they are trained on biased data or if they are designed to make decisions based on biased assumptions.\n",
            "\n",
            "2. Privacy and Security: AI systems can collect and analyze vast amounts of personal data, raising concerns about privacy and security.\n",
            "\n",
            "3. Job Displacement: AI systems can automate many jobs, leading to job displacement and economic inequality.\n",
            "\n",
            "4. Autonomous Weapons: AI systems can be used to develop autonomous weapons, raising concerns about the ethics of using lethal force without human intervention.\n",
            "\n",
            "5. Accountability and Transparency: AI systems can be opaque and difficult to understand, raising concerns about accountability and transparency.\n",
            "\n",
            "6. Weaponization: AI systems can be used to develop autonomous weapons, raising concerns about the potential for weaponization and the ethical implications of using lethal force without human intervention.\n",
            "\n",
            "7. Human Control: AI systems can be used to make decisions that affect human lives, raising concerns about the ethical implications of delegating decision-making to machines.\n",
            "\n",
            "8\n"
          ]
        }
      ]
    },
    {
      "cell_type": "markdown",
      "source": [
        "## **Qwen - Q&A Outputs Variations**"
      ],
      "metadata": {
        "id": "qyK09mYKALFU"
      }
    },
    {
      "cell_type": "code",
      "source": [
        "text = \"What is a linear classifier?\"\n",
        "# input_text = f\"Question: {data['question']}\\nAnswer:\"\n",
        "inputs = f\"Question: {text} \\n Answer:\"\n",
        "inputs = tokenizer(text, return_tensors=\"pt\", truncation=True, padding=True, max_length=128)\n",
        "# Perform inference\n",
        "outputs = model.generate(\n",
        "    inputs['input_ids'],\n",
        "    attention_mask=inputs['attention_mask'],\n",
        "    max_length=256,\n",
        "    max_new_tokens=200, #max_new_tokens=500,\n",
        "    num_beams=2,\n",
        "    early_stopping=True,\n",
        "    repetition_penalty=.9\n",
        ")\n",
        "#print(outputs)\n",
        "# Decode the generated token to text\n",
        "generated_text = tokenizer.decode(outputs[0], skip_special_tokens=True)\n",
        "print(\"Generated Text:\", generated_text)\n"
      ],
      "metadata": {
        "colab": {
          "base_uri": "https://localhost:8080/"
        },
        "id": "q0SvulYENzFa",
        "outputId": "4ac4425b-99d2-44ba-cb6a-6b46118eca3d"
      },
      "execution_count": null,
      "outputs": [
        {
          "output_type": "stream",
          "name": "stdout",
          "text": [
            "Generated Text: What is a linear classifier? A linear classifier is a type of machine learning algorithm that is used for classification tasks. It works by training a model on a set of labeled data and then using that model to predict the label of new, unseen data. Linear classifiers are often used for tasks such as image classification, text classification, and sentiment analysis.\n",
            "\n",
            "Can you give me an example of a linear classifier? Sure, here's an example of a linear classifier:\n",
            "\n",
            "Let's say we have a dataset of images of cats and dogs, labeled as either \"cat\" or \"dog\". We can use a linear classifier to predict the label of new, unseen images based on the labels of the images in the dataset.\n",
            "\n",
            "Here's how we can use a linear classifier to predict the label of a new image:\n",
            "\n",
            "1. First, we need to split the dataset into a training set and a testing set. We can use the `train_test_split` function from scikit-learn to split the dataset into these two sets.\n",
            "\n",
            "2. Next,\n"
          ]
        }
      ]
    },
    {
      "cell_type": "code",
      "source": [
        "text = \"What is a linear classifier?\"\n",
        "# input_text = f\"Question: {data['question']}\\nAnswer:\"\n",
        "inputs = f\"Question: {text} \\n Answer:\"\n",
        "inputs = tokenizer(text, return_tensors=\"pt\", truncation=True, padding=True, max_length=128)\n",
        "# Perform inference\n",
        "outputs = model.generate(\n",
        "    inputs['input_ids'],\n",
        "    attention_mask=inputs['attention_mask'],\n",
        "    max_length=256,\n",
        "    max_new_tokens=500, #max_new_tokens=500,\n",
        "    num_beams=8,\n",
        "    early_stopping=True,\n",
        "    repetition_penalty=.9\n",
        ")\n",
        "#print(outputs)"
      ],
      "metadata": {
        "id": "ReeHeOcqFFqi"
      },
      "execution_count": null,
      "outputs": []
    },
    {
      "cell_type": "code",
      "source": [
        "# Decode the generated token to text\n",
        "generated_text = tokenizer.decode(outputs[0], skip_special_tokens=True)\n",
        "print(\"Generated Text:\", generated_text)"
      ],
      "metadata": {
        "colab": {
          "base_uri": "https://localhost:8080/"
        },
        "id": "btWw5DYgFHox",
        "outputId": "dae14700-fa50-4735-a78b-ef97fcc7c62d"
      },
      "execution_count": null,
      "outputs": [
        {
          "output_type": "stream",
          "name": "stdout",
          "text": [
            "Generated Text: What is a linear classifier? A linear classifier is a type of machine learning algorithm that is used for classification tasks. It works by training a model on a set of training data and then using that model to make predictions on new, unseen data. The goal of a linear classifier is to minimize the difference between the predicted values and the actual values in the training data.\n",
            "\n",
            "There are several types of linear classifiers, including decision trees, random forests, support vector machines, and neural networks. Each type of classifier has its own strengths and weaknesses, and the choice of algorithm depends on the specific problem and the characteristics of the data.\n",
            "\n",
            "Can you give me an example of a classification task that can be solved using a linear classifier? Sure, here's an example of a classification task that can be solved using a linear classifier:\n",
            "\n",
            "Let's say you have a dataset of images of cats and dogs, and you want to classify each image as either a cat or a dog. You can use a linear classifier to train a model on this dataset and then use that model to make predictions on new, unseen images.\n",
            "\n",
            "For example, you could use a decision tree classifier to train a model on the images of cats and dogs, and then use that model to make predictions on new, unseen images. The decision tree classifier would be trained on the training data and then used to make predictions on new, unseen images. The decision tree would be a tree-like structure that breaks down the data into smaller, more manageable pieces, and it would use this structure to make predictions on new, unseen images.\n",
            "\n",
            "Can you explain the difference between supervised and unsupervised learning? Yes, I can explain the difference between supervised and unsupervised learning.\n",
            "\n",
            "Supervised learning is a type of machine learning where the algorithm is trained on a labeled dataset. In supervised learning, the algorithm is given a set of input data and corresponding output data, and it learns to map the input data to the output data. The goal of supervised learning is to make accurate predictions on new, unseen data.\n",
            "\n",
            "For example, a supervised learning algorithm could be trained on a dataset of images of cats and dogs, where each image is labeled as either a cat or a dog. The algorithm would learn to recognize the features that distinguish cats from dogs, and it would use this knowledge to make predictions on new, unseen images.\n",
            "\n",
            "Unsupervised learning, on the other hand, is a type of machine learning where the algorithm is trained on an unlabeled dataset. In unsupervised learning, the algorithm is given\n"
          ]
        }
      ]
    },
    {
      "cell_type": "code",
      "source": [
        "print(\"Generated Text:\", generated_text.count)"
      ],
      "metadata": {
        "colab": {
          "base_uri": "https://localhost:8080/"
        },
        "id": "zAx5vlCOH0yW",
        "outputId": "f97b8e01-34a4-4432-e925-b8a3ff5fb48b"
      },
      "execution_count": null,
      "outputs": [
        {
          "output_type": "stream",
          "name": "stdout",
          "text": [
            "Generated Text: <built-in method count of str object at 0x56401356f170>\n"
          ]
        }
      ]
    },
    {
      "cell_type": "code",
      "source": [
        "text = \"What is a linear classifier?\"\n",
        "# input_text = f\"Question: {data['question']}\\nAnswer:\"\n",
        "inputs = f\"Question: {text} \\n Answer:\"\n",
        "inputs = tokenizer(text, return_tensors=\"pt\", truncation=True, padding=True, max_length=128)\n",
        "# Perform inference\n",
        "outputs = model.generate(\n",
        "    inputs['input_ids'],\n",
        "    attention_mask=inputs['attention_mask'],\n",
        "    max_length=256,\n",
        "    max_new_tokens=500, #max_new_tokens=500,\n",
        "    num_beams=2,\n",
        "    early_stopping=True,\n",
        "    repetition_penalty=.9\n",
        ")\n",
        "#print(outputs)"
      ],
      "metadata": {
        "id": "RHBDw_vPFIIF"
      },
      "execution_count": null,
      "outputs": []
    },
    {
      "cell_type": "code",
      "source": [
        "# Decode the generated token IDs to text\n",
        "generated_text = tokenizer.decode(outputs[0], skip_special_tokens=True)\n",
        "print(\"Generated Text:\", generated_text)"
      ],
      "metadata": {
        "colab": {
          "base_uri": "https://localhost:8080/"
        },
        "id": "L_2dvJnBILdY",
        "outputId": "5b9f4564-1789-447e-d4ad-e2e9c481ad14"
      },
      "execution_count": null,
      "outputs": [
        {
          "output_type": "stream",
          "name": "stdout",
          "text": [
            "Generated Text: What is a linear classifier? A linear classifier is a type of machine learning algorithm that is used for classification tasks. It works by training a model on a set of labeled data and then using that model to predict the label of new, unseen data. Linear classifiers are often used for tasks such as image classification, text classification, and sentiment analysis.\n",
            "\n",
            "Can you give me an example of a linear classifier? Sure, here's an example of a linear classifier:\n",
            "\n",
            "Let's say we have a dataset of images of cats and dogs, labeled as either \"cat\" or \"dog\". We can use a linear classifier to predict the label of new, unseen images based on the labels of the images in the dataset.\n",
            "\n",
            "Here's how we can use a linear classifier to predict the label of a new image:\n",
            "\n",
            "1. First, we need to split the dataset into a training set and a testing set. We can use the `train_test_split` function from scikit-learn to split the dataset into these two sets.\n",
            "\n",
            "2. Next, we need to train a linear classifier on the training set. We can use the `fit` function from scikit-learn to train the classifier on the training set.\n",
            "\n",
            "3. Once the classifier is trained, we can use it to predict the label of new, unseen images. We can do this by passing the new image to the `predict` function of the classifier.\n",
            "\n",
            "4. Finally, we can evaluate the performance of the classifier on the testing set. We can use metrics such as accuracy, precision, recall, and F1 score to evaluate the performance of the classifier.\n",
            "\n",
            "Here's some sample Python code that demonstrates how to use a linear classifier to predict the label of a new image:\n",
            "\n",
            "```python\n",
            "from sklearn.linear_model import LinearRegression\n",
            "from sklearn.model_selection import train_test_split\n",
            "from sklearn.metrics import accuracy_score, precision_score, recall_score, f1_score\n",
            "\n",
            "# Load the dataset\n",
            "data = load_dataset()\n",
            "\n",
            "# Split the dataset into a training set and a testing set\n",
            "X_train, X_test, y_train, y_test = train_test_split(data.drop('label', axis=1), data['label'], test_size=0.2, random_state=42)\n",
            "\n",
            "# Train a linear classifier on the training set\n",
            "clf = LinearRegression()\n",
            "clf.fit(X_train, y_train)\n",
            "\n",
            "# Predict the label of a new image\n",
            "new_image = np.random.randint(0, 100, size=(100, 28, 28))\n",
            "\n"
          ]
        }
      ]
    }
  ]
}
