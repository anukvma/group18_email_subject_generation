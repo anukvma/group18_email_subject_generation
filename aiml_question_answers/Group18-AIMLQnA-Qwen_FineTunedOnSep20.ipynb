{
  "nbformat": 4,
  "nbformat_minor": 0,
  "metadata": {
    "colab": {
      "provenance": [],
      "gpuType": "T4"
    },
    "kernelspec": {
      "name": "python3",
      "display_name": "Python 3"
    },
    "language_info": {
      "name": "python"
    },
    "widgets": {
      "application/vnd.jupyter.widget-state+json": {
        "d712d623b46540878859e77f455bbb4f": {
          "model_module": "@jupyter-widgets/controls",
          "model_name": "HBoxModel",
          "model_module_version": "1.5.0",
          "state": {
            "_dom_classes": [],
            "_model_module": "@jupyter-widgets/controls",
            "_model_module_version": "1.5.0",
            "_model_name": "HBoxModel",
            "_view_count": null,
            "_view_module": "@jupyter-widgets/controls",
            "_view_module_version": "1.5.0",
            "_view_name": "HBoxView",
            "box_style": "",
            "children": [
              "IPY_MODEL_ee8e27877a254ee28e769d6287b402f3",
              "IPY_MODEL_2befa62d052a422ea754798ffe6ca826",
              "IPY_MODEL_ebffc3f598074ed199aa53892816b55d"
            ],
            "layout": "IPY_MODEL_ffd7947debdf441282f36b682635debb"
          }
        },
        "ee8e27877a254ee28e769d6287b402f3": {
          "model_module": "@jupyter-widgets/controls",
          "model_name": "HTMLModel",
          "model_module_version": "1.5.0",
          "state": {
            "_dom_classes": [],
            "_model_module": "@jupyter-widgets/controls",
            "_model_module_version": "1.5.0",
            "_model_name": "HTMLModel",
            "_view_count": null,
            "_view_module": "@jupyter-widgets/controls",
            "_view_module_version": "1.5.0",
            "_view_name": "HTMLView",
            "description": "",
            "description_tooltip": null,
            "layout": "IPY_MODEL_cb01e3463660450583337791668ea4c9",
            "placeholder": "​",
            "style": "IPY_MODEL_cbf9d7a794c743279e2e8aa9a1ec48b2",
            "value": "tokenizer_config.json: 100%"
          }
        },
        "2befa62d052a422ea754798ffe6ca826": {
          "model_module": "@jupyter-widgets/controls",
          "model_name": "FloatProgressModel",
          "model_module_version": "1.5.0",
          "state": {
            "_dom_classes": [],
            "_model_module": "@jupyter-widgets/controls",
            "_model_module_version": "1.5.0",
            "_model_name": "FloatProgressModel",
            "_view_count": null,
            "_view_module": "@jupyter-widgets/controls",
            "_view_module_version": "1.5.0",
            "_view_name": "ProgressView",
            "bar_style": "success",
            "description": "",
            "description_tooltip": null,
            "layout": "IPY_MODEL_1ef05e4d72b346e2abebd1df32a9fb73",
            "max": 1289,
            "min": 0,
            "orientation": "horizontal",
            "style": "IPY_MODEL_95e4a53ff8634aebaf986a5f7d7c7f9c",
            "value": 1289
          }
        },
        "ebffc3f598074ed199aa53892816b55d": {
          "model_module": "@jupyter-widgets/controls",
          "model_name": "HTMLModel",
          "model_module_version": "1.5.0",
          "state": {
            "_dom_classes": [],
            "_model_module": "@jupyter-widgets/controls",
            "_model_module_version": "1.5.0",
            "_model_name": "HTMLModel",
            "_view_count": null,
            "_view_module": "@jupyter-widgets/controls",
            "_view_module_version": "1.5.0",
            "_view_name": "HTMLView",
            "description": "",
            "description_tooltip": null,
            "layout": "IPY_MODEL_a1dcae12c7f0417496217da5f08128ea",
            "placeholder": "​",
            "style": "IPY_MODEL_08723afa2296468d9eac41461383cf29",
            "value": " 1.29k/1.29k [00:00&lt;00:00, 79.3kB/s]"
          }
        },
        "ffd7947debdf441282f36b682635debb": {
          "model_module": "@jupyter-widgets/base",
          "model_name": "LayoutModel",
          "model_module_version": "1.2.0",
          "state": {
            "_model_module": "@jupyter-widgets/base",
            "_model_module_version": "1.2.0",
            "_model_name": "LayoutModel",
            "_view_count": null,
            "_view_module": "@jupyter-widgets/base",
            "_view_module_version": "1.2.0",
            "_view_name": "LayoutView",
            "align_content": null,
            "align_items": null,
            "align_self": null,
            "border": null,
            "bottom": null,
            "display": null,
            "flex": null,
            "flex_flow": null,
            "grid_area": null,
            "grid_auto_columns": null,
            "grid_auto_flow": null,
            "grid_auto_rows": null,
            "grid_column": null,
            "grid_gap": null,
            "grid_row": null,
            "grid_template_areas": null,
            "grid_template_columns": null,
            "grid_template_rows": null,
            "height": null,
            "justify_content": null,
            "justify_items": null,
            "left": null,
            "margin": null,
            "max_height": null,
            "max_width": null,
            "min_height": null,
            "min_width": null,
            "object_fit": null,
            "object_position": null,
            "order": null,
            "overflow": null,
            "overflow_x": null,
            "overflow_y": null,
            "padding": null,
            "right": null,
            "top": null,
            "visibility": null,
            "width": null
          }
        },
        "cb01e3463660450583337791668ea4c9": {
          "model_module": "@jupyter-widgets/base",
          "model_name": "LayoutModel",
          "model_module_version": "1.2.0",
          "state": {
            "_model_module": "@jupyter-widgets/base",
            "_model_module_version": "1.2.0",
            "_model_name": "LayoutModel",
            "_view_count": null,
            "_view_module": "@jupyter-widgets/base",
            "_view_module_version": "1.2.0",
            "_view_name": "LayoutView",
            "align_content": null,
            "align_items": null,
            "align_self": null,
            "border": null,
            "bottom": null,
            "display": null,
            "flex": null,
            "flex_flow": null,
            "grid_area": null,
            "grid_auto_columns": null,
            "grid_auto_flow": null,
            "grid_auto_rows": null,
            "grid_column": null,
            "grid_gap": null,
            "grid_row": null,
            "grid_template_areas": null,
            "grid_template_columns": null,
            "grid_template_rows": null,
            "height": null,
            "justify_content": null,
            "justify_items": null,
            "left": null,
            "margin": null,
            "max_height": null,
            "max_width": null,
            "min_height": null,
            "min_width": null,
            "object_fit": null,
            "object_position": null,
            "order": null,
            "overflow": null,
            "overflow_x": null,
            "overflow_y": null,
            "padding": null,
            "right": null,
            "top": null,
            "visibility": null,
            "width": null
          }
        },
        "cbf9d7a794c743279e2e8aa9a1ec48b2": {
          "model_module": "@jupyter-widgets/controls",
          "model_name": "DescriptionStyleModel",
          "model_module_version": "1.5.0",
          "state": {
            "_model_module": "@jupyter-widgets/controls",
            "_model_module_version": "1.5.0",
            "_model_name": "DescriptionStyleModel",
            "_view_count": null,
            "_view_module": "@jupyter-widgets/base",
            "_view_module_version": "1.2.0",
            "_view_name": "StyleView",
            "description_width": ""
          }
        },
        "1ef05e4d72b346e2abebd1df32a9fb73": {
          "model_module": "@jupyter-widgets/base",
          "model_name": "LayoutModel",
          "model_module_version": "1.2.0",
          "state": {
            "_model_module": "@jupyter-widgets/base",
            "_model_module_version": "1.2.0",
            "_model_name": "LayoutModel",
            "_view_count": null,
            "_view_module": "@jupyter-widgets/base",
            "_view_module_version": "1.2.0",
            "_view_name": "LayoutView",
            "align_content": null,
            "align_items": null,
            "align_self": null,
            "border": null,
            "bottom": null,
            "display": null,
            "flex": null,
            "flex_flow": null,
            "grid_area": null,
            "grid_auto_columns": null,
            "grid_auto_flow": null,
            "grid_auto_rows": null,
            "grid_column": null,
            "grid_gap": null,
            "grid_row": null,
            "grid_template_areas": null,
            "grid_template_columns": null,
            "grid_template_rows": null,
            "height": null,
            "justify_content": null,
            "justify_items": null,
            "left": null,
            "margin": null,
            "max_height": null,
            "max_width": null,
            "min_height": null,
            "min_width": null,
            "object_fit": null,
            "object_position": null,
            "order": null,
            "overflow": null,
            "overflow_x": null,
            "overflow_y": null,
            "padding": null,
            "right": null,
            "top": null,
            "visibility": null,
            "width": null
          }
        },
        "95e4a53ff8634aebaf986a5f7d7c7f9c": {
          "model_module": "@jupyter-widgets/controls",
          "model_name": "ProgressStyleModel",
          "model_module_version": "1.5.0",
          "state": {
            "_model_module": "@jupyter-widgets/controls",
            "_model_module_version": "1.5.0",
            "_model_name": "ProgressStyleModel",
            "_view_count": null,
            "_view_module": "@jupyter-widgets/base",
            "_view_module_version": "1.2.0",
            "_view_name": "StyleView",
            "bar_color": null,
            "description_width": ""
          }
        },
        "a1dcae12c7f0417496217da5f08128ea": {
          "model_module": "@jupyter-widgets/base",
          "model_name": "LayoutModel",
          "model_module_version": "1.2.0",
          "state": {
            "_model_module": "@jupyter-widgets/base",
            "_model_module_version": "1.2.0",
            "_model_name": "LayoutModel",
            "_view_count": null,
            "_view_module": "@jupyter-widgets/base",
            "_view_module_version": "1.2.0",
            "_view_name": "LayoutView",
            "align_content": null,
            "align_items": null,
            "align_self": null,
            "border": null,
            "bottom": null,
            "display": null,
            "flex": null,
            "flex_flow": null,
            "grid_area": null,
            "grid_auto_columns": null,
            "grid_auto_flow": null,
            "grid_auto_rows": null,
            "grid_column": null,
            "grid_gap": null,
            "grid_row": null,
            "grid_template_areas": null,
            "grid_template_columns": null,
            "grid_template_rows": null,
            "height": null,
            "justify_content": null,
            "justify_items": null,
            "left": null,
            "margin": null,
            "max_height": null,
            "max_width": null,
            "min_height": null,
            "min_width": null,
            "object_fit": null,
            "object_position": null,
            "order": null,
            "overflow": null,
            "overflow_x": null,
            "overflow_y": null,
            "padding": null,
            "right": null,
            "top": null,
            "visibility": null,
            "width": null
          }
        },
        "08723afa2296468d9eac41461383cf29": {
          "model_module": "@jupyter-widgets/controls",
          "model_name": "DescriptionStyleModel",
          "model_module_version": "1.5.0",
          "state": {
            "_model_module": "@jupyter-widgets/controls",
            "_model_module_version": "1.5.0",
            "_model_name": "DescriptionStyleModel",
            "_view_count": null,
            "_view_module": "@jupyter-widgets/base",
            "_view_module_version": "1.2.0",
            "_view_name": "StyleView",
            "description_width": ""
          }
        },
        "615038f7945146b58b92c61a7bcdae93": {
          "model_module": "@jupyter-widgets/controls",
          "model_name": "HBoxModel",
          "model_module_version": "1.5.0",
          "state": {
            "_dom_classes": [],
            "_model_module": "@jupyter-widgets/controls",
            "_model_module_version": "1.5.0",
            "_model_name": "HBoxModel",
            "_view_count": null,
            "_view_module": "@jupyter-widgets/controls",
            "_view_module_version": "1.5.0",
            "_view_name": "HBoxView",
            "box_style": "",
            "children": [
              "IPY_MODEL_353f4da3b019452bb65d44e3c1496b9d",
              "IPY_MODEL_461e7e7bb9ab4f319ab9e61452a88a76",
              "IPY_MODEL_8ed588694a6d453794aaa965edc2efab"
            ],
            "layout": "IPY_MODEL_90efd0c68b294987b3381d4855c4a9ad"
          }
        },
        "353f4da3b019452bb65d44e3c1496b9d": {
          "model_module": "@jupyter-widgets/controls",
          "model_name": "HTMLModel",
          "model_module_version": "1.5.0",
          "state": {
            "_dom_classes": [],
            "_model_module": "@jupyter-widgets/controls",
            "_model_module_version": "1.5.0",
            "_model_name": "HTMLModel",
            "_view_count": null,
            "_view_module": "@jupyter-widgets/controls",
            "_view_module_version": "1.5.0",
            "_view_name": "HTMLView",
            "description": "",
            "description_tooltip": null,
            "layout": "IPY_MODEL_9d8947fe126b4784b7eb7ae97d8e75b2",
            "placeholder": "​",
            "style": "IPY_MODEL_874126828c3940328a7f181712d30f34",
            "value": "vocab.json: 100%"
          }
        },
        "461e7e7bb9ab4f319ab9e61452a88a76": {
          "model_module": "@jupyter-widgets/controls",
          "model_name": "FloatProgressModel",
          "model_module_version": "1.5.0",
          "state": {
            "_dom_classes": [],
            "_model_module": "@jupyter-widgets/controls",
            "_model_module_version": "1.5.0",
            "_model_name": "FloatProgressModel",
            "_view_count": null,
            "_view_module": "@jupyter-widgets/controls",
            "_view_module_version": "1.5.0",
            "_view_name": "ProgressView",
            "bar_style": "success",
            "description": "",
            "description_tooltip": null,
            "layout": "IPY_MODEL_5898e8c097404793a73d8b9081c12a7d",
            "max": 2776833,
            "min": 0,
            "orientation": "horizontal",
            "style": "IPY_MODEL_5e58ae4b59684f25bf2224f79e8a10a9",
            "value": 2776833
          }
        },
        "8ed588694a6d453794aaa965edc2efab": {
          "model_module": "@jupyter-widgets/controls",
          "model_name": "HTMLModel",
          "model_module_version": "1.5.0",
          "state": {
            "_dom_classes": [],
            "_model_module": "@jupyter-widgets/controls",
            "_model_module_version": "1.5.0",
            "_model_name": "HTMLModel",
            "_view_count": null,
            "_view_module": "@jupyter-widgets/controls",
            "_view_module_version": "1.5.0",
            "_view_name": "HTMLView",
            "description": "",
            "description_tooltip": null,
            "layout": "IPY_MODEL_793b535f03a14c13b4ea2548737ada49",
            "placeholder": "​",
            "style": "IPY_MODEL_24c82e4f9b23429a8449703e752fbc7d",
            "value": " 2.78M/2.78M [00:00&lt;00:00, 10.5MB/s]"
          }
        },
        "90efd0c68b294987b3381d4855c4a9ad": {
          "model_module": "@jupyter-widgets/base",
          "model_name": "LayoutModel",
          "model_module_version": "1.2.0",
          "state": {
            "_model_module": "@jupyter-widgets/base",
            "_model_module_version": "1.2.0",
            "_model_name": "LayoutModel",
            "_view_count": null,
            "_view_module": "@jupyter-widgets/base",
            "_view_module_version": "1.2.0",
            "_view_name": "LayoutView",
            "align_content": null,
            "align_items": null,
            "align_self": null,
            "border": null,
            "bottom": null,
            "display": null,
            "flex": null,
            "flex_flow": null,
            "grid_area": null,
            "grid_auto_columns": null,
            "grid_auto_flow": null,
            "grid_auto_rows": null,
            "grid_column": null,
            "grid_gap": null,
            "grid_row": null,
            "grid_template_areas": null,
            "grid_template_columns": null,
            "grid_template_rows": null,
            "height": null,
            "justify_content": null,
            "justify_items": null,
            "left": null,
            "margin": null,
            "max_height": null,
            "max_width": null,
            "min_height": null,
            "min_width": null,
            "object_fit": null,
            "object_position": null,
            "order": null,
            "overflow": null,
            "overflow_x": null,
            "overflow_y": null,
            "padding": null,
            "right": null,
            "top": null,
            "visibility": null,
            "width": null
          }
        },
        "9d8947fe126b4784b7eb7ae97d8e75b2": {
          "model_module": "@jupyter-widgets/base",
          "model_name": "LayoutModel",
          "model_module_version": "1.2.0",
          "state": {
            "_model_module": "@jupyter-widgets/base",
            "_model_module_version": "1.2.0",
            "_model_name": "LayoutModel",
            "_view_count": null,
            "_view_module": "@jupyter-widgets/base",
            "_view_module_version": "1.2.0",
            "_view_name": "LayoutView",
            "align_content": null,
            "align_items": null,
            "align_self": null,
            "border": null,
            "bottom": null,
            "display": null,
            "flex": null,
            "flex_flow": null,
            "grid_area": null,
            "grid_auto_columns": null,
            "grid_auto_flow": null,
            "grid_auto_rows": null,
            "grid_column": null,
            "grid_gap": null,
            "grid_row": null,
            "grid_template_areas": null,
            "grid_template_columns": null,
            "grid_template_rows": null,
            "height": null,
            "justify_content": null,
            "justify_items": null,
            "left": null,
            "margin": null,
            "max_height": null,
            "max_width": null,
            "min_height": null,
            "min_width": null,
            "object_fit": null,
            "object_position": null,
            "order": null,
            "overflow": null,
            "overflow_x": null,
            "overflow_y": null,
            "padding": null,
            "right": null,
            "top": null,
            "visibility": null,
            "width": null
          }
        },
        "874126828c3940328a7f181712d30f34": {
          "model_module": "@jupyter-widgets/controls",
          "model_name": "DescriptionStyleModel",
          "model_module_version": "1.5.0",
          "state": {
            "_model_module": "@jupyter-widgets/controls",
            "_model_module_version": "1.5.0",
            "_model_name": "DescriptionStyleModel",
            "_view_count": null,
            "_view_module": "@jupyter-widgets/base",
            "_view_module_version": "1.2.0",
            "_view_name": "StyleView",
            "description_width": ""
          }
        },
        "5898e8c097404793a73d8b9081c12a7d": {
          "model_module": "@jupyter-widgets/base",
          "model_name": "LayoutModel",
          "model_module_version": "1.2.0",
          "state": {
            "_model_module": "@jupyter-widgets/base",
            "_model_module_version": "1.2.0",
            "_model_name": "LayoutModel",
            "_view_count": null,
            "_view_module": "@jupyter-widgets/base",
            "_view_module_version": "1.2.0",
            "_view_name": "LayoutView",
            "align_content": null,
            "align_items": null,
            "align_self": null,
            "border": null,
            "bottom": null,
            "display": null,
            "flex": null,
            "flex_flow": null,
            "grid_area": null,
            "grid_auto_columns": null,
            "grid_auto_flow": null,
            "grid_auto_rows": null,
            "grid_column": null,
            "grid_gap": null,
            "grid_row": null,
            "grid_template_areas": null,
            "grid_template_columns": null,
            "grid_template_rows": null,
            "height": null,
            "justify_content": null,
            "justify_items": null,
            "left": null,
            "margin": null,
            "max_height": null,
            "max_width": null,
            "min_height": null,
            "min_width": null,
            "object_fit": null,
            "object_position": null,
            "order": null,
            "overflow": null,
            "overflow_x": null,
            "overflow_y": null,
            "padding": null,
            "right": null,
            "top": null,
            "visibility": null,
            "width": null
          }
        },
        "5e58ae4b59684f25bf2224f79e8a10a9": {
          "model_module": "@jupyter-widgets/controls",
          "model_name": "ProgressStyleModel",
          "model_module_version": "1.5.0",
          "state": {
            "_model_module": "@jupyter-widgets/controls",
            "_model_module_version": "1.5.0",
            "_model_name": "ProgressStyleModel",
            "_view_count": null,
            "_view_module": "@jupyter-widgets/base",
            "_view_module_version": "1.2.0",
            "_view_name": "StyleView",
            "bar_color": null,
            "description_width": ""
          }
        },
        "793b535f03a14c13b4ea2548737ada49": {
          "model_module": "@jupyter-widgets/base",
          "model_name": "LayoutModel",
          "model_module_version": "1.2.0",
          "state": {
            "_model_module": "@jupyter-widgets/base",
            "_model_module_version": "1.2.0",
            "_model_name": "LayoutModel",
            "_view_count": null,
            "_view_module": "@jupyter-widgets/base",
            "_view_module_version": "1.2.0",
            "_view_name": "LayoutView",
            "align_content": null,
            "align_items": null,
            "align_self": null,
            "border": null,
            "bottom": null,
            "display": null,
            "flex": null,
            "flex_flow": null,
            "grid_area": null,
            "grid_auto_columns": null,
            "grid_auto_flow": null,
            "grid_auto_rows": null,
            "grid_column": null,
            "grid_gap": null,
            "grid_row": null,
            "grid_template_areas": null,
            "grid_template_columns": null,
            "grid_template_rows": null,
            "height": null,
            "justify_content": null,
            "justify_items": null,
            "left": null,
            "margin": null,
            "max_height": null,
            "max_width": null,
            "min_height": null,
            "min_width": null,
            "object_fit": null,
            "object_position": null,
            "order": null,
            "overflow": null,
            "overflow_x": null,
            "overflow_y": null,
            "padding": null,
            "right": null,
            "top": null,
            "visibility": null,
            "width": null
          }
        },
        "24c82e4f9b23429a8449703e752fbc7d": {
          "model_module": "@jupyter-widgets/controls",
          "model_name": "DescriptionStyleModel",
          "model_module_version": "1.5.0",
          "state": {
            "_model_module": "@jupyter-widgets/controls",
            "_model_module_version": "1.5.0",
            "_model_name": "DescriptionStyleModel",
            "_view_count": null,
            "_view_module": "@jupyter-widgets/base",
            "_view_module_version": "1.2.0",
            "_view_name": "StyleView",
            "description_width": ""
          }
        },
        "8e8d187a77f84405a8c99a5f787e0cc8": {
          "model_module": "@jupyter-widgets/controls",
          "model_name": "HBoxModel",
          "model_module_version": "1.5.0",
          "state": {
            "_dom_classes": [],
            "_model_module": "@jupyter-widgets/controls",
            "_model_module_version": "1.5.0",
            "_model_name": "HBoxModel",
            "_view_count": null,
            "_view_module": "@jupyter-widgets/controls",
            "_view_module_version": "1.5.0",
            "_view_name": "HBoxView",
            "box_style": "",
            "children": [
              "IPY_MODEL_6e9482cf57f14f58afa10837aeb7cf13",
              "IPY_MODEL_3b25de9f6b8f47689b20ef3ab59cf169",
              "IPY_MODEL_71b08d46ffe0425a845051b242e5fd00"
            ],
            "layout": "IPY_MODEL_c18bbe1e03ee467892522147ece9db1e"
          }
        },
        "6e9482cf57f14f58afa10837aeb7cf13": {
          "model_module": "@jupyter-widgets/controls",
          "model_name": "HTMLModel",
          "model_module_version": "1.5.0",
          "state": {
            "_dom_classes": [],
            "_model_module": "@jupyter-widgets/controls",
            "_model_module_version": "1.5.0",
            "_model_name": "HTMLModel",
            "_view_count": null,
            "_view_module": "@jupyter-widgets/controls",
            "_view_module_version": "1.5.0",
            "_view_name": "HTMLView",
            "description": "",
            "description_tooltip": null,
            "layout": "IPY_MODEL_6ba51bddd6ab43aa983d90bbbd6f033e",
            "placeholder": "​",
            "style": "IPY_MODEL_b0e516efdaad4d1b99586288182c7113",
            "value": "merges.txt: 100%"
          }
        },
        "3b25de9f6b8f47689b20ef3ab59cf169": {
          "model_module": "@jupyter-widgets/controls",
          "model_name": "FloatProgressModel",
          "model_module_version": "1.5.0",
          "state": {
            "_dom_classes": [],
            "_model_module": "@jupyter-widgets/controls",
            "_model_module_version": "1.5.0",
            "_model_name": "FloatProgressModel",
            "_view_count": null,
            "_view_module": "@jupyter-widgets/controls",
            "_view_module_version": "1.5.0",
            "_view_name": "ProgressView",
            "bar_style": "success",
            "description": "",
            "description_tooltip": null,
            "layout": "IPY_MODEL_ba1978ddc5cf4c3ca2574ec51086453d",
            "max": 1671839,
            "min": 0,
            "orientation": "horizontal",
            "style": "IPY_MODEL_bf639b92839042b39a68c7bd9304da7a",
            "value": 1671839
          }
        },
        "71b08d46ffe0425a845051b242e5fd00": {
          "model_module": "@jupyter-widgets/controls",
          "model_name": "HTMLModel",
          "model_module_version": "1.5.0",
          "state": {
            "_dom_classes": [],
            "_model_module": "@jupyter-widgets/controls",
            "_model_module_version": "1.5.0",
            "_model_name": "HTMLModel",
            "_view_count": null,
            "_view_module": "@jupyter-widgets/controls",
            "_view_module_version": "1.5.0",
            "_view_name": "HTMLView",
            "description": "",
            "description_tooltip": null,
            "layout": "IPY_MODEL_8461199acbb7432fb0e457597f0d8cb5",
            "placeholder": "​",
            "style": "IPY_MODEL_1c8e3a4c474f4c3ea785d71608177e0e",
            "value": " 1.67M/1.67M [00:00&lt;00:00, 6.41MB/s]"
          }
        },
        "c18bbe1e03ee467892522147ece9db1e": {
          "model_module": "@jupyter-widgets/base",
          "model_name": "LayoutModel",
          "model_module_version": "1.2.0",
          "state": {
            "_model_module": "@jupyter-widgets/base",
            "_model_module_version": "1.2.0",
            "_model_name": "LayoutModel",
            "_view_count": null,
            "_view_module": "@jupyter-widgets/base",
            "_view_module_version": "1.2.0",
            "_view_name": "LayoutView",
            "align_content": null,
            "align_items": null,
            "align_self": null,
            "border": null,
            "bottom": null,
            "display": null,
            "flex": null,
            "flex_flow": null,
            "grid_area": null,
            "grid_auto_columns": null,
            "grid_auto_flow": null,
            "grid_auto_rows": null,
            "grid_column": null,
            "grid_gap": null,
            "grid_row": null,
            "grid_template_areas": null,
            "grid_template_columns": null,
            "grid_template_rows": null,
            "height": null,
            "justify_content": null,
            "justify_items": null,
            "left": null,
            "margin": null,
            "max_height": null,
            "max_width": null,
            "min_height": null,
            "min_width": null,
            "object_fit": null,
            "object_position": null,
            "order": null,
            "overflow": null,
            "overflow_x": null,
            "overflow_y": null,
            "padding": null,
            "right": null,
            "top": null,
            "visibility": null,
            "width": null
          }
        },
        "6ba51bddd6ab43aa983d90bbbd6f033e": {
          "model_module": "@jupyter-widgets/base",
          "model_name": "LayoutModel",
          "model_module_version": "1.2.0",
          "state": {
            "_model_module": "@jupyter-widgets/base",
            "_model_module_version": "1.2.0",
            "_model_name": "LayoutModel",
            "_view_count": null,
            "_view_module": "@jupyter-widgets/base",
            "_view_module_version": "1.2.0",
            "_view_name": "LayoutView",
            "align_content": null,
            "align_items": null,
            "align_self": null,
            "border": null,
            "bottom": null,
            "display": null,
            "flex": null,
            "flex_flow": null,
            "grid_area": null,
            "grid_auto_columns": null,
            "grid_auto_flow": null,
            "grid_auto_rows": null,
            "grid_column": null,
            "grid_gap": null,
            "grid_row": null,
            "grid_template_areas": null,
            "grid_template_columns": null,
            "grid_template_rows": null,
            "height": null,
            "justify_content": null,
            "justify_items": null,
            "left": null,
            "margin": null,
            "max_height": null,
            "max_width": null,
            "min_height": null,
            "min_width": null,
            "object_fit": null,
            "object_position": null,
            "order": null,
            "overflow": null,
            "overflow_x": null,
            "overflow_y": null,
            "padding": null,
            "right": null,
            "top": null,
            "visibility": null,
            "width": null
          }
        },
        "b0e516efdaad4d1b99586288182c7113": {
          "model_module": "@jupyter-widgets/controls",
          "model_name": "DescriptionStyleModel",
          "model_module_version": "1.5.0",
          "state": {
            "_model_module": "@jupyter-widgets/controls",
            "_model_module_version": "1.5.0",
            "_model_name": "DescriptionStyleModel",
            "_view_count": null,
            "_view_module": "@jupyter-widgets/base",
            "_view_module_version": "1.2.0",
            "_view_name": "StyleView",
            "description_width": ""
          }
        },
        "ba1978ddc5cf4c3ca2574ec51086453d": {
          "model_module": "@jupyter-widgets/base",
          "model_name": "LayoutModel",
          "model_module_version": "1.2.0",
          "state": {
            "_model_module": "@jupyter-widgets/base",
            "_model_module_version": "1.2.0",
            "_model_name": "LayoutModel",
            "_view_count": null,
            "_view_module": "@jupyter-widgets/base",
            "_view_module_version": "1.2.0",
            "_view_name": "LayoutView",
            "align_content": null,
            "align_items": null,
            "align_self": null,
            "border": null,
            "bottom": null,
            "display": null,
            "flex": null,
            "flex_flow": null,
            "grid_area": null,
            "grid_auto_columns": null,
            "grid_auto_flow": null,
            "grid_auto_rows": null,
            "grid_column": null,
            "grid_gap": null,
            "grid_row": null,
            "grid_template_areas": null,
            "grid_template_columns": null,
            "grid_template_rows": null,
            "height": null,
            "justify_content": null,
            "justify_items": null,
            "left": null,
            "margin": null,
            "max_height": null,
            "max_width": null,
            "min_height": null,
            "min_width": null,
            "object_fit": null,
            "object_position": null,
            "order": null,
            "overflow": null,
            "overflow_x": null,
            "overflow_y": null,
            "padding": null,
            "right": null,
            "top": null,
            "visibility": null,
            "width": null
          }
        },
        "bf639b92839042b39a68c7bd9304da7a": {
          "model_module": "@jupyter-widgets/controls",
          "model_name": "ProgressStyleModel",
          "model_module_version": "1.5.0",
          "state": {
            "_model_module": "@jupyter-widgets/controls",
            "_model_module_version": "1.5.0",
            "_model_name": "ProgressStyleModel",
            "_view_count": null,
            "_view_module": "@jupyter-widgets/base",
            "_view_module_version": "1.2.0",
            "_view_name": "StyleView",
            "bar_color": null,
            "description_width": ""
          }
        },
        "8461199acbb7432fb0e457597f0d8cb5": {
          "model_module": "@jupyter-widgets/base",
          "model_name": "LayoutModel",
          "model_module_version": "1.2.0",
          "state": {
            "_model_module": "@jupyter-widgets/base",
            "_model_module_version": "1.2.0",
            "_model_name": "LayoutModel",
            "_view_count": null,
            "_view_module": "@jupyter-widgets/base",
            "_view_module_version": "1.2.0",
            "_view_name": "LayoutView",
            "align_content": null,
            "align_items": null,
            "align_self": null,
            "border": null,
            "bottom": null,
            "display": null,
            "flex": null,
            "flex_flow": null,
            "grid_area": null,
            "grid_auto_columns": null,
            "grid_auto_flow": null,
            "grid_auto_rows": null,
            "grid_column": null,
            "grid_gap": null,
            "grid_row": null,
            "grid_template_areas": null,
            "grid_template_columns": null,
            "grid_template_rows": null,
            "height": null,
            "justify_content": null,
            "justify_items": null,
            "left": null,
            "margin": null,
            "max_height": null,
            "max_width": null,
            "min_height": null,
            "min_width": null,
            "object_fit": null,
            "object_position": null,
            "order": null,
            "overflow": null,
            "overflow_x": null,
            "overflow_y": null,
            "padding": null,
            "right": null,
            "top": null,
            "visibility": null,
            "width": null
          }
        },
        "1c8e3a4c474f4c3ea785d71608177e0e": {
          "model_module": "@jupyter-widgets/controls",
          "model_name": "DescriptionStyleModel",
          "model_module_version": "1.5.0",
          "state": {
            "_model_module": "@jupyter-widgets/controls",
            "_model_module_version": "1.5.0",
            "_model_name": "DescriptionStyleModel",
            "_view_count": null,
            "_view_module": "@jupyter-widgets/base",
            "_view_module_version": "1.2.0",
            "_view_name": "StyleView",
            "description_width": ""
          }
        },
        "893f52a880394f858005a8d5b1d92708": {
          "model_module": "@jupyter-widgets/controls",
          "model_name": "HBoxModel",
          "model_module_version": "1.5.0",
          "state": {
            "_dom_classes": [],
            "_model_module": "@jupyter-widgets/controls",
            "_model_module_version": "1.5.0",
            "_model_name": "HBoxModel",
            "_view_count": null,
            "_view_module": "@jupyter-widgets/controls",
            "_view_module_version": "1.5.0",
            "_view_name": "HBoxView",
            "box_style": "",
            "children": [
              "IPY_MODEL_da05e7dc2f33484fb2c4f4e8774ce94d",
              "IPY_MODEL_a19aabf0ad164802b43d63ca7cdfcda7",
              "IPY_MODEL_148b8dcd509b4ad5bad97d1d15b9a459"
            ],
            "layout": "IPY_MODEL_a9a471185d064ae8af9f10913f2c99ca"
          }
        },
        "da05e7dc2f33484fb2c4f4e8774ce94d": {
          "model_module": "@jupyter-widgets/controls",
          "model_name": "HTMLModel",
          "model_module_version": "1.5.0",
          "state": {
            "_dom_classes": [],
            "_model_module": "@jupyter-widgets/controls",
            "_model_module_version": "1.5.0",
            "_model_name": "HTMLModel",
            "_view_count": null,
            "_view_module": "@jupyter-widgets/controls",
            "_view_module_version": "1.5.0",
            "_view_name": "HTMLView",
            "description": "",
            "description_tooltip": null,
            "layout": "IPY_MODEL_3a647116daec42a7a4de57a438175d10",
            "placeholder": "​",
            "style": "IPY_MODEL_6566ac5d23a443388edf952a5f62de75",
            "value": "tokenizer.json: 100%"
          }
        },
        "a19aabf0ad164802b43d63ca7cdfcda7": {
          "model_module": "@jupyter-widgets/controls",
          "model_name": "FloatProgressModel",
          "model_module_version": "1.5.0",
          "state": {
            "_dom_classes": [],
            "_model_module": "@jupyter-widgets/controls",
            "_model_module_version": "1.5.0",
            "_model_name": "FloatProgressModel",
            "_view_count": null,
            "_view_module": "@jupyter-widgets/controls",
            "_view_module_version": "1.5.0",
            "_view_name": "ProgressView",
            "bar_style": "success",
            "description": "",
            "description_tooltip": null,
            "layout": "IPY_MODEL_9a23723240104ab3a1992876b9203d22",
            "max": 7028015,
            "min": 0,
            "orientation": "horizontal",
            "style": "IPY_MODEL_a7eb1eab9e37469bb7ea2cf8b8253934",
            "value": 7028015
          }
        },
        "148b8dcd509b4ad5bad97d1d15b9a459": {
          "model_module": "@jupyter-widgets/controls",
          "model_name": "HTMLModel",
          "model_module_version": "1.5.0",
          "state": {
            "_dom_classes": [],
            "_model_module": "@jupyter-widgets/controls",
            "_model_module_version": "1.5.0",
            "_model_name": "HTMLModel",
            "_view_count": null,
            "_view_module": "@jupyter-widgets/controls",
            "_view_module_version": "1.5.0",
            "_view_name": "HTMLView",
            "description": "",
            "description_tooltip": null,
            "layout": "IPY_MODEL_2c5f4f56741e47f8b89586c05a583c63",
            "placeholder": "​",
            "style": "IPY_MODEL_c29fe857d3424d63ae6bcff3982181aa",
            "value": " 7.03M/7.03M [00:00&lt;00:00, 17.0MB/s]"
          }
        },
        "a9a471185d064ae8af9f10913f2c99ca": {
          "model_module": "@jupyter-widgets/base",
          "model_name": "LayoutModel",
          "model_module_version": "1.2.0",
          "state": {
            "_model_module": "@jupyter-widgets/base",
            "_model_module_version": "1.2.0",
            "_model_name": "LayoutModel",
            "_view_count": null,
            "_view_module": "@jupyter-widgets/base",
            "_view_module_version": "1.2.0",
            "_view_name": "LayoutView",
            "align_content": null,
            "align_items": null,
            "align_self": null,
            "border": null,
            "bottom": null,
            "display": null,
            "flex": null,
            "flex_flow": null,
            "grid_area": null,
            "grid_auto_columns": null,
            "grid_auto_flow": null,
            "grid_auto_rows": null,
            "grid_column": null,
            "grid_gap": null,
            "grid_row": null,
            "grid_template_areas": null,
            "grid_template_columns": null,
            "grid_template_rows": null,
            "height": null,
            "justify_content": null,
            "justify_items": null,
            "left": null,
            "margin": null,
            "max_height": null,
            "max_width": null,
            "min_height": null,
            "min_width": null,
            "object_fit": null,
            "object_position": null,
            "order": null,
            "overflow": null,
            "overflow_x": null,
            "overflow_y": null,
            "padding": null,
            "right": null,
            "top": null,
            "visibility": null,
            "width": null
          }
        },
        "3a647116daec42a7a4de57a438175d10": {
          "model_module": "@jupyter-widgets/base",
          "model_name": "LayoutModel",
          "model_module_version": "1.2.0",
          "state": {
            "_model_module": "@jupyter-widgets/base",
            "_model_module_version": "1.2.0",
            "_model_name": "LayoutModel",
            "_view_count": null,
            "_view_module": "@jupyter-widgets/base",
            "_view_module_version": "1.2.0",
            "_view_name": "LayoutView",
            "align_content": null,
            "align_items": null,
            "align_self": null,
            "border": null,
            "bottom": null,
            "display": null,
            "flex": null,
            "flex_flow": null,
            "grid_area": null,
            "grid_auto_columns": null,
            "grid_auto_flow": null,
            "grid_auto_rows": null,
            "grid_column": null,
            "grid_gap": null,
            "grid_row": null,
            "grid_template_areas": null,
            "grid_template_columns": null,
            "grid_template_rows": null,
            "height": null,
            "justify_content": null,
            "justify_items": null,
            "left": null,
            "margin": null,
            "max_height": null,
            "max_width": null,
            "min_height": null,
            "min_width": null,
            "object_fit": null,
            "object_position": null,
            "order": null,
            "overflow": null,
            "overflow_x": null,
            "overflow_y": null,
            "padding": null,
            "right": null,
            "top": null,
            "visibility": null,
            "width": null
          }
        },
        "6566ac5d23a443388edf952a5f62de75": {
          "model_module": "@jupyter-widgets/controls",
          "model_name": "DescriptionStyleModel",
          "model_module_version": "1.5.0",
          "state": {
            "_model_module": "@jupyter-widgets/controls",
            "_model_module_version": "1.5.0",
            "_model_name": "DescriptionStyleModel",
            "_view_count": null,
            "_view_module": "@jupyter-widgets/base",
            "_view_module_version": "1.2.0",
            "_view_name": "StyleView",
            "description_width": ""
          }
        },
        "9a23723240104ab3a1992876b9203d22": {
          "model_module": "@jupyter-widgets/base",
          "model_name": "LayoutModel",
          "model_module_version": "1.2.0",
          "state": {
            "_model_module": "@jupyter-widgets/base",
            "_model_module_version": "1.2.0",
            "_model_name": "LayoutModel",
            "_view_count": null,
            "_view_module": "@jupyter-widgets/base",
            "_view_module_version": "1.2.0",
            "_view_name": "LayoutView",
            "align_content": null,
            "align_items": null,
            "align_self": null,
            "border": null,
            "bottom": null,
            "display": null,
            "flex": null,
            "flex_flow": null,
            "grid_area": null,
            "grid_auto_columns": null,
            "grid_auto_flow": null,
            "grid_auto_rows": null,
            "grid_column": null,
            "grid_gap": null,
            "grid_row": null,
            "grid_template_areas": null,
            "grid_template_columns": null,
            "grid_template_rows": null,
            "height": null,
            "justify_content": null,
            "justify_items": null,
            "left": null,
            "margin": null,
            "max_height": null,
            "max_width": null,
            "min_height": null,
            "min_width": null,
            "object_fit": null,
            "object_position": null,
            "order": null,
            "overflow": null,
            "overflow_x": null,
            "overflow_y": null,
            "padding": null,
            "right": null,
            "top": null,
            "visibility": null,
            "width": null
          }
        },
        "a7eb1eab9e37469bb7ea2cf8b8253934": {
          "model_module": "@jupyter-widgets/controls",
          "model_name": "ProgressStyleModel",
          "model_module_version": "1.5.0",
          "state": {
            "_model_module": "@jupyter-widgets/controls",
            "_model_module_version": "1.5.0",
            "_model_name": "ProgressStyleModel",
            "_view_count": null,
            "_view_module": "@jupyter-widgets/base",
            "_view_module_version": "1.2.0",
            "_view_name": "StyleView",
            "bar_color": null,
            "description_width": ""
          }
        },
        "2c5f4f56741e47f8b89586c05a583c63": {
          "model_module": "@jupyter-widgets/base",
          "model_name": "LayoutModel",
          "model_module_version": "1.2.0",
          "state": {
            "_model_module": "@jupyter-widgets/base",
            "_model_module_version": "1.2.0",
            "_model_name": "LayoutModel",
            "_view_count": null,
            "_view_module": "@jupyter-widgets/base",
            "_view_module_version": "1.2.0",
            "_view_name": "LayoutView",
            "align_content": null,
            "align_items": null,
            "align_self": null,
            "border": null,
            "bottom": null,
            "display": null,
            "flex": null,
            "flex_flow": null,
            "grid_area": null,
            "grid_auto_columns": null,
            "grid_auto_flow": null,
            "grid_auto_rows": null,
            "grid_column": null,
            "grid_gap": null,
            "grid_row": null,
            "grid_template_areas": null,
            "grid_template_columns": null,
            "grid_template_rows": null,
            "height": null,
            "justify_content": null,
            "justify_items": null,
            "left": null,
            "margin": null,
            "max_height": null,
            "max_width": null,
            "min_height": null,
            "min_width": null,
            "object_fit": null,
            "object_position": null,
            "order": null,
            "overflow": null,
            "overflow_x": null,
            "overflow_y": null,
            "padding": null,
            "right": null,
            "top": null,
            "visibility": null,
            "width": null
          }
        },
        "c29fe857d3424d63ae6bcff3982181aa": {
          "model_module": "@jupyter-widgets/controls",
          "model_name": "DescriptionStyleModel",
          "model_module_version": "1.5.0",
          "state": {
            "_model_module": "@jupyter-widgets/controls",
            "_model_module_version": "1.5.0",
            "_model_name": "DescriptionStyleModel",
            "_view_count": null,
            "_view_module": "@jupyter-widgets/base",
            "_view_module_version": "1.2.0",
            "_view_name": "StyleView",
            "description_width": ""
          }
        },
        "d63708684e1f4bc3bd5b8b9bcb742101": {
          "model_module": "@jupyter-widgets/controls",
          "model_name": "HBoxModel",
          "model_module_version": "1.5.0",
          "state": {
            "_dom_classes": [],
            "_model_module": "@jupyter-widgets/controls",
            "_model_module_version": "1.5.0",
            "_model_name": "HBoxModel",
            "_view_count": null,
            "_view_module": "@jupyter-widgets/controls",
            "_view_module_version": "1.5.0",
            "_view_name": "HBoxView",
            "box_style": "",
            "children": [
              "IPY_MODEL_3173e2010f914d9386af0fc264f73fd2",
              "IPY_MODEL_1d2182ee4eb84da0a79945b6321adb1c",
              "IPY_MODEL_4d57995d27104018912484313130ec0b"
            ],
            "layout": "IPY_MODEL_8dad3f1aedca40f19a2ffc22a71926a2"
          }
        },
        "3173e2010f914d9386af0fc264f73fd2": {
          "model_module": "@jupyter-widgets/controls",
          "model_name": "HTMLModel",
          "model_module_version": "1.5.0",
          "state": {
            "_dom_classes": [],
            "_model_module": "@jupyter-widgets/controls",
            "_model_module_version": "1.5.0",
            "_model_name": "HTMLModel",
            "_view_count": null,
            "_view_module": "@jupyter-widgets/controls",
            "_view_module_version": "1.5.0",
            "_view_name": "HTMLView",
            "description": "",
            "description_tooltip": null,
            "layout": "IPY_MODEL_5b059515784f4975bbc883b9cf412c98",
            "placeholder": "​",
            "style": "IPY_MODEL_03ba9b85ee854b3797a1fe0562645133",
            "value": "config.json: 100%"
          }
        },
        "1d2182ee4eb84da0a79945b6321adb1c": {
          "model_module": "@jupyter-widgets/controls",
          "model_name": "FloatProgressModel",
          "model_module_version": "1.5.0",
          "state": {
            "_dom_classes": [],
            "_model_module": "@jupyter-widgets/controls",
            "_model_module_version": "1.5.0",
            "_model_name": "FloatProgressModel",
            "_view_count": null,
            "_view_module": "@jupyter-widgets/controls",
            "_view_module_version": "1.5.0",
            "_view_name": "ProgressView",
            "bar_style": "success",
            "description": "",
            "description_tooltip": null,
            "layout": "IPY_MODEL_c0e010243ac34963a6378afaa3dd9c54",
            "max": 661,
            "min": 0,
            "orientation": "horizontal",
            "style": "IPY_MODEL_efc699ba083b47a49fc10b881442184e",
            "value": 661
          }
        },
        "4d57995d27104018912484313130ec0b": {
          "model_module": "@jupyter-widgets/controls",
          "model_name": "HTMLModel",
          "model_module_version": "1.5.0",
          "state": {
            "_dom_classes": [],
            "_model_module": "@jupyter-widgets/controls",
            "_model_module_version": "1.5.0",
            "_model_name": "HTMLModel",
            "_view_count": null,
            "_view_module": "@jupyter-widgets/controls",
            "_view_module_version": "1.5.0",
            "_view_name": "HTMLView",
            "description": "",
            "description_tooltip": null,
            "layout": "IPY_MODEL_26dddf2477334e469bc89b877d8201ad",
            "placeholder": "​",
            "style": "IPY_MODEL_ea91c3e4f8804f59a58ac1cf332d902c",
            "value": " 661/661 [00:00&lt;00:00, 21.9kB/s]"
          }
        },
        "8dad3f1aedca40f19a2ffc22a71926a2": {
          "model_module": "@jupyter-widgets/base",
          "model_name": "LayoutModel",
          "model_module_version": "1.2.0",
          "state": {
            "_model_module": "@jupyter-widgets/base",
            "_model_module_version": "1.2.0",
            "_model_name": "LayoutModel",
            "_view_count": null,
            "_view_module": "@jupyter-widgets/base",
            "_view_module_version": "1.2.0",
            "_view_name": "LayoutView",
            "align_content": null,
            "align_items": null,
            "align_self": null,
            "border": null,
            "bottom": null,
            "display": null,
            "flex": null,
            "flex_flow": null,
            "grid_area": null,
            "grid_auto_columns": null,
            "grid_auto_flow": null,
            "grid_auto_rows": null,
            "grid_column": null,
            "grid_gap": null,
            "grid_row": null,
            "grid_template_areas": null,
            "grid_template_columns": null,
            "grid_template_rows": null,
            "height": null,
            "justify_content": null,
            "justify_items": null,
            "left": null,
            "margin": null,
            "max_height": null,
            "max_width": null,
            "min_height": null,
            "min_width": null,
            "object_fit": null,
            "object_position": null,
            "order": null,
            "overflow": null,
            "overflow_x": null,
            "overflow_y": null,
            "padding": null,
            "right": null,
            "top": null,
            "visibility": null,
            "width": null
          }
        },
        "5b059515784f4975bbc883b9cf412c98": {
          "model_module": "@jupyter-widgets/base",
          "model_name": "LayoutModel",
          "model_module_version": "1.2.0",
          "state": {
            "_model_module": "@jupyter-widgets/base",
            "_model_module_version": "1.2.0",
            "_model_name": "LayoutModel",
            "_view_count": null,
            "_view_module": "@jupyter-widgets/base",
            "_view_module_version": "1.2.0",
            "_view_name": "LayoutView",
            "align_content": null,
            "align_items": null,
            "align_self": null,
            "border": null,
            "bottom": null,
            "display": null,
            "flex": null,
            "flex_flow": null,
            "grid_area": null,
            "grid_auto_columns": null,
            "grid_auto_flow": null,
            "grid_auto_rows": null,
            "grid_column": null,
            "grid_gap": null,
            "grid_row": null,
            "grid_template_areas": null,
            "grid_template_columns": null,
            "grid_template_rows": null,
            "height": null,
            "justify_content": null,
            "justify_items": null,
            "left": null,
            "margin": null,
            "max_height": null,
            "max_width": null,
            "min_height": null,
            "min_width": null,
            "object_fit": null,
            "object_position": null,
            "order": null,
            "overflow": null,
            "overflow_x": null,
            "overflow_y": null,
            "padding": null,
            "right": null,
            "top": null,
            "visibility": null,
            "width": null
          }
        },
        "03ba9b85ee854b3797a1fe0562645133": {
          "model_module": "@jupyter-widgets/controls",
          "model_name": "DescriptionStyleModel",
          "model_module_version": "1.5.0",
          "state": {
            "_model_module": "@jupyter-widgets/controls",
            "_model_module_version": "1.5.0",
            "_model_name": "DescriptionStyleModel",
            "_view_count": null,
            "_view_module": "@jupyter-widgets/base",
            "_view_module_version": "1.2.0",
            "_view_name": "StyleView",
            "description_width": ""
          }
        },
        "c0e010243ac34963a6378afaa3dd9c54": {
          "model_module": "@jupyter-widgets/base",
          "model_name": "LayoutModel",
          "model_module_version": "1.2.0",
          "state": {
            "_model_module": "@jupyter-widgets/base",
            "_model_module_version": "1.2.0",
            "_model_name": "LayoutModel",
            "_view_count": null,
            "_view_module": "@jupyter-widgets/base",
            "_view_module_version": "1.2.0",
            "_view_name": "LayoutView",
            "align_content": null,
            "align_items": null,
            "align_self": null,
            "border": null,
            "bottom": null,
            "display": null,
            "flex": null,
            "flex_flow": null,
            "grid_area": null,
            "grid_auto_columns": null,
            "grid_auto_flow": null,
            "grid_auto_rows": null,
            "grid_column": null,
            "grid_gap": null,
            "grid_row": null,
            "grid_template_areas": null,
            "grid_template_columns": null,
            "grid_template_rows": null,
            "height": null,
            "justify_content": null,
            "justify_items": null,
            "left": null,
            "margin": null,
            "max_height": null,
            "max_width": null,
            "min_height": null,
            "min_width": null,
            "object_fit": null,
            "object_position": null,
            "order": null,
            "overflow": null,
            "overflow_x": null,
            "overflow_y": null,
            "padding": null,
            "right": null,
            "top": null,
            "visibility": null,
            "width": null
          }
        },
        "efc699ba083b47a49fc10b881442184e": {
          "model_module": "@jupyter-widgets/controls",
          "model_name": "ProgressStyleModel",
          "model_module_version": "1.5.0",
          "state": {
            "_model_module": "@jupyter-widgets/controls",
            "_model_module_version": "1.5.0",
            "_model_name": "ProgressStyleModel",
            "_view_count": null,
            "_view_module": "@jupyter-widgets/base",
            "_view_module_version": "1.2.0",
            "_view_name": "StyleView",
            "bar_color": null,
            "description_width": ""
          }
        },
        "26dddf2477334e469bc89b877d8201ad": {
          "model_module": "@jupyter-widgets/base",
          "model_name": "LayoutModel",
          "model_module_version": "1.2.0",
          "state": {
            "_model_module": "@jupyter-widgets/base",
            "_model_module_version": "1.2.0",
            "_model_name": "LayoutModel",
            "_view_count": null,
            "_view_module": "@jupyter-widgets/base",
            "_view_module_version": "1.2.0",
            "_view_name": "LayoutView",
            "align_content": null,
            "align_items": null,
            "align_self": null,
            "border": null,
            "bottom": null,
            "display": null,
            "flex": null,
            "flex_flow": null,
            "grid_area": null,
            "grid_auto_columns": null,
            "grid_auto_flow": null,
            "grid_auto_rows": null,
            "grid_column": null,
            "grid_gap": null,
            "grid_row": null,
            "grid_template_areas": null,
            "grid_template_columns": null,
            "grid_template_rows": null,
            "height": null,
            "justify_content": null,
            "justify_items": null,
            "left": null,
            "margin": null,
            "max_height": null,
            "max_width": null,
            "min_height": null,
            "min_width": null,
            "object_fit": null,
            "object_position": null,
            "order": null,
            "overflow": null,
            "overflow_x": null,
            "overflow_y": null,
            "padding": null,
            "right": null,
            "top": null,
            "visibility": null,
            "width": null
          }
        },
        "ea91c3e4f8804f59a58ac1cf332d902c": {
          "model_module": "@jupyter-widgets/controls",
          "model_name": "DescriptionStyleModel",
          "model_module_version": "1.5.0",
          "state": {
            "_model_module": "@jupyter-widgets/controls",
            "_model_module_version": "1.5.0",
            "_model_name": "DescriptionStyleModel",
            "_view_count": null,
            "_view_module": "@jupyter-widgets/base",
            "_view_module_version": "1.2.0",
            "_view_name": "StyleView",
            "description_width": ""
          }
        },
        "41e606b3ee794d348c5d027ad34fcbcb": {
          "model_module": "@jupyter-widgets/controls",
          "model_name": "HBoxModel",
          "model_module_version": "1.5.0",
          "state": {
            "_dom_classes": [],
            "_model_module": "@jupyter-widgets/controls",
            "_model_module_version": "1.5.0",
            "_model_name": "HBoxModel",
            "_view_count": null,
            "_view_module": "@jupyter-widgets/controls",
            "_view_module_version": "1.5.0",
            "_view_name": "HBoxView",
            "box_style": "",
            "children": [
              "IPY_MODEL_362230a550b840f5ba4985a2f2b295c3",
              "IPY_MODEL_7906a5ec0fb944f782e971f419337125",
              "IPY_MODEL_7d7a781aef79472c810e7540d433820c"
            ],
            "layout": "IPY_MODEL_73f5623292db47539c935c62e86cd24a"
          }
        },
        "362230a550b840f5ba4985a2f2b295c3": {
          "model_module": "@jupyter-widgets/controls",
          "model_name": "HTMLModel",
          "model_module_version": "1.5.0",
          "state": {
            "_dom_classes": [],
            "_model_module": "@jupyter-widgets/controls",
            "_model_module_version": "1.5.0",
            "_model_name": "HTMLModel",
            "_view_count": null,
            "_view_module": "@jupyter-widgets/controls",
            "_view_module_version": "1.5.0",
            "_view_name": "HTMLView",
            "description": "",
            "description_tooltip": null,
            "layout": "IPY_MODEL_fe8a4d6247f44740b7dfaf085d6638ae",
            "placeholder": "​",
            "style": "IPY_MODEL_05a20634ed014c03886655d7a19ce636",
            "value": "model.safetensors: 100%"
          }
        },
        "7906a5ec0fb944f782e971f419337125": {
          "model_module": "@jupyter-widgets/controls",
          "model_name": "FloatProgressModel",
          "model_module_version": "1.5.0",
          "state": {
            "_dom_classes": [],
            "_model_module": "@jupyter-widgets/controls",
            "_model_module_version": "1.5.0",
            "_model_name": "FloatProgressModel",
            "_view_count": null,
            "_view_module": "@jupyter-widgets/controls",
            "_view_module_version": "1.5.0",
            "_view_name": "ProgressView",
            "bar_style": "success",
            "description": "",
            "description_tooltip": null,
            "layout": "IPY_MODEL_a9d0a8fa79f54a62ac8b8ed2671c1a4e",
            "max": 1239173352,
            "min": 0,
            "orientation": "horizontal",
            "style": "IPY_MODEL_2ddab82d5fb04698a428428b0dfce4df",
            "value": 1239173352
          }
        },
        "7d7a781aef79472c810e7540d433820c": {
          "model_module": "@jupyter-widgets/controls",
          "model_name": "HTMLModel",
          "model_module_version": "1.5.0",
          "state": {
            "_dom_classes": [],
            "_model_module": "@jupyter-widgets/controls",
            "_model_module_version": "1.5.0",
            "_model_name": "HTMLModel",
            "_view_count": null,
            "_view_module": "@jupyter-widgets/controls",
            "_view_module_version": "1.5.0",
            "_view_name": "HTMLView",
            "description": "",
            "description_tooltip": null,
            "layout": "IPY_MODEL_9124bcf7e0ed4095ac128a8f4d504462",
            "placeholder": "​",
            "style": "IPY_MODEL_6f26c3c71fbb479085d0b39bcd3a2068",
            "value": " 1.24G/1.24G [00:16&lt;00:00, 95.2MB/s]"
          }
        },
        "73f5623292db47539c935c62e86cd24a": {
          "model_module": "@jupyter-widgets/base",
          "model_name": "LayoutModel",
          "model_module_version": "1.2.0",
          "state": {
            "_model_module": "@jupyter-widgets/base",
            "_model_module_version": "1.2.0",
            "_model_name": "LayoutModel",
            "_view_count": null,
            "_view_module": "@jupyter-widgets/base",
            "_view_module_version": "1.2.0",
            "_view_name": "LayoutView",
            "align_content": null,
            "align_items": null,
            "align_self": null,
            "border": null,
            "bottom": null,
            "display": null,
            "flex": null,
            "flex_flow": null,
            "grid_area": null,
            "grid_auto_columns": null,
            "grid_auto_flow": null,
            "grid_auto_rows": null,
            "grid_column": null,
            "grid_gap": null,
            "grid_row": null,
            "grid_template_areas": null,
            "grid_template_columns": null,
            "grid_template_rows": null,
            "height": null,
            "justify_content": null,
            "justify_items": null,
            "left": null,
            "margin": null,
            "max_height": null,
            "max_width": null,
            "min_height": null,
            "min_width": null,
            "object_fit": null,
            "object_position": null,
            "order": null,
            "overflow": null,
            "overflow_x": null,
            "overflow_y": null,
            "padding": null,
            "right": null,
            "top": null,
            "visibility": null,
            "width": null
          }
        },
        "fe8a4d6247f44740b7dfaf085d6638ae": {
          "model_module": "@jupyter-widgets/base",
          "model_name": "LayoutModel",
          "model_module_version": "1.2.0",
          "state": {
            "_model_module": "@jupyter-widgets/base",
            "_model_module_version": "1.2.0",
            "_model_name": "LayoutModel",
            "_view_count": null,
            "_view_module": "@jupyter-widgets/base",
            "_view_module_version": "1.2.0",
            "_view_name": "LayoutView",
            "align_content": null,
            "align_items": null,
            "align_self": null,
            "border": null,
            "bottom": null,
            "display": null,
            "flex": null,
            "flex_flow": null,
            "grid_area": null,
            "grid_auto_columns": null,
            "grid_auto_flow": null,
            "grid_auto_rows": null,
            "grid_column": null,
            "grid_gap": null,
            "grid_row": null,
            "grid_template_areas": null,
            "grid_template_columns": null,
            "grid_template_rows": null,
            "height": null,
            "justify_content": null,
            "justify_items": null,
            "left": null,
            "margin": null,
            "max_height": null,
            "max_width": null,
            "min_height": null,
            "min_width": null,
            "object_fit": null,
            "object_position": null,
            "order": null,
            "overflow": null,
            "overflow_x": null,
            "overflow_y": null,
            "padding": null,
            "right": null,
            "top": null,
            "visibility": null,
            "width": null
          }
        },
        "05a20634ed014c03886655d7a19ce636": {
          "model_module": "@jupyter-widgets/controls",
          "model_name": "DescriptionStyleModel",
          "model_module_version": "1.5.0",
          "state": {
            "_model_module": "@jupyter-widgets/controls",
            "_model_module_version": "1.5.0",
            "_model_name": "DescriptionStyleModel",
            "_view_count": null,
            "_view_module": "@jupyter-widgets/base",
            "_view_module_version": "1.2.0",
            "_view_name": "StyleView",
            "description_width": ""
          }
        },
        "a9d0a8fa79f54a62ac8b8ed2671c1a4e": {
          "model_module": "@jupyter-widgets/base",
          "model_name": "LayoutModel",
          "model_module_version": "1.2.0",
          "state": {
            "_model_module": "@jupyter-widgets/base",
            "_model_module_version": "1.2.0",
            "_model_name": "LayoutModel",
            "_view_count": null,
            "_view_module": "@jupyter-widgets/base",
            "_view_module_version": "1.2.0",
            "_view_name": "LayoutView",
            "align_content": null,
            "align_items": null,
            "align_self": null,
            "border": null,
            "bottom": null,
            "display": null,
            "flex": null,
            "flex_flow": null,
            "grid_area": null,
            "grid_auto_columns": null,
            "grid_auto_flow": null,
            "grid_auto_rows": null,
            "grid_column": null,
            "grid_gap": null,
            "grid_row": null,
            "grid_template_areas": null,
            "grid_template_columns": null,
            "grid_template_rows": null,
            "height": null,
            "justify_content": null,
            "justify_items": null,
            "left": null,
            "margin": null,
            "max_height": null,
            "max_width": null,
            "min_height": null,
            "min_width": null,
            "object_fit": null,
            "object_position": null,
            "order": null,
            "overflow": null,
            "overflow_x": null,
            "overflow_y": null,
            "padding": null,
            "right": null,
            "top": null,
            "visibility": null,
            "width": null
          }
        },
        "2ddab82d5fb04698a428428b0dfce4df": {
          "model_module": "@jupyter-widgets/controls",
          "model_name": "ProgressStyleModel",
          "model_module_version": "1.5.0",
          "state": {
            "_model_module": "@jupyter-widgets/controls",
            "_model_module_version": "1.5.0",
            "_model_name": "ProgressStyleModel",
            "_view_count": null,
            "_view_module": "@jupyter-widgets/base",
            "_view_module_version": "1.2.0",
            "_view_name": "StyleView",
            "bar_color": null,
            "description_width": ""
          }
        },
        "9124bcf7e0ed4095ac128a8f4d504462": {
          "model_module": "@jupyter-widgets/base",
          "model_name": "LayoutModel",
          "model_module_version": "1.2.0",
          "state": {
            "_model_module": "@jupyter-widgets/base",
            "_model_module_version": "1.2.0",
            "_model_name": "LayoutModel",
            "_view_count": null,
            "_view_module": "@jupyter-widgets/base",
            "_view_module_version": "1.2.0",
            "_view_name": "LayoutView",
            "align_content": null,
            "align_items": null,
            "align_self": null,
            "border": null,
            "bottom": null,
            "display": null,
            "flex": null,
            "flex_flow": null,
            "grid_area": null,
            "grid_auto_columns": null,
            "grid_auto_flow": null,
            "grid_auto_rows": null,
            "grid_column": null,
            "grid_gap": null,
            "grid_row": null,
            "grid_template_areas": null,
            "grid_template_columns": null,
            "grid_template_rows": null,
            "height": null,
            "justify_content": null,
            "justify_items": null,
            "left": null,
            "margin": null,
            "max_height": null,
            "max_width": null,
            "min_height": null,
            "min_width": null,
            "object_fit": null,
            "object_position": null,
            "order": null,
            "overflow": null,
            "overflow_x": null,
            "overflow_y": null,
            "padding": null,
            "right": null,
            "top": null,
            "visibility": null,
            "width": null
          }
        },
        "6f26c3c71fbb479085d0b39bcd3a2068": {
          "model_module": "@jupyter-widgets/controls",
          "model_name": "DescriptionStyleModel",
          "model_module_version": "1.5.0",
          "state": {
            "_model_module": "@jupyter-widgets/controls",
            "_model_module_version": "1.5.0",
            "_model_name": "DescriptionStyleModel",
            "_view_count": null,
            "_view_module": "@jupyter-widgets/base",
            "_view_module_version": "1.2.0",
            "_view_name": "StyleView",
            "description_width": ""
          }
        },
        "b0e2d0bedbc44f6785e185f3a8fba06c": {
          "model_module": "@jupyter-widgets/controls",
          "model_name": "HBoxModel",
          "model_module_version": "1.5.0",
          "state": {
            "_dom_classes": [],
            "_model_module": "@jupyter-widgets/controls",
            "_model_module_version": "1.5.0",
            "_model_name": "HBoxModel",
            "_view_count": null,
            "_view_module": "@jupyter-widgets/controls",
            "_view_module_version": "1.5.0",
            "_view_name": "HBoxView",
            "box_style": "",
            "children": [
              "IPY_MODEL_afff800c7bc440a1b022591e1e92725f",
              "IPY_MODEL_c1c288961c1440a39a752743be936a98",
              "IPY_MODEL_1a18f92a7f6640f2bb55f3cca0d7fe93"
            ],
            "layout": "IPY_MODEL_d866c71860b04736952327a8d91e41c4"
          }
        },
        "afff800c7bc440a1b022591e1e92725f": {
          "model_module": "@jupyter-widgets/controls",
          "model_name": "HTMLModel",
          "model_module_version": "1.5.0",
          "state": {
            "_dom_classes": [],
            "_model_module": "@jupyter-widgets/controls",
            "_model_module_version": "1.5.0",
            "_model_name": "HTMLModel",
            "_view_count": null,
            "_view_module": "@jupyter-widgets/controls",
            "_view_module_version": "1.5.0",
            "_view_name": "HTMLView",
            "description": "",
            "description_tooltip": null,
            "layout": "IPY_MODEL_90fe52b7f4fa407d94ecd0757b52e847",
            "placeholder": "​",
            "style": "IPY_MODEL_1fee1dae3e804880b6b619fcd32ea8d9",
            "value": "generation_config.json: 100%"
          }
        },
        "c1c288961c1440a39a752743be936a98": {
          "model_module": "@jupyter-widgets/controls",
          "model_name": "FloatProgressModel",
          "model_module_version": "1.5.0",
          "state": {
            "_dom_classes": [],
            "_model_module": "@jupyter-widgets/controls",
            "_model_module_version": "1.5.0",
            "_model_name": "FloatProgressModel",
            "_view_count": null,
            "_view_module": "@jupyter-widgets/controls",
            "_view_module_version": "1.5.0",
            "_view_name": "ProgressView",
            "bar_style": "success",
            "description": "",
            "description_tooltip": null,
            "layout": "IPY_MODEL_26eb4b3f15064be281bdd818fc4c3a7e",
            "max": 138,
            "min": 0,
            "orientation": "horizontal",
            "style": "IPY_MODEL_b0952ad308ae4712a5de1cfbb4a2e4bd",
            "value": 138
          }
        },
        "1a18f92a7f6640f2bb55f3cca0d7fe93": {
          "model_module": "@jupyter-widgets/controls",
          "model_name": "HTMLModel",
          "model_module_version": "1.5.0",
          "state": {
            "_dom_classes": [],
            "_model_module": "@jupyter-widgets/controls",
            "_model_module_version": "1.5.0",
            "_model_name": "HTMLModel",
            "_view_count": null,
            "_view_module": "@jupyter-widgets/controls",
            "_view_module_version": "1.5.0",
            "_view_name": "HTMLView",
            "description": "",
            "description_tooltip": null,
            "layout": "IPY_MODEL_c1769c40b6e94aecb76273129a5ad67f",
            "placeholder": "​",
            "style": "IPY_MODEL_e21a024b53964336a94cb38c98242e68",
            "value": " 138/138 [00:00&lt;00:00, 2.41kB/s]"
          }
        },
        "d866c71860b04736952327a8d91e41c4": {
          "model_module": "@jupyter-widgets/base",
          "model_name": "LayoutModel",
          "model_module_version": "1.2.0",
          "state": {
            "_model_module": "@jupyter-widgets/base",
            "_model_module_version": "1.2.0",
            "_model_name": "LayoutModel",
            "_view_count": null,
            "_view_module": "@jupyter-widgets/base",
            "_view_module_version": "1.2.0",
            "_view_name": "LayoutView",
            "align_content": null,
            "align_items": null,
            "align_self": null,
            "border": null,
            "bottom": null,
            "display": null,
            "flex": null,
            "flex_flow": null,
            "grid_area": null,
            "grid_auto_columns": null,
            "grid_auto_flow": null,
            "grid_auto_rows": null,
            "grid_column": null,
            "grid_gap": null,
            "grid_row": null,
            "grid_template_areas": null,
            "grid_template_columns": null,
            "grid_template_rows": null,
            "height": null,
            "justify_content": null,
            "justify_items": null,
            "left": null,
            "margin": null,
            "max_height": null,
            "max_width": null,
            "min_height": null,
            "min_width": null,
            "object_fit": null,
            "object_position": null,
            "order": null,
            "overflow": null,
            "overflow_x": null,
            "overflow_y": null,
            "padding": null,
            "right": null,
            "top": null,
            "visibility": null,
            "width": null
          }
        },
        "90fe52b7f4fa407d94ecd0757b52e847": {
          "model_module": "@jupyter-widgets/base",
          "model_name": "LayoutModel",
          "model_module_version": "1.2.0",
          "state": {
            "_model_module": "@jupyter-widgets/base",
            "_model_module_version": "1.2.0",
            "_model_name": "LayoutModel",
            "_view_count": null,
            "_view_module": "@jupyter-widgets/base",
            "_view_module_version": "1.2.0",
            "_view_name": "LayoutView",
            "align_content": null,
            "align_items": null,
            "align_self": null,
            "border": null,
            "bottom": null,
            "display": null,
            "flex": null,
            "flex_flow": null,
            "grid_area": null,
            "grid_auto_columns": null,
            "grid_auto_flow": null,
            "grid_auto_rows": null,
            "grid_column": null,
            "grid_gap": null,
            "grid_row": null,
            "grid_template_areas": null,
            "grid_template_columns": null,
            "grid_template_rows": null,
            "height": null,
            "justify_content": null,
            "justify_items": null,
            "left": null,
            "margin": null,
            "max_height": null,
            "max_width": null,
            "min_height": null,
            "min_width": null,
            "object_fit": null,
            "object_position": null,
            "order": null,
            "overflow": null,
            "overflow_x": null,
            "overflow_y": null,
            "padding": null,
            "right": null,
            "top": null,
            "visibility": null,
            "width": null
          }
        },
        "1fee1dae3e804880b6b619fcd32ea8d9": {
          "model_module": "@jupyter-widgets/controls",
          "model_name": "DescriptionStyleModel",
          "model_module_version": "1.5.0",
          "state": {
            "_model_module": "@jupyter-widgets/controls",
            "_model_module_version": "1.5.0",
            "_model_name": "DescriptionStyleModel",
            "_view_count": null,
            "_view_module": "@jupyter-widgets/base",
            "_view_module_version": "1.2.0",
            "_view_name": "StyleView",
            "description_width": ""
          }
        },
        "26eb4b3f15064be281bdd818fc4c3a7e": {
          "model_module": "@jupyter-widgets/base",
          "model_name": "LayoutModel",
          "model_module_version": "1.2.0",
          "state": {
            "_model_module": "@jupyter-widgets/base",
            "_model_module_version": "1.2.0",
            "_model_name": "LayoutModel",
            "_view_count": null,
            "_view_module": "@jupyter-widgets/base",
            "_view_module_version": "1.2.0",
            "_view_name": "LayoutView",
            "align_content": null,
            "align_items": null,
            "align_self": null,
            "border": null,
            "bottom": null,
            "display": null,
            "flex": null,
            "flex_flow": null,
            "grid_area": null,
            "grid_auto_columns": null,
            "grid_auto_flow": null,
            "grid_auto_rows": null,
            "grid_column": null,
            "grid_gap": null,
            "grid_row": null,
            "grid_template_areas": null,
            "grid_template_columns": null,
            "grid_template_rows": null,
            "height": null,
            "justify_content": null,
            "justify_items": null,
            "left": null,
            "margin": null,
            "max_height": null,
            "max_width": null,
            "min_height": null,
            "min_width": null,
            "object_fit": null,
            "object_position": null,
            "order": null,
            "overflow": null,
            "overflow_x": null,
            "overflow_y": null,
            "padding": null,
            "right": null,
            "top": null,
            "visibility": null,
            "width": null
          }
        },
        "b0952ad308ae4712a5de1cfbb4a2e4bd": {
          "model_module": "@jupyter-widgets/controls",
          "model_name": "ProgressStyleModel",
          "model_module_version": "1.5.0",
          "state": {
            "_model_module": "@jupyter-widgets/controls",
            "_model_module_version": "1.5.0",
            "_model_name": "ProgressStyleModel",
            "_view_count": null,
            "_view_module": "@jupyter-widgets/base",
            "_view_module_version": "1.2.0",
            "_view_name": "StyleView",
            "bar_color": null,
            "description_width": ""
          }
        },
        "c1769c40b6e94aecb76273129a5ad67f": {
          "model_module": "@jupyter-widgets/base",
          "model_name": "LayoutModel",
          "model_module_version": "1.2.0",
          "state": {
            "_model_module": "@jupyter-widgets/base",
            "_model_module_version": "1.2.0",
            "_model_name": "LayoutModel",
            "_view_count": null,
            "_view_module": "@jupyter-widgets/base",
            "_view_module_version": "1.2.0",
            "_view_name": "LayoutView",
            "align_content": null,
            "align_items": null,
            "align_self": null,
            "border": null,
            "bottom": null,
            "display": null,
            "flex": null,
            "flex_flow": null,
            "grid_area": null,
            "grid_auto_columns": null,
            "grid_auto_flow": null,
            "grid_auto_rows": null,
            "grid_column": null,
            "grid_gap": null,
            "grid_row": null,
            "grid_template_areas": null,
            "grid_template_columns": null,
            "grid_template_rows": null,
            "height": null,
            "justify_content": null,
            "justify_items": null,
            "left": null,
            "margin": null,
            "max_height": null,
            "max_width": null,
            "min_height": null,
            "min_width": null,
            "object_fit": null,
            "object_position": null,
            "order": null,
            "overflow": null,
            "overflow_x": null,
            "overflow_y": null,
            "padding": null,
            "right": null,
            "top": null,
            "visibility": null,
            "width": null
          }
        },
        "e21a024b53964336a94cb38c98242e68": {
          "model_module": "@jupyter-widgets/controls",
          "model_name": "DescriptionStyleModel",
          "model_module_version": "1.5.0",
          "state": {
            "_model_module": "@jupyter-widgets/controls",
            "_model_module_version": "1.5.0",
            "_model_name": "DescriptionStyleModel",
            "_view_count": null,
            "_view_module": "@jupyter-widgets/base",
            "_view_module_version": "1.2.0",
            "_view_name": "StyleView",
            "description_width": ""
          }
        },
        "754351b11bcc4b28b917042aa9f5969b": {
          "model_module": "@jupyter-widgets/controls",
          "model_name": "HBoxModel",
          "model_module_version": "1.5.0",
          "state": {
            "_dom_classes": [],
            "_model_module": "@jupyter-widgets/controls",
            "_model_module_version": "1.5.0",
            "_model_name": "HBoxModel",
            "_view_count": null,
            "_view_module": "@jupyter-widgets/controls",
            "_view_module_version": "1.5.0",
            "_view_name": "HBoxView",
            "box_style": "",
            "children": [
              "IPY_MODEL_7a95df969ed140f894af0e13acd7d874",
              "IPY_MODEL_417be74fa90f4780af34d4b08909497f",
              "IPY_MODEL_4e909a4b11ea489b9330fcf9aa666988"
            ],
            "layout": "IPY_MODEL_9f7b444662b042d1a735d2a3dd46998d"
          }
        },
        "7a95df969ed140f894af0e13acd7d874": {
          "model_module": "@jupyter-widgets/controls",
          "model_name": "HTMLModel",
          "model_module_version": "1.5.0",
          "state": {
            "_dom_classes": [],
            "_model_module": "@jupyter-widgets/controls",
            "_model_module_version": "1.5.0",
            "_model_name": "HTMLModel",
            "_view_count": null,
            "_view_module": "@jupyter-widgets/controls",
            "_view_module_version": "1.5.0",
            "_view_name": "HTMLView",
            "description": "",
            "description_tooltip": null,
            "layout": "IPY_MODEL_1f07ffca67374683a63b5a891c730abc",
            "placeholder": "​",
            "style": "IPY_MODEL_4afc3334d6b84a289f67391ca8bb872e",
            "value": "Map: 100%"
          }
        },
        "417be74fa90f4780af34d4b08909497f": {
          "model_module": "@jupyter-widgets/controls",
          "model_name": "FloatProgressModel",
          "model_module_version": "1.5.0",
          "state": {
            "_dom_classes": [],
            "_model_module": "@jupyter-widgets/controls",
            "_model_module_version": "1.5.0",
            "_model_name": "FloatProgressModel",
            "_view_count": null,
            "_view_module": "@jupyter-widgets/controls",
            "_view_module_version": "1.5.0",
            "_view_name": "ProgressView",
            "bar_style": "success",
            "description": "",
            "description_tooltip": null,
            "layout": "IPY_MODEL_5cfd30c1be2145bc9c5cc3d7af21cb21",
            "max": 800,
            "min": 0,
            "orientation": "horizontal",
            "style": "IPY_MODEL_6350b50876634ee3b04ab45af15a5dc6",
            "value": 800
          }
        },
        "4e909a4b11ea489b9330fcf9aa666988": {
          "model_module": "@jupyter-widgets/controls",
          "model_name": "HTMLModel",
          "model_module_version": "1.5.0",
          "state": {
            "_dom_classes": [],
            "_model_module": "@jupyter-widgets/controls",
            "_model_module_version": "1.5.0",
            "_model_name": "HTMLModel",
            "_view_count": null,
            "_view_module": "@jupyter-widgets/controls",
            "_view_module_version": "1.5.0",
            "_view_name": "HTMLView",
            "description": "",
            "description_tooltip": null,
            "layout": "IPY_MODEL_00d7b219e2574dfaacf9028d950f80c9",
            "placeholder": "​",
            "style": "IPY_MODEL_3d1f3b4a200b42a387a87429d934afc1",
            "value": " 800/800 [00:00&lt;00:00, 1418.95 examples/s]"
          }
        },
        "9f7b444662b042d1a735d2a3dd46998d": {
          "model_module": "@jupyter-widgets/base",
          "model_name": "LayoutModel",
          "model_module_version": "1.2.0",
          "state": {
            "_model_module": "@jupyter-widgets/base",
            "_model_module_version": "1.2.0",
            "_model_name": "LayoutModel",
            "_view_count": null,
            "_view_module": "@jupyter-widgets/base",
            "_view_module_version": "1.2.0",
            "_view_name": "LayoutView",
            "align_content": null,
            "align_items": null,
            "align_self": null,
            "border": null,
            "bottom": null,
            "display": null,
            "flex": null,
            "flex_flow": null,
            "grid_area": null,
            "grid_auto_columns": null,
            "grid_auto_flow": null,
            "grid_auto_rows": null,
            "grid_column": null,
            "grid_gap": null,
            "grid_row": null,
            "grid_template_areas": null,
            "grid_template_columns": null,
            "grid_template_rows": null,
            "height": null,
            "justify_content": null,
            "justify_items": null,
            "left": null,
            "margin": null,
            "max_height": null,
            "max_width": null,
            "min_height": null,
            "min_width": null,
            "object_fit": null,
            "object_position": null,
            "order": null,
            "overflow": null,
            "overflow_x": null,
            "overflow_y": null,
            "padding": null,
            "right": null,
            "top": null,
            "visibility": null,
            "width": null
          }
        },
        "1f07ffca67374683a63b5a891c730abc": {
          "model_module": "@jupyter-widgets/base",
          "model_name": "LayoutModel",
          "model_module_version": "1.2.0",
          "state": {
            "_model_module": "@jupyter-widgets/base",
            "_model_module_version": "1.2.0",
            "_model_name": "LayoutModel",
            "_view_count": null,
            "_view_module": "@jupyter-widgets/base",
            "_view_module_version": "1.2.0",
            "_view_name": "LayoutView",
            "align_content": null,
            "align_items": null,
            "align_self": null,
            "border": null,
            "bottom": null,
            "display": null,
            "flex": null,
            "flex_flow": null,
            "grid_area": null,
            "grid_auto_columns": null,
            "grid_auto_flow": null,
            "grid_auto_rows": null,
            "grid_column": null,
            "grid_gap": null,
            "grid_row": null,
            "grid_template_areas": null,
            "grid_template_columns": null,
            "grid_template_rows": null,
            "height": null,
            "justify_content": null,
            "justify_items": null,
            "left": null,
            "margin": null,
            "max_height": null,
            "max_width": null,
            "min_height": null,
            "min_width": null,
            "object_fit": null,
            "object_position": null,
            "order": null,
            "overflow": null,
            "overflow_x": null,
            "overflow_y": null,
            "padding": null,
            "right": null,
            "top": null,
            "visibility": null,
            "width": null
          }
        },
        "4afc3334d6b84a289f67391ca8bb872e": {
          "model_module": "@jupyter-widgets/controls",
          "model_name": "DescriptionStyleModel",
          "model_module_version": "1.5.0",
          "state": {
            "_model_module": "@jupyter-widgets/controls",
            "_model_module_version": "1.5.0",
            "_model_name": "DescriptionStyleModel",
            "_view_count": null,
            "_view_module": "@jupyter-widgets/base",
            "_view_module_version": "1.2.0",
            "_view_name": "StyleView",
            "description_width": ""
          }
        },
        "5cfd30c1be2145bc9c5cc3d7af21cb21": {
          "model_module": "@jupyter-widgets/base",
          "model_name": "LayoutModel",
          "model_module_version": "1.2.0",
          "state": {
            "_model_module": "@jupyter-widgets/base",
            "_model_module_version": "1.2.0",
            "_model_name": "LayoutModel",
            "_view_count": null,
            "_view_module": "@jupyter-widgets/base",
            "_view_module_version": "1.2.0",
            "_view_name": "LayoutView",
            "align_content": null,
            "align_items": null,
            "align_self": null,
            "border": null,
            "bottom": null,
            "display": null,
            "flex": null,
            "flex_flow": null,
            "grid_area": null,
            "grid_auto_columns": null,
            "grid_auto_flow": null,
            "grid_auto_rows": null,
            "grid_column": null,
            "grid_gap": null,
            "grid_row": null,
            "grid_template_areas": null,
            "grid_template_columns": null,
            "grid_template_rows": null,
            "height": null,
            "justify_content": null,
            "justify_items": null,
            "left": null,
            "margin": null,
            "max_height": null,
            "max_width": null,
            "min_height": null,
            "min_width": null,
            "object_fit": null,
            "object_position": null,
            "order": null,
            "overflow": null,
            "overflow_x": null,
            "overflow_y": null,
            "padding": null,
            "right": null,
            "top": null,
            "visibility": null,
            "width": null
          }
        },
        "6350b50876634ee3b04ab45af15a5dc6": {
          "model_module": "@jupyter-widgets/controls",
          "model_name": "ProgressStyleModel",
          "model_module_version": "1.5.0",
          "state": {
            "_model_module": "@jupyter-widgets/controls",
            "_model_module_version": "1.5.0",
            "_model_name": "ProgressStyleModel",
            "_view_count": null,
            "_view_module": "@jupyter-widgets/base",
            "_view_module_version": "1.2.0",
            "_view_name": "StyleView",
            "bar_color": null,
            "description_width": ""
          }
        },
        "00d7b219e2574dfaacf9028d950f80c9": {
          "model_module": "@jupyter-widgets/base",
          "model_name": "LayoutModel",
          "model_module_version": "1.2.0",
          "state": {
            "_model_module": "@jupyter-widgets/base",
            "_model_module_version": "1.2.0",
            "_model_name": "LayoutModel",
            "_view_count": null,
            "_view_module": "@jupyter-widgets/base",
            "_view_module_version": "1.2.0",
            "_view_name": "LayoutView",
            "align_content": null,
            "align_items": null,
            "align_self": null,
            "border": null,
            "bottom": null,
            "display": null,
            "flex": null,
            "flex_flow": null,
            "grid_area": null,
            "grid_auto_columns": null,
            "grid_auto_flow": null,
            "grid_auto_rows": null,
            "grid_column": null,
            "grid_gap": null,
            "grid_row": null,
            "grid_template_areas": null,
            "grid_template_columns": null,
            "grid_template_rows": null,
            "height": null,
            "justify_content": null,
            "justify_items": null,
            "left": null,
            "margin": null,
            "max_height": null,
            "max_width": null,
            "min_height": null,
            "min_width": null,
            "object_fit": null,
            "object_position": null,
            "order": null,
            "overflow": null,
            "overflow_x": null,
            "overflow_y": null,
            "padding": null,
            "right": null,
            "top": null,
            "visibility": null,
            "width": null
          }
        },
        "3d1f3b4a200b42a387a87429d934afc1": {
          "model_module": "@jupyter-widgets/controls",
          "model_name": "DescriptionStyleModel",
          "model_module_version": "1.5.0",
          "state": {
            "_model_module": "@jupyter-widgets/controls",
            "_model_module_version": "1.5.0",
            "_model_name": "DescriptionStyleModel",
            "_view_count": null,
            "_view_module": "@jupyter-widgets/base",
            "_view_module_version": "1.2.0",
            "_view_name": "StyleView",
            "description_width": ""
          }
        },
        "3b221649de004c70bfc9a711a61ffd8c": {
          "model_module": "@jupyter-widgets/controls",
          "model_name": "HBoxModel",
          "model_module_version": "1.5.0",
          "state": {
            "_dom_classes": [],
            "_model_module": "@jupyter-widgets/controls",
            "_model_module_version": "1.5.0",
            "_model_name": "HBoxModel",
            "_view_count": null,
            "_view_module": "@jupyter-widgets/controls",
            "_view_module_version": "1.5.0",
            "_view_name": "HBoxView",
            "box_style": "",
            "children": [
              "IPY_MODEL_9e0642f06b8a472eb9c7e43b62fff76e",
              "IPY_MODEL_bfb5a9010b534fe994fe21fc39a0b643",
              "IPY_MODEL_91cec0c08b2c4571977ec9b9baf126f0"
            ],
            "layout": "IPY_MODEL_21acc244d0e94516980086d5a1069f50"
          }
        },
        "9e0642f06b8a472eb9c7e43b62fff76e": {
          "model_module": "@jupyter-widgets/controls",
          "model_name": "HTMLModel",
          "model_module_version": "1.5.0",
          "state": {
            "_dom_classes": [],
            "_model_module": "@jupyter-widgets/controls",
            "_model_module_version": "1.5.0",
            "_model_name": "HTMLModel",
            "_view_count": null,
            "_view_module": "@jupyter-widgets/controls",
            "_view_module_version": "1.5.0",
            "_view_name": "HTMLView",
            "description": "",
            "description_tooltip": null,
            "layout": "IPY_MODEL_44e955e04e1f45a5bf0ee75ff8e9ee6b",
            "placeholder": "​",
            "style": "IPY_MODEL_d6c821cd32224e47813f66d58c512e24",
            "value": "Map: 100%"
          }
        },
        "bfb5a9010b534fe994fe21fc39a0b643": {
          "model_module": "@jupyter-widgets/controls",
          "model_name": "FloatProgressModel",
          "model_module_version": "1.5.0",
          "state": {
            "_dom_classes": [],
            "_model_module": "@jupyter-widgets/controls",
            "_model_module_version": "1.5.0",
            "_model_name": "FloatProgressModel",
            "_view_count": null,
            "_view_module": "@jupyter-widgets/controls",
            "_view_module_version": "1.5.0",
            "_view_name": "ProgressView",
            "bar_style": "success",
            "description": "",
            "description_tooltip": null,
            "layout": "IPY_MODEL_d35803bc38ce43f3ba0c6cc67c1bff24",
            "max": 100,
            "min": 0,
            "orientation": "horizontal",
            "style": "IPY_MODEL_940402519ed642f88b315d92b59c07fc",
            "value": 100
          }
        },
        "91cec0c08b2c4571977ec9b9baf126f0": {
          "model_module": "@jupyter-widgets/controls",
          "model_name": "HTMLModel",
          "model_module_version": "1.5.0",
          "state": {
            "_dom_classes": [],
            "_model_module": "@jupyter-widgets/controls",
            "_model_module_version": "1.5.0",
            "_model_name": "HTMLModel",
            "_view_count": null,
            "_view_module": "@jupyter-widgets/controls",
            "_view_module_version": "1.5.0",
            "_view_name": "HTMLView",
            "description": "",
            "description_tooltip": null,
            "layout": "IPY_MODEL_3191213d14b34aae9ae5454102983dd3",
            "placeholder": "​",
            "style": "IPY_MODEL_6a622522fd59477095bd25cd31b4e3a9",
            "value": " 100/100 [00:00&lt;00:00, 1033.47 examples/s]"
          }
        },
        "21acc244d0e94516980086d5a1069f50": {
          "model_module": "@jupyter-widgets/base",
          "model_name": "LayoutModel",
          "model_module_version": "1.2.0",
          "state": {
            "_model_module": "@jupyter-widgets/base",
            "_model_module_version": "1.2.0",
            "_model_name": "LayoutModel",
            "_view_count": null,
            "_view_module": "@jupyter-widgets/base",
            "_view_module_version": "1.2.0",
            "_view_name": "LayoutView",
            "align_content": null,
            "align_items": null,
            "align_self": null,
            "border": null,
            "bottom": null,
            "display": null,
            "flex": null,
            "flex_flow": null,
            "grid_area": null,
            "grid_auto_columns": null,
            "grid_auto_flow": null,
            "grid_auto_rows": null,
            "grid_column": null,
            "grid_gap": null,
            "grid_row": null,
            "grid_template_areas": null,
            "grid_template_columns": null,
            "grid_template_rows": null,
            "height": null,
            "justify_content": null,
            "justify_items": null,
            "left": null,
            "margin": null,
            "max_height": null,
            "max_width": null,
            "min_height": null,
            "min_width": null,
            "object_fit": null,
            "object_position": null,
            "order": null,
            "overflow": null,
            "overflow_x": null,
            "overflow_y": null,
            "padding": null,
            "right": null,
            "top": null,
            "visibility": null,
            "width": null
          }
        },
        "44e955e04e1f45a5bf0ee75ff8e9ee6b": {
          "model_module": "@jupyter-widgets/base",
          "model_name": "LayoutModel",
          "model_module_version": "1.2.0",
          "state": {
            "_model_module": "@jupyter-widgets/base",
            "_model_module_version": "1.2.0",
            "_model_name": "LayoutModel",
            "_view_count": null,
            "_view_module": "@jupyter-widgets/base",
            "_view_module_version": "1.2.0",
            "_view_name": "LayoutView",
            "align_content": null,
            "align_items": null,
            "align_self": null,
            "border": null,
            "bottom": null,
            "display": null,
            "flex": null,
            "flex_flow": null,
            "grid_area": null,
            "grid_auto_columns": null,
            "grid_auto_flow": null,
            "grid_auto_rows": null,
            "grid_column": null,
            "grid_gap": null,
            "grid_row": null,
            "grid_template_areas": null,
            "grid_template_columns": null,
            "grid_template_rows": null,
            "height": null,
            "justify_content": null,
            "justify_items": null,
            "left": null,
            "margin": null,
            "max_height": null,
            "max_width": null,
            "min_height": null,
            "min_width": null,
            "object_fit": null,
            "object_position": null,
            "order": null,
            "overflow": null,
            "overflow_x": null,
            "overflow_y": null,
            "padding": null,
            "right": null,
            "top": null,
            "visibility": null,
            "width": null
          }
        },
        "d6c821cd32224e47813f66d58c512e24": {
          "model_module": "@jupyter-widgets/controls",
          "model_name": "DescriptionStyleModel",
          "model_module_version": "1.5.0",
          "state": {
            "_model_module": "@jupyter-widgets/controls",
            "_model_module_version": "1.5.0",
            "_model_name": "DescriptionStyleModel",
            "_view_count": null,
            "_view_module": "@jupyter-widgets/base",
            "_view_module_version": "1.2.0",
            "_view_name": "StyleView",
            "description_width": ""
          }
        },
        "d35803bc38ce43f3ba0c6cc67c1bff24": {
          "model_module": "@jupyter-widgets/base",
          "model_name": "LayoutModel",
          "model_module_version": "1.2.0",
          "state": {
            "_model_module": "@jupyter-widgets/base",
            "_model_module_version": "1.2.0",
            "_model_name": "LayoutModel",
            "_view_count": null,
            "_view_module": "@jupyter-widgets/base",
            "_view_module_version": "1.2.0",
            "_view_name": "LayoutView",
            "align_content": null,
            "align_items": null,
            "align_self": null,
            "border": null,
            "bottom": null,
            "display": null,
            "flex": null,
            "flex_flow": null,
            "grid_area": null,
            "grid_auto_columns": null,
            "grid_auto_flow": null,
            "grid_auto_rows": null,
            "grid_column": null,
            "grid_gap": null,
            "grid_row": null,
            "grid_template_areas": null,
            "grid_template_columns": null,
            "grid_template_rows": null,
            "height": null,
            "justify_content": null,
            "justify_items": null,
            "left": null,
            "margin": null,
            "max_height": null,
            "max_width": null,
            "min_height": null,
            "min_width": null,
            "object_fit": null,
            "object_position": null,
            "order": null,
            "overflow": null,
            "overflow_x": null,
            "overflow_y": null,
            "padding": null,
            "right": null,
            "top": null,
            "visibility": null,
            "width": null
          }
        },
        "940402519ed642f88b315d92b59c07fc": {
          "model_module": "@jupyter-widgets/controls",
          "model_name": "ProgressStyleModel",
          "model_module_version": "1.5.0",
          "state": {
            "_model_module": "@jupyter-widgets/controls",
            "_model_module_version": "1.5.0",
            "_model_name": "ProgressStyleModel",
            "_view_count": null,
            "_view_module": "@jupyter-widgets/base",
            "_view_module_version": "1.2.0",
            "_view_name": "StyleView",
            "bar_color": null,
            "description_width": ""
          }
        },
        "3191213d14b34aae9ae5454102983dd3": {
          "model_module": "@jupyter-widgets/base",
          "model_name": "LayoutModel",
          "model_module_version": "1.2.0",
          "state": {
            "_model_module": "@jupyter-widgets/base",
            "_model_module_version": "1.2.0",
            "_model_name": "LayoutModel",
            "_view_count": null,
            "_view_module": "@jupyter-widgets/base",
            "_view_module_version": "1.2.0",
            "_view_name": "LayoutView",
            "align_content": null,
            "align_items": null,
            "align_self": null,
            "border": null,
            "bottom": null,
            "display": null,
            "flex": null,
            "flex_flow": null,
            "grid_area": null,
            "grid_auto_columns": null,
            "grid_auto_flow": null,
            "grid_auto_rows": null,
            "grid_column": null,
            "grid_gap": null,
            "grid_row": null,
            "grid_template_areas": null,
            "grid_template_columns": null,
            "grid_template_rows": null,
            "height": null,
            "justify_content": null,
            "justify_items": null,
            "left": null,
            "margin": null,
            "max_height": null,
            "max_width": null,
            "min_height": null,
            "min_width": null,
            "object_fit": null,
            "object_position": null,
            "order": null,
            "overflow": null,
            "overflow_x": null,
            "overflow_y": null,
            "padding": null,
            "right": null,
            "top": null,
            "visibility": null,
            "width": null
          }
        },
        "6a622522fd59477095bd25cd31b4e3a9": {
          "model_module": "@jupyter-widgets/controls",
          "model_name": "DescriptionStyleModel",
          "model_module_version": "1.5.0",
          "state": {
            "_model_module": "@jupyter-widgets/controls",
            "_model_module_version": "1.5.0",
            "_model_name": "DescriptionStyleModel",
            "_view_count": null,
            "_view_module": "@jupyter-widgets/base",
            "_view_module_version": "1.2.0",
            "_view_name": "StyleView",
            "description_width": ""
          }
        },
        "a2fbec83fcda4c3696b66107afe986b2": {
          "model_module": "@jupyter-widgets/controls",
          "model_name": "HBoxModel",
          "model_module_version": "1.5.0",
          "state": {
            "_dom_classes": [],
            "_model_module": "@jupyter-widgets/controls",
            "_model_module_version": "1.5.0",
            "_model_name": "HBoxModel",
            "_view_count": null,
            "_view_module": "@jupyter-widgets/controls",
            "_view_module_version": "1.5.0",
            "_view_name": "HBoxView",
            "box_style": "",
            "children": [
              "IPY_MODEL_9c7d75a79cbf4d8680ff02a5af012278",
              "IPY_MODEL_62ef3f75d8a94ed5b0822941cb35ff50",
              "IPY_MODEL_9f829234185945079e07f29155284157"
            ],
            "layout": "IPY_MODEL_c2c06d6953044e27a646fdcf258f47cd"
          }
        },
        "9c7d75a79cbf4d8680ff02a5af012278": {
          "model_module": "@jupyter-widgets/controls",
          "model_name": "HTMLModel",
          "model_module_version": "1.5.0",
          "state": {
            "_dom_classes": [],
            "_model_module": "@jupyter-widgets/controls",
            "_model_module_version": "1.5.0",
            "_model_name": "HTMLModel",
            "_view_count": null,
            "_view_module": "@jupyter-widgets/controls",
            "_view_module_version": "1.5.0",
            "_view_name": "HTMLView",
            "description": "",
            "description_tooltip": null,
            "layout": "IPY_MODEL_00a7e14827c84cb781e6da7308cb4e7c",
            "placeholder": "​",
            "style": "IPY_MODEL_2c5ee3059d6c472797ea12f6607c61f2",
            "value": "Map: 100%"
          }
        },
        "62ef3f75d8a94ed5b0822941cb35ff50": {
          "model_module": "@jupyter-widgets/controls",
          "model_name": "FloatProgressModel",
          "model_module_version": "1.5.0",
          "state": {
            "_dom_classes": [],
            "_model_module": "@jupyter-widgets/controls",
            "_model_module_version": "1.5.0",
            "_model_name": "FloatProgressModel",
            "_view_count": null,
            "_view_module": "@jupyter-widgets/controls",
            "_view_module_version": "1.5.0",
            "_view_name": "ProgressView",
            "bar_style": "success",
            "description": "",
            "description_tooltip": null,
            "layout": "IPY_MODEL_dd0fe694f3da4ad5a1176413e5d2f4de",
            "max": 127,
            "min": 0,
            "orientation": "horizontal",
            "style": "IPY_MODEL_1cdc33afbba3492e8f79353339fdc469",
            "value": 127
          }
        },
        "9f829234185945079e07f29155284157": {
          "model_module": "@jupyter-widgets/controls",
          "model_name": "HTMLModel",
          "model_module_version": "1.5.0",
          "state": {
            "_dom_classes": [],
            "_model_module": "@jupyter-widgets/controls",
            "_model_module_version": "1.5.0",
            "_model_name": "HTMLModel",
            "_view_count": null,
            "_view_module": "@jupyter-widgets/controls",
            "_view_module_version": "1.5.0",
            "_view_name": "HTMLView",
            "description": "",
            "description_tooltip": null,
            "layout": "IPY_MODEL_e9ec410c17a44c20a9f5831087d7adbf",
            "placeholder": "​",
            "style": "IPY_MODEL_242fab4ff20e4be88871a49b894b4854",
            "value": " 127/127 [00:00&lt;00:00, 1505.29 examples/s]"
          }
        },
        "c2c06d6953044e27a646fdcf258f47cd": {
          "model_module": "@jupyter-widgets/base",
          "model_name": "LayoutModel",
          "model_module_version": "1.2.0",
          "state": {
            "_model_module": "@jupyter-widgets/base",
            "_model_module_version": "1.2.0",
            "_model_name": "LayoutModel",
            "_view_count": null,
            "_view_module": "@jupyter-widgets/base",
            "_view_module_version": "1.2.0",
            "_view_name": "LayoutView",
            "align_content": null,
            "align_items": null,
            "align_self": null,
            "border": null,
            "bottom": null,
            "display": null,
            "flex": null,
            "flex_flow": null,
            "grid_area": null,
            "grid_auto_columns": null,
            "grid_auto_flow": null,
            "grid_auto_rows": null,
            "grid_column": null,
            "grid_gap": null,
            "grid_row": null,
            "grid_template_areas": null,
            "grid_template_columns": null,
            "grid_template_rows": null,
            "height": null,
            "justify_content": null,
            "justify_items": null,
            "left": null,
            "margin": null,
            "max_height": null,
            "max_width": null,
            "min_height": null,
            "min_width": null,
            "object_fit": null,
            "object_position": null,
            "order": null,
            "overflow": null,
            "overflow_x": null,
            "overflow_y": null,
            "padding": null,
            "right": null,
            "top": null,
            "visibility": null,
            "width": null
          }
        },
        "00a7e14827c84cb781e6da7308cb4e7c": {
          "model_module": "@jupyter-widgets/base",
          "model_name": "LayoutModel",
          "model_module_version": "1.2.0",
          "state": {
            "_model_module": "@jupyter-widgets/base",
            "_model_module_version": "1.2.0",
            "_model_name": "LayoutModel",
            "_view_count": null,
            "_view_module": "@jupyter-widgets/base",
            "_view_module_version": "1.2.0",
            "_view_name": "LayoutView",
            "align_content": null,
            "align_items": null,
            "align_self": null,
            "border": null,
            "bottom": null,
            "display": null,
            "flex": null,
            "flex_flow": null,
            "grid_area": null,
            "grid_auto_columns": null,
            "grid_auto_flow": null,
            "grid_auto_rows": null,
            "grid_column": null,
            "grid_gap": null,
            "grid_row": null,
            "grid_template_areas": null,
            "grid_template_columns": null,
            "grid_template_rows": null,
            "height": null,
            "justify_content": null,
            "justify_items": null,
            "left": null,
            "margin": null,
            "max_height": null,
            "max_width": null,
            "min_height": null,
            "min_width": null,
            "object_fit": null,
            "object_position": null,
            "order": null,
            "overflow": null,
            "overflow_x": null,
            "overflow_y": null,
            "padding": null,
            "right": null,
            "top": null,
            "visibility": null,
            "width": null
          }
        },
        "2c5ee3059d6c472797ea12f6607c61f2": {
          "model_module": "@jupyter-widgets/controls",
          "model_name": "DescriptionStyleModel",
          "model_module_version": "1.5.0",
          "state": {
            "_model_module": "@jupyter-widgets/controls",
            "_model_module_version": "1.5.0",
            "_model_name": "DescriptionStyleModel",
            "_view_count": null,
            "_view_module": "@jupyter-widgets/base",
            "_view_module_version": "1.2.0",
            "_view_name": "StyleView",
            "description_width": ""
          }
        },
        "dd0fe694f3da4ad5a1176413e5d2f4de": {
          "model_module": "@jupyter-widgets/base",
          "model_name": "LayoutModel",
          "model_module_version": "1.2.0",
          "state": {
            "_model_module": "@jupyter-widgets/base",
            "_model_module_version": "1.2.0",
            "_model_name": "LayoutModel",
            "_view_count": null,
            "_view_module": "@jupyter-widgets/base",
            "_view_module_version": "1.2.0",
            "_view_name": "LayoutView",
            "align_content": null,
            "align_items": null,
            "align_self": null,
            "border": null,
            "bottom": null,
            "display": null,
            "flex": null,
            "flex_flow": null,
            "grid_area": null,
            "grid_auto_columns": null,
            "grid_auto_flow": null,
            "grid_auto_rows": null,
            "grid_column": null,
            "grid_gap": null,
            "grid_row": null,
            "grid_template_areas": null,
            "grid_template_columns": null,
            "grid_template_rows": null,
            "height": null,
            "justify_content": null,
            "justify_items": null,
            "left": null,
            "margin": null,
            "max_height": null,
            "max_width": null,
            "min_height": null,
            "min_width": null,
            "object_fit": null,
            "object_position": null,
            "order": null,
            "overflow": null,
            "overflow_x": null,
            "overflow_y": null,
            "padding": null,
            "right": null,
            "top": null,
            "visibility": null,
            "width": null
          }
        },
        "1cdc33afbba3492e8f79353339fdc469": {
          "model_module": "@jupyter-widgets/controls",
          "model_name": "ProgressStyleModel",
          "model_module_version": "1.5.0",
          "state": {
            "_model_module": "@jupyter-widgets/controls",
            "_model_module_version": "1.5.0",
            "_model_name": "ProgressStyleModel",
            "_view_count": null,
            "_view_module": "@jupyter-widgets/base",
            "_view_module_version": "1.2.0",
            "_view_name": "StyleView",
            "bar_color": null,
            "description_width": ""
          }
        },
        "e9ec410c17a44c20a9f5831087d7adbf": {
          "model_module": "@jupyter-widgets/base",
          "model_name": "LayoutModel",
          "model_module_version": "1.2.0",
          "state": {
            "_model_module": "@jupyter-widgets/base",
            "_model_module_version": "1.2.0",
            "_model_name": "LayoutModel",
            "_view_count": null,
            "_view_module": "@jupyter-widgets/base",
            "_view_module_version": "1.2.0",
            "_view_name": "LayoutView",
            "align_content": null,
            "align_items": null,
            "align_self": null,
            "border": null,
            "bottom": null,
            "display": null,
            "flex": null,
            "flex_flow": null,
            "grid_area": null,
            "grid_auto_columns": null,
            "grid_auto_flow": null,
            "grid_auto_rows": null,
            "grid_column": null,
            "grid_gap": null,
            "grid_row": null,
            "grid_template_areas": null,
            "grid_template_columns": null,
            "grid_template_rows": null,
            "height": null,
            "justify_content": null,
            "justify_items": null,
            "left": null,
            "margin": null,
            "max_height": null,
            "max_width": null,
            "min_height": null,
            "min_width": null,
            "object_fit": null,
            "object_position": null,
            "order": null,
            "overflow": null,
            "overflow_x": null,
            "overflow_y": null,
            "padding": null,
            "right": null,
            "top": null,
            "visibility": null,
            "width": null
          }
        },
        "242fab4ff20e4be88871a49b894b4854": {
          "model_module": "@jupyter-widgets/controls",
          "model_name": "DescriptionStyleModel",
          "model_module_version": "1.5.0",
          "state": {
            "_model_module": "@jupyter-widgets/controls",
            "_model_module_version": "1.5.0",
            "_model_name": "DescriptionStyleModel",
            "_view_count": null,
            "_view_module": "@jupyter-widgets/base",
            "_view_module_version": "1.2.0",
            "_view_name": "StyleView",
            "description_width": ""
          }
        }
      }
    },
    "accelerator": "GPU"
  },
  "cells": [
    {
      "cell_type": "markdown",
      "source": [
        "## **Qwen 1.5-0.5B**"
      ],
      "metadata": {
        "id": "YWnWdWhmp2-d"
      }
    },
    {
      "cell_type": "code",
      "source": [
        "%%capture\n",
        "!pip install datasets==2.21.0 transformers peft torch rouge-score nltk"
      ],
      "metadata": {
        "id": "mEJXRbrGx_Dz"
      },
      "execution_count": null,
      "outputs": []
    },
    {
      "cell_type": "code",
      "source": [
        "%%capture\n",
        "!pip install accelerate -U"
      ],
      "metadata": {
        "id": "U86w4o2Xx_SV"
      },
      "execution_count": null,
      "outputs": []
    },
    {
      "cell_type": "code",
      "execution_count": null,
      "metadata": {
        "id": "fRnKRtdMqbNW"
      },
      "outputs": [],
      "source": [
        "%%capture\n",
        "#Loads transformers, torch and huggingface_hub\n",
        "!pip install transformers torch huggingface_hub\n",
        "\n",
        "#AutoModelForCausalLM - Creates models for causal language modeling tasks\n",
        "#AutoTokenizer - To tokenize text data for the model\n",
        "from transformers import AutoModelForCausalLM, AutoTokenizer\n",
        "\n",
        "#Transformers_stream_generator - text generation method which returns a generator,\n",
        "# #streaming out each token in real-time during inference, based on\n",
        "# Huggingface/Transformers Einops (Einstein Operations) - library for tensor manipulations\n",
        "!pip install transformers_stream_generator einops\n",
        "\n",
        "#BPE tokeniser for use with OpenAI's models (Byte Pair Encoding - is a compression technique). It splits text into tokens.\n",
        "!pip install tiktoken\n"
      ]
    },
    {
      "cell_type": "code",
      "source": [
        "import transformers\n",
        "from datasets import load_dataset, load_metric, Dataset,DatasetDict"
      ],
      "metadata": {
        "id": "fNxKimQayMaZ"
      },
      "execution_count": null,
      "outputs": []
    },
    {
      "cell_type": "markdown",
      "source": [
        "# **Define Model**"
      ],
      "metadata": {
        "id": "Z6PcXfcIqBRa"
      }
    },
    {
      "cell_type": "code",
      "source": [
        "##Qwen2.0 model with - 0.5 billion parameters; Hosted on - Hugging Face model hub\n",
        "#sModelName = \"Qwen/Qwen2-0.5B\"  ## Crashed- \"Qwen1.5-7B-Chat\" & \"Qwen/Qwen2-75B\" Crashed\n",
        "\n",
        "model_name =\"Qwen/Qwen1.5-0.5B\"  ## \"Qwen/Qwen-1.5-32B\" #\"Qwen/Qwen-0.5B\""
      ],
      "metadata": {
        "id": "LMLD4_N5TwjD"
      },
      "execution_count": null,
      "outputs": []
    },
    {
      "cell_type": "code",
      "source": [
        "#Initialize Tokenizer & Model\n",
        "\n",
        "#Load the tokenizer\n",
        "#trust_remote_code - Allows execution of code from the tokenizer files\n",
        "bTrust_remote_code = True\n",
        "tokenizer = AutoTokenizer.from_pretrained(model_name, trust_remote_code=bTrust_remote_code)\n",
        "#tokenizer = AutoTokenizer.from_pretrained(model_name)\n",
        "model = AutoModelForCausalLM.from_pretrained(model_name)\n",
        "\n",
        "tokenizer.pad_token = tokenizer.eos_token #End of sentence\n"
      ],
      "metadata": {
        "colab": {
          "base_uri": "https://localhost:8080/",
          "height": 241,
          "referenced_widgets": [
            "d712d623b46540878859e77f455bbb4f",
            "ee8e27877a254ee28e769d6287b402f3",
            "2befa62d052a422ea754798ffe6ca826",
            "ebffc3f598074ed199aa53892816b55d",
            "ffd7947debdf441282f36b682635debb",
            "cb01e3463660450583337791668ea4c9",
            "cbf9d7a794c743279e2e8aa9a1ec48b2",
            "1ef05e4d72b346e2abebd1df32a9fb73",
            "95e4a53ff8634aebaf986a5f7d7c7f9c",
            "a1dcae12c7f0417496217da5f08128ea",
            "08723afa2296468d9eac41461383cf29",
            "615038f7945146b58b92c61a7bcdae93",
            "353f4da3b019452bb65d44e3c1496b9d",
            "461e7e7bb9ab4f319ab9e61452a88a76",
            "8ed588694a6d453794aaa965edc2efab",
            "90efd0c68b294987b3381d4855c4a9ad",
            "9d8947fe126b4784b7eb7ae97d8e75b2",
            "874126828c3940328a7f181712d30f34",
            "5898e8c097404793a73d8b9081c12a7d",
            "5e58ae4b59684f25bf2224f79e8a10a9",
            "793b535f03a14c13b4ea2548737ada49",
            "24c82e4f9b23429a8449703e752fbc7d",
            "8e8d187a77f84405a8c99a5f787e0cc8",
            "6e9482cf57f14f58afa10837aeb7cf13",
            "3b25de9f6b8f47689b20ef3ab59cf169",
            "71b08d46ffe0425a845051b242e5fd00",
            "c18bbe1e03ee467892522147ece9db1e",
            "6ba51bddd6ab43aa983d90bbbd6f033e",
            "b0e516efdaad4d1b99586288182c7113",
            "ba1978ddc5cf4c3ca2574ec51086453d",
            "bf639b92839042b39a68c7bd9304da7a",
            "8461199acbb7432fb0e457597f0d8cb5",
            "1c8e3a4c474f4c3ea785d71608177e0e",
            "893f52a880394f858005a8d5b1d92708",
            "da05e7dc2f33484fb2c4f4e8774ce94d",
            "a19aabf0ad164802b43d63ca7cdfcda7",
            "148b8dcd509b4ad5bad97d1d15b9a459",
            "a9a471185d064ae8af9f10913f2c99ca",
            "3a647116daec42a7a4de57a438175d10",
            "6566ac5d23a443388edf952a5f62de75",
            "9a23723240104ab3a1992876b9203d22",
            "a7eb1eab9e37469bb7ea2cf8b8253934",
            "2c5f4f56741e47f8b89586c05a583c63",
            "c29fe857d3424d63ae6bcff3982181aa",
            "d63708684e1f4bc3bd5b8b9bcb742101",
            "3173e2010f914d9386af0fc264f73fd2",
            "1d2182ee4eb84da0a79945b6321adb1c",
            "4d57995d27104018912484313130ec0b",
            "8dad3f1aedca40f19a2ffc22a71926a2",
            "5b059515784f4975bbc883b9cf412c98",
            "03ba9b85ee854b3797a1fe0562645133",
            "c0e010243ac34963a6378afaa3dd9c54",
            "efc699ba083b47a49fc10b881442184e",
            "26dddf2477334e469bc89b877d8201ad",
            "ea91c3e4f8804f59a58ac1cf332d902c",
            "41e606b3ee794d348c5d027ad34fcbcb",
            "362230a550b840f5ba4985a2f2b295c3",
            "7906a5ec0fb944f782e971f419337125",
            "7d7a781aef79472c810e7540d433820c",
            "73f5623292db47539c935c62e86cd24a",
            "fe8a4d6247f44740b7dfaf085d6638ae",
            "05a20634ed014c03886655d7a19ce636",
            "a9d0a8fa79f54a62ac8b8ed2671c1a4e",
            "2ddab82d5fb04698a428428b0dfce4df",
            "9124bcf7e0ed4095ac128a8f4d504462",
            "6f26c3c71fbb479085d0b39bcd3a2068",
            "b0e2d0bedbc44f6785e185f3a8fba06c",
            "afff800c7bc440a1b022591e1e92725f",
            "c1c288961c1440a39a752743be936a98",
            "1a18f92a7f6640f2bb55f3cca0d7fe93",
            "d866c71860b04736952327a8d91e41c4",
            "90fe52b7f4fa407d94ecd0757b52e847",
            "1fee1dae3e804880b6b619fcd32ea8d9",
            "26eb4b3f15064be281bdd818fc4c3a7e",
            "b0952ad308ae4712a5de1cfbb4a2e4bd",
            "c1769c40b6e94aecb76273129a5ad67f",
            "e21a024b53964336a94cb38c98242e68"
          ]
        },
        "id": "4NRtlI_7vamr",
        "outputId": "bcfdabac-1d7a-435b-c2e5-f1b76abf88d2"
      },
      "execution_count": null,
      "outputs": [
        {
          "output_type": "display_data",
          "data": {
            "text/plain": [
              "tokenizer_config.json:   0%|          | 0.00/1.29k [00:00<?, ?B/s]"
            ],
            "application/vnd.jupyter.widget-view+json": {
              "version_major": 2,
              "version_minor": 0,
              "model_id": "d712d623b46540878859e77f455bbb4f"
            }
          },
          "metadata": {}
        },
        {
          "output_type": "display_data",
          "data": {
            "text/plain": [
              "vocab.json:   0%|          | 0.00/2.78M [00:00<?, ?B/s]"
            ],
            "application/vnd.jupyter.widget-view+json": {
              "version_major": 2,
              "version_minor": 0,
              "model_id": "615038f7945146b58b92c61a7bcdae93"
            }
          },
          "metadata": {}
        },
        {
          "output_type": "display_data",
          "data": {
            "text/plain": [
              "merges.txt:   0%|          | 0.00/1.67M [00:00<?, ?B/s]"
            ],
            "application/vnd.jupyter.widget-view+json": {
              "version_major": 2,
              "version_minor": 0,
              "model_id": "8e8d187a77f84405a8c99a5f787e0cc8"
            }
          },
          "metadata": {}
        },
        {
          "output_type": "display_data",
          "data": {
            "text/plain": [
              "tokenizer.json:   0%|          | 0.00/7.03M [00:00<?, ?B/s]"
            ],
            "application/vnd.jupyter.widget-view+json": {
              "version_major": 2,
              "version_minor": 0,
              "model_id": "893f52a880394f858005a8d5b1d92708"
            }
          },
          "metadata": {}
        },
        {
          "output_type": "display_data",
          "data": {
            "text/plain": [
              "config.json:   0%|          | 0.00/661 [00:00<?, ?B/s]"
            ],
            "application/vnd.jupyter.widget-view+json": {
              "version_major": 2,
              "version_minor": 0,
              "model_id": "d63708684e1f4bc3bd5b8b9bcb742101"
            }
          },
          "metadata": {}
        },
        {
          "output_type": "display_data",
          "data": {
            "text/plain": [
              "model.safetensors:   0%|          | 0.00/1.24G [00:00<?, ?B/s]"
            ],
            "application/vnd.jupyter.widget-view+json": {
              "version_major": 2,
              "version_minor": 0,
              "model_id": "41e606b3ee794d348c5d027ad34fcbcb"
            }
          },
          "metadata": {}
        },
        {
          "output_type": "display_data",
          "data": {
            "text/plain": [
              "generation_config.json:   0%|          | 0.00/138 [00:00<?, ?B/s]"
            ],
            "application/vnd.jupyter.widget-view+json": {
              "version_major": 2,
              "version_minor": 0,
              "model_id": "b0e2d0bedbc44f6785e185f3a8fba06c"
            }
          },
          "metadata": {}
        }
      ]
    },
    {
      "cell_type": "code",
      "source": [
        "###Sample - For Testing ######\n",
        "''' text = \"What is a linear classifier?\"\n",
        "inputs = f\"Question: {text} \\n Answer:\"   # input_text = f\"Question: {data['question']}\\nAnswer:\"\n",
        "inputs = tokenizer(text, return_tensors=\"pt\", truncation=True, padding=True, max_length=128)\n",
        "# Perform inference\n",
        "outputs = model.generate( inputs['input_ids'],attention_mask=inputs['attention_mask'], max_length=256,# max_new_tokens=500,num_beams=8,early_stopping=True,repetition_penalty=.9)\n",
        "# Decode the generated token IDs to text\n",
        "generated_text = tokenizer.decode(outputs[0], skip_special_tokens=True)\n",
        "print(\"Generated Text:\", generated_text)\n",
        "'''"
      ],
      "metadata": {
        "collapsed": true,
        "id": "Wpc0TPNcTxSH",
        "colab": {
          "base_uri": "https://localhost:8080/",
          "height": 171
        },
        "outputId": "f01a1186-5db9-472d-a6d9-027283681036"
      },
      "execution_count": null,
      "outputs": [
        {
          "output_type": "execute_result",
          "data": {
            "text/plain": [
              "'\\ntext = \"What is a linear classifier?\"\\n# input_text = f\"Question: {data[\\'question\\']}\\nAnswer:\"\\ninputs = f\"Question: {text} \\n Answer:\"\\ninputs = tokenizer(text, return_tensors=\"pt\", truncation=True, padding=True, max_length=128)\\n# Perform inference\\noutputs = model.generate(\\n    inputs[\\'input_ids\\'],\\n    attention_mask=inputs[\\'attention_mask\\'],\\n    max_length=256,\\n    # max_new_tokens=500,\\n    num_beams=8,\\n    early_stopping=True,\\n    repetition_penalty=.9\\n)\\nprint(outputs)\\n\\n# Decode the generated token IDs to text\\ngenerated_text = tokenizer.decode(outputs[0], skip_special_tokens=True)\\nprint(\"Generated Text:\", generated_text)\\n'"
            ],
            "application/vnd.google.colaboratory.intrinsic+json": {
              "type": "string"
            }
          },
          "metadata": {},
          "execution_count": 7
        }
      ]
    },
    {
      "cell_type": "markdown",
      "source": [
        "### **Using AIML Q&A Content - Custom Data source**\n",
        "\n",
        "\n"
      ],
      "metadata": {
        "id": "E_udo6ttXUGv"
      }
    },
    {
      "cell_type": "code",
      "source": [
        "%%capture\n",
        "!pip install accelerate -U"
      ],
      "metadata": {
        "id": "8UKzMLyRyhT7"
      },
      "execution_count": null,
      "outputs": []
    },
    {
      "cell_type": "code",
      "source": [
        "#Delete existing downloads/folders if any\n",
        "import os, shutil\n",
        "folder = \"/content/group18_final_project\"\n",
        "for filename in os.listdir(folder):\n",
        "    file_path = os.path.join(folder, filename)\n",
        "    try:\n",
        "        if os.path.isfile(file_path) or os.path.islink(file_path):\n",
        "            os.unlink(file_path)\n",
        "        elif os.path.isdir(file_path):\n",
        "            shutil.rmtree(file_path)\n",
        "    except Exception as e:\n",
        "        print('Failed to delete %s. Reason: %s' % (file_path, e))"
      ],
      "metadata": {
        "id": "1uSzxbCDSqMO"
      },
      "execution_count": null,
      "outputs": []
    },
    {
      "cell_type": "code",
      "source": [
        "#Fetch QnA data from Github\n",
        "!git clone https://github.com/anukvma/group18_final_project.git\n",
        "\n",
        "import os\n",
        "import json\n",
        "import pandas as pd\n",
        "Path = \"/content/group18_final_project/\"\n",
        "\n",
        "# Define the folder containing the text files\n",
        "folder_path = Path + 'aiml_question_answers/AIML_QnA_Content/Group18_AIML_QA.csv'\n",
        "dfQnAData = pd.read_csv(Path +\"aiml_question_answers/AIML_QnA_Content/Group18_AIML_QA.csv\", names=['id','question','answer','unit'],encoding='unicode_escape',header=0)\n",
        "dfQnADataPart2 = pd.read_csv(Path +\"aiml_question_answers/sampled_qa_data.csv\", names=['id','question','answer','unit'],encoding='unicode_escape',header=0)\n",
        "\n",
        "dfQnAData = pd.concat([dfQnAData, dfQnADataPart2])\n"
      ],
      "metadata": {
        "colab": {
          "base_uri": "https://localhost:8080/"
        },
        "outputId": "84644d7b-647d-43e2-c22b-e796d266ee45",
        "id": "8b8chgj0XUGw"
      },
      "execution_count": null,
      "outputs": [
        {
          "output_type": "stream",
          "name": "stdout",
          "text": [
            "Cloning into 'group18_final_project'...\n",
            "remote: Enumerating objects: 305, done.\u001b[K\n",
            "remote: Counting objects: 100% (135/135), done.\u001b[K\n",
            "remote: Compressing objects: 100% (122/122), done.\u001b[K\n",
            "remote: Total 305 (delta 82), reused 27 (delta 13), pack-reused 170 (from 1)\u001b[K\n",
            "Receiving objects: 100% (305/305), 6.02 MiB | 7.34 MiB/s, done.\n",
            "Resolving deltas: 100% (167/167), done.\n"
          ]
        }
      ]
    },
    {
      "cell_type": "code",
      "source": [
        "dfQnAData.head()"
      ],
      "metadata": {
        "colab": {
          "base_uri": "https://localhost:8080/",
          "height": 293
        },
        "outputId": "c8e7334a-68b2-46f4-c87a-06cf6cc30bc2",
        "id": "K9myAOtvXUGx"
      },
      "execution_count": null,
      "outputs": [
        {
          "output_type": "execute_result",
          "data": {
            "text/plain": [
              "    id                                           question  \\\n",
              "0  1.0                       What is a linear classifier?   \n",
              "1  2.0     How does a linear classifier make predictions?   \n",
              "2  3.0  What is the objective function in a linear cla...   \n",
              "3  4.0                          What is gradient descent?   \n",
              "4  5.0    How does learning rate affect gradient descent?   \n",
              "\n",
              "                                              answer  unit  \n",
              "0  A linear classifier is a model that makes pred...   1.0  \n",
              "1  A linear classifier predicts by calculating th...   1.0  \n",
              "2  The objective function often used is the loss ...   1.0  \n",
              "3  Gradient descent is an optimization algorithm ...   1.0  \n",
              "4  The learning rate controls the step size in gr...   1.0  "
            ],
            "text/html": [
              "\n",
              "  <div id=\"df-6ac471ec-c82c-4d15-8495-030f3566d5c2\" class=\"colab-df-container\">\n",
              "    <div>\n",
              "<style scoped>\n",
              "    .dataframe tbody tr th:only-of-type {\n",
              "        vertical-align: middle;\n",
              "    }\n",
              "\n",
              "    .dataframe tbody tr th {\n",
              "        vertical-align: top;\n",
              "    }\n",
              "\n",
              "    .dataframe thead th {\n",
              "        text-align: right;\n",
              "    }\n",
              "</style>\n",
              "<table border=\"1\" class=\"dataframe\">\n",
              "  <thead>\n",
              "    <tr style=\"text-align: right;\">\n",
              "      <th></th>\n",
              "      <th>id</th>\n",
              "      <th>question</th>\n",
              "      <th>answer</th>\n",
              "      <th>unit</th>\n",
              "    </tr>\n",
              "  </thead>\n",
              "  <tbody>\n",
              "    <tr>\n",
              "      <th>0</th>\n",
              "      <td>1.0</td>\n",
              "      <td>What is a linear classifier?</td>\n",
              "      <td>A linear classifier is a model that makes pred...</td>\n",
              "      <td>1.0</td>\n",
              "    </tr>\n",
              "    <tr>\n",
              "      <th>1</th>\n",
              "      <td>2.0</td>\n",
              "      <td>How does a linear classifier make predictions?</td>\n",
              "      <td>A linear classifier predicts by calculating th...</td>\n",
              "      <td>1.0</td>\n",
              "    </tr>\n",
              "    <tr>\n",
              "      <th>2</th>\n",
              "      <td>3.0</td>\n",
              "      <td>What is the objective function in a linear cla...</td>\n",
              "      <td>The objective function often used is the loss ...</td>\n",
              "      <td>1.0</td>\n",
              "    </tr>\n",
              "    <tr>\n",
              "      <th>3</th>\n",
              "      <td>4.0</td>\n",
              "      <td>What is gradient descent?</td>\n",
              "      <td>Gradient descent is an optimization algorithm ...</td>\n",
              "      <td>1.0</td>\n",
              "    </tr>\n",
              "    <tr>\n",
              "      <th>4</th>\n",
              "      <td>5.0</td>\n",
              "      <td>How does learning rate affect gradient descent?</td>\n",
              "      <td>The learning rate controls the step size in gr...</td>\n",
              "      <td>1.0</td>\n",
              "    </tr>\n",
              "  </tbody>\n",
              "</table>\n",
              "</div>\n",
              "    <div class=\"colab-df-buttons\">\n",
              "\n",
              "  <div class=\"colab-df-container\">\n",
              "    <button class=\"colab-df-convert\" onclick=\"convertToInteractive('df-6ac471ec-c82c-4d15-8495-030f3566d5c2')\"\n",
              "            title=\"Convert this dataframe to an interactive table.\"\n",
              "            style=\"display:none;\">\n",
              "\n",
              "  <svg xmlns=\"http://www.w3.org/2000/svg\" height=\"24px\" viewBox=\"0 -960 960 960\">\n",
              "    <path d=\"M120-120v-720h720v720H120Zm60-500h600v-160H180v160Zm220 220h160v-160H400v160Zm0 220h160v-160H400v160ZM180-400h160v-160H180v160Zm440 0h160v-160H620v160ZM180-180h160v-160H180v160Zm440 0h160v-160H620v160Z\"/>\n",
              "  </svg>\n",
              "    </button>\n",
              "\n",
              "  <style>\n",
              "    .colab-df-container {\n",
              "      display:flex;\n",
              "      gap: 12px;\n",
              "    }\n",
              "\n",
              "    .colab-df-convert {\n",
              "      background-color: #E8F0FE;\n",
              "      border: none;\n",
              "      border-radius: 50%;\n",
              "      cursor: pointer;\n",
              "      display: none;\n",
              "      fill: #1967D2;\n",
              "      height: 32px;\n",
              "      padding: 0 0 0 0;\n",
              "      width: 32px;\n",
              "    }\n",
              "\n",
              "    .colab-df-convert:hover {\n",
              "      background-color: #E2EBFA;\n",
              "      box-shadow: 0px 1px 2px rgba(60, 64, 67, 0.3), 0px 1px 3px 1px rgba(60, 64, 67, 0.15);\n",
              "      fill: #174EA6;\n",
              "    }\n",
              "\n",
              "    .colab-df-buttons div {\n",
              "      margin-bottom: 4px;\n",
              "    }\n",
              "\n",
              "    [theme=dark] .colab-df-convert {\n",
              "      background-color: #3B4455;\n",
              "      fill: #D2E3FC;\n",
              "    }\n",
              "\n",
              "    [theme=dark] .colab-df-convert:hover {\n",
              "      background-color: #434B5C;\n",
              "      box-shadow: 0px 1px 3px 1px rgba(0, 0, 0, 0.15);\n",
              "      filter: drop-shadow(0px 1px 2px rgba(0, 0, 0, 0.3));\n",
              "      fill: #FFFFFF;\n",
              "    }\n",
              "  </style>\n",
              "\n",
              "    <script>\n",
              "      const buttonEl =\n",
              "        document.querySelector('#df-6ac471ec-c82c-4d15-8495-030f3566d5c2 button.colab-df-convert');\n",
              "      buttonEl.style.display =\n",
              "        google.colab.kernel.accessAllowed ? 'block' : 'none';\n",
              "\n",
              "      async function convertToInteractive(key) {\n",
              "        const element = document.querySelector('#df-6ac471ec-c82c-4d15-8495-030f3566d5c2');\n",
              "        const dataTable =\n",
              "          await google.colab.kernel.invokeFunction('convertToInteractive',\n",
              "                                                    [key], {});\n",
              "        if (!dataTable) return;\n",
              "\n",
              "        const docLinkHtml = 'Like what you see? Visit the ' +\n",
              "          '<a target=\"_blank\" href=https://colab.research.google.com/notebooks/data_table.ipynb>data table notebook</a>'\n",
              "          + ' to learn more about interactive tables.';\n",
              "        element.innerHTML = '';\n",
              "        dataTable['output_type'] = 'display_data';\n",
              "        await google.colab.output.renderOutput(dataTable, element);\n",
              "        const docLink = document.createElement('div');\n",
              "        docLink.innerHTML = docLinkHtml;\n",
              "        element.appendChild(docLink);\n",
              "      }\n",
              "    </script>\n",
              "  </div>\n",
              "\n",
              "\n",
              "<div id=\"df-13db12ec-4496-485e-98d3-3fd8dee9ed15\">\n",
              "  <button class=\"colab-df-quickchart\" onclick=\"quickchart('df-13db12ec-4496-485e-98d3-3fd8dee9ed15')\"\n",
              "            title=\"Suggest charts\"\n",
              "            style=\"display:none;\">\n",
              "\n",
              "<svg xmlns=\"http://www.w3.org/2000/svg\" height=\"24px\"viewBox=\"0 0 24 24\"\n",
              "     width=\"24px\">\n",
              "    <g>\n",
              "        <path d=\"M19 3H5c-1.1 0-2 .9-2 2v14c0 1.1.9 2 2 2h14c1.1 0 2-.9 2-2V5c0-1.1-.9-2-2-2zM9 17H7v-7h2v7zm4 0h-2V7h2v10zm4 0h-2v-4h2v4z\"/>\n",
              "    </g>\n",
              "</svg>\n",
              "  </button>\n",
              "\n",
              "<style>\n",
              "  .colab-df-quickchart {\n",
              "      --bg-color: #E8F0FE;\n",
              "      --fill-color: #1967D2;\n",
              "      --hover-bg-color: #E2EBFA;\n",
              "      --hover-fill-color: #174EA6;\n",
              "      --disabled-fill-color: #AAA;\n",
              "      --disabled-bg-color: #DDD;\n",
              "  }\n",
              "\n",
              "  [theme=dark] .colab-df-quickchart {\n",
              "      --bg-color: #3B4455;\n",
              "      --fill-color: #D2E3FC;\n",
              "      --hover-bg-color: #434B5C;\n",
              "      --hover-fill-color: #FFFFFF;\n",
              "      --disabled-bg-color: #3B4455;\n",
              "      --disabled-fill-color: #666;\n",
              "  }\n",
              "\n",
              "  .colab-df-quickchart {\n",
              "    background-color: var(--bg-color);\n",
              "    border: none;\n",
              "    border-radius: 50%;\n",
              "    cursor: pointer;\n",
              "    display: none;\n",
              "    fill: var(--fill-color);\n",
              "    height: 32px;\n",
              "    padding: 0;\n",
              "    width: 32px;\n",
              "  }\n",
              "\n",
              "  .colab-df-quickchart:hover {\n",
              "    background-color: var(--hover-bg-color);\n",
              "    box-shadow: 0 1px 2px rgba(60, 64, 67, 0.3), 0 1px 3px 1px rgba(60, 64, 67, 0.15);\n",
              "    fill: var(--button-hover-fill-color);\n",
              "  }\n",
              "\n",
              "  .colab-df-quickchart-complete:disabled,\n",
              "  .colab-df-quickchart-complete:disabled:hover {\n",
              "    background-color: var(--disabled-bg-color);\n",
              "    fill: var(--disabled-fill-color);\n",
              "    box-shadow: none;\n",
              "  }\n",
              "\n",
              "  .colab-df-spinner {\n",
              "    border: 2px solid var(--fill-color);\n",
              "    border-color: transparent;\n",
              "    border-bottom-color: var(--fill-color);\n",
              "    animation:\n",
              "      spin 1s steps(1) infinite;\n",
              "  }\n",
              "\n",
              "  @keyframes spin {\n",
              "    0% {\n",
              "      border-color: transparent;\n",
              "      border-bottom-color: var(--fill-color);\n",
              "      border-left-color: var(--fill-color);\n",
              "    }\n",
              "    20% {\n",
              "      border-color: transparent;\n",
              "      border-left-color: var(--fill-color);\n",
              "      border-top-color: var(--fill-color);\n",
              "    }\n",
              "    30% {\n",
              "      border-color: transparent;\n",
              "      border-left-color: var(--fill-color);\n",
              "      border-top-color: var(--fill-color);\n",
              "      border-right-color: var(--fill-color);\n",
              "    }\n",
              "    40% {\n",
              "      border-color: transparent;\n",
              "      border-right-color: var(--fill-color);\n",
              "      border-top-color: var(--fill-color);\n",
              "    }\n",
              "    60% {\n",
              "      border-color: transparent;\n",
              "      border-right-color: var(--fill-color);\n",
              "    }\n",
              "    80% {\n",
              "      border-color: transparent;\n",
              "      border-right-color: var(--fill-color);\n",
              "      border-bottom-color: var(--fill-color);\n",
              "    }\n",
              "    90% {\n",
              "      border-color: transparent;\n",
              "      border-bottom-color: var(--fill-color);\n",
              "    }\n",
              "  }\n",
              "</style>\n",
              "\n",
              "  <script>\n",
              "    async function quickchart(key) {\n",
              "      const quickchartButtonEl =\n",
              "        document.querySelector('#' + key + ' button');\n",
              "      quickchartButtonEl.disabled = true;  // To prevent multiple clicks.\n",
              "      quickchartButtonEl.classList.add('colab-df-spinner');\n",
              "      try {\n",
              "        const charts = await google.colab.kernel.invokeFunction(\n",
              "            'suggestCharts', [key], {});\n",
              "      } catch (error) {\n",
              "        console.error('Error during call to suggestCharts:', error);\n",
              "      }\n",
              "      quickchartButtonEl.classList.remove('colab-df-spinner');\n",
              "      quickchartButtonEl.classList.add('colab-df-quickchart-complete');\n",
              "    }\n",
              "    (() => {\n",
              "      let quickchartButtonEl =\n",
              "        document.querySelector('#df-13db12ec-4496-485e-98d3-3fd8dee9ed15 button');\n",
              "      quickchartButtonEl.style.display =\n",
              "        google.colab.kernel.accessAllowed ? 'block' : 'none';\n",
              "    })();\n",
              "  </script>\n",
              "</div>\n",
              "\n",
              "    </div>\n",
              "  </div>\n"
            ],
            "application/vnd.google.colaboratory.intrinsic+json": {
              "type": "dataframe",
              "variable_name": "dfQnAData",
              "summary": "{\n  \"name\": \"dfQnAData\",\n  \"rows\": 1037,\n  \"fields\": [\n    {\n      \"column\": \"id\",\n      \"properties\": {\n        \"dtype\": \"number\",\n        \"std\": 181.45535844768202,\n        \"min\": 0.0,\n        \"max\": 665.0,\n        \"num_unique_values\": 666,\n        \"samples\": [\n          613.0,\n          159.0,\n          633.0\n        ],\n        \"semantic_type\": \"\",\n        \"description\": \"\"\n      }\n    },\n    {\n      \"column\": \"question\",\n      \"properties\": {\n        \"dtype\": \"string\",\n        \"num_unique_values\": 1021,\n        \"samples\": [\n          \"How does SVM handle non-linearly separable data?\",\n          \"Explain the skip-gram model in word2vec. \",\n          \"What are some key features involved in human perception? \"\n        ],\n        \"semantic_type\": \"\",\n        \"description\": \"\"\n      }\n    },\n    {\n      \"column\": \"answer\",\n      \"properties\": {\n        \"dtype\": \"string\",\n        \"num_unique_values\": 1022,\n        \"samples\": [\n          \"The basic components include the encoder and decoder, each consisting of multiple layers of self-attention mechanisms and feedforward neural networks.\",\n          \"Kernel trick allows us to operate in the original feature space without computing the coordinates of the data.\",\n          \"The main goal of the paper is to propose a behavioral decision tree (BehavDT) learning approach to build user-centric context-aware predictive models for smartphone data.\"\n        ],\n        \"semantic_type\": \"\",\n        \"description\": \"\"\n      }\n    },\n    {\n      \"column\": \"unit\",\n      \"properties\": {\n        \"dtype\": \"number\",\n        \"std\": 1.1092908896353908,\n        \"min\": 1.0,\n        \"max\": 4.0,\n        \"num_unique_values\": 4,\n        \"samples\": [\n          2.0,\n          4.0,\n          1.0\n        ],\n        \"semantic_type\": \"\",\n        \"description\": \"\"\n      }\n    }\n  ]\n}"
            }
          },
          "metadata": {},
          "execution_count": 10
        }
      ]
    },
    {
      "cell_type": "code",
      "source": [
        "#Data - Cleanup\n",
        "dfQnAData.dropna(axis=0, inplace=True)\n",
        "dfQnAData.isna().sum()\n",
        "dfQnAData = dfQnAData.sample(frac=1).reset_index(drop=True)\n",
        "\n",
        "dfQnAData.head()"
      ],
      "metadata": {
        "colab": {
          "base_uri": "https://localhost:8080/",
          "height": 293
        },
        "outputId": "7011c398-d768-45c7-bb1e-d24bc2894815",
        "id": "_3VPGq3nXUGy"
      },
      "execution_count": null,
      "outputs": [
        {
          "output_type": "execute_result",
          "data": {
            "text/plain": [
              "      id                                           question  \\\n",
              "0    6.0  Is there a difference between underfitting and...   \n",
              "1  113.0     `What does recall measure in model evaluation?   \n",
              "2  379.0  How does the softmax layer turn the scores int...   \n",
              "3  213.0  What are the limitations of a single-layer Per...   \n",
              "4   30.0                           What is a decision tree?   \n",
              "\n",
              "                                              answer  unit  \n",
              "0  Yes, underfitting occurs when a model is too s...   1.0  \n",
              "1  Recall measures the ratio of true positives (T...   2.0  \n",
              "2  The softmax layer turns the scores into probab...   3.0  \n",
              "3  The main limitation of a single-layer Perceptr...   3.0  \n",
              "4  A decision tree is a supervised learning algor...   1.0  "
            ],
            "text/html": [
              "\n",
              "  <div id=\"df-02c92d4a-9838-49a6-8e1f-b3f0e1069c8f\" class=\"colab-df-container\">\n",
              "    <div>\n",
              "<style scoped>\n",
              "    .dataframe tbody tr th:only-of-type {\n",
              "        vertical-align: middle;\n",
              "    }\n",
              "\n",
              "    .dataframe tbody tr th {\n",
              "        vertical-align: top;\n",
              "    }\n",
              "\n",
              "    .dataframe thead th {\n",
              "        text-align: right;\n",
              "    }\n",
              "</style>\n",
              "<table border=\"1\" class=\"dataframe\">\n",
              "  <thead>\n",
              "    <tr style=\"text-align: right;\">\n",
              "      <th></th>\n",
              "      <th>id</th>\n",
              "      <th>question</th>\n",
              "      <th>answer</th>\n",
              "      <th>unit</th>\n",
              "    </tr>\n",
              "  </thead>\n",
              "  <tbody>\n",
              "    <tr>\n",
              "      <th>0</th>\n",
              "      <td>6.0</td>\n",
              "      <td>Is there a difference between underfitting and...</td>\n",
              "      <td>Yes, underfitting occurs when a model is too s...</td>\n",
              "      <td>1.0</td>\n",
              "    </tr>\n",
              "    <tr>\n",
              "      <th>1</th>\n",
              "      <td>113.0</td>\n",
              "      <td>`What does recall measure in model evaluation?</td>\n",
              "      <td>Recall measures the ratio of true positives (T...</td>\n",
              "      <td>2.0</td>\n",
              "    </tr>\n",
              "    <tr>\n",
              "      <th>2</th>\n",
              "      <td>379.0</td>\n",
              "      <td>How does the softmax layer turn the scores int...</td>\n",
              "      <td>The softmax layer turns the scores into probab...</td>\n",
              "      <td>3.0</td>\n",
              "    </tr>\n",
              "    <tr>\n",
              "      <th>3</th>\n",
              "      <td>213.0</td>\n",
              "      <td>What are the limitations of a single-layer Per...</td>\n",
              "      <td>The main limitation of a single-layer Perceptr...</td>\n",
              "      <td>3.0</td>\n",
              "    </tr>\n",
              "    <tr>\n",
              "      <th>4</th>\n",
              "      <td>30.0</td>\n",
              "      <td>What is a decision tree?</td>\n",
              "      <td>A decision tree is a supervised learning algor...</td>\n",
              "      <td>1.0</td>\n",
              "    </tr>\n",
              "  </tbody>\n",
              "</table>\n",
              "</div>\n",
              "    <div class=\"colab-df-buttons\">\n",
              "\n",
              "  <div class=\"colab-df-container\">\n",
              "    <button class=\"colab-df-convert\" onclick=\"convertToInteractive('df-02c92d4a-9838-49a6-8e1f-b3f0e1069c8f')\"\n",
              "            title=\"Convert this dataframe to an interactive table.\"\n",
              "            style=\"display:none;\">\n",
              "\n",
              "  <svg xmlns=\"http://www.w3.org/2000/svg\" height=\"24px\" viewBox=\"0 -960 960 960\">\n",
              "    <path d=\"M120-120v-720h720v720H120Zm60-500h600v-160H180v160Zm220 220h160v-160H400v160Zm0 220h160v-160H400v160ZM180-400h160v-160H180v160Zm440 0h160v-160H620v160ZM180-180h160v-160H180v160Zm440 0h160v-160H620v160Z\"/>\n",
              "  </svg>\n",
              "    </button>\n",
              "\n",
              "  <style>\n",
              "    .colab-df-container {\n",
              "      display:flex;\n",
              "      gap: 12px;\n",
              "    }\n",
              "\n",
              "    .colab-df-convert {\n",
              "      background-color: #E8F0FE;\n",
              "      border: none;\n",
              "      border-radius: 50%;\n",
              "      cursor: pointer;\n",
              "      display: none;\n",
              "      fill: #1967D2;\n",
              "      height: 32px;\n",
              "      padding: 0 0 0 0;\n",
              "      width: 32px;\n",
              "    }\n",
              "\n",
              "    .colab-df-convert:hover {\n",
              "      background-color: #E2EBFA;\n",
              "      box-shadow: 0px 1px 2px rgba(60, 64, 67, 0.3), 0px 1px 3px 1px rgba(60, 64, 67, 0.15);\n",
              "      fill: #174EA6;\n",
              "    }\n",
              "\n",
              "    .colab-df-buttons div {\n",
              "      margin-bottom: 4px;\n",
              "    }\n",
              "\n",
              "    [theme=dark] .colab-df-convert {\n",
              "      background-color: #3B4455;\n",
              "      fill: #D2E3FC;\n",
              "    }\n",
              "\n",
              "    [theme=dark] .colab-df-convert:hover {\n",
              "      background-color: #434B5C;\n",
              "      box-shadow: 0px 1px 3px 1px rgba(0, 0, 0, 0.15);\n",
              "      filter: drop-shadow(0px 1px 2px rgba(0, 0, 0, 0.3));\n",
              "      fill: #FFFFFF;\n",
              "    }\n",
              "  </style>\n",
              "\n",
              "    <script>\n",
              "      const buttonEl =\n",
              "        document.querySelector('#df-02c92d4a-9838-49a6-8e1f-b3f0e1069c8f button.colab-df-convert');\n",
              "      buttonEl.style.display =\n",
              "        google.colab.kernel.accessAllowed ? 'block' : 'none';\n",
              "\n",
              "      async function convertToInteractive(key) {\n",
              "        const element = document.querySelector('#df-02c92d4a-9838-49a6-8e1f-b3f0e1069c8f');\n",
              "        const dataTable =\n",
              "          await google.colab.kernel.invokeFunction('convertToInteractive',\n",
              "                                                    [key], {});\n",
              "        if (!dataTable) return;\n",
              "\n",
              "        const docLinkHtml = 'Like what you see? Visit the ' +\n",
              "          '<a target=\"_blank\" href=https://colab.research.google.com/notebooks/data_table.ipynb>data table notebook</a>'\n",
              "          + ' to learn more about interactive tables.';\n",
              "        element.innerHTML = '';\n",
              "        dataTable['output_type'] = 'display_data';\n",
              "        await google.colab.output.renderOutput(dataTable, element);\n",
              "        const docLink = document.createElement('div');\n",
              "        docLink.innerHTML = docLinkHtml;\n",
              "        element.appendChild(docLink);\n",
              "      }\n",
              "    </script>\n",
              "  </div>\n",
              "\n",
              "\n",
              "<div id=\"df-090c7074-455e-4f1e-afd9-2cc2a4bd8fc5\">\n",
              "  <button class=\"colab-df-quickchart\" onclick=\"quickchart('df-090c7074-455e-4f1e-afd9-2cc2a4bd8fc5')\"\n",
              "            title=\"Suggest charts\"\n",
              "            style=\"display:none;\">\n",
              "\n",
              "<svg xmlns=\"http://www.w3.org/2000/svg\" height=\"24px\"viewBox=\"0 0 24 24\"\n",
              "     width=\"24px\">\n",
              "    <g>\n",
              "        <path d=\"M19 3H5c-1.1 0-2 .9-2 2v14c0 1.1.9 2 2 2h14c1.1 0 2-.9 2-2V5c0-1.1-.9-2-2-2zM9 17H7v-7h2v7zm4 0h-2V7h2v10zm4 0h-2v-4h2v4z\"/>\n",
              "    </g>\n",
              "</svg>\n",
              "  </button>\n",
              "\n",
              "<style>\n",
              "  .colab-df-quickchart {\n",
              "      --bg-color: #E8F0FE;\n",
              "      --fill-color: #1967D2;\n",
              "      --hover-bg-color: #E2EBFA;\n",
              "      --hover-fill-color: #174EA6;\n",
              "      --disabled-fill-color: #AAA;\n",
              "      --disabled-bg-color: #DDD;\n",
              "  }\n",
              "\n",
              "  [theme=dark] .colab-df-quickchart {\n",
              "      --bg-color: #3B4455;\n",
              "      --fill-color: #D2E3FC;\n",
              "      --hover-bg-color: #434B5C;\n",
              "      --hover-fill-color: #FFFFFF;\n",
              "      --disabled-bg-color: #3B4455;\n",
              "      --disabled-fill-color: #666;\n",
              "  }\n",
              "\n",
              "  .colab-df-quickchart {\n",
              "    background-color: var(--bg-color);\n",
              "    border: none;\n",
              "    border-radius: 50%;\n",
              "    cursor: pointer;\n",
              "    display: none;\n",
              "    fill: var(--fill-color);\n",
              "    height: 32px;\n",
              "    padding: 0;\n",
              "    width: 32px;\n",
              "  }\n",
              "\n",
              "  .colab-df-quickchart:hover {\n",
              "    background-color: var(--hover-bg-color);\n",
              "    box-shadow: 0 1px 2px rgba(60, 64, 67, 0.3), 0 1px 3px 1px rgba(60, 64, 67, 0.15);\n",
              "    fill: var(--button-hover-fill-color);\n",
              "  }\n",
              "\n",
              "  .colab-df-quickchart-complete:disabled,\n",
              "  .colab-df-quickchart-complete:disabled:hover {\n",
              "    background-color: var(--disabled-bg-color);\n",
              "    fill: var(--disabled-fill-color);\n",
              "    box-shadow: none;\n",
              "  }\n",
              "\n",
              "  .colab-df-spinner {\n",
              "    border: 2px solid var(--fill-color);\n",
              "    border-color: transparent;\n",
              "    border-bottom-color: var(--fill-color);\n",
              "    animation:\n",
              "      spin 1s steps(1) infinite;\n",
              "  }\n",
              "\n",
              "  @keyframes spin {\n",
              "    0% {\n",
              "      border-color: transparent;\n",
              "      border-bottom-color: var(--fill-color);\n",
              "      border-left-color: var(--fill-color);\n",
              "    }\n",
              "    20% {\n",
              "      border-color: transparent;\n",
              "      border-left-color: var(--fill-color);\n",
              "      border-top-color: var(--fill-color);\n",
              "    }\n",
              "    30% {\n",
              "      border-color: transparent;\n",
              "      border-left-color: var(--fill-color);\n",
              "      border-top-color: var(--fill-color);\n",
              "      border-right-color: var(--fill-color);\n",
              "    }\n",
              "    40% {\n",
              "      border-color: transparent;\n",
              "      border-right-color: var(--fill-color);\n",
              "      border-top-color: var(--fill-color);\n",
              "    }\n",
              "    60% {\n",
              "      border-color: transparent;\n",
              "      border-right-color: var(--fill-color);\n",
              "    }\n",
              "    80% {\n",
              "      border-color: transparent;\n",
              "      border-right-color: var(--fill-color);\n",
              "      border-bottom-color: var(--fill-color);\n",
              "    }\n",
              "    90% {\n",
              "      border-color: transparent;\n",
              "      border-bottom-color: var(--fill-color);\n",
              "    }\n",
              "  }\n",
              "</style>\n",
              "\n",
              "  <script>\n",
              "    async function quickchart(key) {\n",
              "      const quickchartButtonEl =\n",
              "        document.querySelector('#' + key + ' button');\n",
              "      quickchartButtonEl.disabled = true;  // To prevent multiple clicks.\n",
              "      quickchartButtonEl.classList.add('colab-df-spinner');\n",
              "      try {\n",
              "        const charts = await google.colab.kernel.invokeFunction(\n",
              "            'suggestCharts', [key], {});\n",
              "      } catch (error) {\n",
              "        console.error('Error during call to suggestCharts:', error);\n",
              "      }\n",
              "      quickchartButtonEl.classList.remove('colab-df-spinner');\n",
              "      quickchartButtonEl.classList.add('colab-df-quickchart-complete');\n",
              "    }\n",
              "    (() => {\n",
              "      let quickchartButtonEl =\n",
              "        document.querySelector('#df-090c7074-455e-4f1e-afd9-2cc2a4bd8fc5 button');\n",
              "      quickchartButtonEl.style.display =\n",
              "        google.colab.kernel.accessAllowed ? 'block' : 'none';\n",
              "    })();\n",
              "  </script>\n",
              "</div>\n",
              "\n",
              "    </div>\n",
              "  </div>\n"
            ],
            "application/vnd.google.colaboratory.intrinsic+json": {
              "type": "dataframe",
              "variable_name": "dfQnAData",
              "summary": "{\n  \"name\": \"dfQnAData\",\n  \"rows\": 1027,\n  \"fields\": [\n    {\n      \"column\": \"id\",\n      \"properties\": {\n        \"dtype\": \"number\",\n        \"std\": 181.58630131095433,\n        \"min\": 0.0,\n        \"max\": 665.0,\n        \"num_unique_values\": 664,\n        \"samples\": [\n          116.0,\n          245.0,\n          200.0\n        ],\n        \"semantic_type\": \"\",\n        \"description\": \"\"\n      }\n    },\n    {\n      \"column\": \"question\",\n      \"properties\": {\n        \"dtype\": \"string\",\n        \"num_unique_values\": 1015,\n        \"samples\": [\n          \"How does the output of an MLP network get determined?\",\n          \"How does the SVM algorithm deal with self-learning? \\n\",\n          \"What is the role of maximum likelihood in logistic regression.\"\n        ],\n        \"semantic_type\": \"\",\n        \"description\": \"\"\n      }\n    },\n    {\n      \"column\": \"answer\",\n      \"properties\": {\n        \"dtype\": \"string\",\n        \"num_unique_values\": 1020,\n        \"samples\": [\n          \"Tabular data allows for efficient learning by deep learning models due to its logical and systematic arrangement of data in rows and columns based on data properties or features.\",\n          \"Popular kernels include linear, Gaussian, and polynomial kernels, chosen based on the data and desired level of non-linearity.\",\n          \"SNE and t-SNE use probabilities instead of distances to represent the likelihood of points being neighbors, optimizing these probabilities to be similar in low dimensions.\"\n        ],\n        \"semantic_type\": \"\",\n        \"description\": \"\"\n      }\n    },\n    {\n      \"column\": \"unit\",\n      \"properties\": {\n        \"dtype\": \"number\",\n        \"std\": 1.1092908896353908,\n        \"min\": 1.0,\n        \"max\": 4.0,\n        \"num_unique_values\": 4,\n        \"samples\": [\n          2.0,\n          4.0,\n          1.0\n        ],\n        \"semantic_type\": \"\",\n        \"description\": \"\"\n      }\n    }\n  ]\n}"
            }
          },
          "metadata": {},
          "execution_count": 11
        }
      ]
    },
    {
      "cell_type": "code",
      "source": [
        "medium_datasets = DatasetDict()\n",
        "medium_datasets\n",
        "\n",
        "df = dfQnAData.copy()\n",
        "\n",
        "train_dataset: Dataset = Dataset.from_pandas(df[:800])\n",
        "validation_dataset: Dataset = Dataset.from_pandas(df[800:900])\n",
        "test_dataset: Dataset = Dataset.from_pandas(df[900:])\n",
        "\n",
        "train_dataset"
      ],
      "metadata": {
        "colab": {
          "base_uri": "https://localhost:8080/"
        },
        "outputId": "c215b2dd-8295-4cab-84fa-d258b8e61679",
        "id": "4pr6-tNBXUG0"
      },
      "execution_count": null,
      "outputs": [
        {
          "output_type": "execute_result",
          "data": {
            "text/plain": [
              "Dataset({\n",
              "    features: ['id', 'question', 'answer', 'unit'],\n",
              "    num_rows: 800\n",
              "})"
            ]
          },
          "metadata": {},
          "execution_count": 12
        }
      ]
    },
    {
      "cell_type": "code",
      "source": [
        "#Collate split datasets into DatasetDict\n",
        "medium_datasets[\"train\"] = train_dataset\n",
        "medium_datasets[\"validation\"] = validation_dataset\n",
        "medium_datasets[\"test\"] = test_dataset\n",
        "\n",
        "print(\"\\n\")\n",
        "medium_datasets"
      ],
      "metadata": {
        "colab": {
          "base_uri": "https://localhost:8080/"
        },
        "outputId": "01842e55-0b6a-4fcc-a86f-5fec0d06ef67",
        "id": "Lpq3o8IIXUG1"
      },
      "execution_count": null,
      "outputs": [
        {
          "output_type": "stream",
          "name": "stdout",
          "text": [
            "\n",
            "\n"
          ]
        },
        {
          "output_type": "execute_result",
          "data": {
            "text/plain": [
              "DatasetDict({\n",
              "    train: Dataset({\n",
              "        features: ['id', 'question', 'answer', 'unit'],\n",
              "        num_rows: 800\n",
              "    })\n",
              "    validation: Dataset({\n",
              "        features: ['id', 'question', 'answer', 'unit'],\n",
              "        num_rows: 100\n",
              "    })\n",
              "    test: Dataset({\n",
              "        features: ['id', 'question', 'answer', 'unit'],\n",
              "        num_rows: 127\n",
              "    })\n",
              "})"
            ]
          },
          "metadata": {},
          "execution_count": 13
        }
      ]
    },
    {
      "cell_type": "code",
      "source": [
        "sModelName = model_name\n",
        "sModelName\n",
        "model_name"
      ],
      "metadata": {
        "colab": {
          "base_uri": "https://localhost:8080/",
          "height": 37
        },
        "id": "iz5kozgvashL",
        "outputId": "3d8dd749-ac41-4026-d8f0-6929dfb79e1b"
      },
      "execution_count": null,
      "outputs": [
        {
          "output_type": "execute_result",
          "data": {
            "text/plain": [
              "'Qwen/Qwen1.5-0.5B'"
            ],
            "application/vnd.google.colaboratory.intrinsic+json": {
              "type": "string"
            }
          },
          "metadata": {},
          "execution_count": 14
        }
      ]
    },
    {
      "cell_type": "code",
      "source": [
        "##To display summary\n",
        "!pip install torchinfo\n",
        "\n",
        "from torchinfo import summary\n",
        "summary(model)"
      ],
      "metadata": {
        "id": "K6S8Z8Pidygw",
        "colab": {
          "base_uri": "https://localhost:8080/"
        },
        "outputId": "45d5f80f-4878-45ed-d53d-de1de0f23d07"
      },
      "execution_count": null,
      "outputs": [
        {
          "output_type": "stream",
          "name": "stdout",
          "text": [
            "Collecting torchinfo\n",
            "  Downloading torchinfo-1.8.0-py3-none-any.whl.metadata (21 kB)\n",
            "Downloading torchinfo-1.8.0-py3-none-any.whl (23 kB)\n",
            "Installing collected packages: torchinfo\n",
            "Successfully installed torchinfo-1.8.0\n"
          ]
        },
        {
          "output_type": "execute_result",
          "data": {
            "text/plain": [
              "================================================================================\n",
              "Layer (type:depth-idx)                                  Param #\n",
              "================================================================================\n",
              "Qwen2ForCausalLM                                        --\n",
              "├─Qwen2Model: 1-1                                       --\n",
              "│    └─Embedding: 2-1                                   155,582,464\n",
              "│    └─ModuleList: 2-2                                  --\n",
              "│    │    └─Qwen2DecoderLayer: 3-1                      12,850,176\n",
              "│    │    └─Qwen2DecoderLayer: 3-2                      12,850,176\n",
              "│    │    └─Qwen2DecoderLayer: 3-3                      12,850,176\n",
              "│    │    └─Qwen2DecoderLayer: 3-4                      12,850,176\n",
              "│    │    └─Qwen2DecoderLayer: 3-5                      12,850,176\n",
              "│    │    └─Qwen2DecoderLayer: 3-6                      12,850,176\n",
              "│    │    └─Qwen2DecoderLayer: 3-7                      12,850,176\n",
              "│    │    └─Qwen2DecoderLayer: 3-8                      12,850,176\n",
              "│    │    └─Qwen2DecoderLayer: 3-9                      12,850,176\n",
              "│    │    └─Qwen2DecoderLayer: 3-10                     12,850,176\n",
              "│    │    └─Qwen2DecoderLayer: 3-11                     12,850,176\n",
              "│    │    └─Qwen2DecoderLayer: 3-12                     12,850,176\n",
              "│    │    └─Qwen2DecoderLayer: 3-13                     12,850,176\n",
              "│    │    └─Qwen2DecoderLayer: 3-14                     12,850,176\n",
              "│    │    └─Qwen2DecoderLayer: 3-15                     12,850,176\n",
              "│    │    └─Qwen2DecoderLayer: 3-16                     12,850,176\n",
              "│    │    └─Qwen2DecoderLayer: 3-17                     12,850,176\n",
              "│    │    └─Qwen2DecoderLayer: 3-18                     12,850,176\n",
              "│    │    └─Qwen2DecoderLayer: 3-19                     12,850,176\n",
              "│    │    └─Qwen2DecoderLayer: 3-20                     12,850,176\n",
              "│    │    └─Qwen2DecoderLayer: 3-21                     12,850,176\n",
              "│    │    └─Qwen2DecoderLayer: 3-22                     12,850,176\n",
              "│    │    └─Qwen2DecoderLayer: 3-23                     12,850,176\n",
              "│    │    └─Qwen2DecoderLayer: 3-24                     12,850,176\n",
              "│    └─Qwen2RMSNorm: 2-3                                1,024\n",
              "├─Linear: 1-2                                           155,582,464\n",
              "================================================================================\n",
              "Total params: 619,570,176\n",
              "Trainable params: 619,570,176\n",
              "Non-trainable params: 0\n",
              "================================================================================"
            ]
          },
          "metadata": {},
          "execution_count": 15
        }
      ]
    },
    {
      "cell_type": "code",
      "source": [
        "##Format data before mapping into tokenised dataset\n",
        "DefaultPrefix = \"Please answer the AIML question: \"\n",
        "\n",
        "max_input_length = 128\n",
        "max_target_length = 128\n",
        "tokenizer.pad_token= tokenizer.eos_token\n",
        "\n",
        "def format_data(examples):\n",
        "    inputs = [q + \"\\n\" + a for q, a in zip(examples['question'], examples['answer'])]\n",
        "    model_inputs = tokenizer(inputs, max_length=max_input_length, truncation=True, padding=\"max_length\")\n",
        "    labels = model_inputs['input_ids'].copy()\n",
        "    model_inputs['labels'] = labels\n",
        "    return model_inputs\n",
        "\n",
        "tokenized_datasets = medium_datasets.map(format_data, batched=True)\n",
        "tokenized_datasets"
      ],
      "metadata": {
        "colab": {
          "base_uri": "https://localhost:8080/",
          "height": 438,
          "referenced_widgets": [
            "754351b11bcc4b28b917042aa9f5969b",
            "7a95df969ed140f894af0e13acd7d874",
            "417be74fa90f4780af34d4b08909497f",
            "4e909a4b11ea489b9330fcf9aa666988",
            "9f7b444662b042d1a735d2a3dd46998d",
            "1f07ffca67374683a63b5a891c730abc",
            "4afc3334d6b84a289f67391ca8bb872e",
            "5cfd30c1be2145bc9c5cc3d7af21cb21",
            "6350b50876634ee3b04ab45af15a5dc6",
            "00d7b219e2574dfaacf9028d950f80c9",
            "3d1f3b4a200b42a387a87429d934afc1",
            "3b221649de004c70bfc9a711a61ffd8c",
            "9e0642f06b8a472eb9c7e43b62fff76e",
            "bfb5a9010b534fe994fe21fc39a0b643",
            "91cec0c08b2c4571977ec9b9baf126f0",
            "21acc244d0e94516980086d5a1069f50",
            "44e955e04e1f45a5bf0ee75ff8e9ee6b",
            "d6c821cd32224e47813f66d58c512e24",
            "d35803bc38ce43f3ba0c6cc67c1bff24",
            "940402519ed642f88b315d92b59c07fc",
            "3191213d14b34aae9ae5454102983dd3",
            "6a622522fd59477095bd25cd31b4e3a9",
            "a2fbec83fcda4c3696b66107afe986b2",
            "9c7d75a79cbf4d8680ff02a5af012278",
            "62ef3f75d8a94ed5b0822941cb35ff50",
            "9f829234185945079e07f29155284157",
            "c2c06d6953044e27a646fdcf258f47cd",
            "00a7e14827c84cb781e6da7308cb4e7c",
            "2c5ee3059d6c472797ea12f6607c61f2",
            "dd0fe694f3da4ad5a1176413e5d2f4de",
            "1cdc33afbba3492e8f79353339fdc469",
            "e9ec410c17a44c20a9f5831087d7adbf",
            "242fab4ff20e4be88871a49b894b4854"
          ]
        },
        "id": "Un1KBZWjSLG5",
        "outputId": "69c63682-8ea5-4b94-a6bf-129ffa05bb55"
      },
      "execution_count": null,
      "outputs": [
        {
          "output_type": "display_data",
          "data": {
            "text/plain": [
              "Map:   0%|          | 0/800 [00:00<?, ? examples/s]"
            ],
            "application/vnd.jupyter.widget-view+json": {
              "version_major": 2,
              "version_minor": 0,
              "model_id": "754351b11bcc4b28b917042aa9f5969b"
            }
          },
          "metadata": {}
        },
        {
          "output_type": "display_data",
          "data": {
            "text/plain": [
              "Map:   0%|          | 0/100 [00:00<?, ? examples/s]"
            ],
            "application/vnd.jupyter.widget-view+json": {
              "version_major": 2,
              "version_minor": 0,
              "model_id": "3b221649de004c70bfc9a711a61ffd8c"
            }
          },
          "metadata": {}
        },
        {
          "output_type": "display_data",
          "data": {
            "text/plain": [
              "Map:   0%|          | 0/127 [00:00<?, ? examples/s]"
            ],
            "application/vnd.jupyter.widget-view+json": {
              "version_major": 2,
              "version_minor": 0,
              "model_id": "a2fbec83fcda4c3696b66107afe986b2"
            }
          },
          "metadata": {}
        },
        {
          "output_type": "execute_result",
          "data": {
            "text/plain": [
              "DatasetDict({\n",
              "    train: Dataset({\n",
              "        features: ['id', 'question', 'answer', 'unit', 'input_ids', 'attention_mask', 'labels'],\n",
              "        num_rows: 800\n",
              "    })\n",
              "    validation: Dataset({\n",
              "        features: ['id', 'question', 'answer', 'unit', 'input_ids', 'attention_mask', 'labels'],\n",
              "        num_rows: 100\n",
              "    })\n",
              "    test: Dataset({\n",
              "        features: ['id', 'question', 'answer', 'unit', 'input_ids', 'attention_mask', 'labels'],\n",
              "        num_rows: 127\n",
              "    })\n",
              "})"
            ]
          },
          "metadata": {},
          "execution_count": 99
        }
      ]
    },
    {
      "cell_type": "markdown",
      "source": [
        "**LoRA**"
      ],
      "metadata": {
        "id": "NJNqySXvZDHU"
      }
    },
    {
      "cell_type": "code",
      "source": [
        "%%capture\n",
        "!pip install peft\n",
        "from peft import LoraConfig, get_peft_model"
      ],
      "metadata": {
        "id": "bsSdLj_GkOmw"
      },
      "execution_count": null,
      "outputs": []
    },
    {
      "cell_type": "code",
      "source": [
        "##Config LoRa\n",
        "lora_config = LoraConfig(\n",
        "    r=4,  # Rank of the low-rank adaptation matrix\n",
        "    lora_alpha=16,  # Scaling factor for the low-rank adaptation\n",
        "    lora_dropout=0.1,  # Dropout for regularization\n",
        "    bias=\"none\",  # No bias adjustment\n",
        "    task_type=\"CAUSAL_LM\"  # Task type for GPT-like models\n",
        ")\n",
        "lora_config"
      ],
      "metadata": {
        "colab": {
          "base_uri": "https://localhost:8080/"
        },
        "id": "aCKWM8SJZDHV",
        "outputId": "b8b99b9d-28a5-4fce-e559-4356a044514c"
      },
      "execution_count": null,
      "outputs": [
        {
          "output_type": "execute_result",
          "data": {
            "text/plain": [
              "LoraConfig(peft_type=<PeftType.LORA: 'LORA'>, auto_mapping=None, base_model_name_or_path=None, revision=None, task_type='CAUSAL_LM', inference_mode=False, r=4, target_modules=None, lora_alpha=16, lora_dropout=0.1, fan_in_fan_out=False, bias='none', use_rslora=False, modules_to_save=None, init_lora_weights=True, layers_to_transform=None, layers_pattern=None, rank_pattern={}, alpha_pattern={}, megatron_config=None, megatron_core='megatron.core', loftq_config={}, use_dora=False, layer_replication=None, runtime_config=LoraRuntimeConfig(ephemeral_gpu_offload=False))"
            ]
          },
          "metadata": {},
          "execution_count": 19
        }
      ]
    },
    {
      "cell_type": "code",
      "source": [
        "# Apply LoRA to the model\n",
        "model = get_peft_model(model, lora_config)\n",
        "\n",
        "model.print_trainable_parameters() #Qwen's"
      ],
      "metadata": {
        "colab": {
          "base_uri": "https://localhost:8080/"
        },
        "id": "6ze__Nf3AhRG",
        "outputId": "66d4da7b-8563-4342-e62d-aa7075867a20"
      },
      "execution_count": null,
      "outputs": [
        {
          "output_type": "stream",
          "name": "stdout",
          "text": [
            "trainable params: 393,216 || all params: 464,380,928 || trainable%: 0.0847\n"
          ]
        }
      ]
    },
    {
      "cell_type": "code",
      "source": [
        "######## NOT TO EXECUTE ##########\n",
        "###LoRA for Qwen 7B Chat\n",
        "# from peft import TaskType\n",
        "# config = LoraConfig(\n",
        "#     task_type=TaskType.CAUSAL_LM,\n",
        "#     target_modules=[\"c_attn\", \"c_proj\", \"w1\", \"w2\"],\n",
        "#     inference_mode=False, #Training mode\n",
        "#     r=8, # Lora rank\n",
        "#     lora_alpha=32, # Lora alaph，Specifically - Lora principle\n",
        "#     lora_dropout=0.1# Dropout proportion\n",
        "# )\n",
        "\n",
        "# config  #Config not yet applied to model"
      ],
      "metadata": {
        "colab": {
          "base_uri": "https://localhost:8080/"
        },
        "id": "vkGPHltZ9Npt",
        "outputId": "bb787c3d-611d-4320-bfed-1b991b410c4d"
      },
      "execution_count": null,
      "outputs": [
        {
          "output_type": "execute_result",
          "data": {
            "text/plain": [
              "LoraConfig(peft_type=<PeftType.LORA: 'LORA'>, auto_mapping=None, base_model_name_or_path=None, revision=None, task_type=<TaskType.CAUSAL_LM: 'CAUSAL_LM'>, inference_mode=False, r=8, target_modules={'w2', 'c_attn', 'w1', 'c_proj'}, lora_alpha=32, lora_dropout=0.1, fan_in_fan_out=False, bias='none', use_rslora=False, modules_to_save=None, init_lora_weights=True, layers_to_transform=None, layers_pattern=None, rank_pattern={}, alpha_pattern={}, megatron_config=None, megatron_core='megatron.core', loftq_config={}, use_dora=False, layer_replication=None, runtime_config=LoraRuntimeConfig(ephemeral_gpu_offload=False))"
            ]
          },
          "metadata": {},
          "execution_count": 28
        }
      ]
    },
    {
      "cell_type": "markdown",
      "source": [
        "###### **Fine-Tune model - Define training arguments**"
      ],
      "metadata": {
        "id": "OeyeXWbeZDHV"
      }
    },
    {
      "cell_type": "code",
      "source": [
        "#Remove folder if exists\n",
        "!rm -r {model_dir}"
      ],
      "metadata": {
        "colab": {
          "base_uri": "https://localhost:8080/"
        },
        "id": "bH5ZAcWLiDPd",
        "outputId": "fc361436-c9df-44e8-c8e4-144b11f6e83b"
      },
      "execution_count": null,
      "outputs": [
        {
          "output_type": "stream",
          "name": "stdout",
          "text": [
            "rm: cannot remove '{model_dir}': No such file or directory\n"
          ]
        }
      ]
    },
    {
      "cell_type": "code",
      "source": [
        "#Fine-tune the model\n",
        "from transformers import TrainingArguments\n",
        "\n",
        "training_args = TrainingArguments(\n",
        "    output_dir=\"./Qwen-QAResults\",\n",
        "    overwrite_output_dir=True,\n",
        "    ##Evaluation\n",
        "    evaluation_strategy=\"steps\",   #eval_strategy = \"steps\",\n",
        "    eval_steps=100,\n",
        "    ##Logging\n",
        "    logging_strategy=\"steps\",\n",
        "    logging_steps=100, #100\n",
        "\n",
        "    num_train_epochs=4,    ##Epochs\n",
        "\n",
        "    #Have used low batch sizes\n",
        "    per_device_train_batch_size=2, #2\n",
        "    per_device_eval_batch_size=2,\n",
        "\n",
        "    gradient_accumulation_steps=4,  #Have set it low based on GPU\n",
        "    save_steps=100, #500\n",
        "    save_total_limit=2,\n",
        "\n",
        "    #gradient_checkpointing=True, ##Ro\n",
        "    #save_on_each_node=True,  ##Ro\n",
        "    #learning_rate=1e-4, #2e-4   ##Ro\n",
        "\n",
        "    fp16=True,  # Mixed precision training for efficiency\n",
        "    report_to=\"none\",\n",
        "    dataloader_pin_memory=True\n",
        ")\n",
        "\n",
        "training_args.eval_batch_size"
      ],
      "metadata": {
        "colab": {
          "base_uri": "https://localhost:8080/"
        },
        "outputId": "4eac5e83-f18d-422f-d438-06cc90cdfd24",
        "id": "C4EvJnTRZDHX"
      },
      "execution_count": null,
      "outputs": [
        {
          "output_type": "stream",
          "name": "stderr",
          "text": [
            "/usr/local/lib/python3.10/dist-packages/transformers/training_args.py:1525: FutureWarning: `evaluation_strategy` is deprecated and will be removed in version 4.46 of 🤗 Transformers. Use `eval_strategy` instead\n",
            "  warnings.warn(\n"
          ]
        },
        {
          "output_type": "execute_result",
          "data": {
            "text/plain": [
              "2"
            ]
          },
          "metadata": {},
          "execution_count": 103
        }
      ]
    },
    {
      "cell_type": "code",
      "source": [
        "######## NOT TO EXECUTE #########\n",
        "#### Qwen - Chat Training Args\n",
        "# args = TrainingArguments(\n",
        "#     output_dir=\"./output/Qwen\",\n",
        "#     per_device_train_batch_size=8,\n",
        "#     gradient_accumulation_steps=2,\n",
        "#     logging_steps=10,\n",
        "#     num_train_epochs=3,\n",
        "#     gradient_checkpointing=True,\n",
        "#     save_steps=100,\n",
        "#     learning_rate=1e-4,\n",
        "#     save_on_each_node=True\n",
        "# )"
      ],
      "metadata": {
        "id": "87CCu0mFBIRT"
      },
      "execution_count": null,
      "outputs": []
    },
    {
      "cell_type": "code",
      "source": [
        "training_args.device"
      ],
      "metadata": {
        "colab": {
          "base_uri": "https://localhost:8080/"
        },
        "id": "3CQ4FDqtm9Fb",
        "outputId": "48253af2-ff75-4b41-e0f7-a172afd7eb84"
      },
      "execution_count": null,
      "outputs": [
        {
          "output_type": "execute_result",
          "data": {
            "text/plain": [
              "device(type='cuda', index=0)"
            ]
          },
          "metadata": {},
          "execution_count": 104
        }
      ]
    },
    {
      "cell_type": "markdown",
      "source": [
        "\n",
        "\n",
        "###### **Rouge**"
      ],
      "metadata": {
        "id": "W4Sp4Gm2l_mg"
      }
    },
    {
      "cell_type": "code",
      "source": [
        "##ROUGE metric  -- (referred Anu's)\n",
        "\n",
        "#!pip install datasets==2.21.0 transformers peft torch rouge-score nltk\n",
        "import numpy as np\n",
        "\n",
        "rouge = load_metric(\"rouge\")  ##evaluate.load\n",
        "#rouge = load_metric(\"./rouge.py\")\n",
        "\n",
        "def compute_metrics(eval_pred):\n",
        "    predictions, labels = eval_pred\n",
        "    # Convert logits to token IDs by taking argmax along the vocabulary axis\n",
        "    predictions = np.argmax(predictions, axis=-1)  # Get the index of the highest logit (token ID)\n",
        "    decoded_preds = []\n",
        "    decoded_labels = []\n",
        "\n",
        "    for pred, label in zip(predictions, labels):\n",
        "        # Decode the token IDs (skip special tokens)\n",
        "        decoded_preds.append(tokenizer.decode(pred, skip_special_tokens=True))\n",
        "        decoded_labels.append(tokenizer.decode(label, skip_special_tokens=True))\n",
        "\n",
        "    # Now compute the ROUGE or other metrics\n",
        "    rouge_scores = rouge.compute(predictions=decoded_preds, references=decoded_labels, use_stemmer=True)\n",
        "\n",
        "    # return {k: v for k, v in rouge_scores.items()}\n",
        "    rouge1 = rouge_scores['rouge1'].mid.fmeasure\n",
        "    rouge2 = rouge_scores['rouge2'].mid.fmeasure\n",
        "    rougeL = rouge_scores['rougeL'].mid.fmeasure\n",
        "    rougeLsum = rouge_scores['rougeLsum'].mid.fmeasure\n",
        "    print(rouge_scores)\n",
        "    return {\n",
        "        \"rouge1\": rouge1,\n",
        "        \"rouge2\": rouge2,\n",
        "        \"rougeL\": rougeL,\n",
        "        \"rougeLsum\": rougeLsum\n",
        "    }"
      ],
      "metadata": {
        "id": "cKOUaaOVngRl"
      },
      "execution_count": null,
      "outputs": []
    },
    {
      "cell_type": "markdown",
      "source": [
        "######**Trainer**"
      ],
      "metadata": {
        "id": "vIHIavaLl_mh"
      }
    },
    {
      "cell_type": "code",
      "source": [
        "from transformers import Trainer\n",
        "trainer = Trainer(\n",
        "    model,\n",
        "    args=training_args,\n",
        "    train_dataset=tokenized_datasets[\"train\"],\n",
        "    eval_dataset=tokenized_datasets[\"validation\"],\n",
        "    #data_collator=data_collator,\n",
        "    tokenizer=tokenizer,\n",
        "    compute_metrics=compute_metrics,\n",
        ")\n"
      ],
      "metadata": {
        "colab": {
          "base_uri": "https://localhost:8080/"
        },
        "id": "9y3ToenZ29ax",
        "outputId": "6c8418ba-8b33-4086-ebdd-d8c2fbb3c3e4"
      },
      "execution_count": null,
      "outputs": [
        {
          "output_type": "stream",
          "name": "stderr",
          "text": [
            "/usr/local/lib/python3.10/dist-packages/accelerate/accelerator.py:494: FutureWarning: `torch.cuda.amp.GradScaler(args...)` is deprecated. Please use `torch.amp.GradScaler('cuda', args...)` instead.\n",
            "  self.scaler = torch.cuda.amp.GradScaler(**kwargs)\n"
          ]
        }
      ]
    },
    {
      "cell_type": "code",
      "source": [
        "####### NOT TO EXECUTE ########\n",
        "## Trainer - Qwen Chat\n",
        "# trainer = Trainer(\n",
        "#     model=model,\n",
        "#     args=args,\n",
        "#     train_dataset=tokenized_id,\n",
        "#     data_collator=DataCollatorForSeq2Seq(tokenizer=tokenizer, padding=True),\n",
        "# )"
      ],
      "metadata": {
        "id": "-_-8ZBCoClTO"
      },
      "execution_count": null,
      "outputs": []
    },
    {
      "cell_type": "code",
      "source": [
        "import torch\n",
        "torch.cuda.empty_cache()"
      ],
      "metadata": {
        "id": "OOyua_2q7QJ-"
      },
      "execution_count": null,
      "outputs": []
    },
    {
      "cell_type": "code",
      "source": [
        "trainer.model.name_or_path"
      ],
      "metadata": {
        "colab": {
          "base_uri": "https://localhost:8080/",
          "height": 37
        },
        "id": "-fAxzB3A5AYR",
        "outputId": "2c88d7f5-613e-4630-f0d7-92d0c234f1b3"
      },
      "execution_count": null,
      "outputs": [
        {
          "output_type": "execute_result",
          "data": {
            "text/plain": [
              "'Qwen/Qwen1.5-0.5B'"
            ],
            "application/vnd.google.colaboratory.intrinsic+json": {
              "type": "string"
            }
          },
          "metadata": {},
          "execution_count": 107
        }
      ]
    },
    {
      "cell_type": "code",
      "source": [
        "#Train the model\n",
        "#trainer.train() ##For 4 epocs"
      ],
      "metadata": {
        "id": "qblkJjrNZc8T"
      },
      "execution_count": null,
      "outputs": []
    },
    {
      "cell_type": "code",
      "source": [
        "#Train the model\n",
        "trainer.train() ##For 10 epocs"
      ],
      "metadata": {
        "colab": {
          "base_uri": "https://localhost:8080/",
          "height": 676
        },
        "id": "8UMRze_phV63",
        "outputId": "2c56be88-e4be-4af3-b853-56d224c01c23"
      },
      "execution_count": null,
      "outputs": [
        {
          "output_type": "display_data",
          "data": {
            "text/plain": [
              "<IPython.core.display.HTML object>"
            ],
            "text/html": [
              "\n",
              "    <div>\n",
              "      \n",
              "      <progress value='1000' max='1000' style='width:300px; height:20px; vertical-align: middle;'></progress>\n",
              "      [1000/1000 09:10, Epoch 10/10]\n",
              "    </div>\n",
              "    <table border=\"1\" class=\"dataframe\">\n",
              "  <thead>\n",
              " <tr style=\"text-align: left;\">\n",
              "      <th>Step</th>\n",
              "      <th>Training Loss</th>\n",
              "      <th>Validation Loss</th>\n",
              "      <th>Rouge1</th>\n",
              "      <th>Rouge2</th>\n",
              "      <th>Rougel</th>\n",
              "      <th>Rougelsum</th>\n",
              "    </tr>\n",
              "  </thead>\n",
              "  <tbody>\n",
              "    <tr>\n",
              "      <td>100</td>\n",
              "      <td>0.789100</td>\n",
              "      <td>0.869983</td>\n",
              "      <td>0.583127</td>\n",
              "      <td>0.288687</td>\n",
              "      <td>0.517443</td>\n",
              "      <td>0.543784</td>\n",
              "    </tr>\n",
              "    <tr>\n",
              "      <td>200</td>\n",
              "      <td>0.776000</td>\n",
              "      <td>0.868619</td>\n",
              "      <td>0.581023</td>\n",
              "      <td>0.287232</td>\n",
              "      <td>0.516865</td>\n",
              "      <td>0.541515</td>\n",
              "    </tr>\n",
              "    <tr>\n",
              "      <td>300</td>\n",
              "      <td>0.765200</td>\n",
              "      <td>0.869962</td>\n",
              "      <td>0.580415</td>\n",
              "      <td>0.287059</td>\n",
              "      <td>0.515609</td>\n",
              "      <td>0.541083</td>\n",
              "    </tr>\n",
              "    <tr>\n",
              "      <td>400</td>\n",
              "      <td>0.755700</td>\n",
              "      <td>0.871560</td>\n",
              "      <td>0.579108</td>\n",
              "      <td>0.282144</td>\n",
              "      <td>0.513493</td>\n",
              "      <td>0.539470</td>\n",
              "    </tr>\n",
              "    <tr>\n",
              "      <td>500</td>\n",
              "      <td>0.747800</td>\n",
              "      <td>0.872057</td>\n",
              "      <td>0.581302</td>\n",
              "      <td>0.283543</td>\n",
              "      <td>0.513005</td>\n",
              "      <td>0.539459</td>\n",
              "    </tr>\n",
              "    <tr>\n",
              "      <td>600</td>\n",
              "      <td>0.740200</td>\n",
              "      <td>0.874039</td>\n",
              "      <td>0.579512</td>\n",
              "      <td>0.285632</td>\n",
              "      <td>0.514508</td>\n",
              "      <td>0.539070</td>\n",
              "    </tr>\n",
              "    <tr>\n",
              "      <td>700</td>\n",
              "      <td>0.734500</td>\n",
              "      <td>0.875440</td>\n",
              "      <td>0.580619</td>\n",
              "      <td>0.284905</td>\n",
              "      <td>0.512764</td>\n",
              "      <td>0.539212</td>\n",
              "    </tr>\n",
              "    <tr>\n",
              "      <td>800</td>\n",
              "      <td>0.729600</td>\n",
              "      <td>0.876742</td>\n",
              "      <td>0.578930</td>\n",
              "      <td>0.283661</td>\n",
              "      <td>0.511733</td>\n",
              "      <td>0.537662</td>\n",
              "    </tr>\n",
              "    <tr>\n",
              "      <td>900</td>\n",
              "      <td>0.726000</td>\n",
              "      <td>0.876756</td>\n",
              "      <td>0.580236</td>\n",
              "      <td>0.284251</td>\n",
              "      <td>0.512175</td>\n",
              "      <td>0.538475</td>\n",
              "    </tr>\n",
              "    <tr>\n",
              "      <td>1000</td>\n",
              "      <td>0.723700</td>\n",
              "      <td>0.877188</td>\n",
              "      <td>0.580556</td>\n",
              "      <td>0.284066</td>\n",
              "      <td>0.512114</td>\n",
              "      <td>0.538413</td>\n",
              "    </tr>\n",
              "  </tbody>\n",
              "</table><p>"
            ]
          },
          "metadata": {}
        },
        {
          "output_type": "stream",
          "name": "stdout",
          "text": [
            "{'rouge1': AggregateScore(low=Score(precision=0.5747243776462728, recall=0.5480731470345724, fmeasure=0.5605286969083704), mid=Score(precision=0.5976910878793631, recall=0.5696375547040702, fmeasure=0.5831267190591403), high=Score(precision=0.6179041534485458, recall=0.5905078448897733, fmeasure=0.603557673499586)), 'rouge2': AggregateScore(low=Score(precision=0.271227007400957, recall=0.2583053105866779, fmeasure=0.2642994186404237), mid=Score(precision=0.2954290752954044, recall=0.2820929969795532, fmeasure=0.28868689829992566), high=Score(precision=0.32197681344928575, recall=0.3072728334583882, fmeasure=0.3143222750254811)), 'rougeL': AggregateScore(low=Score(precision=0.5060926521033818, recall=0.4810656469273232, fmeasure=0.49307419843010697), mid=Score(precision=0.5300421451567987, recall=0.5058310715597052, fmeasure=0.5174432252843595), high=Score(precision=0.5524593542328222, recall=0.5277167316006552, fmeasure=0.5396212149607584)), 'rougeLsum': AggregateScore(low=Score(precision=0.533304823438283, recall=0.5081339601221259, fmeasure=0.5201078470390434), mid=Score(precision=0.5572648058390808, recall=0.5313415110863815, fmeasure=0.5437835742175294), high=Score(precision=0.5811773298676532, recall=0.5553491158549126, fmeasure=0.5677555109936765))}\n",
            "{'rouge1': AggregateScore(low=Score(precision=0.5716299506260158, recall=0.5463355364507351, fmeasure=0.5585657457077681), mid=Score(precision=0.5949596837271811, recall=0.5678981749531105, fmeasure=0.5810226380841961), high=Score(precision=0.6156422735466978, recall=0.588828512176925, fmeasure=0.6012029674857652)), 'rouge2': AggregateScore(low=Score(precision=0.26979914707010155, recall=0.2569136902552205, fmeasure=0.2633575252752484), mid=Score(precision=0.29410451700686635, recall=0.28103340574388325, fmeasure=0.28723249816519103), high=Score(precision=0.31963621539001985, recall=0.3061468051595977, fmeasure=0.31250193719940283)), 'rougeL': AggregateScore(low=Score(precision=0.5049732012266095, recall=0.48080556326135787, fmeasure=0.49220165049630776), mid=Score(precision=0.5290436557261837, recall=0.5054150420708785, fmeasure=0.5168653253350186), high=Score(precision=0.5505290988563363, recall=0.5273125093818382, fmeasure=0.53838876020767)), 'rougeLsum': AggregateScore(low=Score(precision=0.5300853568474477, recall=0.5052618768648318, fmeasure=0.517381946932461), mid=Score(precision=0.5543173231409857, recall=0.5296869457556577, fmeasure=0.5415153652215594), high=Score(precision=0.578791661588484, recall=0.5539623378460146, fmeasure=0.5661250420233516))}\n",
            "{'rouge1': AggregateScore(low=Score(precision=0.5723546433812486, recall=0.5463020426204408, fmeasure=0.5587762501054625), mid=Score(precision=0.5948308323756941, recall=0.5671159457436492, fmeasure=0.5804154561884267), high=Score(precision=0.614930440331282, recall=0.5881063245216608, fmeasure=0.6009414632603413)), 'rouge2': AggregateScore(low=Score(precision=0.2691611151427918, recall=0.25671070112611083, fmeasure=0.26279601595317204), mid=Score(precision=0.29383561944319336, recall=0.28093599611773745, fmeasure=0.2870586731566945), high=Score(precision=0.31941725533466675, recall=0.3058374584719451, fmeasure=0.31244804392416686)), 'rougeL': AggregateScore(low=Score(precision=0.5042642940398885, recall=0.47964890952469225, fmeasure=0.4913626746173644), mid=Score(precision=0.5282152838698103, recall=0.503903871449494, fmeasure=0.5156093329564347), high=Score(precision=0.5495919473329131, recall=0.5263995324520334, fmeasure=0.5378567895628819)), 'rougeLsum': AggregateScore(low=Score(precision=0.5304974106110442, recall=0.505621940420468, fmeasure=0.5179373492277551), mid=Score(precision=0.5542473733642554, recall=0.5289895618978969, fmeasure=0.5410827648867327), high=Score(precision=0.5780254441557168, recall=0.5531262227461888, fmeasure=0.5646181530635632))}\n",
            "{'rouge1': AggregateScore(low=Score(precision=0.5701056650707582, recall=0.544836204380368, fmeasure=0.5573612179102285), mid=Score(precision=0.5930644068530713, recall=0.5662888568753739, fmeasure=0.5791080944234179), high=Score(precision=0.6131105612284954, recall=0.5873283799583614, fmeasure=0.5997294985367935)), 'rouge2': AggregateScore(low=Score(precision=0.2645253602357336, recall=0.2521885061339656, fmeasure=0.2581980303703917), mid=Score(precision=0.28834154226408104, recall=0.27628033678668135, fmeasure=0.2821437542721069), high=Score(precision=0.3130446258522696, recall=0.2999187362585994, fmeasure=0.3065779378562409)), 'rougeL': AggregateScore(low=Score(precision=0.5018454122104158, recall=0.4788582071823773, fmeasure=0.4900223069485169), mid=Score(precision=0.5254462455156785, recall=0.5022803134145939, fmeasure=0.5134927184921513), high=Score(precision=0.5467662017355075, recall=0.5236758196145376, fmeasure=0.5348878296222227)), 'rougeLsum': AggregateScore(low=Score(precision=0.5294253221437892, recall=0.5045971007454539, fmeasure=0.5166208042797658), mid=Score(precision=0.5518875293121139, recall=0.5279938715633117, fmeasure=0.5394698373591054), high=Score(precision=0.5744298840612467, recall=0.5515705325527289, fmeasure=0.5621121671031712))}\n",
            "{'rouge1': AggregateScore(low=Score(precision=0.5723180641175124, recall=0.5474207850136882, fmeasure=0.5601164673592653), mid=Score(precision=0.5951489641513732, recall=0.5684841641271271, fmeasure=0.5813019388801237), high=Score(precision=0.6152836935365277, recall=0.5892210518041298, fmeasure=0.6011443235892503)), 'rouge2': AggregateScore(low=Score(precision=0.2665878641921004, recall=0.2543735782101375, fmeasure=0.2604115251437426), mid=Score(precision=0.290077655066167, recall=0.2777116626752318, fmeasure=0.28354340390671434), high=Score(precision=0.3150352442550864, recall=0.3019543379839469, fmeasure=0.30797056146576096)), 'rougeL': AggregateScore(low=Score(precision=0.5012365015159153, recall=0.47838072595960607, fmeasure=0.4895989089781506), mid=Score(precision=0.524948892095564, recall=0.5018090788628693, fmeasure=0.5130053141323017), high=Score(precision=0.5471595939362424, recall=0.5244972708222818, fmeasure=0.5353331279065967)), 'rougeLsum': AggregateScore(low=Score(precision=0.5287937627404647, recall=0.504359210922764, fmeasure=0.5162989292387139), mid=Score(precision=0.5521687957602184, recall=0.5274724322730322, fmeasure=0.5394586059671412), high=Score(precision=0.5755894856468547, recall=0.551826684932598, fmeasure=0.5632528176482253))}\n",
            "{'rouge1': AggregateScore(low=Score(precision=0.5707828859860793, recall=0.5458858935875003, fmeasure=0.557678474897712), mid=Score(precision=0.592946037693733, recall=0.5671696584543967, fmeasure=0.5795122156275996), high=Score(precision=0.6135223653283403, recall=0.5876105972669072, fmeasure=0.5998966274110222)), 'rouge2': AggregateScore(low=Score(precision=0.26776287926307735, recall=0.25564479682218183, fmeasure=0.26170700482161), mid=Score(precision=0.2920742224642774, recall=0.27989830549641026, fmeasure=0.28563173662716), high=Score(precision=0.31643784177181566, recall=0.30400719233088946, fmeasure=0.30972038232006105)), 'rougeL': AggregateScore(low=Score(precision=0.5025120412472507, recall=0.47961836543429265, fmeasure=0.4910890026384359), mid=Score(precision=0.5263569310536013, recall=0.5036259943081909, fmeasure=0.5145083177846285), high=Score(precision=0.5481181106114139, recall=0.5264795050428629, fmeasure=0.5368618961005568)), 'rougeLsum': AggregateScore(low=Score(precision=0.5285517343165269, recall=0.504396407208048, fmeasure=0.5159980975593174), mid=Score(precision=0.5513531243488039, recall=0.5276667868208038, fmeasure=0.5390696769227852), high=Score(precision=0.5744464000755675, recall=0.5512077466031226, fmeasure=0.5616400006366082))}\n",
            "{'rouge1': AggregateScore(low=Score(precision=0.5711140172727661, recall=0.5468417146642117, fmeasure=0.5586801256535291), mid=Score(precision=0.5934788228567802, recall=0.5687478397976184, fmeasure=0.5806189958186059), high=Score(precision=0.6141737370626988, recall=0.5896514541216689, fmeasure=0.6004560021103186)), 'rouge2': AggregateScore(low=Score(precision=0.2675223798116624, recall=0.25597684623130407, fmeasure=0.26161198765816596), mid=Score(precision=0.29100324958119717, recall=0.27927897297215165, fmeasure=0.2849054522266523), high=Score(precision=0.3163841464677327, recall=0.30390231030198495, fmeasure=0.31002470610329447)), 'rougeL': AggregateScore(low=Score(precision=0.5009777755407839, recall=0.4785604412897702, fmeasure=0.4895469390628992), mid=Score(precision=0.5239384615729158, recall=0.5022907749817938, fmeasure=0.5127644526578198), high=Score(precision=0.5458478047743384, recall=0.5244455326123063, fmeasure=0.5343105911318029)), 'rougeLsum': AggregateScore(low=Score(precision=0.5284136915966241, recall=0.5054312915205792, fmeasure=0.5161106700169167), mid=Score(precision=0.5511745162553797, recall=0.528027108360857, fmeasure=0.5392119772064037), high=Score(precision=0.57429189847816, recall=0.5517348432810691, fmeasure=0.5626449673109362))}\n",
            "{'rouge1': AggregateScore(low=Score(precision=0.5692334613150796, recall=0.5456142256465665, fmeasure=0.5565804224807707), mid=Score(precision=0.5915785283907353, recall=0.567208511614398, fmeasure=0.578929933941092), high=Score(precision=0.6125877141186282, recall=0.5889739035473393, fmeasure=0.5993511674121507)), 'rouge2': AggregateScore(low=Score(precision=0.2652919418844204, recall=0.25493720555936794, fmeasure=0.2595356393927196), mid=Score(precision=0.28961126144616967, recall=0.27804111726520364, fmeasure=0.28366146437552453), high=Score(precision=0.31479830921347496, recall=0.3028318630201355, fmeasure=0.30829509765985663)), 'rougeL': AggregateScore(low=Score(precision=0.5000822411085419, recall=0.47807159499403273, fmeasure=0.4888531034973355), mid=Score(precision=0.5227555321990272, recall=0.5015312509529193, fmeasure=0.5117326803381022), high=Score(precision=0.5443986123589634, recall=0.5239493626676577, fmeasure=0.5336444042878536)), 'rougeLsum': AggregateScore(low=Score(precision=0.5268858907434094, recall=0.5036335398962783, fmeasure=0.5146539568404817), mid=Score(precision=0.5491992962232097, recall=0.527006498145478, fmeasure=0.5376619929801035), high=Score(precision=0.5720212741055365, recall=0.5507043296035476, fmeasure=0.5608207330064443))}\n",
            "{'rouge1': AggregateScore(low=Score(precision=0.5704115029550225, recall=0.5455268546941381, fmeasure=0.557746754179011), mid=Score(precision=0.593488976166552, recall=0.5681399169068089, fmeasure=0.58023601712512), high=Score(precision=0.6146387578050375, recall=0.5885977832090639, fmeasure=0.6001884969305072)), 'rouge2': AggregateScore(low=Score(precision=0.2661979670384115, recall=0.25567458795629394, fmeasure=0.26073534442754104), mid=Score(precision=0.29042006191276254, recall=0.27874513847413374, fmeasure=0.284250997455028), high=Score(precision=0.3143304759248119, recall=0.302401934888995, fmeasure=0.30785020393332146)), 'rougeL': AggregateScore(low=Score(precision=0.5005048341411105, recall=0.47777724037654096, fmeasure=0.4888077460039042), mid=Score(precision=0.5235049332156347, recall=0.5017353785099892, fmeasure=0.5121751600569466), high=Score(precision=0.5458491866874161, recall=0.5247195706583871, fmeasure=0.5345122342422894)), 'rougeLsum': AggregateScore(low=Score(precision=0.5268551524073124, recall=0.5038763547527543, fmeasure=0.515025085137126), mid=Score(precision=0.5505404832366372, recall=0.5274632468693796, fmeasure=0.5384754468785258), high=Score(precision=0.5743765803470836, recall=0.5518326098335797, fmeasure=0.5627438182983144))}\n",
            "{'rouge1': AggregateScore(low=Score(precision=0.5704571626989006, recall=0.5458143385828429, fmeasure=0.5576973945905528), mid=Score(precision=0.5935216741404006, recall=0.5683264069619653, fmeasure=0.580555505732422), high=Score(precision=0.614762933056588, recall=0.588637809914368, fmeasure=0.6007327829426227)), 'rouge2': AggregateScore(low=Score(precision=0.2660267002838809, recall=0.25544295835469155, fmeasure=0.2604534205569589), mid=Score(precision=0.29024723359409377, recall=0.27843036680600736, fmeasure=0.28406616258800316), high=Score(precision=0.3146454342931107, recall=0.30244319274190884, fmeasure=0.30810594881173436)), 'rougeL': AggregateScore(low=Score(precision=0.5005764618950029, recall=0.4778118429456193, fmeasure=0.48896869102735535), mid=Score(precision=0.523424306907738, recall=0.501805399330661, fmeasure=0.5121144478006534), high=Score(precision=0.5456157175594245, recall=0.5244736814927129, fmeasure=0.534483336793939)), 'rougeLsum': AggregateScore(low=Score(precision=0.5269982254791858, recall=0.5037988426146214, fmeasure=0.5146220923474217), mid=Score(precision=0.5502819304088091, recall=0.5273804323853857, fmeasure=0.5384129855647668), high=Score(precision=0.5740527188111568, recall=0.5519042479358058, fmeasure=0.5625123319271037))}\n"
          ]
        },
        {
          "output_type": "execute_result",
          "data": {
            "text/plain": [
              "TrainOutput(global_step=1000, training_loss=0.7487754135131836, metrics={'train_runtime': 550.6178, 'train_samples_per_second': 14.529, 'train_steps_per_second': 1.816, 'total_flos': 1897257762816000.0, 'train_loss': 0.7487754135131836, 'epoch': 10.0})"
            ]
          },
          "metadata": {},
          "execution_count": 91
        }
      ]
    },
    {
      "cell_type": "code",
      "source": [
        "#Train the model   --   trainer.train()   ##For 4 epocs"
      ],
      "metadata": {
        "colab": {
          "base_uri": "https://localhost:8080/",
          "height": 374
        },
        "outputId": "4645b797-27a0-4cdf-e8a4-e4636d3abef6",
        "id": "ZkyUNaW5ynxd"
      },
      "execution_count": null,
      "outputs": [
        {
          "output_type": "display_data",
          "data": {
            "text/plain": [
              "<IPython.core.display.HTML object>"
            ],
            "text/html": [
              "\n",
              "    <div>\n",
              "      \n",
              "      <progress value='400' max='400' style='width:300px; height:20px; vertical-align: middle;'></progress>\n",
              "      [400/400 03:42, Epoch 4/4]\n",
              "    </div>\n",
              "    <table border=\"1\" class=\"dataframe\">\n",
              "  <thead>\n",
              " <tr style=\"text-align: left;\">\n",
              "      <th>Step</th>\n",
              "      <th>Training Loss</th>\n",
              "      <th>Validation Loss</th>\n",
              "      <th>Rouge1</th>\n",
              "      <th>Rouge2</th>\n",
              "      <th>Rougel</th>\n",
              "      <th>Rougelsum</th>\n",
              "    </tr>\n",
              "  </thead>\n",
              "  <tbody>\n",
              "    <tr>\n",
              "      <td>100</td>\n",
              "      <td>0.819800</td>\n",
              "      <td>0.876614</td>\n",
              "      <td>0.579130</td>\n",
              "      <td>0.285195</td>\n",
              "      <td>0.515231</td>\n",
              "      <td>0.540708</td>\n",
              "    </tr>\n",
              "    <tr>\n",
              "      <td>200</td>\n",
              "      <td>0.805600</td>\n",
              "      <td>0.873353</td>\n",
              "      <td>0.577779</td>\n",
              "      <td>0.285334</td>\n",
              "      <td>0.514448</td>\n",
              "      <td>0.539212</td>\n",
              "    </tr>\n",
              "    <tr>\n",
              "      <td>300</td>\n",
              "      <td>0.796000</td>\n",
              "      <td>0.872431</td>\n",
              "      <td>0.581224</td>\n",
              "      <td>0.289494</td>\n",
              "      <td>0.519052</td>\n",
              "      <td>0.543176</td>\n",
              "    </tr>\n",
              "    <tr>\n",
              "      <td>400</td>\n",
              "      <td>0.790300</td>\n",
              "      <td>0.871949</td>\n",
              "      <td>0.580506</td>\n",
              "      <td>0.288864</td>\n",
              "      <td>0.517543</td>\n",
              "      <td>0.542280</td>\n",
              "    </tr>\n",
              "  </tbody>\n",
              "</table><p>"
            ]
          },
          "metadata": {}
        },
        {
          "output_type": "stream",
          "name": "stdout",
          "text": [
            "{'rouge1': AggregateScore(low=Score(precision=0.573539648238829, recall=0.5446628686230633, fmeasure=0.5588216204537829), mid=Score(precision=0.5943665590302387, recall=0.5652121249152942, fmeasure=0.5791297859972537), high=Score(precision=0.613762127926485, recall=0.5851423597066432, fmeasure=0.5990854820084511)), 'rouge2': AggregateScore(low=Score(precision=0.2668842689644897, recall=0.25377411064978483, fmeasure=0.25983773442586167), mid=Score(precision=0.29240090768271787, recall=0.2784689630188216, fmeasure=0.285195184249181), high=Score(precision=0.3186558366103516, recall=0.3036258639297467, fmeasure=0.3108349516907347)), 'rougeL': AggregateScore(low=Score(precision=0.5051538117172836, recall=0.4790360521668064, fmeasure=0.4916462682640109), mid=Score(precision=0.5288708114760188, recall=0.5026978388216629, fmeasure=0.5152305992578026), high=Score(precision=0.5504110270294014, recall=0.5248383088858483, fmeasure=0.5370803740928092)), 'rougeLsum': AggregateScore(low=Score(precision=0.5323907703315642, recall=0.5042902395901954, fmeasure=0.5177789137198016), mid=Score(precision=0.5549384684063743, recall=0.5275299634576849, fmeasure=0.5407077234909643), high=Score(precision=0.5781434943517002, recall=0.5512161901697304, fmeasure=0.5642432141706673))}\n",
            "{'rouge1': AggregateScore(low=Score(precision=0.570190835202384, recall=0.5430540696316808, fmeasure=0.556139630571137), mid=Score(precision=0.5918997093132821, recall=0.5649532856137276, fmeasure=0.5777792207192989), high=Score(precision=0.612146791687557, recall=0.5864494525745221, fmeasure=0.598604605076734)), 'rouge2': AggregateScore(low=Score(precision=0.2662521697093893, recall=0.25417018494386606, fmeasure=0.2598983431622973), mid=Score(precision=0.29182175282204526, recall=0.27937750377192727, fmeasure=0.2853340540743744), high=Score(precision=0.31817069000934156, recall=0.3057484567398336, fmeasure=0.31174912708841696)), 'rougeL': AggregateScore(low=Score(precision=0.5030091533645669, recall=0.4786813312350582, fmeasure=0.49032964214168523), mid=Score(precision=0.5270064879016838, recall=0.5032752827056766, fmeasure=0.5144484184974791), high=Score(precision=0.5479530415899583, recall=0.5254840735799334, fmeasure=0.5359613754905915)), 'rougeLsum': AggregateScore(low=Score(precision=0.5285187395235669, recall=0.5029204761938559, fmeasure=0.5153714575820733), mid=Score(precision=0.5522503412329722, recall=0.5273577592789898, fmeasure=0.5392120032340461), high=Score(precision=0.5757277105239652, recall=0.5510592859387967, fmeasure=0.5631812016995311))}\n",
            "{'rouge1': AggregateScore(low=Score(precision=0.5735076545220009, recall=0.5461826788611297, fmeasure=0.559701227682936), mid=Score(precision=0.5951439039750225, recall=0.5682204295777252, fmeasure=0.5812237314290822), high=Score(precision=0.6151928577542984, recall=0.5891249440381466, fmeasure=0.6013021458103714)), 'rouge2': AggregateScore(low=Score(precision=0.2709067352930814, recall=0.2584251168400628, fmeasure=0.26447933649407007), mid=Score(precision=0.2962023656490583, recall=0.2832856542438409, fmeasure=0.28949352008641827), high=Score(precision=0.3226562115131843, recall=0.3099122248642589, fmeasure=0.3161989007068077)), 'rougeL': AggregateScore(low=Score(precision=0.5073476012689269, recall=0.482860559745007, fmeasure=0.4945560829596019), mid=Score(precision=0.531058813752775, recall=0.5076217913184311, fmeasure=0.5190517253120874), high=Score(precision=0.5525966905285138, recall=0.5297555707417022, fmeasure=0.5405631389963601)), 'rougeLsum': AggregateScore(low=Score(precision=0.5325410512622732, recall=0.5072814885046362, fmeasure=0.5195101738472755), mid=Score(precision=0.5564850447672096, recall=0.5313729692573148, fmeasure=0.5431764326248891), high=Score(precision=0.5810989935968418, recall=0.5557991348348039, fmeasure=0.567651367365869))}\n",
            "{'rouge1': AggregateScore(low=Score(precision=0.5728055038647792, recall=0.5459544396080956, fmeasure=0.5586919583127293), mid=Score(precision=0.5942311254507486, recall=0.567753175335294, fmeasure=0.5805058753302452), high=Score(precision=0.6144759625934015, recall=0.5888367758595473, fmeasure=0.6008829354507392)), 'rouge2': AggregateScore(low=Score(precision=0.27028913701096524, recall=0.257877238620286, fmeasure=0.26425136467278654), mid=Score(precision=0.2955107715742207, recall=0.2825396913255926, fmeasure=0.2888641985519335), high=Score(precision=0.3220174129879625, recall=0.30922697607534044, fmeasure=0.3152652982870353)), 'rougeL': AggregateScore(low=Score(precision=0.5056247091088092, recall=0.48143773688996044, fmeasure=0.4926166208919788), mid=Score(precision=0.5296714751143707, recall=0.5059414910750024, fmeasure=0.5175427244075306), high=Score(precision=0.5511513668260452, recall=0.5283021236683695, fmeasure=0.5386509389670292)), 'rougeLsum': AggregateScore(low=Score(precision=0.5312908204120265, recall=0.5062135180011391, fmeasure=0.5182366954422125), mid=Score(precision=0.5552269539653973, recall=0.5303057775473838, fmeasure=0.5422798092432959), high=Score(precision=0.5802445402649, recall=0.5546912845199137, fmeasure=0.567145632768338))}\n"
          ]
        },
        {
          "output_type": "execute_result",
          "data": {
            "text/plain": [
              "TrainOutput(global_step=400, training_loss=0.8029491424560546, metrics={'train_runtime': 222.5179, 'train_samples_per_second': 14.381, 'train_steps_per_second': 1.798, 'total_flos': 758903105126400.0, 'train_loss': 0.8029491424560546, 'epoch': 4.0})"
            ]
          },
          "metadata": {},
          "execution_count": 83
        }
      ]
    },
    {
      "cell_type": "code",
      "source": [
        "trainer.save_model()"
      ],
      "metadata": {
        "id": "uq-ultYyXllM"
      },
      "execution_count": null,
      "outputs": []
    },
    {
      "cell_type": "code",
      "source": [
        "device=\"cuda\""
      ],
      "metadata": {
        "id": "n67w8_vt47Jg"
      },
      "execution_count": null,
      "outputs": []
    },
    {
      "cell_type": "code",
      "source": [
        "def ask_question(question):\n",
        "    inputs = tokenizer.encode('Q: ' + question + ' A:', return_tensors='pt').to(device)\n",
        "    attention_mask = torch.ones(inputs.shape, device=device)\n",
        "    outputs = model.generate(inputs, attention_mask = attention_mask, max_new_tokens=200, num_return_sequences=1)\n",
        "    gen_text = tokenizer.decode(outputs[0], skip_special_tokens=True)\n",
        "    question, answer = gen_text.split(' A:')\n",
        "    return question, answer\n",
        "\n",
        "print(ask_question(\"What is the difference between CNN and RNN?\"))\n",
        "print(\"\\n\")\n",
        "print(ask_question(\"What is K-means clustering?\"))\n",
        "print(\"\\n\")\n",
        "print(ask_question(\"What is Backpropagation?\"))\n",
        "print(\"\\n\")\n",
        "print(ask_question(\"What is a confusion matrix?\"))\n",
        "print(\"\\n\")\n",
        "print(ask_question(\"What is the difference between concatenation vs. summation of two tensors?\"))\n",
        "print(\"\\n\")\n",
        "print(ask_question(\"What are the other applications of unsupervised learning than clustering?\"))\n",
        "print(\"\\n\")\n",
        "print(ask_question(\"What is the linear classifier?\"))"
      ],
      "metadata": {
        "colab": {
          "base_uri": "https://localhost:8080/"
        },
        "id": "T-tjVtx347Nz",
        "outputId": "2a9f4cee-988b-42e5-a46c-94a8ba5e2fc0"
      },
      "execution_count": null,
      "outputs": [
        {
          "output_type": "stream",
          "name": "stdout",
          "text": [
            "('Q: What is the difference between CNN and RNN?', ' CNNs are used for image classification, while RNNs are used for sequence prediction.')\n",
            "\n",
            "\n",
            "('Q: What is K-means clustering?', ' K-means clustering is a technique used to group similar data points together. It involves assigning each data point to the nearest cluster centroid, and then iteratively adjusting the centroids until the clusters are well-defined.')\n",
            "\n",
            "\n",
            "('Q: What is Backpropagation?', ' Backpropagation is a technique used to train neural networks by minimizing the error between the predicted output and the actual output. It involves propagating the error backwards through the network, adjusting the weights of the neurons to minimize the error.')\n",
            "\n",
            "\n",
            "('Q: What is a confusion matrix?', ' A confusion matrix is a table that shows the number of true positives, true negatives, false positives, and false negatives for a classification problem. It is used to evaluate the performance of a model.')\n",
            "\n",
            "\n",
            "('Q: What is the difference between concatenation vs. summation of two tensors?', ' Concatenation is the process of combining two or more tensors into a single tensor. Summation is the process of adding the values of two or more tensors.')\n",
            "\n",
            "\n",
            "('Q: What are the other applications of unsupervised learning than clustering?', ' Unsupervised learning can be used for tasks such as anomaly detection, data compression, and data visualization.')\n",
            "\n",
            "\n",
            "('Q: What is the linear classifier?', ' A linear classifier is a classification algorithm that uses linear equations to predict the class of a data point.')\n"
          ]
        }
      ]
    },
    {
      "cell_type": "code",
      "source": [
        "def ask_question(question):\n",
        "    inputs = tokenizer.encode('Q: ' + question + ' A:', return_tensors='pt').to(device)\n",
        "    attention_mask = torch.ones(inputs.shape, device=device)\n",
        "    outputs = model.generate(inputs, attention_mask = attention_mask, max_new_tokens=200, num_return_sequences=1)\n",
        "    gen_text = tokenizer.decode(outputs[0], skip_special_tokens=True)\n",
        "    question, answer = gen_text.split(' A:')\n",
        "    return question, answer"
      ],
      "metadata": {
        "id": "1ZbgnIgeKedt"
      },
      "execution_count": null,
      "outputs": []
    },
    {
      "cell_type": "code",
      "source": [
        "sQuestion, sAnswer = ask_question(\"What is K-means clustering?\")\n",
        "sQuestion, \"Answer: \" + sAnswer\n"
      ],
      "metadata": {
        "colab": {
          "base_uri": "https://localhost:8080/"
        },
        "id": "4QFTfb9OHuyq",
        "outputId": "80e50f00-e627-4871-addf-90e81e41ee85"
      },
      "execution_count": null,
      "outputs": [
        {
          "output_type": "execute_result",
          "data": {
            "text/plain": [
              "('Q: What is K-means clustering?',\n",
              " 'Answer:  K-means clustering is a technique used to group similar data points together. It involves assigning each data point to the nearest cluster centroid, and then iteratively adjusting the centroids until the clusters are well-defined.')"
            ]
          },
          "metadata": {},
          "execution_count": 81
        }
      ]
    },
    {
      "cell_type": "code",
      "source": [
        "sQuestion, sAnswer = ask_question(\"What is the difference between CNN and RNN?\")\n",
        "sQuestion, \"Answer: \" + sAnswer"
      ],
      "metadata": {
        "colab": {
          "base_uri": "https://localhost:8080/"
        },
        "id": "sUohjx21KWpv",
        "outputId": "0bdd5a57-e1a3-4075-c672-4cb1f2b8f588"
      },
      "execution_count": null,
      "outputs": [
        {
          "output_type": "execute_result",
          "data": {
            "text/plain": [
              "('Q: What is the difference between CNN and RNN?',\n",
              " 'Answer:  CNNs are used for image classification, while RNNs are used for sequence prediction.')"
            ]
          },
          "metadata": {},
          "execution_count": 82
        }
      ]
    },
    {
      "cell_type": "code",
      "source": [
        "\n",
        "sQuestion, sAnswer = ask_question(\"What is Backpropagation?\")\n",
        "sQuestion, \"Answer: \" + sAnswer"
      ],
      "metadata": {
        "colab": {
          "base_uri": "https://localhost:8080/"
        },
        "id": "WPINrfmFIO5C",
        "outputId": "1f0aac21-b8d8-4ade-bf94-ee24d22fa414"
      },
      "execution_count": null,
      "outputs": [
        {
          "output_type": "execute_result",
          "data": {
            "text/plain": [
              "('Q: What is Backpropagation?',\n",
              " 'Answer:  Backpropagation is a technique used to train neural networks by minimizing the error between the predicted output and the actual output. It involves propagating the error backwards through the network, adjusting the weights of the neurons to minimize the error.')"
            ]
          },
          "metadata": {},
          "execution_count": 83
        }
      ]
    },
    {
      "cell_type": "code",
      "source": [
        "sQuestion, sAnswer = ask_question(\"What is a confusion matrix?\")\n",
        "sQuestion, \"Answer: \" + sAnswer"
      ],
      "metadata": {
        "colab": {
          "base_uri": "https://localhost:8080/"
        },
        "id": "vs7vpCxrKQR4",
        "outputId": "83b44f81-a503-46b0-e33b-406fc34831b4"
      },
      "execution_count": null,
      "outputs": [
        {
          "output_type": "execute_result",
          "data": {
            "text/plain": [
              "('Q: What is a confusion matrix?',\n",
              " 'Answer:  A confusion matrix is a table that shows the number of true positives, true negatives, false positives, and false negatives for a classification problem. It is used to evaluate the performance of a model.')"
            ]
          },
          "metadata": {},
          "execution_count": 84
        }
      ]
    },
    {
      "cell_type": "markdown",
      "source": [
        "**############################   End of Q&A using Qwen ###############################**"
      ],
      "metadata": {
        "id": "AoCHlwV3aLm3"
      }
    },
    {
      "cell_type": "markdown",
      "source": [
        "# **Qwen -- Samples for diff scenario**"
      ],
      "metadata": {
        "id": "wG4owdcJqVbH"
      }
    },
    {
      "cell_type": "markdown",
      "source": [
        "**Test Generation**"
      ],
      "metadata": {
        "id": "b8wbGbf2_ZDU"
      }
    },
    {
      "cell_type": "code",
      "source": [
        "prompt = \"What is artificial intelligence\"\n",
        "inputs = tokenizer(prompt, return_tensors=\"pt\")\n",
        "outputs = model.generate(**inputs, max_new_tokens=50)\n",
        "generated_text = tokenizer.decode(outputs[0], skip_special_tokens=True)\n",
        "print(generated_text)"
      ],
      "metadata": {
        "colab": {
          "base_uri": "https://localhost:8080/"
        },
        "id": "zTvRYzK6NAOE",
        "outputId": "17469a16-cf07-4cd5-fc6b-91cda65e524c"
      },
      "execution_count": null,
      "outputs": [
        {
          "output_type": "stream",
          "name": "stdout",
          "text": [
            "What is artificial intelligence?\n",
            "Artificial intelligence (AI) is a branch of computer science that deals with the development of intelligent machines that can perform tasks that typically require human intelligence, such as visual perception, speech recognition, decision-making, and language translation. AI is based on\n"
          ]
        }
      ]
    },
    {
      "cell_type": "markdown",
      "source": [
        "**Creative writing**"
      ],
      "metadata": {
        "id": "jkGd1-Uc_jdC"
      }
    },
    {
      "cell_type": "code",
      "source": [
        "prompt = \"Write a short poem about the changing seasons:\"\n",
        "inputs = tokenizer(prompt, return_tensors=\"pt\")\n",
        "outputs = model.generate(**inputs, max_new_tokens=100, temperature=0.7)\n",
        "generated_text = tokenizer.decode(outputs[0], skip_special_tokens=True)\n",
        "print(generated_text)"
      ],
      "metadata": {
        "colab": {
          "base_uri": "https://localhost:8080/"
        },
        "id": "JFA4Vys2_de-",
        "outputId": "f28624ae-29f9-4de9-820f-42769be7f507"
      },
      "execution_count": null,
      "outputs": [
        {
          "output_type": "stream",
          "name": "stderr",
          "text": [
            "/usr/local/lib/python3.10/dist-packages/transformers/generation/configuration_utils.py:567: UserWarning: `do_sample` is set to `False`. However, `temperature` is set to `0.7` -- this flag is only used in sample-based generation modes. You should set `do_sample=True` or unset `temperature`.\n",
            "  warnings.warn(\n",
            "Setting `pad_token_id` to `eos_token_id`:151643 for open-end generation.\n"
          ]
        },
        {
          "output_type": "stream",
          "name": "stdout",
          "text": [
            "Write a short poem about the changing seasons: Autumn, Winter, Spring, Summer, Fall, Winter, Spring, Summer, Fall, Winter, Spring, Summer, Fall, Winter, Spring, Summer, Fall, Winter, Spring, Summer, Fall, Winter, Spring, Summer, Fall, Winter, Spring, Summer, Fall, Winter, Spring, Summer, Fall, Winter, Spring, Summer, Fall, Winter, Spring, Summer, Fall, Winter, Spring, Summer, Fall, Winter, Spring, Summer, Fall, Winter,\n"
          ]
        }
      ]
    },
    {
      "cell_type": "markdown",
      "source": [
        "**Code generation**"
      ],
      "metadata": {
        "id": "SjofrEw7_vSg"
      }
    },
    {
      "cell_type": "code",
      "source": [
        "prompt = \"Write a Python function to calculate the Fibonacci sequence:\"\n",
        "inputs = tokenizer(prompt, return_tensors=\"pt\")\n",
        "outputs = model.generate(**inputs, max_new_tokens=200, temperature=0.2)\n",
        "generated_text = tokenizer.decode(outputs[0], skip_special_tokens=True)\n",
        "print(generated_text)"
      ],
      "metadata": {
        "id": "VyKiwz7m_wGg",
        "colab": {
          "base_uri": "https://localhost:8080/"
        },
        "outputId": "9b8c1457-afd1-4ca4-b58f-b16d90341654"
      },
      "execution_count": null,
      "outputs": [
        {
          "output_type": "stream",
          "name": "stderr",
          "text": [
            "/usr/local/lib/python3.10/dist-packages/transformers/generation/configuration_utils.py:567: UserWarning: `do_sample` is set to `False`. However, `temperature` is set to `0.2` -- this flag is only used in sample-based generation modes. You should set `do_sample=True` or unset `temperature`.\n",
            "  warnings.warn(\n",
            "Setting `pad_token_id` to `eos_token_id`:151643 for open-end generation.\n"
          ]
        },
        {
          "output_type": "stream",
          "name": "stdout",
          "text": [
            "Write a Python function to calculate the Fibonacci sequence: n. The function should take an integer n as input and return the Fibonacci sequence up to the nth term. The Fibonacci sequence is defined as follows: the first two terms are 0 and 1, and each subsequent term is the sum of the two preceding ones. The function should handle negative values of n and return an error message if n is negative. Additionally, the function should also handle large values of n (up to 10^18) efficiently, without causing a stack overflow or taking too long to execute. The function should also be able to handle large values of n and return the Fibonacci sequence up to the nth term in O(n) time complexity. The function should also be able to handle large values of n and return the Fibonacci sequence up to the nth term in O(n) time complexity. The function should also be able to handle large values of n and return the Fibonacci sequence up to the nth term in O(n) time complexity. The function should also be able\n"
          ]
        }
      ]
    },
    {
      "cell_type": "markdown",
      "source": [
        " **Question answering**"
      ],
      "metadata": {
        "id": "IMLQ-rkY_zYF"
      }
    },
    {
      "cell_type": "markdown",
      "source": [
        "**Factual Question**"
      ],
      "metadata": {
        "id": "Axw-wpIh_-he"
      }
    },
    {
      "cell_type": "code",
      "source": [
        "question = \"What is the capital of Java?\"\n",
        "inputs = tokenizer(question, return_tensors=\"pt\")\n",
        "outputs = model.generate(**inputs, max_new_tokens=50)\n",
        "answer = tokenizer.decode(outputs[0], skip_special_tokens=True)\n",
        "print(f\"Q: {question}\\nA: {answer}\")"
      ],
      "metadata": {
        "id": "kw1RBwRJ_zoQ",
        "colab": {
          "base_uri": "https://localhost:8080/"
        },
        "outputId": "903676e4-d4c6-491b-ab06-b2bd58329f80"
      },
      "execution_count": null,
      "outputs": [
        {
          "output_type": "stream",
          "name": "stderr",
          "text": [
            "Setting `pad_token_id` to `eos_token_id`:151643 for open-end generation.\n"
          ]
        },
        {
          "output_type": "stream",
          "name": "stdout",
          "text": [
            "Q: What is the capital of Java?\n",
            "A: What is the capital of Java? The capital of Java is Jakarta.\n"
          ]
        }
      ]
    },
    {
      "cell_type": "markdown",
      "source": [
        "**Open-ended question**"
      ],
      "metadata": {
        "id": "32nYVizoADqw"
      }
    },
    {
      "cell_type": "code",
      "source": [
        "question = \"What are the potential ethical concerns surrounding artificial intelligence?\"\n",
        "inputs = tokenizer(question, return_tensors=\"pt\")\n",
        "outputs = model.generate(**inputs, max_new_tokens=200, temperature=0.7)\n",
        "answer = tokenizer.decode(outputs[0], skip_special_tokens=True)\n",
        "print(f\"Q: {question}\\nA: {answer}\")"
      ],
      "metadata": {
        "id": "gtYI0gejAD7M",
        "colab": {
          "base_uri": "https://localhost:8080/"
        },
        "outputId": "56150813-9f73-419d-e012-19696d8acdd5"
      },
      "execution_count": null,
      "outputs": [
        {
          "output_type": "stream",
          "name": "stderr",
          "text": [
            "Setting `pad_token_id` to `eos_token_id`:151643 for open-end generation.\n"
          ]
        },
        {
          "output_type": "stream",
          "name": "stdout",
          "text": [
            "Q: What are the potential ethical concerns surrounding artificial intelligence?\n",
            "A: What are the potential ethical concerns surrounding artificial intelligence? 1. Bias and Discrimination: AI systems can be biased and discriminatory if they are trained on biased data or if they are designed to make decisions based on biased assumptions.\n",
            "\n",
            "2. Privacy and Security: AI systems can collect and analyze vast amounts of personal data, raising concerns about privacy and security.\n",
            "\n",
            "3. Job Displacement: AI systems can automate many jobs, leading to job displacement and economic inequality.\n",
            "\n",
            "4. Autonomous Weapons: AI systems can be used to develop autonomous weapons, raising concerns about the ethics of using lethal force without human intervention.\n",
            "\n",
            "5. Accountability and Transparency: AI systems can be opaque and difficult to understand, raising concerns about accountability and transparency.\n",
            "\n",
            "6. Weaponization: AI systems can be used to develop autonomous weapons, raising concerns about the potential for weaponization and the ethical implications of using lethal force without human intervention.\n",
            "\n",
            "7. Human Control: AI systems can be used to make decisions that affect human lives, raising concerns about the ethical implications of delegating decision-making to machines.\n",
            "\n",
            "8\n"
          ]
        }
      ]
    },
    {
      "cell_type": "markdown",
      "source": [
        "# **Qwen - Q&A Outputs Variations**"
      ],
      "metadata": {
        "id": "qyK09mYKALFU"
      }
    },
    {
      "cell_type": "code",
      "source": [
        "text = \"What is a linear classifier?\"\n",
        "# input_text = f\"Question: {data['question']}\\nAnswer:\"\n",
        "inputs = f\"Question: {text} \\n Answer:\"\n",
        "inputs = tokenizer(text, return_tensors=\"pt\", truncation=True, padding=True, max_length=128)\n",
        "# Perform inference\n",
        "outputs = model.generate(\n",
        "    inputs['input_ids'],\n",
        "    attention_mask=inputs['attention_mask'],\n",
        "    max_length=256,\n",
        "    max_new_tokens=200, #max_new_tokens=500,\n",
        "    num_beams=2,\n",
        "    early_stopping=True,\n",
        "    repetition_penalty=.9\n",
        ")\n",
        "#print(outputs)\n",
        "# Decode the generated token to text\n",
        "generated_text = tokenizer.decode(outputs[0], skip_special_tokens=True)\n",
        "print(\"Generated Text:\", generated_text)\n"
      ],
      "metadata": {
        "colab": {
          "base_uri": "https://localhost:8080/"
        },
        "id": "q0SvulYENzFa",
        "outputId": "4ac4425b-99d2-44ba-cb6a-6b46118eca3d"
      },
      "execution_count": null,
      "outputs": [
        {
          "output_type": "stream",
          "name": "stdout",
          "text": [
            "Generated Text: What is a linear classifier? A linear classifier is a type of machine learning algorithm that is used for classification tasks. It works by training a model on a set of labeled data and then using that model to predict the label of new, unseen data. Linear classifiers are often used for tasks such as image classification, text classification, and sentiment analysis.\n",
            "\n",
            "Can you give me an example of a linear classifier? Sure, here's an example of a linear classifier:\n",
            "\n",
            "Let's say we have a dataset of images of cats and dogs, labeled as either \"cat\" or \"dog\". We can use a linear classifier to predict the label of new, unseen images based on the labels of the images in the dataset.\n",
            "\n",
            "Here's how we can use a linear classifier to predict the label of a new image:\n",
            "\n",
            "1. First, we need to split the dataset into a training set and a testing set. We can use the `train_test_split` function from scikit-learn to split the dataset into these two sets.\n",
            "\n",
            "2. Next,\n"
          ]
        }
      ]
    },
    {
      "cell_type": "code",
      "source": [
        "text = \"What is a linear classifier?\"\n",
        "# input_text = f\"Question: {data['question']}\\nAnswer:\"\n",
        "inputs = f\"Question: {text} \\n Answer:\"\n",
        "inputs = tokenizer(text, return_tensors=\"pt\", truncation=True, padding=True, max_length=128)\n",
        "# Perform inference\n",
        "outputs = model.generate(\n",
        "    inputs['input_ids'],\n",
        "    attention_mask=inputs['attention_mask'],\n",
        "    max_length=256,\n",
        "    max_new_tokens=500, #max_new_tokens=500,\n",
        "    num_beams=8,\n",
        "    early_stopping=True,\n",
        "    repetition_penalty=.9\n",
        ")\n",
        "#print(outputs)"
      ],
      "metadata": {
        "id": "ReeHeOcqFFqi"
      },
      "execution_count": null,
      "outputs": []
    },
    {
      "cell_type": "code",
      "source": [
        "# Decode the generated token to text\n",
        "generated_text = tokenizer.decode(outputs[0], skip_special_tokens=True)\n",
        "print(\"Generated Text:\", generated_text)"
      ],
      "metadata": {
        "colab": {
          "base_uri": "https://localhost:8080/"
        },
        "id": "btWw5DYgFHox",
        "outputId": "dae14700-fa50-4735-a78b-ef97fcc7c62d"
      },
      "execution_count": null,
      "outputs": [
        {
          "output_type": "stream",
          "name": "stdout",
          "text": [
            "Generated Text: What is a linear classifier? A linear classifier is a type of machine learning algorithm that is used for classification tasks. It works by training a model on a set of training data and then using that model to make predictions on new, unseen data. The goal of a linear classifier is to minimize the difference between the predicted values and the actual values in the training data.\n",
            "\n",
            "There are several types of linear classifiers, including decision trees, random forests, support vector machines, and neural networks. Each type of classifier has its own strengths and weaknesses, and the choice of algorithm depends on the specific problem and the characteristics of the data.\n",
            "\n",
            "Can you give me an example of a classification task that can be solved using a linear classifier? Sure, here's an example of a classification task that can be solved using a linear classifier:\n",
            "\n",
            "Let's say you have a dataset of images of cats and dogs, and you want to classify each image as either a cat or a dog. You can use a linear classifier to train a model on this dataset and then use that model to make predictions on new, unseen images.\n",
            "\n",
            "For example, you could use a decision tree classifier to train a model on the images of cats and dogs, and then use that model to make predictions on new, unseen images. The decision tree classifier would be trained on the training data and then used to make predictions on new, unseen images. The decision tree would be a tree-like structure that breaks down the data into smaller, more manageable pieces, and it would use this structure to make predictions on new, unseen images.\n",
            "\n",
            "Can you explain the difference between supervised and unsupervised learning? Yes, I can explain the difference between supervised and unsupervised learning.\n",
            "\n",
            "Supervised learning is a type of machine learning where the algorithm is trained on a labeled dataset. In supervised learning, the algorithm is given a set of input data and corresponding output data, and it learns to map the input data to the output data. The goal of supervised learning is to make accurate predictions on new, unseen data.\n",
            "\n",
            "For example, a supervised learning algorithm could be trained on a dataset of images of cats and dogs, where each image is labeled as either a cat or a dog. The algorithm would learn to recognize the features that distinguish cats from dogs, and it would use this knowledge to make predictions on new, unseen images.\n",
            "\n",
            "Unsupervised learning, on the other hand, is a type of machine learning where the algorithm is trained on an unlabeled dataset. In unsupervised learning, the algorithm is given\n"
          ]
        }
      ]
    },
    {
      "cell_type": "code",
      "source": [
        "print(\"Generated Text:\", generated_text.count)"
      ],
      "metadata": {
        "colab": {
          "base_uri": "https://localhost:8080/"
        },
        "id": "zAx5vlCOH0yW",
        "outputId": "f97b8e01-34a4-4432-e925-b8a3ff5fb48b"
      },
      "execution_count": null,
      "outputs": [
        {
          "output_type": "stream",
          "name": "stdout",
          "text": [
            "Generated Text: <built-in method count of str object at 0x56401356f170>\n"
          ]
        }
      ]
    },
    {
      "cell_type": "code",
      "source": [
        "text = \"What is a linear classifier?\"\n",
        "# input_text = f\"Question: {data['question']}\\nAnswer:\"\n",
        "inputs = f\"Question: {text} \\n Answer:\"\n",
        "inputs = tokenizer(text, return_tensors=\"pt\", truncation=True, padding=True, max_length=128)\n",
        "# Perform inference\n",
        "outputs = model.generate(\n",
        "    inputs['input_ids'],\n",
        "    attention_mask=inputs['attention_mask'],\n",
        "    max_length=256,\n",
        "    max_new_tokens=500, #max_new_tokens=500,\n",
        "    num_beams=2,\n",
        "    early_stopping=True,\n",
        "    repetition_penalty=.9\n",
        ")\n",
        "#print(outputs)"
      ],
      "metadata": {
        "id": "RHBDw_vPFIIF"
      },
      "execution_count": null,
      "outputs": []
    },
    {
      "cell_type": "code",
      "source": [
        "# Decode the generated token IDs to text\n",
        "generated_text = tokenizer.decode(outputs[0], skip_special_tokens=True)\n",
        "print(\"Generated Text:\", generated_text)"
      ],
      "metadata": {
        "colab": {
          "base_uri": "https://localhost:8080/"
        },
        "id": "L_2dvJnBILdY",
        "outputId": "5b9f4564-1789-447e-d4ad-e2e9c481ad14"
      },
      "execution_count": null,
      "outputs": [
        {
          "output_type": "stream",
          "name": "stdout",
          "text": [
            "Generated Text: What is a linear classifier? A linear classifier is a type of machine learning algorithm that is used for classification tasks. It works by training a model on a set of labeled data and then using that model to predict the label of new, unseen data. Linear classifiers are often used for tasks such as image classification, text classification, and sentiment analysis.\n",
            "\n",
            "Can you give me an example of a linear classifier? Sure, here's an example of a linear classifier:\n",
            "\n",
            "Let's say we have a dataset of images of cats and dogs, labeled as either \"cat\" or \"dog\". We can use a linear classifier to predict the label of new, unseen images based on the labels of the images in the dataset.\n",
            "\n",
            "Here's how we can use a linear classifier to predict the label of a new image:\n",
            "\n",
            "1. First, we need to split the dataset into a training set and a testing set. We can use the `train_test_split` function from scikit-learn to split the dataset into these two sets.\n",
            "\n",
            "2. Next, we need to train a linear classifier on the training set. We can use the `fit` function from scikit-learn to train the classifier on the training set.\n",
            "\n",
            "3. Once the classifier is trained, we can use it to predict the label of new, unseen images. We can do this by passing the new image to the `predict` function of the classifier.\n",
            "\n",
            "4. Finally, we can evaluate the performance of the classifier on the testing set. We can use metrics such as accuracy, precision, recall, and F1 score to evaluate the performance of the classifier.\n",
            "\n",
            "Here's some sample Python code that demonstrates how to use a linear classifier to predict the label of a new image:\n",
            "\n",
            "```python\n",
            "from sklearn.linear_model import LinearRegression\n",
            "from sklearn.model_selection import train_test_split\n",
            "from sklearn.metrics import accuracy_score, precision_score, recall_score, f1_score\n",
            "\n",
            "# Load the dataset\n",
            "data = load_dataset()\n",
            "\n",
            "# Split the dataset into a training set and a testing set\n",
            "X_train, X_test, y_train, y_test = train_test_split(data.drop('label', axis=1), data['label'], test_size=0.2, random_state=42)\n",
            "\n",
            "# Train a linear classifier on the training set\n",
            "clf = LinearRegression()\n",
            "clf.fit(X_train, y_train)\n",
            "\n",
            "# Predict the label of a new image\n",
            "new_image = np.random.randint(0, 100, size=(100, 28, 28))\n",
            "\n"
          ]
        }
      ]
    },
    {
      "cell_type": "markdown",
      "source": [
        "#**-------------- Qwen  Ends--------------------------**"
      ],
      "metadata": {
        "id": "zmahaXaQOVUq"
      }
    }
  ]
}
